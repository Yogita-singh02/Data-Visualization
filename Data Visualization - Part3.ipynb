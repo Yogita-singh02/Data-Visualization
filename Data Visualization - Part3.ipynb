{
 "cells": [
  {
   "cell_type": "code",
   "execution_count": 17,
   "id": "47ff96c1",
   "metadata": {},
   "outputs": [],
   "source": [
    "import pandas as pd \n",
    "import numpy as np \n",
    "import matplotlib.pyplot as plt\n",
    "import seaborn as sns \n",
    "from  plotly.offline import iplot\n",
    "import plotly as py \n",
    "import plotly.tools as tls \n",
    "import cufflinks as cf"
   ]
  },
  {
   "cell_type": "code",
   "execution_count": 18,
   "id": "7066b9bc",
   "metadata": {},
   "outputs": [
    {
     "data": {
      "text/html": [
       "        <script type=\"text/javascript\">\n",
       "        window.PlotlyConfig = {MathJaxConfig: 'local'};\n",
       "        if (window.MathJax && window.MathJax.Hub && window.MathJax.Hub.Config) {window.MathJax.Hub.Config({SVG: {font: \"STIX-Web\"}});}\n",
       "        if (typeof require !== 'undefined') {\n",
       "        require.undef(\"plotly\");\n",
       "        requirejs.config({\n",
       "            paths: {\n",
       "                'plotly': ['https://cdn.plot.ly/plotly-2.12.1.min']\n",
       "            }\n",
       "        });\n",
       "        require(['plotly'], function(Plotly) {\n",
       "            window._Plotly = Plotly;\n",
       "        });\n",
       "        }\n",
       "        </script>\n",
       "        "
      ]
     },
     "metadata": {},
     "output_type": "display_data"
    },
    {
     "data": {
      "text/html": [
       "        <script type=\"text/javascript\">\n",
       "        window.PlotlyConfig = {MathJaxConfig: 'local'};\n",
       "        if (window.MathJax && window.MathJax.Hub && window.MathJax.Hub.Config) {window.MathJax.Hub.Config({SVG: {font: \"STIX-Web\"}});}\n",
       "        if (typeof require !== 'undefined') {\n",
       "        require.undef(\"plotly\");\n",
       "        requirejs.config({\n",
       "            paths: {\n",
       "                'plotly': ['https://cdn.plot.ly/plotly-2.12.1.min']\n",
       "            }\n",
       "        });\n",
       "        require(['plotly'], function(Plotly) {\n",
       "            window._Plotly = Plotly;\n",
       "        });\n",
       "        }\n",
       "        </script>\n",
       "        "
      ]
     },
     "metadata": {},
     "output_type": "display_data"
    }
   ],
   "source": [
    "py.offline.init_notebook_mode(connected=True)\n",
    "cf.go_offline()"
   ]
  },
  {
   "cell_type": "code",
   "execution_count": 19,
   "id": "36aa68c8",
   "metadata": {},
   "outputs": [],
   "source": [
    "df1 = sns.load_dataset(\"iris\")"
   ]
  },
  {
   "cell_type": "code",
   "execution_count": 20,
   "id": "46afd0df",
   "metadata": {},
   "outputs": [
    {
     "data": {
      "text/html": [
       "<div>\n",
       "<style scoped>\n",
       "    .dataframe tbody tr th:only-of-type {\n",
       "        vertical-align: middle;\n",
       "    }\n",
       "\n",
       "    .dataframe tbody tr th {\n",
       "        vertical-align: top;\n",
       "    }\n",
       "\n",
       "    .dataframe thead th {\n",
       "        text-align: right;\n",
       "    }\n",
       "</style>\n",
       "<table border=\"1\" class=\"dataframe\">\n",
       "  <thead>\n",
       "    <tr style=\"text-align: right;\">\n",
       "      <th></th>\n",
       "      <th>sepal_length</th>\n",
       "      <th>sepal_width</th>\n",
       "      <th>petal_length</th>\n",
       "      <th>petal_width</th>\n",
       "      <th>species</th>\n",
       "    </tr>\n",
       "  </thead>\n",
       "  <tbody>\n",
       "    <tr>\n",
       "      <th>0</th>\n",
       "      <td>5.1</td>\n",
       "      <td>3.5</td>\n",
       "      <td>1.4</td>\n",
       "      <td>0.2</td>\n",
       "      <td>setosa</td>\n",
       "    </tr>\n",
       "    <tr>\n",
       "      <th>1</th>\n",
       "      <td>4.9</td>\n",
       "      <td>3.0</td>\n",
       "      <td>1.4</td>\n",
       "      <td>0.2</td>\n",
       "      <td>setosa</td>\n",
       "    </tr>\n",
       "    <tr>\n",
       "      <th>2</th>\n",
       "      <td>4.7</td>\n",
       "      <td>3.2</td>\n",
       "      <td>1.3</td>\n",
       "      <td>0.2</td>\n",
       "      <td>setosa</td>\n",
       "    </tr>\n",
       "    <tr>\n",
       "      <th>3</th>\n",
       "      <td>4.6</td>\n",
       "      <td>3.1</td>\n",
       "      <td>1.5</td>\n",
       "      <td>0.2</td>\n",
       "      <td>setosa</td>\n",
       "    </tr>\n",
       "    <tr>\n",
       "      <th>4</th>\n",
       "      <td>5.0</td>\n",
       "      <td>3.6</td>\n",
       "      <td>1.4</td>\n",
       "      <td>0.2</td>\n",
       "      <td>setosa</td>\n",
       "    </tr>\n",
       "  </tbody>\n",
       "</table>\n",
       "</div>"
      ],
      "text/plain": [
       "   sepal_length  sepal_width  petal_length  petal_width species\n",
       "0           5.1          3.5           1.4          0.2  setosa\n",
       "1           4.9          3.0           1.4          0.2  setosa\n",
       "2           4.7          3.2           1.3          0.2  setosa\n",
       "3           4.6          3.1           1.5          0.2  setosa\n",
       "4           5.0          3.6           1.4          0.2  setosa"
      ]
     },
     "execution_count": 20,
     "metadata": {},
     "output_type": "execute_result"
    }
   ],
   "source": [
    "df1.head()"
   ]
  },
  {
   "cell_type": "code",
   "execution_count": 21,
   "id": "d4fc38f2",
   "metadata": {},
   "outputs": [
    {
     "data": {
      "text/plain": [
       "<AxesSubplot:>"
      ]
     },
     "execution_count": 21,
     "metadata": {},
     "output_type": "execute_result"
    },
    {
     "data": {
      "image/png": "[encoded data removed]",
      "text/plain": [
       "<Figure size 432x288 with 1 Axes>"
      ]
     },
     "metadata": {
      "needs_background": "light"
     },
     "output_type": "display_data"
    }
   ],
   "source": [
    "df1.plot()"
   ]
  },
  {
   "cell_type": "code",
   "execution_count": 22,
   "id": "28d99fd7",
   "metadata": {},
   "outputs": [
    {
     "data": {
      "application/vnd.plotly.v1+json": {
       "config": {
        "linkText": "Export to plot.ly",
        "plotlyServerURL": "https://plot.ly",
        "showLink": true
       },
       "data": [
        {
         "line": {
          "color": "rgba(255, 153, 51, 1.0)",
          "dash": "solid",
          "shape": "linear",
          "width": 1.3
         },
         "mode": "lines",
         "name": "sepal_length",
         "text": "",
         "type": "scatter",
         "x": [
          0,
          1,
          2,
          3,
          4,
          5,
          6,
          7,
          8,
          9,
          10,
          11,
          12,
          13,
          14,
          15,
          16,
          17,
          18,
          19,
          20,
          21,
          22,
          23,
          24,
          25,
          26,
          27,
          28,
          29,
          30,
          31,
          32,
          33,
          34,
          35,
          36,
          37,
          38,
          39,
          40,
          41,
          42,
          43,
          44,
          45,
          46,
          47,
          48,
          49,
          50,
          51,
          52,
          53,
          54,
          55,
          56,
          57,
          58,
          59,
          60,
          61,
          62,
          63,
          64,
          65,
          66,
          67,
          68,
          69,
          70,
          71,
          72,
          73,
          74,
          75,
          76,
          77,
          78,
          79,
          80,
          81,
          82,
          83,
          84,
          85,
          86,
          87,
          88,
          89,
          90,
          91,
          92,
          93,
          94,
          95,
          96,
          97,
          98,
          99,
          100,
          101,
          102,
          103,
          104,
          105,
          106,
          107,
          108,
          109,
          110,
          111,
          112,
          113,
          114,
          115,
          116,
          117,
          118,
          119,
          120,
          121,
          122,
          123,
          124,
          125,
          126,
          127,
          128,
          129,
          130,
          131,
          132,
          133,
          134,
          135,
          136,
          137,
          138,
          139,
          140,
          141,
          142,
          143,
          144,
          145,
          146,
          147,
          148,
          149
         ],
         "y": [
          5.1,
          4.9,
          4.7,
          4.6,
          5,
          5.4,
          4.6,
          5,
          4.4,
          4.9,
          5.4,
          4.8,
          4.8,
          4.3,
          5.8,
          5.7,
          5.4,
          5.1,
          5.7,
          5.1,
          5.4,
          5.1,
          4.6,
          5.1,
          4.8,
          5,
          5,
          5.2,
          5.2,
          4.7,
          4.8,
          5.4,
          5.2,
          5.5,
          4.9,
          5,
          5.5,
          4.9,
          4.4,
          5.1,
          5,
          4.5,
          4.4,
          5,
          5.1,
          4.8,
          5.1,
          4.6,
          5.3,
          5,
          7,
          6.4,
          6.9,
          5.5,
          6.5,
          5.7,
          6.3,
          4.9,
          6.6,
          5.2,
          5,
          5.9,
          6,
          6.1,
          5.6,
          6.7,
          5.6,
          5.8,
          6.2,
          5.6,
          5.9,
          6.1,
          6.3,
          6.1,
          6.4,
          6.6,
          6.8,
          6.7,
          6,
          5.7,
          5.5,
          5.5,
          5.8,
          6,
          5.4,
          6,
          6.7,
          6.3,
          5.6,
          5.5,
          5.5,
          6.1,
          5.8,
          5,
          5.6,
          5.7,
          5.7,
          6.2,
          5.1,
          5.7,
          6.3,
          5.8,
          7.1,
          6.3,
          6.5,
          7.6,
          4.9,
          7.3,
          6.7,
          7.2,
          6.5,
          6.4,
          6.8,
          5.7,
          5.8,
          6.4,
          6.5,
          7.7,
          7.7,
          6,
          6.9,
          5.6,
          7.7,
          6.3,
          6.7,
          7.2,
          6.2,
          6.1,
          6.4,
          7.2,
          7.4,
          7.9,
          6.4,
          6.3,
          6.1,
          7.7,
          6.3,
          6.4,
          6,
          6.9,
          6.7,
          6.9,
          5.8,
          6.8,
          6.7,
          6.7,
          6.3,
          6.5,
          6.2,
          5.9
         ]
        },
        {
         "line": {
          "color": "rgba(55, 128, 191, 1.0)",
          "dash": "solid",
          "shape": "linear",
          "width": 1.3
         },
         "mode": "lines",
         "name": "sepal_width",
         "text": "",
         "type": "scatter",
         "x": [
          0,
          1,
          2,
          3,
          4,
          5,
          6,
          7,
          8,
          9,
          10,
          11,
          12,
          13,
          14,
          15,
          16,
          17,
          18,
          19,
          20,
          21,
          22,
          23,
          24,
          25,
          26,
          27,
          28,
          29,
          30,
          31,
          32,
          33,
          34,
          35,
          36,
          37,
          38,
          39,
          40,
          41,
          42,
          43,
          44,
          45,
          46,
          47,
          48,
          49,
          50,
          51,
          52,
          53,
          54,
          55,
          56,
          57,
          58,
          59,
          60,
          61,
          62,
          63,
          64,
          65,
          66,
          67,
          68,
          69,
          70,
          71,
          72,
          73,
          74,
          75,
          76,
          77,
          78,
          79,
          80,
          81,
          82,
          83,
          84,
          85,
          86,
          87,
          88,
          89,
          90,
          91,
          92,
          93,
          94,
          95,
          96,
          97,
          98,
          99,
          100,
          101,
          102,
          103,
          104,
          105,
          106,
          107,
          108,
          109,
          110,
          111,
          112,
          113,
          114,
          115,
          116,
          117,
          118,
          119,
          120,
          121,
          122,
          123,
          124,
          125,
          126,
          127,
          128,
          129,
          130,
          131,
          132,
          133,
          134,
          135,
          136,
          137,
          138,
          139,
          140,
          141,
          142,
          143,
          144,
          145,
          146,
          147,
          148,
          149
         ],
         "y": [
          3.5,
          3,
          3.2,
          3.1,
          3.6,
          3.9,
          3.4,
          3.4,
          2.9,
          3.1,
          3.7,
          3.4,
          3,
          3,
          4,
          4.4,
          3.9,
          3.5,
          3.8,
          3.8,
          3.4,
          3.7,
          3.6,
          3.3,
          3.4,
          3,
          3.4,
          3.5,
          3.4,
          3.2,
          3.1,
          3.4,
          4.1,
          4.2,
          3.1,
          3.2,
          3.5,
          3.6,
          3,
          3.4,
          3.5,
          2.3,
          3.2,
          3.5,
          3.8,
          3,
          3.8,
          3.2,
          3.7,
          3.3,
          3.2,
          3.2,
          3.1,
          2.3,
          2.8,
          2.8,
          3.3,
          2.4,
          2.9,
          2.7,
          2,
          3,
          2.2,
          2.9,
          2.9,
          3.1,
          3,
          2.7,
          2.2,
          2.5,
          3.2,
          2.8,
          2.5,
          2.8,
          2.9,
          3,
          2.8,
          3,
          2.9,
          2.6,
          2.4,
          2.4,
          2.7,
          2.7,
          3,
          3.4,
          3.1,
          2.3,
          3,
          2.5,
          2.6,
          3,
          2.6,
          2.3,
          2.7,
          3,
          2.9,
          2.9,
          2.5,
          2.8,
          3.3,
          2.7,
          3,
          2.9,
          3,
          3,
          2.5,
          2.9,
          2.5,
          3.6,
          3.2,
          2.7,
          3,
          2.5,
          2.8,
          3.2,
          3,
          3.8,
          2.6,
          2.2,
          3.2,
          2.8,
          2.8,
          2.7,
          3.3,
          3.2,
          2.8,
          3,
          2.8,
          3,
          2.8,
          3.8,
          2.8,
          2.8,
          2.6,
          3,
          3.4,
          3.1,
          3,
          3.1,
          3.1,
          3.1,
          2.7,
          3.2,
          3.3,
          3,
          2.5,
          3,
          3.4,
          3
         ]
        },
        {
         "line": {
          "color": "rgba(50, 171, 96, 1.0)",
          "dash": "solid",
          "shape": "linear",
          "width": 1.3
         },
         "mode": "lines",
         "name": "petal_length",
         "text": "",
         "type": "scatter",
         "x": [
          0,
          1,
          2,
          3,
          4,
          5,
          6,
          7,
          8,
          9,
          10,
          11,
          12,
          13,
          14,
          15,
          16,
          17,
          18,
          19,
          20,
          21,
          22,
          23,
          24,
          25,
          26,
          27,
          28,
          29,
          30,
          31,
          32,
          33,
          34,
          35,
          36,
          37,
          38,
          39,
          40,
          41,
          42,
          43,
          44,
          45,
          46,
          47,
          48,
          49,
          50,
          51,
          52,
          53,
          54,
          55,
          56,
          57,
          58,
          59,
          60,
          61,
          62,
          63,
          64,
          65,
          66,
          67,
          68,
          69,
          70,
          71,
          72,
          73,
          74,
          75,
          76,
          77,
          78,
          79,
          80,
          81,
          82,
          83,
          84,
          85,
          86,
          87,
          88,
          89,
          90,
          91,
          92,
          93,
          94,
          95,
          96,
          97,
          98,
          99,
          100,
          101,
          102,
          103,
          104,
          105,
          106,
          107,
          108,
          109,
          110,
          111,
          112,
          113,
          114,
          115,
          116,
          117,
          118,
          119,
          120,
          121,
          122,
          123,
          124,
          125,
          126,
          127,
          128,
          129,
          130,
          131,
          132,
          133,
          134,
          135,
          136,
          137,
          138,
          139,
          140,
          141,
          142,
          143,
          144,
          145,
          146,
          147,
          148,
          149
         ],
         "y": [
          1.4,
          1.4,
          1.3,
          1.5,
          1.4,
          1.7,
          1.4,
          1.5,
          1.4,
          1.5,
          1.5,
          1.6,
          1.4,
          1.1,
          1.2,
          1.5,
          1.3,
          1.4,
          1.7,
          1.5,
          1.7,
          1.5,
          1,
          1.7,
          1.9,
          1.6,
          1.6,
          1.5,
          1.4,
          1.6,
          1.6,
          1.5,
          1.5,
          1.4,
          1.5,
          1.2,
          1.3,
          1.4,
          1.3,
          1.5,
          1.3,
          1.3,
          1.3,
          1.6,
          1.9,
          1.4,
          1.6,
          1.4,
          1.5,
          1.4,
          4.7,
          4.5,
          4.9,
          4,
          4.6,
          4.5,
          4.7,
          3.3,
          4.6,
          3.9,
          3.5,
          4.2,
          4,
          4.7,
          3.6,
          4.4,
          4.5,
          4.1,
          4.5,
          3.9,
          4.8,
          4,
          4.9,
          4.7,
          4.3,
          4.4,
          4.8,
          5,
          4.5,
          3.5,
          3.8,
          3.7,
          3.9,
          5.1,
          4.5,
          4.5,
          4.7,
          4.4,
          4.1,
          4,
          4.4,
          4.6,
          4,
          3.3,
          4.2,
          4.2,
          4.2,
          4.3,
          3,
          4.1,
          6,
          5.1,
          5.9,
          5.6,
          5.8,
          6.6,
          4.5,
          6.3,
          5.8,
          6.1,
          5.1,
          5.3,
          5.5,
          5,
          5.1,
          5.3,
          5.5,
          6.7,
          6.9,
          5,
          5.7,
          4.9,
          6.7,
          4.9,
          5.7,
          6,
          4.8,
          4.9,
          5.6,
          5.8,
          6.1,
          6.4,
          5.6,
          5.1,
          5.6,
          6.1,
          5.6,
          5.5,
          4.8,
          5.4,
          5.6,
          5.1,
          5.1,
          5.9,
          5.7,
          5.2,
          5,
          5.2,
          5.4,
          5.1
         ]
        },
        {
         "line": {
          "color": "rgba(128, 0, 128, 1.0)",
          "dash": "solid",
          "shape": "linear",
          "width": 1.3
         },
         "mode": "lines",
         "name": "petal_width",
         "text": "",
         "type": "scatter",
         "x": [
          0,
          1,
          2,
          3,
          4,
          5,
          6,
          7,
          8,
          9,
          10,
          11,
          12,
          13,
          14,
          15,
          16,
          17,
          18,
          19,
          20,
          21,
          22,
          23,
          24,
          25,
          26,
          27,
          28,
          29,
          30,
          31,
          32,
          33,
          34,
          35,
          36,
          37,
          38,
          39,
          40,
          41,
          42,
          43,
          44,
          45,
          46,
          47,
          48,
          49,
          50,
          51,
          52,
          53,
          54,
          55,
          56,
          57,
          58,
          59,
          60,
          61,
          62,
          63,
          64,
          65,
          66,
          67,
          68,
          69,
          70,
          71,
          72,
          73,
          74,
          75,
          76,
          77,
          78,
          79,
          80,
          81,
          82,
          83,
          84,
          85,
          86,
          87,
          88,
          89,
          90,
          91,
          92,
          93,
          94,
          95,
          96,
          97,
          98,
          99,
          100,
          101,
          102,
          103,
          104,
          105,
          106,
          107,
          108,
          109,
          110,
          111,
          112,
          113,
          114,
          115,
          116,
          117,
          118,
          119,
          120,
          121,
          122,
          123,
          124,
          125,
          126,
          127,
          128,
          129,
          130,
          131,
          132,
          133,
          134,
          135,
          136,
          137,
          138,
          139,
          140,
          141,
          142,
          143,
          144,
          145,
          146,
          147,
          148,
          149
         ],
         "y": [
          0.2,
          0.2,
          0.2,
          0.2,
          0.2,
          0.4,
          0.3,
          0.2,
          0.2,
          0.1,
          0.2,
          0.2,
          0.1,
          0.1,
          0.2,
          0.4,
          0.4,
          0.3,
          0.3,
          0.3,
          0.2,
          0.4,
          0.2,
          0.5,
          0.2,
          0.2,
          0.4,
          0.2,
          0.2,
          0.2,
          0.2,
          0.4,
          0.1,
          0.2,
          0.2,
          0.2,
          0.2,
          0.1,
          0.2,
          0.2,
          0.3,
          0.3,
          0.2,
          0.6,
          0.4,
          0.3,
          0.2,
          0.2,
          0.2,
          0.2,
          1.4,
          1.5,
          1.5,
          1.3,
          1.5,
          1.3,
          1.6,
          1,
          1.3,
          1.4,
          1,
          1.5,
          1,
          1.4,
          1.3,
          1.4,
          1.5,
          1,
          1.5,
          1.1,
          1.8,
          1.3,
          1.5,
          1.2,
          1.3,
          1.4,
          1.4,
          1.7,
          1.5,
          1,
          1.1,
          1,
          1.2,
          1.6,
          1.5,
          1.6,
          1.5,
          1.3,
          1.3,
          1.3,
          1.2,
          1.4,
          1.2,
          1,
          1.3,
          1.2,
          1.3,
          1.3,
          1.1,
          1.3,
          2.5,
          1.9,
          2.1,
          1.8,
          2.2,
          2.1,
          1.7,
          1.8,
          1.8,
          2.5,
          2,
          1.9,
          2.1,
          2,
          2.4,
          2.3,
          1.8,
          2.2,
          2.3,
          1.5,
          2.3,
          2,
          2,
          1.8,
          2.1,
          1.8,
          1.8,
          1.8,
          2.1,
          1.6,
          1.9,
          2,
          2.2,
          1.5,
          1.4,
          2.3,
          2.4,
          1.8,
          1.8,
          2.1,
          2.4,
          2.3,
          1.9,
          2.3,
          2.5,
          2.3,
          1.9,
          2,
          2.3,
          1.8
         ]
        },
        {
         "line": {
          "color": "rgba(219, 64, 82, 1.0)",
          "dash": "solid",
          "shape": "linear",
          "width": 1.3
         },
         "mode": "lines",
         "name": "species",
         "text": "",
         "type": "scatter",
         "x": [
          0,
          1,
          2,
          3,
          4,
          5,
          6,
          7,
          8,
          9,
          10,
          11,
          12,
          13,
          14,
          15,
          16,
          17,
          18,
          19,
          20,
          21,
          22,
          23,
          24,
          25,
          26,
          27,
          28,
          29,
          30,
          31,
          32,
          33,
          34,
          35,
          36,
          37,
          38,
          39,
          40,
          41,
          42,
          43,
          44,
          45,
          46,
          47,
          48,
          49,
          50,
          51,
          52,
          53,
          54,
          55,
          56,
          57,
          58,
          59,
          60,
          61,
          62,
          63,
          64,
          65,
          66,
          67,
          68,
          69,
          70,
          71,
          72,
          73,
          74,
          75,
          76,
          77,
          78,
          79,
          80,
          81,
          82,
          83,
          84,
          85,
          86,
          87,
          88,
          89,
          90,
          91,
          92,
          93,
          94,
          95,
          96,
          97,
          98,
          99,
          100,
          101,
          102,
          103,
          104,
          105,
          106,
          107,
          108,
          109,
          110,
          111,
          112,
          113,
          114,
          115,
          116,
          117,
          118,
          119,
          120,
          121,
          122,
          123,
          124,
          125,
          126,
          127,
          128,
          129,
          130,
          131,
          132,
          133,
          134,
          135,
          136,
          137,
          138,
          139,
          140,
          141,
          142,
          143,
          144,
          145,
          146,
          147,
          148,
          149
         ],
         "y": [
          "setosa",
          "setosa",
          "setosa",
          "setosa",
          "setosa",
          "setosa",
          "setosa",
          "setosa",
          "setosa",
          "setosa",
          "setosa",
          "setosa",
          "setosa",
          "setosa",
          "setosa",
          "setosa",
          "setosa",
          "setosa",
          "setosa",
          "setosa",
          "setosa",
          "setosa",
          "setosa",
          "setosa",
          "setosa",
          "setosa",
          "setosa",
          "setosa",
          "setosa",
          "setosa",
          "setosa",
          "setosa",
          "setosa",
          "setosa",
          "setosa",
          "setosa",
          "setosa",
          "setosa",
          "setosa",
          "setosa",
          "setosa",
          "setosa",
          "setosa",
          "setosa",
          "setosa",
          "setosa",
          "setosa",
          "setosa",
          "setosa",
          "setosa",
          "versicolor",
          "versicolor",
          "versicolor",
          "versicolor",
          "versicolor",
          "versicolor",
          "versicolor",
          "versicolor",
          "versicolor",
          "versicolor",
          "versicolor",
          "versicolor",
          "versicolor",
          "versicolor",
          "versicolor",
          "versicolor",
          "versicolor",
          "versicolor",
          "versicolor",
          "versicolor",
          "versicolor",
          "versicolor",
          "versicolor",
          "versicolor",
          "versicolor",
          "versicolor",
          "versicolor",
          "versicolor",
          "versicolor",
          "versicolor",
          "versicolor",
          "versicolor",
          "versicolor",
          "versicolor",
          "versicolor",
          "versicolor",
          "versicolor",
          "versicolor",
          "versicolor",
          "versicolor",
          "versicolor",
          "versicolor",
          "versicolor",
          "versicolor",
          "versicolor",
          "versicolor",
          "versicolor",
          "versicolor",
          "versicolor",
          "versicolor",
          "virginica",
          "virginica",
          "virginica",
          "virginica",
          "virginica",
          "virginica",
          "virginica",
          "virginica",
          "virginica",
          "virginica",
          "virginica",
          "virginica",
          "virginica",
          "virginica",
          "virginica",
          "virginica",
          "virginica",
          "virginica",
          "virginica",
          "virginica",
          "virginica",
          "virginica",
          "virginica",
          "virginica",
          "virginica",
          "virginica",
          "virginica",
          "virginica",
          "virginica",
          "virginica",
          "virginica",
          "virginica",
          "virginica",
          "virginica",
          "virginica",
          "virginica",
          "virginica",
          "virginica",
          "virginica",
          "virginica",
          "virginica",
          "virginica",
          "virginica",
          "virginica",
          "virginica",
          "virginica",
          "virginica",
          "virginica",
          "virginica",
          "virginica"
         ]
        }
       ],
       "layout": {
        "legend": {
         "bgcolor": "#F5F6F9",
         "font": {
          "color": "#4D5663"
         }
        },
        "paper_bgcolor": "#F5F6F9",
        "plot_bgcolor": "#F5F6F9",
        "template": {
         "data": {
          "bar": [
           {
            "error_x": {
             "color": "#2a3f5f"
            },
            "error_y": {
             "color": "#2a3f5f"
            },
            "marker": {
             "line": {
              "color": "#E5ECF6",
              "width": 0.5
             },
             "pattern": {
              "fillmode": "overlay",
              "size": 10,
              "solidity": 0.2
             }
            },
            "type": "bar"
           }
          ],
          "barpolar": [
           {
            "marker": {
             "line": {
              "color": "#E5ECF6",
              "width": 0.5
             },
             "pattern": {
              "fillmode": "overlay",
              "size": 10,
              "solidity": 0.2
             }
            },
            "type": "barpolar"
           }
          ],
          "carpet": [
           {
            "aaxis": {
             "endlinecolor": "#2a3f5f",
             "gridcolor": "white",
             "linecolor": "white",
             "minorgridcolor": "white",
             "startlinecolor": "#2a3f5f"
            },
            "baxis": {
             "endlinecolor": "#2a3f5f",
             "gridcolor": "white",
             "linecolor": "white",
             "minorgridcolor": "white",
             "startlinecolor": "#2a3f5f"
            },
            "type": "carpet"
           }
          ],
          "choropleth": [
           {
            "colorbar": {
             "outlinewidth": 0,
             "ticks": ""
            },
            "type": "choropleth"
           }
          ],
          "contour": [
           {
            "colorbar": {
             "outlinewidth": 0,
             "ticks": ""
            },
            "colorscale": [
             [
              0,
              "#0d0887"
             ],
             [
              0.1111111111111111,
              "#46039f"
             ],
             [
              0.2222222222222222,
              "#7201a8"
             ],
             [
              0.3333333333333333,
              "#9c179e"
             ],
             [
              0.4444444444444444,
              "#bd3786"
             ],
             [
              0.5555555555555556,
              "#d8576b"
             ],
             [
              0.6666666666666666,
              "#ed7953"
             ],
             [
              0.7777777777777778,
              "#fb9f3a"
             ],
             [
              0.8888888888888888,
              "#fdca26"
             ],
             [
              1,
              "#f0f921"
             ]
            ],
            "type": "contour"
           }
          ],
          "contourcarpet": [
           {
            "colorbar": {
             "outlinewidth": 0,
             "ticks": ""
            },
            "type": "contourcarpet"
           }
          ],
          "heatmap": [
           {
            "colorbar": {
             "outlinewidth": 0,
             "ticks": ""
            },
            "colorscale": [
             [
              0,
              "#0d0887"
             ],
             [
              0.1111111111111111,
              "#46039f"
             ],
             [
              0.2222222222222222,
              "#7201a8"
             ],
             [
              0.3333333333333333,
              "#9c179e"
             ],
             [
              0.4444444444444444,
              "#bd3786"
             ],
             [
              0.5555555555555556,
              "#d8576b"
             ],
             [
              0.6666666666666666,
              "#ed7953"
             ],
             [
              0.7777777777777778,
              "#fb9f3a"
             ],
             [
              0.8888888888888888,
              "#fdca26"
             ],
             [
              1,
              "#f0f921"
             ]
            ],
            "type": "heatmap"
           }
          ],
          "heatmapgl": [
           {
            "colorbar": {
             "outlinewidth": 0,
             "ticks": ""
            },
            "colorscale": [
             [
              0,
              "#0d0887"
             ],
             [
              0.1111111111111111,
              "#46039f"
             ],
             [
              0.2222222222222222,
              "#7201a8"
             ],
             [
              0.3333333333333333,
              "#9c179e"
             ],
             [
              0.4444444444444444,
              "#bd3786"
             ],
             [
              0.5555555555555556,
              "#d8576b"
             ],
             [
              0.6666666666666666,
              "#ed7953"
             ],
             [
              0.7777777777777778,
              "#fb9f3a"
             ],
             [
              0.8888888888888888,
              "#fdca26"
             ],
             [
              1,
              "#f0f921"
             ]
            ],
            "type": "heatmapgl"
           }
          ],
          "histogram": [
           {
            "marker": {
             "pattern": {
              "fillmode": "overlay",
              "size": 10,
              "solidity": 0.2
             }
            },
            "type": "histogram"
           }
          ],
          "histogram2d": [
           {
            "colorbar": {
             "outlinewidth": 0,
             "ticks": ""
            },
            "colorscale": [
             [
              0,
              "#0d0887"
             ],
             [
              0.1111111111111111,
              "#46039f"
             ],
             [
              0.2222222222222222,
              "#7201a8"
             ],
             [
              0.3333333333333333,
              "#9c179e"
             ],
             [
              0.4444444444444444,
              "#bd3786"
             ],
             [
              0.5555555555555556,
              "#d8576b"
             ],
             [
              0.6666666666666666,
              "#ed7953"
             ],
             [
              0.7777777777777778,
              "#fb9f3a"
             ],
             [
              0.8888888888888888,
              "#fdca26"
             ],
             [
              1,
              "#f0f921"
             ]
            ],
            "type": "histogram2d"
           }
          ],
          "histogram2dcontour": [
           {
            "colorbar": {
             "outlinewidth": 0,
             "ticks": ""
            },
            "colorscale": [
             [
              0,
              "#0d0887"
             ],
             [
              0.1111111111111111,
              "#46039f"
             ],
             [
              0.2222222222222222,
              "#7201a8"
             ],
             [
              0.3333333333333333,
              "#9c179e"
             ],
             [
              0.4444444444444444,
              "#bd3786"
             ],
             [
              0.5555555555555556,
              "#d8576b"
             ],
             [
              0.6666666666666666,
              "#ed7953"
             ],
             [
              0.7777777777777778,
              "#fb9f3a"
             ],
             [
              0.8888888888888888,
              "#fdca26"
             ],
             [
              1,
              "#f0f921"
             ]
            ],
            "type": "histogram2dcontour"
           }
          ],
          "mesh3d": [
           {
            "colorbar": {
             "outlinewidth": 0,
             "ticks": ""
            },
            "type": "mesh3d"
           }
          ],
          "parcoords": [
           {
            "line": {
             "colorbar": {
              "outlinewidth": 0,
              "ticks": ""
             }
            },
            "type": "parcoords"
           }
          ],
          "pie": [
           {
            "automargin": true,
            "type": "pie"
           }
          ],
          "scatter": [
           {
            "fillpattern": {
             "fillmode": "overlay",
             "size": 10,
             "solidity": 0.2
            },
            "type": "scatter"
           }
          ],
          "scatter3d": [
           {
            "line": {
             "colorbar": {
              "outlinewidth": 0,
              "ticks": ""
             }
            },
            "marker": {
             "colorbar": {
              "outlinewidth": 0,
              "ticks": ""
             }
            },
            "type": "scatter3d"
           }
          ],
          "scattercarpet": [
           {
            "marker": {
             "colorbar": {
              "outlinewidth": 0,
              "ticks": ""
             }
            },
            "type": "scattercarpet"
           }
          ],
          "scattergeo": [
           {
            "marker": {
             "colorbar": {
              "outlinewidth": 0,
              "ticks": ""
             }
            },
            "type": "scattergeo"
           }
          ],
          "scattergl": [
           {
            "marker": {
             "colorbar": {
              "outlinewidth": 0,
              "ticks": ""
             }
            },
            "type": "scattergl"
           }
          ],
          "scattermapbox": [
           {
            "marker": {
             "colorbar": {
              "outlinewidth": 0,
              "ticks": ""
             }
            },
            "type": "scattermapbox"
           }
          ],
          "scatterpolar": [
           {
            "marker": {
             "colorbar": {
              "outlinewidth": 0,
              "ticks": ""
             }
            },
            "type": "scatterpolar"
           }
          ],
          "scatterpolargl": [
           {
            "marker": {
             "colorbar": {
              "outlinewidth": 0,
              "ticks": ""
             }
            },
            "type": "scatterpolargl"
           }
          ],
          "scatterternary": [
           {
            "marker": {
             "colorbar": {
              "outlinewidth": 0,
              "ticks": ""
             }
            },
            "type": "scatterternary"
           }
          ],
          "surface": [
           {
            "colorbar": {
             "outlinewidth": 0,
             "ticks": ""
            },
            "colorscale": [
             [
              0,
              "#0d0887"
             ],
             [
              0.1111111111111111,
              "#46039f"
             ],
             [
              0.2222222222222222,
              "#7201a8"
             ],
             [
              0.3333333333333333,
              "#9c179e"
             ],
             [
              0.4444444444444444,
              "#bd3786"
             ],
             [
              0.5555555555555556,
              "#d8576b"
             ],
             [
              0.6666666666666666,
              "#ed7953"
             ],
             [
              0.7777777777777778,
              "#fb9f3a"
             ],
             [
              0.8888888888888888,
              "#fdca26"
             ],
             [
              1,
              "#f0f921"
             ]
            ],
            "type": "surface"
           }
          ],
          "table": [
           {
            "cells": {
             "fill": {
              "color": "#EBF0F8"
             },
             "line": {
              "color": "white"
             }
            },
            "header": {
             "fill": {
              "color": "#C8D4E3"
             },
             "line": {
              "color": "white"
             }
            },
            "type": "table"
           }
          ]
         },
         "layout": {
          "annotationdefaults": {
           "arrowcolor": "#2a3f5f",
           "arrowhead": 0,
           "arrowwidth": 1
          },
          "autotypenumbers": "strict",
          "coloraxis": {
           "colorbar": {
            "outlinewidth": 0,
            "ticks": ""
           }
          },
          "colorscale": {
           "diverging": [
            [
             0,
             "#8e0152"
            ],
            [
             0.1,
             "#c51b7d"
            ],
            [
             0.2,
             "#de77ae"
            ],
            [
             0.3,
             "#f1b6da"
            ],
            [
             0.4,
             "#fde0ef"
            ],
            [
             0.5,
             "#f7f7f7"
            ],
            [
             0.6,
             "#e6f5d0"
            ],
            [
             0.7,
             "#b8e186"
            ],
            [
             0.8,
             "#7fbc41"
            ],
            [
             0.9,
             "#4d9221"
            ],
            [
             1,
             "#276419"
            ]
           ],
           "sequential": [
            [
             0,
             "#0d0887"
            ],
            [
             0.1111111111111111,
             "#46039f"
            ],
            [
             0.2222222222222222,
             "#7201a8"
            ],
            [
             0.3333333333333333,
             "#9c179e"
            ],
            [
             0.4444444444444444,
             "#bd3786"
            ],
            [
             0.5555555555555556,
             "#d8576b"
            ],
            [
             0.6666666666666666,
             "#ed7953"
            ],
            [
             0.7777777777777778,
             "#fb9f3a"
            ],
            [
             0.8888888888888888,
             "#fdca26"
            ],
            [
             1,
             "#f0f921"
            ]
           ],
           "sequentialminus": [
            [
             0,
             "#0d0887"
            ],
            [
             0.1111111111111111,
             "#46039f"
            ],
            [
             0.2222222222222222,
             "#7201a8"
            ],
            [
             0.3333333333333333,
             "#9c179e"
            ],
            [
             0.4444444444444444,
             "#bd3786"
            ],
            [
             0.5555555555555556,
             "#d8576b"
            ],
            [
             0.6666666666666666,
             "#ed7953"
            ],
            [
             0.7777777777777778,
             "#fb9f3a"
            ],
            [
             0.8888888888888888,
             "#fdca26"
            ],
            [
             1,
             "#f0f921"
            ]
           ]
          },
          "colorway": [
           "#636efa",
           "#EF553B",
           "#00cc96",
           "#ab63fa",
           "#FFA15A",
           "#19d3f3",
           "#FF6692",
           "#B6E880",
           "#FF97FF",
           "#FECB52"
          ],
          "font": {
           "color": "#2a3f5f"
          },
          "geo": {
           "bgcolor": "white",
           "lakecolor": "white",
           "landcolor": "#E5ECF6",
           "showlakes": true,
           "showland": true,
           "subunitcolor": "white"
          },
          "hoverlabel": {
           "align": "left"
          },
          "hovermode": "closest",
          "mapbox": {
           "style": "light"
          },
          "paper_bgcolor": "white",
          "plot_bgcolor": "#E5ECF6",
          "polar": {
           "angularaxis": {
            "gridcolor": "white",
            "linecolor": "white",
            "ticks": ""
           },
           "bgcolor": "#E5ECF6",
           "radialaxis": {
            "gridcolor": "white",
            "linecolor": "white",
            "ticks": ""
           }
          },
          "scene": {
           "xaxis": {
            "backgroundcolor": "#E5ECF6",
            "gridcolor": "white",
            "gridwidth": 2,
            "linecolor": "white",
            "showbackground": true,
            "ticks": "",
            "zerolinecolor": "white"
           },
           "yaxis": {
            "backgroundcolor": "#E5ECF6",
            "gridcolor": "white",
            "gridwidth": 2,
            "linecolor": "white",
            "showbackground": true,
            "ticks": "",
            "zerolinecolor": "white"
           },
           "zaxis": {
            "backgroundcolor": "#E5ECF6",
            "gridcolor": "white",
            "gridwidth": 2,
            "linecolor": "white",
            "showbackground": true,
            "ticks": "",
            "zerolinecolor": "white"
           }
          },
          "shapedefaults": {
           "line": {
            "color": "#2a3f5f"
           }
          },
          "ternary": {
           "aaxis": {
            "gridcolor": "white",
            "linecolor": "white",
            "ticks": ""
           },
           "baxis": {
            "gridcolor": "white",
            "linecolor": "white",
            "ticks": ""
           },
           "bgcolor": "#E5ECF6",
           "caxis": {
            "gridcolor": "white",
            "linecolor": "white",
            "ticks": ""
           }
          },
          "title": {
           "x": 0.05
          },
          "xaxis": {
           "automargin": true,
           "gridcolor": "white",
           "linecolor": "white",
           "ticks": "",
           "title": {
            "standoff": 15
           },
           "zerolinecolor": "white",
           "zerolinewidth": 2
          },
          "yaxis": {
           "automargin": true,
           "gridcolor": "white",
           "linecolor": "white",
           "ticks": "",
           "title": {
            "standoff": 15
           },
           "zerolinecolor": "white",
           "zerolinewidth": 2
          }
         }
        },
        "title": {
         "font": {
          "color": "#4D5663"
         }
        },
        "xaxis": {
         "gridcolor": "#E1E5ED",
         "showgrid": true,
         "tickfont": {
          "color": "#4D5663"
         },
         "title": {
          "font": {
           "color": "#4D5663"
          },
          "text": ""
         },
         "zerolinecolor": "#E1E5ED"
        },
        "yaxis": {
         "gridcolor": "#E1E5ED",
         "showgrid": true,
         "tickfont": {
          "color": "#4D5663"
         },
         "title": {
          "font": {
           "color": "#4D5663"
          },
          "text": ""
         },
         "zerolinecolor": "#E1E5ED"
        }
       }
      },
      "text/html": [
       "<div>                            <div id=\"0927af60-4c54-4ff1-9d4c-f03166cedd00\" class=\"plotly-graph-div\" style=\"height:525px; width:100%;\"></div>            <script type=\"text/javascript\">                require([\"plotly\"], function(Plotly) {                    window.PLOTLYENV=window.PLOTLYENV || {};\n",
       "                    window.PLOTLYENV.BASE_URL='https://plot.ly';                                    if (document.getElementById(\"0927af60-4c54-4ff1-9d4c-f03166cedd00\")) {                    Plotly.newPlot(                        \"0927af60-4c54-4ff1-9d4c-f03166cedd00\",                        [{\"line\":{\"color\":\"rgba(255, 153, 51, 1.0)\",\"dash\":\"solid\",\"shape\":\"linear\",\"width\":1.3},\"mode\":\"lines\",\"name\":\"sepal_length\",\"text\":\"\",\"x\":[0,1,2,3,4,5,6,7,8,9,10,11,12,13,14,15,16,17,18,19,20,21,22,23,24,25,26,27,28,29,30,31,32,33,34,35,36,37,38,39,40,41,42,43,44,45,46,47,48,49,50,51,52,53,54,55,56,57,58,59,60,61,62,63,64,65,66,67,68,69,70,71,72,73,74,75,76,77,78,79,80,81,82,83,84,85,86,87,88,89,90,91,92,93,94,95,96,97,98,99,100,101,102,103,104,105,106,107,108,109,110,111,112,113,114,115,116,117,118,119,120,121,122,123,124,125,126,127,128,129,130,131,132,133,134,135,136,137,138,139,140,141,142,143,144,145,146,147,148,149],\"y\":[5.1,4.9,4.7,4.6,5.0,5.4,4.6,5.0,4.4,4.9,5.4,4.8,4.8,4.3,5.8,5.7,5.4,5.1,5.7,5.1,5.4,5.1,4.6,5.1,4.8,5.0,5.0,5.2,5.2,4.7,4.8,5.4,5.2,5.5,4.9,5.0,5.5,4.9,4.4,5.1,5.0,4.5,4.4,5.0,5.1,4.8,5.1,4.6,5.3,5.0,7.0,6.4,6.9,5.5,6.5,5.7,6.3,4.9,6.6,5.2,5.0,5.9,6.0,6.1,5.6,6.7,5.6,5.8,6.2,5.6,5.9,6.1,6.3,6.1,6.4,6.6,6.8,6.7,6.0,5.7,5.5,5.5,5.8,6.0,5.4,6.0,6.7,6.3,5.6,5.5,5.5,6.1,5.8,5.0,5.6,5.7,5.7,6.2,5.1,5.7,6.3,5.8,7.1,6.3,6.5,7.6,4.9,7.3,6.7,7.2,6.5,6.4,6.8,5.7,5.8,6.4,6.5,7.7,7.7,6.0,6.9,5.6,7.7,6.3,6.7,7.2,6.2,6.1,6.4,7.2,7.4,7.9,6.4,6.3,6.1,7.7,6.3,6.4,6.0,6.9,6.7,6.9,5.8,6.8,6.7,6.7,6.3,6.5,6.2,5.9],\"type\":\"scatter\"},{\"line\":{\"color\":\"rgba(55, 128, 191, 1.0)\",\"dash\":\"solid\",\"shape\":\"linear\",\"width\":1.3},\"mode\":\"lines\",\"name\":\"sepal_width\",\"text\":\"\",\"x\":[0,1,2,3,4,5,6,7,8,9,10,11,12,13,14,15,16,17,18,19,20,21,22,23,24,25,26,27,28,29,30,31,32,33,34,35,36,37,38,39,40,41,42,43,44,45,46,47,48,49,50,51,52,53,54,55,56,57,58,59,60,61,62,63,64,65,66,67,68,69,70,71,72,73,74,75,76,77,78,79,80,81,82,83,84,85,86,87,88,89,90,91,92,93,94,95,96,97,98,99,100,101,102,103,104,105,106,107,108,109,110,111,112,113,114,115,116,117,118,119,120,121,122,123,124,125,126,127,128,129,130,131,132,133,134,135,136,137,138,139,140,141,142,143,144,145,146,147,148,149],\"y\":[3.5,3.0,3.2,3.1,3.6,3.9,3.4,3.4,2.9,3.1,3.7,3.4,3.0,3.0,4.0,4.4,3.9,3.5,3.8,3.8,3.4,3.7,3.6,3.3,3.4,3.0,3.4,3.5,3.4,3.2,3.1,3.4,4.1,4.2,3.1,3.2,3.5,3.6,3.0,3.4,3.5,2.3,3.2,3.5,3.8,3.0,3.8,3.2,3.7,3.3,3.2,3.2,3.1,2.3,2.8,2.8,3.3,2.4,2.9,2.7,2.0,3.0,2.2,2.9,2.9,3.1,3.0,2.7,2.2,2.5,3.2,2.8,2.5,2.8,2.9,3.0,2.8,3.0,2.9,2.6,2.4,2.4,2.7,2.7,3.0,3.4,3.1,2.3,3.0,2.5,2.6,3.0,2.6,2.3,2.7,3.0,2.9,2.9,2.5,2.8,3.3,2.7,3.0,2.9,3.0,3.0,2.5,2.9,2.5,3.6,3.2,2.7,3.0,2.5,2.8,3.2,3.0,3.8,2.6,2.2,3.2,2.8,2.8,2.7,3.3,3.2,2.8,3.0,2.8,3.0,2.8,3.8,2.8,2.8,2.6,3.0,3.4,3.1,3.0,3.1,3.1,3.1,2.7,3.2,3.3,3.0,2.5,3.0,3.4,3.0],\"type\":\"scatter\"},{\"line\":{\"color\":\"rgba(50, 171, 96, 1.0)\",\"dash\":\"solid\",\"shape\":\"linear\",\"width\":1.3},\"mode\":\"lines\",\"name\":\"petal_length\",\"text\":\"\",\"x\":[0,1,2,3,4,5,6,7,8,9,10,11,12,13,14,15,16,17,18,19,20,21,22,23,24,25,26,27,28,29,30,31,32,33,34,35,36,37,38,39,40,41,42,43,44,45,46,47,48,49,50,51,52,53,54,55,56,57,58,59,60,61,62,63,64,65,66,67,68,69,70,71,72,73,74,75,76,77,78,79,80,81,82,83,84,85,86,87,88,89,90,91,92,93,94,95,96,97,98,99,100,101,102,103,104,105,106,107,108,109,110,111,112,113,114,115,116,117,118,119,120,121,122,123,124,125,126,127,128,129,130,131,132,133,134,135,136,137,138,139,140,141,142,143,144,145,146,147,148,149],\"y\":[1.4,1.4,1.3,1.5,1.4,1.7,1.4,1.5,1.4,1.5,1.5,1.6,1.4,1.1,1.2,1.5,1.3,1.4,1.7,1.5,1.7,1.5,1.0,1.7,1.9,1.6,1.6,1.5,1.4,1.6,1.6,1.5,1.5,1.4,1.5,1.2,1.3,1.4,1.3,1.5,1.3,1.3,1.3,1.6,1.9,1.4,1.6,1.4,1.5,1.4,4.7,4.5,4.9,4.0,4.6,4.5,4.7,3.3,4.6,3.9,3.5,4.2,4.0,4.7,3.6,4.4,4.5,4.1,4.5,3.9,4.8,4.0,4.9,4.7,4.3,4.4,4.8,5.0,4.5,3.5,3.8,3.7,3.9,5.1,4.5,4.5,4.7,4.4,4.1,4.0,4.4,4.6,4.0,3.3,4.2,4.2,4.2,4.3,3.0,4.1,6.0,5.1,5.9,5.6,5.8,6.6,4.5,6.3,5.8,6.1,5.1,5.3,5.5,5.0,5.1,5.3,5.5,6.7,6.9,5.0,5.7,4.9,6.7,4.9,5.7,6.0,4.8,4.9,5.6,5.8,6.1,6.4,5.6,5.1,5.6,6.1,5.6,5.5,4.8,5.4,5.6,5.1,5.1,5.9,5.7,5.2,5.0,5.2,5.4,5.1],\"type\":\"scatter\"},{\"line\":{\"color\":\"rgba(128, 0, 128, 1.0)\",\"dash\":\"solid\",\"shape\":\"linear\",\"width\":1.3},\"mode\":\"lines\",\"name\":\"petal_width\",\"text\":\"\",\"x\":[0,1,2,3,4,5,6,7,8,9,10,11,12,13,14,15,16,17,18,19,20,21,22,23,24,25,26,27,28,29,30,31,32,33,34,35,36,37,38,39,40,41,42,43,44,45,46,47,48,49,50,51,52,53,54,55,56,57,58,59,60,61,62,63,64,65,66,67,68,69,70,71,72,73,74,75,76,77,78,79,80,81,82,83,84,85,86,87,88,89,90,91,92,93,94,95,96,97,98,99,100,101,102,103,104,105,106,107,108,109,110,111,112,113,114,115,116,117,118,119,120,121,122,123,124,125,126,127,128,129,130,131,132,133,134,135,136,137,138,139,140,141,142,143,144,145,146,147,148,149],\"y\":[0.2,0.2,0.2,0.2,0.2,0.4,0.3,0.2,0.2,0.1,0.2,0.2,0.1,0.1,0.2,0.4,0.4,0.3,0.3,0.3,0.2,0.4,0.2,0.5,0.2,0.2,0.4,0.2,0.2,0.2,0.2,0.4,0.1,0.2,0.2,0.2,0.2,0.1,0.2,0.2,0.3,0.3,0.2,0.6,0.4,0.3,0.2,0.2,0.2,0.2,1.4,1.5,1.5,1.3,1.5,1.3,1.6,1.0,1.3,1.4,1.0,1.5,1.0,1.4,1.3,1.4,1.5,1.0,1.5,1.1,1.8,1.3,1.5,1.2,1.3,1.4,1.4,1.7,1.5,1.0,1.1,1.0,1.2,1.6,1.5,1.6,1.5,1.3,1.3,1.3,1.2,1.4,1.2,1.0,1.3,1.2,1.3,1.3,1.1,1.3,2.5,1.9,2.1,1.8,2.2,2.1,1.7,1.8,1.8,2.5,2.0,1.9,2.1,2.0,2.4,2.3,1.8,2.2,2.3,1.5,2.3,2.0,2.0,1.8,2.1,1.8,1.8,1.8,2.1,1.6,1.9,2.0,2.2,1.5,1.4,2.3,2.4,1.8,1.8,2.1,2.4,2.3,1.9,2.3,2.5,2.3,1.9,2.0,2.3,1.8],\"type\":\"scatter\"},{\"line\":{\"color\":\"rgba(219, 64, 82, 1.0)\",\"dash\":\"solid\",\"shape\":\"linear\",\"width\":1.3},\"mode\":\"lines\",\"name\":\"species\",\"text\":\"\",\"x\":[0,1,2,3,4,5,6,7,8,9,10,11,12,13,14,15,16,17,18,19,20,21,22,23,24,25,26,27,28,29,30,31,32,33,34,35,36,37,38,39,40,41,42,43,44,45,46,47,48,49,50,51,52,53,54,55,56,57,58,59,60,61,62,63,64,65,66,67,68,69,70,71,72,73,74,75,76,77,78,79,80,81,82,83,84,85,86,87,88,89,90,91,92,93,94,95,96,97,98,99,100,101,102,103,104,105,106,107,108,109,110,111,112,113,114,115,116,117,118,119,120,121,122,123,124,125,126,127,128,129,130,131,132,133,134,135,136,137,138,139,140,141,142,143,144,145,146,147,148,149],\"y\":[\"setosa\",\"setosa\",\"setosa\",\"setosa\",\"setosa\",\"setosa\",\"setosa\",\"setosa\",\"setosa\",\"setosa\",\"setosa\",\"setosa\",\"setosa\",\"setosa\",\"setosa\",\"setosa\",\"setosa\",\"setosa\",\"setosa\",\"setosa\",\"setosa\",\"setosa\",\"setosa\",\"setosa\",\"setosa\",\"setosa\",\"setosa\",\"setosa\",\"setosa\",\"setosa\",\"setosa\",\"setosa\",\"setosa\",\"setosa\",\"setosa\",\"setosa\",\"setosa\",\"setosa\",\"setosa\",\"setosa\",\"setosa\",\"setosa\",\"setosa\",\"setosa\",\"setosa\",\"setosa\",\"setosa\",\"setosa\",\"setosa\",\"setosa\",\"versicolor\",\"versicolor\",\"versicolor\",\"versicolor\",\"versicolor\",\"versicolor\",\"versicolor\",\"versicolor\",\"versicolor\",\"versicolor\",\"versicolor\",\"versicolor\",\"versicolor\",\"versicolor\",\"versicolor\",\"versicolor\",\"versicolor\",\"versicolor\",\"versicolor\",\"versicolor\",\"versicolor\",\"versicolor\",\"versicolor\",\"versicolor\",\"versicolor\",\"versicolor\",\"versicolor\",\"versicolor\",\"versicolor\",\"versicolor\",\"versicolor\",\"versicolor\",\"versicolor\",\"versicolor\",\"versicolor\",\"versicolor\",\"versicolor\",\"versicolor\",\"versicolor\",\"versicolor\",\"versicolor\",\"versicolor\",\"versicolor\",\"versicolor\",\"versicolor\",\"versicolor\",\"versicolor\",\"versicolor\",\"versicolor\",\"versicolor\",\"virginica\",\"virginica\",\"virginica\",\"virginica\",\"virginica\",\"virginica\",\"virginica\",\"virginica\",\"virginica\",\"virginica\",\"virginica\",\"virginica\",\"virginica\",\"virginica\",\"virginica\",\"virginica\",\"virginica\",\"virginica\",\"virginica\",\"virginica\",\"virginica\",\"virginica\",\"virginica\",\"virginica\",\"virginica\",\"virginica\",\"virginica\",\"virginica\",\"virginica\",\"virginica\",\"virginica\",\"virginica\",\"virginica\",\"virginica\",\"virginica\",\"virginica\",\"virginica\",\"virginica\",\"virginica\",\"virginica\",\"virginica\",\"virginica\",\"virginica\",\"virginica\",\"virginica\",\"virginica\",\"virginica\",\"virginica\",\"virginica\",\"virginica\"],\"type\":\"scatter\"}],                        {\"legend\":{\"bgcolor\":\"#F5F6F9\",\"font\":{\"color\":\"#4D5663\"}},\"paper_bgcolor\":\"#F5F6F9\",\"plot_bgcolor\":\"#F5F6F9\",\"template\":{\"data\":{\"barpolar\":[{\"marker\":{\"line\":{\"color\":\"#E5ECF6\",\"width\":0.5},\"pattern\":{\"fillmode\":\"overlay\",\"size\":10,\"solidity\":0.2}},\"type\":\"barpolar\"}],\"bar\":[{\"error_x\":{\"color\":\"#2a3f5f\"},\"error_y\":{\"color\":\"#2a3f5f\"},\"marker\":{\"line\":{\"color\":\"#E5ECF6\",\"width\":0.5},\"pattern\":{\"fillmode\":\"overlay\",\"size\":10,\"solidity\":0.2}},\"type\":\"bar\"}],\"carpet\":[{\"aaxis\":{\"endlinecolor\":\"#2a3f5f\",\"gridcolor\":\"white\",\"linecolor\":\"white\",\"minorgridcolor\":\"white\",\"startlinecolor\":\"#2a3f5f\"},\"baxis\":{\"endlinecolor\":\"#2a3f5f\",\"gridcolor\":\"white\",\"linecolor\":\"white\",\"minorgridcolor\":\"white\",\"startlinecolor\":\"#2a3f5f\"},\"type\":\"carpet\"}],\"choropleth\":[{\"colorbar\":{\"outlinewidth\":0,\"ticks\":\"\"},\"type\":\"choropleth\"}],\"contourcarpet\":[{\"colorbar\":{\"outlinewidth\":0,\"ticks\":\"\"},\"type\":\"contourcarpet\"}],\"contour\":[{\"colorbar\":{\"outlinewidth\":0,\"ticks\":\"\"},\"colorscale\":[[0.0,\"#0d0887\"],[0.1111111111111111,\"#46039f\"],[0.2222222222222222,\"#7201a8\"],[0.3333333333333333,\"#9c179e\"],[0.4444444444444444,\"#bd3786\"],[0.5555555555555556,\"#d8576b\"],[0.6666666666666666,\"#ed7953\"],[0.7777777777777778,\"#fb9f3a\"],[0.8888888888888888,\"#fdca26\"],[1.0,\"#f0f921\"]],\"type\":\"contour\"}],\"heatmapgl\":[{\"colorbar\":{\"outlinewidth\":0,\"ticks\":\"\"},\"colorscale\":[[0.0,\"#0d0887\"],[0.1111111111111111,\"#46039f\"],[0.2222222222222222,\"#7201a8\"],[0.3333333333333333,\"#9c179e\"],[0.4444444444444444,\"#bd3786\"],[0.5555555555555556,\"#d8576b\"],[0.6666666666666666,\"#ed7953\"],[0.7777777777777778,\"#fb9f3a\"],[0.8888888888888888,\"#fdca26\"],[1.0,\"#f0f921\"]],\"type\":\"heatmapgl\"}],\"heatmap\":[{\"colorbar\":{\"outlinewidth\":0,\"ticks\":\"\"},\"colorscale\":[[0.0,\"#0d0887\"],[0.1111111111111111,\"#46039f\"],[0.2222222222222222,\"#7201a8\"],[0.3333333333333333,\"#9c179e\"],[0.4444444444444444,\"#bd3786\"],[0.5555555555555556,\"#d8576b\"],[0.6666666666666666,\"#ed7953\"],[0.7777777777777778,\"#fb9f3a\"],[0.8888888888888888,\"#fdca26\"],[1.0,\"#f0f921\"]],\"type\":\"heatmap\"}],\"histogram2dcontour\":[{\"colorbar\":{\"outlinewidth\":0,\"ticks\":\"\"},\"colorscale\":[[0.0,\"#0d0887\"],[0.1111111111111111,\"#46039f\"],[0.2222222222222222,\"#7201a8\"],[0.3333333333333333,\"#9c179e\"],[0.4444444444444444,\"#bd3786\"],[0.5555555555555556,\"#d8576b\"],[0.6666666666666666,\"#ed7953\"],[0.7777777777777778,\"#fb9f3a\"],[0.8888888888888888,\"#fdca26\"],[1.0,\"#f0f921\"]],\"type\":\"histogram2dcontour\"}],\"histogram2d\":[{\"colorbar\":{\"outlinewidth\":0,\"ticks\":\"\"},\"colorscale\":[[0.0,\"#0d0887\"],[0.1111111111111111,\"#46039f\"],[0.2222222222222222,\"#7201a8\"],[0.3333333333333333,\"#9c179e\"],[0.4444444444444444,\"#bd3786\"],[0.5555555555555556,\"#d8576b\"],[0.6666666666666666,\"#ed7953\"],[0.7777777777777778,\"#fb9f3a\"],[0.8888888888888888,\"#fdca26\"],[1.0,\"#f0f921\"]],\"type\":\"histogram2d\"}],\"histogram\":[{\"marker\":{\"pattern\":{\"fillmode\":\"overlay\",\"size\":10,\"solidity\":0.2}},\"type\":\"histogram\"}],\"mesh3d\":[{\"colorbar\":{\"outlinewidth\":0,\"ticks\":\"\"},\"type\":\"mesh3d\"}],\"parcoords\":[{\"line\":{\"colorbar\":{\"outlinewidth\":0,\"ticks\":\"\"}},\"type\":\"parcoords\"}],\"pie\":[{\"automargin\":true,\"type\":\"pie\"}],\"scatter3d\":[{\"line\":{\"colorbar\":{\"outlinewidth\":0,\"ticks\":\"\"}},\"marker\":{\"colorbar\":{\"outlinewidth\":0,\"ticks\":\"\"}},\"type\":\"scatter3d\"}],\"scattercarpet\":[{\"marker\":{\"colorbar\":{\"outlinewidth\":0,\"ticks\":\"\"}},\"type\":\"scattercarpet\"}],\"scattergeo\":[{\"marker\":{\"colorbar\":{\"outlinewidth\":0,\"ticks\":\"\"}},\"type\":\"scattergeo\"}],\"scattergl\":[{\"marker\":{\"colorbar\":{\"outlinewidth\":0,\"ticks\":\"\"}},\"type\":\"scattergl\"}],\"scattermapbox\":[{\"marker\":{\"colorbar\":{\"outlinewidth\":0,\"ticks\":\"\"}},\"type\":\"scattermapbox\"}],\"scatterpolargl\":[{\"marker\":{\"colorbar\":{\"outlinewidth\":0,\"ticks\":\"\"}},\"type\":\"scatterpolargl\"}],\"scatterpolar\":[{\"marker\":{\"colorbar\":{\"outlinewidth\":0,\"ticks\":\"\"}},\"type\":\"scatterpolar\"}],\"scatter\":[{\"fillpattern\":{\"fillmode\":\"overlay\",\"size\":10,\"solidity\":0.2},\"type\":\"scatter\"}],\"scatterternary\":[{\"marker\":{\"colorbar\":{\"outlinewidth\":0,\"ticks\":\"\"}},\"type\":\"scatterternary\"}],\"surface\":[{\"colorbar\":{\"outlinewidth\":0,\"ticks\":\"\"},\"colorscale\":[[0.0,\"#0d0887\"],[0.1111111111111111,\"#46039f\"],[0.2222222222222222,\"#7201a8\"],[0.3333333333333333,\"#9c179e\"],[0.4444444444444444,\"#bd3786\"],[0.5555555555555556,\"#d8576b\"],[0.6666666666666666,\"#ed7953\"],[0.7777777777777778,\"#fb9f3a\"],[0.8888888888888888,\"#fdca26\"],[1.0,\"#f0f921\"]],\"type\":\"surface\"}],\"table\":[{\"cells\":{\"fill\":{\"color\":\"#EBF0F8\"},\"line\":{\"color\":\"white\"}},\"header\":{\"fill\":{\"color\":\"#C8D4E3\"},\"line\":{\"color\":\"white\"}},\"type\":\"table\"}]},\"layout\":{\"annotationdefaults\":{\"arrowcolor\":\"#2a3f5f\",\"arrowhead\":0,\"arrowwidth\":1},\"autotypenumbers\":\"strict\",\"coloraxis\":{\"colorbar\":{\"outlinewidth\":0,\"ticks\":\"\"}},\"colorscale\":{\"diverging\":[[0,\"#8e0152\"],[0.1,\"#c51b7d\"],[0.2,\"#de77ae\"],[0.3,\"#f1b6da\"],[0.4,\"#fde0ef\"],[0.5,\"#f7f7f7\"],[0.6,\"#e6f5d0\"],[0.7,\"#b8e186\"],[0.8,\"#7fbc41\"],[0.9,\"#4d9221\"],[1,\"#276419\"]],\"sequential\":[[0.0,\"#0d0887\"],[0.1111111111111111,\"#46039f\"],[0.2222222222222222,\"#7201a8\"],[0.3333333333333333,\"#9c179e\"],[0.4444444444444444,\"#bd3786\"],[0.5555555555555556,\"#d8576b\"],[0.6666666666666666,\"#ed7953\"],[0.7777777777777778,\"#fb9f3a\"],[0.8888888888888888,\"#fdca26\"],[1.0,\"#f0f921\"]],\"sequentialminus\":[[0.0,\"#0d0887\"],[0.1111111111111111,\"#46039f\"],[0.2222222222222222,\"#7201a8\"],[0.3333333333333333,\"#9c179e\"],[0.4444444444444444,\"#bd3786\"],[0.5555555555555556,\"#d8576b\"],[0.6666666666666666,\"#ed7953\"],[0.7777777777777778,\"#fb9f3a\"],[0.8888888888888888,\"#fdca26\"],[1.0,\"#f0f921\"]]},\"colorway\":[\"#636efa\",\"#EF553B\",\"#00cc96\",\"#ab63fa\",\"#FFA15A\",\"#19d3f3\",\"#FF6692\",\"#B6E880\",\"#FF97FF\",\"#FECB52\"],\"font\":{\"color\":\"#2a3f5f\"},\"geo\":{\"bgcolor\":\"white\",\"lakecolor\":\"white\",\"landcolor\":\"#E5ECF6\",\"showlakes\":true,\"showland\":true,\"subunitcolor\":\"white\"},\"hoverlabel\":{\"align\":\"left\"},\"hovermode\":\"closest\",\"mapbox\":{\"style\":\"light\"},\"paper_bgcolor\":\"white\",\"plot_bgcolor\":\"#E5ECF6\",\"polar\":{\"angularaxis\":{\"gridcolor\":\"white\",\"linecolor\":\"white\",\"ticks\":\"\"},\"bgcolor\":\"#E5ECF6\",\"radialaxis\":{\"gridcolor\":\"white\",\"linecolor\":\"white\",\"ticks\":\"\"}},\"scene\":{\"xaxis\":{\"backgroundcolor\":\"#E5ECF6\",\"gridcolor\":\"white\",\"gridwidth\":2,\"linecolor\":\"white\",\"showbackground\":true,\"ticks\":\"\",\"zerolinecolor\":\"white\"},\"yaxis\":{\"backgroundcolor\":\"#E5ECF6\",\"gridcolor\":\"white\",\"gridwidth\":2,\"linecolor\":\"white\",\"showbackground\":true,\"ticks\":\"\",\"zerolinecolor\":\"white\"},\"zaxis\":{\"backgroundcolor\":\"#E5ECF6\",\"gridcolor\":\"white\",\"gridwidth\":2,\"linecolor\":\"white\",\"showbackground\":true,\"ticks\":\"\",\"zerolinecolor\":\"white\"}},\"shapedefaults\":{\"line\":{\"color\":\"#2a3f5f\"}},\"ternary\":{\"aaxis\":{\"gridcolor\":\"white\",\"linecolor\":\"white\",\"ticks\":\"\"},\"baxis\":{\"gridcolor\":\"white\",\"linecolor\":\"white\",\"ticks\":\"\"},\"bgcolor\":\"#E5ECF6\",\"caxis\":{\"gridcolor\":\"white\",\"linecolor\":\"white\",\"ticks\":\"\"}},\"title\":{\"x\":0.05},\"xaxis\":{\"automargin\":true,\"gridcolor\":\"white\",\"linecolor\":\"white\",\"ticks\":\"\",\"title\":{\"standoff\":15},\"zerolinecolor\":\"white\",\"zerolinewidth\":2},\"yaxis\":{\"automargin\":true,\"gridcolor\":\"white\",\"linecolor\":\"white\",\"ticks\":\"\",\"title\":{\"standoff\":15},\"zerolinecolor\":\"white\",\"zerolinewidth\":2}}},\"title\":{\"font\":{\"color\":\"#4D5663\"}},\"xaxis\":{\"gridcolor\":\"#E1E5ED\",\"showgrid\":true,\"tickfont\":{\"color\":\"#4D5663\"},\"title\":{\"font\":{\"color\":\"#4D5663\"},\"text\":\"\"},\"zerolinecolor\":\"#E1E5ED\"},\"yaxis\":{\"gridcolor\":\"#E1E5ED\",\"showgrid\":true,\"tickfont\":{\"color\":\"#4D5663\"},\"title\":{\"font\":{\"color\":\"#4D5663\"},\"text\":\"\"},\"zerolinecolor\":\"#E1E5ED\"}},                        {\"showLink\": true, \"linkText\": \"Export to plot.ly\", \"plotlyServerURL\": \"https://plot.ly\", \"responsive\": true}                    ).then(function(){\n",
       "                            \n",
       "var gd = document.getElementById('0927af60-4c54-4ff1-9d4c-f03166cedd00');\n",
       "var x = new MutationObserver(function (mutations, observer) {{\n",
       "        var display = window.getComputedStyle(gd).display;\n",
       "        if (!display || display === 'none') {{\n",
       "            console.log([gd, 'removed!']);\n",
       "            Plotly.purge(gd);\n",
       "            observer.disconnect();\n",
       "        }}\n",
       "}});\n",
       "\n",
       "// Listen for the removal of the full notebook cells\n",
       "var notebookContainer = gd.closest('#notebook-container');\n",
       "if (notebookContainer) {{\n",
       "    x.observe(notebookContainer, {childList: true});\n",
       "}}\n",
       "\n",
       "// Listen for the clearing of the current output cell\n",
       "var outputEl = gd.closest('.output');\n",
       "if (outputEl) {{\n",
       "    x.observe(outputEl, {childList: true});\n",
       "}}\n",
       "\n",
       "                        })                };                });            </script>        </div>"
      ]
     },
     "metadata": {},
     "output_type": "display_data"
    }
   ],
   "source": [
    "df1.iplot()"
   ]
  },
  {
   "cell_type": "code",
   "execution_count": 23,
   "id": "aa33a346",
   "metadata": {},
   "outputs": [],
   "source": [
    "df=pd.DataFrame(np.random.rand(300,3) ,columns=['a','b','c'])"
   ]
  },
  {
   "cell_type": "code",
   "execution_count": 24,
   "id": "159c069d",
   "metadata": {},
   "outputs": [
    {
     "data": {
      "text/html": [
       "<div>\n",
       "<style scoped>\n",
       "    .dataframe tbody tr th:only-of-type {\n",
       "        vertical-align: middle;\n",
       "    }\n",
       "\n",
       "    .dataframe tbody tr th {\n",
       "        vertical-align: top;\n",
       "    }\n",
       "\n",
       "    .dataframe thead th {\n",
       "        text-align: right;\n",
       "    }\n",
       "</style>\n",
       "<table border=\"1\" class=\"dataframe\">\n",
       "  <thead>\n",
       "    <tr style=\"text-align: right;\">\n",
       "      <th></th>\n",
       "      <th>a</th>\n",
       "      <th>b</th>\n",
       "      <th>c</th>\n",
       "    </tr>\n",
       "  </thead>\n",
       "  <tbody>\n",
       "    <tr>\n",
       "      <th>0</th>\n",
       "      <td>0.278383</td>\n",
       "      <td>0.924911</td>\n",
       "      <td>0.613214</td>\n",
       "    </tr>\n",
       "    <tr>\n",
       "      <th>1</th>\n",
       "      <td>0.234191</td>\n",
       "      <td>0.743585</td>\n",
       "      <td>0.685014</td>\n",
       "    </tr>\n",
       "    <tr>\n",
       "      <th>2</th>\n",
       "      <td>0.940231</td>\n",
       "      <td>0.883165</td>\n",
       "      <td>0.917507</td>\n",
       "    </tr>\n",
       "    <tr>\n",
       "      <th>3</th>\n",
       "      <td>0.981825</td>\n",
       "      <td>0.743755</td>\n",
       "      <td>0.141435</td>\n",
       "    </tr>\n",
       "    <tr>\n",
       "      <th>4</th>\n",
       "      <td>0.521723</td>\n",
       "      <td>0.682361</td>\n",
       "      <td>0.304479</td>\n",
       "    </tr>\n",
       "    <tr>\n",
       "      <th>...</th>\n",
       "      <td>...</td>\n",
       "      <td>...</td>\n",
       "      <td>...</td>\n",
       "    </tr>\n",
       "    <tr>\n",
       "      <th>295</th>\n",
       "      <td>0.021695</td>\n",
       "      <td>0.196242</td>\n",
       "      <td>0.896103</td>\n",
       "    </tr>\n",
       "    <tr>\n",
       "      <th>296</th>\n",
       "      <td>0.992533</td>\n",
       "      <td>0.053224</td>\n",
       "      <td>0.329998</td>\n",
       "    </tr>\n",
       "    <tr>\n",
       "      <th>297</th>\n",
       "      <td>0.736775</td>\n",
       "      <td>0.334300</td>\n",
       "      <td>0.516271</td>\n",
       "    </tr>\n",
       "    <tr>\n",
       "      <th>298</th>\n",
       "      <td>0.651421</td>\n",
       "      <td>0.218545</td>\n",
       "      <td>0.722014</td>\n",
       "    </tr>\n",
       "    <tr>\n",
       "      <th>299</th>\n",
       "      <td>0.055161</td>\n",
       "      <td>0.092156</td>\n",
       "      <td>0.616887</td>\n",
       "    </tr>\n",
       "  </tbody>\n",
       "</table>\n",
       "<p>300 rows × 3 columns</p>\n",
       "</div>"
      ],
      "text/plain": [
       "            a         b         c\n",
       "0    0.278383  0.924911  0.613214\n",
       "1    0.234191  0.743585  0.685014\n",
       "2    0.940231  0.883165  0.917507\n",
       "3    0.981825  0.743755  0.141435\n",
       "4    0.521723  0.682361  0.304479\n",
       "..        ...       ...       ...\n",
       "295  0.021695  0.196242  0.896103\n",
       "296  0.992533  0.053224  0.329998\n",
       "297  0.736775  0.334300  0.516271\n",
       "298  0.651421  0.218545  0.722014\n",
       "299  0.055161  0.092156  0.616887\n",
       "\n",
       "[300 rows x 3 columns]"
      ]
     },
     "execution_count": 24,
     "metadata": {},
     "output_type": "execute_result"
    }
   ],
   "source": [
    "df"
   ]
  },
  {
   "cell_type": "code",
   "execution_count": 25,
   "id": "ab806339",
   "metadata": {},
   "outputs": [
    {
     "data": {
      "application/vnd.plotly.v1+json": {
       "config": {
        "linkText": "Export to plot.ly",
        "plotlyServerURL": "https://plot.ly",
        "showLink": true
       },
       "data": [
        {
         "line": {
          "color": "rgba(255, 153, 51, 1.0)",
          "dash": "solid",
          "shape": "linear",
          "width": 1.3
         },
         "mode": "lines",
         "name": "b",
         "text": "",
         "type": "scatter",
         "x": [
          0.27838296152448205,
          0.23419125123119744,
          0.9402311573939685,
          0.9818252945368592,
          0.5217225533175608,
          0.7578086699334807,
          0.2111976699587792,
          0.6453708054587917,
          0.9422474824428778,
          0.022249498661639278,
          0.2755596986746416,
          0.9785210814026211,
          0.5654153135198642,
          0.6274844848410547,
          0.29576173818764806,
          0.06775110903405024,
          0.5578046082254566,
          0.695394908522818,
          0.5381113266284672,
          0.024570279708218234,
          0.800565801536332,
          0.9417454805485571,
          0.2844049944028668,
          0.20876361415764477,
          0.40084204513597377,
          0.9929702066541193,
          0.5610364132577672,
          0.9456186937109804,
          0.42937677912346195,
          0.8684238390608195,
          0.3749792724921833,
          0.47948962522771443,
          0.34562510637964516,
          0.204323542498955,
          0.6268255822305261,
          0.0018208891801168026,
          0.15535075023305478,
          0.3397211712303666,
          0.781154142366423,
          0.7794866433662041,
          0.13137575382727107,
          0.6130269773960699,
          0.3588564939512987,
          0.3758089595124783,
          0.6986529721820868,
          0.21942639151151921,
          0.14815064212379492,
          0.9062521460946548,
          0.7403349586314467,
          0.38662376283076283,
          0.7294177216662878,
          0.33997466187018344,
          0.23054653870105257,
          0.9508857451656485,
          0.5182287254107543,
          0.2829685330479964,
          0.06369402579826,
          0.8859286457111712,
          0.6444247778449625,
          0.4808769221479291,
          0.4781501977014838,
          0.6338947783483909,
          0.23279127351316065,
          0.9460053310771964,
          0.46415139315983156,
          0.10672036838374654,
          0.6048288647528082,
          0.7404484291378357,
          0.5721715643887565,
          0.20820478311903767,
          0.18395790678627488,
          0.2445507780935977,
          0.2030706541275178,
          0.7259007075234182,
          0.8718537051022205,
          0.4427458263967561,
          0.6693721813489405,
          0.0972233192570191,
          0.8310848665360812,
          0.12853130407696034,
          0.7528576050272201,
          0.6269189603656903,
          0.24086723362603313,
          0.7119409525430167,
          0.220273625383981,
          0.2833379658342061,
          0.7381673273614507,
          0.12276060780545017,
          0.6141904650010638,
          0.27706488133337426,
          0.08664374871910496,
          0.7848889581162702,
          0.9906107300324285,
          0.5826769730717174,
          0.6360842660398539,
          0.9944732781286196,
          0.5530048406334314,
          0.4572449539458804,
          0.557815245782368,
          0.41291209087233904,
          0.2549426624184302,
          0.114892725347159,
          0.5149419206249494,
          0.1947389190665071,
          0.3526181793336107,
          0.7754808105728687,
          0.5881920915935499,
          0.5940159562471257,
          0.7195378753155126,
          0.03318835772060036,
          0.7090663101424748,
          0.6631215124964083,
          0.977232679531098,
          0.7719401384974047,
          0.035832261826258094,
          0.6165995267708891,
          0.5296730184037375,
          0.9854390485014088,
          0.8801697362258294,
          0.9026813500873416,
          0.08655340525045085,
          0.40855409203919857,
          0.29261246167551447,
          0.5882536160573619,
          0.9460875905381618,
          0.9599395398851532,
          0.134191226324769,
          0.5994825715269421,
          0.3154001104519524,
          0.7780004260353371,
          0.8796764271209183,
          0.5270841329833486,
          0.5403954526297006,
          0.7928539046949304,
          0.10971527933540548,
          0.816532138916471,
          0.2420857718290783,
          0.11675677849822175,
          0.11220449384326348,
          0.46368063526949077,
          0.3212129279221101,
          0.8052469210185732,
          0.6455260739519945,
          0.8914610084245113,
          0.03772966344919615,
          0.7683611953549274,
          0.9701553271536554,
          0.157224605452282,
          0.10215749418418607,
          0.579642400776483,
          0.26043041012260115,
          0.5388456704079811,
          0.5026271473024074,
          0.17077443328496134,
          0.6279026724063317,
          0.32784422415868364,
          0.5315223674724915,
          0.01664642521678894,
          0.05977658793312701,
          0.7182844386110933,
          0.002410075582974791,
          0.28976459952538924,
          0.956358235131849,
          0.873345657156394,
          0.1023929665168467,
          0.9693537120441449,
          0.799860343750764,
          0.7767341227517696,
          0.35095394020836446,
          0.2731300851170819,
          0.7674877913938117,
          0.40926710359825047,
          0.9581869084086707,
          0.9136869519345833,
          0.15462945777929904,
          0.04989115296842006,
          0.6087496960145763,
          0.09002404981157142,
          0.8710137767117321,
          0.10181117331645961,
          0.11306563278925652,
          0.4452076190176386,
          0.023677728838237044,
          0.9148972930636843,
          0.9757086311916698,
          0.2432665620506652,
          0.46931148596267125,
          0.833084546340623,
          0.47381771963285346,
          0.30034377713050675,
          0.19870670087297682,
          0.33464215545217957,
          0.060570867447157783,
          0.5133872247003363,
          0.29416542235032217,
          0.8402841054446625,
          0.16485330719549307,
          0.2971743484985775,
          0.4340212887337186,
          0.3375726777449579,
          0.5476924609444342,
          0.9700944623274808,
          0.6634815960051572,
          0.5484281219888569,
          0.4919608394479925,
          0.04721132415000373,
          0.535448438269241,
          0.08013696655861935,
          0.659823718070622,
          0.17561385320074652,
          0.4621377961429227,
          0.913731510135401,
          0.8425679611227511,
          0.1287132964457438,
          0.22158062413319524,
          0.6642953937250715,
          0.7863254260763021,
          0.7426285559674783,
          0.8119829792830648,
          0.4079000554937088,
          0.4818533432963078,
          0.8672445589843626,
          0.5649465365148959,
          0.1863258851340598,
          0.5565702956551042,
          0.6335500190071063,
          0.5837226384267603,
          0.049595105095059155,
          0.11688907294926276,
          0.5163979878969284,
          0.14938196548411986,
          0.7507419804993143,
          0.32298861194370954,
          0.4865936002018795,
          0.9777544744272296,
          0.17410099058551454,
          0.5097506576982367,
          0.7563389255268216,
          0.7888730797232102,
          0.7977274805290115,
          0.4647181534337701,
          0.5737086971316067,
          0.18320065501536342,
          0.7098498161475821,
          0.9897513736483721,
          0.35004123797981757,
          0.025122000048269477,
          0.09099493281635906,
          0.9550398644028407,
          0.19219203469051283,
          0.40564146969169124,
          0.6972519286702261,
          0.5115207334143151,
          0.7638961288086225,
          0.6760332567480096,
          0.19483780775406212,
          0.17865617381847343,
          0.9143402058992728,
          0.7082249293197352,
          0.0988609827067618,
          0.6316605225566471,
          0.28387168360209925,
          0.4730292558002901,
          0.06492467601096807,
          0.421108337115198,
          0.88340997022006,
          0.07558722791168437,
          0.2416928017355272,
          0.3875979608522391,
          0.4950370054778521,
          0.09685693980047938,
          0.7528380212852178,
          0.7323626750880344,
          0.8365879779057532,
          0.05695369994290267,
          0.15016857402536932,
          0.22306256841679195,
          0.5562107010731885,
          0.8702073780719157,
          0.20225557306283692,
          0.3780003774349775,
          0.4937429855740707,
          0.4677051693621641,
          0.45365609136466967,
          0.5422082407715243,
          0.4448089914354624,
          0.635793773654366,
          0.20189762812542034,
          0.16508147011719865,
          0.6087496682112827,
          0.9663424836068452,
          0.03907953963258781,
          0.5471173248437363,
          0.0841436452376032,
          0.13502063293264643,
          0.02169492672733697,
          0.9925329347136855,
          0.7367751196372292,
          0.651421083329264,
          0.055160653099090906
         ],
         "y": [
          0.9249109331400724,
          0.743585203827573,
          0.8831653553002548,
          0.7437554600147297,
          0.6823611564682303,
          0.16506487343753018,
          0.7855945330924387,
          0.610874756579337,
          0.375995937569677,
          0.62816785978767,
          0.5965756525743989,
          0.9428934837049706,
          0.3772850723956822,
          0.39041393680078895,
          0.9294099023447528,
          0.6455381419746795,
          0.55048092322994,
          0.0751888191051765,
          0.926623333998224,
          0.543684662845825,
          0.49291708945308343,
          0.7999730034568164,
          0.6713344822483769,
          0.514714253849142,
          0.3164645646392146,
          0.5119090267466344,
          0.5752840738480205,
          0.6893497986249156,
          0.9614346958103448,
          0.9614130825032743,
          0.9091966472357571,
          0.9128932271360557,
          0.07413793176728545,
          0.6863099487068521,
          0.9195097523398436,
          0.5782345758548263,
          0.640276371766621,
          0.8498587169199389,
          0.03078931207406055,
          0.3900200476182394,
          0.21378916897623146,
          0.7741400887480892,
          0.7844134895830702,
          0.19063517698398613,
          0.6912281062570999,
          0.3320762453686339,
          0.07787049190175244,
          0.1654263214529228,
          0.9060963125956981,
          0.40563765575676736,
          0.271268141849345,
          0.29231949993043316,
          0.5329946913226531,
          0.6903767466918592,
          0.7252274844185217,
          0.9909230463360412,
          0.6578736572620661,
          0.32776853117536586,
          0.6880349183046421,
          0.06836370287599425,
          0.22298400647844163,
          0.9972202525592014,
          0.5021355334747422,
          0.9954938114097759,
          0.35231096281196594,
          0.6430180041568724,
          0.8731044249396699,
          0.7339812968713403,
          5.723596902607042e-05,
          0.9216997646250339,
          0.40392772533678023,
          0.25003056729581086,
          0.43632225326481777,
          0.3969315140268024,
          0.18023333852328982,
          0.7683572366989557,
          0.37232103714726783,
          0.08364804343192145,
          0.12546544180690056,
          0.7556543162077884,
          0.022906430175386183,
          0.46702276069314497,
          0.6014727520032607,
          0.29277344084533086,
          0.318836225438214,
          0.5197943038891067,
          0.7179987736266026,
          0.07254120016720011,
          0.6416297565832461,
          0.910528707115394,
          0.9956080745493682,
          0.06690093708537792,
          0.4304710796580584,
          0.21815646081463358,
          0.0642964919122595,
          0.6829778374239098,
          0.2713888031836065,
          0.47392621177304983,
          0.7618682698273211,
          0.35667493623410396,
          0.5947091382815903,
          0.99685444342122,
          0.6500415421031767,
          0.3741973016219635,
          0.8767991630059851,
          0.598959653846733,
          0.35373210196433336,
          0.599271328404216,
          0.33733350462384104,
          0.9503157438080856,
          0.9377852518598147,
          0.9198472470234688,
          0.9060171544944103,
          0.5317945154255017,
          0.027907921811626824,
          0.6897425242289441,
          0.08860087316275866,
          0.039145443825186366,
          0.6510786882837578,
          0.03803766206846626,
          0.6983101583856602,
          0.9925209325417484,
          0.22677176158926715,
          0.44390905517987356,
          0.6481295218790062,
          0.1019771074274699,
          0.7355112963298976,
          0.6130818582904024,
          0.6691409684595404,
          0.9732004801984492,
          0.8970030499345027,
          0.8155347743051857,
          0.34595047358154984,
          0.5292328175910097,
          0.24175508672125112,
          0.27944738885381537,
          0.09802233047625142,
          0.7948349114339293,
          0.4231104333185558,
          0.9225780133335272,
          0.5929571537059921,
          0.5082376908019512,
          0.7991224171425048,
          0.8572852088407905,
          0.7064153473143651,
          0.4765564251372123,
          0.39086920735880404,
          0.8448301299279213,
          0.7919525573725301,
          0.4637308805156579,
          0.3560391522581001,
          0.8660475843732272,
          0.8316634797452599,
          0.475827589831463,
          0.9069965530094977,
          0.8188091578803889,
          0.039055434510276266,
          0.6886177634358395,
          0.022397221915856913,
          0.43366517875415056,
          0.17117866716550267,
          0.45704383645300983,
          0.276731951750087,
          0.7848629422122223,
          0.833427554500872,
          0.9070020898072406,
          0.013382546704643339,
          0.9776255026271423,
          0.5487749791602706,
          0.5895219696648613,
          0.9993844391529377,
          0.20595049320724346,
          0.05362262559356645,
          0.3377455153005694,
          0.39139726856606916,
          0.5157945851020265,
          0.48120803427415615,
          0.24737443971569573,
          0.48567015329857166,
          0.1564848783445022,
          0.8935276895081937,
          0.6567774576522701,
          0.1943586798130873,
          0.9131437260945536,
          0.9855504040933227,
          0.6465920585852563,
          0.5352961599365442,
          0.28888673735841297,
          0.07689682767300376,
          0.6519677132286,
          0.6180576680868802,
          0.7332526865434044,
          0.7382733150593876,
          0.9021671633258097,
          0.9917570539428688,
          0.6314203229596009,
          0.1757189972153087,
          0.43328471274485825,
          0.7587908147513123,
          0.9550934558191921,
          0.05203271717926494,
          0.17568741142758848,
          0.681125814278701,
          0.7051004755464386,
          0.841796127192272,
          0.5137189808621627,
          0.7145315286590298,
          0.4085393050362587,
          0.45403858963845456,
          0.8396187539644637,
          0.3096456178913587,
          0.39313041073528854,
          0.2315293765491545,
          0.11547659196041438,
          0.3136792838025151,
          0.005284897749385675,
          0.6715950813597467,
          0.8252923676493422,
          0.21115179078100788,
          0.8108823913344306,
          0.06631396452399052,
          0.7180449516738712,
          0.24876011100682938,
          0.6063651217145797,
          0.5989259337076152,
          0.5619983688425207,
          0.1526205098047202,
          0.028748036694012935,
          0.41124019289216773,
          0.6955693039655934,
          0.5363347619628274,
          0.6948201221594031,
          0.9133520856749201,
          0.255477572683217,
          0.6134580312495657,
          0.7803264827418107,
          0.9470703499446524,
          0.3872855764150175,
          0.5484429409620318,
          0.43584209372812965,
          0.3259220998337973,
          0.9589561252382681,
          0.20535736864706045,
          0.8484761664108016,
          0.727471119712164,
          0.5251705631192307,
          0.10736188754519038,
          0.8081022114977733,
          0.5881091853044598,
          0.4362179318305238,
          0.6127672791762817,
          0.4909901118004937,
          0.9893139286926358,
          0.515442729324614,
          0.7091982670868329,
          0.06991484581045382,
          0.4864504267697546,
          0.27378265841123395,
          0.8279471161592715,
          0.9671546307173008,
          0.5880463969431804,
          0.0841452327926916,
          0.019676765258533457,
          0.18943907042702235,
          0.7854050628783473,
          0.6755708891761858,
          0.09493678741879708,
          0.03254028847311008,
          0.6495636434103388,
          0.42405272824439655,
          0.0014846500474002822,
          0.6194235698672657,
          0.13408467402820268,
          0.40484436721447326,
          0.9508410559331723,
          0.6611369564938521,
          0.5019291134740256,
          0.4544127657952177,
          0.8287441761580369,
          0.44677356219404574,
          0.023608779269205904,
          0.0501243595869405,
          0.5939131945165459,
          0.6044614729353479,
          0.8874778454730741,
          0.4089655320375063,
          0.4171685691584748,
          0.7348433034894232,
          0.8818718870500538,
          0.44946980030850137,
          0.8259702739591497,
          0.3313876079486101,
          0.6348503669315897,
          0.3653335477567311,
          0.8560705490525023,
          0.19624183686044816,
          0.0532243903424966,
          0.33429992135805364,
          0.21854519003514883,
          0.09215638926078595
         ]
        }
       ],
       "layout": {
        "legend": {
         "bgcolor": "#F5F6F9",
         "font": {
          "color": "#4D5663"
         }
        },
        "paper_bgcolor": "#F5F6F9",
        "plot_bgcolor": "#F5F6F9",
        "template": {
         "data": {
          "bar": [
           {
            "error_x": {
             "color": "#2a3f5f"
            },
            "error_y": {
             "color": "#2a3f5f"
            },
            "marker": {
             "line": {
              "color": "#E5ECF6",
              "width": 0.5
             },
             "pattern": {
              "fillmode": "overlay",
              "size": 10,
              "solidity": 0.2
             }
            },
            "type": "bar"
           }
          ],
          "barpolar": [
           {
            "marker": {
             "line": {
              "color": "#E5ECF6",
              "width": 0.5
             },
             "pattern": {
              "fillmode": "overlay",
              "size": 10,
              "solidity": 0.2
             }
            },
            "type": "barpolar"
           }
          ],
          "carpet": [
           {
            "aaxis": {
             "endlinecolor": "#2a3f5f",
             "gridcolor": "white",
             "linecolor": "white",
             "minorgridcolor": "white",
             "startlinecolor": "#2a3f5f"
            },
            "baxis": {
             "endlinecolor": "#2a3f5f",
             "gridcolor": "white",
             "linecolor": "white",
             "minorgridcolor": "white",
             "startlinecolor": "#2a3f5f"
            },
            "type": "carpet"
           }
          ],
          "choropleth": [
           {
            "colorbar": {
             "outlinewidth": 0,
             "ticks": ""
            },
            "type": "choropleth"
           }
          ],
          "contour": [
           {
            "colorbar": {
             "outlinewidth": 0,
             "ticks": ""
            },
            "colorscale": [
             [
              0,
              "#0d0887"
             ],
             [
              0.1111111111111111,
              "#46039f"
             ],
             [
              0.2222222222222222,
              "#7201a8"
             ],
             [
              0.3333333333333333,
              "#9c179e"
             ],
             [
              0.4444444444444444,
              "#bd3786"
             ],
             [
              0.5555555555555556,
              "#d8576b"
             ],
             [
              0.6666666666666666,
              "#ed7953"
             ],
             [
              0.7777777777777778,
              "#fb9f3a"
             ],
             [
              0.8888888888888888,
              "#fdca26"
             ],
             [
              1,
              "#f0f921"
             ]
            ],
            "type": "contour"
           }
          ],
          "contourcarpet": [
           {
            "colorbar": {
             "outlinewidth": 0,
             "ticks": ""
            },
            "type": "contourcarpet"
           }
          ],
          "heatmap": [
           {
            "colorbar": {
             "outlinewidth": 0,
             "ticks": ""
            },
            "colorscale": [
             [
              0,
              "#0d0887"
             ],
             [
              0.1111111111111111,
              "#46039f"
             ],
             [
              0.2222222222222222,
              "#7201a8"
             ],
             [
              0.3333333333333333,
              "#9c179e"
             ],
             [
              0.4444444444444444,
              "#bd3786"
             ],
             [
              0.5555555555555556,
              "#d8576b"
             ],
             [
              0.6666666666666666,
              "#ed7953"
             ],
             [
              0.7777777777777778,
              "#fb9f3a"
             ],
             [
              0.8888888888888888,
              "#fdca26"
             ],
             [
              1,
              "#f0f921"
             ]
            ],
            "type": "heatmap"
           }
          ],
          "heatmapgl": [
           {
            "colorbar": {
             "outlinewidth": 0,
             "ticks": ""
            },
            "colorscale": [
             [
              0,
              "#0d0887"
             ],
             [
              0.1111111111111111,
              "#46039f"
             ],
             [
              0.2222222222222222,
              "#7201a8"
             ],
             [
              0.3333333333333333,
              "#9c179e"
             ],
             [
              0.4444444444444444,
              "#bd3786"
             ],
             [
              0.5555555555555556,
              "#d8576b"
             ],
             [
              0.6666666666666666,
              "#ed7953"
             ],
             [
              0.7777777777777778,
              "#fb9f3a"
             ],
             [
              0.8888888888888888,
              "#fdca26"
             ],
             [
              1,
              "#f0f921"
             ]
            ],
            "type": "heatmapgl"
           }
          ],
          "histogram": [
           {
            "marker": {
             "pattern": {
              "fillmode": "overlay",
              "size": 10,
              "solidity": 0.2
             }
            },
            "type": "histogram"
           }
          ],
          "histogram2d": [
           {
            "colorbar": {
             "outlinewidth": 0,
             "ticks": ""
            },
            "colorscale": [
             [
              0,
              "#0d0887"
             ],
             [
              0.1111111111111111,
              "#46039f"
             ],
             [
              0.2222222222222222,
              "#7201a8"
             ],
             [
              0.3333333333333333,
              "#9c179e"
             ],
             [
              0.4444444444444444,
              "#bd3786"
             ],
             [
              0.5555555555555556,
              "#d8576b"
             ],
             [
              0.6666666666666666,
              "#ed7953"
             ],
             [
              0.7777777777777778,
              "#fb9f3a"
             ],
             [
              0.8888888888888888,
              "#fdca26"
             ],
             [
              1,
              "#f0f921"
             ]
            ],
            "type": "histogram2d"
           }
          ],
          "histogram2dcontour": [
           {
            "colorbar": {
             "outlinewidth": 0,
             "ticks": ""
            },
            "colorscale": [
             [
              0,
              "#0d0887"
             ],
             [
              0.1111111111111111,
              "#46039f"
             ],
             [
              0.2222222222222222,
              "#7201a8"
             ],
             [
              0.3333333333333333,
              "#9c179e"
             ],
             [
              0.4444444444444444,
              "#bd3786"
             ],
             [
              0.5555555555555556,
              "#d8576b"
             ],
             [
              0.6666666666666666,
              "#ed7953"
             ],
             [
              0.7777777777777778,
              "#fb9f3a"
             ],
             [
              0.8888888888888888,
              "#fdca26"
             ],
             [
              1,
              "#f0f921"
             ]
            ],
            "type": "histogram2dcontour"
           }
          ],
          "mesh3d": [
           {
            "colorbar": {
             "outlinewidth": 0,
             "ticks": ""
            },
            "type": "mesh3d"
           }
          ],
          "parcoords": [
           {
            "line": {
             "colorbar": {
              "outlinewidth": 0,
              "ticks": ""
             }
            },
            "type": "parcoords"
           }
          ],
          "pie": [
           {
            "automargin": true,
            "type": "pie"
           }
          ],
          "scatter": [
           {
            "fillpattern": {
             "fillmode": "overlay",
             "size": 10,
             "solidity": 0.2
            },
            "type": "scatter"
           }
          ],
          "scatter3d": [
           {
            "line": {
             "colorbar": {
              "outlinewidth": 0,
              "ticks": ""
             }
            },
            "marker": {
             "colorbar": {
              "outlinewidth": 0,
              "ticks": ""
             }
            },
            "type": "scatter3d"
           }
          ],
          "scattercarpet": [
           {
            "marker": {
             "colorbar": {
              "outlinewidth": 0,
              "ticks": ""
             }
            },
            "type": "scattercarpet"
           }
          ],
          "scattergeo": [
           {
            "marker": {
             "colorbar": {
              "outlinewidth": 0,
              "ticks": ""
             }
            },
            "type": "scattergeo"
           }
          ],
          "scattergl": [
           {
            "marker": {
             "colorbar": {
              "outlinewidth": 0,
              "ticks": ""
             }
            },
            "type": "scattergl"
           }
          ],
          "scattermapbox": [
           {
            "marker": {
             "colorbar": {
              "outlinewidth": 0,
              "ticks": ""
             }
            },
            "type": "scattermapbox"
           }
          ],
          "scatterpolar": [
           {
            "marker": {
             "colorbar": {
              "outlinewidth": 0,
              "ticks": ""
             }
            },
            "type": "scatterpolar"
           }
          ],
          "scatterpolargl": [
           {
            "marker": {
             "colorbar": {
              "outlinewidth": 0,
              "ticks": ""
             }
            },
            "type": "scatterpolargl"
           }
          ],
          "scatterternary": [
           {
            "marker": {
             "colorbar": {
              "outlinewidth": 0,
              "ticks": ""
             }
            },
            "type": "scatterternary"
           }
          ],
          "surface": [
           {
            "colorbar": {
             "outlinewidth": 0,
             "ticks": ""
            },
            "colorscale": [
             [
              0,
              "#0d0887"
             ],
             [
              0.1111111111111111,
              "#46039f"
             ],
             [
              0.2222222222222222,
              "#7201a8"
             ],
             [
              0.3333333333333333,
              "#9c179e"
             ],
             [
              0.4444444444444444,
              "#bd3786"
             ],
             [
              0.5555555555555556,
              "#d8576b"
             ],
             [
              0.6666666666666666,
              "#ed7953"
             ],
             [
              0.7777777777777778,
              "#fb9f3a"
             ],
             [
              0.8888888888888888,
              "#fdca26"
             ],
             [
              1,
              "#f0f921"
             ]
            ],
            "type": "surface"
           }
          ],
          "table": [
           {
            "cells": {
             "fill": {
              "color": "#EBF0F8"
             },
             "line": {
              "color": "white"
             }
            },
            "header": {
             "fill": {
              "color": "#C8D4E3"
             },
             "line": {
              "color": "white"
             }
            },
            "type": "table"
           }
          ]
         },
         "layout": {
          "annotationdefaults": {
           "arrowcolor": "#2a3f5f",
           "arrowhead": 0,
           "arrowwidth": 1
          },
          "autotypenumbers": "strict",
          "coloraxis": {
           "colorbar": {
            "outlinewidth": 0,
            "ticks": ""
           }
          },
          "colorscale": {
           "diverging": [
            [
             0,
             "#8e0152"
            ],
            [
             0.1,
             "#c51b7d"
            ],
            [
             0.2,
             "#de77ae"
            ],
            [
             0.3,
             "#f1b6da"
            ],
            [
             0.4,
             "#fde0ef"
            ],
            [
             0.5,
             "#f7f7f7"
            ],
            [
             0.6,
             "#e6f5d0"
            ],
            [
             0.7,
             "#b8e186"
            ],
            [
             0.8,
             "#7fbc41"
            ],
            [
             0.9,
             "#4d9221"
            ],
            [
             1,
             "#276419"
            ]
           ],
           "sequential": [
            [
             0,
             "#0d0887"
            ],
            [
             0.1111111111111111,
             "#46039f"
            ],
            [
             0.2222222222222222,
             "#7201a8"
            ],
            [
             0.3333333333333333,
             "#9c179e"
            ],
            [
             0.4444444444444444,
             "#bd3786"
            ],
            [
             0.5555555555555556,
             "#d8576b"
            ],
            [
             0.6666666666666666,
             "#ed7953"
            ],
            [
             0.7777777777777778,
             "#fb9f3a"
            ],
            [
             0.8888888888888888,
             "#fdca26"
            ],
            [
             1,
             "#f0f921"
            ]
           ],
           "sequentialminus": [
            [
             0,
             "#0d0887"
            ],
            [
             0.1111111111111111,
             "#46039f"
            ],
            [
             0.2222222222222222,
             "#7201a8"
            ],
            [
             0.3333333333333333,
             "#9c179e"
            ],
            [
             0.4444444444444444,
             "#bd3786"
            ],
            [
             0.5555555555555556,
             "#d8576b"
            ],
            [
             0.6666666666666666,
             "#ed7953"
            ],
            [
             0.7777777777777778,
             "#fb9f3a"
            ],
            [
             0.8888888888888888,
             "#fdca26"
            ],
            [
             1,
             "#f0f921"
            ]
           ]
          },
          "colorway": [
           "#636efa",
           "#EF553B",
           "#00cc96",
           "#ab63fa",
           "#FFA15A",
           "#19d3f3",
           "#FF6692",
           "#B6E880",
           "#FF97FF",
           "#FECB52"
          ],
          "font": {
           "color": "#2a3f5f"
          },
          "geo": {
           "bgcolor": "white",
           "lakecolor": "white",
           "landcolor": "#E5ECF6",
           "showlakes": true,
           "showland": true,
           "subunitcolor": "white"
          },
          "hoverlabel": {
           "align": "left"
          },
          "hovermode": "closest",
          "mapbox": {
           "style": "light"
          },
          "paper_bgcolor": "white",
          "plot_bgcolor": "#E5ECF6",
          "polar": {
           "angularaxis": {
            "gridcolor": "white",
            "linecolor": "white",
            "ticks": ""
           },
           "bgcolor": "#E5ECF6",
           "radialaxis": {
            "gridcolor": "white",
            "linecolor": "white",
            "ticks": ""
           }
          },
          "scene": {
           "xaxis": {
            "backgroundcolor": "#E5ECF6",
            "gridcolor": "white",
            "gridwidth": 2,
            "linecolor": "white",
            "showbackground": true,
            "ticks": "",
            "zerolinecolor": "white"
           },
           "yaxis": {
            "backgroundcolor": "#E5ECF6",
            "gridcolor": "white",
            "gridwidth": 2,
            "linecolor": "white",
            "showbackground": true,
            "ticks": "",
            "zerolinecolor": "white"
           },
           "zaxis": {
            "backgroundcolor": "#E5ECF6",
            "gridcolor": "white",
            "gridwidth": 2,
            "linecolor": "white",
            "showbackground": true,
            "ticks": "",
            "zerolinecolor": "white"
           }
          },
          "shapedefaults": {
           "line": {
            "color": "#2a3f5f"
           }
          },
          "ternary": {
           "aaxis": {
            "gridcolor": "white",
            "linecolor": "white",
            "ticks": ""
           },
           "baxis": {
            "gridcolor": "white",
            "linecolor": "white",
            "ticks": ""
           },
           "bgcolor": "#E5ECF6",
           "caxis": {
            "gridcolor": "white",
            "linecolor": "white",
            "ticks": ""
           }
          },
          "title": {
           "x": 0.05
          },
          "xaxis": {
           "automargin": true,
           "gridcolor": "white",
           "linecolor": "white",
           "ticks": "",
           "title": {
            "standoff": 15
           },
           "zerolinecolor": "white",
           "zerolinewidth": 2
          },
          "yaxis": {
           "automargin": true,
           "gridcolor": "white",
           "linecolor": "white",
           "ticks": "",
           "title": {
            "standoff": 15
           },
           "zerolinecolor": "white",
           "zerolinewidth": 2
          }
         }
        },
        "title": {
         "font": {
          "color": "#4D5663"
         }
        },
        "xaxis": {
         "gridcolor": "#E1E5ED",
         "showgrid": true,
         "tickfont": {
          "color": "#4D5663"
         },
         "title": {
          "font": {
           "color": "#4D5663"
          },
          "text": ""
         },
         "zerolinecolor": "#E1E5ED"
        },
        "yaxis": {
         "gridcolor": "#E1E5ED",
         "showgrid": true,
         "tickfont": {
          "color": "#4D5663"
         },
         "title": {
          "font": {
           "color": "#4D5663"
          },
          "text": ""
         },
         "zerolinecolor": "#E1E5ED"
        }
       }
      },
      "text/html": [
       "<div>                            <div id=\"60bcc9b9-6240-4338-a01c-d811728175cb\" class=\"plotly-graph-div\" style=\"height:525px; width:100%;\"></div>            <script type=\"text/javascript\">                require([\"plotly\"], function(Plotly) {                    window.PLOTLYENV=window.PLOTLYENV || {};\n",
       "                    window.PLOTLYENV.BASE_URL='https://plot.ly';                                    if (document.getElementById(\"60bcc9b9-6240-4338-a01c-d811728175cb\")) {                    Plotly.newPlot(                        \"60bcc9b9-6240-4338-a01c-d811728175cb\",                        [{\"line\":{\"color\":\"rgba(255, 153, 51, 1.0)\",\"dash\":\"solid\",\"shape\":\"linear\",\"width\":1.3},\"mode\":\"lines\",\"name\":\"b\",\"text\":\"\",\"x\":[0.27838296152448205,0.23419125123119744,0.9402311573939685,0.9818252945368592,0.5217225533175608,0.7578086699334807,0.2111976699587792,0.6453708054587917,0.9422474824428778,0.022249498661639278,0.2755596986746416,0.9785210814026211,0.5654153135198642,0.6274844848410547,0.29576173818764806,0.06775110903405024,0.5578046082254566,0.695394908522818,0.5381113266284672,0.024570279708218234,0.800565801536332,0.9417454805485571,0.2844049944028668,0.20876361415764477,0.40084204513597377,0.9929702066541193,0.5610364132577672,0.9456186937109804,0.42937677912346195,0.8684238390608195,0.3749792724921833,0.47948962522771443,0.34562510637964516,0.204323542498955,0.6268255822305261,0.0018208891801168026,0.15535075023305478,0.3397211712303666,0.781154142366423,0.7794866433662041,0.13137575382727107,0.6130269773960699,0.3588564939512987,0.3758089595124783,0.6986529721820868,0.21942639151151921,0.14815064212379492,0.9062521460946548,0.7403349586314467,0.38662376283076283,0.7294177216662878,0.33997466187018344,0.23054653870105257,0.9508857451656485,0.5182287254107543,0.2829685330479964,0.06369402579826,0.8859286457111712,0.6444247778449625,0.4808769221479291,0.4781501977014838,0.6338947783483909,0.23279127351316065,0.9460053310771964,0.46415139315983156,0.10672036838374654,0.6048288647528082,0.7404484291378357,0.5721715643887565,0.20820478311903767,0.18395790678627488,0.2445507780935977,0.2030706541275178,0.7259007075234182,0.8718537051022205,0.4427458263967561,0.6693721813489405,0.0972233192570191,0.8310848665360812,0.12853130407696034,0.7528576050272201,0.6269189603656903,0.24086723362603313,0.7119409525430167,0.220273625383981,0.2833379658342061,0.7381673273614507,0.12276060780545017,0.6141904650010638,0.27706488133337426,0.08664374871910496,0.7848889581162702,0.9906107300324285,0.5826769730717174,0.6360842660398539,0.9944732781286196,0.5530048406334314,0.4572449539458804,0.557815245782368,0.41291209087233904,0.2549426624184302,0.114892725347159,0.5149419206249494,0.1947389190665071,0.3526181793336107,0.7754808105728687,0.5881920915935499,0.5940159562471257,0.7195378753155126,0.03318835772060036,0.7090663101424748,0.6631215124964083,0.977232679531098,0.7719401384974047,0.035832261826258094,0.6165995267708891,0.5296730184037375,0.9854390485014088,0.8801697362258294,0.9026813500873416,0.08655340525045085,0.40855409203919857,0.29261246167551447,0.5882536160573619,0.9460875905381618,0.9599395398851532,0.134191226324769,0.5994825715269421,0.3154001104519524,0.7780004260353371,0.8796764271209183,0.5270841329833486,0.5403954526297006,0.7928539046949304,0.10971527933540548,0.816532138916471,0.2420857718290783,0.11675677849822175,0.11220449384326348,0.46368063526949077,0.3212129279221101,0.8052469210185732,0.6455260739519945,0.8914610084245113,0.03772966344919615,0.7683611953549274,0.9701553271536554,0.157224605452282,0.10215749418418607,0.579642400776483,0.26043041012260115,0.5388456704079811,0.5026271473024074,0.17077443328496134,0.6279026724063317,0.32784422415868364,0.5315223674724915,0.01664642521678894,0.05977658793312701,0.7182844386110933,0.002410075582974791,0.28976459952538924,0.956358235131849,0.873345657156394,0.1023929665168467,0.9693537120441449,0.799860343750764,0.7767341227517696,0.35095394020836446,0.2731300851170819,0.7674877913938117,0.40926710359825047,0.9581869084086707,0.9136869519345833,0.15462945777929904,0.04989115296842006,0.6087496960145763,0.09002404981157142,0.8710137767117321,0.10181117331645961,0.11306563278925652,0.4452076190176386,0.023677728838237044,0.9148972930636843,0.9757086311916698,0.2432665620506652,0.46931148596267125,0.833084546340623,0.47381771963285346,0.30034377713050675,0.19870670087297682,0.33464215545217957,0.060570867447157783,0.5133872247003363,0.29416542235032217,0.8402841054446625,0.16485330719549307,0.2971743484985775,0.4340212887337186,0.3375726777449579,0.5476924609444342,0.9700944623274808,0.6634815960051572,0.5484281219888569,0.4919608394479925,0.04721132415000373,0.535448438269241,0.08013696655861935,0.659823718070622,0.17561385320074652,0.4621377961429227,0.913731510135401,0.8425679611227511,0.1287132964457438,0.22158062413319524,0.6642953937250715,0.7863254260763021,0.7426285559674783,0.8119829792830648,0.4079000554937088,0.4818533432963078,0.8672445589843626,0.5649465365148959,0.1863258851340598,0.5565702956551042,0.6335500190071063,0.5837226384267603,0.049595105095059155,0.11688907294926276,0.5163979878969284,0.14938196548411986,0.7507419804993143,0.32298861194370954,0.4865936002018795,0.9777544744272296,0.17410099058551454,0.5097506576982367,0.7563389255268216,0.7888730797232102,0.7977274805290115,0.4647181534337701,0.5737086971316067,0.18320065501536342,0.7098498161475821,0.9897513736483721,0.35004123797981757,0.025122000048269477,0.09099493281635906,0.9550398644028407,0.19219203469051283,0.40564146969169124,0.6972519286702261,0.5115207334143151,0.7638961288086225,0.6760332567480096,0.19483780775406212,0.17865617381847343,0.9143402058992728,0.7082249293197352,0.0988609827067618,0.6316605225566471,0.28387168360209925,0.4730292558002901,0.06492467601096807,0.421108337115198,0.88340997022006,0.07558722791168437,0.2416928017355272,0.3875979608522391,0.4950370054778521,0.09685693980047938,0.7528380212852178,0.7323626750880344,0.8365879779057532,0.05695369994290267,0.15016857402536932,0.22306256841679195,0.5562107010731885,0.8702073780719157,0.20225557306283692,0.3780003774349775,0.4937429855740707,0.4677051693621641,0.45365609136466967,0.5422082407715243,0.4448089914354624,0.635793773654366,0.20189762812542034,0.16508147011719865,0.6087496682112827,0.9663424836068452,0.03907953963258781,0.5471173248437363,0.0841436452376032,0.13502063293264643,0.02169492672733697,0.9925329347136855,0.7367751196372292,0.651421083329264,0.055160653099090906],\"y\":[0.9249109331400724,0.743585203827573,0.8831653553002548,0.7437554600147297,0.6823611564682303,0.16506487343753018,0.7855945330924387,0.610874756579337,0.375995937569677,0.62816785978767,0.5965756525743989,0.9428934837049706,0.3772850723956822,0.39041393680078895,0.9294099023447528,0.6455381419746795,0.55048092322994,0.0751888191051765,0.926623333998224,0.543684662845825,0.49291708945308343,0.7999730034568164,0.6713344822483769,0.514714253849142,0.3164645646392146,0.5119090267466344,0.5752840738480205,0.6893497986249156,0.9614346958103448,0.9614130825032743,0.9091966472357571,0.9128932271360557,0.07413793176728545,0.6863099487068521,0.9195097523398436,0.5782345758548263,0.640276371766621,0.8498587169199389,0.03078931207406055,0.3900200476182394,0.21378916897623146,0.7741400887480892,0.7844134895830702,0.19063517698398613,0.6912281062570999,0.3320762453686339,0.07787049190175244,0.1654263214529228,0.9060963125956981,0.40563765575676736,0.271268141849345,0.29231949993043316,0.5329946913226531,0.6903767466918592,0.7252274844185217,0.9909230463360412,0.6578736572620661,0.32776853117536586,0.6880349183046421,0.06836370287599425,0.22298400647844163,0.9972202525592014,0.5021355334747422,0.9954938114097759,0.35231096281196594,0.6430180041568724,0.8731044249396699,0.7339812968713403,5.723596902607042e-05,0.9216997646250339,0.40392772533678023,0.25003056729581086,0.43632225326481777,0.3969315140268024,0.18023333852328982,0.7683572366989557,0.37232103714726783,0.08364804343192145,0.12546544180690056,0.7556543162077884,0.022906430175386183,0.46702276069314497,0.6014727520032607,0.29277344084533086,0.318836225438214,0.5197943038891067,0.7179987736266026,0.07254120016720011,0.6416297565832461,0.910528707115394,0.9956080745493682,0.06690093708537792,0.4304710796580584,0.21815646081463358,0.0642964919122595,0.6829778374239098,0.2713888031836065,0.47392621177304983,0.7618682698273211,0.35667493623410396,0.5947091382815903,0.99685444342122,0.6500415421031767,0.3741973016219635,0.8767991630059851,0.598959653846733,0.35373210196433336,0.599271328404216,0.33733350462384104,0.9503157438080856,0.9377852518598147,0.9198472470234688,0.9060171544944103,0.5317945154255017,0.027907921811626824,0.6897425242289441,0.08860087316275866,0.039145443825186366,0.6510786882837578,0.03803766206846626,0.6983101583856602,0.9925209325417484,0.22677176158926715,0.44390905517987356,0.6481295218790062,0.1019771074274699,0.7355112963298976,0.6130818582904024,0.6691409684595404,0.9732004801984492,0.8970030499345027,0.8155347743051857,0.34595047358154984,0.5292328175910097,0.24175508672125112,0.27944738885381537,0.09802233047625142,0.7948349114339293,0.4231104333185558,0.9225780133335272,0.5929571537059921,0.5082376908019512,0.7991224171425048,0.8572852088407905,0.7064153473143651,0.4765564251372123,0.39086920735880404,0.8448301299279213,0.7919525573725301,0.4637308805156579,0.3560391522581001,0.8660475843732272,0.8316634797452599,0.475827589831463,0.9069965530094977,0.8188091578803889,0.039055434510276266,0.6886177634358395,0.022397221915856913,0.43366517875415056,0.17117866716550267,0.45704383645300983,0.276731951750087,0.7848629422122223,0.833427554500872,0.9070020898072406,0.013382546704643339,0.9776255026271423,0.5487749791602706,0.5895219696648613,0.9993844391529377,0.20595049320724346,0.05362262559356645,0.3377455153005694,0.39139726856606916,0.5157945851020265,0.48120803427415615,0.24737443971569573,0.48567015329857166,0.1564848783445022,0.8935276895081937,0.6567774576522701,0.1943586798130873,0.9131437260945536,0.9855504040933227,0.6465920585852563,0.5352961599365442,0.28888673735841297,0.07689682767300376,0.6519677132286,0.6180576680868802,0.7332526865434044,0.7382733150593876,0.9021671633258097,0.9917570539428688,0.6314203229596009,0.1757189972153087,0.43328471274485825,0.7587908147513123,0.9550934558191921,0.05203271717926494,0.17568741142758848,0.681125814278701,0.7051004755464386,0.841796127192272,0.5137189808621627,0.7145315286590298,0.4085393050362587,0.45403858963845456,0.8396187539644637,0.3096456178913587,0.39313041073528854,0.2315293765491545,0.11547659196041438,0.3136792838025151,0.005284897749385675,0.6715950813597467,0.8252923676493422,0.21115179078100788,0.8108823913344306,0.06631396452399052,0.7180449516738712,0.24876011100682938,0.6063651217145797,0.5989259337076152,0.5619983688425207,0.1526205098047202,0.028748036694012935,0.41124019289216773,0.6955693039655934,0.5363347619628274,0.6948201221594031,0.9133520856749201,0.255477572683217,0.6134580312495657,0.7803264827418107,0.9470703499446524,0.3872855764150175,0.5484429409620318,0.43584209372812965,0.3259220998337973,0.9589561252382681,0.20535736864706045,0.8484761664108016,0.727471119712164,0.5251705631192307,0.10736188754519038,0.8081022114977733,0.5881091853044598,0.4362179318305238,0.6127672791762817,0.4909901118004937,0.9893139286926358,0.515442729324614,0.7091982670868329,0.06991484581045382,0.4864504267697546,0.27378265841123395,0.8279471161592715,0.9671546307173008,0.5880463969431804,0.0841452327926916,0.019676765258533457,0.18943907042702235,0.7854050628783473,0.6755708891761858,0.09493678741879708,0.03254028847311008,0.6495636434103388,0.42405272824439655,0.0014846500474002822,0.6194235698672657,0.13408467402820268,0.40484436721447326,0.9508410559331723,0.6611369564938521,0.5019291134740256,0.4544127657952177,0.8287441761580369,0.44677356219404574,0.023608779269205904,0.0501243595869405,0.5939131945165459,0.6044614729353479,0.8874778454730741,0.4089655320375063,0.4171685691584748,0.7348433034894232,0.8818718870500538,0.44946980030850137,0.8259702739591497,0.3313876079486101,0.6348503669315897,0.3653335477567311,0.8560705490525023,0.19624183686044816,0.0532243903424966,0.33429992135805364,0.21854519003514883,0.09215638926078595],\"type\":\"scatter\"}],                        {\"legend\":{\"bgcolor\":\"#F5F6F9\",\"font\":{\"color\":\"#4D5663\"}},\"paper_bgcolor\":\"#F5F6F9\",\"plot_bgcolor\":\"#F5F6F9\",\"template\":{\"data\":{\"barpolar\":[{\"marker\":{\"line\":{\"color\":\"#E5ECF6\",\"width\":0.5},\"pattern\":{\"fillmode\":\"overlay\",\"size\":10,\"solidity\":0.2}},\"type\":\"barpolar\"}],\"bar\":[{\"error_x\":{\"color\":\"#2a3f5f\"},\"error_y\":{\"color\":\"#2a3f5f\"},\"marker\":{\"line\":{\"color\":\"#E5ECF6\",\"width\":0.5},\"pattern\":{\"fillmode\":\"overlay\",\"size\":10,\"solidity\":0.2}},\"type\":\"bar\"}],\"carpet\":[{\"aaxis\":{\"endlinecolor\":\"#2a3f5f\",\"gridcolor\":\"white\",\"linecolor\":\"white\",\"minorgridcolor\":\"white\",\"startlinecolor\":\"#2a3f5f\"},\"baxis\":{\"endlinecolor\":\"#2a3f5f\",\"gridcolor\":\"white\",\"linecolor\":\"white\",\"minorgridcolor\":\"white\",\"startlinecolor\":\"#2a3f5f\"},\"type\":\"carpet\"}],\"choropleth\":[{\"colorbar\":{\"outlinewidth\":0,\"ticks\":\"\"},\"type\":\"choropleth\"}],\"contourcarpet\":[{\"colorbar\":{\"outlinewidth\":0,\"ticks\":\"\"},\"type\":\"contourcarpet\"}],\"contour\":[{\"colorbar\":{\"outlinewidth\":0,\"ticks\":\"\"},\"colorscale\":[[0.0,\"#0d0887\"],[0.1111111111111111,\"#46039f\"],[0.2222222222222222,\"#7201a8\"],[0.3333333333333333,\"#9c179e\"],[0.4444444444444444,\"#bd3786\"],[0.5555555555555556,\"#d8576b\"],[0.6666666666666666,\"#ed7953\"],[0.7777777777777778,\"#fb9f3a\"],[0.8888888888888888,\"#fdca26\"],[1.0,\"#f0f921\"]],\"type\":\"contour\"}],\"heatmapgl\":[{\"colorbar\":{\"outlinewidth\":0,\"ticks\":\"\"},\"colorscale\":[[0.0,\"#0d0887\"],[0.1111111111111111,\"#46039f\"],[0.2222222222222222,\"#7201a8\"],[0.3333333333333333,\"#9c179e\"],[0.4444444444444444,\"#bd3786\"],[0.5555555555555556,\"#d8576b\"],[0.6666666666666666,\"#ed7953\"],[0.7777777777777778,\"#fb9f3a\"],[0.8888888888888888,\"#fdca26\"],[1.0,\"#f0f921\"]],\"type\":\"heatmapgl\"}],\"heatmap\":[{\"colorbar\":{\"outlinewidth\":0,\"ticks\":\"\"},\"colorscale\":[[0.0,\"#0d0887\"],[0.1111111111111111,\"#46039f\"],[0.2222222222222222,\"#7201a8\"],[0.3333333333333333,\"#9c179e\"],[0.4444444444444444,\"#bd3786\"],[0.5555555555555556,\"#d8576b\"],[0.6666666666666666,\"#ed7953\"],[0.7777777777777778,\"#fb9f3a\"],[0.8888888888888888,\"#fdca26\"],[1.0,\"#f0f921\"]],\"type\":\"heatmap\"}],\"histogram2dcontour\":[{\"colorbar\":{\"outlinewidth\":0,\"ticks\":\"\"},\"colorscale\":[[0.0,\"#0d0887\"],[0.1111111111111111,\"#46039f\"],[0.2222222222222222,\"#7201a8\"],[0.3333333333333333,\"#9c179e\"],[0.4444444444444444,\"#bd3786\"],[0.5555555555555556,\"#d8576b\"],[0.6666666666666666,\"#ed7953\"],[0.7777777777777778,\"#fb9f3a\"],[0.8888888888888888,\"#fdca26\"],[1.0,\"#f0f921\"]],\"type\":\"histogram2dcontour\"}],\"histogram2d\":[{\"colorbar\":{\"outlinewidth\":0,\"ticks\":\"\"},\"colorscale\":[[0.0,\"#0d0887\"],[0.1111111111111111,\"#46039f\"],[0.2222222222222222,\"#7201a8\"],[0.3333333333333333,\"#9c179e\"],[0.4444444444444444,\"#bd3786\"],[0.5555555555555556,\"#d8576b\"],[0.6666666666666666,\"#ed7953\"],[0.7777777777777778,\"#fb9f3a\"],[0.8888888888888888,\"#fdca26\"],[1.0,\"#f0f921\"]],\"type\":\"histogram2d\"}],\"histogram\":[{\"marker\":{\"pattern\":{\"fillmode\":\"overlay\",\"size\":10,\"solidity\":0.2}},\"type\":\"histogram\"}],\"mesh3d\":[{\"colorbar\":{\"outlinewidth\":0,\"ticks\":\"\"},\"type\":\"mesh3d\"}],\"parcoords\":[{\"line\":{\"colorbar\":{\"outlinewidth\":0,\"ticks\":\"\"}},\"type\":\"parcoords\"}],\"pie\":[{\"automargin\":true,\"type\":\"pie\"}],\"scatter3d\":[{\"line\":{\"colorbar\":{\"outlinewidth\":0,\"ticks\":\"\"}},\"marker\":{\"colorbar\":{\"outlinewidth\":0,\"ticks\":\"\"}},\"type\":\"scatter3d\"}],\"scattercarpet\":[{\"marker\":{\"colorbar\":{\"outlinewidth\":0,\"ticks\":\"\"}},\"type\":\"scattercarpet\"}],\"scattergeo\":[{\"marker\":{\"colorbar\":{\"outlinewidth\":0,\"ticks\":\"\"}},\"type\":\"scattergeo\"}],\"scattergl\":[{\"marker\":{\"colorbar\":{\"outlinewidth\":0,\"ticks\":\"\"}},\"type\":\"scattergl\"}],\"scattermapbox\":[{\"marker\":{\"colorbar\":{\"outlinewidth\":0,\"ticks\":\"\"}},\"type\":\"scattermapbox\"}],\"scatterpolargl\":[{\"marker\":{\"colorbar\":{\"outlinewidth\":0,\"ticks\":\"\"}},\"type\":\"scatterpolargl\"}],\"scatterpolar\":[{\"marker\":{\"colorbar\":{\"outlinewidth\":0,\"ticks\":\"\"}},\"type\":\"scatterpolar\"}],\"scatter\":[{\"fillpattern\":{\"fillmode\":\"overlay\",\"size\":10,\"solidity\":0.2},\"type\":\"scatter\"}],\"scatterternary\":[{\"marker\":{\"colorbar\":{\"outlinewidth\":0,\"ticks\":\"\"}},\"type\":\"scatterternary\"}],\"surface\":[{\"colorbar\":{\"outlinewidth\":0,\"ticks\":\"\"},\"colorscale\":[[0.0,\"#0d0887\"],[0.1111111111111111,\"#46039f\"],[0.2222222222222222,\"#7201a8\"],[0.3333333333333333,\"#9c179e\"],[0.4444444444444444,\"#bd3786\"],[0.5555555555555556,\"#d8576b\"],[0.6666666666666666,\"#ed7953\"],[0.7777777777777778,\"#fb9f3a\"],[0.8888888888888888,\"#fdca26\"],[1.0,\"#f0f921\"]],\"type\":\"surface\"}],\"table\":[{\"cells\":{\"fill\":{\"color\":\"#EBF0F8\"},\"line\":{\"color\":\"white\"}},\"header\":{\"fill\":{\"color\":\"#C8D4E3\"},\"line\":{\"color\":\"white\"}},\"type\":\"table\"}]},\"layout\":{\"annotationdefaults\":{\"arrowcolor\":\"#2a3f5f\",\"arrowhead\":0,\"arrowwidth\":1},\"autotypenumbers\":\"strict\",\"coloraxis\":{\"colorbar\":{\"outlinewidth\":0,\"ticks\":\"\"}},\"colorscale\":{\"diverging\":[[0,\"#8e0152\"],[0.1,\"#c51b7d\"],[0.2,\"#de77ae\"],[0.3,\"#f1b6da\"],[0.4,\"#fde0ef\"],[0.5,\"#f7f7f7\"],[0.6,\"#e6f5d0\"],[0.7,\"#b8e186\"],[0.8,\"#7fbc41\"],[0.9,\"#4d9221\"],[1,\"#276419\"]],\"sequential\":[[0.0,\"#0d0887\"],[0.1111111111111111,\"#46039f\"],[0.2222222222222222,\"#7201a8\"],[0.3333333333333333,\"#9c179e\"],[0.4444444444444444,\"#bd3786\"],[0.5555555555555556,\"#d8576b\"],[0.6666666666666666,\"#ed7953\"],[0.7777777777777778,\"#fb9f3a\"],[0.8888888888888888,\"#fdca26\"],[1.0,\"#f0f921\"]],\"sequentialminus\":[[0.0,\"#0d0887\"],[0.1111111111111111,\"#46039f\"],[0.2222222222222222,\"#7201a8\"],[0.3333333333333333,\"#9c179e\"],[0.4444444444444444,\"#bd3786\"],[0.5555555555555556,\"#d8576b\"],[0.6666666666666666,\"#ed7953\"],[0.7777777777777778,\"#fb9f3a\"],[0.8888888888888888,\"#fdca26\"],[1.0,\"#f0f921\"]]},\"colorway\":[\"#636efa\",\"#EF553B\",\"#00cc96\",\"#ab63fa\",\"#FFA15A\",\"#19d3f3\",\"#FF6692\",\"#B6E880\",\"#FF97FF\",\"#FECB52\"],\"font\":{\"color\":\"#2a3f5f\"},\"geo\":{\"bgcolor\":\"white\",\"lakecolor\":\"white\",\"landcolor\":\"#E5ECF6\",\"showlakes\":true,\"showland\":true,\"subunitcolor\":\"white\"},\"hoverlabel\":{\"align\":\"left\"},\"hovermode\":\"closest\",\"mapbox\":{\"style\":\"light\"},\"paper_bgcolor\":\"white\",\"plot_bgcolor\":\"#E5ECF6\",\"polar\":{\"angularaxis\":{\"gridcolor\":\"white\",\"linecolor\":\"white\",\"ticks\":\"\"},\"bgcolor\":\"#E5ECF6\",\"radialaxis\":{\"gridcolor\":\"white\",\"linecolor\":\"white\",\"ticks\":\"\"}},\"scene\":{\"xaxis\":{\"backgroundcolor\":\"#E5ECF6\",\"gridcolor\":\"white\",\"gridwidth\":2,\"linecolor\":\"white\",\"showbackground\":true,\"ticks\":\"\",\"zerolinecolor\":\"white\"},\"yaxis\":{\"backgroundcolor\":\"#E5ECF6\",\"gridcolor\":\"white\",\"gridwidth\":2,\"linecolor\":\"white\",\"showbackground\":true,\"ticks\":\"\",\"zerolinecolor\":\"white\"},\"zaxis\":{\"backgroundcolor\":\"#E5ECF6\",\"gridcolor\":\"white\",\"gridwidth\":2,\"linecolor\":\"white\",\"showbackground\":true,\"ticks\":\"\",\"zerolinecolor\":\"white\"}},\"shapedefaults\":{\"line\":{\"color\":\"#2a3f5f\"}},\"ternary\":{\"aaxis\":{\"gridcolor\":\"white\",\"linecolor\":\"white\",\"ticks\":\"\"},\"baxis\":{\"gridcolor\":\"white\",\"linecolor\":\"white\",\"ticks\":\"\"},\"bgcolor\":\"#E5ECF6\",\"caxis\":{\"gridcolor\":\"white\",\"linecolor\":\"white\",\"ticks\":\"\"}},\"title\":{\"x\":0.05},\"xaxis\":{\"automargin\":true,\"gridcolor\":\"white\",\"linecolor\":\"white\",\"ticks\":\"\",\"title\":{\"standoff\":15},\"zerolinecolor\":\"white\",\"zerolinewidth\":2},\"yaxis\":{\"automargin\":true,\"gridcolor\":\"white\",\"linecolor\":\"white\",\"ticks\":\"\",\"title\":{\"standoff\":15},\"zerolinecolor\":\"white\",\"zerolinewidth\":2}}},\"title\":{\"font\":{\"color\":\"#4D5663\"}},\"xaxis\":{\"gridcolor\":\"#E1E5ED\",\"showgrid\":true,\"tickfont\":{\"color\":\"#4D5663\"},\"title\":{\"font\":{\"color\":\"#4D5663\"},\"text\":\"\"},\"zerolinecolor\":\"#E1E5ED\"},\"yaxis\":{\"gridcolor\":\"#E1E5ED\",\"showgrid\":true,\"tickfont\":{\"color\":\"#4D5663\"},\"title\":{\"font\":{\"color\":\"#4D5663\"},\"text\":\"\"},\"zerolinecolor\":\"#E1E5ED\"}},                        {\"showLink\": true, \"linkText\": \"Export to plot.ly\", \"plotlyServerURL\": \"https://plot.ly\", \"responsive\": true}                    ).then(function(){\n",
       "                            \n",
       "var gd = document.getElementById('60bcc9b9-6240-4338-a01c-d811728175cb');\n",
       "var x = new MutationObserver(function (mutations, observer) {{\n",
       "        var display = window.getComputedStyle(gd).display;\n",
       "        if (!display || display === 'none') {{\n",
       "            console.log([gd, 'removed!']);\n",
       "            Plotly.purge(gd);\n",
       "            observer.disconnect();\n",
       "        }}\n",
       "}});\n",
       "\n",
       "// Listen for the removal of the full notebook cells\n",
       "var notebookContainer = gd.closest('#notebook-container');\n",
       "if (notebookContainer) {{\n",
       "    x.observe(notebookContainer, {childList: true});\n",
       "}}\n",
       "\n",
       "// Listen for the clearing of the current output cell\n",
       "var outputEl = gd.closest('.output');\n",
       "if (outputEl) {{\n",
       "    x.observe(outputEl, {childList: true});\n",
       "}}\n",
       "\n",
       "                        })                };                });            </script>        </div>"
      ]
     },
     "metadata": {},
     "output_type": "display_data"
    }
   ],
   "source": [
    "df.iplot(x='a' ,y='b')"
   ]
  },
  {
   "cell_type": "code",
   "execution_count": 26,
   "id": "85ced6d7",
   "metadata": {},
   "outputs": [
    {
     "data": {
      "application/vnd.plotly.v1+json": {
       "config": {
        "linkText": "Export to plot.ly",
        "plotlyServerURL": "https://plot.ly",
        "showLink": true
       },
       "data": [
        {
         "line": {
          "color": "rgba(255, 153, 51, 1.0)",
          "dash": "solid",
          "shape": "linear",
          "width": 1.3
         },
         "marker": {
          "size": 12,
          "symbol": "circle"
         },
         "mode": "markers",
         "name": "b",
         "text": "",
         "type": "scatter",
         "x": [
          0.27838296152448205,
          0.23419125123119744,
          0.9402311573939685,
          0.9818252945368592,
          0.5217225533175608,
          0.7578086699334807,
          0.2111976699587792,
          0.6453708054587917,
          0.9422474824428778,
          0.022249498661639278,
          0.2755596986746416,
          0.9785210814026211,
          0.5654153135198642,
          0.6274844848410547,
          0.29576173818764806,
          0.06775110903405024,
          0.5578046082254566,
          0.695394908522818,
          0.5381113266284672,
          0.024570279708218234,
          0.800565801536332,
          0.9417454805485571,
          0.2844049944028668,
          0.20876361415764477,
          0.40084204513597377,
          0.9929702066541193,
          0.5610364132577672,
          0.9456186937109804,
          0.42937677912346195,
          0.8684238390608195,
          0.3749792724921833,
          0.47948962522771443,
          0.34562510637964516,
          0.204323542498955,
          0.6268255822305261,
          0.0018208891801168026,
          0.15535075023305478,
          0.3397211712303666,
          0.781154142366423,
          0.7794866433662041,
          0.13137575382727107,
          0.6130269773960699,
          0.3588564939512987,
          0.3758089595124783,
          0.6986529721820868,
          0.21942639151151921,
          0.14815064212379492,
          0.9062521460946548,
          0.7403349586314467,
          0.38662376283076283,
          0.7294177216662878,
          0.33997466187018344,
          0.23054653870105257,
          0.9508857451656485,
          0.5182287254107543,
          0.2829685330479964,
          0.06369402579826,
          0.8859286457111712,
          0.6444247778449625,
          0.4808769221479291,
          0.4781501977014838,
          0.6338947783483909,
          0.23279127351316065,
          0.9460053310771964,
          0.46415139315983156,
          0.10672036838374654,
          0.6048288647528082,
          0.7404484291378357,
          0.5721715643887565,
          0.20820478311903767,
          0.18395790678627488,
          0.2445507780935977,
          0.2030706541275178,
          0.7259007075234182,
          0.8718537051022205,
          0.4427458263967561,
          0.6693721813489405,
          0.0972233192570191,
          0.8310848665360812,
          0.12853130407696034,
          0.7528576050272201,
          0.6269189603656903,
          0.24086723362603313,
          0.7119409525430167,
          0.220273625383981,
          0.2833379658342061,
          0.7381673273614507,
          0.12276060780545017,
          0.6141904650010638,
          0.27706488133337426,
          0.08664374871910496,
          0.7848889581162702,
          0.9906107300324285,
          0.5826769730717174,
          0.6360842660398539,
          0.9944732781286196,
          0.5530048406334314,
          0.4572449539458804,
          0.557815245782368,
          0.41291209087233904,
          0.2549426624184302,
          0.114892725347159,
          0.5149419206249494,
          0.1947389190665071,
          0.3526181793336107,
          0.7754808105728687,
          0.5881920915935499,
          0.5940159562471257,
          0.7195378753155126,
          0.03318835772060036,
          0.7090663101424748,
          0.6631215124964083,
          0.977232679531098,
          0.7719401384974047,
          0.035832261826258094,
          0.6165995267708891,
          0.5296730184037375,
          0.9854390485014088,
          0.8801697362258294,
          0.9026813500873416,
          0.08655340525045085,
          0.40855409203919857,
          0.29261246167551447,
          0.5882536160573619,
          0.9460875905381618,
          0.9599395398851532,
          0.134191226324769,
          0.5994825715269421,
          0.3154001104519524,
          0.7780004260353371,
          0.8796764271209183,
          0.5270841329833486,
          0.5403954526297006,
          0.7928539046949304,
          0.10971527933540548,
          0.816532138916471,
          0.2420857718290783,
          0.11675677849822175,
          0.11220449384326348,
          0.46368063526949077,
          0.3212129279221101,
          0.8052469210185732,
          0.6455260739519945,
          0.8914610084245113,
          0.03772966344919615,
          0.7683611953549274,
          0.9701553271536554,
          0.157224605452282,
          0.10215749418418607,
          0.579642400776483,
          0.26043041012260115,
          0.5388456704079811,
          0.5026271473024074,
          0.17077443328496134,
          0.6279026724063317,
          0.32784422415868364,
          0.5315223674724915,
          0.01664642521678894,
          0.05977658793312701,
          0.7182844386110933,
          0.002410075582974791,
          0.28976459952538924,
          0.956358235131849,
          0.873345657156394,
          0.1023929665168467,
          0.9693537120441449,
          0.799860343750764,
          0.7767341227517696,
          0.35095394020836446,
          0.2731300851170819,
          0.7674877913938117,
          0.40926710359825047,
          0.9581869084086707,
          0.9136869519345833,
          0.15462945777929904,
          0.04989115296842006,
          0.6087496960145763,
          0.09002404981157142,
          0.8710137767117321,
          0.10181117331645961,
          0.11306563278925652,
          0.4452076190176386,
          0.023677728838237044,
          0.9148972930636843,
          0.9757086311916698,
          0.2432665620506652,
          0.46931148596267125,
          0.833084546340623,
          0.47381771963285346,
          0.30034377713050675,
          0.19870670087297682,
          0.33464215545217957,
          0.060570867447157783,
          0.5133872247003363,
          0.29416542235032217,
          0.8402841054446625,
          0.16485330719549307,
          0.2971743484985775,
          0.4340212887337186,
          0.3375726777449579,
          0.5476924609444342,
          0.9700944623274808,
          0.6634815960051572,
          0.5484281219888569,
          0.4919608394479925,
          0.04721132415000373,
          0.535448438269241,
          0.08013696655861935,
          0.659823718070622,
          0.17561385320074652,
          0.4621377961429227,
          0.913731510135401,
          0.8425679611227511,
          0.1287132964457438,
          0.22158062413319524,
          0.6642953937250715,
          0.7863254260763021,
          0.7426285559674783,
          0.8119829792830648,
          0.4079000554937088,
          0.4818533432963078,
          0.8672445589843626,
          0.5649465365148959,
          0.1863258851340598,
          0.5565702956551042,
          0.6335500190071063,
          0.5837226384267603,
          0.049595105095059155,
          0.11688907294926276,
          0.5163979878969284,
          0.14938196548411986,
          0.7507419804993143,
          0.32298861194370954,
          0.4865936002018795,
          0.9777544744272296,
          0.17410099058551454,
          0.5097506576982367,
          0.7563389255268216,
          0.7888730797232102,
          0.7977274805290115,
          0.4647181534337701,
          0.5737086971316067,
          0.18320065501536342,
          0.7098498161475821,
          0.9897513736483721,
          0.35004123797981757,
          0.025122000048269477,
          0.09099493281635906,
          0.9550398644028407,
          0.19219203469051283,
          0.40564146969169124,
          0.6972519286702261,
          0.5115207334143151,
          0.7638961288086225,
          0.6760332567480096,
          0.19483780775406212,
          0.17865617381847343,
          0.9143402058992728,
          0.7082249293197352,
          0.0988609827067618,
          0.6316605225566471,
          0.28387168360209925,
          0.4730292558002901,
          0.06492467601096807,
          0.421108337115198,
          0.88340997022006,
          0.07558722791168437,
          0.2416928017355272,
          0.3875979608522391,
          0.4950370054778521,
          0.09685693980047938,
          0.7528380212852178,
          0.7323626750880344,
          0.8365879779057532,
          0.05695369994290267,
          0.15016857402536932,
          0.22306256841679195,
          0.5562107010731885,
          0.8702073780719157,
          0.20225557306283692,
          0.3780003774349775,
          0.4937429855740707,
          0.4677051693621641,
          0.45365609136466967,
          0.5422082407715243,
          0.4448089914354624,
          0.635793773654366,
          0.20189762812542034,
          0.16508147011719865,
          0.6087496682112827,
          0.9663424836068452,
          0.03907953963258781,
          0.5471173248437363,
          0.0841436452376032,
          0.13502063293264643,
          0.02169492672733697,
          0.9925329347136855,
          0.7367751196372292,
          0.651421083329264,
          0.055160653099090906
         ],
         "y": [
          0.9249109331400724,
          0.743585203827573,
          0.8831653553002548,
          0.7437554600147297,
          0.6823611564682303,
          0.16506487343753018,
          0.7855945330924387,
          0.610874756579337,
          0.375995937569677,
          0.62816785978767,
          0.5965756525743989,
          0.9428934837049706,
          0.3772850723956822,
          0.39041393680078895,
          0.9294099023447528,
          0.6455381419746795,
          0.55048092322994,
          0.0751888191051765,
          0.926623333998224,
          0.543684662845825,
          0.49291708945308343,
          0.7999730034568164,
          0.6713344822483769,
          0.514714253849142,
          0.3164645646392146,
          0.5119090267466344,
          0.5752840738480205,
          0.6893497986249156,
          0.9614346958103448,
          0.9614130825032743,
          0.9091966472357571,
          0.9128932271360557,
          0.07413793176728545,
          0.6863099487068521,
          0.9195097523398436,
          0.5782345758548263,
          0.640276371766621,
          0.8498587169199389,
          0.03078931207406055,
          0.3900200476182394,
          0.21378916897623146,
          0.7741400887480892,
          0.7844134895830702,
          0.19063517698398613,
          0.6912281062570999,
          0.3320762453686339,
          0.07787049190175244,
          0.1654263214529228,
          0.9060963125956981,
          0.40563765575676736,
          0.271268141849345,
          0.29231949993043316,
          0.5329946913226531,
          0.6903767466918592,
          0.7252274844185217,
          0.9909230463360412,
          0.6578736572620661,
          0.32776853117536586,
          0.6880349183046421,
          0.06836370287599425,
          0.22298400647844163,
          0.9972202525592014,
          0.5021355334747422,
          0.9954938114097759,
          0.35231096281196594,
          0.6430180041568724,
          0.8731044249396699,
          0.7339812968713403,
          5.723596902607042e-05,
          0.9216997646250339,
          0.40392772533678023,
          0.25003056729581086,
          0.43632225326481777,
          0.3969315140268024,
          0.18023333852328982,
          0.7683572366989557,
          0.37232103714726783,
          0.08364804343192145,
          0.12546544180690056,
          0.7556543162077884,
          0.022906430175386183,
          0.46702276069314497,
          0.6014727520032607,
          0.29277344084533086,
          0.318836225438214,
          0.5197943038891067,
          0.7179987736266026,
          0.07254120016720011,
          0.6416297565832461,
          0.910528707115394,
          0.9956080745493682,
          0.06690093708537792,
          0.4304710796580584,
          0.21815646081463358,
          0.0642964919122595,
          0.6829778374239098,
          0.2713888031836065,
          0.47392621177304983,
          0.7618682698273211,
          0.35667493623410396,
          0.5947091382815903,
          0.99685444342122,
          0.6500415421031767,
          0.3741973016219635,
          0.8767991630059851,
          0.598959653846733,
          0.35373210196433336,
          0.599271328404216,
          0.33733350462384104,
          0.9503157438080856,
          0.9377852518598147,
          0.9198472470234688,
          0.9060171544944103,
          0.5317945154255017,
          0.027907921811626824,
          0.6897425242289441,
          0.08860087316275866,
          0.039145443825186366,
          0.6510786882837578,
          0.03803766206846626,
          0.6983101583856602,
          0.9925209325417484,
          0.22677176158926715,
          0.44390905517987356,
          0.6481295218790062,
          0.1019771074274699,
          0.7355112963298976,
          0.6130818582904024,
          0.6691409684595404,
          0.9732004801984492,
          0.8970030499345027,
          0.8155347743051857,
          0.34595047358154984,
          0.5292328175910097,
          0.24175508672125112,
          0.27944738885381537,
          0.09802233047625142,
          0.7948349114339293,
          0.4231104333185558,
          0.9225780133335272,
          0.5929571537059921,
          0.5082376908019512,
          0.7991224171425048,
          0.8572852088407905,
          0.7064153473143651,
          0.4765564251372123,
          0.39086920735880404,
          0.8448301299279213,
          0.7919525573725301,
          0.4637308805156579,
          0.3560391522581001,
          0.8660475843732272,
          0.8316634797452599,
          0.475827589831463,
          0.9069965530094977,
          0.8188091578803889,
          0.039055434510276266,
          0.6886177634358395,
          0.022397221915856913,
          0.43366517875415056,
          0.17117866716550267,
          0.45704383645300983,
          0.276731951750087,
          0.7848629422122223,
          0.833427554500872,
          0.9070020898072406,
          0.013382546704643339,
          0.9776255026271423,
          0.5487749791602706,
          0.5895219696648613,
          0.9993844391529377,
          0.20595049320724346,
          0.05362262559356645,
          0.3377455153005694,
          0.39139726856606916,
          0.5157945851020265,
          0.48120803427415615,
          0.24737443971569573,
          0.48567015329857166,
          0.1564848783445022,
          0.8935276895081937,
          0.6567774576522701,
          0.1943586798130873,
          0.9131437260945536,
          0.9855504040933227,
          0.6465920585852563,
          0.5352961599365442,
          0.28888673735841297,
          0.07689682767300376,
          0.6519677132286,
          0.6180576680868802,
          0.7332526865434044,
          0.7382733150593876,
          0.9021671633258097,
          0.9917570539428688,
          0.6314203229596009,
          0.1757189972153087,
          0.43328471274485825,
          0.7587908147513123,
          0.9550934558191921,
          0.05203271717926494,
          0.17568741142758848,
          0.681125814278701,
          0.7051004755464386,
          0.841796127192272,
          0.5137189808621627,
          0.7145315286590298,
          0.4085393050362587,
          0.45403858963845456,
          0.8396187539644637,
          0.3096456178913587,
          0.39313041073528854,
          0.2315293765491545,
          0.11547659196041438,
          0.3136792838025151,
          0.005284897749385675,
          0.6715950813597467,
          0.8252923676493422,
          0.21115179078100788,
          0.8108823913344306,
          0.06631396452399052,
          0.7180449516738712,
          0.24876011100682938,
          0.6063651217145797,
          0.5989259337076152,
          0.5619983688425207,
          0.1526205098047202,
          0.028748036694012935,
          0.41124019289216773,
          0.6955693039655934,
          0.5363347619628274,
          0.6948201221594031,
          0.9133520856749201,
          0.255477572683217,
          0.6134580312495657,
          0.7803264827418107,
          0.9470703499446524,
          0.3872855764150175,
          0.5484429409620318,
          0.43584209372812965,
          0.3259220998337973,
          0.9589561252382681,
          0.20535736864706045,
          0.8484761664108016,
          0.727471119712164,
          0.5251705631192307,
          0.10736188754519038,
          0.8081022114977733,
          0.5881091853044598,
          0.4362179318305238,
          0.6127672791762817,
          0.4909901118004937,
          0.9893139286926358,
          0.515442729324614,
          0.7091982670868329,
          0.06991484581045382,
          0.4864504267697546,
          0.27378265841123395,
          0.8279471161592715,
          0.9671546307173008,
          0.5880463969431804,
          0.0841452327926916,
          0.019676765258533457,
          0.18943907042702235,
          0.7854050628783473,
          0.6755708891761858,
          0.09493678741879708,
          0.03254028847311008,
          0.6495636434103388,
          0.42405272824439655,
          0.0014846500474002822,
          0.6194235698672657,
          0.13408467402820268,
          0.40484436721447326,
          0.9508410559331723,
          0.6611369564938521,
          0.5019291134740256,
          0.4544127657952177,
          0.8287441761580369,
          0.44677356219404574,
          0.023608779269205904,
          0.0501243595869405,
          0.5939131945165459,
          0.6044614729353479,
          0.8874778454730741,
          0.4089655320375063,
          0.4171685691584748,
          0.7348433034894232,
          0.8818718870500538,
          0.44946980030850137,
          0.8259702739591497,
          0.3313876079486101,
          0.6348503669315897,
          0.3653335477567311,
          0.8560705490525023,
          0.19624183686044816,
          0.0532243903424966,
          0.33429992135805364,
          0.21854519003514883,
          0.09215638926078595
         ]
        }
       ],
       "layout": {
        "legend": {
         "bgcolor": "#F5F6F9",
         "font": {
          "color": "#4D5663"
         }
        },
        "paper_bgcolor": "#F5F6F9",
        "plot_bgcolor": "#F5F6F9",
        "template": {
         "data": {
          "bar": [
           {
            "error_x": {
             "color": "#2a3f5f"
            },
            "error_y": {
             "color": "#2a3f5f"
            },
            "marker": {
             "line": {
              "color": "#E5ECF6",
              "width": 0.5
             },
             "pattern": {
              "fillmode": "overlay",
              "size": 10,
              "solidity": 0.2
             }
            },
            "type": "bar"
           }
          ],
          "barpolar": [
           {
            "marker": {
             "line": {
              "color": "#E5ECF6",
              "width": 0.5
             },
             "pattern": {
              "fillmode": "overlay",
              "size": 10,
              "solidity": 0.2
             }
            },
            "type": "barpolar"
           }
          ],
          "carpet": [
           {
            "aaxis": {
             "endlinecolor": "#2a3f5f",
             "gridcolor": "white",
             "linecolor": "white",
             "minorgridcolor": "white",
             "startlinecolor": "#2a3f5f"
            },
            "baxis": {
             "endlinecolor": "#2a3f5f",
             "gridcolor": "white",
             "linecolor": "white",
             "minorgridcolor": "white",
             "startlinecolor": "#2a3f5f"
            },
            "type": "carpet"
           }
          ],
          "choropleth": [
           {
            "colorbar": {
             "outlinewidth": 0,
             "ticks": ""
            },
            "type": "choropleth"
           }
          ],
          "contour": [
           {
            "colorbar": {
             "outlinewidth": 0,
             "ticks": ""
            },
            "colorscale": [
             [
              0,
              "#0d0887"
             ],
             [
              0.1111111111111111,
              "#46039f"
             ],
             [
              0.2222222222222222,
              "#7201a8"
             ],
             [
              0.3333333333333333,
              "#9c179e"
             ],
             [
              0.4444444444444444,
              "#bd3786"
             ],
             [
              0.5555555555555556,
              "#d8576b"
             ],
             [
              0.6666666666666666,
              "#ed7953"
             ],
             [
              0.7777777777777778,
              "#fb9f3a"
             ],
             [
              0.8888888888888888,
              "#fdca26"
             ],
             [
              1,
              "#f0f921"
             ]
            ],
            "type": "contour"
           }
          ],
          "contourcarpet": [
           {
            "colorbar": {
             "outlinewidth": 0,
             "ticks": ""
            },
            "type": "contourcarpet"
           }
          ],
          "heatmap": [
           {
            "colorbar": {
             "outlinewidth": 0,
             "ticks": ""
            },
            "colorscale": [
             [
              0,
              "#0d0887"
             ],
             [
              0.1111111111111111,
              "#46039f"
             ],
             [
              0.2222222222222222,
              "#7201a8"
             ],
             [
              0.3333333333333333,
              "#9c179e"
             ],
             [
              0.4444444444444444,
              "#bd3786"
             ],
             [
              0.5555555555555556,
              "#d8576b"
             ],
             [
              0.6666666666666666,
              "#ed7953"
             ],
             [
              0.7777777777777778,
              "#fb9f3a"
             ],
             [
              0.8888888888888888,
              "#fdca26"
             ],
             [
              1,
              "#f0f921"
             ]
            ],
            "type": "heatmap"
           }
          ],
          "heatmapgl": [
           {
            "colorbar": {
             "outlinewidth": 0,
             "ticks": ""
            },
            "colorscale": [
             [
              0,
              "#0d0887"
             ],
             [
              0.1111111111111111,
              "#46039f"
             ],
             [
              0.2222222222222222,
              "#7201a8"
             ],
             [
              0.3333333333333333,
              "#9c179e"
             ],
             [
              0.4444444444444444,
              "#bd3786"
             ],
             [
              0.5555555555555556,
              "#d8576b"
             ],
             [
              0.6666666666666666,
              "#ed7953"
             ],
             [
              0.7777777777777778,
              "#fb9f3a"
             ],
             [
              0.8888888888888888,
              "#fdca26"
             ],
             [
              1,
              "#f0f921"
             ]
            ],
            "type": "heatmapgl"
           }
          ],
          "histogram": [
           {
            "marker": {
             "pattern": {
              "fillmode": "overlay",
              "size": 10,
              "solidity": 0.2
             }
            },
            "type": "histogram"
           }
          ],
          "histogram2d": [
           {
            "colorbar": {
             "outlinewidth": 0,
             "ticks": ""
            },
            "colorscale": [
             [
              0,
              "#0d0887"
             ],
             [
              0.1111111111111111,
              "#46039f"
             ],
             [
              0.2222222222222222,
              "#7201a8"
             ],
             [
              0.3333333333333333,
              "#9c179e"
             ],
             [
              0.4444444444444444,
              "#bd3786"
             ],
             [
              0.5555555555555556,
              "#d8576b"
             ],
             [
              0.6666666666666666,
              "#ed7953"
             ],
             [
              0.7777777777777778,
              "#fb9f3a"
             ],
             [
              0.8888888888888888,
              "#fdca26"
             ],
             [
              1,
              "#f0f921"
             ]
            ],
            "type": "histogram2d"
           }
          ],
          "histogram2dcontour": [
           {
            "colorbar": {
             "outlinewidth": 0,
             "ticks": ""
            },
            "colorscale": [
             [
              0,
              "#0d0887"
             ],
             [
              0.1111111111111111,
              "#46039f"
             ],
             [
              0.2222222222222222,
              "#7201a8"
             ],
             [
              0.3333333333333333,
              "#9c179e"
             ],
             [
              0.4444444444444444,
              "#bd3786"
             ],
             [
              0.5555555555555556,
              "#d8576b"
             ],
             [
              0.6666666666666666,
              "#ed7953"
             ],
             [
              0.7777777777777778,
              "#fb9f3a"
             ],
             [
              0.8888888888888888,
              "#fdca26"
             ],
             [
              1,
              "#f0f921"
             ]
            ],
            "type": "histogram2dcontour"
           }
          ],
          "mesh3d": [
           {
            "colorbar": {
             "outlinewidth": 0,
             "ticks": ""
            },
            "type": "mesh3d"
           }
          ],
          "parcoords": [
           {
            "line": {
             "colorbar": {
              "outlinewidth": 0,
              "ticks": ""
             }
            },
            "type": "parcoords"
           }
          ],
          "pie": [
           {
            "automargin": true,
            "type": "pie"
           }
          ],
          "scatter": [
           {
            "fillpattern": {
             "fillmode": "overlay",
             "size": 10,
             "solidity": 0.2
            },
            "type": "scatter"
           }
          ],
          "scatter3d": [
           {
            "line": {
             "colorbar": {
              "outlinewidth": 0,
              "ticks": ""
             }
            },
            "marker": {
             "colorbar": {
              "outlinewidth": 0,
              "ticks": ""
             }
            },
            "type": "scatter3d"
           }
          ],
          "scattercarpet": [
           {
            "marker": {
             "colorbar": {
              "outlinewidth": 0,
              "ticks": ""
             }
            },
            "type": "scattercarpet"
           }
          ],
          "scattergeo": [
           {
            "marker": {
             "colorbar": {
              "outlinewidth": 0,
              "ticks": ""
             }
            },
            "type": "scattergeo"
           }
          ],
          "scattergl": [
           {
            "marker": {
             "colorbar": {
              "outlinewidth": 0,
              "ticks": ""
             }
            },
            "type": "scattergl"
           }
          ],
          "scattermapbox": [
           {
            "marker": {
             "colorbar": {
              "outlinewidth": 0,
              "ticks": ""
             }
            },
            "type": "scattermapbox"
           }
          ],
          "scatterpolar": [
           {
            "marker": {
             "colorbar": {
              "outlinewidth": 0,
              "ticks": ""
             }
            },
            "type": "scatterpolar"
           }
          ],
          "scatterpolargl": [
           {
            "marker": {
             "colorbar": {
              "outlinewidth": 0,
              "ticks": ""
             }
            },
            "type": "scatterpolargl"
           }
          ],
          "scatterternary": [
           {
            "marker": {
             "colorbar": {
              "outlinewidth": 0,
              "ticks": ""
             }
            },
            "type": "scatterternary"
           }
          ],
          "surface": [
           {
            "colorbar": {
             "outlinewidth": 0,
             "ticks": ""
            },
            "colorscale": [
             [
              0,
              "#0d0887"
             ],
             [
              0.1111111111111111,
              "#46039f"
             ],
             [
              0.2222222222222222,
              "#7201a8"
             ],
             [
              0.3333333333333333,
              "#9c179e"
             ],
             [
              0.4444444444444444,
              "#bd3786"
             ],
             [
              0.5555555555555556,
              "#d8576b"
             ],
             [
              0.6666666666666666,
              "#ed7953"
             ],
             [
              0.7777777777777778,
              "#fb9f3a"
             ],
             [
              0.8888888888888888,
              "#fdca26"
             ],
             [
              1,
              "#f0f921"
             ]
            ],
            "type": "surface"
           }
          ],
          "table": [
           {
            "cells": {
             "fill": {
              "color": "#EBF0F8"
             },
             "line": {
              "color": "white"
             }
            },
            "header": {
             "fill": {
              "color": "#C8D4E3"
             },
             "line": {
              "color": "white"
             }
            },
            "type": "table"
           }
          ]
         },
         "layout": {
          "annotationdefaults": {
           "arrowcolor": "#2a3f5f",
           "arrowhead": 0,
           "arrowwidth": 1
          },
          "autotypenumbers": "strict",
          "coloraxis": {
           "colorbar": {
            "outlinewidth": 0,
            "ticks": ""
           }
          },
          "colorscale": {
           "diverging": [
            [
             0,
             "#8e0152"
            ],
            [
             0.1,
             "#c51b7d"
            ],
            [
             0.2,
             "#de77ae"
            ],
            [
             0.3,
             "#f1b6da"
            ],
            [
             0.4,
             "#fde0ef"
            ],
            [
             0.5,
             "#f7f7f7"
            ],
            [
             0.6,
             "#e6f5d0"
            ],
            [
             0.7,
             "#b8e186"
            ],
            [
             0.8,
             "#7fbc41"
            ],
            [
             0.9,
             "#4d9221"
            ],
            [
             1,
             "#276419"
            ]
           ],
           "sequential": [
            [
             0,
             "#0d0887"
            ],
            [
             0.1111111111111111,
             "#46039f"
            ],
            [
             0.2222222222222222,
             "#7201a8"
            ],
            [
             0.3333333333333333,
             "#9c179e"
            ],
            [
             0.4444444444444444,
             "#bd3786"
            ],
            [
             0.5555555555555556,
             "#d8576b"
            ],
            [
             0.6666666666666666,
             "#ed7953"
            ],
            [
             0.7777777777777778,
             "#fb9f3a"
            ],
            [
             0.8888888888888888,
             "#fdca26"
            ],
            [
             1,
             "#f0f921"
            ]
           ],
           "sequentialminus": [
            [
             0,
             "#0d0887"
            ],
            [
             0.1111111111111111,
             "#46039f"
            ],
            [
             0.2222222222222222,
             "#7201a8"
            ],
            [
             0.3333333333333333,
             "#9c179e"
            ],
            [
             0.4444444444444444,
             "#bd3786"
            ],
            [
             0.5555555555555556,
             "#d8576b"
            ],
            [
             0.6666666666666666,
             "#ed7953"
            ],
            [
             0.7777777777777778,
             "#fb9f3a"
            ],
            [
             0.8888888888888888,
             "#fdca26"
            ],
            [
             1,
             "#f0f921"
            ]
           ]
          },
          "colorway": [
           "#636efa",
           "#EF553B",
           "#00cc96",
           "#ab63fa",
           "#FFA15A",
           "#19d3f3",
           "#FF6692",
           "#B6E880",
           "#FF97FF",
           "#FECB52"
          ],
          "font": {
           "color": "#2a3f5f"
          },
          "geo": {
           "bgcolor": "white",
           "lakecolor": "white",
           "landcolor": "#E5ECF6",
           "showlakes": true,
           "showland": true,
           "subunitcolor": "white"
          },
          "hoverlabel": {
           "align": "left"
          },
          "hovermode": "closest",
          "mapbox": {
           "style": "light"
          },
          "paper_bgcolor": "white",
          "plot_bgcolor": "#E5ECF6",
          "polar": {
           "angularaxis": {
            "gridcolor": "white",
            "linecolor": "white",
            "ticks": ""
           },
           "bgcolor": "#E5ECF6",
           "radialaxis": {
            "gridcolor": "white",
            "linecolor": "white",
            "ticks": ""
           }
          },
          "scene": {
           "xaxis": {
            "backgroundcolor": "#E5ECF6",
            "gridcolor": "white",
            "gridwidth": 2,
            "linecolor": "white",
            "showbackground": true,
            "ticks": "",
            "zerolinecolor": "white"
           },
           "yaxis": {
            "backgroundcolor": "#E5ECF6",
            "gridcolor": "white",
            "gridwidth": 2,
            "linecolor": "white",
            "showbackground": true,
            "ticks": "",
            "zerolinecolor": "white"
           },
           "zaxis": {
            "backgroundcolor": "#E5ECF6",
            "gridcolor": "white",
            "gridwidth": 2,
            "linecolor": "white",
            "showbackground": true,
            "ticks": "",
            "zerolinecolor": "white"
           }
          },
          "shapedefaults": {
           "line": {
            "color": "#2a3f5f"
           }
          },
          "ternary": {
           "aaxis": {
            "gridcolor": "white",
            "linecolor": "white",
            "ticks": ""
           },
           "baxis": {
            "gridcolor": "white",
            "linecolor": "white",
            "ticks": ""
           },
           "bgcolor": "#E5ECF6",
           "caxis": {
            "gridcolor": "white",
            "linecolor": "white",
            "ticks": ""
           }
          },
          "title": {
           "x": 0.05
          },
          "xaxis": {
           "automargin": true,
           "gridcolor": "white",
           "linecolor": "white",
           "ticks": "",
           "title": {
            "standoff": 15
           },
           "zerolinecolor": "white",
           "zerolinewidth": 2
          },
          "yaxis": {
           "automargin": true,
           "gridcolor": "white",
           "linecolor": "white",
           "ticks": "",
           "title": {
            "standoff": 15
           },
           "zerolinecolor": "white",
           "zerolinewidth": 2
          }
         }
        },
        "title": {
         "font": {
          "color": "#4D5663"
         }
        },
        "xaxis": {
         "gridcolor": "#E1E5ED",
         "showgrid": true,
         "tickfont": {
          "color": "#4D5663"
         },
         "title": {
          "font": {
           "color": "#4D5663"
          },
          "text": ""
         },
         "zerolinecolor": "#E1E5ED"
        },
        "yaxis": {
         "gridcolor": "#E1E5ED",
         "showgrid": true,
         "tickfont": {
          "color": "#4D5663"
         },
         "title": {
          "font": {
           "color": "#4D5663"
          },
          "text": ""
         },
         "zerolinecolor": "#E1E5ED"
        }
       }
      },
      "text/html": [
       "<div>                            <div id=\"d994bdfe-9751-4056-b006-97b8f26bbc2e\" class=\"plotly-graph-div\" style=\"height:525px; width:100%;\"></div>            <script type=\"text/javascript\">                require([\"plotly\"], function(Plotly) {                    window.PLOTLYENV=window.PLOTLYENV || {};\n",
       "                    window.PLOTLYENV.BASE_URL='https://plot.ly';                                    if (document.getElementById(\"d994bdfe-9751-4056-b006-97b8f26bbc2e\")) {                    Plotly.newPlot(                        \"d994bdfe-9751-4056-b006-97b8f26bbc2e\",                        [{\"line\":{\"color\":\"rgba(255, 153, 51, 1.0)\",\"dash\":\"solid\",\"shape\":\"linear\",\"width\":1.3},\"marker\":{\"size\":12,\"symbol\":\"circle\"},\"mode\":\"markers\",\"name\":\"b\",\"text\":\"\",\"x\":[0.27838296152448205,0.23419125123119744,0.9402311573939685,0.9818252945368592,0.5217225533175608,0.7578086699334807,0.2111976699587792,0.6453708054587917,0.9422474824428778,0.022249498661639278,0.2755596986746416,0.9785210814026211,0.5654153135198642,0.6274844848410547,0.29576173818764806,0.06775110903405024,0.5578046082254566,0.695394908522818,0.5381113266284672,0.024570279708218234,0.800565801536332,0.9417454805485571,0.2844049944028668,0.20876361415764477,0.40084204513597377,0.9929702066541193,0.5610364132577672,0.9456186937109804,0.42937677912346195,0.8684238390608195,0.3749792724921833,0.47948962522771443,0.34562510637964516,0.204323542498955,0.6268255822305261,0.0018208891801168026,0.15535075023305478,0.3397211712303666,0.781154142366423,0.7794866433662041,0.13137575382727107,0.6130269773960699,0.3588564939512987,0.3758089595124783,0.6986529721820868,0.21942639151151921,0.14815064212379492,0.9062521460946548,0.7403349586314467,0.38662376283076283,0.7294177216662878,0.33997466187018344,0.23054653870105257,0.9508857451656485,0.5182287254107543,0.2829685330479964,0.06369402579826,0.8859286457111712,0.6444247778449625,0.4808769221479291,0.4781501977014838,0.6338947783483909,0.23279127351316065,0.9460053310771964,0.46415139315983156,0.10672036838374654,0.6048288647528082,0.7404484291378357,0.5721715643887565,0.20820478311903767,0.18395790678627488,0.2445507780935977,0.2030706541275178,0.7259007075234182,0.8718537051022205,0.4427458263967561,0.6693721813489405,0.0972233192570191,0.8310848665360812,0.12853130407696034,0.7528576050272201,0.6269189603656903,0.24086723362603313,0.7119409525430167,0.220273625383981,0.2833379658342061,0.7381673273614507,0.12276060780545017,0.6141904650010638,0.27706488133337426,0.08664374871910496,0.7848889581162702,0.9906107300324285,0.5826769730717174,0.6360842660398539,0.9944732781286196,0.5530048406334314,0.4572449539458804,0.557815245782368,0.41291209087233904,0.2549426624184302,0.114892725347159,0.5149419206249494,0.1947389190665071,0.3526181793336107,0.7754808105728687,0.5881920915935499,0.5940159562471257,0.7195378753155126,0.03318835772060036,0.7090663101424748,0.6631215124964083,0.977232679531098,0.7719401384974047,0.035832261826258094,0.6165995267708891,0.5296730184037375,0.9854390485014088,0.8801697362258294,0.9026813500873416,0.08655340525045085,0.40855409203919857,0.29261246167551447,0.5882536160573619,0.9460875905381618,0.9599395398851532,0.134191226324769,0.5994825715269421,0.3154001104519524,0.7780004260353371,0.8796764271209183,0.5270841329833486,0.5403954526297006,0.7928539046949304,0.10971527933540548,0.816532138916471,0.2420857718290783,0.11675677849822175,0.11220449384326348,0.46368063526949077,0.3212129279221101,0.8052469210185732,0.6455260739519945,0.8914610084245113,0.03772966344919615,0.7683611953549274,0.9701553271536554,0.157224605452282,0.10215749418418607,0.579642400776483,0.26043041012260115,0.5388456704079811,0.5026271473024074,0.17077443328496134,0.6279026724063317,0.32784422415868364,0.5315223674724915,0.01664642521678894,0.05977658793312701,0.7182844386110933,0.002410075582974791,0.28976459952538924,0.956358235131849,0.873345657156394,0.1023929665168467,0.9693537120441449,0.799860343750764,0.7767341227517696,0.35095394020836446,0.2731300851170819,0.7674877913938117,0.40926710359825047,0.9581869084086707,0.9136869519345833,0.15462945777929904,0.04989115296842006,0.6087496960145763,0.09002404981157142,0.8710137767117321,0.10181117331645961,0.11306563278925652,0.4452076190176386,0.023677728838237044,0.9148972930636843,0.9757086311916698,0.2432665620506652,0.46931148596267125,0.833084546340623,0.47381771963285346,0.30034377713050675,0.19870670087297682,0.33464215545217957,0.060570867447157783,0.5133872247003363,0.29416542235032217,0.8402841054446625,0.16485330719549307,0.2971743484985775,0.4340212887337186,0.3375726777449579,0.5476924609444342,0.9700944623274808,0.6634815960051572,0.5484281219888569,0.4919608394479925,0.04721132415000373,0.535448438269241,0.08013696655861935,0.659823718070622,0.17561385320074652,0.4621377961429227,0.913731510135401,0.8425679611227511,0.1287132964457438,0.22158062413319524,0.6642953937250715,0.7863254260763021,0.7426285559674783,0.8119829792830648,0.4079000554937088,0.4818533432963078,0.8672445589843626,0.5649465365148959,0.1863258851340598,0.5565702956551042,0.6335500190071063,0.5837226384267603,0.049595105095059155,0.11688907294926276,0.5163979878969284,0.14938196548411986,0.7507419804993143,0.32298861194370954,0.4865936002018795,0.9777544744272296,0.17410099058551454,0.5097506576982367,0.7563389255268216,0.7888730797232102,0.7977274805290115,0.4647181534337701,0.5737086971316067,0.18320065501536342,0.7098498161475821,0.9897513736483721,0.35004123797981757,0.025122000048269477,0.09099493281635906,0.9550398644028407,0.19219203469051283,0.40564146969169124,0.6972519286702261,0.5115207334143151,0.7638961288086225,0.6760332567480096,0.19483780775406212,0.17865617381847343,0.9143402058992728,0.7082249293197352,0.0988609827067618,0.6316605225566471,0.28387168360209925,0.4730292558002901,0.06492467601096807,0.421108337115198,0.88340997022006,0.07558722791168437,0.2416928017355272,0.3875979608522391,0.4950370054778521,0.09685693980047938,0.7528380212852178,0.7323626750880344,0.8365879779057532,0.05695369994290267,0.15016857402536932,0.22306256841679195,0.5562107010731885,0.8702073780719157,0.20225557306283692,0.3780003774349775,0.4937429855740707,0.4677051693621641,0.45365609136466967,0.5422082407715243,0.4448089914354624,0.635793773654366,0.20189762812542034,0.16508147011719865,0.6087496682112827,0.9663424836068452,0.03907953963258781,0.5471173248437363,0.0841436452376032,0.13502063293264643,0.02169492672733697,0.9925329347136855,0.7367751196372292,0.651421083329264,0.055160653099090906],\"y\":[0.9249109331400724,0.743585203827573,0.8831653553002548,0.7437554600147297,0.6823611564682303,0.16506487343753018,0.7855945330924387,0.610874756579337,0.375995937569677,0.62816785978767,0.5965756525743989,0.9428934837049706,0.3772850723956822,0.39041393680078895,0.9294099023447528,0.6455381419746795,0.55048092322994,0.0751888191051765,0.926623333998224,0.543684662845825,0.49291708945308343,0.7999730034568164,0.6713344822483769,0.514714253849142,0.3164645646392146,0.5119090267466344,0.5752840738480205,0.6893497986249156,0.9614346958103448,0.9614130825032743,0.9091966472357571,0.9128932271360557,0.07413793176728545,0.6863099487068521,0.9195097523398436,0.5782345758548263,0.640276371766621,0.8498587169199389,0.03078931207406055,0.3900200476182394,0.21378916897623146,0.7741400887480892,0.7844134895830702,0.19063517698398613,0.6912281062570999,0.3320762453686339,0.07787049190175244,0.1654263214529228,0.9060963125956981,0.40563765575676736,0.271268141849345,0.29231949993043316,0.5329946913226531,0.6903767466918592,0.7252274844185217,0.9909230463360412,0.6578736572620661,0.32776853117536586,0.6880349183046421,0.06836370287599425,0.22298400647844163,0.9972202525592014,0.5021355334747422,0.9954938114097759,0.35231096281196594,0.6430180041568724,0.8731044249396699,0.7339812968713403,5.723596902607042e-05,0.9216997646250339,0.40392772533678023,0.25003056729581086,0.43632225326481777,0.3969315140268024,0.18023333852328982,0.7683572366989557,0.37232103714726783,0.08364804343192145,0.12546544180690056,0.7556543162077884,0.022906430175386183,0.46702276069314497,0.6014727520032607,0.29277344084533086,0.318836225438214,0.5197943038891067,0.7179987736266026,0.07254120016720011,0.6416297565832461,0.910528707115394,0.9956080745493682,0.06690093708537792,0.4304710796580584,0.21815646081463358,0.0642964919122595,0.6829778374239098,0.2713888031836065,0.47392621177304983,0.7618682698273211,0.35667493623410396,0.5947091382815903,0.99685444342122,0.6500415421031767,0.3741973016219635,0.8767991630059851,0.598959653846733,0.35373210196433336,0.599271328404216,0.33733350462384104,0.9503157438080856,0.9377852518598147,0.9198472470234688,0.9060171544944103,0.5317945154255017,0.027907921811626824,0.6897425242289441,0.08860087316275866,0.039145443825186366,0.6510786882837578,0.03803766206846626,0.6983101583856602,0.9925209325417484,0.22677176158926715,0.44390905517987356,0.6481295218790062,0.1019771074274699,0.7355112963298976,0.6130818582904024,0.6691409684595404,0.9732004801984492,0.8970030499345027,0.8155347743051857,0.34595047358154984,0.5292328175910097,0.24175508672125112,0.27944738885381537,0.09802233047625142,0.7948349114339293,0.4231104333185558,0.9225780133335272,0.5929571537059921,0.5082376908019512,0.7991224171425048,0.8572852088407905,0.7064153473143651,0.4765564251372123,0.39086920735880404,0.8448301299279213,0.7919525573725301,0.4637308805156579,0.3560391522581001,0.8660475843732272,0.8316634797452599,0.475827589831463,0.9069965530094977,0.8188091578803889,0.039055434510276266,0.6886177634358395,0.022397221915856913,0.43366517875415056,0.17117866716550267,0.45704383645300983,0.276731951750087,0.7848629422122223,0.833427554500872,0.9070020898072406,0.013382546704643339,0.9776255026271423,0.5487749791602706,0.5895219696648613,0.9993844391529377,0.20595049320724346,0.05362262559356645,0.3377455153005694,0.39139726856606916,0.5157945851020265,0.48120803427415615,0.24737443971569573,0.48567015329857166,0.1564848783445022,0.8935276895081937,0.6567774576522701,0.1943586798130873,0.9131437260945536,0.9855504040933227,0.6465920585852563,0.5352961599365442,0.28888673735841297,0.07689682767300376,0.6519677132286,0.6180576680868802,0.7332526865434044,0.7382733150593876,0.9021671633258097,0.9917570539428688,0.6314203229596009,0.1757189972153087,0.43328471274485825,0.7587908147513123,0.9550934558191921,0.05203271717926494,0.17568741142758848,0.681125814278701,0.7051004755464386,0.841796127192272,0.5137189808621627,0.7145315286590298,0.4085393050362587,0.45403858963845456,0.8396187539644637,0.3096456178913587,0.39313041073528854,0.2315293765491545,0.11547659196041438,0.3136792838025151,0.005284897749385675,0.6715950813597467,0.8252923676493422,0.21115179078100788,0.8108823913344306,0.06631396452399052,0.7180449516738712,0.24876011100682938,0.6063651217145797,0.5989259337076152,0.5619983688425207,0.1526205098047202,0.028748036694012935,0.41124019289216773,0.6955693039655934,0.5363347619628274,0.6948201221594031,0.9133520856749201,0.255477572683217,0.6134580312495657,0.7803264827418107,0.9470703499446524,0.3872855764150175,0.5484429409620318,0.43584209372812965,0.3259220998337973,0.9589561252382681,0.20535736864706045,0.8484761664108016,0.727471119712164,0.5251705631192307,0.10736188754519038,0.8081022114977733,0.5881091853044598,0.4362179318305238,0.6127672791762817,0.4909901118004937,0.9893139286926358,0.515442729324614,0.7091982670868329,0.06991484581045382,0.4864504267697546,0.27378265841123395,0.8279471161592715,0.9671546307173008,0.5880463969431804,0.0841452327926916,0.019676765258533457,0.18943907042702235,0.7854050628783473,0.6755708891761858,0.09493678741879708,0.03254028847311008,0.6495636434103388,0.42405272824439655,0.0014846500474002822,0.6194235698672657,0.13408467402820268,0.40484436721447326,0.9508410559331723,0.6611369564938521,0.5019291134740256,0.4544127657952177,0.8287441761580369,0.44677356219404574,0.023608779269205904,0.0501243595869405,0.5939131945165459,0.6044614729353479,0.8874778454730741,0.4089655320375063,0.4171685691584748,0.7348433034894232,0.8818718870500538,0.44946980030850137,0.8259702739591497,0.3313876079486101,0.6348503669315897,0.3653335477567311,0.8560705490525023,0.19624183686044816,0.0532243903424966,0.33429992135805364,0.21854519003514883,0.09215638926078595],\"type\":\"scatter\"}],                        {\"legend\":{\"bgcolor\":\"#F5F6F9\",\"font\":{\"color\":\"#4D5663\"}},\"paper_bgcolor\":\"#F5F6F9\",\"plot_bgcolor\":\"#F5F6F9\",\"template\":{\"data\":{\"barpolar\":[{\"marker\":{\"line\":{\"color\":\"#E5ECF6\",\"width\":0.5},\"pattern\":{\"fillmode\":\"overlay\",\"size\":10,\"solidity\":0.2}},\"type\":\"barpolar\"}],\"bar\":[{\"error_x\":{\"color\":\"#2a3f5f\"},\"error_y\":{\"color\":\"#2a3f5f\"},\"marker\":{\"line\":{\"color\":\"#E5ECF6\",\"width\":0.5},\"pattern\":{\"fillmode\":\"overlay\",\"size\":10,\"solidity\":0.2}},\"type\":\"bar\"}],\"carpet\":[{\"aaxis\":{\"endlinecolor\":\"#2a3f5f\",\"gridcolor\":\"white\",\"linecolor\":\"white\",\"minorgridcolor\":\"white\",\"startlinecolor\":\"#2a3f5f\"},\"baxis\":{\"endlinecolor\":\"#2a3f5f\",\"gridcolor\":\"white\",\"linecolor\":\"white\",\"minorgridcolor\":\"white\",\"startlinecolor\":\"#2a3f5f\"},\"type\":\"carpet\"}],\"choropleth\":[{\"colorbar\":{\"outlinewidth\":0,\"ticks\":\"\"},\"type\":\"choropleth\"}],\"contourcarpet\":[{\"colorbar\":{\"outlinewidth\":0,\"ticks\":\"\"},\"type\":\"contourcarpet\"}],\"contour\":[{\"colorbar\":{\"outlinewidth\":0,\"ticks\":\"\"},\"colorscale\":[[0.0,\"#0d0887\"],[0.1111111111111111,\"#46039f\"],[0.2222222222222222,\"#7201a8\"],[0.3333333333333333,\"#9c179e\"],[0.4444444444444444,\"#bd3786\"],[0.5555555555555556,\"#d8576b\"],[0.6666666666666666,\"#ed7953\"],[0.7777777777777778,\"#fb9f3a\"],[0.8888888888888888,\"#fdca26\"],[1.0,\"#f0f921\"]],\"type\":\"contour\"}],\"heatmapgl\":[{\"colorbar\":{\"outlinewidth\":0,\"ticks\":\"\"},\"colorscale\":[[0.0,\"#0d0887\"],[0.1111111111111111,\"#46039f\"],[0.2222222222222222,\"#7201a8\"],[0.3333333333333333,\"#9c179e\"],[0.4444444444444444,\"#bd3786\"],[0.5555555555555556,\"#d8576b\"],[0.6666666666666666,\"#ed7953\"],[0.7777777777777778,\"#fb9f3a\"],[0.8888888888888888,\"#fdca26\"],[1.0,\"#f0f921\"]],\"type\":\"heatmapgl\"}],\"heatmap\":[{\"colorbar\":{\"outlinewidth\":0,\"ticks\":\"\"},\"colorscale\":[[0.0,\"#0d0887\"],[0.1111111111111111,\"#46039f\"],[0.2222222222222222,\"#7201a8\"],[0.3333333333333333,\"#9c179e\"],[0.4444444444444444,\"#bd3786\"],[0.5555555555555556,\"#d8576b\"],[0.6666666666666666,\"#ed7953\"],[0.7777777777777778,\"#fb9f3a\"],[0.8888888888888888,\"#fdca26\"],[1.0,\"#f0f921\"]],\"type\":\"heatmap\"}],\"histogram2dcontour\":[{\"colorbar\":{\"outlinewidth\":0,\"ticks\":\"\"},\"colorscale\":[[0.0,\"#0d0887\"],[0.1111111111111111,\"#46039f\"],[0.2222222222222222,\"#7201a8\"],[0.3333333333333333,\"#9c179e\"],[0.4444444444444444,\"#bd3786\"],[0.5555555555555556,\"#d8576b\"],[0.6666666666666666,\"#ed7953\"],[0.7777777777777778,\"#fb9f3a\"],[0.8888888888888888,\"#fdca26\"],[1.0,\"#f0f921\"]],\"type\":\"histogram2dcontour\"}],\"histogram2d\":[{\"colorbar\":{\"outlinewidth\":0,\"ticks\":\"\"},\"colorscale\":[[0.0,\"#0d0887\"],[0.1111111111111111,\"#46039f\"],[0.2222222222222222,\"#7201a8\"],[0.3333333333333333,\"#9c179e\"],[0.4444444444444444,\"#bd3786\"],[0.5555555555555556,\"#d8576b\"],[0.6666666666666666,\"#ed7953\"],[0.7777777777777778,\"#fb9f3a\"],[0.8888888888888888,\"#fdca26\"],[1.0,\"#f0f921\"]],\"type\":\"histogram2d\"}],\"histogram\":[{\"marker\":{\"pattern\":{\"fillmode\":\"overlay\",\"size\":10,\"solidity\":0.2}},\"type\":\"histogram\"}],\"mesh3d\":[{\"colorbar\":{\"outlinewidth\":0,\"ticks\":\"\"},\"type\":\"mesh3d\"}],\"parcoords\":[{\"line\":{\"colorbar\":{\"outlinewidth\":0,\"ticks\":\"\"}},\"type\":\"parcoords\"}],\"pie\":[{\"automargin\":true,\"type\":\"pie\"}],\"scatter3d\":[{\"line\":{\"colorbar\":{\"outlinewidth\":0,\"ticks\":\"\"}},\"marker\":{\"colorbar\":{\"outlinewidth\":0,\"ticks\":\"\"}},\"type\":\"scatter3d\"}],\"scattercarpet\":[{\"marker\":{\"colorbar\":{\"outlinewidth\":0,\"ticks\":\"\"}},\"type\":\"scattercarpet\"}],\"scattergeo\":[{\"marker\":{\"colorbar\":{\"outlinewidth\":0,\"ticks\":\"\"}},\"type\":\"scattergeo\"}],\"scattergl\":[{\"marker\":{\"colorbar\":{\"outlinewidth\":0,\"ticks\":\"\"}},\"type\":\"scattergl\"}],\"scattermapbox\":[{\"marker\":{\"colorbar\":{\"outlinewidth\":0,\"ticks\":\"\"}},\"type\":\"scattermapbox\"}],\"scatterpolargl\":[{\"marker\":{\"colorbar\":{\"outlinewidth\":0,\"ticks\":\"\"}},\"type\":\"scatterpolargl\"}],\"scatterpolar\":[{\"marker\":{\"colorbar\":{\"outlinewidth\":0,\"ticks\":\"\"}},\"type\":\"scatterpolar\"}],\"scatter\":[{\"fillpattern\":{\"fillmode\":\"overlay\",\"size\":10,\"solidity\":0.2},\"type\":\"scatter\"}],\"scatterternary\":[{\"marker\":{\"colorbar\":{\"outlinewidth\":0,\"ticks\":\"\"}},\"type\":\"scatterternary\"}],\"surface\":[{\"colorbar\":{\"outlinewidth\":0,\"ticks\":\"\"},\"colorscale\":[[0.0,\"#0d0887\"],[0.1111111111111111,\"#46039f\"],[0.2222222222222222,\"#7201a8\"],[0.3333333333333333,\"#9c179e\"],[0.4444444444444444,\"#bd3786\"],[0.5555555555555556,\"#d8576b\"],[0.6666666666666666,\"#ed7953\"],[0.7777777777777778,\"#fb9f3a\"],[0.8888888888888888,\"#fdca26\"],[1.0,\"#f0f921\"]],\"type\":\"surface\"}],\"table\":[{\"cells\":{\"fill\":{\"color\":\"#EBF0F8\"},\"line\":{\"color\":\"white\"}},\"header\":{\"fill\":{\"color\":\"#C8D4E3\"},\"line\":{\"color\":\"white\"}},\"type\":\"table\"}]},\"layout\":{\"annotationdefaults\":{\"arrowcolor\":\"#2a3f5f\",\"arrowhead\":0,\"arrowwidth\":1},\"autotypenumbers\":\"strict\",\"coloraxis\":{\"colorbar\":{\"outlinewidth\":0,\"ticks\":\"\"}},\"colorscale\":{\"diverging\":[[0,\"#8e0152\"],[0.1,\"#c51b7d\"],[0.2,\"#de77ae\"],[0.3,\"#f1b6da\"],[0.4,\"#fde0ef\"],[0.5,\"#f7f7f7\"],[0.6,\"#e6f5d0\"],[0.7,\"#b8e186\"],[0.8,\"#7fbc41\"],[0.9,\"#4d9221\"],[1,\"#276419\"]],\"sequential\":[[0.0,\"#0d0887\"],[0.1111111111111111,\"#46039f\"],[0.2222222222222222,\"#7201a8\"],[0.3333333333333333,\"#9c179e\"],[0.4444444444444444,\"#bd3786\"],[0.5555555555555556,\"#d8576b\"],[0.6666666666666666,\"#ed7953\"],[0.7777777777777778,\"#fb9f3a\"],[0.8888888888888888,\"#fdca26\"],[1.0,\"#f0f921\"]],\"sequentialminus\":[[0.0,\"#0d0887\"],[0.1111111111111111,\"#46039f\"],[0.2222222222222222,\"#7201a8\"],[0.3333333333333333,\"#9c179e\"],[0.4444444444444444,\"#bd3786\"],[0.5555555555555556,\"#d8576b\"],[0.6666666666666666,\"#ed7953\"],[0.7777777777777778,\"#fb9f3a\"],[0.8888888888888888,\"#fdca26\"],[1.0,\"#f0f921\"]]},\"colorway\":[\"#636efa\",\"#EF553B\",\"#00cc96\",\"#ab63fa\",\"#FFA15A\",\"#19d3f3\",\"#FF6692\",\"#B6E880\",\"#FF97FF\",\"#FECB52\"],\"font\":{\"color\":\"#2a3f5f\"},\"geo\":{\"bgcolor\":\"white\",\"lakecolor\":\"white\",\"landcolor\":\"#E5ECF6\",\"showlakes\":true,\"showland\":true,\"subunitcolor\":\"white\"},\"hoverlabel\":{\"align\":\"left\"},\"hovermode\":\"closest\",\"mapbox\":{\"style\":\"light\"},\"paper_bgcolor\":\"white\",\"plot_bgcolor\":\"#E5ECF6\",\"polar\":{\"angularaxis\":{\"gridcolor\":\"white\",\"linecolor\":\"white\",\"ticks\":\"\"},\"bgcolor\":\"#E5ECF6\",\"radialaxis\":{\"gridcolor\":\"white\",\"linecolor\":\"white\",\"ticks\":\"\"}},\"scene\":{\"xaxis\":{\"backgroundcolor\":\"#E5ECF6\",\"gridcolor\":\"white\",\"gridwidth\":2,\"linecolor\":\"white\",\"showbackground\":true,\"ticks\":\"\",\"zerolinecolor\":\"white\"},\"yaxis\":{\"backgroundcolor\":\"#E5ECF6\",\"gridcolor\":\"white\",\"gridwidth\":2,\"linecolor\":\"white\",\"showbackground\":true,\"ticks\":\"\",\"zerolinecolor\":\"white\"},\"zaxis\":{\"backgroundcolor\":\"#E5ECF6\",\"gridcolor\":\"white\",\"gridwidth\":2,\"linecolor\":\"white\",\"showbackground\":true,\"ticks\":\"\",\"zerolinecolor\":\"white\"}},\"shapedefaults\":{\"line\":{\"color\":\"#2a3f5f\"}},\"ternary\":{\"aaxis\":{\"gridcolor\":\"white\",\"linecolor\":\"white\",\"ticks\":\"\"},\"baxis\":{\"gridcolor\":\"white\",\"linecolor\":\"white\",\"ticks\":\"\"},\"bgcolor\":\"#E5ECF6\",\"caxis\":{\"gridcolor\":\"white\",\"linecolor\":\"white\",\"ticks\":\"\"}},\"title\":{\"x\":0.05},\"xaxis\":{\"automargin\":true,\"gridcolor\":\"white\",\"linecolor\":\"white\",\"ticks\":\"\",\"title\":{\"standoff\":15},\"zerolinecolor\":\"white\",\"zerolinewidth\":2},\"yaxis\":{\"automargin\":true,\"gridcolor\":\"white\",\"linecolor\":\"white\",\"ticks\":\"\",\"title\":{\"standoff\":15},\"zerolinecolor\":\"white\",\"zerolinewidth\":2}}},\"title\":{\"font\":{\"color\":\"#4D5663\"}},\"xaxis\":{\"gridcolor\":\"#E1E5ED\",\"showgrid\":true,\"tickfont\":{\"color\":\"#4D5663\"},\"title\":{\"font\":{\"color\":\"#4D5663\"},\"text\":\"\"},\"zerolinecolor\":\"#E1E5ED\"},\"yaxis\":{\"gridcolor\":\"#E1E5ED\",\"showgrid\":true,\"tickfont\":{\"color\":\"#4D5663\"},\"title\":{\"font\":{\"color\":\"#4D5663\"},\"text\":\"\"},\"zerolinecolor\":\"#E1E5ED\"}},                        {\"showLink\": true, \"linkText\": \"Export to plot.ly\", \"plotlyServerURL\": \"https://plot.ly\", \"responsive\": true}                    ).then(function(){\n",
       "                            \n",
       "var gd = document.getElementById('d994bdfe-9751-4056-b006-97b8f26bbc2e');\n",
       "var x = new MutationObserver(function (mutations, observer) {{\n",
       "        var display = window.getComputedStyle(gd).display;\n",
       "        if (!display || display === 'none') {{\n",
       "            console.log([gd, 'removed!']);\n",
       "            Plotly.purge(gd);\n",
       "            observer.disconnect();\n",
       "        }}\n",
       "}});\n",
       "\n",
       "// Listen for the removal of the full notebook cells\n",
       "var notebookContainer = gd.closest('#notebook-container');\n",
       "if (notebookContainer) {{\n",
       "    x.observe(notebookContainer, {childList: true});\n",
       "}}\n",
       "\n",
       "// Listen for the clearing of the current output cell\n",
       "var outputEl = gd.closest('.output');\n",
       "if (outputEl) {{\n",
       "    x.observe(outputEl, {childList: true});\n",
       "}}\n",
       "\n",
       "                        })                };                });            </script>        </div>"
      ]
     },
     "metadata": {},
     "output_type": "display_data"
    }
   ],
   "source": [
    "df.iplot(x = 'a' ,y = 'b',mode = 'markers')"
   ]
  },
  {
   "cell_type": "code",
   "execution_count": 27,
   "id": "3c2b547e",
   "metadata": {},
   "outputs": [
    {
     "data": {
      "application/vnd.plotly.v1+json": {
       "config": {
        "linkText": "Export to plot.ly",
        "plotlyServerURL": "https://plot.ly",
        "showLink": true
       },
       "data": [
        {
         "boxpoints": false,
         "line": {
          "width": 1.3
         },
         "marker": {
          "color": "rgba(255, 153, 51, 1.0)"
         },
         "name": "a",
         "orientation": "v",
         "type": "box",
         "y": [
          0.27838296152448205,
          0.23419125123119744,
          0.9402311573939685,
          0.9818252945368592,
          0.5217225533175608,
          0.7578086699334807,
          0.2111976699587792,
          0.6453708054587917,
          0.9422474824428778,
          0.022249498661639278,
          0.2755596986746416,
          0.9785210814026211,
          0.5654153135198642,
          0.6274844848410547,
          0.29576173818764806,
          0.06775110903405024,
          0.5578046082254566,
          0.695394908522818,
          0.5381113266284672,
          0.024570279708218234,
          0.800565801536332,
          0.9417454805485571,
          0.2844049944028668,
          0.20876361415764477,
          0.40084204513597377,
          0.9929702066541193,
          0.5610364132577672,
          0.9456186937109804,
          0.42937677912346195,
          0.8684238390608195,
          0.3749792724921833,
          0.47948962522771443,
          0.34562510637964516,
          0.204323542498955,
          0.6268255822305261,
          0.0018208891801168026,
          0.15535075023305478,
          0.3397211712303666,
          0.781154142366423,
          0.7794866433662041,
          0.13137575382727107,
          0.6130269773960699,
          0.3588564939512987,
          0.3758089595124783,
          0.6986529721820868,
          0.21942639151151921,
          0.14815064212379492,
          0.9062521460946548,
          0.7403349586314467,
          0.38662376283076283,
          0.7294177216662878,
          0.33997466187018344,
          0.23054653870105257,
          0.9508857451656485,
          0.5182287254107543,
          0.2829685330479964,
          0.06369402579826,
          0.8859286457111712,
          0.6444247778449625,
          0.4808769221479291,
          0.4781501977014838,
          0.6338947783483909,
          0.23279127351316065,
          0.9460053310771964,
          0.46415139315983156,
          0.10672036838374654,
          0.6048288647528082,
          0.7404484291378357,
          0.5721715643887565,
          0.20820478311903767,
          0.18395790678627488,
          0.2445507780935977,
          0.2030706541275178,
          0.7259007075234182,
          0.8718537051022205,
          0.4427458263967561,
          0.6693721813489405,
          0.0972233192570191,
          0.8310848665360812,
          0.12853130407696034,
          0.7528576050272201,
          0.6269189603656903,
          0.24086723362603313,
          0.7119409525430167,
          0.220273625383981,
          0.2833379658342061,
          0.7381673273614507,
          0.12276060780545017,
          0.6141904650010638,
          0.27706488133337426,
          0.08664374871910496,
          0.7848889581162702,
          0.9906107300324285,
          0.5826769730717174,
          0.6360842660398539,
          0.9944732781286196,
          0.5530048406334314,
          0.4572449539458804,
          0.557815245782368,
          0.41291209087233904,
          0.2549426624184302,
          0.114892725347159,
          0.5149419206249494,
          0.1947389190665071,
          0.3526181793336107,
          0.7754808105728687,
          0.5881920915935499,
          0.5940159562471257,
          0.7195378753155126,
          0.03318835772060036,
          0.7090663101424748,
          0.6631215124964083,
          0.977232679531098,
          0.7719401384974047,
          0.035832261826258094,
          0.6165995267708891,
          0.5296730184037375,
          0.9854390485014088,
          0.8801697362258294,
          0.9026813500873416,
          0.08655340525045085,
          0.40855409203919857,
          0.29261246167551447,
          0.5882536160573619,
          0.9460875905381618,
          0.9599395398851532,
          0.134191226324769,
          0.5994825715269421,
          0.3154001104519524,
          0.7780004260353371,
          0.8796764271209183,
          0.5270841329833486,
          0.5403954526297006,
          0.7928539046949304,
          0.10971527933540548,
          0.816532138916471,
          0.2420857718290783,
          0.11675677849822175,
          0.11220449384326348,
          0.46368063526949077,
          0.3212129279221101,
          0.8052469210185732,
          0.6455260739519945,
          0.8914610084245113,
          0.03772966344919615,
          0.7683611953549274,
          0.9701553271536554,
          0.157224605452282,
          0.10215749418418607,
          0.579642400776483,
          0.26043041012260115,
          0.5388456704079811,
          0.5026271473024074,
          0.17077443328496134,
          0.6279026724063317,
          0.32784422415868364,
          0.5315223674724915,
          0.01664642521678894,
          0.05977658793312701,
          0.7182844386110933,
          0.002410075582974791,
          0.28976459952538924,
          0.956358235131849,
          0.873345657156394,
          0.1023929665168467,
          0.9693537120441449,
          0.799860343750764,
          0.7767341227517696,
          0.35095394020836446,
          0.2731300851170819,
          0.7674877913938117,
          0.40926710359825047,
          0.9581869084086707,
          0.9136869519345833,
          0.15462945777929904,
          0.04989115296842006,
          0.6087496960145763,
          0.09002404981157142,
          0.8710137767117321,
          0.10181117331645961,
          0.11306563278925652,
          0.4452076190176386,
          0.023677728838237044,
          0.9148972930636843,
          0.9757086311916698,
          0.2432665620506652,
          0.46931148596267125,
          0.833084546340623,
          0.47381771963285346,
          0.30034377713050675,
          0.19870670087297682,
          0.33464215545217957,
          0.060570867447157783,
          0.5133872247003363,
          0.29416542235032217,
          0.8402841054446625,
          0.16485330719549307,
          0.2971743484985775,
          0.4340212887337186,
          0.3375726777449579,
          0.5476924609444342,
          0.9700944623274808,
          0.6634815960051572,
          0.5484281219888569,
          0.4919608394479925,
          0.04721132415000373,
          0.535448438269241,
          0.08013696655861935,
          0.659823718070622,
          0.17561385320074652,
          0.4621377961429227,
          0.913731510135401,
          0.8425679611227511,
          0.1287132964457438,
          0.22158062413319524,
          0.6642953937250715,
          0.7863254260763021,
          0.7426285559674783,
          0.8119829792830648,
          0.4079000554937088,
          0.4818533432963078,
          0.8672445589843626,
          0.5649465365148959,
          0.1863258851340598,
          0.5565702956551042,
          0.6335500190071063,
          0.5837226384267603,
          0.049595105095059155,
          0.11688907294926276,
          0.5163979878969284,
          0.14938196548411986,
          0.7507419804993143,
          0.32298861194370954,
          0.4865936002018795,
          0.9777544744272296,
          0.17410099058551454,
          0.5097506576982367,
          0.7563389255268216,
          0.7888730797232102,
          0.7977274805290115,
          0.4647181534337701,
          0.5737086971316067,
          0.18320065501536342,
          0.7098498161475821,
          0.9897513736483721,
          0.35004123797981757,
          0.025122000048269477,
          0.09099493281635906,
          0.9550398644028407,
          0.19219203469051283,
          0.40564146969169124,
          0.6972519286702261,
          0.5115207334143151,
          0.7638961288086225,
          0.6760332567480096,
          0.19483780775406212,
          0.17865617381847343,
          0.9143402058992728,
          0.7082249293197352,
          0.0988609827067618,
          0.6316605225566471,
          0.28387168360209925,
          0.4730292558002901,
          0.06492467601096807,
          0.421108337115198,
          0.88340997022006,
          0.07558722791168437,
          0.2416928017355272,
          0.3875979608522391,
          0.4950370054778521,
          0.09685693980047938,
          0.7528380212852178,
          0.7323626750880344,
          0.8365879779057532,
          0.05695369994290267,
          0.15016857402536932,
          0.22306256841679195,
          0.5562107010731885,
          0.8702073780719157,
          0.20225557306283692,
          0.3780003774349775,
          0.4937429855740707,
          0.4677051693621641,
          0.45365609136466967,
          0.5422082407715243,
          0.4448089914354624,
          0.635793773654366,
          0.20189762812542034,
          0.16508147011719865,
          0.6087496682112827,
          0.9663424836068452,
          0.03907953963258781,
          0.5471173248437363,
          0.0841436452376032,
          0.13502063293264643,
          0.02169492672733697,
          0.9925329347136855,
          0.7367751196372292,
          0.651421083329264,
          0.055160653099090906
         ]
        },
        {
         "boxpoints": false,
         "line": {
          "width": 1.3
         },
         "marker": {
          "color": "rgba(55, 128, 191, 1.0)"
         },
         "name": "b",
         "orientation": "v",
         "type": "box",
         "y": [
          0.9249109331400724,
          0.743585203827573,
          0.8831653553002548,
          0.7437554600147297,
          0.6823611564682303,
          0.16506487343753018,
          0.7855945330924387,
          0.610874756579337,
          0.375995937569677,
          0.62816785978767,
          0.5965756525743989,
          0.9428934837049706,
          0.3772850723956822,
          0.39041393680078895,
          0.9294099023447528,
          0.6455381419746795,
          0.55048092322994,
          0.0751888191051765,
          0.926623333998224,
          0.543684662845825,
          0.49291708945308343,
          0.7999730034568164,
          0.6713344822483769,
          0.514714253849142,
          0.3164645646392146,
          0.5119090267466344,
          0.5752840738480205,
          0.6893497986249156,
          0.9614346958103448,
          0.9614130825032743,
          0.9091966472357571,
          0.9128932271360557,
          0.07413793176728545,
          0.6863099487068521,
          0.9195097523398436,
          0.5782345758548263,
          0.640276371766621,
          0.8498587169199389,
          0.03078931207406055,
          0.3900200476182394,
          0.21378916897623146,
          0.7741400887480892,
          0.7844134895830702,
          0.19063517698398613,
          0.6912281062570999,
          0.3320762453686339,
          0.07787049190175244,
          0.1654263214529228,
          0.9060963125956981,
          0.40563765575676736,
          0.271268141849345,
          0.29231949993043316,
          0.5329946913226531,
          0.6903767466918592,
          0.7252274844185217,
          0.9909230463360412,
          0.6578736572620661,
          0.32776853117536586,
          0.6880349183046421,
          0.06836370287599425,
          0.22298400647844163,
          0.9972202525592014,
          0.5021355334747422,
          0.9954938114097759,
          0.35231096281196594,
          0.6430180041568724,
          0.8731044249396699,
          0.7339812968713403,
          5.723596902607042e-05,
          0.9216997646250339,
          0.40392772533678023,
          0.25003056729581086,
          0.43632225326481777,
          0.3969315140268024,
          0.18023333852328982,
          0.7683572366989557,
          0.37232103714726783,
          0.08364804343192145,
          0.12546544180690056,
          0.7556543162077884,
          0.022906430175386183,
          0.46702276069314497,
          0.6014727520032607,
          0.29277344084533086,
          0.318836225438214,
          0.5197943038891067,
          0.7179987736266026,
          0.07254120016720011,
          0.6416297565832461,
          0.910528707115394,
          0.9956080745493682,
          0.06690093708537792,
          0.4304710796580584,
          0.21815646081463358,
          0.0642964919122595,
          0.6829778374239098,
          0.2713888031836065,
          0.47392621177304983,
          0.7618682698273211,
          0.35667493623410396,
          0.5947091382815903,
          0.99685444342122,
          0.6500415421031767,
          0.3741973016219635,
          0.8767991630059851,
          0.598959653846733,
          0.35373210196433336,
          0.599271328404216,
          0.33733350462384104,
          0.9503157438080856,
          0.9377852518598147,
          0.9198472470234688,
          0.9060171544944103,
          0.5317945154255017,
          0.027907921811626824,
          0.6897425242289441,
          0.08860087316275866,
          0.039145443825186366,
          0.6510786882837578,
          0.03803766206846626,
          0.6983101583856602,
          0.9925209325417484,
          0.22677176158926715,
          0.44390905517987356,
          0.6481295218790062,
          0.1019771074274699,
          0.7355112963298976,
          0.6130818582904024,
          0.6691409684595404,
          0.9732004801984492,
          0.8970030499345027,
          0.8155347743051857,
          0.34595047358154984,
          0.5292328175910097,
          0.24175508672125112,
          0.27944738885381537,
          0.09802233047625142,
          0.7948349114339293,
          0.4231104333185558,
          0.9225780133335272,
          0.5929571537059921,
          0.5082376908019512,
          0.7991224171425048,
          0.8572852088407905,
          0.7064153473143651,
          0.4765564251372123,
          0.39086920735880404,
          0.8448301299279213,
          0.7919525573725301,
          0.4637308805156579,
          0.3560391522581001,
          0.8660475843732272,
          0.8316634797452599,
          0.475827589831463,
          0.9069965530094977,
          0.8188091578803889,
          0.039055434510276266,
          0.6886177634358395,
          0.022397221915856913,
          0.43366517875415056,
          0.17117866716550267,
          0.45704383645300983,
          0.276731951750087,
          0.7848629422122223,
          0.833427554500872,
          0.9070020898072406,
          0.013382546704643339,
          0.9776255026271423,
          0.5487749791602706,
          0.5895219696648613,
          0.9993844391529377,
          0.20595049320724346,
          0.05362262559356645,
          0.3377455153005694,
          0.39139726856606916,
          0.5157945851020265,
          0.48120803427415615,
          0.24737443971569573,
          0.48567015329857166,
          0.1564848783445022,
          0.8935276895081937,
          0.6567774576522701,
          0.1943586798130873,
          0.9131437260945536,
          0.9855504040933227,
          0.6465920585852563,
          0.5352961599365442,
          0.28888673735841297,
          0.07689682767300376,
          0.6519677132286,
          0.6180576680868802,
          0.7332526865434044,
          0.7382733150593876,
          0.9021671633258097,
          0.9917570539428688,
          0.6314203229596009,
          0.1757189972153087,
          0.43328471274485825,
          0.7587908147513123,
          0.9550934558191921,
          0.05203271717926494,
          0.17568741142758848,
          0.681125814278701,
          0.7051004755464386,
          0.841796127192272,
          0.5137189808621627,
          0.7145315286590298,
          0.4085393050362587,
          0.45403858963845456,
          0.8396187539644637,
          0.3096456178913587,
          0.39313041073528854,
          0.2315293765491545,
          0.11547659196041438,
          0.3136792838025151,
          0.005284897749385675,
          0.6715950813597467,
          0.8252923676493422,
          0.21115179078100788,
          0.8108823913344306,
          0.06631396452399052,
          0.7180449516738712,
          0.24876011100682938,
          0.6063651217145797,
          0.5989259337076152,
          0.5619983688425207,
          0.1526205098047202,
          0.028748036694012935,
          0.41124019289216773,
          0.6955693039655934,
          0.5363347619628274,
          0.6948201221594031,
          0.9133520856749201,
          0.255477572683217,
          0.6134580312495657,
          0.7803264827418107,
          0.9470703499446524,
          0.3872855764150175,
          0.5484429409620318,
          0.43584209372812965,
          0.3259220998337973,
          0.9589561252382681,
          0.20535736864706045,
          0.8484761664108016,
          0.727471119712164,
          0.5251705631192307,
          0.10736188754519038,
          0.8081022114977733,
          0.5881091853044598,
          0.4362179318305238,
          0.6127672791762817,
          0.4909901118004937,
          0.9893139286926358,
          0.515442729324614,
          0.7091982670868329,
          0.06991484581045382,
          0.4864504267697546,
          0.27378265841123395,
          0.8279471161592715,
          0.9671546307173008,
          0.5880463969431804,
          0.0841452327926916,
          0.019676765258533457,
          0.18943907042702235,
          0.7854050628783473,
          0.6755708891761858,
          0.09493678741879708,
          0.03254028847311008,
          0.6495636434103388,
          0.42405272824439655,
          0.0014846500474002822,
          0.6194235698672657,
          0.13408467402820268,
          0.40484436721447326,
          0.9508410559331723,
          0.6611369564938521,
          0.5019291134740256,
          0.4544127657952177,
          0.8287441761580369,
          0.44677356219404574,
          0.023608779269205904,
          0.0501243595869405,
          0.5939131945165459,
          0.6044614729353479,
          0.8874778454730741,
          0.4089655320375063,
          0.4171685691584748,
          0.7348433034894232,
          0.8818718870500538,
          0.44946980030850137,
          0.8259702739591497,
          0.3313876079486101,
          0.6348503669315897,
          0.3653335477567311,
          0.8560705490525023,
          0.19624183686044816,
          0.0532243903424966,
          0.33429992135805364,
          0.21854519003514883,
          0.09215638926078595
         ]
        },
        {
         "boxpoints": false,
         "line": {
          "width": 1.3
         },
         "marker": {
          "color": "rgba(50, 171, 96, 1.0)"
         },
         "name": "c",
         "orientation": "v",
         "type": "box",
         "y": [
          0.6132135886730272,
          0.6850136450529026,
          0.9175071512987296,
          0.14143471113213513,
          0.3044788603258576,
          0.26015635771323087,
          0.9561529297176117,
          0.9652854330210126,
          0.019019506038248313,
          0.5923756542810439,
          0.3837182550960132,
          0.7120543535499836,
          0.8338171520630931,
          0.1362559572270967,
          0.8747422745842608,
          0.874663859843127,
          0.8594871062140317,
          0.8822257674021559,
          0.8779079569861763,
          0.254439286604334,
          0.5838764817885568,
          0.9517126638387209,
          0.28908291904469396,
          0.3119432589263089,
          0.3716612712386357,
          0.2994320430448424,
          0.3173112601266388,
          0.827993584475566,
          0.19952146434109175,
          0.6752648485417396,
          0.7397339558194118,
          0.09800549530763925,
          0.34275652615624363,
          0.7583315545643378,
          0.32663485735455833,
          0.748232291024852,
          0.9773290486230282,
          0.7119345765251058,
          0.17045579877895822,
          0.0683229103136016,
          0.022156257243828192,
          0.25536469545123874,
          0.5514492163940488,
          0.08483881504684765,
          0.6924271450593134,
          0.6961204291781299,
          0.23141650186897467,
          0.13977303172482625,
          0.35196024354345234,
          0.6204328732807234,
          0.4347546760996197,
          0.6309138537870796,
          0.33087175927827106,
          0.005304611366702461,
          0.856870750138151,
          0.28157620990212684,
          0.1318059124447185,
          0.12591670520872789,
          0.36718983905205727,
          0.15678489740941337,
          0.5257752154993797,
          0.1941511412123833,
          0.4077382508736288,
          0.8353745161302548,
          0.6838008342368359,
          0.22940659091659998,
          0.5118039717316153,
          0.1634344703492856,
          0.04522442261349169,
          0.4757637756250698,
          0.3132537332801164,
          0.10997028700944944,
          0.23912228001654634,
          0.9377237892431306,
          0.6277988815478882,
          0.31196525187755253,
          0.5652133621727112,
          0.939181534052675,
          0.28201977424298086,
          0.619853304062075,
          0.7488267690509178,
          0.07833959391395684,
          0.17770201014990328,
          0.6424580062302143,
          0.20847797831457282,
          0.2479972883306173,
          0.9843221875648627,
          0.025880129013830633,
          0.42776755673299693,
          0.4822304940044929,
          0.6910578576915309,
          0.06842919269768633,
          0.6287418719574387,
          0.9364914566563243,
          0.08842138011816969,
          0.7504036925304206,
          0.16128890042270938,
          0.6644066896522071,
          0.006582696474971339,
          0.02896877879242854,
          0.6533264324865965,
          0.1032584926777883,
          0.5286943262025284,
          0.4862074110884368,
          0.6714295442051599,
          0.4222934050519872,
          0.6664131484270636,
          0.5447716344426509,
          0.6855468747274078,
          0.9570344594463425,
          0.00798546983740922,
          0.17417103506433473,
          0.2812701554767534,
          0.2240401473934296,
          0.6870842957205096,
          0.639977102711297,
          0.8705065550161407,
          0.7379717999275676,
          0.9801699714269048,
          0.9338303204635685,
          0.7441307529298152,
          0.6171349930012334,
          0.8552141951057083,
          0.7727176757735219,
          0.13798309884151316,
          0.2186605315065263,
          0.42665118447999306,
          0.43779200606817636,
          0.3002634415869072,
          0.7749778765403706,
          0.4473201701071954,
          0.0411339829412275,
          0.2557548324196883,
          0.700204007755437,
          0.5368918529005362,
          0.5744792523651957,
          0.11821382670090375,
          0.15988012227387705,
          0.49761367558988445,
          0.32230228460225696,
          0.3787618004173182,
          0.041259832179653566,
          0.37544771609882155,
          0.0803985816351458,
          0.22857172238223988,
          0.6485517097406066,
          0.7887813766992907,
          0.9339985288981197,
          0.03855307866546809,
          0.475794829692031,
          0.550654982705386,
          0.43182652439917235,
          0.2305019513504064,
          0.728836386210465,
          0.9995336893773883,
          0.5188953392785197,
          0.6634391628747547,
          0.27939373362812303,
          0.08882875428734127,
          0.555064316540811,
          0.6624804467071292,
          0.7748807495933415,
          0.009997025928477177,
          0.9163910840818337,
          0.5109045965055661,
          0.03379192429605571,
          0.40612901206622554,
          0.9681383367520082,
          0.6405835678414039,
          0.5167885154777012,
          0.6026193264374748,
          0.6910009845819074,
          0.21635628298637888,
          0.8227368776437903,
          0.9487748161094968,
          0.36863194095308083,
          0.04677911357708486,
          0.2653444401732916,
          0.025638318151503192,
          0.30226458493424635,
          0.2955298861669724,
          0.15942327706433113,
          0.4459977295196724,
          0.8552901757419009,
          0.5909179219263527,
          0.6509750707264838,
          0.9750215760031388,
          0.3387049205409267,
          0.7846809218260952,
          0.7310475971685182,
          0.3644723268127483,
          0.7261575046010701,
          0.03592503301100047,
          0.7672155333070102,
          0.6950804044901434,
          0.157137774794206,
          0.14314911062336855,
          0.06483705808473172,
          0.17709776932671017,
          0.7190583075806407,
          0.7900904836945561,
          0.39468005697341735,
          0.8927808334504267,
          0.8188391761826479,
          0.36828862347479996,
          0.17248954006206096,
          0.15712505373551378,
          0.4970471955442668,
          0.8397612704876931,
          0.05240579939624668,
          0.03668602027508194,
          0.041377760847440714,
          0.7503704009428943,
          0.3639208927380464,
          0.7216094315183506,
          0.7056425481089795,
          0.12540057846467922,
          0.18303849321155596,
          0.5044726507289007,
          0.7988940992416447,
          0.7546265546565827,
          0.11219023011334739,
          0.9203527365244454,
          0.6114329680444899,
          0.734537628591819,
          0.828659922616728,
          0.8136989517091305,
          0.5984058363821506,
          0.9982451828491727,
          0.6479049020938347,
          0.045459296401691884,
          0.5372838109152426,
          0.47418141084763366,
          0.4534997479341265,
          0.31437805150750187,
          0.9179518590397185,
          0.30766045119951413,
          0.03918657951200699,
          0.7485808898855011,
          0.09794277669372453,
          0.48714512846529057,
          0.7303101619730267,
          0.5949106210330561,
          0.14487106823113027,
          0.17273980225371122,
          0.37875429584640263,
          0.15967167831657247,
          0.5503438853082566,
          0.49090705641071264,
          0.8168754159494535,
          0.8399697355887523,
          0.28829963905890066,
          0.8546864018741199,
          0.5639277648470203,
          0.8801569584710632,
          0.505719858864368,
          0.16877372914454913,
          0.9931991849278179,
          0.6786314088093598,
          0.9301305038587583,
          0.006366205149585968,
          0.7387774068963673,
          0.27945483771838675,
          0.44028995924223213,
          0.8744759422788644,
          0.07628096388600647,
          0.03279490919077921,
          0.37805696778809783,
          0.4707032210050508,
          0.3123127706518679,
          0.24848885317235048,
          0.4946975505632929,
          0.35293667509158666,
          0.05209907095792288,
          0.16217788498514107,
          0.9000581081647914,
          0.31025866721312145,
          0.3288977708370888,
          0.048607373703109524,
          0.2413062473271752,
          0.4787173360909688,
          0.07380545441463593,
          0.05280919626094438,
          0.5934043807141075,
          0.3075212671973482,
          0.7333436068345064,
          0.8204087120340883,
          0.02385614994725116,
          0.8907206167636419,
          0.9347983202562132,
          0.9242080986288362,
          0.0030073110662538483,
          0.798283813378484,
          0.1725921794694495,
          0.20778978316793761,
          0.896102533883606,
          0.3299977405418435,
          0.5162713263215997,
          0.7220135778708721,
          0.6168871457090428
         ]
        }
       ],
       "layout": {
        "legend": {
         "bgcolor": "#F5F6F9",
         "font": {
          "color": "#4D5663"
         }
        },
        "paper_bgcolor": "#F5F6F9",
        "plot_bgcolor": "#F5F6F9",
        "template": {
         "data": {
          "bar": [
           {
            "error_x": {
             "color": "#2a3f5f"
            },
            "error_y": {
             "color": "#2a3f5f"
            },
            "marker": {
             "line": {
              "color": "#E5ECF6",
              "width": 0.5
             },
             "pattern": {
              "fillmode": "overlay",
              "size": 10,
              "solidity": 0.2
             }
            },
            "type": "bar"
           }
          ],
          "barpolar": [
           {
            "marker": {
             "line": {
              "color": "#E5ECF6",
              "width": 0.5
             },
             "pattern": {
              "fillmode": "overlay",
              "size": 10,
              "solidity": 0.2
             }
            },
            "type": "barpolar"
           }
          ],
          "carpet": [
           {
            "aaxis": {
             "endlinecolor": "#2a3f5f",
             "gridcolor": "white",
             "linecolor": "white",
             "minorgridcolor": "white",
             "startlinecolor": "#2a3f5f"
            },
            "baxis": {
             "endlinecolor": "#2a3f5f",
             "gridcolor": "white",
             "linecolor": "white",
             "minorgridcolor": "white",
             "startlinecolor": "#2a3f5f"
            },
            "type": "carpet"
           }
          ],
          "choropleth": [
           {
            "colorbar": {
             "outlinewidth": 0,
             "ticks": ""
            },
            "type": "choropleth"
           }
          ],
          "contour": [
           {
            "colorbar": {
             "outlinewidth": 0,
             "ticks": ""
            },
            "colorscale": [
             [
              0,
              "#0d0887"
             ],
             [
              0.1111111111111111,
              "#46039f"
             ],
             [
              0.2222222222222222,
              "#7201a8"
             ],
             [
              0.3333333333333333,
              "#9c179e"
             ],
             [
              0.4444444444444444,
              "#bd3786"
             ],
             [
              0.5555555555555556,
              "#d8576b"
             ],
             [
              0.6666666666666666,
              "#ed7953"
             ],
             [
              0.7777777777777778,
              "#fb9f3a"
             ],
             [
              0.8888888888888888,
              "#fdca26"
             ],
             [
              1,
              "#f0f921"
             ]
            ],
            "type": "contour"
           }
          ],
          "contourcarpet": [
           {
            "colorbar": {
             "outlinewidth": 0,
             "ticks": ""
            },
            "type": "contourcarpet"
           }
          ],
          "heatmap": [
           {
            "colorbar": {
             "outlinewidth": 0,
             "ticks": ""
            },
            "colorscale": [
             [
              0,
              "#0d0887"
             ],
             [
              0.1111111111111111,
              "#46039f"
             ],
             [
              0.2222222222222222,
              "#7201a8"
             ],
             [
              0.3333333333333333,
              "#9c179e"
             ],
             [
              0.4444444444444444,
              "#bd3786"
             ],
             [
              0.5555555555555556,
              "#d8576b"
             ],
             [
              0.6666666666666666,
              "#ed7953"
             ],
             [
              0.7777777777777778,
              "#fb9f3a"
             ],
             [
              0.8888888888888888,
              "#fdca26"
             ],
             [
              1,
              "#f0f921"
             ]
            ],
            "type": "heatmap"
           }
          ],
          "heatmapgl": [
           {
            "colorbar": {
             "outlinewidth": 0,
             "ticks": ""
            },
            "colorscale": [
             [
              0,
              "#0d0887"
             ],
             [
              0.1111111111111111,
              "#46039f"
             ],
             [
              0.2222222222222222,
              "#7201a8"
             ],
             [
              0.3333333333333333,
              "#9c179e"
             ],
             [
              0.4444444444444444,
              "#bd3786"
             ],
             [
              0.5555555555555556,
              "#d8576b"
             ],
             [
              0.6666666666666666,
              "#ed7953"
             ],
             [
              0.7777777777777778,
              "#fb9f3a"
             ],
             [
              0.8888888888888888,
              "#fdca26"
             ],
             [
              1,
              "#f0f921"
             ]
            ],
            "type": "heatmapgl"
           }
          ],
          "histogram": [
           {
            "marker": {
             "pattern": {
              "fillmode": "overlay",
              "size": 10,
              "solidity": 0.2
             }
            },
            "type": "histogram"
           }
          ],
          "histogram2d": [
           {
            "colorbar": {
             "outlinewidth": 0,
             "ticks": ""
            },
            "colorscale": [
             [
              0,
              "#0d0887"
             ],
             [
              0.1111111111111111,
              "#46039f"
             ],
             [
              0.2222222222222222,
              "#7201a8"
             ],
             [
              0.3333333333333333,
              "#9c179e"
             ],
             [
              0.4444444444444444,
              "#bd3786"
             ],
             [
              0.5555555555555556,
              "#d8576b"
             ],
             [
              0.6666666666666666,
              "#ed7953"
             ],
             [
              0.7777777777777778,
              "#fb9f3a"
             ],
             [
              0.8888888888888888,
              "#fdca26"
             ],
             [
              1,
              "#f0f921"
             ]
            ],
            "type": "histogram2d"
           }
          ],
          "histogram2dcontour": [
           {
            "colorbar": {
             "outlinewidth": 0,
             "ticks": ""
            },
            "colorscale": [
             [
              0,
              "#0d0887"
             ],
             [
              0.1111111111111111,
              "#46039f"
             ],
             [
              0.2222222222222222,
              "#7201a8"
             ],
             [
              0.3333333333333333,
              "#9c179e"
             ],
             [
              0.4444444444444444,
              "#bd3786"
             ],
             [
              0.5555555555555556,
              "#d8576b"
             ],
             [
              0.6666666666666666,
              "#ed7953"
             ],
             [
              0.7777777777777778,
              "#fb9f3a"
             ],
             [
              0.8888888888888888,
              "#fdca26"
             ],
             [
              1,
              "#f0f921"
             ]
            ],
            "type": "histogram2dcontour"
           }
          ],
          "mesh3d": [
           {
            "colorbar": {
             "outlinewidth": 0,
             "ticks": ""
            },
            "type": "mesh3d"
           }
          ],
          "parcoords": [
           {
            "line": {
             "colorbar": {
              "outlinewidth": 0,
              "ticks": ""
             }
            },
            "type": "parcoords"
           }
          ],
          "pie": [
           {
            "automargin": true,
            "type": "pie"
           }
          ],
          "scatter": [
           {
            "fillpattern": {
             "fillmode": "overlay",
             "size": 10,
             "solidity": 0.2
            },
            "type": "scatter"
           }
          ],
          "scatter3d": [
           {
            "line": {
             "colorbar": {
              "outlinewidth": 0,
              "ticks": ""
             }
            },
            "marker": {
             "colorbar": {
              "outlinewidth": 0,
              "ticks": ""
             }
            },
            "type": "scatter3d"
           }
          ],
          "scattercarpet": [
           {
            "marker": {
             "colorbar": {
              "outlinewidth": 0,
              "ticks": ""
             }
            },
            "type": "scattercarpet"
           }
          ],
          "scattergeo": [
           {
            "marker": {
             "colorbar": {
              "outlinewidth": 0,
              "ticks": ""
             }
            },
            "type": "scattergeo"
           }
          ],
          "scattergl": [
           {
            "marker": {
             "colorbar": {
              "outlinewidth": 0,
              "ticks": ""
             }
            },
            "type": "scattergl"
           }
          ],
          "scattermapbox": [
           {
            "marker": {
             "colorbar": {
              "outlinewidth": 0,
              "ticks": ""
             }
            },
            "type": "scattermapbox"
           }
          ],
          "scatterpolar": [
           {
            "marker": {
             "colorbar": {
              "outlinewidth": 0,
              "ticks": ""
             }
            },
            "type": "scatterpolar"
           }
          ],
          "scatterpolargl": [
           {
            "marker": {
             "colorbar": {
              "outlinewidth": 0,
              "ticks": ""
             }
            },
            "type": "scatterpolargl"
           }
          ],
          "scatterternary": [
           {
            "marker": {
             "colorbar": {
              "outlinewidth": 0,
              "ticks": ""
             }
            },
            "type": "scatterternary"
           }
          ],
          "surface": [
           {
            "colorbar": {
             "outlinewidth": 0,
             "ticks": ""
            },
            "colorscale": [
             [
              0,
              "#0d0887"
             ],
             [
              0.1111111111111111,
              "#46039f"
             ],
             [
              0.2222222222222222,
              "#7201a8"
             ],
             [
              0.3333333333333333,
              "#9c179e"
             ],
             [
              0.4444444444444444,
              "#bd3786"
             ],
             [
              0.5555555555555556,
              "#d8576b"
             ],
             [
              0.6666666666666666,
              "#ed7953"
             ],
             [
              0.7777777777777778,
              "#fb9f3a"
             ],
             [
              0.8888888888888888,
              "#fdca26"
             ],
             [
              1,
              "#f0f921"
             ]
            ],
            "type": "surface"
           }
          ],
          "table": [
           {
            "cells": {
             "fill": {
              "color": "#EBF0F8"
             },
             "line": {
              "color": "white"
             }
            },
            "header": {
             "fill": {
              "color": "#C8D4E3"
             },
             "line": {
              "color": "white"
             }
            },
            "type": "table"
           }
          ]
         },
         "layout": {
          "annotationdefaults": {
           "arrowcolor": "#2a3f5f",
           "arrowhead": 0,
           "arrowwidth": 1
          },
          "autotypenumbers": "strict",
          "coloraxis": {
           "colorbar": {
            "outlinewidth": 0,
            "ticks": ""
           }
          },
          "colorscale": {
           "diverging": [
            [
             0,
             "#8e0152"
            ],
            [
             0.1,
             "#c51b7d"
            ],
            [
             0.2,
             "#de77ae"
            ],
            [
             0.3,
             "#f1b6da"
            ],
            [
             0.4,
             "#fde0ef"
            ],
            [
             0.5,
             "#f7f7f7"
            ],
            [
             0.6,
             "#e6f5d0"
            ],
            [
             0.7,
             "#b8e186"
            ],
            [
             0.8,
             "#7fbc41"
            ],
            [
             0.9,
             "#4d9221"
            ],
            [
             1,
             "#276419"
            ]
           ],
           "sequential": [
            [
             0,
             "#0d0887"
            ],
            [
             0.1111111111111111,
             "#46039f"
            ],
            [
             0.2222222222222222,
             "#7201a8"
            ],
            [
             0.3333333333333333,
             "#9c179e"
            ],
            [
             0.4444444444444444,
             "#bd3786"
            ],
            [
             0.5555555555555556,
             "#d8576b"
            ],
            [
             0.6666666666666666,
             "#ed7953"
            ],
            [
             0.7777777777777778,
             "#fb9f3a"
            ],
            [
             0.8888888888888888,
             "#fdca26"
            ],
            [
             1,
             "#f0f921"
            ]
           ],
           "sequentialminus": [
            [
             0,
             "#0d0887"
            ],
            [
             0.1111111111111111,
             "#46039f"
            ],
            [
             0.2222222222222222,
             "#7201a8"
            ],
            [
             0.3333333333333333,
             "#9c179e"
            ],
            [
             0.4444444444444444,
             "#bd3786"
            ],
            [
             0.5555555555555556,
             "#d8576b"
            ],
            [
             0.6666666666666666,
             "#ed7953"
            ],
            [
             0.7777777777777778,
             "#fb9f3a"
            ],
            [
             0.8888888888888888,
             "#fdca26"
            ],
            [
             1,
             "#f0f921"
            ]
           ]
          },
          "colorway": [
           "#636efa",
           "#EF553B",
           "#00cc96",
           "#ab63fa",
           "#FFA15A",
           "#19d3f3",
           "#FF6692",
           "#B6E880",
           "#FF97FF",
           "#FECB52"
          ],
          "font": {
           "color": "#2a3f5f"
          },
          "geo": {
           "bgcolor": "white",
           "lakecolor": "white",
           "landcolor": "#E5ECF6",
           "showlakes": true,
           "showland": true,
           "subunitcolor": "white"
          },
          "hoverlabel": {
           "align": "left"
          },
          "hovermode": "closest",
          "mapbox": {
           "style": "light"
          },
          "paper_bgcolor": "white",
          "plot_bgcolor": "#E5ECF6",
          "polar": {
           "angularaxis": {
            "gridcolor": "white",
            "linecolor": "white",
            "ticks": ""
           },
           "bgcolor": "#E5ECF6",
           "radialaxis": {
            "gridcolor": "white",
            "linecolor": "white",
            "ticks": ""
           }
          },
          "scene": {
           "xaxis": {
            "backgroundcolor": "#E5ECF6",
            "gridcolor": "white",
            "gridwidth": 2,
            "linecolor": "white",
            "showbackground": true,
            "ticks": "",
            "zerolinecolor": "white"
           },
           "yaxis": {
            "backgroundcolor": "#E5ECF6",
            "gridcolor": "white",
            "gridwidth": 2,
            "linecolor": "white",
            "showbackground": true,
            "ticks": "",
            "zerolinecolor": "white"
           },
           "zaxis": {
            "backgroundcolor": "#E5ECF6",
            "gridcolor": "white",
            "gridwidth": 2,
            "linecolor": "white",
            "showbackground": true,
            "ticks": "",
            "zerolinecolor": "white"
           }
          },
          "shapedefaults": {
           "line": {
            "color": "#2a3f5f"
           }
          },
          "ternary": {
           "aaxis": {
            "gridcolor": "white",
            "linecolor": "white",
            "ticks": ""
           },
           "baxis": {
            "gridcolor": "white",
            "linecolor": "white",
            "ticks": ""
           },
           "bgcolor": "#E5ECF6",
           "caxis": {
            "gridcolor": "white",
            "linecolor": "white",
            "ticks": ""
           }
          },
          "title": {
           "x": 0.05
          },
          "xaxis": {
           "automargin": true,
           "gridcolor": "white",
           "linecolor": "white",
           "ticks": "",
           "title": {
            "standoff": 15
           },
           "zerolinecolor": "white",
           "zerolinewidth": 2
          },
          "yaxis": {
           "automargin": true,
           "gridcolor": "white",
           "linecolor": "white",
           "ticks": "",
           "title": {
            "standoff": 15
           },
           "zerolinecolor": "white",
           "zerolinewidth": 2
          }
         }
        },
        "title": {
         "font": {
          "color": "#4D5663"
         }
        },
        "xaxis": {
         "gridcolor": "#E1E5ED",
         "showgrid": true,
         "tickfont": {
          "color": "#4D5663"
         },
         "title": {
          "font": {
           "color": "#4D5663"
          },
          "text": ""
         },
         "zerolinecolor": "#E1E5ED"
        },
        "yaxis": {
         "gridcolor": "#E1E5ED",
         "showgrid": true,
         "tickfont": {
          "color": "#4D5663"
         },
         "title": {
          "font": {
           "color": "#4D5663"
          },
          "text": ""
         },
         "zerolinecolor": "#E1E5ED"
        }
       }
      },
      "text/html": [
       "<div>                            <div id=\"932af735-2c51-4e3a-9cc7-a7db0afc2dce\" class=\"plotly-graph-div\" style=\"height:525px; width:100%;\"></div>            <script type=\"text/javascript\">                require([\"plotly\"], function(Plotly) {                    window.PLOTLYENV=window.PLOTLYENV || {};\n",
       "                    window.PLOTLYENV.BASE_URL='https://plot.ly';                                    if (document.getElementById(\"932af735-2c51-4e3a-9cc7-a7db0afc2dce\")) {                    Plotly.newPlot(                        \"932af735-2c51-4e3a-9cc7-a7db0afc2dce\",                        [{\"boxpoints\":false,\"line\":{\"width\":1.3},\"marker\":{\"color\":\"rgba(255, 153, 51, 1.0)\"},\"name\":\"a\",\"orientation\":\"v\",\"y\":[0.27838296152448205,0.23419125123119744,0.9402311573939685,0.9818252945368592,0.5217225533175608,0.7578086699334807,0.2111976699587792,0.6453708054587917,0.9422474824428778,0.022249498661639278,0.2755596986746416,0.9785210814026211,0.5654153135198642,0.6274844848410547,0.29576173818764806,0.06775110903405024,0.5578046082254566,0.695394908522818,0.5381113266284672,0.024570279708218234,0.800565801536332,0.9417454805485571,0.2844049944028668,0.20876361415764477,0.40084204513597377,0.9929702066541193,0.5610364132577672,0.9456186937109804,0.42937677912346195,0.8684238390608195,0.3749792724921833,0.47948962522771443,0.34562510637964516,0.204323542498955,0.6268255822305261,0.0018208891801168026,0.15535075023305478,0.3397211712303666,0.781154142366423,0.7794866433662041,0.13137575382727107,0.6130269773960699,0.3588564939512987,0.3758089595124783,0.6986529721820868,0.21942639151151921,0.14815064212379492,0.9062521460946548,0.7403349586314467,0.38662376283076283,0.7294177216662878,0.33997466187018344,0.23054653870105257,0.9508857451656485,0.5182287254107543,0.2829685330479964,0.06369402579826,0.8859286457111712,0.6444247778449625,0.4808769221479291,0.4781501977014838,0.6338947783483909,0.23279127351316065,0.9460053310771964,0.46415139315983156,0.10672036838374654,0.6048288647528082,0.7404484291378357,0.5721715643887565,0.20820478311903767,0.18395790678627488,0.2445507780935977,0.2030706541275178,0.7259007075234182,0.8718537051022205,0.4427458263967561,0.6693721813489405,0.0972233192570191,0.8310848665360812,0.12853130407696034,0.7528576050272201,0.6269189603656903,0.24086723362603313,0.7119409525430167,0.220273625383981,0.2833379658342061,0.7381673273614507,0.12276060780545017,0.6141904650010638,0.27706488133337426,0.08664374871910496,0.7848889581162702,0.9906107300324285,0.5826769730717174,0.6360842660398539,0.9944732781286196,0.5530048406334314,0.4572449539458804,0.557815245782368,0.41291209087233904,0.2549426624184302,0.114892725347159,0.5149419206249494,0.1947389190665071,0.3526181793336107,0.7754808105728687,0.5881920915935499,0.5940159562471257,0.7195378753155126,0.03318835772060036,0.7090663101424748,0.6631215124964083,0.977232679531098,0.7719401384974047,0.035832261826258094,0.6165995267708891,0.5296730184037375,0.9854390485014088,0.8801697362258294,0.9026813500873416,0.08655340525045085,0.40855409203919857,0.29261246167551447,0.5882536160573619,0.9460875905381618,0.9599395398851532,0.134191226324769,0.5994825715269421,0.3154001104519524,0.7780004260353371,0.8796764271209183,0.5270841329833486,0.5403954526297006,0.7928539046949304,0.10971527933540548,0.816532138916471,0.2420857718290783,0.11675677849822175,0.11220449384326348,0.46368063526949077,0.3212129279221101,0.8052469210185732,0.6455260739519945,0.8914610084245113,0.03772966344919615,0.7683611953549274,0.9701553271536554,0.157224605452282,0.10215749418418607,0.579642400776483,0.26043041012260115,0.5388456704079811,0.5026271473024074,0.17077443328496134,0.6279026724063317,0.32784422415868364,0.5315223674724915,0.01664642521678894,0.05977658793312701,0.7182844386110933,0.002410075582974791,0.28976459952538924,0.956358235131849,0.873345657156394,0.1023929665168467,0.9693537120441449,0.799860343750764,0.7767341227517696,0.35095394020836446,0.2731300851170819,0.7674877913938117,0.40926710359825047,0.9581869084086707,0.9136869519345833,0.15462945777929904,0.04989115296842006,0.6087496960145763,0.09002404981157142,0.8710137767117321,0.10181117331645961,0.11306563278925652,0.4452076190176386,0.023677728838237044,0.9148972930636843,0.9757086311916698,0.2432665620506652,0.46931148596267125,0.833084546340623,0.47381771963285346,0.30034377713050675,0.19870670087297682,0.33464215545217957,0.060570867447157783,0.5133872247003363,0.29416542235032217,0.8402841054446625,0.16485330719549307,0.2971743484985775,0.4340212887337186,0.3375726777449579,0.5476924609444342,0.9700944623274808,0.6634815960051572,0.5484281219888569,0.4919608394479925,0.04721132415000373,0.535448438269241,0.08013696655861935,0.659823718070622,0.17561385320074652,0.4621377961429227,0.913731510135401,0.8425679611227511,0.1287132964457438,0.22158062413319524,0.6642953937250715,0.7863254260763021,0.7426285559674783,0.8119829792830648,0.4079000554937088,0.4818533432963078,0.8672445589843626,0.5649465365148959,0.1863258851340598,0.5565702956551042,0.6335500190071063,0.5837226384267603,0.049595105095059155,0.11688907294926276,0.5163979878969284,0.14938196548411986,0.7507419804993143,0.32298861194370954,0.4865936002018795,0.9777544744272296,0.17410099058551454,0.5097506576982367,0.7563389255268216,0.7888730797232102,0.7977274805290115,0.4647181534337701,0.5737086971316067,0.18320065501536342,0.7098498161475821,0.9897513736483721,0.35004123797981757,0.025122000048269477,0.09099493281635906,0.9550398644028407,0.19219203469051283,0.40564146969169124,0.6972519286702261,0.5115207334143151,0.7638961288086225,0.6760332567480096,0.19483780775406212,0.17865617381847343,0.9143402058992728,0.7082249293197352,0.0988609827067618,0.6316605225566471,0.28387168360209925,0.4730292558002901,0.06492467601096807,0.421108337115198,0.88340997022006,0.07558722791168437,0.2416928017355272,0.3875979608522391,0.4950370054778521,0.09685693980047938,0.7528380212852178,0.7323626750880344,0.8365879779057532,0.05695369994290267,0.15016857402536932,0.22306256841679195,0.5562107010731885,0.8702073780719157,0.20225557306283692,0.3780003774349775,0.4937429855740707,0.4677051693621641,0.45365609136466967,0.5422082407715243,0.4448089914354624,0.635793773654366,0.20189762812542034,0.16508147011719865,0.6087496682112827,0.9663424836068452,0.03907953963258781,0.5471173248437363,0.0841436452376032,0.13502063293264643,0.02169492672733697,0.9925329347136855,0.7367751196372292,0.651421083329264,0.055160653099090906],\"type\":\"box\"},{\"boxpoints\":false,\"line\":{\"width\":1.3},\"marker\":{\"color\":\"rgba(55, 128, 191, 1.0)\"},\"name\":\"b\",\"orientation\":\"v\",\"y\":[0.9249109331400724,0.743585203827573,0.8831653553002548,0.7437554600147297,0.6823611564682303,0.16506487343753018,0.7855945330924387,0.610874756579337,0.375995937569677,0.62816785978767,0.5965756525743989,0.9428934837049706,0.3772850723956822,0.39041393680078895,0.9294099023447528,0.6455381419746795,0.55048092322994,0.0751888191051765,0.926623333998224,0.543684662845825,0.49291708945308343,0.7999730034568164,0.6713344822483769,0.514714253849142,0.3164645646392146,0.5119090267466344,0.5752840738480205,0.6893497986249156,0.9614346958103448,0.9614130825032743,0.9091966472357571,0.9128932271360557,0.07413793176728545,0.6863099487068521,0.9195097523398436,0.5782345758548263,0.640276371766621,0.8498587169199389,0.03078931207406055,0.3900200476182394,0.21378916897623146,0.7741400887480892,0.7844134895830702,0.19063517698398613,0.6912281062570999,0.3320762453686339,0.07787049190175244,0.1654263214529228,0.9060963125956981,0.40563765575676736,0.271268141849345,0.29231949993043316,0.5329946913226531,0.6903767466918592,0.7252274844185217,0.9909230463360412,0.6578736572620661,0.32776853117536586,0.6880349183046421,0.06836370287599425,0.22298400647844163,0.9972202525592014,0.5021355334747422,0.9954938114097759,0.35231096281196594,0.6430180041568724,0.8731044249396699,0.7339812968713403,5.723596902607042e-05,0.9216997646250339,0.40392772533678023,0.25003056729581086,0.43632225326481777,0.3969315140268024,0.18023333852328982,0.7683572366989557,0.37232103714726783,0.08364804343192145,0.12546544180690056,0.7556543162077884,0.022906430175386183,0.46702276069314497,0.6014727520032607,0.29277344084533086,0.318836225438214,0.5197943038891067,0.7179987736266026,0.07254120016720011,0.6416297565832461,0.910528707115394,0.9956080745493682,0.06690093708537792,0.4304710796580584,0.21815646081463358,0.0642964919122595,0.6829778374239098,0.2713888031836065,0.47392621177304983,0.7618682698273211,0.35667493623410396,0.5947091382815903,0.99685444342122,0.6500415421031767,0.3741973016219635,0.8767991630059851,0.598959653846733,0.35373210196433336,0.599271328404216,0.33733350462384104,0.9503157438080856,0.9377852518598147,0.9198472470234688,0.9060171544944103,0.5317945154255017,0.027907921811626824,0.6897425242289441,0.08860087316275866,0.039145443825186366,0.6510786882837578,0.03803766206846626,0.6983101583856602,0.9925209325417484,0.22677176158926715,0.44390905517987356,0.6481295218790062,0.1019771074274699,0.7355112963298976,0.6130818582904024,0.6691409684595404,0.9732004801984492,0.8970030499345027,0.8155347743051857,0.34595047358154984,0.5292328175910097,0.24175508672125112,0.27944738885381537,0.09802233047625142,0.7948349114339293,0.4231104333185558,0.9225780133335272,0.5929571537059921,0.5082376908019512,0.7991224171425048,0.8572852088407905,0.7064153473143651,0.4765564251372123,0.39086920735880404,0.8448301299279213,0.7919525573725301,0.4637308805156579,0.3560391522581001,0.8660475843732272,0.8316634797452599,0.475827589831463,0.9069965530094977,0.8188091578803889,0.039055434510276266,0.6886177634358395,0.022397221915856913,0.43366517875415056,0.17117866716550267,0.45704383645300983,0.276731951750087,0.7848629422122223,0.833427554500872,0.9070020898072406,0.013382546704643339,0.9776255026271423,0.5487749791602706,0.5895219696648613,0.9993844391529377,0.20595049320724346,0.05362262559356645,0.3377455153005694,0.39139726856606916,0.5157945851020265,0.48120803427415615,0.24737443971569573,0.48567015329857166,0.1564848783445022,0.8935276895081937,0.6567774576522701,0.1943586798130873,0.9131437260945536,0.9855504040933227,0.6465920585852563,0.5352961599365442,0.28888673735841297,0.07689682767300376,0.6519677132286,0.6180576680868802,0.7332526865434044,0.7382733150593876,0.9021671633258097,0.9917570539428688,0.6314203229596009,0.1757189972153087,0.43328471274485825,0.7587908147513123,0.9550934558191921,0.05203271717926494,0.17568741142758848,0.681125814278701,0.7051004755464386,0.841796127192272,0.5137189808621627,0.7145315286590298,0.4085393050362587,0.45403858963845456,0.8396187539644637,0.3096456178913587,0.39313041073528854,0.2315293765491545,0.11547659196041438,0.3136792838025151,0.005284897749385675,0.6715950813597467,0.8252923676493422,0.21115179078100788,0.8108823913344306,0.06631396452399052,0.7180449516738712,0.24876011100682938,0.6063651217145797,0.5989259337076152,0.5619983688425207,0.1526205098047202,0.028748036694012935,0.41124019289216773,0.6955693039655934,0.5363347619628274,0.6948201221594031,0.9133520856749201,0.255477572683217,0.6134580312495657,0.7803264827418107,0.9470703499446524,0.3872855764150175,0.5484429409620318,0.43584209372812965,0.3259220998337973,0.9589561252382681,0.20535736864706045,0.8484761664108016,0.727471119712164,0.5251705631192307,0.10736188754519038,0.8081022114977733,0.5881091853044598,0.4362179318305238,0.6127672791762817,0.4909901118004937,0.9893139286926358,0.515442729324614,0.7091982670868329,0.06991484581045382,0.4864504267697546,0.27378265841123395,0.8279471161592715,0.9671546307173008,0.5880463969431804,0.0841452327926916,0.019676765258533457,0.18943907042702235,0.7854050628783473,0.6755708891761858,0.09493678741879708,0.03254028847311008,0.6495636434103388,0.42405272824439655,0.0014846500474002822,0.6194235698672657,0.13408467402820268,0.40484436721447326,0.9508410559331723,0.6611369564938521,0.5019291134740256,0.4544127657952177,0.8287441761580369,0.44677356219404574,0.023608779269205904,0.0501243595869405,0.5939131945165459,0.6044614729353479,0.8874778454730741,0.4089655320375063,0.4171685691584748,0.7348433034894232,0.8818718870500538,0.44946980030850137,0.8259702739591497,0.3313876079486101,0.6348503669315897,0.3653335477567311,0.8560705490525023,0.19624183686044816,0.0532243903424966,0.33429992135805364,0.21854519003514883,0.09215638926078595],\"type\":\"box\"},{\"boxpoints\":false,\"line\":{\"width\":1.3},\"marker\":{\"color\":\"rgba(50, 171, 96, 1.0)\"},\"name\":\"c\",\"orientation\":\"v\",\"y\":[0.6132135886730272,0.6850136450529026,0.9175071512987296,0.14143471113213513,0.3044788603258576,0.26015635771323087,0.9561529297176117,0.9652854330210126,0.019019506038248313,0.5923756542810439,0.3837182550960132,0.7120543535499836,0.8338171520630931,0.1362559572270967,0.8747422745842608,0.874663859843127,0.8594871062140317,0.8822257674021559,0.8779079569861763,0.254439286604334,0.5838764817885568,0.9517126638387209,0.28908291904469396,0.3119432589263089,0.3716612712386357,0.2994320430448424,0.3173112601266388,0.827993584475566,0.19952146434109175,0.6752648485417396,0.7397339558194118,0.09800549530763925,0.34275652615624363,0.7583315545643378,0.32663485735455833,0.748232291024852,0.9773290486230282,0.7119345765251058,0.17045579877895822,0.0683229103136016,0.022156257243828192,0.25536469545123874,0.5514492163940488,0.08483881504684765,0.6924271450593134,0.6961204291781299,0.23141650186897467,0.13977303172482625,0.35196024354345234,0.6204328732807234,0.4347546760996197,0.6309138537870796,0.33087175927827106,0.005304611366702461,0.856870750138151,0.28157620990212684,0.1318059124447185,0.12591670520872789,0.36718983905205727,0.15678489740941337,0.5257752154993797,0.1941511412123833,0.4077382508736288,0.8353745161302548,0.6838008342368359,0.22940659091659998,0.5118039717316153,0.1634344703492856,0.04522442261349169,0.4757637756250698,0.3132537332801164,0.10997028700944944,0.23912228001654634,0.9377237892431306,0.6277988815478882,0.31196525187755253,0.5652133621727112,0.939181534052675,0.28201977424298086,0.619853304062075,0.7488267690509178,0.07833959391395684,0.17770201014990328,0.6424580062302143,0.20847797831457282,0.2479972883306173,0.9843221875648627,0.025880129013830633,0.42776755673299693,0.4822304940044929,0.6910578576915309,0.06842919269768633,0.6287418719574387,0.9364914566563243,0.08842138011816969,0.7504036925304206,0.16128890042270938,0.6644066896522071,0.006582696474971339,0.02896877879242854,0.6533264324865965,0.1032584926777883,0.5286943262025284,0.4862074110884368,0.6714295442051599,0.4222934050519872,0.6664131484270636,0.5447716344426509,0.6855468747274078,0.9570344594463425,0.00798546983740922,0.17417103506433473,0.2812701554767534,0.2240401473934296,0.6870842957205096,0.639977102711297,0.8705065550161407,0.7379717999275676,0.9801699714269048,0.9338303204635685,0.7441307529298152,0.6171349930012334,0.8552141951057083,0.7727176757735219,0.13798309884151316,0.2186605315065263,0.42665118447999306,0.43779200606817636,0.3002634415869072,0.7749778765403706,0.4473201701071954,0.0411339829412275,0.2557548324196883,0.700204007755437,0.5368918529005362,0.5744792523651957,0.11821382670090375,0.15988012227387705,0.49761367558988445,0.32230228460225696,0.3787618004173182,0.041259832179653566,0.37544771609882155,0.0803985816351458,0.22857172238223988,0.6485517097406066,0.7887813766992907,0.9339985288981197,0.03855307866546809,0.475794829692031,0.550654982705386,0.43182652439917235,0.2305019513504064,0.728836386210465,0.9995336893773883,0.5188953392785197,0.6634391628747547,0.27939373362812303,0.08882875428734127,0.555064316540811,0.6624804467071292,0.7748807495933415,0.009997025928477177,0.9163910840818337,0.5109045965055661,0.03379192429605571,0.40612901206622554,0.9681383367520082,0.6405835678414039,0.5167885154777012,0.6026193264374748,0.6910009845819074,0.21635628298637888,0.8227368776437903,0.9487748161094968,0.36863194095308083,0.04677911357708486,0.2653444401732916,0.025638318151503192,0.30226458493424635,0.2955298861669724,0.15942327706433113,0.4459977295196724,0.8552901757419009,0.5909179219263527,0.6509750707264838,0.9750215760031388,0.3387049205409267,0.7846809218260952,0.7310475971685182,0.3644723268127483,0.7261575046010701,0.03592503301100047,0.7672155333070102,0.6950804044901434,0.157137774794206,0.14314911062336855,0.06483705808473172,0.17709776932671017,0.7190583075806407,0.7900904836945561,0.39468005697341735,0.8927808334504267,0.8188391761826479,0.36828862347479996,0.17248954006206096,0.15712505373551378,0.4970471955442668,0.8397612704876931,0.05240579939624668,0.03668602027508194,0.041377760847440714,0.7503704009428943,0.3639208927380464,0.7216094315183506,0.7056425481089795,0.12540057846467922,0.18303849321155596,0.5044726507289007,0.7988940992416447,0.7546265546565827,0.11219023011334739,0.9203527365244454,0.6114329680444899,0.734537628591819,0.828659922616728,0.8136989517091305,0.5984058363821506,0.9982451828491727,0.6479049020938347,0.045459296401691884,0.5372838109152426,0.47418141084763366,0.4534997479341265,0.31437805150750187,0.9179518590397185,0.30766045119951413,0.03918657951200699,0.7485808898855011,0.09794277669372453,0.48714512846529057,0.7303101619730267,0.5949106210330561,0.14487106823113027,0.17273980225371122,0.37875429584640263,0.15967167831657247,0.5503438853082566,0.49090705641071264,0.8168754159494535,0.8399697355887523,0.28829963905890066,0.8546864018741199,0.5639277648470203,0.8801569584710632,0.505719858864368,0.16877372914454913,0.9931991849278179,0.6786314088093598,0.9301305038587583,0.006366205149585968,0.7387774068963673,0.27945483771838675,0.44028995924223213,0.8744759422788644,0.07628096388600647,0.03279490919077921,0.37805696778809783,0.4707032210050508,0.3123127706518679,0.24848885317235048,0.4946975505632929,0.35293667509158666,0.05209907095792288,0.16217788498514107,0.9000581081647914,0.31025866721312145,0.3288977708370888,0.048607373703109524,0.2413062473271752,0.4787173360909688,0.07380545441463593,0.05280919626094438,0.5934043807141075,0.3075212671973482,0.7333436068345064,0.8204087120340883,0.02385614994725116,0.8907206167636419,0.9347983202562132,0.9242080986288362,0.0030073110662538483,0.798283813378484,0.1725921794694495,0.20778978316793761,0.896102533883606,0.3299977405418435,0.5162713263215997,0.7220135778708721,0.6168871457090428],\"type\":\"box\"}],                        {\"legend\":{\"bgcolor\":\"#F5F6F9\",\"font\":{\"color\":\"#4D5663\"}},\"paper_bgcolor\":\"#F5F6F9\",\"plot_bgcolor\":\"#F5F6F9\",\"template\":{\"data\":{\"barpolar\":[{\"marker\":{\"line\":{\"color\":\"#E5ECF6\",\"width\":0.5},\"pattern\":{\"fillmode\":\"overlay\",\"size\":10,\"solidity\":0.2}},\"type\":\"barpolar\"}],\"bar\":[{\"error_x\":{\"color\":\"#2a3f5f\"},\"error_y\":{\"color\":\"#2a3f5f\"},\"marker\":{\"line\":{\"color\":\"#E5ECF6\",\"width\":0.5},\"pattern\":{\"fillmode\":\"overlay\",\"size\":10,\"solidity\":0.2}},\"type\":\"bar\"}],\"carpet\":[{\"aaxis\":{\"endlinecolor\":\"#2a3f5f\",\"gridcolor\":\"white\",\"linecolor\":\"white\",\"minorgridcolor\":\"white\",\"startlinecolor\":\"#2a3f5f\"},\"baxis\":{\"endlinecolor\":\"#2a3f5f\",\"gridcolor\":\"white\",\"linecolor\":\"white\",\"minorgridcolor\":\"white\",\"startlinecolor\":\"#2a3f5f\"},\"type\":\"carpet\"}],\"choropleth\":[{\"colorbar\":{\"outlinewidth\":0,\"ticks\":\"\"},\"type\":\"choropleth\"}],\"contourcarpet\":[{\"colorbar\":{\"outlinewidth\":0,\"ticks\":\"\"},\"type\":\"contourcarpet\"}],\"contour\":[{\"colorbar\":{\"outlinewidth\":0,\"ticks\":\"\"},\"colorscale\":[[0.0,\"#0d0887\"],[0.1111111111111111,\"#46039f\"],[0.2222222222222222,\"#7201a8\"],[0.3333333333333333,\"#9c179e\"],[0.4444444444444444,\"#bd3786\"],[0.5555555555555556,\"#d8576b\"],[0.6666666666666666,\"#ed7953\"],[0.7777777777777778,\"#fb9f3a\"],[0.8888888888888888,\"#fdca26\"],[1.0,\"#f0f921\"]],\"type\":\"contour\"}],\"heatmapgl\":[{\"colorbar\":{\"outlinewidth\":0,\"ticks\":\"\"},\"colorscale\":[[0.0,\"#0d0887\"],[0.1111111111111111,\"#46039f\"],[0.2222222222222222,\"#7201a8\"],[0.3333333333333333,\"#9c179e\"],[0.4444444444444444,\"#bd3786\"],[0.5555555555555556,\"#d8576b\"],[0.6666666666666666,\"#ed7953\"],[0.7777777777777778,\"#fb9f3a\"],[0.8888888888888888,\"#fdca26\"],[1.0,\"#f0f921\"]],\"type\":\"heatmapgl\"}],\"heatmap\":[{\"colorbar\":{\"outlinewidth\":0,\"ticks\":\"\"},\"colorscale\":[[0.0,\"#0d0887\"],[0.1111111111111111,\"#46039f\"],[0.2222222222222222,\"#7201a8\"],[0.3333333333333333,\"#9c179e\"],[0.4444444444444444,\"#bd3786\"],[0.5555555555555556,\"#d8576b\"],[0.6666666666666666,\"#ed7953\"],[0.7777777777777778,\"#fb9f3a\"],[0.8888888888888888,\"#fdca26\"],[1.0,\"#f0f921\"]],\"type\":\"heatmap\"}],\"histogram2dcontour\":[{\"colorbar\":{\"outlinewidth\":0,\"ticks\":\"\"},\"colorscale\":[[0.0,\"#0d0887\"],[0.1111111111111111,\"#46039f\"],[0.2222222222222222,\"#7201a8\"],[0.3333333333333333,\"#9c179e\"],[0.4444444444444444,\"#bd3786\"],[0.5555555555555556,\"#d8576b\"],[0.6666666666666666,\"#ed7953\"],[0.7777777777777778,\"#fb9f3a\"],[0.8888888888888888,\"#fdca26\"],[1.0,\"#f0f921\"]],\"type\":\"histogram2dcontour\"}],\"histogram2d\":[{\"colorbar\":{\"outlinewidth\":0,\"ticks\":\"\"},\"colorscale\":[[0.0,\"#0d0887\"],[0.1111111111111111,\"#46039f\"],[0.2222222222222222,\"#7201a8\"],[0.3333333333333333,\"#9c179e\"],[0.4444444444444444,\"#bd3786\"],[0.5555555555555556,\"#d8576b\"],[0.6666666666666666,\"#ed7953\"],[0.7777777777777778,\"#fb9f3a\"],[0.8888888888888888,\"#fdca26\"],[1.0,\"#f0f921\"]],\"type\":\"histogram2d\"}],\"histogram\":[{\"marker\":{\"pattern\":{\"fillmode\":\"overlay\",\"size\":10,\"solidity\":0.2}},\"type\":\"histogram\"}],\"mesh3d\":[{\"colorbar\":{\"outlinewidth\":0,\"ticks\":\"\"},\"type\":\"mesh3d\"}],\"parcoords\":[{\"line\":{\"colorbar\":{\"outlinewidth\":0,\"ticks\":\"\"}},\"type\":\"parcoords\"}],\"pie\":[{\"automargin\":true,\"type\":\"pie\"}],\"scatter3d\":[{\"line\":{\"colorbar\":{\"outlinewidth\":0,\"ticks\":\"\"}},\"marker\":{\"colorbar\":{\"outlinewidth\":0,\"ticks\":\"\"}},\"type\":\"scatter3d\"}],\"scattercarpet\":[{\"marker\":{\"colorbar\":{\"outlinewidth\":0,\"ticks\":\"\"}},\"type\":\"scattercarpet\"}],\"scattergeo\":[{\"marker\":{\"colorbar\":{\"outlinewidth\":0,\"ticks\":\"\"}},\"type\":\"scattergeo\"}],\"scattergl\":[{\"marker\":{\"colorbar\":{\"outlinewidth\":0,\"ticks\":\"\"}},\"type\":\"scattergl\"}],\"scattermapbox\":[{\"marker\":{\"colorbar\":{\"outlinewidth\":0,\"ticks\":\"\"}},\"type\":\"scattermapbox\"}],\"scatterpolargl\":[{\"marker\":{\"colorbar\":{\"outlinewidth\":0,\"ticks\":\"\"}},\"type\":\"scatterpolargl\"}],\"scatterpolar\":[{\"marker\":{\"colorbar\":{\"outlinewidth\":0,\"ticks\":\"\"}},\"type\":\"scatterpolar\"}],\"scatter\":[{\"fillpattern\":{\"fillmode\":\"overlay\",\"size\":10,\"solidity\":0.2},\"type\":\"scatter\"}],\"scatterternary\":[{\"marker\":{\"colorbar\":{\"outlinewidth\":0,\"ticks\":\"\"}},\"type\":\"scatterternary\"}],\"surface\":[{\"colorbar\":{\"outlinewidth\":0,\"ticks\":\"\"},\"colorscale\":[[0.0,\"#0d0887\"],[0.1111111111111111,\"#46039f\"],[0.2222222222222222,\"#7201a8\"],[0.3333333333333333,\"#9c179e\"],[0.4444444444444444,\"#bd3786\"],[0.5555555555555556,\"#d8576b\"],[0.6666666666666666,\"#ed7953\"],[0.7777777777777778,\"#fb9f3a\"],[0.8888888888888888,\"#fdca26\"],[1.0,\"#f0f921\"]],\"type\":\"surface\"}],\"table\":[{\"cells\":{\"fill\":{\"color\":\"#EBF0F8\"},\"line\":{\"color\":\"white\"}},\"header\":{\"fill\":{\"color\":\"#C8D4E3\"},\"line\":{\"color\":\"white\"}},\"type\":\"table\"}]},\"layout\":{\"annotationdefaults\":{\"arrowcolor\":\"#2a3f5f\",\"arrowhead\":0,\"arrowwidth\":1},\"autotypenumbers\":\"strict\",\"coloraxis\":{\"colorbar\":{\"outlinewidth\":0,\"ticks\":\"\"}},\"colorscale\":{\"diverging\":[[0,\"#8e0152\"],[0.1,\"#c51b7d\"],[0.2,\"#de77ae\"],[0.3,\"#f1b6da\"],[0.4,\"#fde0ef\"],[0.5,\"#f7f7f7\"],[0.6,\"#e6f5d0\"],[0.7,\"#b8e186\"],[0.8,\"#7fbc41\"],[0.9,\"#4d9221\"],[1,\"#276419\"]],\"sequential\":[[0.0,\"#0d0887\"],[0.1111111111111111,\"#46039f\"],[0.2222222222222222,\"#7201a8\"],[0.3333333333333333,\"#9c179e\"],[0.4444444444444444,\"#bd3786\"],[0.5555555555555556,\"#d8576b\"],[0.6666666666666666,\"#ed7953\"],[0.7777777777777778,\"#fb9f3a\"],[0.8888888888888888,\"#fdca26\"],[1.0,\"#f0f921\"]],\"sequentialminus\":[[0.0,\"#0d0887\"],[0.1111111111111111,\"#46039f\"],[0.2222222222222222,\"#7201a8\"],[0.3333333333333333,\"#9c179e\"],[0.4444444444444444,\"#bd3786\"],[0.5555555555555556,\"#d8576b\"],[0.6666666666666666,\"#ed7953\"],[0.7777777777777778,\"#fb9f3a\"],[0.8888888888888888,\"#fdca26\"],[1.0,\"#f0f921\"]]},\"colorway\":[\"#636efa\",\"#EF553B\",\"#00cc96\",\"#ab63fa\",\"#FFA15A\",\"#19d3f3\",\"#FF6692\",\"#B6E880\",\"#FF97FF\",\"#FECB52\"],\"font\":{\"color\":\"#2a3f5f\"},\"geo\":{\"bgcolor\":\"white\",\"lakecolor\":\"white\",\"landcolor\":\"#E5ECF6\",\"showlakes\":true,\"showland\":true,\"subunitcolor\":\"white\"},\"hoverlabel\":{\"align\":\"left\"},\"hovermode\":\"closest\",\"mapbox\":{\"style\":\"light\"},\"paper_bgcolor\":\"white\",\"plot_bgcolor\":\"#E5ECF6\",\"polar\":{\"angularaxis\":{\"gridcolor\":\"white\",\"linecolor\":\"white\",\"ticks\":\"\"},\"bgcolor\":\"#E5ECF6\",\"radialaxis\":{\"gridcolor\":\"white\",\"linecolor\":\"white\",\"ticks\":\"\"}},\"scene\":{\"xaxis\":{\"backgroundcolor\":\"#E5ECF6\",\"gridcolor\":\"white\",\"gridwidth\":2,\"linecolor\":\"white\",\"showbackground\":true,\"ticks\":\"\",\"zerolinecolor\":\"white\"},\"yaxis\":{\"backgroundcolor\":\"#E5ECF6\",\"gridcolor\":\"white\",\"gridwidth\":2,\"linecolor\":\"white\",\"showbackground\":true,\"ticks\":\"\",\"zerolinecolor\":\"white\"},\"zaxis\":{\"backgroundcolor\":\"#E5ECF6\",\"gridcolor\":\"white\",\"gridwidth\":2,\"linecolor\":\"white\",\"showbackground\":true,\"ticks\":\"\",\"zerolinecolor\":\"white\"}},\"shapedefaults\":{\"line\":{\"color\":\"#2a3f5f\"}},\"ternary\":{\"aaxis\":{\"gridcolor\":\"white\",\"linecolor\":\"white\",\"ticks\":\"\"},\"baxis\":{\"gridcolor\":\"white\",\"linecolor\":\"white\",\"ticks\":\"\"},\"bgcolor\":\"#E5ECF6\",\"caxis\":{\"gridcolor\":\"white\",\"linecolor\":\"white\",\"ticks\":\"\"}},\"title\":{\"x\":0.05},\"xaxis\":{\"automargin\":true,\"gridcolor\":\"white\",\"linecolor\":\"white\",\"ticks\":\"\",\"title\":{\"standoff\":15},\"zerolinecolor\":\"white\",\"zerolinewidth\":2},\"yaxis\":{\"automargin\":true,\"gridcolor\":\"white\",\"linecolor\":\"white\",\"ticks\":\"\",\"title\":{\"standoff\":15},\"zerolinecolor\":\"white\",\"zerolinewidth\":2}}},\"title\":{\"font\":{\"color\":\"#4D5663\"}},\"xaxis\":{\"gridcolor\":\"#E1E5ED\",\"showgrid\":true,\"tickfont\":{\"color\":\"#4D5663\"},\"title\":{\"font\":{\"color\":\"#4D5663\"},\"text\":\"\"},\"zerolinecolor\":\"#E1E5ED\"},\"yaxis\":{\"gridcolor\":\"#E1E5ED\",\"showgrid\":true,\"tickfont\":{\"color\":\"#4D5663\"},\"title\":{\"font\":{\"color\":\"#4D5663\"},\"text\":\"\"},\"zerolinecolor\":\"#E1E5ED\"}},                        {\"showLink\": true, \"linkText\": \"Export to plot.ly\", \"plotlyServerURL\": \"https://plot.ly\", \"responsive\": true}                    ).then(function(){\n",
       "                            \n",
       "var gd = document.getElementById('932af735-2c51-4e3a-9cc7-a7db0afc2dce');\n",
       "var x = new MutationObserver(function (mutations, observer) {{\n",
       "        var display = window.getComputedStyle(gd).display;\n",
       "        if (!display || display === 'none') {{\n",
       "            console.log([gd, 'removed!']);\n",
       "            Plotly.purge(gd);\n",
       "            observer.disconnect();\n",
       "        }}\n",
       "}});\n",
       "\n",
       "// Listen for the removal of the full notebook cells\n",
       "var notebookContainer = gd.closest('#notebook-container');\n",
       "if (notebookContainer) {{\n",
       "    x.observe(notebookContainer, {childList: true});\n",
       "}}\n",
       "\n",
       "// Listen for the clearing of the current output cell\n",
       "var outputEl = gd.closest('.output');\n",
       "if (outputEl) {{\n",
       "    x.observe(outputEl, {childList: true});\n",
       "}}\n",
       "\n",
       "                        })                };                });            </script>        </div>"
      ]
     },
     "metadata": {},
     "output_type": "display_data"
    }
   ],
   "source": [
    "df.iplot(kind = 'box')"
   ]
  },
  {
   "cell_type": "code",
   "execution_count": 28,
   "id": "3a13cd11",
   "metadata": {},
   "outputs": [
    {
     "data": {
      "application/vnd.plotly.v1+json": {
       "config": {
        "linkText": "Export to plot.ly",
        "plotlyServerURL": "https://plot.ly",
        "showLink": true
       },
       "data": [
        {
         "marker": {
          "color": [
           "rgba(255, 153, 51, 1.0)",
           "rgba(55, 128, 191, 1.0)",
           "rgba(50, 171, 96, 1.0)",
           "rgba(128, 0, 128, 1.0)",
           "rgba(219, 64, 82, 1.0)",
           "rgba(0, 128, 128, 1.0)",
           "rgba(255, 255, 51, 1.0)",
           "rgba(128, 128, 0, 1.0)",
           "rgba(251, 128, 114, 1.0)",
           "rgba(128, 177, 211, 1.0)",
           "rgba(128, 177, 211, 0.9733333333333334)",
           "rgba(255, 153, 51, 0.9733333333333334)",
           "rgba(55, 128, 191, 0.9733333333333334)",
           "rgba(50, 171, 96, 0.9733333333333334)",
           "rgba(128, 0, 128, 0.9733333333333334)",
           "rgba(219, 64, 82, 0.9733333333333334)",
           "rgba(0, 128, 128, 0.9733333333333334)",
           "rgba(255, 255, 51, 0.9733333333333334)",
           "rgba(128, 128, 0, 0.9733333333333334)",
           "rgba(251, 128, 114, 0.9733333333333334)",
           "rgba(251, 128, 114, 0.9466666666666665)",
           "rgba(128, 177, 211, 0.9466666666666665)",
           "rgba(255, 153, 51, 0.9466666666666665)",
           "rgba(55, 128, 191, 0.9466666666666665)",
           "rgba(50, 171, 96, 0.9466666666666665)",
           "rgba(128, 0, 128, 0.9466666666666665)",
           "rgba(219, 64, 82, 0.9466666666666665)",
           "rgba(0, 128, 128, 0.9466666666666665)",
           "rgba(255, 255, 51, 0.9466666666666665)",
           "rgba(128, 128, 0, 0.9466666666666665)",
           "rgba(128, 128, 0, 0.9199999999999999)",
           "rgba(251, 128, 114, 0.9199999999999999)",
           "rgba(128, 177, 211, 0.9199999999999999)",
           "rgba(255, 153, 51, 0.9199999999999999)",
           "rgba(55, 128, 191, 0.9199999999999999)",
           "rgba(50, 171, 96, 0.9199999999999999)",
           "rgba(128, 0, 128, 0.9199999999999999)",
           "rgba(219, 64, 82, 0.9199999999999999)",
           "rgba(0, 128, 128, 0.9199999999999999)",
           "rgba(255, 255, 51, 0.9199999999999999)",
           "rgba(255, 255, 51, 0.8933333333333333)",
           "rgba(128, 128, 0, 0.8933333333333333)",
           "rgba(251, 128, 114, 0.8933333333333333)",
           "rgba(128, 177, 211, 0.8933333333333333)",
           "rgba(255, 153, 51, 0.8933333333333333)",
           "rgba(55, 128, 191, 0.8933333333333333)",
           "rgba(50, 171, 96, 0.8933333333333333)",
           "rgba(128, 0, 128, 0.8933333333333333)",
           "rgba(219, 64, 82, 0.8933333333333333)",
           "rgba(0, 128, 128, 0.8933333333333333)",
           "rgba(0, 128, 128, 0.8666666666666667)",
           "rgba(255, 255, 51, 0.8666666666666667)",
           "rgba(128, 128, 0, 0.8666666666666667)",
           "rgba(251, 128, 114, 0.8666666666666667)",
           "rgba(128, 177, 211, 0.8666666666666667)",
           "rgba(255, 153, 51, 0.8666666666666667)",
           "rgba(55, 128, 191, 0.8666666666666667)",
           "rgba(50, 171, 96, 0.8666666666666667)",
           "rgba(128, 0, 128, 0.8666666666666667)",
           "rgba(219, 64, 82, 0.8666666666666667)",
           "rgba(219, 64, 82, 0.8399999999999999)",
           "rgba(0, 128, 128, 0.8399999999999999)",
           "rgba(255, 255, 51, 0.8399999999999999)",
           "rgba(128, 128, 0, 0.8399999999999999)",
           "rgba(251, 128, 114, 0.8399999999999999)",
           "rgba(128, 177, 211, 0.8399999999999999)",
           "rgba(255, 153, 51, 0.8399999999999999)",
           "rgba(55, 128, 191, 0.8399999999999999)",
           "rgba(50, 171, 96, 0.8399999999999999)",
           "rgba(128, 0, 128, 0.8399999999999999)",
           "rgba(128, 0, 128, 0.8133333333333332)",
           "rgba(219, 64, 82, 0.8133333333333332)",
           "rgba(0, 128, 128, 0.8133333333333332)",
           "rgba(255, 255, 51, 0.8133333333333332)",
           "rgba(128, 128, 0, 0.8133333333333332)",
           "rgba(251, 128, 114, 0.8133333333333332)",
           "rgba(128, 177, 211, 0.8133333333333332)",
           "rgba(255, 153, 51, 0.8133333333333332)",
           "rgba(55, 128, 191, 0.8133333333333332)",
           "rgba(50, 171, 96, 0.8133333333333332)",
           "rgba(50, 171, 96, 0.7866666666666666)",
           "rgba(128, 0, 128, 0.7866666666666666)",
           "rgba(219, 64, 82, 0.7866666666666666)",
           "rgba(0, 128, 128, 0.7866666666666666)",
           "rgba(255, 255, 51, 0.7866666666666666)",
           "rgba(128, 128, 0, 0.7866666666666666)",
           "rgba(251, 128, 114, 0.7866666666666666)",
           "rgba(128, 177, 211, 0.7866666666666666)",
           "rgba(255, 153, 51, 0.7866666666666666)",
           "rgba(55, 128, 191, 0.7866666666666666)",
           "rgba(55, 128, 191, 0.76)",
           "rgba(50, 171, 96, 0.76)",
           "rgba(128, 0, 128, 0.76)",
           "rgba(219, 64, 82, 0.76)",
           "rgba(0, 128, 128, 0.76)",
           "rgba(255, 255, 51, 0.76)",
           "rgba(128, 128, 0, 0.76)",
           "rgba(251, 128, 114, 0.76)",
           "rgba(128, 177, 211, 0.76)",
           "rgba(255, 153, 51, 0.76)",
           "rgba(255, 153, 51, 0.7333333333333332)",
           "rgba(55, 128, 191, 0.7333333333333332)",
           "rgba(50, 171, 96, 0.7333333333333332)",
           "rgba(128, 0, 128, 0.7333333333333332)",
           "rgba(219, 64, 82, 0.7333333333333332)",
           "rgba(0, 128, 128, 0.7333333333333332)",
           "rgba(255, 255, 51, 0.7333333333333332)",
           "rgba(128, 128, 0, 0.7333333333333332)",
           "rgba(251, 128, 114, 0.7333333333333332)",
           "rgba(128, 177, 211, 0.7333333333333332)",
           "rgba(128, 177, 211, 0.7066666666666666)",
           "rgba(255, 153, 51, 0.7066666666666666)",
           "rgba(55, 128, 191, 0.7066666666666666)",
           "rgba(50, 171, 96, 0.7066666666666666)",
           "rgba(128, 0, 128, 0.7066666666666666)",
           "rgba(219, 64, 82, 0.7066666666666666)",
           "rgba(0, 128, 128, 0.7066666666666666)",
           "rgba(255, 255, 51, 0.7066666666666666)",
           "rgba(128, 128, 0, 0.7066666666666666)",
           "rgba(251, 128, 114, 0.7066666666666666)",
           "rgba(251, 128, 114, 0.6799999999999999)",
           "rgba(128, 177, 211, 0.6799999999999999)",
           "rgba(255, 153, 51, 0.6799999999999999)",
           "rgba(55, 128, 191, 0.6799999999999999)",
           "rgba(50, 171, 96, 0.6799999999999999)",
           "rgba(128, 0, 128, 0.6799999999999999)",
           "rgba(219, 64, 82, 0.6799999999999999)",
           "rgba(0, 128, 128, 0.6799999999999999)",
           "rgba(255, 255, 51, 0.6799999999999999)",
           "rgba(128, 128, 0, 0.6799999999999999)",
           "rgba(128, 128, 0, 0.6533333333333333)",
           "rgba(251, 128, 114, 0.6533333333333333)",
           "rgba(128, 177, 211, 0.6533333333333333)",
           "rgba(255, 153, 51, 0.6533333333333333)",
           "rgba(55, 128, 191, 0.6533333333333333)",
           "rgba(50, 171, 96, 0.6533333333333333)",
           "rgba(128, 0, 128, 0.6533333333333333)",
           "rgba(219, 64, 82, 0.6533333333333333)",
           "rgba(0, 128, 128, 0.6533333333333333)",
           "rgba(255, 255, 51, 0.6533333333333333)",
           "rgba(255, 255, 51, 0.6266666666666665)",
           "rgba(128, 128, 0, 0.6266666666666665)",
           "rgba(251, 128, 114, 0.6266666666666665)",
           "rgba(128, 177, 211, 0.6266666666666665)",
           "rgba(255, 153, 51, 0.6266666666666665)",
           "rgba(55, 128, 191, 0.6266666666666665)",
           "rgba(50, 171, 96, 0.6266666666666665)",
           "rgba(128, 0, 128, 0.6266666666666665)",
           "rgba(219, 64, 82, 0.6266666666666665)",
           "rgba(0, 128, 128, 0.6266666666666665)",
           "rgba(0, 128, 128, 0.5999999999999999)",
           "rgba(255, 255, 51, 0.5999999999999999)",
           "rgba(128, 128, 0, 0.5999999999999999)",
           "rgba(251, 128, 114, 0.5999999999999999)",
           "rgba(128, 177, 211, 0.5999999999999999)",
           "rgba(255, 153, 51, 0.5999999999999999)",
           "rgba(55, 128, 191, 0.5999999999999999)",
           "rgba(50, 171, 96, 0.5999999999999999)",
           "rgba(128, 0, 128, 0.5999999999999999)",
           "rgba(219, 64, 82, 0.5999999999999999)",
           "rgba(219, 64, 82, 0.5733333333333333)",
           "rgba(0, 128, 128, 0.5733333333333333)",
           "rgba(255, 255, 51, 0.5733333333333333)",
           "rgba(128, 128, 0, 0.5733333333333333)",
           "rgba(251, 128, 114, 0.5733333333333333)",
           "rgba(128, 177, 211, 0.5733333333333333)",
           "rgba(255, 153, 51, 0.5733333333333333)",
           "rgba(55, 128, 191, 0.5733333333333333)",
           "rgba(50, 171, 96, 0.5733333333333333)",
           "rgba(128, 0, 128, 0.5733333333333333)",
           "rgba(128, 0, 128, 0.5466666666666666)",
           "rgba(219, 64, 82, 0.5466666666666666)",
           "rgba(0, 128, 128, 0.5466666666666666)",
           "rgba(255, 255, 51, 0.5466666666666666)",
           "rgba(128, 128, 0, 0.5466666666666666)",
           "rgba(251, 128, 114, 0.5466666666666666)",
           "rgba(128, 177, 211, 0.5466666666666666)",
           "rgba(255, 153, 51, 0.5466666666666666)",
           "rgba(55, 128, 191, 0.5466666666666666)",
           "rgba(50, 171, 96, 0.5466666666666666)",
           "rgba(50, 171, 96, 0.5199999999999998)",
           "rgba(128, 0, 128, 0.5199999999999998)",
           "rgba(219, 64, 82, 0.5199999999999998)",
           "rgba(0, 128, 128, 0.5199999999999998)",
           "rgba(255, 255, 51, 0.5199999999999998)",
           "rgba(128, 128, 0, 0.5199999999999998)",
           "rgba(251, 128, 114, 0.5199999999999998)",
           "rgba(128, 177, 211, 0.5199999999999998)",
           "rgba(255, 153, 51, 0.5199999999999998)",
           "rgba(55, 128, 191, 0.5199999999999998)",
           "rgba(55, 128, 191, 0.49333333333333323)",
           "rgba(50, 171, 96, 0.49333333333333323)",
           "rgba(128, 0, 128, 0.49333333333333323)",
           "rgba(219, 64, 82, 0.49333333333333323)",
           "rgba(0, 128, 128, 0.49333333333333323)",
           "rgba(255, 255, 51, 0.49333333333333323)",
           "rgba(128, 128, 0, 0.49333333333333323)",
           "rgba(251, 128, 114, 0.49333333333333323)",
           "rgba(128, 177, 211, 0.49333333333333323)",
           "rgba(255, 153, 51, 0.49333333333333323)",
           "rgba(255, 153, 51, 0.4666666666666666)",
           "rgba(55, 128, 191, 0.4666666666666666)",
           "rgba(50, 171, 96, 0.4666666666666666)",
           "rgba(128, 0, 128, 0.4666666666666666)",
           "rgba(219, 64, 82, 0.4666666666666666)",
           "rgba(0, 128, 128, 0.4666666666666666)",
           "rgba(255, 255, 51, 0.4666666666666666)",
           "rgba(128, 128, 0, 0.4666666666666666)",
           "rgba(251, 128, 114, 0.4666666666666666)",
           "rgba(128, 177, 211, 0.4666666666666666)",
           "rgba(128, 177, 211, 0.44)",
           "rgba(255, 153, 51, 0.44)",
           "rgba(55, 128, 191, 0.44)",
           "rgba(50, 171, 96, 0.44)",
           "rgba(128, 0, 128, 0.44)",
           "rgba(219, 64, 82, 0.44)",
           "rgba(0, 128, 128, 0.44)",
           "rgba(255, 255, 51, 0.44)",
           "rgba(128, 128, 0, 0.44)",
           "rgba(251, 128, 114, 0.44)",
           "rgba(251, 128, 114, 0.41333333333333316)",
           "rgba(128, 177, 211, 0.41333333333333316)",
           "rgba(255, 153, 51, 0.41333333333333316)",
           "rgba(55, 128, 191, 0.41333333333333316)",
           "rgba(50, 171, 96, 0.41333333333333316)",
           "rgba(128, 0, 128, 0.41333333333333316)",
           "rgba(219, 64, 82, 0.41333333333333316)",
           "rgba(0, 128, 128, 0.41333333333333316)",
           "rgba(255, 255, 51, 0.41333333333333316)",
           "rgba(128, 128, 0, 0.41333333333333316)",
           "rgba(128, 128, 0, 0.38666666666666655)",
           "rgba(251, 128, 114, 0.38666666666666655)",
           "rgba(128, 177, 211, 0.38666666666666655)",
           "rgba(255, 153, 51, 0.38666666666666655)",
           "rgba(55, 128, 191, 0.38666666666666655)",
           "rgba(50, 171, 96, 0.38666666666666655)",
           "rgba(128, 0, 128, 0.38666666666666655)",
           "rgba(219, 64, 82, 0.38666666666666655)",
           "rgba(0, 128, 128, 0.38666666666666655)",
           "rgba(255, 255, 51, 0.38666666666666655)",
           "rgba(255, 255, 51, 0.35999999999999993)",
           "rgba(128, 128, 0, 0.35999999999999993)",
           "rgba(251, 128, 114, 0.35999999999999993)",
           "rgba(128, 177, 211, 0.35999999999999993)",
           "rgba(255, 153, 51, 0.35999999999999993)",
           "rgba(55, 128, 191, 0.35999999999999993)",
           "rgba(50, 171, 96, 0.35999999999999993)",
           "rgba(128, 0, 128, 0.35999999999999993)",
           "rgba(219, 64, 82, 0.35999999999999993)",
           "rgba(0, 128, 128, 0.35999999999999993)",
           "rgba(0, 128, 128, 0.3333333333333333)",
           "rgba(255, 255, 51, 0.3333333333333333)",
           "rgba(128, 128, 0, 0.3333333333333333)",
           "rgba(251, 128, 114, 0.3333333333333333)",
           "rgba(128, 177, 211, 0.3333333333333333)",
           "rgba(255, 153, 51, 0.3333333333333333)",
           "rgba(55, 128, 191, 0.3333333333333333)",
           "rgba(50, 171, 96, 0.3333333333333333)",
           "rgba(128, 0, 128, 0.3333333333333333)",
           "rgba(219, 64, 82, 0.3333333333333333)",
           "rgba(219, 64, 82, 0.3066666666666665)",
           "rgba(0, 128, 128, 0.3066666666666665)",
           "rgba(255, 255, 51, 0.3066666666666665)",
           "rgba(128, 128, 0, 0.3066666666666665)",
           "rgba(251, 128, 114, 0.3066666666666665)",
           "rgba(128, 177, 211, 0.3066666666666665)",
           "rgba(255, 153, 51, 0.3066666666666665)",
           "rgba(55, 128, 191, 0.3066666666666665)",
           "rgba(50, 171, 96, 0.3066666666666665)",
           "rgba(128, 0, 128, 0.3066666666666665)",
           "rgba(128, 0, 128, 0.27999999999999986)",
           "rgba(219, 64, 82, 0.27999999999999986)",
           "rgba(0, 128, 128, 0.27999999999999986)",
           "rgba(255, 255, 51, 0.27999999999999986)",
           "rgba(128, 128, 0, 0.27999999999999986)",
           "rgba(251, 128, 114, 0.27999999999999986)",
           "rgba(128, 177, 211, 0.27999999999999986)",
           "rgba(255, 153, 51, 0.27999999999999986)",
           "rgba(55, 128, 191, 0.27999999999999986)",
           "rgba(50, 171, 96, 0.27999999999999986)",
           "rgba(50, 171, 96, 0.25333333333333324)",
           "rgba(128, 0, 128, 0.25333333333333324)",
           "rgba(219, 64, 82, 0.25333333333333324)",
           "rgba(0, 128, 128, 0.25333333333333324)",
           "rgba(255, 255, 51, 0.25333333333333324)",
           "rgba(128, 128, 0, 0.25333333333333324)",
           "rgba(251, 128, 114, 0.25333333333333324)",
           "rgba(128, 177, 211, 0.25333333333333324)",
           "rgba(255, 153, 51, 0.25333333333333324)",
           "rgba(55, 128, 191, 0.25333333333333324)",
           "rgba(55, 128, 191, 0.22666666666666663)",
           "rgba(50, 171, 96, 0.22666666666666663)",
           "rgba(128, 0, 128, 0.22666666666666663)",
           "rgba(219, 64, 82, 0.22666666666666663)",
           "rgba(0, 128, 128, 0.22666666666666663)",
           "rgba(255, 255, 51, 0.22666666666666663)",
           "rgba(128, 128, 0, 0.22666666666666663)",
           "rgba(251, 128, 114, 0.22666666666666663)",
           "rgba(128, 177, 211, 0.22666666666666663)",
           "rgba(255, 153, 51, 0.22666666666666663)"
          ],
          "opacity": 0.8,
          "size": [
           12,
           12,
           12,
           12,
           12,
           12,
           12,
           12,
           12,
           12,
           12,
           12,
           12,
           12,
           12,
           12,
           12,
           12,
           12,
           12,
           12,
           12,
           12,
           12,
           12,
           12,
           12,
           12,
           12,
           12,
           12,
           12,
           12,
           12,
           12,
           12,
           12,
           12,
           12,
           12,
           12,
           12,
           12,
           12,
           12,
           12,
           12,
           12,
           12,
           12,
           12,
           12,
           12,
           12,
           12,
           12,
           12,
           12,
           12,
           12,
           12,
           12,
           12,
           12,
           12,
           12,
           12,
           12,
           12,
           12,
           12,
           12,
           12,
           12,
           12,
           12,
           12,
           12,
           12,
           12,
           12,
           12,
           12,
           12,
           12,
           12,
           12,
           12,
           12,
           12,
           12,
           12,
           12,
           12,
           12,
           12,
           12,
           12,
           12,
           12,
           12,
           12,
           12,
           12,
           12,
           12,
           12,
           12,
           12,
           12,
           12,
           12,
           12,
           12,
           12,
           12,
           12,
           12,
           12,
           12,
           12,
           12,
           12,
           12,
           12,
           12,
           12,
           12,
           12,
           12,
           12,
           12,
           12,
           12,
           12,
           12,
           12,
           12,
           12,
           12,
           12,
           12,
           12,
           12,
           12,
           12,
           12,
           12,
           12,
           12,
           12,
           12,
           12,
           12,
           12,
           12,
           12,
           12,
           12,
           12,
           12,
           12,
           12,
           12,
           12,
           12,
           12,
           12,
           12,
           12,
           12,
           12,
           12,
           12,
           12,
           12,
           12,
           12,
           12,
           12,
           12,
           12,
           12,
           12,
           12,
           12,
           12,
           12,
           12,
           12,
           12,
           12,
           12,
           12,
           12,
           12,
           12,
           12,
           12,
           12,
           12,
           12,
           12,
           12,
           12,
           12,
           12,
           12,
           12,
           12,
           12,
           12,
           12,
           12,
           12,
           12,
           12,
           12,
           12,
           12,
           12,
           12,
           12,
           12,
           12,
           12,
           12,
           12,
           12,
           12,
           12,
           12,
           12,
           12,
           12,
           12,
           12,
           12,
           12,
           12,
           12,
           12,
           12,
           12,
           12,
           12,
           12,
           12,
           12,
           12,
           12,
           12,
           12,
           12,
           12,
           12,
           12,
           12,
           12,
           12,
           12,
           12,
           12,
           12,
           12,
           12,
           12,
           12,
           12,
           12,
           12,
           12,
           12,
           12,
           12,
           12,
           12,
           12,
           12,
           12,
           12,
           12,
           12,
           12,
           12,
           12,
           12,
           12,
           12,
           12,
           12,
           12,
           12,
           12,
           12,
           12,
           12,
           12,
           12,
           12
          ],
          "symbol": "circle"
         },
         "mode": "markers",
         "text": [
          "0",
          "1",
          "2",
          "3",
          "4",
          "5",
          "6",
          "7",
          "8",
          "9",
          "10",
          "11",
          "12",
          "13",
          "14",
          "15",
          "16",
          "17",
          "18",
          "19",
          "20",
          "21",
          "22",
          "23",
          "24",
          "25",
          "26",
          "27",
          "28",
          "29",
          "30",
          "31",
          "32",
          "33",
          "34",
          "35",
          "36",
          "37",
          "38",
          "39",
          "40",
          "41",
          "42",
          "43",
          "44",
          "45",
          "46",
          "47",
          "48",
          "49",
          "50",
          "51",
          "52",
          "53",
          "54",
          "55",
          "56",
          "57",
          "58",
          "59",
          "60",
          "61",
          "62",
          "63",
          "64",
          "65",
          "66",
          "67",
          "68",
          "69",
          "70",
          "71",
          "72",
          "73",
          "74",
          "75",
          "76",
          "77",
          "78",
          "79",
          "80",
          "81",
          "82",
          "83",
          "84",
          "85",
          "86",
          "87",
          "88",
          "89",
          "90",
          "91",
          "92",
          "93",
          "94",
          "95",
          "96",
          "97",
          "98",
          "99",
          "100",
          "101",
          "102",
          "103",
          "104",
          "105",
          "106",
          "107",
          "108",
          "109",
          "110",
          "111",
          "112",
          "113",
          "114",
          "115",
          "116",
          "117",
          "118",
          "119",
          "120",
          "121",
          "122",
          "123",
          "124",
          "125",
          "126",
          "127",
          "128",
          "129",
          "130",
          "131",
          "132",
          "133",
          "134",
          "135",
          "136",
          "137",
          "138",
          "139",
          "140",
          "141",
          "142",
          "143",
          "144",
          "145",
          "146",
          "147",
          "148",
          "149",
          "150",
          "151",
          "152",
          "153",
          "154",
          "155",
          "156",
          "157",
          "158",
          "159",
          "160",
          "161",
          "162",
          "163",
          "164",
          "165",
          "166",
          "167",
          "168",
          "169",
          "170",
          "171",
          "172",
          "173",
          "174",
          "175",
          "176",
          "177",
          "178",
          "179",
          "180",
          "181",
          "182",
          "183",
          "184",
          "185",
          "186",
          "187",
          "188",
          "189",
          "190",
          "191",
          "192",
          "193",
          "194",
          "195",
          "196",
          "197",
          "198",
          "199",
          "200",
          "201",
          "202",
          "203",
          "204",
          "205",
          "206",
          "207",
          "208",
          "209",
          "210",
          "211",
          "212",
          "213",
          "214",
          "215",
          "216",
          "217",
          "218",
          "219",
          "220",
          "221",
          "222",
          "223",
          "224",
          "225",
          "226",
          "227",
          "228",
          "229",
          "230",
          "231",
          "232",
          "233",
          "234",
          "235",
          "236",
          "237",
          "238",
          "239",
          "240",
          "241",
          "242",
          "243",
          "244",
          "245",
          "246",
          "247",
          "248",
          "249",
          "250",
          "251",
          "252",
          "253",
          "254",
          "255",
          "256",
          "257",
          "258",
          "259",
          "260",
          "261",
          "262",
          "263",
          "264",
          "265",
          "266",
          "267",
          "268",
          "269",
          "270",
          "271",
          "272",
          "273",
          "274",
          "275",
          "276",
          "277",
          "278",
          "279",
          "280",
          "281",
          "282",
          "283",
          "284",
          "285",
          "286",
          "287",
          "288",
          "289",
          "290",
          "291",
          "292",
          "293",
          "294",
          "295",
          "296",
          "297",
          "298",
          "299"
         ],
         "type": "scatter3d",
         "x": [
          0.27838296152448205,
          0.23419125123119744,
          0.9402311573939685,
          0.9818252945368592,
          0.5217225533175608,
          0.7578086699334807,
          0.2111976699587792,
          0.6453708054587917,
          0.9422474824428778,
          0.022249498661639278,
          0.2755596986746416,
          0.9785210814026211,
          0.5654153135198642,
          0.6274844848410547,
          0.29576173818764806,
          0.06775110903405024,
          0.5578046082254566,
          0.695394908522818,
          0.5381113266284672,
          0.024570279708218234,
          0.800565801536332,
          0.9417454805485571,
          0.2844049944028668,
          0.20876361415764477,
          0.40084204513597377,
          0.9929702066541193,
          0.5610364132577672,
          0.9456186937109804,
          0.42937677912346195,
          0.8684238390608195,
          0.3749792724921833,
          0.47948962522771443,
          0.34562510637964516,
          0.204323542498955,
          0.6268255822305261,
          0.0018208891801168026,
          0.15535075023305478,
          0.3397211712303666,
          0.781154142366423,
          0.7794866433662041,
          0.13137575382727107,
          0.6130269773960699,
          0.3588564939512987,
          0.3758089595124783,
          0.6986529721820868,
          0.21942639151151921,
          0.14815064212379492,
          0.9062521460946548,
          0.7403349586314467,
          0.38662376283076283,
          0.7294177216662878,
          0.33997466187018344,
          0.23054653870105257,
          0.9508857451656485,
          0.5182287254107543,
          0.2829685330479964,
          0.06369402579826,
          0.8859286457111712,
          0.6444247778449625,
          0.4808769221479291,
          0.4781501977014838,
          0.6338947783483909,
          0.23279127351316065,
          0.9460053310771964,
          0.46415139315983156,
          0.10672036838374654,
          0.6048288647528082,
          0.7404484291378357,
          0.5721715643887565,
          0.20820478311903767,
          0.18395790678627488,
          0.2445507780935977,
          0.2030706541275178,
          0.7259007075234182,
          0.8718537051022205,
          0.4427458263967561,
          0.6693721813489405,
          0.0972233192570191,
          0.8310848665360812,
          0.12853130407696034,
          0.7528576050272201,
          0.6269189603656903,
          0.24086723362603313,
          0.7119409525430167,
          0.220273625383981,
          0.2833379658342061,
          0.7381673273614507,
          0.12276060780545017,
          0.6141904650010638,
          0.27706488133337426,
          0.08664374871910496,
          0.7848889581162702,
          0.9906107300324285,
          0.5826769730717174,
          0.6360842660398539,
          0.9944732781286196,
          0.5530048406334314,
          0.4572449539458804,
          0.557815245782368,
          0.41291209087233904,
          0.2549426624184302,
          0.114892725347159,
          0.5149419206249494,
          0.1947389190665071,
          0.3526181793336107,
          0.7754808105728687,
          0.5881920915935499,
          0.5940159562471257,
          0.7195378753155126,
          0.03318835772060036,
          0.7090663101424748,
          0.6631215124964083,
          0.977232679531098,
          0.7719401384974047,
          0.035832261826258094,
          0.6165995267708891,
          0.5296730184037375,
          0.9854390485014088,
          0.8801697362258294,
          0.9026813500873416,
          0.08655340525045085,
          0.40855409203919857,
          0.29261246167551447,
          0.5882536160573619,
          0.9460875905381618,
          0.9599395398851532,
          0.134191226324769,
          0.5994825715269421,
          0.3154001104519524,
          0.7780004260353371,
          0.8796764271209183,
          0.5270841329833486,
          0.5403954526297006,
          0.7928539046949304,
          0.10971527933540548,
          0.816532138916471,
          0.2420857718290783,
          0.11675677849822175,
          0.11220449384326348,
          0.46368063526949077,
          0.3212129279221101,
          0.8052469210185732,
          0.6455260739519945,
          0.8914610084245113,
          0.03772966344919615,
          0.7683611953549274,
          0.9701553271536554,
          0.157224605452282,
          0.10215749418418607,
          0.579642400776483,
          0.26043041012260115,
          0.5388456704079811,
          0.5026271473024074,
          0.17077443328496134,
          0.6279026724063317,
          0.32784422415868364,
          0.5315223674724915,
          0.01664642521678894,
          0.05977658793312701,
          0.7182844386110933,
          0.002410075582974791,
          0.28976459952538924,
          0.956358235131849,
          0.873345657156394,
          0.1023929665168467,
          0.9693537120441449,
          0.799860343750764,
          0.7767341227517696,
          0.35095394020836446,
          0.2731300851170819,
          0.7674877913938117,
          0.40926710359825047,
          0.9581869084086707,
          0.9136869519345833,
          0.15462945777929904,
          0.04989115296842006,
          0.6087496960145763,
          0.09002404981157142,
          0.8710137767117321,
          0.10181117331645961,
          0.11306563278925652,
          0.4452076190176386,
          0.023677728838237044,
          0.9148972930636843,
          0.9757086311916698,
          0.2432665620506652,
          0.46931148596267125,
          0.833084546340623,
          0.47381771963285346,
          0.30034377713050675,
          0.19870670087297682,
          0.33464215545217957,
          0.060570867447157783,
          0.5133872247003363,
          0.29416542235032217,
          0.8402841054446625,
          0.16485330719549307,
          0.2971743484985775,
          0.4340212887337186,
          0.3375726777449579,
          0.5476924609444342,
          0.9700944623274808,
          0.6634815960051572,
          0.5484281219888569,
          0.4919608394479925,
          0.04721132415000373,
          0.535448438269241,
          0.08013696655861935,
          0.659823718070622,
          0.17561385320074652,
          0.4621377961429227,
          0.913731510135401,
          0.8425679611227511,
          0.1287132964457438,
          0.22158062413319524,
          0.6642953937250715,
          0.7863254260763021,
          0.7426285559674783,
          0.8119829792830648,
          0.4079000554937088,
          0.4818533432963078,
          0.8672445589843626,
          0.5649465365148959,
          0.1863258851340598,
          0.5565702956551042,
          0.6335500190071063,
          0.5837226384267603,
          0.049595105095059155,
          0.11688907294926276,
          0.5163979878969284,
          0.14938196548411986,
          0.7507419804993143,
          0.32298861194370954,
          0.4865936002018795,
          0.9777544744272296,
          0.17410099058551454,
          0.5097506576982367,
          0.7563389255268216,
          0.7888730797232102,
          0.7977274805290115,
          0.4647181534337701,
          0.5737086971316067,
          0.18320065501536342,
          0.7098498161475821,
          0.9897513736483721,
          0.35004123797981757,
          0.025122000048269477,
          0.09099493281635906,
          0.9550398644028407,
          0.19219203469051283,
          0.40564146969169124,
          0.6972519286702261,
          0.5115207334143151,
          0.7638961288086225,
          0.6760332567480096,
          0.19483780775406212,
          0.17865617381847343,
          0.9143402058992728,
          0.7082249293197352,
          0.0988609827067618,
          0.6316605225566471,
          0.28387168360209925,
          0.4730292558002901,
          0.06492467601096807,
          0.421108337115198,
          0.88340997022006,
          0.07558722791168437,
          0.2416928017355272,
          0.3875979608522391,
          0.4950370054778521,
          0.09685693980047938,
          0.7528380212852178,
          0.7323626750880344,
          0.8365879779057532,
          0.05695369994290267,
          0.15016857402536932,
          0.22306256841679195,
          0.5562107010731885,
          0.8702073780719157,
          0.20225557306283692,
          0.3780003774349775,
          0.4937429855740707,
          0.4677051693621641,
          0.45365609136466967,
          0.5422082407715243,
          0.4448089914354624,
          0.635793773654366,
          0.20189762812542034,
          0.16508147011719865,
          0.6087496682112827,
          0.9663424836068452,
          0.03907953963258781,
          0.5471173248437363,
          0.0841436452376032,
          0.13502063293264643,
          0.02169492672733697,
          0.9925329347136855,
          0.7367751196372292,
          0.651421083329264,
          0.055160653099090906
         ],
         "y": [
          0.9249109331400724,
          0.743585203827573,
          0.8831653553002548,
          0.7437554600147297,
          0.6823611564682303,
          0.16506487343753018,
          0.7855945330924387,
          0.610874756579337,
          0.375995937569677,
          0.62816785978767,
          0.5965756525743989,
          0.9428934837049706,
          0.3772850723956822,
          0.39041393680078895,
          0.9294099023447528,
          0.6455381419746795,
          0.55048092322994,
          0.0751888191051765,
          0.926623333998224,
          0.543684662845825,
          0.49291708945308343,
          0.7999730034568164,
          0.6713344822483769,
          0.514714253849142,
          0.3164645646392146,
          0.5119090267466344,
          0.5752840738480205,
          0.6893497986249156,
          0.9614346958103448,
          0.9614130825032743,
          0.9091966472357571,
          0.9128932271360557,
          0.07413793176728545,
          0.6863099487068521,
          0.9195097523398436,
          0.5782345758548263,
          0.640276371766621,
          0.8498587169199389,
          0.03078931207406055,
          0.3900200476182394,
          0.21378916897623146,
          0.7741400887480892,
          0.7844134895830702,
          0.19063517698398613,
          0.6912281062570999,
          0.3320762453686339,
          0.07787049190175244,
          0.1654263214529228,
          0.9060963125956981,
          0.40563765575676736,
          0.271268141849345,
          0.29231949993043316,
          0.5329946913226531,
          0.6903767466918592,
          0.7252274844185217,
          0.9909230463360412,
          0.6578736572620661,
          0.32776853117536586,
          0.6880349183046421,
          0.06836370287599425,
          0.22298400647844163,
          0.9972202525592014,
          0.5021355334747422,
          0.9954938114097759,
          0.35231096281196594,
          0.6430180041568724,
          0.8731044249396699,
          0.7339812968713403,
          5.723596902607042e-05,
          0.9216997646250339,
          0.40392772533678023,
          0.25003056729581086,
          0.43632225326481777,
          0.3969315140268024,
          0.18023333852328982,
          0.7683572366989557,
          0.37232103714726783,
          0.08364804343192145,
          0.12546544180690056,
          0.7556543162077884,
          0.022906430175386183,
          0.46702276069314497,
          0.6014727520032607,
          0.29277344084533086,
          0.318836225438214,
          0.5197943038891067,
          0.7179987736266026,
          0.07254120016720011,
          0.6416297565832461,
          0.910528707115394,
          0.9956080745493682,
          0.06690093708537792,
          0.4304710796580584,
          0.21815646081463358,
          0.0642964919122595,
          0.6829778374239098,
          0.2713888031836065,
          0.47392621177304983,
          0.7618682698273211,
          0.35667493623410396,
          0.5947091382815903,
          0.99685444342122,
          0.6500415421031767,
          0.3741973016219635,
          0.8767991630059851,
          0.598959653846733,
          0.35373210196433336,
          0.599271328404216,
          0.33733350462384104,
          0.9503157438080856,
          0.9377852518598147,
          0.9198472470234688,
          0.9060171544944103,
          0.5317945154255017,
          0.027907921811626824,
          0.6897425242289441,
          0.08860087316275866,
          0.039145443825186366,
          0.6510786882837578,
          0.03803766206846626,
          0.6983101583856602,
          0.9925209325417484,
          0.22677176158926715,
          0.44390905517987356,
          0.6481295218790062,
          0.1019771074274699,
          0.7355112963298976,
          0.6130818582904024,
          0.6691409684595404,
          0.9732004801984492,
          0.8970030499345027,
          0.8155347743051857,
          0.34595047358154984,
          0.5292328175910097,
          0.24175508672125112,
          0.27944738885381537,
          0.09802233047625142,
          0.7948349114339293,
          0.4231104333185558,
          0.9225780133335272,
          0.5929571537059921,
          0.5082376908019512,
          0.7991224171425048,
          0.8572852088407905,
          0.7064153473143651,
          0.4765564251372123,
          0.39086920735880404,
          0.8448301299279213,
          0.7919525573725301,
          0.4637308805156579,
          0.3560391522581001,
          0.8660475843732272,
          0.8316634797452599,
          0.475827589831463,
          0.9069965530094977,
          0.8188091578803889,
          0.039055434510276266,
          0.6886177634358395,
          0.022397221915856913,
          0.43366517875415056,
          0.17117866716550267,
          0.45704383645300983,
          0.276731951750087,
          0.7848629422122223,
          0.833427554500872,
          0.9070020898072406,
          0.013382546704643339,
          0.9776255026271423,
          0.5487749791602706,
          0.5895219696648613,
          0.9993844391529377,
          0.20595049320724346,
          0.05362262559356645,
          0.3377455153005694,
          0.39139726856606916,
          0.5157945851020265,
          0.48120803427415615,
          0.24737443971569573,
          0.48567015329857166,
          0.1564848783445022,
          0.8935276895081937,
          0.6567774576522701,
          0.1943586798130873,
          0.9131437260945536,
          0.9855504040933227,
          0.6465920585852563,
          0.5352961599365442,
          0.28888673735841297,
          0.07689682767300376,
          0.6519677132286,
          0.6180576680868802,
          0.7332526865434044,
          0.7382733150593876,
          0.9021671633258097,
          0.9917570539428688,
          0.6314203229596009,
          0.1757189972153087,
          0.43328471274485825,
          0.7587908147513123,
          0.9550934558191921,
          0.05203271717926494,
          0.17568741142758848,
          0.681125814278701,
          0.7051004755464386,
          0.841796127192272,
          0.5137189808621627,
          0.7145315286590298,
          0.4085393050362587,
          0.45403858963845456,
          0.8396187539644637,
          0.3096456178913587,
          0.39313041073528854,
          0.2315293765491545,
          0.11547659196041438,
          0.3136792838025151,
          0.005284897749385675,
          0.6715950813597467,
          0.8252923676493422,
          0.21115179078100788,
          0.8108823913344306,
          0.06631396452399052,
          0.7180449516738712,
          0.24876011100682938,
          0.6063651217145797,
          0.5989259337076152,
          0.5619983688425207,
          0.1526205098047202,
          0.028748036694012935,
          0.41124019289216773,
          0.6955693039655934,
          0.5363347619628274,
          0.6948201221594031,
          0.9133520856749201,
          0.255477572683217,
          0.6134580312495657,
          0.7803264827418107,
          0.9470703499446524,
          0.3872855764150175,
          0.5484429409620318,
          0.43584209372812965,
          0.3259220998337973,
          0.9589561252382681,
          0.20535736864706045,
          0.8484761664108016,
          0.727471119712164,
          0.5251705631192307,
          0.10736188754519038,
          0.8081022114977733,
          0.5881091853044598,
          0.4362179318305238,
          0.6127672791762817,
          0.4909901118004937,
          0.9893139286926358,
          0.515442729324614,
          0.7091982670868329,
          0.06991484581045382,
          0.4864504267697546,
          0.27378265841123395,
          0.8279471161592715,
          0.9671546307173008,
          0.5880463969431804,
          0.0841452327926916,
          0.019676765258533457,
          0.18943907042702235,
          0.7854050628783473,
          0.6755708891761858,
          0.09493678741879708,
          0.03254028847311008,
          0.6495636434103388,
          0.42405272824439655,
          0.0014846500474002822,
          0.6194235698672657,
          0.13408467402820268,
          0.40484436721447326,
          0.9508410559331723,
          0.6611369564938521,
          0.5019291134740256,
          0.4544127657952177,
          0.8287441761580369,
          0.44677356219404574,
          0.023608779269205904,
          0.0501243595869405,
          0.5939131945165459,
          0.6044614729353479,
          0.8874778454730741,
          0.4089655320375063,
          0.4171685691584748,
          0.7348433034894232,
          0.8818718870500538,
          0.44946980030850137,
          0.8259702739591497,
          0.3313876079486101,
          0.6348503669315897,
          0.3653335477567311,
          0.8560705490525023,
          0.19624183686044816,
          0.0532243903424966,
          0.33429992135805364,
          0.21854519003514883,
          0.09215638926078595
         ],
         "z": [
          0.6132135886730272,
          0.6850136450529026,
          0.9175071512987296,
          0.14143471113213513,
          0.3044788603258576,
          0.26015635771323087,
          0.9561529297176117,
          0.9652854330210126,
          0.019019506038248313,
          0.5923756542810439,
          0.3837182550960132,
          0.7120543535499836,
          0.8338171520630931,
          0.1362559572270967,
          0.8747422745842608,
          0.874663859843127,
          0.8594871062140317,
          0.8822257674021559,
          0.8779079569861763,
          0.254439286604334,
          0.5838764817885568,
          0.9517126638387209,
          0.28908291904469396,
          0.3119432589263089,
          0.3716612712386357,
          0.2994320430448424,
          0.3173112601266388,
          0.827993584475566,
          0.19952146434109175,
          0.6752648485417396,
          0.7397339558194118,
          0.09800549530763925,
          0.34275652615624363,
          0.7583315545643378,
          0.32663485735455833,
          0.748232291024852,
          0.9773290486230282,
          0.7119345765251058,
          0.17045579877895822,
          0.0683229103136016,
          0.022156257243828192,
          0.25536469545123874,
          0.5514492163940488,
          0.08483881504684765,
          0.6924271450593134,
          0.6961204291781299,
          0.23141650186897467,
          0.13977303172482625,
          0.35196024354345234,
          0.6204328732807234,
          0.4347546760996197,
          0.6309138537870796,
          0.33087175927827106,
          0.005304611366702461,
          0.856870750138151,
          0.28157620990212684,
          0.1318059124447185,
          0.12591670520872789,
          0.36718983905205727,
          0.15678489740941337,
          0.5257752154993797,
          0.1941511412123833,
          0.4077382508736288,
          0.8353745161302548,
          0.6838008342368359,
          0.22940659091659998,
          0.5118039717316153,
          0.1634344703492856,
          0.04522442261349169,
          0.4757637756250698,
          0.3132537332801164,
          0.10997028700944944,
          0.23912228001654634,
          0.9377237892431306,
          0.6277988815478882,
          0.31196525187755253,
          0.5652133621727112,
          0.939181534052675,
          0.28201977424298086,
          0.619853304062075,
          0.7488267690509178,
          0.07833959391395684,
          0.17770201014990328,
          0.6424580062302143,
          0.20847797831457282,
          0.2479972883306173,
          0.9843221875648627,
          0.025880129013830633,
          0.42776755673299693,
          0.4822304940044929,
          0.6910578576915309,
          0.06842919269768633,
          0.6287418719574387,
          0.9364914566563243,
          0.08842138011816969,
          0.7504036925304206,
          0.16128890042270938,
          0.6644066896522071,
          0.006582696474971339,
          0.02896877879242854,
          0.6533264324865965,
          0.1032584926777883,
          0.5286943262025284,
          0.4862074110884368,
          0.6714295442051599,
          0.4222934050519872,
          0.6664131484270636,
          0.5447716344426509,
          0.6855468747274078,
          0.9570344594463425,
          0.00798546983740922,
          0.17417103506433473,
          0.2812701554767534,
          0.2240401473934296,
          0.6870842957205096,
          0.639977102711297,
          0.8705065550161407,
          0.7379717999275676,
          0.9801699714269048,
          0.9338303204635685,
          0.7441307529298152,
          0.6171349930012334,
          0.8552141951057083,
          0.7727176757735219,
          0.13798309884151316,
          0.2186605315065263,
          0.42665118447999306,
          0.43779200606817636,
          0.3002634415869072,
          0.7749778765403706,
          0.4473201701071954,
          0.0411339829412275,
          0.2557548324196883,
          0.700204007755437,
          0.5368918529005362,
          0.5744792523651957,
          0.11821382670090375,
          0.15988012227387705,
          0.49761367558988445,
          0.32230228460225696,
          0.3787618004173182,
          0.041259832179653566,
          0.37544771609882155,
          0.0803985816351458,
          0.22857172238223988,
          0.6485517097406066,
          0.7887813766992907,
          0.9339985288981197,
          0.03855307866546809,
          0.475794829692031,
          0.550654982705386,
          0.43182652439917235,
          0.2305019513504064,
          0.728836386210465,
          0.9995336893773883,
          0.5188953392785197,
          0.6634391628747547,
          0.27939373362812303,
          0.08882875428734127,
          0.555064316540811,
          0.6624804467071292,
          0.7748807495933415,
          0.009997025928477177,
          0.9163910840818337,
          0.5109045965055661,
          0.03379192429605571,
          0.40612901206622554,
          0.9681383367520082,
          0.6405835678414039,
          0.5167885154777012,
          0.6026193264374748,
          0.6910009845819074,
          0.21635628298637888,
          0.8227368776437903,
          0.9487748161094968,
          0.36863194095308083,
          0.04677911357708486,
          0.2653444401732916,
          0.025638318151503192,
          0.30226458493424635,
          0.2955298861669724,
          0.15942327706433113,
          0.4459977295196724,
          0.8552901757419009,
          0.5909179219263527,
          0.6509750707264838,
          0.9750215760031388,
          0.3387049205409267,
          0.7846809218260952,
          0.7310475971685182,
          0.3644723268127483,
          0.7261575046010701,
          0.03592503301100047,
          0.7672155333070102,
          0.6950804044901434,
          0.157137774794206,
          0.14314911062336855,
          0.06483705808473172,
          0.17709776932671017,
          0.7190583075806407,
          0.7900904836945561,
          0.39468005697341735,
          0.8927808334504267,
          0.8188391761826479,
          0.36828862347479996,
          0.17248954006206096,
          0.15712505373551378,
          0.4970471955442668,
          0.8397612704876931,
          0.05240579939624668,
          0.03668602027508194,
          0.041377760847440714,
          0.7503704009428943,
          0.3639208927380464,
          0.7216094315183506,
          0.7056425481089795,
          0.12540057846467922,
          0.18303849321155596,
          0.5044726507289007,
          0.7988940992416447,
          0.7546265546565827,
          0.11219023011334739,
          0.9203527365244454,
          0.6114329680444899,
          0.734537628591819,
          0.828659922616728,
          0.8136989517091305,
          0.5984058363821506,
          0.9982451828491727,
          0.6479049020938347,
          0.045459296401691884,
          0.5372838109152426,
          0.47418141084763366,
          0.4534997479341265,
          0.31437805150750187,
          0.9179518590397185,
          0.30766045119951413,
          0.03918657951200699,
          0.7485808898855011,
          0.09794277669372453,
          0.48714512846529057,
          0.7303101619730267,
          0.5949106210330561,
          0.14487106823113027,
          0.17273980225371122,
          0.37875429584640263,
          0.15967167831657247,
          0.5503438853082566,
          0.49090705641071264,
          0.8168754159494535,
          0.8399697355887523,
          0.28829963905890066,
          0.8546864018741199,
          0.5639277648470203,
          0.8801569584710632,
          0.505719858864368,
          0.16877372914454913,
          0.9931991849278179,
          0.6786314088093598,
          0.9301305038587583,
          0.006366205149585968,
          0.7387774068963673,
          0.27945483771838675,
          0.44028995924223213,
          0.8744759422788644,
          0.07628096388600647,
          0.03279490919077921,
          0.37805696778809783,
          0.4707032210050508,
          0.3123127706518679,
          0.24848885317235048,
          0.4946975505632929,
          0.35293667509158666,
          0.05209907095792288,
          0.16217788498514107,
          0.9000581081647914,
          0.31025866721312145,
          0.3288977708370888,
          0.048607373703109524,
          0.2413062473271752,
          0.4787173360909688,
          0.07380545441463593,
          0.05280919626094438,
          0.5934043807141075,
          0.3075212671973482,
          0.7333436068345064,
          0.8204087120340883,
          0.02385614994725116,
          0.8907206167636419,
          0.9347983202562132,
          0.9242080986288362,
          0.0030073110662538483,
          0.798283813378484,
          0.1725921794694495,
          0.20778978316793761,
          0.896102533883606,
          0.3299977405418435,
          0.5162713263215997,
          0.7220135778708721,
          0.6168871457090428
         ]
        }
       ],
       "layout": {
        "legend": {
         "bgcolor": "#F5F6F9",
         "font": {
          "color": "#4D5663"
         }
        },
        "paper_bgcolor": "#F5F6F9",
        "plot_bgcolor": "#F5F6F9",
        "scene": {
         "xaxis": {
          "gridcolor": "#9499A3",
          "showgrid": true,
          "tickfont": {
           "color": "#4D5663"
          },
          "title": {
           "font": {
            "color": "#4D5663"
           },
           "text": ""
          },
          "zerolinecolor": "#9499A3"
         },
         "yaxis": {
          "gridcolor": "#9499A3",
          "showgrid": true,
          "tickfont": {
           "color": "#4D5663"
          },
          "title": {
           "font": {
            "color": "#4D5663"
           },
           "text": ""
          },
          "zerolinecolor": "#9499A3"
         },
         "zaxis": {
          "gridcolor": "#9499A3",
          "showgrid": true,
          "tickfont": {
           "color": "#4D5663"
          },
          "title": {
           "font": {
            "color": "#4D5663"
           },
           "text": ""
          },
          "zerolinecolor": "#9499A3"
         }
        },
        "template": {
         "data": {
          "bar": [
           {
            "error_x": {
             "color": "#2a3f5f"
            },
            "error_y": {
             "color": "#2a3f5f"
            },
            "marker": {
             "line": {
              "color": "#E5ECF6",
              "width": 0.5
             },
             "pattern": {
              "fillmode": "overlay",
              "size": 10,
              "solidity": 0.2
             }
            },
            "type": "bar"
           }
          ],
          "barpolar": [
           {
            "marker": {
             "line": {
              "color": "#E5ECF6",
              "width": 0.5
             },
             "pattern": {
              "fillmode": "overlay",
              "size": 10,
              "solidity": 0.2
             }
            },
            "type": "barpolar"
           }
          ],
          "carpet": [
           {
            "aaxis": {
             "endlinecolor": "#2a3f5f",
             "gridcolor": "white",
             "linecolor": "white",
             "minorgridcolor": "white",
             "startlinecolor": "#2a3f5f"
            },
            "baxis": {
             "endlinecolor": "#2a3f5f",
             "gridcolor": "white",
             "linecolor": "white",
             "minorgridcolor": "white",
             "startlinecolor": "#2a3f5f"
            },
            "type": "carpet"
           }
          ],
          "choropleth": [
           {
            "colorbar": {
             "outlinewidth": 0,
             "ticks": ""
            },
            "type": "choropleth"
           }
          ],
          "contour": [
           {
            "colorbar": {
             "outlinewidth": 0,
             "ticks": ""
            },
            "colorscale": [
             [
              0,
              "#0d0887"
             ],
             [
              0.1111111111111111,
              "#46039f"
             ],
             [
              0.2222222222222222,
              "#7201a8"
             ],
             [
              0.3333333333333333,
              "#9c179e"
             ],
             [
              0.4444444444444444,
              "#bd3786"
             ],
             [
              0.5555555555555556,
              "#d8576b"
             ],
             [
              0.6666666666666666,
              "#ed7953"
             ],
             [
              0.7777777777777778,
              "#fb9f3a"
             ],
             [
              0.8888888888888888,
              "#fdca26"
             ],
             [
              1,
              "#f0f921"
             ]
            ],
            "type": "contour"
           }
          ],
          "contourcarpet": [
           {
            "colorbar": {
             "outlinewidth": 0,
             "ticks": ""
            },
            "type": "contourcarpet"
           }
          ],
          "heatmap": [
           {
            "colorbar": {
             "outlinewidth": 0,
             "ticks": ""
            },
            "colorscale": [
             [
              0,
              "#0d0887"
             ],
             [
              0.1111111111111111,
              "#46039f"
             ],
             [
              0.2222222222222222,
              "#7201a8"
             ],
             [
              0.3333333333333333,
              "#9c179e"
             ],
             [
              0.4444444444444444,
              "#bd3786"
             ],
             [
              0.5555555555555556,
              "#d8576b"
             ],
             [
              0.6666666666666666,
              "#ed7953"
             ],
             [
              0.7777777777777778,
              "#fb9f3a"
             ],
             [
              0.8888888888888888,
              "#fdca26"
             ],
             [
              1,
              "#f0f921"
             ]
            ],
            "type": "heatmap"
           }
          ],
          "heatmapgl": [
           {
            "colorbar": {
             "outlinewidth": 0,
             "ticks": ""
            },
            "colorscale": [
             [
              0,
              "#0d0887"
             ],
             [
              0.1111111111111111,
              "#46039f"
             ],
             [
              0.2222222222222222,
              "#7201a8"
             ],
             [
              0.3333333333333333,
              "#9c179e"
             ],
             [
              0.4444444444444444,
              "#bd3786"
             ],
             [
              0.5555555555555556,
              "#d8576b"
             ],
             [
              0.6666666666666666,
              "#ed7953"
             ],
             [
              0.7777777777777778,
              "#fb9f3a"
             ],
             [
              0.8888888888888888,
              "#fdca26"
             ],
             [
              1,
              "#f0f921"
             ]
            ],
            "type": "heatmapgl"
           }
          ],
          "histogram": [
           {
            "marker": {
             "pattern": {
              "fillmode": "overlay",
              "size": 10,
              "solidity": 0.2
             }
            },
            "type": "histogram"
           }
          ],
          "histogram2d": [
           {
            "colorbar": {
             "outlinewidth": 0,
             "ticks": ""
            },
            "colorscale": [
             [
              0,
              "#0d0887"
             ],
             [
              0.1111111111111111,
              "#46039f"
             ],
             [
              0.2222222222222222,
              "#7201a8"
             ],
             [
              0.3333333333333333,
              "#9c179e"
             ],
             [
              0.4444444444444444,
              "#bd3786"
             ],
             [
              0.5555555555555556,
              "#d8576b"
             ],
             [
              0.6666666666666666,
              "#ed7953"
             ],
             [
              0.7777777777777778,
              "#fb9f3a"
             ],
             [
              0.8888888888888888,
              "#fdca26"
             ],
             [
              1,
              "#f0f921"
             ]
            ],
            "type": "histogram2d"
           }
          ],
          "histogram2dcontour": [
           {
            "colorbar": {
             "outlinewidth": 0,
             "ticks": ""
            },
            "colorscale": [
             [
              0,
              "#0d0887"
             ],
             [
              0.1111111111111111,
              "#46039f"
             ],
             [
              0.2222222222222222,
              "#7201a8"
             ],
             [
              0.3333333333333333,
              "#9c179e"
             ],
             [
              0.4444444444444444,
              "#bd3786"
             ],
             [
              0.5555555555555556,
              "#d8576b"
             ],
             [
              0.6666666666666666,
              "#ed7953"
             ],
             [
              0.7777777777777778,
              "#fb9f3a"
             ],
             [
              0.8888888888888888,
              "#fdca26"
             ],
             [
              1,
              "#f0f921"
             ]
            ],
            "type": "histogram2dcontour"
           }
          ],
          "mesh3d": [
           {
            "colorbar": {
             "outlinewidth": 0,
             "ticks": ""
            },
            "type": "mesh3d"
           }
          ],
          "parcoords": [
           {
            "line": {
             "colorbar": {
              "outlinewidth": 0,
              "ticks": ""
             }
            },
            "type": "parcoords"
           }
          ],
          "pie": [
           {
            "automargin": true,
            "type": "pie"
           }
          ],
          "scatter": [
           {
            "fillpattern": {
             "fillmode": "overlay",
             "size": 10,
             "solidity": 0.2
            },
            "type": "scatter"
           }
          ],
          "scatter3d": [
           {
            "line": {
             "colorbar": {
              "outlinewidth": 0,
              "ticks": ""
             }
            },
            "marker": {
             "colorbar": {
              "outlinewidth": 0,
              "ticks": ""
             }
            },
            "type": "scatter3d"
           }
          ],
          "scattercarpet": [
           {
            "marker": {
             "colorbar": {
              "outlinewidth": 0,
              "ticks": ""
             }
            },
            "type": "scattercarpet"
           }
          ],
          "scattergeo": [
           {
            "marker": {
             "colorbar": {
              "outlinewidth": 0,
              "ticks": ""
             }
            },
            "type": "scattergeo"
           }
          ],
          "scattergl": [
           {
            "marker": {
             "colorbar": {
              "outlinewidth": 0,
              "ticks": ""
             }
            },
            "type": "scattergl"
           }
          ],
          "scattermapbox": [
           {
            "marker": {
             "colorbar": {
              "outlinewidth": 0,
              "ticks": ""
             }
            },
            "type": "scattermapbox"
           }
          ],
          "scatterpolar": [
           {
            "marker": {
             "colorbar": {
              "outlinewidth": 0,
              "ticks": ""
             }
            },
            "type": "scatterpolar"
           }
          ],
          "scatterpolargl": [
           {
            "marker": {
             "colorbar": {
              "outlinewidth": 0,
              "ticks": ""
             }
            },
            "type": "scatterpolargl"
           }
          ],
          "scatterternary": [
           {
            "marker": {
             "colorbar": {
              "outlinewidth": 0,
              "ticks": ""
             }
            },
            "type": "scatterternary"
           }
          ],
          "surface": [
           {
            "colorbar": {
             "outlinewidth": 0,
             "ticks": ""
            },
            "colorscale": [
             [
              0,
              "#0d0887"
             ],
             [
              0.1111111111111111,
              "#46039f"
             ],
             [
              0.2222222222222222,
              "#7201a8"
             ],
             [
              0.3333333333333333,
              "#9c179e"
             ],
             [
              0.4444444444444444,
              "#bd3786"
             ],
             [
              0.5555555555555556,
              "#d8576b"
             ],
             [
              0.6666666666666666,
              "#ed7953"
             ],
             [
              0.7777777777777778,
              "#fb9f3a"
             ],
             [
              0.8888888888888888,
              "#fdca26"
             ],
             [
              1,
              "#f0f921"
             ]
            ],
            "type": "surface"
           }
          ],
          "table": [
           {
            "cells": {
             "fill": {
              "color": "#EBF0F8"
             },
             "line": {
              "color": "white"
             }
            },
            "header": {
             "fill": {
              "color": "#C8D4E3"
             },
             "line": {
              "color": "white"
             }
            },
            "type": "table"
           }
          ]
         },
         "layout": {
          "annotationdefaults": {
           "arrowcolor": "#2a3f5f",
           "arrowhead": 0,
           "arrowwidth": 1
          },
          "autotypenumbers": "strict",
          "coloraxis": {
           "colorbar": {
            "outlinewidth": 0,
            "ticks": ""
           }
          },
          "colorscale": {
           "diverging": [
            [
             0,
             "#8e0152"
            ],
            [
             0.1,
             "#c51b7d"
            ],
            [
             0.2,
             "#de77ae"
            ],
            [
             0.3,
             "#f1b6da"
            ],
            [
             0.4,
             "#fde0ef"
            ],
            [
             0.5,
             "#f7f7f7"
            ],
            [
             0.6,
             "#e6f5d0"
            ],
            [
             0.7,
             "#b8e186"
            ],
            [
             0.8,
             "#7fbc41"
            ],
            [
             0.9,
             "#4d9221"
            ],
            [
             1,
             "#276419"
            ]
           ],
           "sequential": [
            [
             0,
             "#0d0887"
            ],
            [
             0.1111111111111111,
             "#46039f"
            ],
            [
             0.2222222222222222,
             "#7201a8"
            ],
            [
             0.3333333333333333,
             "#9c179e"
            ],
            [
             0.4444444444444444,
             "#bd3786"
            ],
            [
             0.5555555555555556,
             "#d8576b"
            ],
            [
             0.6666666666666666,
             "#ed7953"
            ],
            [
             0.7777777777777778,
             "#fb9f3a"
            ],
            [
             0.8888888888888888,
             "#fdca26"
            ],
            [
             1,
             "#f0f921"
            ]
           ],
           "sequentialminus": [
            [
             0,
             "#0d0887"
            ],
            [
             0.1111111111111111,
             "#46039f"
            ],
            [
             0.2222222222222222,
             "#7201a8"
            ],
            [
             0.3333333333333333,
             "#9c179e"
            ],
            [
             0.4444444444444444,
             "#bd3786"
            ],
            [
             0.5555555555555556,
             "#d8576b"
            ],
            [
             0.6666666666666666,
             "#ed7953"
            ],
            [
             0.7777777777777778,
             "#fb9f3a"
            ],
            [
             0.8888888888888888,
             "#fdca26"
            ],
            [
             1,
             "#f0f921"
            ]
           ]
          },
          "colorway": [
           "#636efa",
           "#EF553B",
           "#00cc96",
           "#ab63fa",
           "#FFA15A",
           "#19d3f3",
           "#FF6692",
           "#B6E880",
           "#FF97FF",
           "#FECB52"
          ],
          "font": {
           "color": "#2a3f5f"
          },
          "geo": {
           "bgcolor": "white",
           "lakecolor": "white",
           "landcolor": "#E5ECF6",
           "showlakes": true,
           "showland": true,
           "subunitcolor": "white"
          },
          "hoverlabel": {
           "align": "left"
          },
          "hovermode": "closest",
          "mapbox": {
           "style": "light"
          },
          "paper_bgcolor": "white",
          "plot_bgcolor": "#E5ECF6",
          "polar": {
           "angularaxis": {
            "gridcolor": "white",
            "linecolor": "white",
            "ticks": ""
           },
           "bgcolor": "#E5ECF6",
           "radialaxis": {
            "gridcolor": "white",
            "linecolor": "white",
            "ticks": ""
           }
          },
          "scene": {
           "xaxis": {
            "backgroundcolor": "#E5ECF6",
            "gridcolor": "white",
            "gridwidth": 2,
            "linecolor": "white",
            "showbackground": true,
            "ticks": "",
            "zerolinecolor": "white"
           },
           "yaxis": {
            "backgroundcolor": "#E5ECF6",
            "gridcolor": "white",
            "gridwidth": 2,
            "linecolor": "white",
            "showbackground": true,
            "ticks": "",
            "zerolinecolor": "white"
           },
           "zaxis": {
            "backgroundcolor": "#E5ECF6",
            "gridcolor": "white",
            "gridwidth": 2,
            "linecolor": "white",
            "showbackground": true,
            "ticks": "",
            "zerolinecolor": "white"
           }
          },
          "shapedefaults": {
           "line": {
            "color": "#2a3f5f"
           }
          },
          "ternary": {
           "aaxis": {
            "gridcolor": "white",
            "linecolor": "white",
            "ticks": ""
           },
           "baxis": {
            "gridcolor": "white",
            "linecolor": "white",
            "ticks": ""
           },
           "bgcolor": "#E5ECF6",
           "caxis": {
            "gridcolor": "white",
            "linecolor": "white",
            "ticks": ""
           }
          },
          "title": {
           "x": 0.05
          },
          "xaxis": {
           "automargin": true,
           "gridcolor": "white",
           "linecolor": "white",
           "ticks": "",
           "title": {
            "standoff": 15
           },
           "zerolinecolor": "white",
           "zerolinewidth": 2
          },
          "yaxis": {
           "automargin": true,
           "gridcolor": "white",
           "linecolor": "white",
           "ticks": "",
           "title": {
            "standoff": 15
           },
           "zerolinecolor": "white",
           "zerolinewidth": 2
          }
         }
        },
        "title": {
         "font": {
          "color": "#4D5663"
         }
        }
       }
      },
      "text/html": [
       "<div>                            <div id=\"8bc2937f-5409-499c-b1f4-a48aefce95da\" class=\"plotly-graph-div\" style=\"height:525px; width:100%;\"></div>            <script type=\"text/javascript\">                require([\"plotly\"], function(Plotly) {                    window.PLOTLYENV=window.PLOTLYENV || {};\n",
       "                    window.PLOTLYENV.BASE_URL='https://plot.ly';                                    if (document.getElementById(\"8bc2937f-5409-499c-b1f4-a48aefce95da\")) {                    Plotly.newPlot(                        \"8bc2937f-5409-499c-b1f4-a48aefce95da\",                        [{\"marker\":{\"color\":[\"rgba(255, 153, 51, 1.0)\",\"rgba(55, 128, 191, 1.0)\",\"rgba(50, 171, 96, 1.0)\",\"rgba(128, 0, 128, 1.0)\",\"rgba(219, 64, 82, 1.0)\",\"rgba(0, 128, 128, 1.0)\",\"rgba(255, 255, 51, 1.0)\",\"rgba(128, 128, 0, 1.0)\",\"rgba(251, 128, 114, 1.0)\",\"rgba(128, 177, 211, 1.0)\",\"rgba(128, 177, 211, 0.9733333333333334)\",\"rgba(255, 153, 51, 0.9733333333333334)\",\"rgba(55, 128, 191, 0.9733333333333334)\",\"rgba(50, 171, 96, 0.9733333333333334)\",\"rgba(128, 0, 128, 0.9733333333333334)\",\"rgba(219, 64, 82, 0.9733333333333334)\",\"rgba(0, 128, 128, 0.9733333333333334)\",\"rgba(255, 255, 51, 0.9733333333333334)\",\"rgba(128, 128, 0, 0.9733333333333334)\",\"rgba(251, 128, 114, 0.9733333333333334)\",\"rgba(251, 128, 114, 0.9466666666666665)\",\"rgba(128, 177, 211, 0.9466666666666665)\",\"rgba(255, 153, 51, 0.9466666666666665)\",\"rgba(55, 128, 191, 0.9466666666666665)\",\"rgba(50, 171, 96, 0.9466666666666665)\",\"rgba(128, 0, 128, 0.9466666666666665)\",\"rgba(219, 64, 82, 0.9466666666666665)\",\"rgba(0, 128, 128, 0.9466666666666665)\",\"rgba(255, 255, 51, 0.9466666666666665)\",\"rgba(128, 128, 0, 0.9466666666666665)\",\"rgba(128, 128, 0, 0.9199999999999999)\",\"rgba(251, 128, 114, 0.9199999999999999)\",\"rgba(128, 177, 211, 0.9199999999999999)\",\"rgba(255, 153, 51, 0.9199999999999999)\",\"rgba(55, 128, 191, 0.9199999999999999)\",\"rgba(50, 171, 96, 0.9199999999999999)\",\"rgba(128, 0, 128, 0.9199999999999999)\",\"rgba(219, 64, 82, 0.9199999999999999)\",\"rgba(0, 128, 128, 0.9199999999999999)\",\"rgba(255, 255, 51, 0.9199999999999999)\",\"rgba(255, 255, 51, 0.8933333333333333)\",\"rgba(128, 128, 0, 0.8933333333333333)\",\"rgba(251, 128, 114, 0.8933333333333333)\",\"rgba(128, 177, 211, 0.8933333333333333)\",\"rgba(255, 153, 51, 0.8933333333333333)\",\"rgba(55, 128, 191, 0.8933333333333333)\",\"rgba(50, 171, 96, 0.8933333333333333)\",\"rgba(128, 0, 128, 0.8933333333333333)\",\"rgba(219, 64, 82, 0.8933333333333333)\",\"rgba(0, 128, 128, 0.8933333333333333)\",\"rgba(0, 128, 128, 0.8666666666666667)\",\"rgba(255, 255, 51, 0.8666666666666667)\",\"rgba(128, 128, 0, 0.8666666666666667)\",\"rgba(251, 128, 114, 0.8666666666666667)\",\"rgba(128, 177, 211, 0.8666666666666667)\",\"rgba(255, 153, 51, 0.8666666666666667)\",\"rgba(55, 128, 191, 0.8666666666666667)\",\"rgba(50, 171, 96, 0.8666666666666667)\",\"rgba(128, 0, 128, 0.8666666666666667)\",\"rgba(219, 64, 82, 0.8666666666666667)\",\"rgba(219, 64, 82, 0.8399999999999999)\",\"rgba(0, 128, 128, 0.8399999999999999)\",\"rgba(255, 255, 51, 0.8399999999999999)\",\"rgba(128, 128, 0, 0.8399999999999999)\",\"rgba(251, 128, 114, 0.8399999999999999)\",\"rgba(128, 177, 211, 0.8399999999999999)\",\"rgba(255, 153, 51, 0.8399999999999999)\",\"rgba(55, 128, 191, 0.8399999999999999)\",\"rgba(50, 171, 96, 0.8399999999999999)\",\"rgba(128, 0, 128, 0.8399999999999999)\",\"rgba(128, 0, 128, 0.8133333333333332)\",\"rgba(219, 64, 82, 0.8133333333333332)\",\"rgba(0, 128, 128, 0.8133333333333332)\",\"rgba(255, 255, 51, 0.8133333333333332)\",\"rgba(128, 128, 0, 0.8133333333333332)\",\"rgba(251, 128, 114, 0.8133333333333332)\",\"rgba(128, 177, 211, 0.8133333333333332)\",\"rgba(255, 153, 51, 0.8133333333333332)\",\"rgba(55, 128, 191, 0.8133333333333332)\",\"rgba(50, 171, 96, 0.8133333333333332)\",\"rgba(50, 171, 96, 0.7866666666666666)\",\"rgba(128, 0, 128, 0.7866666666666666)\",\"rgba(219, 64, 82, 0.7866666666666666)\",\"rgba(0, 128, 128, 0.7866666666666666)\",\"rgba(255, 255, 51, 0.7866666666666666)\",\"rgba(128, 128, 0, 0.7866666666666666)\",\"rgba(251, 128, 114, 0.7866666666666666)\",\"rgba(128, 177, 211, 0.7866666666666666)\",\"rgba(255, 153, 51, 0.7866666666666666)\",\"rgba(55, 128, 191, 0.7866666666666666)\",\"rgba(55, 128, 191, 0.76)\",\"rgba(50, 171, 96, 0.76)\",\"rgba(128, 0, 128, 0.76)\",\"rgba(219, 64, 82, 0.76)\",\"rgba(0, 128, 128, 0.76)\",\"rgba(255, 255, 51, 0.76)\",\"rgba(128, 128, 0, 0.76)\",\"rgba(251, 128, 114, 0.76)\",\"rgba(128, 177, 211, 0.76)\",\"rgba(255, 153, 51, 0.76)\",\"rgba(255, 153, 51, 0.7333333333333332)\",\"rgba(55, 128, 191, 0.7333333333333332)\",\"rgba(50, 171, 96, 0.7333333333333332)\",\"rgba(128, 0, 128, 0.7333333333333332)\",\"rgba(219, 64, 82, 0.7333333333333332)\",\"rgba(0, 128, 128, 0.7333333333333332)\",\"rgba(255, 255, 51, 0.7333333333333332)\",\"rgba(128, 128, 0, 0.7333333333333332)\",\"rgba(251, 128, 114, 0.7333333333333332)\",\"rgba(128, 177, 211, 0.7333333333333332)\",\"rgba(128, 177, 211, 0.7066666666666666)\",\"rgba(255, 153, 51, 0.7066666666666666)\",\"rgba(55, 128, 191, 0.7066666666666666)\",\"rgba(50, 171, 96, 0.7066666666666666)\",\"rgba(128, 0, 128, 0.7066666666666666)\",\"rgba(219, 64, 82, 0.7066666666666666)\",\"rgba(0, 128, 128, 0.7066666666666666)\",\"rgba(255, 255, 51, 0.7066666666666666)\",\"rgba(128, 128, 0, 0.7066666666666666)\",\"rgba(251, 128, 114, 0.7066666666666666)\",\"rgba(251, 128, 114, 0.6799999999999999)\",\"rgba(128, 177, 211, 0.6799999999999999)\",\"rgba(255, 153, 51, 0.6799999999999999)\",\"rgba(55, 128, 191, 0.6799999999999999)\",\"rgba(50, 171, 96, 0.6799999999999999)\",\"rgba(128, 0, 128, 0.6799999999999999)\",\"rgba(219, 64, 82, 0.6799999999999999)\",\"rgba(0, 128, 128, 0.6799999999999999)\",\"rgba(255, 255, 51, 0.6799999999999999)\",\"rgba(128, 128, 0, 0.6799999999999999)\",\"rgba(128, 128, 0, 0.6533333333333333)\",\"rgba(251, 128, 114, 0.6533333333333333)\",\"rgba(128, 177, 211, 0.6533333333333333)\",\"rgba(255, 153, 51, 0.6533333333333333)\",\"rgba(55, 128, 191, 0.6533333333333333)\",\"rgba(50, 171, 96, 0.6533333333333333)\",\"rgba(128, 0, 128, 0.6533333333333333)\",\"rgba(219, 64, 82, 0.6533333333333333)\",\"rgba(0, 128, 128, 0.6533333333333333)\",\"rgba(255, 255, 51, 0.6533333333333333)\",\"rgba(255, 255, 51, 0.6266666666666665)\",\"rgba(128, 128, 0, 0.6266666666666665)\",\"rgba(251, 128, 114, 0.6266666666666665)\",\"rgba(128, 177, 211, 0.6266666666666665)\",\"rgba(255, 153, 51, 0.6266666666666665)\",\"rgba(55, 128, 191, 0.6266666666666665)\",\"rgba(50, 171, 96, 0.6266666666666665)\",\"rgba(128, 0, 128, 0.6266666666666665)\",\"rgba(219, 64, 82, 0.6266666666666665)\",\"rgba(0, 128, 128, 0.6266666666666665)\",\"rgba(0, 128, 128, 0.5999999999999999)\",\"rgba(255, 255, 51, 0.5999999999999999)\",\"rgba(128, 128, 0, 0.5999999999999999)\",\"rgba(251, 128, 114, 0.5999999999999999)\",\"rgba(128, 177, 211, 0.5999999999999999)\",\"rgba(255, 153, 51, 0.5999999999999999)\",\"rgba(55, 128, 191, 0.5999999999999999)\",\"rgba(50, 171, 96, 0.5999999999999999)\",\"rgba(128, 0, 128, 0.5999999999999999)\",\"rgba(219, 64, 82, 0.5999999999999999)\",\"rgba(219, 64, 82, 0.5733333333333333)\",\"rgba(0, 128, 128, 0.5733333333333333)\",\"rgba(255, 255, 51, 0.5733333333333333)\",\"rgba(128, 128, 0, 0.5733333333333333)\",\"rgba(251, 128, 114, 0.5733333333333333)\",\"rgba(128, 177, 211, 0.5733333333333333)\",\"rgba(255, 153, 51, 0.5733333333333333)\",\"rgba(55, 128, 191, 0.5733333333333333)\",\"rgba(50, 171, 96, 0.5733333333333333)\",\"rgba(128, 0, 128, 0.5733333333333333)\",\"rgba(128, 0, 128, 0.5466666666666666)\",\"rgba(219, 64, 82, 0.5466666666666666)\",\"rgba(0, 128, 128, 0.5466666666666666)\",\"rgba(255, 255, 51, 0.5466666666666666)\",\"rgba(128, 128, 0, 0.5466666666666666)\",\"rgba(251, 128, 114, 0.5466666666666666)\",\"rgba(128, 177, 211, 0.5466666666666666)\",\"rgba(255, 153, 51, 0.5466666666666666)\",\"rgba(55, 128, 191, 0.5466666666666666)\",\"rgba(50, 171, 96, 0.5466666666666666)\",\"rgba(50, 171, 96, 0.5199999999999998)\",\"rgba(128, 0, 128, 0.5199999999999998)\",\"rgba(219, 64, 82, 0.5199999999999998)\",\"rgba(0, 128, 128, 0.5199999999999998)\",\"rgba(255, 255, 51, 0.5199999999999998)\",\"rgba(128, 128, 0, 0.5199999999999998)\",\"rgba(251, 128, 114, 0.5199999999999998)\",\"rgba(128, 177, 211, 0.5199999999999998)\",\"rgba(255, 153, 51, 0.5199999999999998)\",\"rgba(55, 128, 191, 0.5199999999999998)\",\"rgba(55, 128, 191, 0.49333333333333323)\",\"rgba(50, 171, 96, 0.49333333333333323)\",\"rgba(128, 0, 128, 0.49333333333333323)\",\"rgba(219, 64, 82, 0.49333333333333323)\",\"rgba(0, 128, 128, 0.49333333333333323)\",\"rgba(255, 255, 51, 0.49333333333333323)\",\"rgba(128, 128, 0, 0.49333333333333323)\",\"rgba(251, 128, 114, 0.49333333333333323)\",\"rgba(128, 177, 211, 0.49333333333333323)\",\"rgba(255, 153, 51, 0.49333333333333323)\",\"rgba(255, 153, 51, 0.4666666666666666)\",\"rgba(55, 128, 191, 0.4666666666666666)\",\"rgba(50, 171, 96, 0.4666666666666666)\",\"rgba(128, 0, 128, 0.4666666666666666)\",\"rgba(219, 64, 82, 0.4666666666666666)\",\"rgba(0, 128, 128, 0.4666666666666666)\",\"rgba(255, 255, 51, 0.4666666666666666)\",\"rgba(128, 128, 0, 0.4666666666666666)\",\"rgba(251, 128, 114, 0.4666666666666666)\",\"rgba(128, 177, 211, 0.4666666666666666)\",\"rgba(128, 177, 211, 0.44)\",\"rgba(255, 153, 51, 0.44)\",\"rgba(55, 128, 191, 0.44)\",\"rgba(50, 171, 96, 0.44)\",\"rgba(128, 0, 128, 0.44)\",\"rgba(219, 64, 82, 0.44)\",\"rgba(0, 128, 128, 0.44)\",\"rgba(255, 255, 51, 0.44)\",\"rgba(128, 128, 0, 0.44)\",\"rgba(251, 128, 114, 0.44)\",\"rgba(251, 128, 114, 0.41333333333333316)\",\"rgba(128, 177, 211, 0.41333333333333316)\",\"rgba(255, 153, 51, 0.41333333333333316)\",\"rgba(55, 128, 191, 0.41333333333333316)\",\"rgba(50, 171, 96, 0.41333333333333316)\",\"rgba(128, 0, 128, 0.41333333333333316)\",\"rgba(219, 64, 82, 0.41333333333333316)\",\"rgba(0, 128, 128, 0.41333333333333316)\",\"rgba(255, 255, 51, 0.41333333333333316)\",\"rgba(128, 128, 0, 0.41333333333333316)\",\"rgba(128, 128, 0, 0.38666666666666655)\",\"rgba(251, 128, 114, 0.38666666666666655)\",\"rgba(128, 177, 211, 0.38666666666666655)\",\"rgba(255, 153, 51, 0.38666666666666655)\",\"rgba(55, 128, 191, 0.38666666666666655)\",\"rgba(50, 171, 96, 0.38666666666666655)\",\"rgba(128, 0, 128, 0.38666666666666655)\",\"rgba(219, 64, 82, 0.38666666666666655)\",\"rgba(0, 128, 128, 0.38666666666666655)\",\"rgba(255, 255, 51, 0.38666666666666655)\",\"rgba(255, 255, 51, 0.35999999999999993)\",\"rgba(128, 128, 0, 0.35999999999999993)\",\"rgba(251, 128, 114, 0.35999999999999993)\",\"rgba(128, 177, 211, 0.35999999999999993)\",\"rgba(255, 153, 51, 0.35999999999999993)\",\"rgba(55, 128, 191, 0.35999999999999993)\",\"rgba(50, 171, 96, 0.35999999999999993)\",\"rgba(128, 0, 128, 0.35999999999999993)\",\"rgba(219, 64, 82, 0.35999999999999993)\",\"rgba(0, 128, 128, 0.35999999999999993)\",\"rgba(0, 128, 128, 0.3333333333333333)\",\"rgba(255, 255, 51, 0.3333333333333333)\",\"rgba(128, 128, 0, 0.3333333333333333)\",\"rgba(251, 128, 114, 0.3333333333333333)\",\"rgba(128, 177, 211, 0.3333333333333333)\",\"rgba(255, 153, 51, 0.3333333333333333)\",\"rgba(55, 128, 191, 0.3333333333333333)\",\"rgba(50, 171, 96, 0.3333333333333333)\",\"rgba(128, 0, 128, 0.3333333333333333)\",\"rgba(219, 64, 82, 0.3333333333333333)\",\"rgba(219, 64, 82, 0.3066666666666665)\",\"rgba(0, 128, 128, 0.3066666666666665)\",\"rgba(255, 255, 51, 0.3066666666666665)\",\"rgba(128, 128, 0, 0.3066666666666665)\",\"rgba(251, 128, 114, 0.3066666666666665)\",\"rgba(128, 177, 211, 0.3066666666666665)\",\"rgba(255, 153, 51, 0.3066666666666665)\",\"rgba(55, 128, 191, 0.3066666666666665)\",\"rgba(50, 171, 96, 0.3066666666666665)\",\"rgba(128, 0, 128, 0.3066666666666665)\",\"rgba(128, 0, 128, 0.27999999999999986)\",\"rgba(219, 64, 82, 0.27999999999999986)\",\"rgba(0, 128, 128, 0.27999999999999986)\",\"rgba(255, 255, 51, 0.27999999999999986)\",\"rgba(128, 128, 0, 0.27999999999999986)\",\"rgba(251, 128, 114, 0.27999999999999986)\",\"rgba(128, 177, 211, 0.27999999999999986)\",\"rgba(255, 153, 51, 0.27999999999999986)\",\"rgba(55, 128, 191, 0.27999999999999986)\",\"rgba(50, 171, 96, 0.27999999999999986)\",\"rgba(50, 171, 96, 0.25333333333333324)\",\"rgba(128, 0, 128, 0.25333333333333324)\",\"rgba(219, 64, 82, 0.25333333333333324)\",\"rgba(0, 128, 128, 0.25333333333333324)\",\"rgba(255, 255, 51, 0.25333333333333324)\",\"rgba(128, 128, 0, 0.25333333333333324)\",\"rgba(251, 128, 114, 0.25333333333333324)\",\"rgba(128, 177, 211, 0.25333333333333324)\",\"rgba(255, 153, 51, 0.25333333333333324)\",\"rgba(55, 128, 191, 0.25333333333333324)\",\"rgba(55, 128, 191, 0.22666666666666663)\",\"rgba(50, 171, 96, 0.22666666666666663)\",\"rgba(128, 0, 128, 0.22666666666666663)\",\"rgba(219, 64, 82, 0.22666666666666663)\",\"rgba(0, 128, 128, 0.22666666666666663)\",\"rgba(255, 255, 51, 0.22666666666666663)\",\"rgba(128, 128, 0, 0.22666666666666663)\",\"rgba(251, 128, 114, 0.22666666666666663)\",\"rgba(128, 177, 211, 0.22666666666666663)\",\"rgba(255, 153, 51, 0.22666666666666663)\"],\"opacity\":0.8,\"size\":[12,12,12,12,12,12,12,12,12,12,12,12,12,12,12,12,12,12,12,12,12,12,12,12,12,12,12,12,12,12,12,12,12,12,12,12,12,12,12,12,12,12,12,12,12,12,12,12,12,12,12,12,12,12,12,12,12,12,12,12,12,12,12,12,12,12,12,12,12,12,12,12,12,12,12,12,12,12,12,12,12,12,12,12,12,12,12,12,12,12,12,12,12,12,12,12,12,12,12,12,12,12,12,12,12,12,12,12,12,12,12,12,12,12,12,12,12,12,12,12,12,12,12,12,12,12,12,12,12,12,12,12,12,12,12,12,12,12,12,12,12,12,12,12,12,12,12,12,12,12,12,12,12,12,12,12,12,12,12,12,12,12,12,12,12,12,12,12,12,12,12,12,12,12,12,12,12,12,12,12,12,12,12,12,12,12,12,12,12,12,12,12,12,12,12,12,12,12,12,12,12,12,12,12,12,12,12,12,12,12,12,12,12,12,12,12,12,12,12,12,12,12,12,12,12,12,12,12,12,12,12,12,12,12,12,12,12,12,12,12,12,12,12,12,12,12,12,12,12,12,12,12,12,12,12,12,12,12,12,12,12,12,12,12,12,12,12,12,12,12,12,12,12,12,12,12,12,12,12,12,12,12,12,12,12,12,12,12,12,12,12,12,12,12,12,12,12,12,12,12],\"symbol\":\"circle\"},\"mode\":\"markers\",\"text\":[\"0\",\"1\",\"2\",\"3\",\"4\",\"5\",\"6\",\"7\",\"8\",\"9\",\"10\",\"11\",\"12\",\"13\",\"14\",\"15\",\"16\",\"17\",\"18\",\"19\",\"20\",\"21\",\"22\",\"23\",\"24\",\"25\",\"26\",\"27\",\"28\",\"29\",\"30\",\"31\",\"32\",\"33\",\"34\",\"35\",\"36\",\"37\",\"38\",\"39\",\"40\",\"41\",\"42\",\"43\",\"44\",\"45\",\"46\",\"47\",\"48\",\"49\",\"50\",\"51\",\"52\",\"53\",\"54\",\"55\",\"56\",\"57\",\"58\",\"59\",\"60\",\"61\",\"62\",\"63\",\"64\",\"65\",\"66\",\"67\",\"68\",\"69\",\"70\",\"71\",\"72\",\"73\",\"74\",\"75\",\"76\",\"77\",\"78\",\"79\",\"80\",\"81\",\"82\",\"83\",\"84\",\"85\",\"86\",\"87\",\"88\",\"89\",\"90\",\"91\",\"92\",\"93\",\"94\",\"95\",\"96\",\"97\",\"98\",\"99\",\"100\",\"101\",\"102\",\"103\",\"104\",\"105\",\"106\",\"107\",\"108\",\"109\",\"110\",\"111\",\"112\",\"113\",\"114\",\"115\",\"116\",\"117\",\"118\",\"119\",\"120\",\"121\",\"122\",\"123\",\"124\",\"125\",\"126\",\"127\",\"128\",\"129\",\"130\",\"131\",\"132\",\"133\",\"134\",\"135\",\"136\",\"137\",\"138\",\"139\",\"140\",\"141\",\"142\",\"143\",\"144\",\"145\",\"146\",\"147\",\"148\",\"149\",\"150\",\"151\",\"152\",\"153\",\"154\",\"155\",\"156\",\"157\",\"158\",\"159\",\"160\",\"161\",\"162\",\"163\",\"164\",\"165\",\"166\",\"167\",\"168\",\"169\",\"170\",\"171\",\"172\",\"173\",\"174\",\"175\",\"176\",\"177\",\"178\",\"179\",\"180\",\"181\",\"182\",\"183\",\"184\",\"185\",\"186\",\"187\",\"188\",\"189\",\"190\",\"191\",\"192\",\"193\",\"194\",\"195\",\"196\",\"197\",\"198\",\"199\",\"200\",\"201\",\"202\",\"203\",\"204\",\"205\",\"206\",\"207\",\"208\",\"209\",\"210\",\"211\",\"212\",\"213\",\"214\",\"215\",\"216\",\"217\",\"218\",\"219\",\"220\",\"221\",\"222\",\"223\",\"224\",\"225\",\"226\",\"227\",\"228\",\"229\",\"230\",\"231\",\"232\",\"233\",\"234\",\"235\",\"236\",\"237\",\"238\",\"239\",\"240\",\"241\",\"242\",\"243\",\"244\",\"245\",\"246\",\"247\",\"248\",\"249\",\"250\",\"251\",\"252\",\"253\",\"254\",\"255\",\"256\",\"257\",\"258\",\"259\",\"260\",\"261\",\"262\",\"263\",\"264\",\"265\",\"266\",\"267\",\"268\",\"269\",\"270\",\"271\",\"272\",\"273\",\"274\",\"275\",\"276\",\"277\",\"278\",\"279\",\"280\",\"281\",\"282\",\"283\",\"284\",\"285\",\"286\",\"287\",\"288\",\"289\",\"290\",\"291\",\"292\",\"293\",\"294\",\"295\",\"296\",\"297\",\"298\",\"299\"],\"x\":[0.27838296152448205,0.23419125123119744,0.9402311573939685,0.9818252945368592,0.5217225533175608,0.7578086699334807,0.2111976699587792,0.6453708054587917,0.9422474824428778,0.022249498661639278,0.2755596986746416,0.9785210814026211,0.5654153135198642,0.6274844848410547,0.29576173818764806,0.06775110903405024,0.5578046082254566,0.695394908522818,0.5381113266284672,0.024570279708218234,0.800565801536332,0.9417454805485571,0.2844049944028668,0.20876361415764477,0.40084204513597377,0.9929702066541193,0.5610364132577672,0.9456186937109804,0.42937677912346195,0.8684238390608195,0.3749792724921833,0.47948962522771443,0.34562510637964516,0.204323542498955,0.6268255822305261,0.0018208891801168026,0.15535075023305478,0.3397211712303666,0.781154142366423,0.7794866433662041,0.13137575382727107,0.6130269773960699,0.3588564939512987,0.3758089595124783,0.6986529721820868,0.21942639151151921,0.14815064212379492,0.9062521460946548,0.7403349586314467,0.38662376283076283,0.7294177216662878,0.33997466187018344,0.23054653870105257,0.9508857451656485,0.5182287254107543,0.2829685330479964,0.06369402579826,0.8859286457111712,0.6444247778449625,0.4808769221479291,0.4781501977014838,0.6338947783483909,0.23279127351316065,0.9460053310771964,0.46415139315983156,0.10672036838374654,0.6048288647528082,0.7404484291378357,0.5721715643887565,0.20820478311903767,0.18395790678627488,0.2445507780935977,0.2030706541275178,0.7259007075234182,0.8718537051022205,0.4427458263967561,0.6693721813489405,0.0972233192570191,0.8310848665360812,0.12853130407696034,0.7528576050272201,0.6269189603656903,0.24086723362603313,0.7119409525430167,0.220273625383981,0.2833379658342061,0.7381673273614507,0.12276060780545017,0.6141904650010638,0.27706488133337426,0.08664374871910496,0.7848889581162702,0.9906107300324285,0.5826769730717174,0.6360842660398539,0.9944732781286196,0.5530048406334314,0.4572449539458804,0.557815245782368,0.41291209087233904,0.2549426624184302,0.114892725347159,0.5149419206249494,0.1947389190665071,0.3526181793336107,0.7754808105728687,0.5881920915935499,0.5940159562471257,0.7195378753155126,0.03318835772060036,0.7090663101424748,0.6631215124964083,0.977232679531098,0.7719401384974047,0.035832261826258094,0.6165995267708891,0.5296730184037375,0.9854390485014088,0.8801697362258294,0.9026813500873416,0.08655340525045085,0.40855409203919857,0.29261246167551447,0.5882536160573619,0.9460875905381618,0.9599395398851532,0.134191226324769,0.5994825715269421,0.3154001104519524,0.7780004260353371,0.8796764271209183,0.5270841329833486,0.5403954526297006,0.7928539046949304,0.10971527933540548,0.816532138916471,0.2420857718290783,0.11675677849822175,0.11220449384326348,0.46368063526949077,0.3212129279221101,0.8052469210185732,0.6455260739519945,0.8914610084245113,0.03772966344919615,0.7683611953549274,0.9701553271536554,0.157224605452282,0.10215749418418607,0.579642400776483,0.26043041012260115,0.5388456704079811,0.5026271473024074,0.17077443328496134,0.6279026724063317,0.32784422415868364,0.5315223674724915,0.01664642521678894,0.05977658793312701,0.7182844386110933,0.002410075582974791,0.28976459952538924,0.956358235131849,0.873345657156394,0.1023929665168467,0.9693537120441449,0.799860343750764,0.7767341227517696,0.35095394020836446,0.2731300851170819,0.7674877913938117,0.40926710359825047,0.9581869084086707,0.9136869519345833,0.15462945777929904,0.04989115296842006,0.6087496960145763,0.09002404981157142,0.8710137767117321,0.10181117331645961,0.11306563278925652,0.4452076190176386,0.023677728838237044,0.9148972930636843,0.9757086311916698,0.2432665620506652,0.46931148596267125,0.833084546340623,0.47381771963285346,0.30034377713050675,0.19870670087297682,0.33464215545217957,0.060570867447157783,0.5133872247003363,0.29416542235032217,0.8402841054446625,0.16485330719549307,0.2971743484985775,0.4340212887337186,0.3375726777449579,0.5476924609444342,0.9700944623274808,0.6634815960051572,0.5484281219888569,0.4919608394479925,0.04721132415000373,0.535448438269241,0.08013696655861935,0.659823718070622,0.17561385320074652,0.4621377961429227,0.913731510135401,0.8425679611227511,0.1287132964457438,0.22158062413319524,0.6642953937250715,0.7863254260763021,0.7426285559674783,0.8119829792830648,0.4079000554937088,0.4818533432963078,0.8672445589843626,0.5649465365148959,0.1863258851340598,0.5565702956551042,0.6335500190071063,0.5837226384267603,0.049595105095059155,0.11688907294926276,0.5163979878969284,0.14938196548411986,0.7507419804993143,0.32298861194370954,0.4865936002018795,0.9777544744272296,0.17410099058551454,0.5097506576982367,0.7563389255268216,0.7888730797232102,0.7977274805290115,0.4647181534337701,0.5737086971316067,0.18320065501536342,0.7098498161475821,0.9897513736483721,0.35004123797981757,0.025122000048269477,0.09099493281635906,0.9550398644028407,0.19219203469051283,0.40564146969169124,0.6972519286702261,0.5115207334143151,0.7638961288086225,0.6760332567480096,0.19483780775406212,0.17865617381847343,0.9143402058992728,0.7082249293197352,0.0988609827067618,0.6316605225566471,0.28387168360209925,0.4730292558002901,0.06492467601096807,0.421108337115198,0.88340997022006,0.07558722791168437,0.2416928017355272,0.3875979608522391,0.4950370054778521,0.09685693980047938,0.7528380212852178,0.7323626750880344,0.8365879779057532,0.05695369994290267,0.15016857402536932,0.22306256841679195,0.5562107010731885,0.8702073780719157,0.20225557306283692,0.3780003774349775,0.4937429855740707,0.4677051693621641,0.45365609136466967,0.5422082407715243,0.4448089914354624,0.635793773654366,0.20189762812542034,0.16508147011719865,0.6087496682112827,0.9663424836068452,0.03907953963258781,0.5471173248437363,0.0841436452376032,0.13502063293264643,0.02169492672733697,0.9925329347136855,0.7367751196372292,0.651421083329264,0.055160653099090906],\"y\":[0.9249109331400724,0.743585203827573,0.8831653553002548,0.7437554600147297,0.6823611564682303,0.16506487343753018,0.7855945330924387,0.610874756579337,0.375995937569677,0.62816785978767,0.5965756525743989,0.9428934837049706,0.3772850723956822,0.39041393680078895,0.9294099023447528,0.6455381419746795,0.55048092322994,0.0751888191051765,0.926623333998224,0.543684662845825,0.49291708945308343,0.7999730034568164,0.6713344822483769,0.514714253849142,0.3164645646392146,0.5119090267466344,0.5752840738480205,0.6893497986249156,0.9614346958103448,0.9614130825032743,0.9091966472357571,0.9128932271360557,0.07413793176728545,0.6863099487068521,0.9195097523398436,0.5782345758548263,0.640276371766621,0.8498587169199389,0.03078931207406055,0.3900200476182394,0.21378916897623146,0.7741400887480892,0.7844134895830702,0.19063517698398613,0.6912281062570999,0.3320762453686339,0.07787049190175244,0.1654263214529228,0.9060963125956981,0.40563765575676736,0.271268141849345,0.29231949993043316,0.5329946913226531,0.6903767466918592,0.7252274844185217,0.9909230463360412,0.6578736572620661,0.32776853117536586,0.6880349183046421,0.06836370287599425,0.22298400647844163,0.9972202525592014,0.5021355334747422,0.9954938114097759,0.35231096281196594,0.6430180041568724,0.8731044249396699,0.7339812968713403,5.723596902607042e-05,0.9216997646250339,0.40392772533678023,0.25003056729581086,0.43632225326481777,0.3969315140268024,0.18023333852328982,0.7683572366989557,0.37232103714726783,0.08364804343192145,0.12546544180690056,0.7556543162077884,0.022906430175386183,0.46702276069314497,0.6014727520032607,0.29277344084533086,0.318836225438214,0.5197943038891067,0.7179987736266026,0.07254120016720011,0.6416297565832461,0.910528707115394,0.9956080745493682,0.06690093708537792,0.4304710796580584,0.21815646081463358,0.0642964919122595,0.6829778374239098,0.2713888031836065,0.47392621177304983,0.7618682698273211,0.35667493623410396,0.5947091382815903,0.99685444342122,0.6500415421031767,0.3741973016219635,0.8767991630059851,0.598959653846733,0.35373210196433336,0.599271328404216,0.33733350462384104,0.9503157438080856,0.9377852518598147,0.9198472470234688,0.9060171544944103,0.5317945154255017,0.027907921811626824,0.6897425242289441,0.08860087316275866,0.039145443825186366,0.6510786882837578,0.03803766206846626,0.6983101583856602,0.9925209325417484,0.22677176158926715,0.44390905517987356,0.6481295218790062,0.1019771074274699,0.7355112963298976,0.6130818582904024,0.6691409684595404,0.9732004801984492,0.8970030499345027,0.8155347743051857,0.34595047358154984,0.5292328175910097,0.24175508672125112,0.27944738885381537,0.09802233047625142,0.7948349114339293,0.4231104333185558,0.9225780133335272,0.5929571537059921,0.5082376908019512,0.7991224171425048,0.8572852088407905,0.7064153473143651,0.4765564251372123,0.39086920735880404,0.8448301299279213,0.7919525573725301,0.4637308805156579,0.3560391522581001,0.8660475843732272,0.8316634797452599,0.475827589831463,0.9069965530094977,0.8188091578803889,0.039055434510276266,0.6886177634358395,0.022397221915856913,0.43366517875415056,0.17117866716550267,0.45704383645300983,0.276731951750087,0.7848629422122223,0.833427554500872,0.9070020898072406,0.013382546704643339,0.9776255026271423,0.5487749791602706,0.5895219696648613,0.9993844391529377,0.20595049320724346,0.05362262559356645,0.3377455153005694,0.39139726856606916,0.5157945851020265,0.48120803427415615,0.24737443971569573,0.48567015329857166,0.1564848783445022,0.8935276895081937,0.6567774576522701,0.1943586798130873,0.9131437260945536,0.9855504040933227,0.6465920585852563,0.5352961599365442,0.28888673735841297,0.07689682767300376,0.6519677132286,0.6180576680868802,0.7332526865434044,0.7382733150593876,0.9021671633258097,0.9917570539428688,0.6314203229596009,0.1757189972153087,0.43328471274485825,0.7587908147513123,0.9550934558191921,0.05203271717926494,0.17568741142758848,0.681125814278701,0.7051004755464386,0.841796127192272,0.5137189808621627,0.7145315286590298,0.4085393050362587,0.45403858963845456,0.8396187539644637,0.3096456178913587,0.39313041073528854,0.2315293765491545,0.11547659196041438,0.3136792838025151,0.005284897749385675,0.6715950813597467,0.8252923676493422,0.21115179078100788,0.8108823913344306,0.06631396452399052,0.7180449516738712,0.24876011100682938,0.6063651217145797,0.5989259337076152,0.5619983688425207,0.1526205098047202,0.028748036694012935,0.41124019289216773,0.6955693039655934,0.5363347619628274,0.6948201221594031,0.9133520856749201,0.255477572683217,0.6134580312495657,0.7803264827418107,0.9470703499446524,0.3872855764150175,0.5484429409620318,0.43584209372812965,0.3259220998337973,0.9589561252382681,0.20535736864706045,0.8484761664108016,0.727471119712164,0.5251705631192307,0.10736188754519038,0.8081022114977733,0.5881091853044598,0.4362179318305238,0.6127672791762817,0.4909901118004937,0.9893139286926358,0.515442729324614,0.7091982670868329,0.06991484581045382,0.4864504267697546,0.27378265841123395,0.8279471161592715,0.9671546307173008,0.5880463969431804,0.0841452327926916,0.019676765258533457,0.18943907042702235,0.7854050628783473,0.6755708891761858,0.09493678741879708,0.03254028847311008,0.6495636434103388,0.42405272824439655,0.0014846500474002822,0.6194235698672657,0.13408467402820268,0.40484436721447326,0.9508410559331723,0.6611369564938521,0.5019291134740256,0.4544127657952177,0.8287441761580369,0.44677356219404574,0.023608779269205904,0.0501243595869405,0.5939131945165459,0.6044614729353479,0.8874778454730741,0.4089655320375063,0.4171685691584748,0.7348433034894232,0.8818718870500538,0.44946980030850137,0.8259702739591497,0.3313876079486101,0.6348503669315897,0.3653335477567311,0.8560705490525023,0.19624183686044816,0.0532243903424966,0.33429992135805364,0.21854519003514883,0.09215638926078595],\"z\":[0.6132135886730272,0.6850136450529026,0.9175071512987296,0.14143471113213513,0.3044788603258576,0.26015635771323087,0.9561529297176117,0.9652854330210126,0.019019506038248313,0.5923756542810439,0.3837182550960132,0.7120543535499836,0.8338171520630931,0.1362559572270967,0.8747422745842608,0.874663859843127,0.8594871062140317,0.8822257674021559,0.8779079569861763,0.254439286604334,0.5838764817885568,0.9517126638387209,0.28908291904469396,0.3119432589263089,0.3716612712386357,0.2994320430448424,0.3173112601266388,0.827993584475566,0.19952146434109175,0.6752648485417396,0.7397339558194118,0.09800549530763925,0.34275652615624363,0.7583315545643378,0.32663485735455833,0.748232291024852,0.9773290486230282,0.7119345765251058,0.17045579877895822,0.0683229103136016,0.022156257243828192,0.25536469545123874,0.5514492163940488,0.08483881504684765,0.6924271450593134,0.6961204291781299,0.23141650186897467,0.13977303172482625,0.35196024354345234,0.6204328732807234,0.4347546760996197,0.6309138537870796,0.33087175927827106,0.005304611366702461,0.856870750138151,0.28157620990212684,0.1318059124447185,0.12591670520872789,0.36718983905205727,0.15678489740941337,0.5257752154993797,0.1941511412123833,0.4077382508736288,0.8353745161302548,0.6838008342368359,0.22940659091659998,0.5118039717316153,0.1634344703492856,0.04522442261349169,0.4757637756250698,0.3132537332801164,0.10997028700944944,0.23912228001654634,0.9377237892431306,0.6277988815478882,0.31196525187755253,0.5652133621727112,0.939181534052675,0.28201977424298086,0.619853304062075,0.7488267690509178,0.07833959391395684,0.17770201014990328,0.6424580062302143,0.20847797831457282,0.2479972883306173,0.9843221875648627,0.025880129013830633,0.42776755673299693,0.4822304940044929,0.6910578576915309,0.06842919269768633,0.6287418719574387,0.9364914566563243,0.08842138011816969,0.7504036925304206,0.16128890042270938,0.6644066896522071,0.006582696474971339,0.02896877879242854,0.6533264324865965,0.1032584926777883,0.5286943262025284,0.4862074110884368,0.6714295442051599,0.4222934050519872,0.6664131484270636,0.5447716344426509,0.6855468747274078,0.9570344594463425,0.00798546983740922,0.17417103506433473,0.2812701554767534,0.2240401473934296,0.6870842957205096,0.639977102711297,0.8705065550161407,0.7379717999275676,0.9801699714269048,0.9338303204635685,0.7441307529298152,0.6171349930012334,0.8552141951057083,0.7727176757735219,0.13798309884151316,0.2186605315065263,0.42665118447999306,0.43779200606817636,0.3002634415869072,0.7749778765403706,0.4473201701071954,0.0411339829412275,0.2557548324196883,0.700204007755437,0.5368918529005362,0.5744792523651957,0.11821382670090375,0.15988012227387705,0.49761367558988445,0.32230228460225696,0.3787618004173182,0.041259832179653566,0.37544771609882155,0.0803985816351458,0.22857172238223988,0.6485517097406066,0.7887813766992907,0.9339985288981197,0.03855307866546809,0.475794829692031,0.550654982705386,0.43182652439917235,0.2305019513504064,0.728836386210465,0.9995336893773883,0.5188953392785197,0.6634391628747547,0.27939373362812303,0.08882875428734127,0.555064316540811,0.6624804467071292,0.7748807495933415,0.009997025928477177,0.9163910840818337,0.5109045965055661,0.03379192429605571,0.40612901206622554,0.9681383367520082,0.6405835678414039,0.5167885154777012,0.6026193264374748,0.6910009845819074,0.21635628298637888,0.8227368776437903,0.9487748161094968,0.36863194095308083,0.04677911357708486,0.2653444401732916,0.025638318151503192,0.30226458493424635,0.2955298861669724,0.15942327706433113,0.4459977295196724,0.8552901757419009,0.5909179219263527,0.6509750707264838,0.9750215760031388,0.3387049205409267,0.7846809218260952,0.7310475971685182,0.3644723268127483,0.7261575046010701,0.03592503301100047,0.7672155333070102,0.6950804044901434,0.157137774794206,0.14314911062336855,0.06483705808473172,0.17709776932671017,0.7190583075806407,0.7900904836945561,0.39468005697341735,0.8927808334504267,0.8188391761826479,0.36828862347479996,0.17248954006206096,0.15712505373551378,0.4970471955442668,0.8397612704876931,0.05240579939624668,0.03668602027508194,0.041377760847440714,0.7503704009428943,0.3639208927380464,0.7216094315183506,0.7056425481089795,0.12540057846467922,0.18303849321155596,0.5044726507289007,0.7988940992416447,0.7546265546565827,0.11219023011334739,0.9203527365244454,0.6114329680444899,0.734537628591819,0.828659922616728,0.8136989517091305,0.5984058363821506,0.9982451828491727,0.6479049020938347,0.045459296401691884,0.5372838109152426,0.47418141084763366,0.4534997479341265,0.31437805150750187,0.9179518590397185,0.30766045119951413,0.03918657951200699,0.7485808898855011,0.09794277669372453,0.48714512846529057,0.7303101619730267,0.5949106210330561,0.14487106823113027,0.17273980225371122,0.37875429584640263,0.15967167831657247,0.5503438853082566,0.49090705641071264,0.8168754159494535,0.8399697355887523,0.28829963905890066,0.8546864018741199,0.5639277648470203,0.8801569584710632,0.505719858864368,0.16877372914454913,0.9931991849278179,0.6786314088093598,0.9301305038587583,0.006366205149585968,0.7387774068963673,0.27945483771838675,0.44028995924223213,0.8744759422788644,0.07628096388600647,0.03279490919077921,0.37805696778809783,0.4707032210050508,0.3123127706518679,0.24848885317235048,0.4946975505632929,0.35293667509158666,0.05209907095792288,0.16217788498514107,0.9000581081647914,0.31025866721312145,0.3288977708370888,0.048607373703109524,0.2413062473271752,0.4787173360909688,0.07380545441463593,0.05280919626094438,0.5934043807141075,0.3075212671973482,0.7333436068345064,0.8204087120340883,0.02385614994725116,0.8907206167636419,0.9347983202562132,0.9242080986288362,0.0030073110662538483,0.798283813378484,0.1725921794694495,0.20778978316793761,0.896102533883606,0.3299977405418435,0.5162713263215997,0.7220135778708721,0.6168871457090428],\"type\":\"scatter3d\"}],                        {\"legend\":{\"bgcolor\":\"#F5F6F9\",\"font\":{\"color\":\"#4D5663\"}},\"paper_bgcolor\":\"#F5F6F9\",\"plot_bgcolor\":\"#F5F6F9\",\"scene\":{\"xaxis\":{\"gridcolor\":\"#9499A3\",\"showgrid\":true,\"tickfont\":{\"color\":\"#4D5663\"},\"title\":{\"font\":{\"color\":\"#4D5663\"},\"text\":\"\"},\"zerolinecolor\":\"#9499A3\"},\"yaxis\":{\"gridcolor\":\"#9499A3\",\"showgrid\":true,\"tickfont\":{\"color\":\"#4D5663\"},\"title\":{\"font\":{\"color\":\"#4D5663\"},\"text\":\"\"},\"zerolinecolor\":\"#9499A3\"},\"zaxis\":{\"gridcolor\":\"#9499A3\",\"showgrid\":true,\"tickfont\":{\"color\":\"#4D5663\"},\"title\":{\"font\":{\"color\":\"#4D5663\"},\"text\":\"\"},\"zerolinecolor\":\"#9499A3\"}},\"template\":{\"data\":{\"barpolar\":[{\"marker\":{\"line\":{\"color\":\"#E5ECF6\",\"width\":0.5},\"pattern\":{\"fillmode\":\"overlay\",\"size\":10,\"solidity\":0.2}},\"type\":\"barpolar\"}],\"bar\":[{\"error_x\":{\"color\":\"#2a3f5f\"},\"error_y\":{\"color\":\"#2a3f5f\"},\"marker\":{\"line\":{\"color\":\"#E5ECF6\",\"width\":0.5},\"pattern\":{\"fillmode\":\"overlay\",\"size\":10,\"solidity\":0.2}},\"type\":\"bar\"}],\"carpet\":[{\"aaxis\":{\"endlinecolor\":\"#2a3f5f\",\"gridcolor\":\"white\",\"linecolor\":\"white\",\"minorgridcolor\":\"white\",\"startlinecolor\":\"#2a3f5f\"},\"baxis\":{\"endlinecolor\":\"#2a3f5f\",\"gridcolor\":\"white\",\"linecolor\":\"white\",\"minorgridcolor\":\"white\",\"startlinecolor\":\"#2a3f5f\"},\"type\":\"carpet\"}],\"choropleth\":[{\"colorbar\":{\"outlinewidth\":0,\"ticks\":\"\"},\"type\":\"choropleth\"}],\"contourcarpet\":[{\"colorbar\":{\"outlinewidth\":0,\"ticks\":\"\"},\"type\":\"contourcarpet\"}],\"contour\":[{\"colorbar\":{\"outlinewidth\":0,\"ticks\":\"\"},\"colorscale\":[[0.0,\"#0d0887\"],[0.1111111111111111,\"#46039f\"],[0.2222222222222222,\"#7201a8\"],[0.3333333333333333,\"#9c179e\"],[0.4444444444444444,\"#bd3786\"],[0.5555555555555556,\"#d8576b\"],[0.6666666666666666,\"#ed7953\"],[0.7777777777777778,\"#fb9f3a\"],[0.8888888888888888,\"#fdca26\"],[1.0,\"#f0f921\"]],\"type\":\"contour\"}],\"heatmapgl\":[{\"colorbar\":{\"outlinewidth\":0,\"ticks\":\"\"},\"colorscale\":[[0.0,\"#0d0887\"],[0.1111111111111111,\"#46039f\"],[0.2222222222222222,\"#7201a8\"],[0.3333333333333333,\"#9c179e\"],[0.4444444444444444,\"#bd3786\"],[0.5555555555555556,\"#d8576b\"],[0.6666666666666666,\"#ed7953\"],[0.7777777777777778,\"#fb9f3a\"],[0.8888888888888888,\"#fdca26\"],[1.0,\"#f0f921\"]],\"type\":\"heatmapgl\"}],\"heatmap\":[{\"colorbar\":{\"outlinewidth\":0,\"ticks\":\"\"},\"colorscale\":[[0.0,\"#0d0887\"],[0.1111111111111111,\"#46039f\"],[0.2222222222222222,\"#7201a8\"],[0.3333333333333333,\"#9c179e\"],[0.4444444444444444,\"#bd3786\"],[0.5555555555555556,\"#d8576b\"],[0.6666666666666666,\"#ed7953\"],[0.7777777777777778,\"#fb9f3a\"],[0.8888888888888888,\"#fdca26\"],[1.0,\"#f0f921\"]],\"type\":\"heatmap\"}],\"histogram2dcontour\":[{\"colorbar\":{\"outlinewidth\":0,\"ticks\":\"\"},\"colorscale\":[[0.0,\"#0d0887\"],[0.1111111111111111,\"#46039f\"],[0.2222222222222222,\"#7201a8\"],[0.3333333333333333,\"#9c179e\"],[0.4444444444444444,\"#bd3786\"],[0.5555555555555556,\"#d8576b\"],[0.6666666666666666,\"#ed7953\"],[0.7777777777777778,\"#fb9f3a\"],[0.8888888888888888,\"#fdca26\"],[1.0,\"#f0f921\"]],\"type\":\"histogram2dcontour\"}],\"histogram2d\":[{\"colorbar\":{\"outlinewidth\":0,\"ticks\":\"\"},\"colorscale\":[[0.0,\"#0d0887\"],[0.1111111111111111,\"#46039f\"],[0.2222222222222222,\"#7201a8\"],[0.3333333333333333,\"#9c179e\"],[0.4444444444444444,\"#bd3786\"],[0.5555555555555556,\"#d8576b\"],[0.6666666666666666,\"#ed7953\"],[0.7777777777777778,\"#fb9f3a\"],[0.8888888888888888,\"#fdca26\"],[1.0,\"#f0f921\"]],\"type\":\"histogram2d\"}],\"histogram\":[{\"marker\":{\"pattern\":{\"fillmode\":\"overlay\",\"size\":10,\"solidity\":0.2}},\"type\":\"histogram\"}],\"mesh3d\":[{\"colorbar\":{\"outlinewidth\":0,\"ticks\":\"\"},\"type\":\"mesh3d\"}],\"parcoords\":[{\"line\":{\"colorbar\":{\"outlinewidth\":0,\"ticks\":\"\"}},\"type\":\"parcoords\"}],\"pie\":[{\"automargin\":true,\"type\":\"pie\"}],\"scatter3d\":[{\"line\":{\"colorbar\":{\"outlinewidth\":0,\"ticks\":\"\"}},\"marker\":{\"colorbar\":{\"outlinewidth\":0,\"ticks\":\"\"}},\"type\":\"scatter3d\"}],\"scattercarpet\":[{\"marker\":{\"colorbar\":{\"outlinewidth\":0,\"ticks\":\"\"}},\"type\":\"scattercarpet\"}],\"scattergeo\":[{\"marker\":{\"colorbar\":{\"outlinewidth\":0,\"ticks\":\"\"}},\"type\":\"scattergeo\"}],\"scattergl\":[{\"marker\":{\"colorbar\":{\"outlinewidth\":0,\"ticks\":\"\"}},\"type\":\"scattergl\"}],\"scattermapbox\":[{\"marker\":{\"colorbar\":{\"outlinewidth\":0,\"ticks\":\"\"}},\"type\":\"scattermapbox\"}],\"scatterpolargl\":[{\"marker\":{\"colorbar\":{\"outlinewidth\":0,\"ticks\":\"\"}},\"type\":\"scatterpolargl\"}],\"scatterpolar\":[{\"marker\":{\"colorbar\":{\"outlinewidth\":0,\"ticks\":\"\"}},\"type\":\"scatterpolar\"}],\"scatter\":[{\"fillpattern\":{\"fillmode\":\"overlay\",\"size\":10,\"solidity\":0.2},\"type\":\"scatter\"}],\"scatterternary\":[{\"marker\":{\"colorbar\":{\"outlinewidth\":0,\"ticks\":\"\"}},\"type\":\"scatterternary\"}],\"surface\":[{\"colorbar\":{\"outlinewidth\":0,\"ticks\":\"\"},\"colorscale\":[[0.0,\"#0d0887\"],[0.1111111111111111,\"#46039f\"],[0.2222222222222222,\"#7201a8\"],[0.3333333333333333,\"#9c179e\"],[0.4444444444444444,\"#bd3786\"],[0.5555555555555556,\"#d8576b\"],[0.6666666666666666,\"#ed7953\"],[0.7777777777777778,\"#fb9f3a\"],[0.8888888888888888,\"#fdca26\"],[1.0,\"#f0f921\"]],\"type\":\"surface\"}],\"table\":[{\"cells\":{\"fill\":{\"color\":\"#EBF0F8\"},\"line\":{\"color\":\"white\"}},\"header\":{\"fill\":{\"color\":\"#C8D4E3\"},\"line\":{\"color\":\"white\"}},\"type\":\"table\"}]},\"layout\":{\"annotationdefaults\":{\"arrowcolor\":\"#2a3f5f\",\"arrowhead\":0,\"arrowwidth\":1},\"autotypenumbers\":\"strict\",\"coloraxis\":{\"colorbar\":{\"outlinewidth\":0,\"ticks\":\"\"}},\"colorscale\":{\"diverging\":[[0,\"#8e0152\"],[0.1,\"#c51b7d\"],[0.2,\"#de77ae\"],[0.3,\"#f1b6da\"],[0.4,\"#fde0ef\"],[0.5,\"#f7f7f7\"],[0.6,\"#e6f5d0\"],[0.7,\"#b8e186\"],[0.8,\"#7fbc41\"],[0.9,\"#4d9221\"],[1,\"#276419\"]],\"sequential\":[[0.0,\"#0d0887\"],[0.1111111111111111,\"#46039f\"],[0.2222222222222222,\"#7201a8\"],[0.3333333333333333,\"#9c179e\"],[0.4444444444444444,\"#bd3786\"],[0.5555555555555556,\"#d8576b\"],[0.6666666666666666,\"#ed7953\"],[0.7777777777777778,\"#fb9f3a\"],[0.8888888888888888,\"#fdca26\"],[1.0,\"#f0f921\"]],\"sequentialminus\":[[0.0,\"#0d0887\"],[0.1111111111111111,\"#46039f\"],[0.2222222222222222,\"#7201a8\"],[0.3333333333333333,\"#9c179e\"],[0.4444444444444444,\"#bd3786\"],[0.5555555555555556,\"#d8576b\"],[0.6666666666666666,\"#ed7953\"],[0.7777777777777778,\"#fb9f3a\"],[0.8888888888888888,\"#fdca26\"],[1.0,\"#f0f921\"]]},\"colorway\":[\"#636efa\",\"#EF553B\",\"#00cc96\",\"#ab63fa\",\"#FFA15A\",\"#19d3f3\",\"#FF6692\",\"#B6E880\",\"#FF97FF\",\"#FECB52\"],\"font\":{\"color\":\"#2a3f5f\"},\"geo\":{\"bgcolor\":\"white\",\"lakecolor\":\"white\",\"landcolor\":\"#E5ECF6\",\"showlakes\":true,\"showland\":true,\"subunitcolor\":\"white\"},\"hoverlabel\":{\"align\":\"left\"},\"hovermode\":\"closest\",\"mapbox\":{\"style\":\"light\"},\"paper_bgcolor\":\"white\",\"plot_bgcolor\":\"#E5ECF6\",\"polar\":{\"angularaxis\":{\"gridcolor\":\"white\",\"linecolor\":\"white\",\"ticks\":\"\"},\"bgcolor\":\"#E5ECF6\",\"radialaxis\":{\"gridcolor\":\"white\",\"linecolor\":\"white\",\"ticks\":\"\"}},\"scene\":{\"xaxis\":{\"backgroundcolor\":\"#E5ECF6\",\"gridcolor\":\"white\",\"gridwidth\":2,\"linecolor\":\"white\",\"showbackground\":true,\"ticks\":\"\",\"zerolinecolor\":\"white\"},\"yaxis\":{\"backgroundcolor\":\"#E5ECF6\",\"gridcolor\":\"white\",\"gridwidth\":2,\"linecolor\":\"white\",\"showbackground\":true,\"ticks\":\"\",\"zerolinecolor\":\"white\"},\"zaxis\":{\"backgroundcolor\":\"#E5ECF6\",\"gridcolor\":\"white\",\"gridwidth\":2,\"linecolor\":\"white\",\"showbackground\":true,\"ticks\":\"\",\"zerolinecolor\":\"white\"}},\"shapedefaults\":{\"line\":{\"color\":\"#2a3f5f\"}},\"ternary\":{\"aaxis\":{\"gridcolor\":\"white\",\"linecolor\":\"white\",\"ticks\":\"\"},\"baxis\":{\"gridcolor\":\"white\",\"linecolor\":\"white\",\"ticks\":\"\"},\"bgcolor\":\"#E5ECF6\",\"caxis\":{\"gridcolor\":\"white\",\"linecolor\":\"white\",\"ticks\":\"\"}},\"title\":{\"x\":0.05},\"xaxis\":{\"automargin\":true,\"gridcolor\":\"white\",\"linecolor\":\"white\",\"ticks\":\"\",\"title\":{\"standoff\":15},\"zerolinecolor\":\"white\",\"zerolinewidth\":2},\"yaxis\":{\"automargin\":true,\"gridcolor\":\"white\",\"linecolor\":\"white\",\"ticks\":\"\",\"title\":{\"standoff\":15},\"zerolinecolor\":\"white\",\"zerolinewidth\":2}}},\"title\":{\"font\":{\"color\":\"#4D5663\"}}},                        {\"showLink\": true, \"linkText\": \"Export to plot.ly\", \"plotlyServerURL\": \"https://plot.ly\", \"responsive\": true}                    ).then(function(){\n",
       "                            \n",
       "var gd = document.getElementById('8bc2937f-5409-499c-b1f4-a48aefce95da');\n",
       "var x = new MutationObserver(function (mutations, observer) {{\n",
       "        var display = window.getComputedStyle(gd).display;\n",
       "        if (!display || display === 'none') {{\n",
       "            console.log([gd, 'removed!']);\n",
       "            Plotly.purge(gd);\n",
       "            observer.disconnect();\n",
       "        }}\n",
       "}});\n",
       "\n",
       "// Listen for the removal of the full notebook cells\n",
       "var notebookContainer = gd.closest('#notebook-container');\n",
       "if (notebookContainer) {{\n",
       "    x.observe(notebookContainer, {childList: true});\n",
       "}}\n",
       "\n",
       "// Listen for the clearing of the current output cell\n",
       "var outputEl = gd.closest('.output');\n",
       "if (outputEl) {{\n",
       "    x.observe(outputEl, {childList: true});\n",
       "}}\n",
       "\n",
       "                        })                };                });            </script>        </div>"
      ]
     },
     "metadata": {},
     "output_type": "display_data"
    }
   ],
   "source": [
    "df.iplot(x = 'a' ,y = 'b',z='c' ,kind='scatter3d')"
   ]
  },
  {
   "cell_type": "code",
   "execution_count": null,
   "id": "e246d315",
   "metadata": {},
   "outputs": [],
   "source": []
  }
 ],
 "metadata": {
  "kernelspec": {
   "display_name": "Python 3 (ipykernel)",
   "language": "python",
   "name": "python3"
  },
  "language_info": {
   "codemirror_mode": {
    "name": "ipython",
    "version": 3
   },
   "file_extension": ".py",
   "mimetype": "text/x-python",
   "name": "python",
   "nbconvert_exporter": "python",
   "pygments_lexer": "ipython3",
   "version": "3.9.10"
  }
 },
 "nbformat": 4,
 "nbformat_minor": 5
}
