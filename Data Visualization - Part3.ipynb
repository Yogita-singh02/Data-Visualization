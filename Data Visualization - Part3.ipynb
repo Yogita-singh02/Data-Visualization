{
 "cells": [
  {
   "cell_type": "code",
   "execution_count": 1,
   "id": "47ff96c1",
   "metadata": {},
   "outputs": [],
   "source": [
    "import pandas as pd \n",
    "import numpy as np \n",
    "import matplotlib.pyplot as plt\n",
    "import seaborn as sns \n",
    "from  plotly.offline import iplot\n",
    "import plotly as py \n",
    "import plotly.tools as tls \n",
    "import cufflinks as cf"
   ]
  },
  {
   "cell_type": "code",
   "execution_count": 2,
   "id": "7066b9bc",
   "metadata": {},
   "outputs": [
    {
     "data": {
      "text/html": [
       "        <script type=\"text/javascript\">\n",
       "        window.PlotlyConfig = {MathJaxConfig: 'local'};\n",
       "        if (window.MathJax && window.MathJax.Hub && window.MathJax.Hub.Config) {window.MathJax.Hub.Config({SVG: {font: \"STIX-Web\"}});}\n",
       "        if (typeof require !== 'undefined') {\n",
       "        require.undef(\"plotly\");\n",
       "        requirejs.config({\n",
       "            paths: {\n",
       "                'plotly': ['https://cdn.plot.ly/plotly-2.12.1.min']\n",
       "            }\n",
       "        });\n",
       "        require(['plotly'], function(Plotly) {\n",
       "            window._Plotly = Plotly;\n",
       "        });\n",
       "        }\n",
       "        </script>\n",
       "        "
      ]
     },
     "metadata": {},
     "output_type": "display_data"
    },
    {
     "data": {
      "text/html": [
       "        <script type=\"text/javascript\">\n",
       "        window.PlotlyConfig = {MathJaxConfig: 'local'};\n",
       "        if (window.MathJax && window.MathJax.Hub && window.MathJax.Hub.Config) {window.MathJax.Hub.Config({SVG: {font: \"STIX-Web\"}});}\n",
       "        if (typeof require !== 'undefined') {\n",
       "        require.undef(\"plotly\");\n",
       "        requirejs.config({\n",
       "            paths: {\n",
       "                'plotly': ['https://cdn.plot.ly/plotly-2.12.1.min']\n",
       "            }\n",
       "        });\n",
       "        require(['plotly'], function(Plotly) {\n",
       "            window._Plotly = Plotly;\n",
       "        });\n",
       "        }\n",
       "        </script>\n",
       "        "
      ]
     },
     "metadata": {},
     "output_type": "display_data"
    }
   ],
   "source": [
    "py.offline.init_notebook_mode(connected=True)\n",
    "cf.go_offline()"
   ]
  },
  {
   "cell_type": "code",
   "execution_count": 3,
   "id": "36aa68c8",
   "metadata": {},
   "outputs": [],
   "source": [
    "df1 = sns.load_dataset(\"iris\")"
   ]
  },
  {
   "cell_type": "code",
   "execution_count": 4,
   "id": "46afd0df",
   "metadata": {},
   "outputs": [
    {
     "data": {
      "text/html": [
       "<div>\n",
       "<style scoped>\n",
       "    .dataframe tbody tr th:only-of-type {\n",
       "        vertical-align: middle;\n",
       "    }\n",
       "\n",
       "    .dataframe tbody tr th {\n",
       "        vertical-align: top;\n",
       "    }\n",
       "\n",
       "    .dataframe thead th {\n",
       "        text-align: right;\n",
       "    }\n",
       "</style>\n",
       "<table border=\"1\" class=\"dataframe\">\n",
       "  <thead>\n",
       "    <tr style=\"text-align: right;\">\n",
       "      <th></th>\n",
       "      <th>sepal_length</th>\n",
       "      <th>sepal_width</th>\n",
       "      <th>petal_length</th>\n",
       "      <th>petal_width</th>\n",
       "      <th>species</th>\n",
       "    </tr>\n",
       "  </thead>\n",
       "  <tbody>\n",
       "    <tr>\n",
       "      <th>0</th>\n",
       "      <td>5.1</td>\n",
       "      <td>3.5</td>\n",
       "      <td>1.4</td>\n",
       "      <td>0.2</td>\n",
       "      <td>setosa</td>\n",
       "    </tr>\n",
       "    <tr>\n",
       "      <th>1</th>\n",
       "      <td>4.9</td>\n",
       "      <td>3.0</td>\n",
       "      <td>1.4</td>\n",
       "      <td>0.2</td>\n",
       "      <td>setosa</td>\n",
       "    </tr>\n",
       "    <tr>\n",
       "      <th>2</th>\n",
       "      <td>4.7</td>\n",
       "      <td>3.2</td>\n",
       "      <td>1.3</td>\n",
       "      <td>0.2</td>\n",
       "      <td>setosa</td>\n",
       "    </tr>\n",
       "    <tr>\n",
       "      <th>3</th>\n",
       "      <td>4.6</td>\n",
       "      <td>3.1</td>\n",
       "      <td>1.5</td>\n",
       "      <td>0.2</td>\n",
       "      <td>setosa</td>\n",
       "    </tr>\n",
       "    <tr>\n",
       "      <th>4</th>\n",
       "      <td>5.0</td>\n",
       "      <td>3.6</td>\n",
       "      <td>1.4</td>\n",
       "      <td>0.2</td>\n",
       "      <td>setosa</td>\n",
       "    </tr>\n",
       "  </tbody>\n",
       "</table>\n",
       "</div>"
      ],
      "text/plain": [
       "   sepal_length  sepal_width  petal_length  petal_width species\n",
       "0           5.1          3.5           1.4          0.2  setosa\n",
       "1           4.9          3.0           1.4          0.2  setosa\n",
       "2           4.7          3.2           1.3          0.2  setosa\n",
       "3           4.6          3.1           1.5          0.2  setosa\n",
       "4           5.0          3.6           1.4          0.2  setosa"
      ]
     },
     "execution_count": 4,
     "metadata": {},
     "output_type": "execute_result"
    }
   ],
   "source": [
    "df1.head()"
   ]
  },
  {
   "cell_type": "code",
   "execution_count": 6,
   "id": "d4fc38f2",
   "metadata": {},
   "outputs": [
    {
     "data": {
      "text/plain": [
       "<AxesSubplot:>"
      ]
     },
     "execution_count": 6,
     "metadata": {},
     "output_type": "execute_result"
    },
    {
     "data": {
      "image/png": "[encoded data removed]",
      "text/plain": [
       "<Figure size 432x288 with 1 Axes>"
      ]
     },
     "metadata": {
      "needs_background": "light"
     },
     "output_type": "display_data"
    }
   ],
   "source": [
    "df1.plot()"
   ]
  },
  {
   "cell_type": "code",
   "execution_count": 7,
   "id": "28d99fd7",
   "metadata": {},
   "outputs": [
    {
     "data": {
      "application/vnd.plotly.v1+json": {
       "config": {
        "linkText": "Export to plot.ly",
        "plotlyServerURL": "https://plot.ly",
        "showLink": true
       },
       "data": [
        {
         "line": {
          "color": "rgba(255, 153, 51, 1.0)",
          "dash": "solid",
          "shape": "linear",
          "width": 1.3
         },
         "mode": "lines",
         "name": "sepal_length",
         "text": "",
         "type": "scatter",
         "x": [
          0,
          1,
          2,
          3,
          4,
          5,
          6,
          7,
          8,
          9,
          10,
          11,
          12,
          13,
          14,
          15,
          16,
          17,
          18,
          19,
          20,
          21,
          22,
          23,
          24,
          25,
          26,
          27,
          28,
          29,
          30,
          31,
          32,
          33,
          34,
          35,
          36,
          37,
          38,
          39,
          40,
          41,
          42,
          43,
          44,
          45,
          46,
          47,
          48,
          49,
          50,
          51,
          52,
          53,
          54,
          55,
          56,
          57,
          58,
          59,
          60,
          61,
          62,
          63,
          64,
          65,
          66,
          67,
          68,
          69,
          70,
          71,
          72,
          73,
          74,
          75,
          76,
          77,
          78,
          79,
          80,
          81,
          82,
          83,
          84,
          85,
          86,
          87,
          88,
          89,
          90,
          91,
          92,
          93,
          94,
          95,
          96,
          97,
          98,
          99,
          100,
          101,
          102,
          103,
          104,
          105,
          106,
          107,
          108,
          109,
          110,
          111,
          112,
          113,
          114,
          115,
          116,
          117,
          118,
          119,
          120,
          121,
          122,
          123,
          124,
          125,
          126,
          127,
          128,
          129,
          130,
          131,
          132,
          133,
          134,
          135,
          136,
          137,
          138,
          139,
          140,
          141,
          142,
          143,
          144,
          145,
          146,
          147,
          148,
          149
         ],
         "y": [
          5.1,
          4.9,
          4.7,
          4.6,
          5,
          5.4,
          4.6,
          5,
          4.4,
          4.9,
          5.4,
          4.8,
          4.8,
          4.3,
          5.8,
          5.7,
          5.4,
          5.1,
          5.7,
          5.1,
          5.4,
          5.1,
          4.6,
          5.1,
          4.8,
          5,
          5,
          5.2,
          5.2,
          4.7,
          4.8,
          5.4,
          5.2,
          5.5,
          4.9,
          5,
          5.5,
          4.9,
          4.4,
          5.1,
          5,
          4.5,
          4.4,
          5,
          5.1,
          4.8,
          5.1,
          4.6,
          5.3,
          5,
          7,
          6.4,
          6.9,
          5.5,
          6.5,
          5.7,
          6.3,
          4.9,
          6.6,
          5.2,
          5,
          5.9,
          6,
          6.1,
          5.6,
          6.7,
          5.6,
          5.8,
          6.2,
          5.6,
          5.9,
          6.1,
          6.3,
          6.1,
          6.4,
          6.6,
          6.8,
          6.7,
          6,
          5.7,
          5.5,
          5.5,
          5.8,
          6,
          5.4,
          6,
          6.7,
          6.3,
          5.6,
          5.5,
          5.5,
          6.1,
          5.8,
          5,
          5.6,
          5.7,
          5.7,
          6.2,
          5.1,
          5.7,
          6.3,
          5.8,
          7.1,
          6.3,
          6.5,
          7.6,
          4.9,
          7.3,
          6.7,
          7.2,
          6.5,
          6.4,
          6.8,
          5.7,
          5.8,
          6.4,
          6.5,
          7.7,
          7.7,
          6,
          6.9,
          5.6,
          7.7,
          6.3,
          6.7,
          7.2,
          6.2,
          6.1,
          6.4,
          7.2,
          7.4,
          7.9,
          6.4,
          6.3,
          6.1,
          7.7,
          6.3,
          6.4,
          6,
          6.9,
          6.7,
          6.9,
          5.8,
          6.8,
          6.7,
          6.7,
          6.3,
          6.5,
          6.2,
          5.9
         ]
        },
        {
         "line": {
          "color": "rgba(55, 128, 191, 1.0)",
          "dash": "solid",
          "shape": "linear",
          "width": 1.3
         },
         "mode": "lines",
         "name": "sepal_width",
         "text": "",
         "type": "scatter",
         "x": [
          0,
          1,
          2,
          3,
          4,
          5,
          6,
          7,
          8,
          9,
          10,
          11,
          12,
          13,
          14,
          15,
          16,
          17,
          18,
          19,
          20,
          21,
          22,
          23,
          24,
          25,
          26,
          27,
          28,
          29,
          30,
          31,
          32,
          33,
          34,
          35,
          36,
          37,
          38,
          39,
          40,
          41,
          42,
          43,
          44,
          45,
          46,
          47,
          48,
          49,
          50,
          51,
          52,
          53,
          54,
          55,
          56,
          57,
          58,
          59,
          60,
          61,
          62,
          63,
          64,
          65,
          66,
          67,
          68,
          69,
          70,
          71,
          72,
          73,
          74,
          75,
          76,
          77,
          78,
          79,
          80,
          81,
          82,
          83,
          84,
          85,
          86,
          87,
          88,
          89,
          90,
          91,
          92,
          93,
          94,
          95,
          96,
          97,
          98,
          99,
          100,
          101,
          102,
          103,
          104,
          105,
          106,
          107,
          108,
          109,
          110,
          111,
          112,
          113,
          114,
          115,
          116,
          117,
          118,
          119,
          120,
          121,
          122,
          123,
          124,
          125,
          126,
          127,
          128,
          129,
          130,
          131,
          132,
          133,
          134,
          135,
          136,
          137,
          138,
          139,
          140,
          141,
          142,
          143,
          144,
          145,
          146,
          147,
          148,
          149
         ],
         "y": [
          3.5,
          3,
          3.2,
          3.1,
          3.6,
          3.9,
          3.4,
          3.4,
          2.9,
          3.1,
          3.7,
          3.4,
          3,
          3,
          4,
          4.4,
          3.9,
          3.5,
          3.8,
          3.8,
          3.4,
          3.7,
          3.6,
          3.3,
          3.4,
          3,
          3.4,
          3.5,
          3.4,
          3.2,
          3.1,
          3.4,
          4.1,
          4.2,
          3.1,
          3.2,
          3.5,
          3.6,
          3,
          3.4,
          3.5,
          2.3,
          3.2,
          3.5,
          3.8,
          3,
          3.8,
          3.2,
          3.7,
          3.3,
          3.2,
          3.2,
          3.1,
          2.3,
          2.8,
          2.8,
          3.3,
          2.4,
          2.9,
          2.7,
          2,
          3,
          2.2,
          2.9,
          2.9,
          3.1,
          3,
          2.7,
          2.2,
          2.5,
          3.2,
          2.8,
          2.5,
          2.8,
          2.9,
          3,
          2.8,
          3,
          2.9,
          2.6,
          2.4,
          2.4,
          2.7,
          2.7,
          3,
          3.4,
          3.1,
          2.3,
          3,
          2.5,
          2.6,
          3,
          2.6,
          2.3,
          2.7,
          3,
          2.9,
          2.9,
          2.5,
          2.8,
          3.3,
          2.7,
          3,
          2.9,
          3,
          3,
          2.5,
          2.9,
          2.5,
          3.6,
          3.2,
          2.7,
          3,
          2.5,
          2.8,
          3.2,
          3,
          3.8,
          2.6,
          2.2,
          3.2,
          2.8,
          2.8,
          2.7,
          3.3,
          3.2,
          2.8,
          3,
          2.8,
          3,
          2.8,
          3.8,
          2.8,
          2.8,
          2.6,
          3,
          3.4,
          3.1,
          3,
          3.1,
          3.1,
          3.1,
          2.7,
          3.2,
          3.3,
          3,
          2.5,
          3,
          3.4,
          3
         ]
        },
        {
         "line": {
          "color": "rgba(50, 171, 96, 1.0)",
          "dash": "solid",
          "shape": "linear",
          "width": 1.3
         },
         "mode": "lines",
         "name": "petal_length",
         "text": "",
         "type": "scatter",
         "x": [
          0,
          1,
          2,
          3,
          4,
          5,
          6,
          7,
          8,
          9,
          10,
          11,
          12,
          13,
          14,
          15,
          16,
          17,
          18,
          19,
          20,
          21,
          22,
          23,
          24,
          25,
          26,
          27,
          28,
          29,
          30,
          31,
          32,
          33,
          34,
          35,
          36,
          37,
          38,
          39,
          40,
          41,
          42,
          43,
          44,
          45,
          46,
          47,
          48,
          49,
          50,
          51,
          52,
          53,
          54,
          55,
          56,
          57,
          58,
          59,
          60,
          61,
          62,
          63,
          64,
          65,
          66,
          67,
          68,
          69,
          70,
          71,
          72,
          73,
          74,
          75,
          76,
          77,
          78,
          79,
          80,
          81,
          82,
          83,
          84,
          85,
          86,
          87,
          88,
          89,
          90,
          91,
          92,
          93,
          94,
          95,
          96,
          97,
          98,
          99,
          100,
          101,
          102,
          103,
          104,
          105,
          106,
          107,
          108,
          109,
          110,
          111,
          112,
          113,
          114,
          115,
          116,
          117,
          118,
          119,
          120,
          121,
          122,
          123,
          124,
          125,
          126,
          127,
          128,
          129,
          130,
          131,
          132,
          133,
          134,
          135,
          136,
          137,
          138,
          139,
          140,
          141,
          142,
          143,
          144,
          145,
          146,
          147,
          148,
          149
         ],
         "y": [
          1.4,
          1.4,
          1.3,
          1.5,
          1.4,
          1.7,
          1.4,
          1.5,
          1.4,
          1.5,
          1.5,
          1.6,
          1.4,
          1.1,
          1.2,
          1.5,
          1.3,
          1.4,
          1.7,
          1.5,
          1.7,
          1.5,
          1,
          1.7,
          1.9,
          1.6,
          1.6,
          1.5,
          1.4,
          1.6,
          1.6,
          1.5,
          1.5,
          1.4,
          1.5,
          1.2,
          1.3,
          1.4,
          1.3,
          1.5,
          1.3,
          1.3,
          1.3,
          1.6,
          1.9,
          1.4,
          1.6,
          1.4,
          1.5,
          1.4,
          4.7,
          4.5,
          4.9,
          4,
          4.6,
          4.5,
          4.7,
          3.3,
          4.6,
          3.9,
          3.5,
          4.2,
          4,
          4.7,
          3.6,
          4.4,
          4.5,
          4.1,
          4.5,
          3.9,
          4.8,
          4,
          4.9,
          4.7,
          4.3,
          4.4,
          4.8,
          5,
          4.5,
          3.5,
          3.8,
          3.7,
          3.9,
          5.1,
          4.5,
          4.5,
          4.7,
          4.4,
          4.1,
          4,
          4.4,
          4.6,
          4,
          3.3,
          4.2,
          4.2,
          4.2,
          4.3,
          3,
          4.1,
          6,
          5.1,
          5.9,
          5.6,
          5.8,
          6.6,
          4.5,
          6.3,
          5.8,
          6.1,
          5.1,
          5.3,
          5.5,
          5,
          5.1,
          5.3,
          5.5,
          6.7,
          6.9,
          5,
          5.7,
          4.9,
          6.7,
          4.9,
          5.7,
          6,
          4.8,
          4.9,
          5.6,
          5.8,
          6.1,
          6.4,
          5.6,
          5.1,
          5.6,
          6.1,
          5.6,
          5.5,
          4.8,
          5.4,
          5.6,
          5.1,
          5.1,
          5.9,
          5.7,
          5.2,
          5,
          5.2,
          5.4,
          5.1
         ]
        },
        {
         "line": {
          "color": "rgba(128, 0, 128, 1.0)",
          "dash": "solid",
          "shape": "linear",
          "width": 1.3
         },
         "mode": "lines",
         "name": "petal_width",
         "text": "",
         "type": "scatter",
         "x": [
          0,
          1,
          2,
          3,
          4,
          5,
          6,
          7,
          8,
          9,
          10,
          11,
          12,
          13,
          14,
          15,
          16,
          17,
          18,
          19,
          20,
          21,
          22,
          23,
          24,
          25,
          26,
          27,
          28,
          29,
          30,
          31,
          32,
          33,
          34,
          35,
          36,
          37,
          38,
          39,
          40,
          41,
          42,
          43,
          44,
          45,
          46,
          47,
          48,
          49,
          50,
          51,
          52,
          53,
          54,
          55,
          56,
          57,
          58,
          59,
          60,
          61,
          62,
          63,
          64,
          65,
          66,
          67,
          68,
          69,
          70,
          71,
          72,
          73,
          74,
          75,
          76,
          77,
          78,
          79,
          80,
          81,
          82,
          83,
          84,
          85,
          86,
          87,
          88,
          89,
          90,
          91,
          92,
          93,
          94,
          95,
          96,
          97,
          98,
          99,
          100,
          101,
          102,
          103,
          104,
          105,
          106,
          107,
          108,
          109,
          110,
          111,
          112,
          113,
          114,
          115,
          116,
          117,
          118,
          119,
          120,
          121,
          122,
          123,
          124,
          125,
          126,
          127,
          128,
          129,
          130,
          131,
          132,
          133,
          134,
          135,
          136,
          137,
          138,
          139,
          140,
          141,
          142,
          143,
          144,
          145,
          146,
          147,
          148,
          149
         ],
         "y": [
          0.2,
          0.2,
          0.2,
          0.2,
          0.2,
          0.4,
          0.3,
          0.2,
          0.2,
          0.1,
          0.2,
          0.2,
          0.1,
          0.1,
          0.2,
          0.4,
          0.4,
          0.3,
          0.3,
          0.3,
          0.2,
          0.4,
          0.2,
          0.5,
          0.2,
          0.2,
          0.4,
          0.2,
          0.2,
          0.2,
          0.2,
          0.4,
          0.1,
          0.2,
          0.2,
          0.2,
          0.2,
          0.1,
          0.2,
          0.2,
          0.3,
          0.3,
          0.2,
          0.6,
          0.4,
          0.3,
          0.2,
          0.2,
          0.2,
          0.2,
          1.4,
          1.5,
          1.5,
          1.3,
          1.5,
          1.3,
          1.6,
          1,
          1.3,
          1.4,
          1,
          1.5,
          1,
          1.4,
          1.3,
          1.4,
          1.5,
          1,
          1.5,
          1.1,
          1.8,
          1.3,
          1.5,
          1.2,
          1.3,
          1.4,
          1.4,
          1.7,
          1.5,
          1,
          1.1,
          1,
          1.2,
          1.6,
          1.5,
          1.6,
          1.5,
          1.3,
          1.3,
          1.3,
          1.2,
          1.4,
          1.2,
          1,
          1.3,
          1.2,
          1.3,
          1.3,
          1.1,
          1.3,
          2.5,
          1.9,
          2.1,
          1.8,
          2.2,
          2.1,
          1.7,
          1.8,
          1.8,
          2.5,
          2,
          1.9,
          2.1,
          2,
          2.4,
          2.3,
          1.8,
          2.2,
          2.3,
          1.5,
          2.3,
          2,
          2,
          1.8,
          2.1,
          1.8,
          1.8,
          1.8,
          2.1,
          1.6,
          1.9,
          2,
          2.2,
          1.5,
          1.4,
          2.3,
          2.4,
          1.8,
          1.8,
          2.1,
          2.4,
          2.3,
          1.9,
          2.3,
          2.5,
          2.3,
          1.9,
          2,
          2.3,
          1.8
         ]
        },
        {
         "line": {
          "color": "rgba(219, 64, 82, 1.0)",
          "dash": "solid",
          "shape": "linear",
          "width": 1.3
         },
         "mode": "lines",
         "name": "species",
         "text": "",
         "type": "scatter",
         "x": [
          0,
          1,
          2,
          3,
          4,
          5,
          6,
          7,
          8,
          9,
          10,
          11,
          12,
          13,
          14,
          15,
          16,
          17,
          18,
          19,
          20,
          21,
          22,
          23,
          24,
          25,
          26,
          27,
          28,
          29,
          30,
          31,
          32,
          33,
          34,
          35,
          36,
          37,
          38,
          39,
          40,
          41,
          42,
          43,
          44,
          45,
          46,
          47,
          48,
          49,
          50,
          51,
          52,
          53,
          54,
          55,
          56,
          57,
          58,
          59,
          60,
          61,
          62,
          63,
          64,
          65,
          66,
          67,
          68,
          69,
          70,
          71,
          72,
          73,
          74,
          75,
          76,
          77,
          78,
          79,
          80,
          81,
          82,
          83,
          84,
          85,
          86,
          87,
          88,
          89,
          90,
          91,
          92,
          93,
          94,
          95,
          96,
          97,
          98,
          99,
          100,
          101,
          102,
          103,
          104,
          105,
          106,
          107,
          108,
          109,
          110,
          111,
          112,
          113,
          114,
          115,
          116,
          117,
          118,
          119,
          120,
          121,
          122,
          123,
          124,
          125,
          126,
          127,
          128,
          129,
          130,
          131,
          132,
          133,
          134,
          135,
          136,
          137,
          138,
          139,
          140,
          141,
          142,
          143,
          144,
          145,
          146,
          147,
          148,
          149
         ],
         "y": [
          "setosa",
          "setosa",
          "setosa",
          "setosa",
          "setosa",
          "setosa",
          "setosa",
          "setosa",
          "setosa",
          "setosa",
          "setosa",
          "setosa",
          "setosa",
          "setosa",
          "setosa",
          "setosa",
          "setosa",
          "setosa",
          "setosa",
          "setosa",
          "setosa",
          "setosa",
          "setosa",
          "setosa",
          "setosa",
          "setosa",
          "setosa",
          "setosa",
          "setosa",
          "setosa",
          "setosa",
          "setosa",
          "setosa",
          "setosa",
          "setosa",
          "setosa",
          "setosa",
          "setosa",
          "setosa",
          "setosa",
          "setosa",
          "setosa",
          "setosa",
          "setosa",
          "setosa",
          "setosa",
          "setosa",
          "setosa",
          "setosa",
          "setosa",
          "versicolor",
          "versicolor",
          "versicolor",
          "versicolor",
          "versicolor",
          "versicolor",
          "versicolor",
          "versicolor",
          "versicolor",
          "versicolor",
          "versicolor",
          "versicolor",
          "versicolor",
          "versicolor",
          "versicolor",
          "versicolor",
          "versicolor",
          "versicolor",
          "versicolor",
          "versicolor",
          "versicolor",
          "versicolor",
          "versicolor",
          "versicolor",
          "versicolor",
          "versicolor",
          "versicolor",
          "versicolor",
          "versicolor",
          "versicolor",
          "versicolor",
          "versicolor",
          "versicolor",
          "versicolor",
          "versicolor",
          "versicolor",
          "versicolor",
          "versicolor",
          "versicolor",
          "versicolor",
          "versicolor",
          "versicolor",
          "versicolor",
          "versicolor",
          "versicolor",
          "versicolor",
          "versicolor",
          "versicolor",
          "versicolor",
          "versicolor",
          "virginica",
          "virginica",
          "virginica",
          "virginica",
          "virginica",
          "virginica",
          "virginica",
          "virginica",
          "virginica",
          "virginica",
          "virginica",
          "virginica",
          "virginica",
          "virginica",
          "virginica",
          "virginica",
          "virginica",
          "virginica",
          "virginica",
          "virginica",
          "virginica",
          "virginica",
          "virginica",
          "virginica",
          "virginica",
          "virginica",
          "virginica",
          "virginica",
          "virginica",
          "virginica",
          "virginica",
          "virginica",
          "virginica",
          "virginica",
          "virginica",
          "virginica",
          "virginica",
          "virginica",
          "virginica",
          "virginica",
          "virginica",
          "virginica",
          "virginica",
          "virginica",
          "virginica",
          "virginica",
          "virginica",
          "virginica",
          "virginica",
          "virginica"
         ]
        }
       ],
       "layout": {
        "legend": {
         "bgcolor": "#F5F6F9",
         "font": {
          "color": "#4D5663"
         }
        },
        "paper_bgcolor": "#F5F6F9",
        "plot_bgcolor": "#F5F6F9",
        "template": {
         "data": {
          "bar": [
           {
            "error_x": {
             "color": "#2a3f5f"
            },
            "error_y": {
             "color": "#2a3f5f"
            },
            "marker": {
             "line": {
              "color": "#E5ECF6",
              "width": 0.5
             },
             "pattern": {
              "fillmode": "overlay",
              "size": 10,
              "solidity": 0.2
             }
            },
            "type": "bar"
           }
          ],
          "barpolar": [
           {
            "marker": {
             "line": {
              "color": "#E5ECF6",
              "width": 0.5
             },
             "pattern": {
              "fillmode": "overlay",
              "size": 10,
              "solidity": 0.2
             }
            },
            "type": "barpolar"
           }
          ],
          "carpet": [
           {
            "aaxis": {
             "endlinecolor": "#2a3f5f",
             "gridcolor": "white",
             "linecolor": "white",
             "minorgridcolor": "white",
             "startlinecolor": "#2a3f5f"
            },
            "baxis": {
             "endlinecolor": "#2a3f5f",
             "gridcolor": "white",
             "linecolor": "white",
             "minorgridcolor": "white",
             "startlinecolor": "#2a3f5f"
            },
            "type": "carpet"
           }
          ],
          "choropleth": [
           {
            "colorbar": {
             "outlinewidth": 0,
             "ticks": ""
            },
            "type": "choropleth"
           }
          ],
          "contour": [
           {
            "colorbar": {
             "outlinewidth": 0,
             "ticks": ""
            },
            "colorscale": [
             [
              0,
              "#0d0887"
             ],
             [
              0.1111111111111111,
              "#46039f"
             ],
             [
              0.2222222222222222,
              "#7201a8"
             ],
             [
              0.3333333333333333,
              "#9c179e"
             ],
             [
              0.4444444444444444,
              "#bd3786"
             ],
             [
              0.5555555555555556,
              "#d8576b"
             ],
             [
              0.6666666666666666,
              "#ed7953"
             ],
             [
              0.7777777777777778,
              "#fb9f3a"
             ],
             [
              0.8888888888888888,
              "#fdca26"
             ],
             [
              1,
              "#f0f921"
             ]
            ],
            "type": "contour"
           }
          ],
          "contourcarpet": [
           {
            "colorbar": {
             "outlinewidth": 0,
             "ticks": ""
            },
            "type": "contourcarpet"
           }
          ],
          "heatmap": [
           {
            "colorbar": {
             "outlinewidth": 0,
             "ticks": ""
            },
            "colorscale": [
             [
              0,
              "#0d0887"
             ],
             [
              0.1111111111111111,
              "#46039f"
             ],
             [
              0.2222222222222222,
              "#7201a8"
             ],
             [
              0.3333333333333333,
              "#9c179e"
             ],
             [
              0.4444444444444444,
              "#bd3786"
             ],
             [
              0.5555555555555556,
              "#d8576b"
             ],
             [
              0.6666666666666666,
              "#ed7953"
             ],
             [
              0.7777777777777778,
              "#fb9f3a"
             ],
             [
              0.8888888888888888,
              "#fdca26"
             ],
             [
              1,
              "#f0f921"
             ]
            ],
            "type": "heatmap"
           }
          ],
          "heatmapgl": [
           {
            "colorbar": {
             "outlinewidth": 0,
             "ticks": ""
            },
            "colorscale": [
             [
              0,
              "#0d0887"
             ],
             [
              0.1111111111111111,
              "#46039f"
             ],
             [
              0.2222222222222222,
              "#7201a8"
             ],
             [
              0.3333333333333333,
              "#9c179e"
             ],
             [
              0.4444444444444444,
              "#bd3786"
             ],
             [
              0.5555555555555556,
              "#d8576b"
             ],
             [
              0.6666666666666666,
              "#ed7953"
             ],
             [
              0.7777777777777778,
              "#fb9f3a"
             ],
             [
              0.8888888888888888,
              "#fdca26"
             ],
             [
              1,
              "#f0f921"
             ]
            ],
            "type": "heatmapgl"
           }
          ],
          "histogram": [
           {
            "marker": {
             "pattern": {
              "fillmode": "overlay",
              "size": 10,
              "solidity": 0.2
             }
            },
            "type": "histogram"
           }
          ],
          "histogram2d": [
           {
            "colorbar": {
             "outlinewidth": 0,
             "ticks": ""
            },
            "colorscale": [
             [
              0,
              "#0d0887"
             ],
             [
              0.1111111111111111,
              "#46039f"
             ],
             [
              0.2222222222222222,
              "#7201a8"
             ],
             [
              0.3333333333333333,
              "#9c179e"
             ],
             [
              0.4444444444444444,
              "#bd3786"
             ],
             [
              0.5555555555555556,
              "#d8576b"
             ],
             [
              0.6666666666666666,
              "#ed7953"
             ],
             [
              0.7777777777777778,
              "#fb9f3a"
             ],
             [
              0.8888888888888888,
              "#fdca26"
             ],
             [
              1,
              "#f0f921"
             ]
            ],
            "type": "histogram2d"
           }
          ],
          "histogram2dcontour": [
           {
            "colorbar": {
             "outlinewidth": 0,
             "ticks": ""
            },
            "colorscale": [
             [
              0,
              "#0d0887"
             ],
             [
              0.1111111111111111,
              "#46039f"
             ],
             [
              0.2222222222222222,
              "#7201a8"
             ],
             [
              0.3333333333333333,
              "#9c179e"
             ],
             [
              0.4444444444444444,
              "#bd3786"
             ],
             [
              0.5555555555555556,
              "#d8576b"
             ],
             [
              0.6666666666666666,
              "#ed7953"
             ],
             [
              0.7777777777777778,
              "#fb9f3a"
             ],
             [
              0.8888888888888888,
              "#fdca26"
             ],
             [
              1,
              "#f0f921"
             ]
            ],
            "type": "histogram2dcontour"
           }
          ],
          "mesh3d": [
           {
            "colorbar": {
             "outlinewidth": 0,
             "ticks": ""
            },
            "type": "mesh3d"
           }
          ],
          "parcoords": [
           {
            "line": {
             "colorbar": {
              "outlinewidth": 0,
              "ticks": ""
             }
            },
            "type": "parcoords"
           }
          ],
          "pie": [
           {
            "automargin": true,
            "type": "pie"
           }
          ],
          "scatter": [
           {
            "fillpattern": {
             "fillmode": "overlay",
             "size": 10,
             "solidity": 0.2
            },
            "type": "scatter"
           }
          ],
          "scatter3d": [
           {
            "line": {
             "colorbar": {
              "outlinewidth": 0,
              "ticks": ""
             }
            },
            "marker": {
             "colorbar": {
              "outlinewidth": 0,
              "ticks": ""
             }
            },
            "type": "scatter3d"
           }
          ],
          "scattercarpet": [
           {
            "marker": {
             "colorbar": {
              "outlinewidth": 0,
              "ticks": ""
             }
            },
            "type": "scattercarpet"
           }
          ],
          "scattergeo": [
           {
            "marker": {
             "colorbar": {
              "outlinewidth": 0,
              "ticks": ""
             }
            },
            "type": "scattergeo"
           }
          ],
          "scattergl": [
           {
            "marker": {
             "colorbar": {
              "outlinewidth": 0,
              "ticks": ""
             }
            },
            "type": "scattergl"
           }
          ],
          "scattermapbox": [
           {
            "marker": {
             "colorbar": {
              "outlinewidth": 0,
              "ticks": ""
             }
            },
            "type": "scattermapbox"
           }
          ],
          "scatterpolar": [
           {
            "marker": {
             "colorbar": {
              "outlinewidth": 0,
              "ticks": ""
             }
            },
            "type": "scatterpolar"
           }
          ],
          "scatterpolargl": [
           {
            "marker": {
             "colorbar": {
              "outlinewidth": 0,
              "ticks": ""
             }
            },
            "type": "scatterpolargl"
           }
          ],
          "scatterternary": [
           {
            "marker": {
             "colorbar": {
              "outlinewidth": 0,
              "ticks": ""
             }
            },
            "type": "scatterternary"
           }
          ],
          "surface": [
           {
            "colorbar": {
             "outlinewidth": 0,
             "ticks": ""
            },
            "colorscale": [
             [
              0,
              "#0d0887"
             ],
             [
              0.1111111111111111,
              "#46039f"
             ],
             [
              0.2222222222222222,
              "#7201a8"
             ],
             [
              0.3333333333333333,
              "#9c179e"
             ],
             [
              0.4444444444444444,
              "#bd3786"
             ],
             [
              0.5555555555555556,
              "#d8576b"
             ],
             [
              0.6666666666666666,
              "#ed7953"
             ],
             [
              0.7777777777777778,
              "#fb9f3a"
             ],
             [
              0.8888888888888888,
              "#fdca26"
             ],
             [
              1,
              "#f0f921"
             ]
            ],
            "type": "surface"
           }
          ],
          "table": [
           {
            "cells": {
             "fill": {
              "color": "#EBF0F8"
             },
             "line": {
              "color": "white"
             }
            },
            "header": {
             "fill": {
              "color": "#C8D4E3"
             },
             "line": {
              "color": "white"
             }
            },
            "type": "table"
           }
          ]
         },
         "layout": {
          "annotationdefaults": {
           "arrowcolor": "#2a3f5f",
           "arrowhead": 0,
           "arrowwidth": 1
          },
          "autotypenumbers": "strict",
          "coloraxis": {
           "colorbar": {
            "outlinewidth": 0,
            "ticks": ""
           }
          },
          "colorscale": {
           "diverging": [
            [
             0,
             "#8e0152"
            ],
            [
             0.1,
             "#c51b7d"
            ],
            [
             0.2,
             "#de77ae"
            ],
            [
             0.3,
             "#f1b6da"
            ],
            [
             0.4,
             "#fde0ef"
            ],
            [
             0.5,
             "#f7f7f7"
            ],
            [
             0.6,
             "#e6f5d0"
            ],
            [
             0.7,
             "#b8e186"
            ],
            [
             0.8,
             "#7fbc41"
            ],
            [
             0.9,
             "#4d9221"
            ],
            [
             1,
             "#276419"
            ]
           ],
           "sequential": [
            [
             0,
             "#0d0887"
            ],
            [
             0.1111111111111111,
             "#46039f"
            ],
            [
             0.2222222222222222,
             "#7201a8"
            ],
            [
             0.3333333333333333,
             "#9c179e"
            ],
            [
             0.4444444444444444,
             "#bd3786"
            ],
            [
             0.5555555555555556,
             "#d8576b"
            ],
            [
             0.6666666666666666,
             "#ed7953"
            ],
            [
             0.7777777777777778,
             "#fb9f3a"
            ],
            [
             0.8888888888888888,
             "#fdca26"
            ],
            [
             1,
             "#f0f921"
            ]
           ],
           "sequentialminus": [
            [
             0,
             "#0d0887"
            ],
            [
             0.1111111111111111,
             "#46039f"
            ],
            [
             0.2222222222222222,
             "#7201a8"
            ],
            [
             0.3333333333333333,
             "#9c179e"
            ],
            [
             0.4444444444444444,
             "#bd3786"
            ],
            [
             0.5555555555555556,
             "#d8576b"
            ],
            [
             0.6666666666666666,
             "#ed7953"
            ],
            [
             0.7777777777777778,
             "#fb9f3a"
            ],
            [
             0.8888888888888888,
             "#fdca26"
            ],
            [
             1,
             "#f0f921"
            ]
           ]
          },
          "colorway": [
           "#636efa",
           "#EF553B",
           "#00cc96",
           "#ab63fa",
           "#FFA15A",
           "#19d3f3",
           "#FF6692",
           "#B6E880",
           "#FF97FF",
           "#FECB52"
          ],
          "font": {
           "color": "#2a3f5f"
          },
          "geo": {
           "bgcolor": "white",
           "lakecolor": "white",
           "landcolor": "#E5ECF6",
           "showlakes": true,
           "showland": true,
           "subunitcolor": "white"
          },
          "hoverlabel": {
           "align": "left"
          },
          "hovermode": "closest",
          "mapbox": {
           "style": "light"
          },
          "paper_bgcolor": "white",
          "plot_bgcolor": "#E5ECF6",
          "polar": {
           "angularaxis": {
            "gridcolor": "white",
            "linecolor": "white",
            "ticks": ""
           },
           "bgcolor": "#E5ECF6",
           "radialaxis": {
            "gridcolor": "white",
            "linecolor": "white",
            "ticks": ""
           }
          },
          "scene": {
           "xaxis": {
            "backgroundcolor": "#E5ECF6",
            "gridcolor": "white",
            "gridwidth": 2,
            "linecolor": "white",
            "showbackground": true,
            "ticks": "",
            "zerolinecolor": "white"
           },
           "yaxis": {
            "backgroundcolor": "#E5ECF6",
            "gridcolor": "white",
            "gridwidth": 2,
            "linecolor": "white",
            "showbackground": true,
            "ticks": "",
            "zerolinecolor": "white"
           },
           "zaxis": {
            "backgroundcolor": "#E5ECF6",
            "gridcolor": "white",
            "gridwidth": 2,
            "linecolor": "white",
            "showbackground": true,
            "ticks": "",
            "zerolinecolor": "white"
           }
          },
          "shapedefaults": {
           "line": {
            "color": "#2a3f5f"
           }
          },
          "ternary": {
           "aaxis": {
            "gridcolor": "white",
            "linecolor": "white",
            "ticks": ""
           },
           "baxis": {
            "gridcolor": "white",
            "linecolor": "white",
            "ticks": ""
           },
           "bgcolor": "#E5ECF6",
           "caxis": {
            "gridcolor": "white",
            "linecolor": "white",
            "ticks": ""
           }
          },
          "title": {
           "x": 0.05
          },
          "xaxis": {
           "automargin": true,
           "gridcolor": "white",
           "linecolor": "white",
           "ticks": "",
           "title": {
            "standoff": 15
           },
           "zerolinecolor": "white",
           "zerolinewidth": 2
          },
          "yaxis": {
           "automargin": true,
           "gridcolor": "white",
           "linecolor": "white",
           "ticks": "",
           "title": {
            "standoff": 15
           },
           "zerolinecolor": "white",
           "zerolinewidth": 2
          }
         }
        },
        "title": {
         "font": {
          "color": "#4D5663"
         }
        },
        "xaxis": {
         "gridcolor": "#E1E5ED",
         "showgrid": true,
         "tickfont": {
          "color": "#4D5663"
         },
         "title": {
          "font": {
           "color": "#4D5663"
          },
          "text": ""
         },
         "zerolinecolor": "#E1E5ED"
        },
        "yaxis": {
         "gridcolor": "#E1E5ED",
         "showgrid": true,
         "tickfont": {
          "color": "#4D5663"
         },
         "title": {
          "font": {
           "color": "#4D5663"
          },
          "text": ""
         },
         "zerolinecolor": "#E1E5ED"
        }
       }
      },
      "text/html": [
       "<div>                            <div id=\"e3daaedf-1534-4ed2-8358-b5c971787fa0\" class=\"plotly-graph-div\" style=\"height:525px; width:100%;\"></div>            <script type=\"text/javascript\">                require([\"plotly\"], function(Plotly) {                    window.PLOTLYENV=window.PLOTLYENV || {};\n",
       "                    window.PLOTLYENV.BASE_URL='https://plot.ly';                                    if (document.getElementById(\"e3daaedf-1534-4ed2-8358-b5c971787fa0\")) {                    Plotly.newPlot(                        \"e3daaedf-1534-4ed2-8358-b5c971787fa0\",                        [{\"line\":{\"color\":\"rgba(255, 153, 51, 1.0)\",\"dash\":\"solid\",\"shape\":\"linear\",\"width\":1.3},\"mode\":\"lines\",\"name\":\"sepal_length\",\"text\":\"\",\"x\":[0,1,2,3,4,5,6,7,8,9,10,11,12,13,14,15,16,17,18,19,20,21,22,23,24,25,26,27,28,29,30,31,32,33,34,35,36,37,38,39,40,41,42,43,44,45,46,47,48,49,50,51,52,53,54,55,56,57,58,59,60,61,62,63,64,65,66,67,68,69,70,71,72,73,74,75,76,77,78,79,80,81,82,83,84,85,86,87,88,89,90,91,92,93,94,95,96,97,98,99,100,101,102,103,104,105,106,107,108,109,110,111,112,113,114,115,116,117,118,119,120,121,122,123,124,125,126,127,128,129,130,131,132,133,134,135,136,137,138,139,140,141,142,143,144,145,146,147,148,149],\"y\":[5.1,4.9,4.7,4.6,5.0,5.4,4.6,5.0,4.4,4.9,5.4,4.8,4.8,4.3,5.8,5.7,5.4,5.1,5.7,5.1,5.4,5.1,4.6,5.1,4.8,5.0,5.0,5.2,5.2,4.7,4.8,5.4,5.2,5.5,4.9,5.0,5.5,4.9,4.4,5.1,5.0,4.5,4.4,5.0,5.1,4.8,5.1,4.6,5.3,5.0,7.0,6.4,6.9,5.5,6.5,5.7,6.3,4.9,6.6,5.2,5.0,5.9,6.0,6.1,5.6,6.7,5.6,5.8,6.2,5.6,5.9,6.1,6.3,6.1,6.4,6.6,6.8,6.7,6.0,5.7,5.5,5.5,5.8,6.0,5.4,6.0,6.7,6.3,5.6,5.5,5.5,6.1,5.8,5.0,5.6,5.7,5.7,6.2,5.1,5.7,6.3,5.8,7.1,6.3,6.5,7.6,4.9,7.3,6.7,7.2,6.5,6.4,6.8,5.7,5.8,6.4,6.5,7.7,7.7,6.0,6.9,5.6,7.7,6.3,6.7,7.2,6.2,6.1,6.4,7.2,7.4,7.9,6.4,6.3,6.1,7.7,6.3,6.4,6.0,6.9,6.7,6.9,5.8,6.8,6.7,6.7,6.3,6.5,6.2,5.9],\"type\":\"scatter\"},{\"line\":{\"color\":\"rgba(55, 128, 191, 1.0)\",\"dash\":\"solid\",\"shape\":\"linear\",\"width\":1.3},\"mode\":\"lines\",\"name\":\"sepal_width\",\"text\":\"\",\"x\":[0,1,2,3,4,5,6,7,8,9,10,11,12,13,14,15,16,17,18,19,20,21,22,23,24,25,26,27,28,29,30,31,32,33,34,35,36,37,38,39,40,41,42,43,44,45,46,47,48,49,50,51,52,53,54,55,56,57,58,59,60,61,62,63,64,65,66,67,68,69,70,71,72,73,74,75,76,77,78,79,80,81,82,83,84,85,86,87,88,89,90,91,92,93,94,95,96,97,98,99,100,101,102,103,104,105,106,107,108,109,110,111,112,113,114,115,116,117,118,119,120,121,122,123,124,125,126,127,128,129,130,131,132,133,134,135,136,137,138,139,140,141,142,143,144,145,146,147,148,149],\"y\":[3.5,3.0,3.2,3.1,3.6,3.9,3.4,3.4,2.9,3.1,3.7,3.4,3.0,3.0,4.0,4.4,3.9,3.5,3.8,3.8,3.4,3.7,3.6,3.3,3.4,3.0,3.4,3.5,3.4,3.2,3.1,3.4,4.1,4.2,3.1,3.2,3.5,3.6,3.0,3.4,3.5,2.3,3.2,3.5,3.8,3.0,3.8,3.2,3.7,3.3,3.2,3.2,3.1,2.3,2.8,2.8,3.3,2.4,2.9,2.7,2.0,3.0,2.2,2.9,2.9,3.1,3.0,2.7,2.2,2.5,3.2,2.8,2.5,2.8,2.9,3.0,2.8,3.0,2.9,2.6,2.4,2.4,2.7,2.7,3.0,3.4,3.1,2.3,3.0,2.5,2.6,3.0,2.6,2.3,2.7,3.0,2.9,2.9,2.5,2.8,3.3,2.7,3.0,2.9,3.0,3.0,2.5,2.9,2.5,3.6,3.2,2.7,3.0,2.5,2.8,3.2,3.0,3.8,2.6,2.2,3.2,2.8,2.8,2.7,3.3,3.2,2.8,3.0,2.8,3.0,2.8,3.8,2.8,2.8,2.6,3.0,3.4,3.1,3.0,3.1,3.1,3.1,2.7,3.2,3.3,3.0,2.5,3.0,3.4,3.0],\"type\":\"scatter\"},{\"line\":{\"color\":\"rgba(50, 171, 96, 1.0)\",\"dash\":\"solid\",\"shape\":\"linear\",\"width\":1.3},\"mode\":\"lines\",\"name\":\"petal_length\",\"text\":\"\",\"x\":[0,1,2,3,4,5,6,7,8,9,10,11,12,13,14,15,16,17,18,19,20,21,22,23,24,25,26,27,28,29,30,31,32,33,34,35,36,37,38,39,40,41,42,43,44,45,46,47,48,49,50,51,52,53,54,55,56,57,58,59,60,61,62,63,64,65,66,67,68,69,70,71,72,73,74,75,76,77,78,79,80,81,82,83,84,85,86,87,88,89,90,91,92,93,94,95,96,97,98,99,100,101,102,103,104,105,106,107,108,109,110,111,112,113,114,115,116,117,118,119,120,121,122,123,124,125,126,127,128,129,130,131,132,133,134,135,136,137,138,139,140,141,142,143,144,145,146,147,148,149],\"y\":[1.4,1.4,1.3,1.5,1.4,1.7,1.4,1.5,1.4,1.5,1.5,1.6,1.4,1.1,1.2,1.5,1.3,1.4,1.7,1.5,1.7,1.5,1.0,1.7,1.9,1.6,1.6,1.5,1.4,1.6,1.6,1.5,1.5,1.4,1.5,1.2,1.3,1.4,1.3,1.5,1.3,1.3,1.3,1.6,1.9,1.4,1.6,1.4,1.5,1.4,4.7,4.5,4.9,4.0,4.6,4.5,4.7,3.3,4.6,3.9,3.5,4.2,4.0,4.7,3.6,4.4,4.5,4.1,4.5,3.9,4.8,4.0,4.9,4.7,4.3,4.4,4.8,5.0,4.5,3.5,3.8,3.7,3.9,5.1,4.5,4.5,4.7,4.4,4.1,4.0,4.4,4.6,4.0,3.3,4.2,4.2,4.2,4.3,3.0,4.1,6.0,5.1,5.9,5.6,5.8,6.6,4.5,6.3,5.8,6.1,5.1,5.3,5.5,5.0,5.1,5.3,5.5,6.7,6.9,5.0,5.7,4.9,6.7,4.9,5.7,6.0,4.8,4.9,5.6,5.8,6.1,6.4,5.6,5.1,5.6,6.1,5.6,5.5,4.8,5.4,5.6,5.1,5.1,5.9,5.7,5.2,5.0,5.2,5.4,5.1],\"type\":\"scatter\"},{\"line\":{\"color\":\"rgba(128, 0, 128, 1.0)\",\"dash\":\"solid\",\"shape\":\"linear\",\"width\":1.3},\"mode\":\"lines\",\"name\":\"petal_width\",\"text\":\"\",\"x\":[0,1,2,3,4,5,6,7,8,9,10,11,12,13,14,15,16,17,18,19,20,21,22,23,24,25,26,27,28,29,30,31,32,33,34,35,36,37,38,39,40,41,42,43,44,45,46,47,48,49,50,51,52,53,54,55,56,57,58,59,60,61,62,63,64,65,66,67,68,69,70,71,72,73,74,75,76,77,78,79,80,81,82,83,84,85,86,87,88,89,90,91,92,93,94,95,96,97,98,99,100,101,102,103,104,105,106,107,108,109,110,111,112,113,114,115,116,117,118,119,120,121,122,123,124,125,126,127,128,129,130,131,132,133,134,135,136,137,138,139,140,141,142,143,144,145,146,147,148,149],\"y\":[0.2,0.2,0.2,0.2,0.2,0.4,0.3,0.2,0.2,0.1,0.2,0.2,0.1,0.1,0.2,0.4,0.4,0.3,0.3,0.3,0.2,0.4,0.2,0.5,0.2,0.2,0.4,0.2,0.2,0.2,0.2,0.4,0.1,0.2,0.2,0.2,0.2,0.1,0.2,0.2,0.3,0.3,0.2,0.6,0.4,0.3,0.2,0.2,0.2,0.2,1.4,1.5,1.5,1.3,1.5,1.3,1.6,1.0,1.3,1.4,1.0,1.5,1.0,1.4,1.3,1.4,1.5,1.0,1.5,1.1,1.8,1.3,1.5,1.2,1.3,1.4,1.4,1.7,1.5,1.0,1.1,1.0,1.2,1.6,1.5,1.6,1.5,1.3,1.3,1.3,1.2,1.4,1.2,1.0,1.3,1.2,1.3,1.3,1.1,1.3,2.5,1.9,2.1,1.8,2.2,2.1,1.7,1.8,1.8,2.5,2.0,1.9,2.1,2.0,2.4,2.3,1.8,2.2,2.3,1.5,2.3,2.0,2.0,1.8,2.1,1.8,1.8,1.8,2.1,1.6,1.9,2.0,2.2,1.5,1.4,2.3,2.4,1.8,1.8,2.1,2.4,2.3,1.9,2.3,2.5,2.3,1.9,2.0,2.3,1.8],\"type\":\"scatter\"},{\"line\":{\"color\":\"rgba(219, 64, 82, 1.0)\",\"dash\":\"solid\",\"shape\":\"linear\",\"width\":1.3},\"mode\":\"lines\",\"name\":\"species\",\"text\":\"\",\"x\":[0,1,2,3,4,5,6,7,8,9,10,11,12,13,14,15,16,17,18,19,20,21,22,23,24,25,26,27,28,29,30,31,32,33,34,35,36,37,38,39,40,41,42,43,44,45,46,47,48,49,50,51,52,53,54,55,56,57,58,59,60,61,62,63,64,65,66,67,68,69,70,71,72,73,74,75,76,77,78,79,80,81,82,83,84,85,86,87,88,89,90,91,92,93,94,95,96,97,98,99,100,101,102,103,104,105,106,107,108,109,110,111,112,113,114,115,116,117,118,119,120,121,122,123,124,125,126,127,128,129,130,131,132,133,134,135,136,137,138,139,140,141,142,143,144,145,146,147,148,149],\"y\":[\"setosa\",\"setosa\",\"setosa\",\"setosa\",\"setosa\",\"setosa\",\"setosa\",\"setosa\",\"setosa\",\"setosa\",\"setosa\",\"setosa\",\"setosa\",\"setosa\",\"setosa\",\"setosa\",\"setosa\",\"setosa\",\"setosa\",\"setosa\",\"setosa\",\"setosa\",\"setosa\",\"setosa\",\"setosa\",\"setosa\",\"setosa\",\"setosa\",\"setosa\",\"setosa\",\"setosa\",\"setosa\",\"setosa\",\"setosa\",\"setosa\",\"setosa\",\"setosa\",\"setosa\",\"setosa\",\"setosa\",\"setosa\",\"setosa\",\"setosa\",\"setosa\",\"setosa\",\"setosa\",\"setosa\",\"setosa\",\"setosa\",\"setosa\",\"versicolor\",\"versicolor\",\"versicolor\",\"versicolor\",\"versicolor\",\"versicolor\",\"versicolor\",\"versicolor\",\"versicolor\",\"versicolor\",\"versicolor\",\"versicolor\",\"versicolor\",\"versicolor\",\"versicolor\",\"versicolor\",\"versicolor\",\"versicolor\",\"versicolor\",\"versicolor\",\"versicolor\",\"versicolor\",\"versicolor\",\"versicolor\",\"versicolor\",\"versicolor\",\"versicolor\",\"versicolor\",\"versicolor\",\"versicolor\",\"versicolor\",\"versicolor\",\"versicolor\",\"versicolor\",\"versicolor\",\"versicolor\",\"versicolor\",\"versicolor\",\"versicolor\",\"versicolor\",\"versicolor\",\"versicolor\",\"versicolor\",\"versicolor\",\"versicolor\",\"versicolor\",\"versicolor\",\"versicolor\",\"versicolor\",\"versicolor\",\"virginica\",\"virginica\",\"virginica\",\"virginica\",\"virginica\",\"virginica\",\"virginica\",\"virginica\",\"virginica\",\"virginica\",\"virginica\",\"virginica\",\"virginica\",\"virginica\",\"virginica\",\"virginica\",\"virginica\",\"virginica\",\"virginica\",\"virginica\",\"virginica\",\"virginica\",\"virginica\",\"virginica\",\"virginica\",\"virginica\",\"virginica\",\"virginica\",\"virginica\",\"virginica\",\"virginica\",\"virginica\",\"virginica\",\"virginica\",\"virginica\",\"virginica\",\"virginica\",\"virginica\",\"virginica\",\"virginica\",\"virginica\",\"virginica\",\"virginica\",\"virginica\",\"virginica\",\"virginica\",\"virginica\",\"virginica\",\"virginica\",\"virginica\"],\"type\":\"scatter\"}],                        {\"legend\":{\"bgcolor\":\"#F5F6F9\",\"font\":{\"color\":\"#4D5663\"}},\"paper_bgcolor\":\"#F5F6F9\",\"plot_bgcolor\":\"#F5F6F9\",\"template\":{\"data\":{\"barpolar\":[{\"marker\":{\"line\":{\"color\":\"#E5ECF6\",\"width\":0.5},\"pattern\":{\"fillmode\":\"overlay\",\"size\":10,\"solidity\":0.2}},\"type\":\"barpolar\"}],\"bar\":[{\"error_x\":{\"color\":\"#2a3f5f\"},\"error_y\":{\"color\":\"#2a3f5f\"},\"marker\":{\"line\":{\"color\":\"#E5ECF6\",\"width\":0.5},\"pattern\":{\"fillmode\":\"overlay\",\"size\":10,\"solidity\":0.2}},\"type\":\"bar\"}],\"carpet\":[{\"aaxis\":{\"endlinecolor\":\"#2a3f5f\",\"gridcolor\":\"white\",\"linecolor\":\"white\",\"minorgridcolor\":\"white\",\"startlinecolor\":\"#2a3f5f\"},\"baxis\":{\"endlinecolor\":\"#2a3f5f\",\"gridcolor\":\"white\",\"linecolor\":\"white\",\"minorgridcolor\":\"white\",\"startlinecolor\":\"#2a3f5f\"},\"type\":\"carpet\"}],\"choropleth\":[{\"colorbar\":{\"outlinewidth\":0,\"ticks\":\"\"},\"type\":\"choropleth\"}],\"contourcarpet\":[{\"colorbar\":{\"outlinewidth\":0,\"ticks\":\"\"},\"type\":\"contourcarpet\"}],\"contour\":[{\"colorbar\":{\"outlinewidth\":0,\"ticks\":\"\"},\"colorscale\":[[0.0,\"#0d0887\"],[0.1111111111111111,\"#46039f\"],[0.2222222222222222,\"#7201a8\"],[0.3333333333333333,\"#9c179e\"],[0.4444444444444444,\"#bd3786\"],[0.5555555555555556,\"#d8576b\"],[0.6666666666666666,\"#ed7953\"],[0.7777777777777778,\"#fb9f3a\"],[0.8888888888888888,\"#fdca26\"],[1.0,\"#f0f921\"]],\"type\":\"contour\"}],\"heatmapgl\":[{\"colorbar\":{\"outlinewidth\":0,\"ticks\":\"\"},\"colorscale\":[[0.0,\"#0d0887\"],[0.1111111111111111,\"#46039f\"],[0.2222222222222222,\"#7201a8\"],[0.3333333333333333,\"#9c179e\"],[0.4444444444444444,\"#bd3786\"],[0.5555555555555556,\"#d8576b\"],[0.6666666666666666,\"#ed7953\"],[0.7777777777777778,\"#fb9f3a\"],[0.8888888888888888,\"#fdca26\"],[1.0,\"#f0f921\"]],\"type\":\"heatmapgl\"}],\"heatmap\":[{\"colorbar\":{\"outlinewidth\":0,\"ticks\":\"\"},\"colorscale\":[[0.0,\"#0d0887\"],[0.1111111111111111,\"#46039f\"],[0.2222222222222222,\"#7201a8\"],[0.3333333333333333,\"#9c179e\"],[0.4444444444444444,\"#bd3786\"],[0.5555555555555556,\"#d8576b\"],[0.6666666666666666,\"#ed7953\"],[0.7777777777777778,\"#fb9f3a\"],[0.8888888888888888,\"#fdca26\"],[1.0,\"#f0f921\"]],\"type\":\"heatmap\"}],\"histogram2dcontour\":[{\"colorbar\":{\"outlinewidth\":0,\"ticks\":\"\"},\"colorscale\":[[0.0,\"#0d0887\"],[0.1111111111111111,\"#46039f\"],[0.2222222222222222,\"#7201a8\"],[0.3333333333333333,\"#9c179e\"],[0.4444444444444444,\"#bd3786\"],[0.5555555555555556,\"#d8576b\"],[0.6666666666666666,\"#ed7953\"],[0.7777777777777778,\"#fb9f3a\"],[0.8888888888888888,\"#fdca26\"],[1.0,\"#f0f921\"]],\"type\":\"histogram2dcontour\"}],\"histogram2d\":[{\"colorbar\":{\"outlinewidth\":0,\"ticks\":\"\"},\"colorscale\":[[0.0,\"#0d0887\"],[0.1111111111111111,\"#46039f\"],[0.2222222222222222,\"#7201a8\"],[0.3333333333333333,\"#9c179e\"],[0.4444444444444444,\"#bd3786\"],[0.5555555555555556,\"#d8576b\"],[0.6666666666666666,\"#ed7953\"],[0.7777777777777778,\"#fb9f3a\"],[0.8888888888888888,\"#fdca26\"],[1.0,\"#f0f921\"]],\"type\":\"histogram2d\"}],\"histogram\":[{\"marker\":{\"pattern\":{\"fillmode\":\"overlay\",\"size\":10,\"solidity\":0.2}},\"type\":\"histogram\"}],\"mesh3d\":[{\"colorbar\":{\"outlinewidth\":0,\"ticks\":\"\"},\"type\":\"mesh3d\"}],\"parcoords\":[{\"line\":{\"colorbar\":{\"outlinewidth\":0,\"ticks\":\"\"}},\"type\":\"parcoords\"}],\"pie\":[{\"automargin\":true,\"type\":\"pie\"}],\"scatter3d\":[{\"line\":{\"colorbar\":{\"outlinewidth\":0,\"ticks\":\"\"}},\"marker\":{\"colorbar\":{\"outlinewidth\":0,\"ticks\":\"\"}},\"type\":\"scatter3d\"}],\"scattercarpet\":[{\"marker\":{\"colorbar\":{\"outlinewidth\":0,\"ticks\":\"\"}},\"type\":\"scattercarpet\"}],\"scattergeo\":[{\"marker\":{\"colorbar\":{\"outlinewidth\":0,\"ticks\":\"\"}},\"type\":\"scattergeo\"}],\"scattergl\":[{\"marker\":{\"colorbar\":{\"outlinewidth\":0,\"ticks\":\"\"}},\"type\":\"scattergl\"}],\"scattermapbox\":[{\"marker\":{\"colorbar\":{\"outlinewidth\":0,\"ticks\":\"\"}},\"type\":\"scattermapbox\"}],\"scatterpolargl\":[{\"marker\":{\"colorbar\":{\"outlinewidth\":0,\"ticks\":\"\"}},\"type\":\"scatterpolargl\"}],\"scatterpolar\":[{\"marker\":{\"colorbar\":{\"outlinewidth\":0,\"ticks\":\"\"}},\"type\":\"scatterpolar\"}],\"scatter\":[{\"fillpattern\":{\"fillmode\":\"overlay\",\"size\":10,\"solidity\":0.2},\"type\":\"scatter\"}],\"scatterternary\":[{\"marker\":{\"colorbar\":{\"outlinewidth\":0,\"ticks\":\"\"}},\"type\":\"scatterternary\"}],\"surface\":[{\"colorbar\":{\"outlinewidth\":0,\"ticks\":\"\"},\"colorscale\":[[0.0,\"#0d0887\"],[0.1111111111111111,\"#46039f\"],[0.2222222222222222,\"#7201a8\"],[0.3333333333333333,\"#9c179e\"],[0.4444444444444444,\"#bd3786\"],[0.5555555555555556,\"#d8576b\"],[0.6666666666666666,\"#ed7953\"],[0.7777777777777778,\"#fb9f3a\"],[0.8888888888888888,\"#fdca26\"],[1.0,\"#f0f921\"]],\"type\":\"surface\"}],\"table\":[{\"cells\":{\"fill\":{\"color\":\"#EBF0F8\"},\"line\":{\"color\":\"white\"}},\"header\":{\"fill\":{\"color\":\"#C8D4E3\"},\"line\":{\"color\":\"white\"}},\"type\":\"table\"}]},\"layout\":{\"annotationdefaults\":{\"arrowcolor\":\"#2a3f5f\",\"arrowhead\":0,\"arrowwidth\":1},\"autotypenumbers\":\"strict\",\"coloraxis\":{\"colorbar\":{\"outlinewidth\":0,\"ticks\":\"\"}},\"colorscale\":{\"diverging\":[[0,\"#8e0152\"],[0.1,\"#c51b7d\"],[0.2,\"#de77ae\"],[0.3,\"#f1b6da\"],[0.4,\"#fde0ef\"],[0.5,\"#f7f7f7\"],[0.6,\"#e6f5d0\"],[0.7,\"#b8e186\"],[0.8,\"#7fbc41\"],[0.9,\"#4d9221\"],[1,\"#276419\"]],\"sequential\":[[0.0,\"#0d0887\"],[0.1111111111111111,\"#46039f\"],[0.2222222222222222,\"#7201a8\"],[0.3333333333333333,\"#9c179e\"],[0.4444444444444444,\"#bd3786\"],[0.5555555555555556,\"#d8576b\"],[0.6666666666666666,\"#ed7953\"],[0.7777777777777778,\"#fb9f3a\"],[0.8888888888888888,\"#fdca26\"],[1.0,\"#f0f921\"]],\"sequentialminus\":[[0.0,\"#0d0887\"],[0.1111111111111111,\"#46039f\"],[0.2222222222222222,\"#7201a8\"],[0.3333333333333333,\"#9c179e\"],[0.4444444444444444,\"#bd3786\"],[0.5555555555555556,\"#d8576b\"],[0.6666666666666666,\"#ed7953\"],[0.7777777777777778,\"#fb9f3a\"],[0.8888888888888888,\"#fdca26\"],[1.0,\"#f0f921\"]]},\"colorway\":[\"#636efa\",\"#EF553B\",\"#00cc96\",\"#ab63fa\",\"#FFA15A\",\"#19d3f3\",\"#FF6692\",\"#B6E880\",\"#FF97FF\",\"#FECB52\"],\"font\":{\"color\":\"#2a3f5f\"},\"geo\":{\"bgcolor\":\"white\",\"lakecolor\":\"white\",\"landcolor\":\"#E5ECF6\",\"showlakes\":true,\"showland\":true,\"subunitcolor\":\"white\"},\"hoverlabel\":{\"align\":\"left\"},\"hovermode\":\"closest\",\"mapbox\":{\"style\":\"light\"},\"paper_bgcolor\":\"white\",\"plot_bgcolor\":\"#E5ECF6\",\"polar\":{\"angularaxis\":{\"gridcolor\":\"white\",\"linecolor\":\"white\",\"ticks\":\"\"},\"bgcolor\":\"#E5ECF6\",\"radialaxis\":{\"gridcolor\":\"white\",\"linecolor\":\"white\",\"ticks\":\"\"}},\"scene\":{\"xaxis\":{\"backgroundcolor\":\"#E5ECF6\",\"gridcolor\":\"white\",\"gridwidth\":2,\"linecolor\":\"white\",\"showbackground\":true,\"ticks\":\"\",\"zerolinecolor\":\"white\"},\"yaxis\":{\"backgroundcolor\":\"#E5ECF6\",\"gridcolor\":\"white\",\"gridwidth\":2,\"linecolor\":\"white\",\"showbackground\":true,\"ticks\":\"\",\"zerolinecolor\":\"white\"},\"zaxis\":{\"backgroundcolor\":\"#E5ECF6\",\"gridcolor\":\"white\",\"gridwidth\":2,\"linecolor\":\"white\",\"showbackground\":true,\"ticks\":\"\",\"zerolinecolor\":\"white\"}},\"shapedefaults\":{\"line\":{\"color\":\"#2a3f5f\"}},\"ternary\":{\"aaxis\":{\"gridcolor\":\"white\",\"linecolor\":\"white\",\"ticks\":\"\"},\"baxis\":{\"gridcolor\":\"white\",\"linecolor\":\"white\",\"ticks\":\"\"},\"bgcolor\":\"#E5ECF6\",\"caxis\":{\"gridcolor\":\"white\",\"linecolor\":\"white\",\"ticks\":\"\"}},\"title\":{\"x\":0.05},\"xaxis\":{\"automargin\":true,\"gridcolor\":\"white\",\"linecolor\":\"white\",\"ticks\":\"\",\"title\":{\"standoff\":15},\"zerolinecolor\":\"white\",\"zerolinewidth\":2},\"yaxis\":{\"automargin\":true,\"gridcolor\":\"white\",\"linecolor\":\"white\",\"ticks\":\"\",\"title\":{\"standoff\":15},\"zerolinecolor\":\"white\",\"zerolinewidth\":2}}},\"title\":{\"font\":{\"color\":\"#4D5663\"}},\"xaxis\":{\"gridcolor\":\"#E1E5ED\",\"showgrid\":true,\"tickfont\":{\"color\":\"#4D5663\"},\"title\":{\"font\":{\"color\":\"#4D5663\"},\"text\":\"\"},\"zerolinecolor\":\"#E1E5ED\"},\"yaxis\":{\"gridcolor\":\"#E1E5ED\",\"showgrid\":true,\"tickfont\":{\"color\":\"#4D5663\"},\"title\":{\"font\":{\"color\":\"#4D5663\"},\"text\":\"\"},\"zerolinecolor\":\"#E1E5ED\"}},                        {\"showLink\": true, \"linkText\": \"Export to plot.ly\", \"plotlyServerURL\": \"https://plot.ly\", \"responsive\": true}                    ).then(function(){\n",
       "                            \n",
       "var gd = document.getElementById('e3daaedf-1534-4ed2-8358-b5c971787fa0');\n",
       "var x = new MutationObserver(function (mutations, observer) {{\n",
       "        var display = window.getComputedStyle(gd).display;\n",
       "        if (!display || display === 'none') {{\n",
       "            console.log([gd, 'removed!']);\n",
       "            Plotly.purge(gd);\n",
       "            observer.disconnect();\n",
       "        }}\n",
       "}});\n",
       "\n",
       "// Listen for the removal of the full notebook cells\n",
       "var notebookContainer = gd.closest('#notebook-container');\n",
       "if (notebookContainer) {{\n",
       "    x.observe(notebookContainer, {childList: true});\n",
       "}}\n",
       "\n",
       "// Listen for the clearing of the current output cell\n",
       "var outputEl = gd.closest('.output');\n",
       "if (outputEl) {{\n",
       "    x.observe(outputEl, {childList: true});\n",
       "}}\n",
       "\n",
       "                        })                };                });            </script>        </div>"
      ]
     },
     "metadata": {},
     "output_type": "display_data"
    }
   ],
   "source": [
    "df1.iplot()"
   ]
  },
  {
   "cell_type": "code",
   "execution_count": 10,
   "id": "aa33a346",
   "metadata": {},
   "outputs": [],
   "source": [
    "df=pd.DataFrame(np.random.rand(300,3) ,columns=['a','b','c'])"
   ]
  },
  {
   "cell_type": "code",
   "execution_count": 11,
   "id": "159c069d",
   "metadata": {},
   "outputs": [
    {
     "data": {
      "text/html": [
       "<div>\n",
       "<style scoped>\n",
       "    .dataframe tbody tr th:only-of-type {\n",
       "        vertical-align: middle;\n",
       "    }\n",
       "\n",
       "    .dataframe tbody tr th {\n",
       "        vertical-align: top;\n",
       "    }\n",
       "\n",
       "    .dataframe thead th {\n",
       "        text-align: right;\n",
       "    }\n",
       "</style>\n",
       "<table border=\"1\" class=\"dataframe\">\n",
       "  <thead>\n",
       "    <tr style=\"text-align: right;\">\n",
       "      <th></th>\n",
       "      <th>a</th>\n",
       "      <th>b</th>\n",
       "      <th>c</th>\n",
       "    </tr>\n",
       "  </thead>\n",
       "  <tbody>\n",
       "    <tr>\n",
       "      <th>0</th>\n",
       "      <td>0.421216</td>\n",
       "      <td>0.728036</td>\n",
       "      <td>0.238458</td>\n",
       "    </tr>\n",
       "    <tr>\n",
       "      <th>1</th>\n",
       "      <td>0.724542</td>\n",
       "      <td>0.832953</td>\n",
       "      <td>0.328158</td>\n",
       "    </tr>\n",
       "    <tr>\n",
       "      <th>2</th>\n",
       "      <td>0.155361</td>\n",
       "      <td>0.447650</td>\n",
       "      <td>0.272421</td>\n",
       "    </tr>\n",
       "    <tr>\n",
       "      <th>3</th>\n",
       "      <td>0.066866</td>\n",
       "      <td>0.343238</td>\n",
       "      <td>0.157490</td>\n",
       "    </tr>\n",
       "    <tr>\n",
       "      <th>4</th>\n",
       "      <td>0.262487</td>\n",
       "      <td>0.522159</td>\n",
       "      <td>0.627165</td>\n",
       "    </tr>\n",
       "    <tr>\n",
       "      <th>...</th>\n",
       "      <td>...</td>\n",
       "      <td>...</td>\n",
       "      <td>...</td>\n",
       "    </tr>\n",
       "    <tr>\n",
       "      <th>295</th>\n",
       "      <td>0.029248</td>\n",
       "      <td>0.931118</td>\n",
       "      <td>0.657223</td>\n",
       "    </tr>\n",
       "    <tr>\n",
       "      <th>296</th>\n",
       "      <td>0.295917</td>\n",
       "      <td>0.469591</td>\n",
       "      <td>0.913761</td>\n",
       "    </tr>\n",
       "    <tr>\n",
       "      <th>297</th>\n",
       "      <td>0.700216</td>\n",
       "      <td>0.391927</td>\n",
       "      <td>0.065504</td>\n",
       "    </tr>\n",
       "    <tr>\n",
       "      <th>298</th>\n",
       "      <td>0.596010</td>\n",
       "      <td>0.281330</td>\n",
       "      <td>0.786483</td>\n",
       "    </tr>\n",
       "    <tr>\n",
       "      <th>299</th>\n",
       "      <td>0.011617</td>\n",
       "      <td>0.111818</td>\n",
       "      <td>0.447389</td>\n",
       "    </tr>\n",
       "  </tbody>\n",
       "</table>\n",
       "<p>300 rows × 3 columns</p>\n",
       "</div>"
      ],
      "text/plain": [
       "            a         b         c\n",
       "0    0.421216  0.728036  0.238458\n",
       "1    0.724542  0.832953  0.328158\n",
       "2    0.155361  0.447650  0.272421\n",
       "3    0.066866  0.343238  0.157490\n",
       "4    0.262487  0.522159  0.627165\n",
       "..        ...       ...       ...\n",
       "295  0.029248  0.931118  0.657223\n",
       "296  0.295917  0.469591  0.913761\n",
       "297  0.700216  0.391927  0.065504\n",
       "298  0.596010  0.281330  0.786483\n",
       "299  0.011617  0.111818  0.447389\n",
       "\n",
       "[300 rows x 3 columns]"
      ]
     },
     "execution_count": 11,
     "metadata": {},
     "output_type": "execute_result"
    }
   ],
   "source": [
    "df"
   ]
  },
  {
   "cell_type": "code",
   "execution_count": 12,
   "id": "ab806339",
   "metadata": {},
   "outputs": [
    {
     "data": {
      "application/vnd.plotly.v1+json": {
       "config": {
        "linkText": "Export to plot.ly",
        "plotlyServerURL": "https://plot.ly",
        "showLink": true
       },
       "data": [
        {
         "line": {
          "color": "rgba(255, 153, 51, 1.0)",
          "dash": "solid",
          "shape": "linear",
          "width": 1.3
         },
         "mode": "lines",
         "name": "b",
         "text": "",
         "type": "scatter",
         "x": [
          0.42121627329937006,
          0.7245419573442572,
          0.15536120064665615,
          0.06686550636343613,
          0.2624871576562833,
          0.32424884343544325,
          0.2411893135497446,
          0.13768360482733633,
          0.5162653511552181,
          0.42013200147606267,
          0.4518770525319127,
          0.795553130811094,
          0.0003515528841019355,
          0.6830678172849305,
          0.3228079941890707,
          0.011528520815582644,
          0.5004028982789152,
          0.7426565563134057,
          0.4320270833216011,
          0.2379686799191324,
          0.10034601365573637,
          0.5358009825131521,
          0.8638858796503842,
          0.007983535641365225,
          0.5038125501267138,
          0.055030007324728736,
          0.5379582094344201,
          0.26155926084651715,
          0.8128809513645404,
          0.020820512346902742,
          0.9252500017934385,
          0.8917802984101614,
          0.1713279145571588,
          0.8223447420322637,
          0.7436525195187459,
          0.7991714003463427,
          0.5369925996409672,
          0.830391951400645,
          0.4622183202604244,
          0.29750210835443014,
          0.7949958680174501,
          0.0041671837274260826,
          0.49969740975661003,
          0.1920771953405941,
          0.03491737823712815,
          0.38511265613826307,
          0.7297014982369133,
          0.7222420630365339,
          0.538465425280369,
          0.6309583669606986,
          0.26811178840554395,
          0.5357416856983952,
          0.19017154616006782,
          0.8392035815723458,
          0.9075017914864345,
          0.1593183979075138,
          0.024564663606259862,
          0.9760304793448512,
          0.14872556040985097,
          0.7585909920932047,
          0.30687110516355354,
          0.9855050864443268,
          0.16394437319476596,
          0.8784463023868646,
          0.8454826655520494,
          0.40759104849052663,
          0.06914257767719656,
          0.057060426841533785,
          0.1480017748814424,
          0.19038539781481167,
          0.3212267481275759,
          0.7981523738960862,
          0.6743955201652911,
          0.09425478708530488,
          0.1751797300534047,
          0.2789194485833547,
          0.3413843714309356,
          0.04600905336889671,
          0.4102388331884018,
          0.9573259407160298,
          0.5743728481310455,
          0.42616251327861543,
          0.7263958032946709,
          0.48412557782924004,
          0.7358568358109937,
          0.2768478744699071,
          0.3970930437197987,
          0.9880837479169828,
          0.9406294787572743,
          0.47837625986207066,
          0.15132984104777336,
          0.49666540586483554,
          0.27736137348949497,
          0.8007612827424266,
          0.27498314332261986,
          0.6028684860659178,
          0.5044233664833256,
          0.7937550736874817,
          0.6984723210259919,
          0.25590016756358647,
          0.5829208765889428,
          0.6184484042562405,
          0.9704600973944093,
          0.8503708486381039,
          0.053980455343413114,
          0.8244019525890707,
          0.5095405592555222,
          0.05608555803735804,
          0.82197104558219,
          0.4368868594894709,
          0.6786876673975878,
          0.33973981465073666,
          0.42084822130633026,
          0.029497356475978842,
          0.05269432172206612,
          0.3331408731218819,
          0.6992590777160607,
          0.164932257509944,
          0.2897621696989824,
          0.16483500792870864,
          0.26925179050267023,
          0.09218078796647122,
          0.6355385277906846,
          0.6597773428394924,
          0.6834033084385186,
          0.5413741139836828,
          0.5390691809736452,
          0.21313286351348926,
          0.39994045820874224,
          0.8898486285715802,
          0.5681905539781319,
          0.42431383156786584,
          0.6822758897482306,
          0.41590872106788324,
          0.8281082120770169,
          0.15140933917265953,
          0.6406640041219318,
          0.3162033599723034,
          0.10201287157729522,
          0.4251896679092909,
          0.46914449127179847,
          0.59481681555125,
          0.6596600272958683,
          0.6529762600261315,
          0.5455816115996037,
          0.31393476075363935,
          0.6621289026407646,
          0.42166377177016345,
          0.7485907379425286,
          0.4072131717366759,
          0.566304041586583,
          0.906277330059646,
          0.8533269835613996,
          0.3442159660635876,
          0.9893877811204922,
          0.0055311670362298004,
          0.8805799745151467,
          0.9448960041193339,
          0.12425300087851343,
          0.1708164097510032,
          0.8564506126228222,
          0.16705980765370043,
          0.49927268114642265,
          0.5458817510601583,
          0.8330050871847595,
          0.785291106338764,
          0.04844496637827245,
          0.28118915820877666,
          0.5041438046956245,
          0.14275249963182568,
          0.12915059456269118,
          0.8118727721179944,
          0.670269985257146,
          0.21053537583818382,
          0.9988433483798315,
          0.4180959602507418,
          0.09997893642911349,
          0.5961708491638057,
          0.577487080054161,
          0.6690101142370158,
          0.7488030110998561,
          0.7071608907990218,
          0.01960392083234752,
          0.4346873813309452,
          0.18087168385575192,
          0.4727398466329855,
          0.9154408155678929,
          0.06469351795780498,
          0.4824689165402032,
          0.6182671789876105,
          0.9121333186792299,
          0.4720604555882152,
          0.7356800112535089,
          0.3443547523966566,
          0.055298535355247536,
          0.8570452780878647,
          0.9948392287194394,
          0.1410375319712739,
          0.8749245287765834,
          0.3558447128434218,
          0.822794622558294,
          0.003209836944832567,
          0.6251729449634488,
          0.44231390600957865,
          0.5645705101807883,
          0.37286027299876956,
          0.3924191475876174,
          0.6784480107097609,
          0.7219381061617793,
          0.20325256310105477,
          0.44967683777105216,
          0.33654859734503983,
          0.5643148274849311,
          0.47009181711852743,
          0.8660654165648543,
          0.8385150451742506,
          0.3618644027346192,
          0.5502785879961303,
          0.9973774064680258,
          0.7584747037570401,
          0.8288870885211556,
          0.7637087690976282,
          0.30384037236294115,
          0.2621689528103497,
          0.40547737894502356,
          0.23079757928104927,
          0.6565603152121313,
          0.8008239372303043,
          0.5891494909478747,
          0.234167829090549,
          0.6766529726187701,
          0.7279396179180803,
          0.442368648262928,
          0.13025329126719642,
          0.3313995668472183,
          0.03007006179850813,
          0.5354729112262643,
          0.18520290997171718,
          0.004446073138945961,
          0.6404036732711942,
          0.7392590698332681,
          0.5035614177751195,
          0.6890762889769331,
          0.41077363388901345,
          0.4269995079454789,
          0.3678895743155144,
          0.060955811063890475,
          0.4638014958097202,
          0.28134482809938777,
          0.12911945895337185,
          0.9317750739974809,
          0.9221353975830487,
          0.6714678207344313,
          0.4564946878116817,
          0.625751819376491,
          0.3842164059287636,
          0.0328110381198764,
          0.5454371809329455,
          0.1741973605054522,
          0.09891044339618149,
          0.23805732365163013,
          0.733634859804977,
          0.934508020612893,
          0.9532077646882406,
          0.6180932723943503,
          0.5538565952491025,
          0.7975056240651582,
          0.11944608385245647,
          0.2798660926351999,
          0.4414512198043318,
          0.9068346216927867,
          0.09924434724134823,
          0.5629459138927876,
          0.8927777654772798,
          0.11496031790396655,
          0.8622433546089056,
          0.2855069541952563,
          0.6198337859468181,
          0.5126995272882329,
          0.4240312210511127,
          0.8373641573965753,
          0.09330849597576851,
          0.08530162147611975,
          0.23729339347243517,
          0.10950462233836478,
          0.9816678787529786,
          0.936961707362646,
          0.11047428672441728,
          0.5432874911423741,
          0.5162303905223605,
          0.7864383314320358,
          0.7281591897117122,
          0.1973653545830486,
          0.05687362238602345,
          0.4739751141394757,
          0.029248024810064055,
          0.29591701837729445,
          0.7002161384367424,
          0.5960101995611436,
          0.011617393529922526
         ],
         "y": [
          0.7280362806102908,
          0.832953496321121,
          0.44765046142241816,
          0.343237546541336,
          0.5221588985434374,
          0.5762085838485177,
          0.40515407695791394,
          0.8745475065349337,
          0.06962053825328596,
          0.2624763084578652,
          0.5210145835818372,
          0.6050282074982662,
          0.6210094088874245,
          0.9951247867058649,
          0.3210649777988225,
          0.05878228323893109,
          0.6389365274728224,
          0.8253038816808557,
          0.51540809069414,
          0.5196816550439172,
          0.946647889056718,
          0.39475155431117204,
          0.8620707600718026,
          0.43471778367715586,
          0.5469624709285924,
          0.1148072992332777,
          0.3055255868368282,
          0.5978303146182881,
          0.8998659891280428,
          0.6535696650654723,
          0.17710487686972354,
          0.3427798228950413,
          0.876586016130961,
          0.32001528540013036,
          0.15515894849378875,
          0.23516579226477496,
          0.3110626178405248,
          0.6925525059800656,
          0.4575483123982058,
          0.5735054108667882,
          0.8986617110117883,
          0.9334137744093542,
          0.607045971358165,
          0.33278465190223094,
          0.02779405198209095,
          0.9118913944671009,
          0.3237665920432773,
          0.9162893130346489,
          0.2642238692968787,
          0.03555234654428152,
          0.820410049201667,
          0.9415227559377709,
          0.9218814192620565,
          0.35010014362335073,
          0.7312110703025435,
          0.42604857278910413,
          0.16841594598291898,
          0.42831567410389904,
          0.5456372503568429,
          0.9108494820343216,
          0.2977165934884115,
          0.8224496492837918,
          0.07252486933963387,
          0.216723604768282,
          0.5420603009828963,
          0.4519041005920893,
          0.2696559357681072,
          0.2037182338527347,
          0.9736356837047957,
          0.9969219823962148,
          0.22362016398494777,
          0.9214207565315675,
          0.8424460494670329,
          0.8459598231799375,
          0.3506650084712689,
          0.425711121312662,
          0.5993908810201609,
          0.19149601587241372,
          0.07181550231342526,
          0.02136366449472682,
          0.20955866371471654,
          0.44999248107983014,
          0.9765440600613207,
          0.8226108587101658,
          0.8092214769606129,
          0.43338883880168555,
          0.915727297971557,
          0.6569417962502233,
          0.18019163031603858,
          0.15244601852189166,
          0.040155528310009236,
          0.12238680571895633,
          0.32393523217114084,
          0.7893091093489077,
          0.5896844233375913,
          0.43172182999382047,
          0.0153075075256206,
          0.2672147033812833,
          0.8672484623254233,
          0.9672203124072071,
          0.9647008446429589,
          0.7142509821103781,
          0.5969748017269463,
          0.3853938138730094,
          0.6911467190368694,
          0.3643774931416298,
          0.8419644384008753,
          0.663667794277749,
          0.2534247980724659,
          0.030271664402281795,
          0.3164781997393089,
          0.5482168139022058,
          0.8188814558309816,
          0.8135615721326127,
          0.8281562250908552,
          0.15800412124471197,
          0.6653720860839117,
          0.8100876466993024,
          0.8076479641473785,
          0.9761331381570664,
          0.23859416108806564,
          0.4172789966745456,
          0.5713324380958652,
          0.613104796776425,
          0.6258591636977687,
          0.1345164028903234,
          0.5364848131372253,
          0.2361442940548002,
          0.7355223492659902,
          0.13399891656749585,
          0.759273039156942,
          0.2690083478047389,
          0.6211406852684733,
          0.14064067473285757,
          0.0447253516553785,
          0.9814327520578601,
          0.23731013407711998,
          0.7612855449250022,
          0.979727940824555,
          0.7450710840290887,
          0.23159929617861663,
          0.9964826717611994,
          0.7211285518333277,
          0.9005985809204141,
          0.9897640450644823,
          0.16077056409095125,
          0.3279292590942763,
          0.34267983975701655,
          0.19135371263308376,
          0.2565587591161975,
          0.610671304294213,
          0.13960066133134186,
          0.2612809016208628,
          0.8270621015802572,
          0.7759332854916229,
          0.37922832880916946,
          0.04267801822858097,
          0.659766305685424,
          0.8525396508107412,
          0.22815666744065988,
          0.3226909415316037,
          0.016627827762835,
          0.21483687469332158,
          0.26158915549532846,
          0.16649320470048845,
          0.8810425569118945,
          0.24074928473815393,
          0.5646742433059682,
          0.1897351683450369,
          0.41304094038127515,
          0.7437214617197974,
          0.231188648815304,
          0.1237914964548541,
          0.08005042584238653,
          0.9873898585222595,
          0.21443508131178746,
          0.9486872352186672,
          0.8902514833367846,
          0.7714512589339986,
          0.16842630237978085,
          0.7151142631828858,
          0.4407850491988361,
          0.1367751994074069,
          0.9003677321980902,
          0.9446407517833434,
          0.6464489704428157,
          0.73300349383005,
          0.8812493742108138,
          0.6563886165840898,
          0.9808591484690796,
          0.1546457401625918,
          0.7990415681065408,
          0.019707150363221793,
          0.6638500386270813,
          0.6724649949139959,
          0.2923556056847596,
          0.2108165750866816,
          0.15077261273731857,
          0.8545261507127803,
          0.09831105243523353,
          0.7321451317102965,
          0.04197438988175428,
          0.922111659809259,
          0.21687095364997278,
          0.43370285137943376,
          0.19337773784634515,
          0.42308166913280776,
          0.1501968134874213,
          0.8740941772208243,
          0.38694491640817386,
          0.5224775103458866,
          0.6836582472937142,
          0.38162073608276204,
          0.031946731000244366,
          0.18896277994744304,
          0.13115155004285872,
          0.6214702013552724,
          0.01144018803542357,
          0.8122412781990873,
          0.8224440457049683,
          0.6309904736238926,
          0.9584725562951159,
          0.5516966505125769,
          0.4923011051912173,
          0.21745067229188642,
          0.05152821137650865,
          0.8333861098744418,
          0.788313036424906,
          0.27120445382041736,
          0.6173393033149108,
          0.5195089546175985,
          0.3884173200667047,
          0.49501262125009693,
          0.12446179262847956,
          0.1915986312630511,
          0.33213730031068067,
          0.6601059856522459,
          0.47643049595368214,
          0.5344827564953569,
          0.37398406015514385,
          0.9184843700822447,
          0.9133349323951138,
          0.637196011149816,
          0.4483532974800277,
          0.3461244856939051,
          0.528196045395319,
          0.058247904023234987,
          0.6845224439601616,
          0.20529425577095006,
          0.7744583976171876,
          0.4742264306977937,
          0.032208377423835644,
          0.5127976233056881,
          0.01608764736936641,
          0.9125004060330133,
          0.9443961085563272,
          0.3232036353650306,
          0.24219766658339037,
          0.3358015196970191,
          0.14862762106399385,
          0.8580398418424201,
          0.7219607640539403,
          0.34627073569329836,
          0.15495221385374736,
          0.16731034107806397,
          0.2120047699351334,
          0.4066696488109629,
          0.016259718345525975,
          0.771674804897317,
          0.09025559939409555,
          0.25226104798556703,
          0.9424871259601847,
          0.9880384670062461,
          0.4611483709951655,
          0.1508222983160552,
          0.3822126430698197,
          0.7864910938926715,
          0.4919099257911109,
          0.7735464711554907,
          0.7700216822142629,
          0.6221519025516056,
          0.7913681706507943,
          0.9515142925525176,
          0.1501776266184246,
          0.48393779036375273,
          0.9364992224621935,
          0.4276446556782272,
          0.9175980351329021,
          0.7964537179347291,
          0.04211064072119641,
          0.1693418440192802,
          0.31299924352291975,
          0.06521787605765117,
          0.8065675262862932,
          0.39940231976887364,
          0.9311178255973086,
          0.46959144004517683,
          0.3919274139467085,
          0.2813303762528232,
          0.1118181702716643
         ]
        }
       ],
       "layout": {
        "legend": {
         "bgcolor": "#F5F6F9",
         "font": {
          "color": "#4D5663"
         }
        },
        "paper_bgcolor": "#F5F6F9",
        "plot_bgcolor": "#F5F6F9",
        "template": {
         "data": {
          "bar": [
           {
            "error_x": {
             "color": "#2a3f5f"
            },
            "error_y": {
             "color": "#2a3f5f"
            },
            "marker": {
             "line": {
              "color": "#E5ECF6",
              "width": 0.5
             },
             "pattern": {
              "fillmode": "overlay",
              "size": 10,
              "solidity": 0.2
             }
            },
            "type": "bar"
           }
          ],
          "barpolar": [
           {
            "marker": {
             "line": {
              "color": "#E5ECF6",
              "width": 0.5
             },
             "pattern": {
              "fillmode": "overlay",
              "size": 10,
              "solidity": 0.2
             }
            },
            "type": "barpolar"
           }
          ],
          "carpet": [
           {
            "aaxis": {
             "endlinecolor": "#2a3f5f",
             "gridcolor": "white",
             "linecolor": "white",
             "minorgridcolor": "white",
             "startlinecolor": "#2a3f5f"
            },
            "baxis": {
             "endlinecolor": "#2a3f5f",
             "gridcolor": "white",
             "linecolor": "white",
             "minorgridcolor": "white",
             "startlinecolor": "#2a3f5f"
            },
            "type": "carpet"
           }
          ],
          "choropleth": [
           {
            "colorbar": {
             "outlinewidth": 0,
             "ticks": ""
            },
            "type": "choropleth"
           }
          ],
          "contour": [
           {
            "colorbar": {
             "outlinewidth": 0,
             "ticks": ""
            },
            "colorscale": [
             [
              0,
              "#0d0887"
             ],
             [
              0.1111111111111111,
              "#46039f"
             ],
             [
              0.2222222222222222,
              "#7201a8"
             ],
             [
              0.3333333333333333,
              "#9c179e"
             ],
             [
              0.4444444444444444,
              "#bd3786"
             ],
             [
              0.5555555555555556,
              "#d8576b"
             ],
             [
              0.6666666666666666,
              "#ed7953"
             ],
             [
              0.7777777777777778,
              "#fb9f3a"
             ],
             [
              0.8888888888888888,
              "#fdca26"
             ],
             [
              1,
              "#f0f921"
             ]
            ],
            "type": "contour"
           }
          ],
          "contourcarpet": [
           {
            "colorbar": {
             "outlinewidth": 0,
             "ticks": ""
            },
            "type": "contourcarpet"
           }
          ],
          "heatmap": [
           {
            "colorbar": {
             "outlinewidth": 0,
             "ticks": ""
            },
            "colorscale": [
             [
              0,
              "#0d0887"
             ],
             [
              0.1111111111111111,
              "#46039f"
             ],
             [
              0.2222222222222222,
              "#7201a8"
             ],
             [
              0.3333333333333333,
              "#9c179e"
             ],
             [
              0.4444444444444444,
              "#bd3786"
             ],
             [
              0.5555555555555556,
              "#d8576b"
             ],
             [
              0.6666666666666666,
              "#ed7953"
             ],
             [
              0.7777777777777778,
              "#fb9f3a"
             ],
             [
              0.8888888888888888,
              "#fdca26"
             ],
             [
              1,
              "#f0f921"
             ]
            ],
            "type": "heatmap"
           }
          ],
          "heatmapgl": [
           {
            "colorbar": {
             "outlinewidth": 0,
             "ticks": ""
            },
            "colorscale": [
             [
              0,
              "#0d0887"
             ],
             [
              0.1111111111111111,
              "#46039f"
             ],
             [
              0.2222222222222222,
              "#7201a8"
             ],
             [
              0.3333333333333333,
              "#9c179e"
             ],
             [
              0.4444444444444444,
              "#bd3786"
             ],
             [
              0.5555555555555556,
              "#d8576b"
             ],
             [
              0.6666666666666666,
              "#ed7953"
             ],
             [
              0.7777777777777778,
              "#fb9f3a"
             ],
             [
              0.8888888888888888,
              "#fdca26"
             ],
             [
              1,
              "#f0f921"
             ]
            ],
            "type": "heatmapgl"
           }
          ],
          "histogram": [
           {
            "marker": {
             "pattern": {
              "fillmode": "overlay",
              "size": 10,
              "solidity": 0.2
             }
            },
            "type": "histogram"
           }
          ],
          "histogram2d": [
           {
            "colorbar": {
             "outlinewidth": 0,
             "ticks": ""
            },
            "colorscale": [
             [
              0,
              "#0d0887"
             ],
             [
              0.1111111111111111,
              "#46039f"
             ],
             [
              0.2222222222222222,
              "#7201a8"
             ],
             [
              0.3333333333333333,
              "#9c179e"
             ],
             [
              0.4444444444444444,
              "#bd3786"
             ],
             [
              0.5555555555555556,
              "#d8576b"
             ],
             [
              0.6666666666666666,
              "#ed7953"
             ],
             [
              0.7777777777777778,
              "#fb9f3a"
             ],
             [
              0.8888888888888888,
              "#fdca26"
             ],
             [
              1,
              "#f0f921"
             ]
            ],
            "type": "histogram2d"
           }
          ],
          "histogram2dcontour": [
           {
            "colorbar": {
             "outlinewidth": 0,
             "ticks": ""
            },
            "colorscale": [
             [
              0,
              "#0d0887"
             ],
             [
              0.1111111111111111,
              "#46039f"
             ],
             [
              0.2222222222222222,
              "#7201a8"
             ],
             [
              0.3333333333333333,
              "#9c179e"
             ],
             [
              0.4444444444444444,
              "#bd3786"
             ],
             [
              0.5555555555555556,
              "#d8576b"
             ],
             [
              0.6666666666666666,
              "#ed7953"
             ],
             [
              0.7777777777777778,
              "#fb9f3a"
             ],
             [
              0.8888888888888888,
              "#fdca26"
             ],
             [
              1,
              "#f0f921"
             ]
            ],
            "type": "histogram2dcontour"
           }
          ],
          "mesh3d": [
           {
            "colorbar": {
             "outlinewidth": 0,
             "ticks": ""
            },
            "type": "mesh3d"
           }
          ],
          "parcoords": [
           {
            "line": {
             "colorbar": {
              "outlinewidth": 0,
              "ticks": ""
             }
            },
            "type": "parcoords"
           }
          ],
          "pie": [
           {
            "automargin": true,
            "type": "pie"
           }
          ],
          "scatter": [
           {
            "fillpattern": {
             "fillmode": "overlay",
             "size": 10,
             "solidity": 0.2
            },
            "type": "scatter"
           }
          ],
          "scatter3d": [
           {
            "line": {
             "colorbar": {
              "outlinewidth": 0,
              "ticks": ""
             }
            },
            "marker": {
             "colorbar": {
              "outlinewidth": 0,
              "ticks": ""
             }
            },
            "type": "scatter3d"
           }
          ],
          "scattercarpet": [
           {
            "marker": {
             "colorbar": {
              "outlinewidth": 0,
              "ticks": ""
             }
            },
            "type": "scattercarpet"
           }
          ],
          "scattergeo": [
           {
            "marker": {
             "colorbar": {
              "outlinewidth": 0,
              "ticks": ""
             }
            },
            "type": "scattergeo"
           }
          ],
          "scattergl": [
           {
            "marker": {
             "colorbar": {
              "outlinewidth": 0,
              "ticks": ""
             }
            },
            "type": "scattergl"
           }
          ],
          "scattermapbox": [
           {
            "marker": {
             "colorbar": {
              "outlinewidth": 0,
              "ticks": ""
             }
            },
            "type": "scattermapbox"
           }
          ],
          "scatterpolar": [
           {
            "marker": {
             "colorbar": {
              "outlinewidth": 0,
              "ticks": ""
             }
            },
            "type": "scatterpolar"
           }
          ],
          "scatterpolargl": [
           {
            "marker": {
             "colorbar": {
              "outlinewidth": 0,
              "ticks": ""
             }
            },
            "type": "scatterpolargl"
           }
          ],
          "scatterternary": [
           {
            "marker": {
             "colorbar": {
              "outlinewidth": 0,
              "ticks": ""
             }
            },
            "type": "scatterternary"
           }
          ],
          "surface": [
           {
            "colorbar": {
             "outlinewidth": 0,
             "ticks": ""
            },
            "colorscale": [
             [
              0,
              "#0d0887"
             ],
             [
              0.1111111111111111,
              "#46039f"
             ],
             [
              0.2222222222222222,
              "#7201a8"
             ],
             [
              0.3333333333333333,
              "#9c179e"
             ],
             [
              0.4444444444444444,
              "#bd3786"
             ],
             [
              0.5555555555555556,
              "#d8576b"
             ],
             [
              0.6666666666666666,
              "#ed7953"
             ],
             [
              0.7777777777777778,
              "#fb9f3a"
             ],
             [
              0.8888888888888888,
              "#fdca26"
             ],
             [
              1,
              "#f0f921"
             ]
            ],
            "type": "surface"
           }
          ],
          "table": [
           {
            "cells": {
             "fill": {
              "color": "#EBF0F8"
             },
             "line": {
              "color": "white"
             }
            },
            "header": {
             "fill": {
              "color": "#C8D4E3"
             },
             "line": {
              "color": "white"
             }
            },
            "type": "table"
           }
          ]
         },
         "layout": {
          "annotationdefaults": {
           "arrowcolor": "#2a3f5f",
           "arrowhead": 0,
           "arrowwidth": 1
          },
          "autotypenumbers": "strict",
          "coloraxis": {
           "colorbar": {
            "outlinewidth": 0,
            "ticks": ""
           }
          },
          "colorscale": {
           "diverging": [
            [
             0,
             "#8e0152"
            ],
            [
             0.1,
             "#c51b7d"
            ],
            [
             0.2,
             "#de77ae"
            ],
            [
             0.3,
             "#f1b6da"
            ],
            [
             0.4,
             "#fde0ef"
            ],
            [
             0.5,
             "#f7f7f7"
            ],
            [
             0.6,
             "#e6f5d0"
            ],
            [
             0.7,
             "#b8e186"
            ],
            [
             0.8,
             "#7fbc41"
            ],
            [
             0.9,
             "#4d9221"
            ],
            [
             1,
             "#276419"
            ]
           ],
           "sequential": [
            [
             0,
             "#0d0887"
            ],
            [
             0.1111111111111111,
             "#46039f"
            ],
            [
             0.2222222222222222,
             "#7201a8"
            ],
            [
             0.3333333333333333,
             "#9c179e"
            ],
            [
             0.4444444444444444,
             "#bd3786"
            ],
            [
             0.5555555555555556,
             "#d8576b"
            ],
            [
             0.6666666666666666,
             "#ed7953"
            ],
            [
             0.7777777777777778,
             "#fb9f3a"
            ],
            [
             0.8888888888888888,
             "#fdca26"
            ],
            [
             1,
             "#f0f921"
            ]
           ],
           "sequentialminus": [
            [
             0,
             "#0d0887"
            ],
            [
             0.1111111111111111,
             "#46039f"
            ],
            [
             0.2222222222222222,
             "#7201a8"
            ],
            [
             0.3333333333333333,
             "#9c179e"
            ],
            [
             0.4444444444444444,
             "#bd3786"
            ],
            [
             0.5555555555555556,
             "#d8576b"
            ],
            [
             0.6666666666666666,
             "#ed7953"
            ],
            [
             0.7777777777777778,
             "#fb9f3a"
            ],
            [
             0.8888888888888888,
             "#fdca26"
            ],
            [
             1,
             "#f0f921"
            ]
           ]
          },
          "colorway": [
           "#636efa",
           "#EF553B",
           "#00cc96",
           "#ab63fa",
           "#FFA15A",
           "#19d3f3",
           "#FF6692",
           "#B6E880",
           "#FF97FF",
           "#FECB52"
          ],
          "font": {
           "color": "#2a3f5f"
          },
          "geo": {
           "bgcolor": "white",
           "lakecolor": "white",
           "landcolor": "#E5ECF6",
           "showlakes": true,
           "showland": true,
           "subunitcolor": "white"
          },
          "hoverlabel": {
           "align": "left"
          },
          "hovermode": "closest",
          "mapbox": {
           "style": "light"
          },
          "paper_bgcolor": "white",
          "plot_bgcolor": "#E5ECF6",
          "polar": {
           "angularaxis": {
            "gridcolor": "white",
            "linecolor": "white",
            "ticks": ""
           },
           "bgcolor": "#E5ECF6",
           "radialaxis": {
            "gridcolor": "white",
            "linecolor": "white",
            "ticks": ""
           }
          },
          "scene": {
           "xaxis": {
            "backgroundcolor": "#E5ECF6",
            "gridcolor": "white",
            "gridwidth": 2,
            "linecolor": "white",
            "showbackground": true,
            "ticks": "",
            "zerolinecolor": "white"
           },
           "yaxis": {
            "backgroundcolor": "#E5ECF6",
            "gridcolor": "white",
            "gridwidth": 2,
            "linecolor": "white",
            "showbackground": true,
            "ticks": "",
            "zerolinecolor": "white"
           },
           "zaxis": {
            "backgroundcolor": "#E5ECF6",
            "gridcolor": "white",
            "gridwidth": 2,
            "linecolor": "white",
            "showbackground": true,
            "ticks": "",
            "zerolinecolor": "white"
           }
          },
          "shapedefaults": {
           "line": {
            "color": "#2a3f5f"
           }
          },
          "ternary": {
           "aaxis": {
            "gridcolor": "white",
            "linecolor": "white",
            "ticks": ""
           },
           "baxis": {
            "gridcolor": "white",
            "linecolor": "white",
            "ticks": ""
           },
           "bgcolor": "#E5ECF6",
           "caxis": {
            "gridcolor": "white",
            "linecolor": "white",
            "ticks": ""
           }
          },
          "title": {
           "x": 0.05
          },
          "xaxis": {
           "automargin": true,
           "gridcolor": "white",
           "linecolor": "white",
           "ticks": "",
           "title": {
            "standoff": 15
           },
           "zerolinecolor": "white",
           "zerolinewidth": 2
          },
          "yaxis": {
           "automargin": true,
           "gridcolor": "white",
           "linecolor": "white",
           "ticks": "",
           "title": {
            "standoff": 15
           },
           "zerolinecolor": "white",
           "zerolinewidth": 2
          }
         }
        },
        "title": {
         "font": {
          "color": "#4D5663"
         }
        },
        "xaxis": {
         "gridcolor": "#E1E5ED",
         "showgrid": true,
         "tickfont": {
          "color": "#4D5663"
         },
         "title": {
          "font": {
           "color": "#4D5663"
          },
          "text": ""
         },
         "zerolinecolor": "#E1E5ED"
        },
        "yaxis": {
         "gridcolor": "#E1E5ED",
         "showgrid": true,
         "tickfont": {
          "color": "#4D5663"
         },
         "title": {
          "font": {
           "color": "#4D5663"
          },
          "text": ""
         },
         "zerolinecolor": "#E1E5ED"
        }
       }
      },
      "text/html": [
       "<div>                            <div id=\"617bbda2-70ee-4562-b5f3-0d7927db9d99\" class=\"plotly-graph-div\" style=\"height:525px; width:100%;\"></div>            <script type=\"text/javascript\">                require([\"plotly\"], function(Plotly) {                    window.PLOTLYENV=window.PLOTLYENV || {};\n",
       "                    window.PLOTLYENV.BASE_URL='https://plot.ly';                                    if (document.getElementById(\"617bbda2-70ee-4562-b5f3-0d7927db9d99\")) {                    Plotly.newPlot(                        \"617bbda2-70ee-4562-b5f3-0d7927db9d99\",                        [{\"line\":{\"color\":\"rgba(255, 153, 51, 1.0)\",\"dash\":\"solid\",\"shape\":\"linear\",\"width\":1.3},\"mode\":\"lines\",\"name\":\"b\",\"text\":\"\",\"x\":[0.42121627329937006,0.7245419573442572,0.15536120064665615,0.06686550636343613,0.2624871576562833,0.32424884343544325,0.2411893135497446,0.13768360482733633,0.5162653511552181,0.42013200147606267,0.4518770525319127,0.795553130811094,0.0003515528841019355,0.6830678172849305,0.3228079941890707,0.011528520815582644,0.5004028982789152,0.7426565563134057,0.4320270833216011,0.2379686799191324,0.10034601365573637,0.5358009825131521,0.8638858796503842,0.007983535641365225,0.5038125501267138,0.055030007324728736,0.5379582094344201,0.26155926084651715,0.8128809513645404,0.020820512346902742,0.9252500017934385,0.8917802984101614,0.1713279145571588,0.8223447420322637,0.7436525195187459,0.7991714003463427,0.5369925996409672,0.830391951400645,0.4622183202604244,0.29750210835443014,0.7949958680174501,0.0041671837274260826,0.49969740975661003,0.1920771953405941,0.03491737823712815,0.38511265613826307,0.7297014982369133,0.7222420630365339,0.538465425280369,0.6309583669606986,0.26811178840554395,0.5357416856983952,0.19017154616006782,0.8392035815723458,0.9075017914864345,0.1593183979075138,0.024564663606259862,0.9760304793448512,0.14872556040985097,0.7585909920932047,0.30687110516355354,0.9855050864443268,0.16394437319476596,0.8784463023868646,0.8454826655520494,0.40759104849052663,0.06914257767719656,0.057060426841533785,0.1480017748814424,0.19038539781481167,0.3212267481275759,0.7981523738960862,0.6743955201652911,0.09425478708530488,0.1751797300534047,0.2789194485833547,0.3413843714309356,0.04600905336889671,0.4102388331884018,0.9573259407160298,0.5743728481310455,0.42616251327861543,0.7263958032946709,0.48412557782924004,0.7358568358109937,0.2768478744699071,0.3970930437197987,0.9880837479169828,0.9406294787572743,0.47837625986207066,0.15132984104777336,0.49666540586483554,0.27736137348949497,0.8007612827424266,0.27498314332261986,0.6028684860659178,0.5044233664833256,0.7937550736874817,0.6984723210259919,0.25590016756358647,0.5829208765889428,0.6184484042562405,0.9704600973944093,0.8503708486381039,0.053980455343413114,0.8244019525890707,0.5095405592555222,0.05608555803735804,0.82197104558219,0.4368868594894709,0.6786876673975878,0.33973981465073666,0.42084822130633026,0.029497356475978842,0.05269432172206612,0.3331408731218819,0.6992590777160607,0.164932257509944,0.2897621696989824,0.16483500792870864,0.26925179050267023,0.09218078796647122,0.6355385277906846,0.6597773428394924,0.6834033084385186,0.5413741139836828,0.5390691809736452,0.21313286351348926,0.39994045820874224,0.8898486285715802,0.5681905539781319,0.42431383156786584,0.6822758897482306,0.41590872106788324,0.8281082120770169,0.15140933917265953,0.6406640041219318,0.3162033599723034,0.10201287157729522,0.4251896679092909,0.46914449127179847,0.59481681555125,0.6596600272958683,0.6529762600261315,0.5455816115996037,0.31393476075363935,0.6621289026407646,0.42166377177016345,0.7485907379425286,0.4072131717366759,0.566304041586583,0.906277330059646,0.8533269835613996,0.3442159660635876,0.9893877811204922,0.0055311670362298004,0.8805799745151467,0.9448960041193339,0.12425300087851343,0.1708164097510032,0.8564506126228222,0.16705980765370043,0.49927268114642265,0.5458817510601583,0.8330050871847595,0.785291106338764,0.04844496637827245,0.28118915820877666,0.5041438046956245,0.14275249963182568,0.12915059456269118,0.8118727721179944,0.670269985257146,0.21053537583818382,0.9988433483798315,0.4180959602507418,0.09997893642911349,0.5961708491638057,0.577487080054161,0.6690101142370158,0.7488030110998561,0.7071608907990218,0.01960392083234752,0.4346873813309452,0.18087168385575192,0.4727398466329855,0.9154408155678929,0.06469351795780498,0.4824689165402032,0.6182671789876105,0.9121333186792299,0.4720604555882152,0.7356800112535089,0.3443547523966566,0.055298535355247536,0.8570452780878647,0.9948392287194394,0.1410375319712739,0.8749245287765834,0.3558447128434218,0.822794622558294,0.003209836944832567,0.6251729449634488,0.44231390600957865,0.5645705101807883,0.37286027299876956,0.3924191475876174,0.6784480107097609,0.7219381061617793,0.20325256310105477,0.44967683777105216,0.33654859734503983,0.5643148274849311,0.47009181711852743,0.8660654165648543,0.8385150451742506,0.3618644027346192,0.5502785879961303,0.9973774064680258,0.7584747037570401,0.8288870885211556,0.7637087690976282,0.30384037236294115,0.2621689528103497,0.40547737894502356,0.23079757928104927,0.6565603152121313,0.8008239372303043,0.5891494909478747,0.234167829090549,0.6766529726187701,0.7279396179180803,0.442368648262928,0.13025329126719642,0.3313995668472183,0.03007006179850813,0.5354729112262643,0.18520290997171718,0.004446073138945961,0.6404036732711942,0.7392590698332681,0.5035614177751195,0.6890762889769331,0.41077363388901345,0.4269995079454789,0.3678895743155144,0.060955811063890475,0.4638014958097202,0.28134482809938777,0.12911945895337185,0.9317750739974809,0.9221353975830487,0.6714678207344313,0.4564946878116817,0.625751819376491,0.3842164059287636,0.0328110381198764,0.5454371809329455,0.1741973605054522,0.09891044339618149,0.23805732365163013,0.733634859804977,0.934508020612893,0.9532077646882406,0.6180932723943503,0.5538565952491025,0.7975056240651582,0.11944608385245647,0.2798660926351999,0.4414512198043318,0.9068346216927867,0.09924434724134823,0.5629459138927876,0.8927777654772798,0.11496031790396655,0.8622433546089056,0.2855069541952563,0.6198337859468181,0.5126995272882329,0.4240312210511127,0.8373641573965753,0.09330849597576851,0.08530162147611975,0.23729339347243517,0.10950462233836478,0.9816678787529786,0.936961707362646,0.11047428672441728,0.5432874911423741,0.5162303905223605,0.7864383314320358,0.7281591897117122,0.1973653545830486,0.05687362238602345,0.4739751141394757,0.029248024810064055,0.29591701837729445,0.7002161384367424,0.5960101995611436,0.011617393529922526],\"y\":[0.7280362806102908,0.832953496321121,0.44765046142241816,0.343237546541336,0.5221588985434374,0.5762085838485177,0.40515407695791394,0.8745475065349337,0.06962053825328596,0.2624763084578652,0.5210145835818372,0.6050282074982662,0.6210094088874245,0.9951247867058649,0.3210649777988225,0.05878228323893109,0.6389365274728224,0.8253038816808557,0.51540809069414,0.5196816550439172,0.946647889056718,0.39475155431117204,0.8620707600718026,0.43471778367715586,0.5469624709285924,0.1148072992332777,0.3055255868368282,0.5978303146182881,0.8998659891280428,0.6535696650654723,0.17710487686972354,0.3427798228950413,0.876586016130961,0.32001528540013036,0.15515894849378875,0.23516579226477496,0.3110626178405248,0.6925525059800656,0.4575483123982058,0.5735054108667882,0.8986617110117883,0.9334137744093542,0.607045971358165,0.33278465190223094,0.02779405198209095,0.9118913944671009,0.3237665920432773,0.9162893130346489,0.2642238692968787,0.03555234654428152,0.820410049201667,0.9415227559377709,0.9218814192620565,0.35010014362335073,0.7312110703025435,0.42604857278910413,0.16841594598291898,0.42831567410389904,0.5456372503568429,0.9108494820343216,0.2977165934884115,0.8224496492837918,0.07252486933963387,0.216723604768282,0.5420603009828963,0.4519041005920893,0.2696559357681072,0.2037182338527347,0.9736356837047957,0.9969219823962148,0.22362016398494777,0.9214207565315675,0.8424460494670329,0.8459598231799375,0.3506650084712689,0.425711121312662,0.5993908810201609,0.19149601587241372,0.07181550231342526,0.02136366449472682,0.20955866371471654,0.44999248107983014,0.9765440600613207,0.8226108587101658,0.8092214769606129,0.43338883880168555,0.915727297971557,0.6569417962502233,0.18019163031603858,0.15244601852189166,0.040155528310009236,0.12238680571895633,0.32393523217114084,0.7893091093489077,0.5896844233375913,0.43172182999382047,0.0153075075256206,0.2672147033812833,0.8672484623254233,0.9672203124072071,0.9647008446429589,0.7142509821103781,0.5969748017269463,0.3853938138730094,0.6911467190368694,0.3643774931416298,0.8419644384008753,0.663667794277749,0.2534247980724659,0.030271664402281795,0.3164781997393089,0.5482168139022058,0.8188814558309816,0.8135615721326127,0.8281562250908552,0.15800412124471197,0.6653720860839117,0.8100876466993024,0.8076479641473785,0.9761331381570664,0.23859416108806564,0.4172789966745456,0.5713324380958652,0.613104796776425,0.6258591636977687,0.1345164028903234,0.5364848131372253,0.2361442940548002,0.7355223492659902,0.13399891656749585,0.759273039156942,0.2690083478047389,0.6211406852684733,0.14064067473285757,0.0447253516553785,0.9814327520578601,0.23731013407711998,0.7612855449250022,0.979727940824555,0.7450710840290887,0.23159929617861663,0.9964826717611994,0.7211285518333277,0.9005985809204141,0.9897640450644823,0.16077056409095125,0.3279292590942763,0.34267983975701655,0.19135371263308376,0.2565587591161975,0.610671304294213,0.13960066133134186,0.2612809016208628,0.8270621015802572,0.7759332854916229,0.37922832880916946,0.04267801822858097,0.659766305685424,0.8525396508107412,0.22815666744065988,0.3226909415316037,0.016627827762835,0.21483687469332158,0.26158915549532846,0.16649320470048845,0.8810425569118945,0.24074928473815393,0.5646742433059682,0.1897351683450369,0.41304094038127515,0.7437214617197974,0.231188648815304,0.1237914964548541,0.08005042584238653,0.9873898585222595,0.21443508131178746,0.9486872352186672,0.8902514833367846,0.7714512589339986,0.16842630237978085,0.7151142631828858,0.4407850491988361,0.1367751994074069,0.9003677321980902,0.9446407517833434,0.6464489704428157,0.73300349383005,0.8812493742108138,0.6563886165840898,0.9808591484690796,0.1546457401625918,0.7990415681065408,0.019707150363221793,0.6638500386270813,0.6724649949139959,0.2923556056847596,0.2108165750866816,0.15077261273731857,0.8545261507127803,0.09831105243523353,0.7321451317102965,0.04197438988175428,0.922111659809259,0.21687095364997278,0.43370285137943376,0.19337773784634515,0.42308166913280776,0.1501968134874213,0.8740941772208243,0.38694491640817386,0.5224775103458866,0.6836582472937142,0.38162073608276204,0.031946731000244366,0.18896277994744304,0.13115155004285872,0.6214702013552724,0.01144018803542357,0.8122412781990873,0.8224440457049683,0.6309904736238926,0.9584725562951159,0.5516966505125769,0.4923011051912173,0.21745067229188642,0.05152821137650865,0.8333861098744418,0.788313036424906,0.27120445382041736,0.6173393033149108,0.5195089546175985,0.3884173200667047,0.49501262125009693,0.12446179262847956,0.1915986312630511,0.33213730031068067,0.6601059856522459,0.47643049595368214,0.5344827564953569,0.37398406015514385,0.9184843700822447,0.9133349323951138,0.637196011149816,0.4483532974800277,0.3461244856939051,0.528196045395319,0.058247904023234987,0.6845224439601616,0.20529425577095006,0.7744583976171876,0.4742264306977937,0.032208377423835644,0.5127976233056881,0.01608764736936641,0.9125004060330133,0.9443961085563272,0.3232036353650306,0.24219766658339037,0.3358015196970191,0.14862762106399385,0.8580398418424201,0.7219607640539403,0.34627073569329836,0.15495221385374736,0.16731034107806397,0.2120047699351334,0.4066696488109629,0.016259718345525975,0.771674804897317,0.09025559939409555,0.25226104798556703,0.9424871259601847,0.9880384670062461,0.4611483709951655,0.1508222983160552,0.3822126430698197,0.7864910938926715,0.4919099257911109,0.7735464711554907,0.7700216822142629,0.6221519025516056,0.7913681706507943,0.9515142925525176,0.1501776266184246,0.48393779036375273,0.9364992224621935,0.4276446556782272,0.9175980351329021,0.7964537179347291,0.04211064072119641,0.1693418440192802,0.31299924352291975,0.06521787605765117,0.8065675262862932,0.39940231976887364,0.9311178255973086,0.46959144004517683,0.3919274139467085,0.2813303762528232,0.1118181702716643],\"type\":\"scatter\"}],                        {\"legend\":{\"bgcolor\":\"#F5F6F9\",\"font\":{\"color\":\"#4D5663\"}},\"paper_bgcolor\":\"#F5F6F9\",\"plot_bgcolor\":\"#F5F6F9\",\"template\":{\"data\":{\"barpolar\":[{\"marker\":{\"line\":{\"color\":\"#E5ECF6\",\"width\":0.5},\"pattern\":{\"fillmode\":\"overlay\",\"size\":10,\"solidity\":0.2}},\"type\":\"barpolar\"}],\"bar\":[{\"error_x\":{\"color\":\"#2a3f5f\"},\"error_y\":{\"color\":\"#2a3f5f\"},\"marker\":{\"line\":{\"color\":\"#E5ECF6\",\"width\":0.5},\"pattern\":{\"fillmode\":\"overlay\",\"size\":10,\"solidity\":0.2}},\"type\":\"bar\"}],\"carpet\":[{\"aaxis\":{\"endlinecolor\":\"#2a3f5f\",\"gridcolor\":\"white\",\"linecolor\":\"white\",\"minorgridcolor\":\"white\",\"startlinecolor\":\"#2a3f5f\"},\"baxis\":{\"endlinecolor\":\"#2a3f5f\",\"gridcolor\":\"white\",\"linecolor\":\"white\",\"minorgridcolor\":\"white\",\"startlinecolor\":\"#2a3f5f\"},\"type\":\"carpet\"}],\"choropleth\":[{\"colorbar\":{\"outlinewidth\":0,\"ticks\":\"\"},\"type\":\"choropleth\"}],\"contourcarpet\":[{\"colorbar\":{\"outlinewidth\":0,\"ticks\":\"\"},\"type\":\"contourcarpet\"}],\"contour\":[{\"colorbar\":{\"outlinewidth\":0,\"ticks\":\"\"},\"colorscale\":[[0.0,\"#0d0887\"],[0.1111111111111111,\"#46039f\"],[0.2222222222222222,\"#7201a8\"],[0.3333333333333333,\"#9c179e\"],[0.4444444444444444,\"#bd3786\"],[0.5555555555555556,\"#d8576b\"],[0.6666666666666666,\"#ed7953\"],[0.7777777777777778,\"#fb9f3a\"],[0.8888888888888888,\"#fdca26\"],[1.0,\"#f0f921\"]],\"type\":\"contour\"}],\"heatmapgl\":[{\"colorbar\":{\"outlinewidth\":0,\"ticks\":\"\"},\"colorscale\":[[0.0,\"#0d0887\"],[0.1111111111111111,\"#46039f\"],[0.2222222222222222,\"#7201a8\"],[0.3333333333333333,\"#9c179e\"],[0.4444444444444444,\"#bd3786\"],[0.5555555555555556,\"#d8576b\"],[0.6666666666666666,\"#ed7953\"],[0.7777777777777778,\"#fb9f3a\"],[0.8888888888888888,\"#fdca26\"],[1.0,\"#f0f921\"]],\"type\":\"heatmapgl\"}],\"heatmap\":[{\"colorbar\":{\"outlinewidth\":0,\"ticks\":\"\"},\"colorscale\":[[0.0,\"#0d0887\"],[0.1111111111111111,\"#46039f\"],[0.2222222222222222,\"#7201a8\"],[0.3333333333333333,\"#9c179e\"],[0.4444444444444444,\"#bd3786\"],[0.5555555555555556,\"#d8576b\"],[0.6666666666666666,\"#ed7953\"],[0.7777777777777778,\"#fb9f3a\"],[0.8888888888888888,\"#fdca26\"],[1.0,\"#f0f921\"]],\"type\":\"heatmap\"}],\"histogram2dcontour\":[{\"colorbar\":{\"outlinewidth\":0,\"ticks\":\"\"},\"colorscale\":[[0.0,\"#0d0887\"],[0.1111111111111111,\"#46039f\"],[0.2222222222222222,\"#7201a8\"],[0.3333333333333333,\"#9c179e\"],[0.4444444444444444,\"#bd3786\"],[0.5555555555555556,\"#d8576b\"],[0.6666666666666666,\"#ed7953\"],[0.7777777777777778,\"#fb9f3a\"],[0.8888888888888888,\"#fdca26\"],[1.0,\"#f0f921\"]],\"type\":\"histogram2dcontour\"}],\"histogram2d\":[{\"colorbar\":{\"outlinewidth\":0,\"ticks\":\"\"},\"colorscale\":[[0.0,\"#0d0887\"],[0.1111111111111111,\"#46039f\"],[0.2222222222222222,\"#7201a8\"],[0.3333333333333333,\"#9c179e\"],[0.4444444444444444,\"#bd3786\"],[0.5555555555555556,\"#d8576b\"],[0.6666666666666666,\"#ed7953\"],[0.7777777777777778,\"#fb9f3a\"],[0.8888888888888888,\"#fdca26\"],[1.0,\"#f0f921\"]],\"type\":\"histogram2d\"}],\"histogram\":[{\"marker\":{\"pattern\":{\"fillmode\":\"overlay\",\"size\":10,\"solidity\":0.2}},\"type\":\"histogram\"}],\"mesh3d\":[{\"colorbar\":{\"outlinewidth\":0,\"ticks\":\"\"},\"type\":\"mesh3d\"}],\"parcoords\":[{\"line\":{\"colorbar\":{\"outlinewidth\":0,\"ticks\":\"\"}},\"type\":\"parcoords\"}],\"pie\":[{\"automargin\":true,\"type\":\"pie\"}],\"scatter3d\":[{\"line\":{\"colorbar\":{\"outlinewidth\":0,\"ticks\":\"\"}},\"marker\":{\"colorbar\":{\"outlinewidth\":0,\"ticks\":\"\"}},\"type\":\"scatter3d\"}],\"scattercarpet\":[{\"marker\":{\"colorbar\":{\"outlinewidth\":0,\"ticks\":\"\"}},\"type\":\"scattercarpet\"}],\"scattergeo\":[{\"marker\":{\"colorbar\":{\"outlinewidth\":0,\"ticks\":\"\"}},\"type\":\"scattergeo\"}],\"scattergl\":[{\"marker\":{\"colorbar\":{\"outlinewidth\":0,\"ticks\":\"\"}},\"type\":\"scattergl\"}],\"scattermapbox\":[{\"marker\":{\"colorbar\":{\"outlinewidth\":0,\"ticks\":\"\"}},\"type\":\"scattermapbox\"}],\"scatterpolargl\":[{\"marker\":{\"colorbar\":{\"outlinewidth\":0,\"ticks\":\"\"}},\"type\":\"scatterpolargl\"}],\"scatterpolar\":[{\"marker\":{\"colorbar\":{\"outlinewidth\":0,\"ticks\":\"\"}},\"type\":\"scatterpolar\"}],\"scatter\":[{\"fillpattern\":{\"fillmode\":\"overlay\",\"size\":10,\"solidity\":0.2},\"type\":\"scatter\"}],\"scatterternary\":[{\"marker\":{\"colorbar\":{\"outlinewidth\":0,\"ticks\":\"\"}},\"type\":\"scatterternary\"}],\"surface\":[{\"colorbar\":{\"outlinewidth\":0,\"ticks\":\"\"},\"colorscale\":[[0.0,\"#0d0887\"],[0.1111111111111111,\"#46039f\"],[0.2222222222222222,\"#7201a8\"],[0.3333333333333333,\"#9c179e\"],[0.4444444444444444,\"#bd3786\"],[0.5555555555555556,\"#d8576b\"],[0.6666666666666666,\"#ed7953\"],[0.7777777777777778,\"#fb9f3a\"],[0.8888888888888888,\"#fdca26\"],[1.0,\"#f0f921\"]],\"type\":\"surface\"}],\"table\":[{\"cells\":{\"fill\":{\"color\":\"#EBF0F8\"},\"line\":{\"color\":\"white\"}},\"header\":{\"fill\":{\"color\":\"#C8D4E3\"},\"line\":{\"color\":\"white\"}},\"type\":\"table\"}]},\"layout\":{\"annotationdefaults\":{\"arrowcolor\":\"#2a3f5f\",\"arrowhead\":0,\"arrowwidth\":1},\"autotypenumbers\":\"strict\",\"coloraxis\":{\"colorbar\":{\"outlinewidth\":0,\"ticks\":\"\"}},\"colorscale\":{\"diverging\":[[0,\"#8e0152\"],[0.1,\"#c51b7d\"],[0.2,\"#de77ae\"],[0.3,\"#f1b6da\"],[0.4,\"#fde0ef\"],[0.5,\"#f7f7f7\"],[0.6,\"#e6f5d0\"],[0.7,\"#b8e186\"],[0.8,\"#7fbc41\"],[0.9,\"#4d9221\"],[1,\"#276419\"]],\"sequential\":[[0.0,\"#0d0887\"],[0.1111111111111111,\"#46039f\"],[0.2222222222222222,\"#7201a8\"],[0.3333333333333333,\"#9c179e\"],[0.4444444444444444,\"#bd3786\"],[0.5555555555555556,\"#d8576b\"],[0.6666666666666666,\"#ed7953\"],[0.7777777777777778,\"#fb9f3a\"],[0.8888888888888888,\"#fdca26\"],[1.0,\"#f0f921\"]],\"sequentialminus\":[[0.0,\"#0d0887\"],[0.1111111111111111,\"#46039f\"],[0.2222222222222222,\"#7201a8\"],[0.3333333333333333,\"#9c179e\"],[0.4444444444444444,\"#bd3786\"],[0.5555555555555556,\"#d8576b\"],[0.6666666666666666,\"#ed7953\"],[0.7777777777777778,\"#fb9f3a\"],[0.8888888888888888,\"#fdca26\"],[1.0,\"#f0f921\"]]},\"colorway\":[\"#636efa\",\"#EF553B\",\"#00cc96\",\"#ab63fa\",\"#FFA15A\",\"#19d3f3\",\"#FF6692\",\"#B6E880\",\"#FF97FF\",\"#FECB52\"],\"font\":{\"color\":\"#2a3f5f\"},\"geo\":{\"bgcolor\":\"white\",\"lakecolor\":\"white\",\"landcolor\":\"#E5ECF6\",\"showlakes\":true,\"showland\":true,\"subunitcolor\":\"white\"},\"hoverlabel\":{\"align\":\"left\"},\"hovermode\":\"closest\",\"mapbox\":{\"style\":\"light\"},\"paper_bgcolor\":\"white\",\"plot_bgcolor\":\"#E5ECF6\",\"polar\":{\"angularaxis\":{\"gridcolor\":\"white\",\"linecolor\":\"white\",\"ticks\":\"\"},\"bgcolor\":\"#E5ECF6\",\"radialaxis\":{\"gridcolor\":\"white\",\"linecolor\":\"white\",\"ticks\":\"\"}},\"scene\":{\"xaxis\":{\"backgroundcolor\":\"#E5ECF6\",\"gridcolor\":\"white\",\"gridwidth\":2,\"linecolor\":\"white\",\"showbackground\":true,\"ticks\":\"\",\"zerolinecolor\":\"white\"},\"yaxis\":{\"backgroundcolor\":\"#E5ECF6\",\"gridcolor\":\"white\",\"gridwidth\":2,\"linecolor\":\"white\",\"showbackground\":true,\"ticks\":\"\",\"zerolinecolor\":\"white\"},\"zaxis\":{\"backgroundcolor\":\"#E5ECF6\",\"gridcolor\":\"white\",\"gridwidth\":2,\"linecolor\":\"white\",\"showbackground\":true,\"ticks\":\"\",\"zerolinecolor\":\"white\"}},\"shapedefaults\":{\"line\":{\"color\":\"#2a3f5f\"}},\"ternary\":{\"aaxis\":{\"gridcolor\":\"white\",\"linecolor\":\"white\",\"ticks\":\"\"},\"baxis\":{\"gridcolor\":\"white\",\"linecolor\":\"white\",\"ticks\":\"\"},\"bgcolor\":\"#E5ECF6\",\"caxis\":{\"gridcolor\":\"white\",\"linecolor\":\"white\",\"ticks\":\"\"}},\"title\":{\"x\":0.05},\"xaxis\":{\"automargin\":true,\"gridcolor\":\"white\",\"linecolor\":\"white\",\"ticks\":\"\",\"title\":{\"standoff\":15},\"zerolinecolor\":\"white\",\"zerolinewidth\":2},\"yaxis\":{\"automargin\":true,\"gridcolor\":\"white\",\"linecolor\":\"white\",\"ticks\":\"\",\"title\":{\"standoff\":15},\"zerolinecolor\":\"white\",\"zerolinewidth\":2}}},\"title\":{\"font\":{\"color\":\"#4D5663\"}},\"xaxis\":{\"gridcolor\":\"#E1E5ED\",\"showgrid\":true,\"tickfont\":{\"color\":\"#4D5663\"},\"title\":{\"font\":{\"color\":\"#4D5663\"},\"text\":\"\"},\"zerolinecolor\":\"#E1E5ED\"},\"yaxis\":{\"gridcolor\":\"#E1E5ED\",\"showgrid\":true,\"tickfont\":{\"color\":\"#4D5663\"},\"title\":{\"font\":{\"color\":\"#4D5663\"},\"text\":\"\"},\"zerolinecolor\":\"#E1E5ED\"}},                        {\"showLink\": true, \"linkText\": \"Export to plot.ly\", \"plotlyServerURL\": \"https://plot.ly\", \"responsive\": true}                    ).then(function(){\n",
       "                            \n",
       "var gd = document.getElementById('617bbda2-70ee-4562-b5f3-0d7927db9d99');\n",
       "var x = new MutationObserver(function (mutations, observer) {{\n",
       "        var display = window.getComputedStyle(gd).display;\n",
       "        if (!display || display === 'none') {{\n",
       "            console.log([gd, 'removed!']);\n",
       "            Plotly.purge(gd);\n",
       "            observer.disconnect();\n",
       "        }}\n",
       "}});\n",
       "\n",
       "// Listen for the removal of the full notebook cells\n",
       "var notebookContainer = gd.closest('#notebook-container');\n",
       "if (notebookContainer) {{\n",
       "    x.observe(notebookContainer, {childList: true});\n",
       "}}\n",
       "\n",
       "// Listen for the clearing of the current output cell\n",
       "var outputEl = gd.closest('.output');\n",
       "if (outputEl) {{\n",
       "    x.observe(outputEl, {childList: true});\n",
       "}}\n",
       "\n",
       "                        })                };                });            </script>        </div>"
      ]
     },
     "metadata": {},
     "output_type": "display_data"
    }
   ],
   "source": [
    "df.iplot(x='a' ,y='b')"
   ]
  },
  {
   "cell_type": "code",
   "execution_count": 15,
   "id": "85ced6d7",
   "metadata": {},
   "outputs": [
    {
     "data": {
      "application/vnd.plotly.v1+json": {
       "config": {
        "linkText": "Export to plot.ly",
        "plotlyServerURL": "https://plot.ly",
        "showLink": true
       },
       "data": [
        {
         "line": {
          "color": "rgba(255, 153, 51, 1.0)",
          "dash": "solid",
          "shape": "linear",
          "width": 1.3
         },
         "marker": {
          "size": 12,
          "symbol": "circle"
         },
         "mode": "markers",
         "name": "b",
         "text": "",
         "type": "scatter",
         "x": [
          0.42121627329937006,
          0.7245419573442572,
          0.15536120064665615,
          0.06686550636343613,
          0.2624871576562833,
          0.32424884343544325,
          0.2411893135497446,
          0.13768360482733633,
          0.5162653511552181,
          0.42013200147606267,
          0.4518770525319127,
          0.795553130811094,
          0.0003515528841019355,
          0.6830678172849305,
          0.3228079941890707,
          0.011528520815582644,
          0.5004028982789152,
          0.7426565563134057,
          0.4320270833216011,
          0.2379686799191324,
          0.10034601365573637,
          0.5358009825131521,
          0.8638858796503842,
          0.007983535641365225,
          0.5038125501267138,
          0.055030007324728736,
          0.5379582094344201,
          0.26155926084651715,
          0.8128809513645404,
          0.020820512346902742,
          0.9252500017934385,
          0.8917802984101614,
          0.1713279145571588,
          0.8223447420322637,
          0.7436525195187459,
          0.7991714003463427,
          0.5369925996409672,
          0.830391951400645,
          0.4622183202604244,
          0.29750210835443014,
          0.7949958680174501,
          0.0041671837274260826,
          0.49969740975661003,
          0.1920771953405941,
          0.03491737823712815,
          0.38511265613826307,
          0.7297014982369133,
          0.7222420630365339,
          0.538465425280369,
          0.6309583669606986,
          0.26811178840554395,
          0.5357416856983952,
          0.19017154616006782,
          0.8392035815723458,
          0.9075017914864345,
          0.1593183979075138,
          0.024564663606259862,
          0.9760304793448512,
          0.14872556040985097,
          0.7585909920932047,
          0.30687110516355354,
          0.9855050864443268,
          0.16394437319476596,
          0.8784463023868646,
          0.8454826655520494,
          0.40759104849052663,
          0.06914257767719656,
          0.057060426841533785,
          0.1480017748814424,
          0.19038539781481167,
          0.3212267481275759,
          0.7981523738960862,
          0.6743955201652911,
          0.09425478708530488,
          0.1751797300534047,
          0.2789194485833547,
          0.3413843714309356,
          0.04600905336889671,
          0.4102388331884018,
          0.9573259407160298,
          0.5743728481310455,
          0.42616251327861543,
          0.7263958032946709,
          0.48412557782924004,
          0.7358568358109937,
          0.2768478744699071,
          0.3970930437197987,
          0.9880837479169828,
          0.9406294787572743,
          0.47837625986207066,
          0.15132984104777336,
          0.49666540586483554,
          0.27736137348949497,
          0.8007612827424266,
          0.27498314332261986,
          0.6028684860659178,
          0.5044233664833256,
          0.7937550736874817,
          0.6984723210259919,
          0.25590016756358647,
          0.5829208765889428,
          0.6184484042562405,
          0.9704600973944093,
          0.8503708486381039,
          0.053980455343413114,
          0.8244019525890707,
          0.5095405592555222,
          0.05608555803735804,
          0.82197104558219,
          0.4368868594894709,
          0.6786876673975878,
          0.33973981465073666,
          0.42084822130633026,
          0.029497356475978842,
          0.05269432172206612,
          0.3331408731218819,
          0.6992590777160607,
          0.164932257509944,
          0.2897621696989824,
          0.16483500792870864,
          0.26925179050267023,
          0.09218078796647122,
          0.6355385277906846,
          0.6597773428394924,
          0.6834033084385186,
          0.5413741139836828,
          0.5390691809736452,
          0.21313286351348926,
          0.39994045820874224,
          0.8898486285715802,
          0.5681905539781319,
          0.42431383156786584,
          0.6822758897482306,
          0.41590872106788324,
          0.8281082120770169,
          0.15140933917265953,
          0.6406640041219318,
          0.3162033599723034,
          0.10201287157729522,
          0.4251896679092909,
          0.46914449127179847,
          0.59481681555125,
          0.6596600272958683,
          0.6529762600261315,
          0.5455816115996037,
          0.31393476075363935,
          0.6621289026407646,
          0.42166377177016345,
          0.7485907379425286,
          0.4072131717366759,
          0.566304041586583,
          0.906277330059646,
          0.8533269835613996,
          0.3442159660635876,
          0.9893877811204922,
          0.0055311670362298004,
          0.8805799745151467,
          0.9448960041193339,
          0.12425300087851343,
          0.1708164097510032,
          0.8564506126228222,
          0.16705980765370043,
          0.49927268114642265,
          0.5458817510601583,
          0.8330050871847595,
          0.785291106338764,
          0.04844496637827245,
          0.28118915820877666,
          0.5041438046956245,
          0.14275249963182568,
          0.12915059456269118,
          0.8118727721179944,
          0.670269985257146,
          0.21053537583818382,
          0.9988433483798315,
          0.4180959602507418,
          0.09997893642911349,
          0.5961708491638057,
          0.577487080054161,
          0.6690101142370158,
          0.7488030110998561,
          0.7071608907990218,
          0.01960392083234752,
          0.4346873813309452,
          0.18087168385575192,
          0.4727398466329855,
          0.9154408155678929,
          0.06469351795780498,
          0.4824689165402032,
          0.6182671789876105,
          0.9121333186792299,
          0.4720604555882152,
          0.7356800112535089,
          0.3443547523966566,
          0.055298535355247536,
          0.8570452780878647,
          0.9948392287194394,
          0.1410375319712739,
          0.8749245287765834,
          0.3558447128434218,
          0.822794622558294,
          0.003209836944832567,
          0.6251729449634488,
          0.44231390600957865,
          0.5645705101807883,
          0.37286027299876956,
          0.3924191475876174,
          0.6784480107097609,
          0.7219381061617793,
          0.20325256310105477,
          0.44967683777105216,
          0.33654859734503983,
          0.5643148274849311,
          0.47009181711852743,
          0.8660654165648543,
          0.8385150451742506,
          0.3618644027346192,
          0.5502785879961303,
          0.9973774064680258,
          0.7584747037570401,
          0.8288870885211556,
          0.7637087690976282,
          0.30384037236294115,
          0.2621689528103497,
          0.40547737894502356,
          0.23079757928104927,
          0.6565603152121313,
          0.8008239372303043,
          0.5891494909478747,
          0.234167829090549,
          0.6766529726187701,
          0.7279396179180803,
          0.442368648262928,
          0.13025329126719642,
          0.3313995668472183,
          0.03007006179850813,
          0.5354729112262643,
          0.18520290997171718,
          0.004446073138945961,
          0.6404036732711942,
          0.7392590698332681,
          0.5035614177751195,
          0.6890762889769331,
          0.41077363388901345,
          0.4269995079454789,
          0.3678895743155144,
          0.060955811063890475,
          0.4638014958097202,
          0.28134482809938777,
          0.12911945895337185,
          0.9317750739974809,
          0.9221353975830487,
          0.6714678207344313,
          0.4564946878116817,
          0.625751819376491,
          0.3842164059287636,
          0.0328110381198764,
          0.5454371809329455,
          0.1741973605054522,
          0.09891044339618149,
          0.23805732365163013,
          0.733634859804977,
          0.934508020612893,
          0.9532077646882406,
          0.6180932723943503,
          0.5538565952491025,
          0.7975056240651582,
          0.11944608385245647,
          0.2798660926351999,
          0.4414512198043318,
          0.9068346216927867,
          0.09924434724134823,
          0.5629459138927876,
          0.8927777654772798,
          0.11496031790396655,
          0.8622433546089056,
          0.2855069541952563,
          0.6198337859468181,
          0.5126995272882329,
          0.4240312210511127,
          0.8373641573965753,
          0.09330849597576851,
          0.08530162147611975,
          0.23729339347243517,
          0.10950462233836478,
          0.9816678787529786,
          0.936961707362646,
          0.11047428672441728,
          0.5432874911423741,
          0.5162303905223605,
          0.7864383314320358,
          0.7281591897117122,
          0.1973653545830486,
          0.05687362238602345,
          0.4739751141394757,
          0.029248024810064055,
          0.29591701837729445,
          0.7002161384367424,
          0.5960101995611436,
          0.011617393529922526
         ],
         "y": [
          0.7280362806102908,
          0.832953496321121,
          0.44765046142241816,
          0.343237546541336,
          0.5221588985434374,
          0.5762085838485177,
          0.40515407695791394,
          0.8745475065349337,
          0.06962053825328596,
          0.2624763084578652,
          0.5210145835818372,
          0.6050282074982662,
          0.6210094088874245,
          0.9951247867058649,
          0.3210649777988225,
          0.05878228323893109,
          0.6389365274728224,
          0.8253038816808557,
          0.51540809069414,
          0.5196816550439172,
          0.946647889056718,
          0.39475155431117204,
          0.8620707600718026,
          0.43471778367715586,
          0.5469624709285924,
          0.1148072992332777,
          0.3055255868368282,
          0.5978303146182881,
          0.8998659891280428,
          0.6535696650654723,
          0.17710487686972354,
          0.3427798228950413,
          0.876586016130961,
          0.32001528540013036,
          0.15515894849378875,
          0.23516579226477496,
          0.3110626178405248,
          0.6925525059800656,
          0.4575483123982058,
          0.5735054108667882,
          0.8986617110117883,
          0.9334137744093542,
          0.607045971358165,
          0.33278465190223094,
          0.02779405198209095,
          0.9118913944671009,
          0.3237665920432773,
          0.9162893130346489,
          0.2642238692968787,
          0.03555234654428152,
          0.820410049201667,
          0.9415227559377709,
          0.9218814192620565,
          0.35010014362335073,
          0.7312110703025435,
          0.42604857278910413,
          0.16841594598291898,
          0.42831567410389904,
          0.5456372503568429,
          0.9108494820343216,
          0.2977165934884115,
          0.8224496492837918,
          0.07252486933963387,
          0.216723604768282,
          0.5420603009828963,
          0.4519041005920893,
          0.2696559357681072,
          0.2037182338527347,
          0.9736356837047957,
          0.9969219823962148,
          0.22362016398494777,
          0.9214207565315675,
          0.8424460494670329,
          0.8459598231799375,
          0.3506650084712689,
          0.425711121312662,
          0.5993908810201609,
          0.19149601587241372,
          0.07181550231342526,
          0.02136366449472682,
          0.20955866371471654,
          0.44999248107983014,
          0.9765440600613207,
          0.8226108587101658,
          0.8092214769606129,
          0.43338883880168555,
          0.915727297971557,
          0.6569417962502233,
          0.18019163031603858,
          0.15244601852189166,
          0.040155528310009236,
          0.12238680571895633,
          0.32393523217114084,
          0.7893091093489077,
          0.5896844233375913,
          0.43172182999382047,
          0.0153075075256206,
          0.2672147033812833,
          0.8672484623254233,
          0.9672203124072071,
          0.9647008446429589,
          0.7142509821103781,
          0.5969748017269463,
          0.3853938138730094,
          0.6911467190368694,
          0.3643774931416298,
          0.8419644384008753,
          0.663667794277749,
          0.2534247980724659,
          0.030271664402281795,
          0.3164781997393089,
          0.5482168139022058,
          0.8188814558309816,
          0.8135615721326127,
          0.8281562250908552,
          0.15800412124471197,
          0.6653720860839117,
          0.8100876466993024,
          0.8076479641473785,
          0.9761331381570664,
          0.23859416108806564,
          0.4172789966745456,
          0.5713324380958652,
          0.613104796776425,
          0.6258591636977687,
          0.1345164028903234,
          0.5364848131372253,
          0.2361442940548002,
          0.7355223492659902,
          0.13399891656749585,
          0.759273039156942,
          0.2690083478047389,
          0.6211406852684733,
          0.14064067473285757,
          0.0447253516553785,
          0.9814327520578601,
          0.23731013407711998,
          0.7612855449250022,
          0.979727940824555,
          0.7450710840290887,
          0.23159929617861663,
          0.9964826717611994,
          0.7211285518333277,
          0.9005985809204141,
          0.9897640450644823,
          0.16077056409095125,
          0.3279292590942763,
          0.34267983975701655,
          0.19135371263308376,
          0.2565587591161975,
          0.610671304294213,
          0.13960066133134186,
          0.2612809016208628,
          0.8270621015802572,
          0.7759332854916229,
          0.37922832880916946,
          0.04267801822858097,
          0.659766305685424,
          0.8525396508107412,
          0.22815666744065988,
          0.3226909415316037,
          0.016627827762835,
          0.21483687469332158,
          0.26158915549532846,
          0.16649320470048845,
          0.8810425569118945,
          0.24074928473815393,
          0.5646742433059682,
          0.1897351683450369,
          0.41304094038127515,
          0.7437214617197974,
          0.231188648815304,
          0.1237914964548541,
          0.08005042584238653,
          0.9873898585222595,
          0.21443508131178746,
          0.9486872352186672,
          0.8902514833367846,
          0.7714512589339986,
          0.16842630237978085,
          0.7151142631828858,
          0.4407850491988361,
          0.1367751994074069,
          0.9003677321980902,
          0.9446407517833434,
          0.6464489704428157,
          0.73300349383005,
          0.8812493742108138,
          0.6563886165840898,
          0.9808591484690796,
          0.1546457401625918,
          0.7990415681065408,
          0.019707150363221793,
          0.6638500386270813,
          0.6724649949139959,
          0.2923556056847596,
          0.2108165750866816,
          0.15077261273731857,
          0.8545261507127803,
          0.09831105243523353,
          0.7321451317102965,
          0.04197438988175428,
          0.922111659809259,
          0.21687095364997278,
          0.43370285137943376,
          0.19337773784634515,
          0.42308166913280776,
          0.1501968134874213,
          0.8740941772208243,
          0.38694491640817386,
          0.5224775103458866,
          0.6836582472937142,
          0.38162073608276204,
          0.031946731000244366,
          0.18896277994744304,
          0.13115155004285872,
          0.6214702013552724,
          0.01144018803542357,
          0.8122412781990873,
          0.8224440457049683,
          0.6309904736238926,
          0.9584725562951159,
          0.5516966505125769,
          0.4923011051912173,
          0.21745067229188642,
          0.05152821137650865,
          0.8333861098744418,
          0.788313036424906,
          0.27120445382041736,
          0.6173393033149108,
          0.5195089546175985,
          0.3884173200667047,
          0.49501262125009693,
          0.12446179262847956,
          0.1915986312630511,
          0.33213730031068067,
          0.6601059856522459,
          0.47643049595368214,
          0.5344827564953569,
          0.37398406015514385,
          0.9184843700822447,
          0.9133349323951138,
          0.637196011149816,
          0.4483532974800277,
          0.3461244856939051,
          0.528196045395319,
          0.058247904023234987,
          0.6845224439601616,
          0.20529425577095006,
          0.7744583976171876,
          0.4742264306977937,
          0.032208377423835644,
          0.5127976233056881,
          0.01608764736936641,
          0.9125004060330133,
          0.9443961085563272,
          0.3232036353650306,
          0.24219766658339037,
          0.3358015196970191,
          0.14862762106399385,
          0.8580398418424201,
          0.7219607640539403,
          0.34627073569329836,
          0.15495221385374736,
          0.16731034107806397,
          0.2120047699351334,
          0.4066696488109629,
          0.016259718345525975,
          0.771674804897317,
          0.09025559939409555,
          0.25226104798556703,
          0.9424871259601847,
          0.9880384670062461,
          0.4611483709951655,
          0.1508222983160552,
          0.3822126430698197,
          0.7864910938926715,
          0.4919099257911109,
          0.7735464711554907,
          0.7700216822142629,
          0.6221519025516056,
          0.7913681706507943,
          0.9515142925525176,
          0.1501776266184246,
          0.48393779036375273,
          0.9364992224621935,
          0.4276446556782272,
          0.9175980351329021,
          0.7964537179347291,
          0.04211064072119641,
          0.1693418440192802,
          0.31299924352291975,
          0.06521787605765117,
          0.8065675262862932,
          0.39940231976887364,
          0.9311178255973086,
          0.46959144004517683,
          0.3919274139467085,
          0.2813303762528232,
          0.1118181702716643
         ]
        }
       ],
       "layout": {
        "legend": {
         "bgcolor": "#F5F6F9",
         "font": {
          "color": "#4D5663"
         }
        },
        "paper_bgcolor": "#F5F6F9",
        "plot_bgcolor": "#F5F6F9",
        "template": {
         "data": {
          "bar": [
           {
            "error_x": {
             "color": "#2a3f5f"
            },
            "error_y": {
             "color": "#2a3f5f"
            },
            "marker": {
             "line": {
              "color": "#E5ECF6",
              "width": 0.5
             },
             "pattern": {
              "fillmode": "overlay",
              "size": 10,
              "solidity": 0.2
             }
            },
            "type": "bar"
           }
          ],
          "barpolar": [
           {
            "marker": {
             "line": {
              "color": "#E5ECF6",
              "width": 0.5
             },
             "pattern": {
              "fillmode": "overlay",
              "size": 10,
              "solidity": 0.2
             }
            },
            "type": "barpolar"
           }
          ],
          "carpet": [
           {
            "aaxis": {
             "endlinecolor": "#2a3f5f",
             "gridcolor": "white",
             "linecolor": "white",
             "minorgridcolor": "white",
             "startlinecolor": "#2a3f5f"
            },
            "baxis": {
             "endlinecolor": "#2a3f5f",
             "gridcolor": "white",
             "linecolor": "white",
             "minorgridcolor": "white",
             "startlinecolor": "#2a3f5f"
            },
            "type": "carpet"
           }
          ],
          "choropleth": [
           {
            "colorbar": {
             "outlinewidth": 0,
             "ticks": ""
            },
            "type": "choropleth"
           }
          ],
          "contour": [
           {
            "colorbar": {
             "outlinewidth": 0,
             "ticks": ""
            },
            "colorscale": [
             [
              0,
              "#0d0887"
             ],
             [
              0.1111111111111111,
              "#46039f"
             ],
             [
              0.2222222222222222,
              "#7201a8"
             ],
             [
              0.3333333333333333,
              "#9c179e"
             ],
             [
              0.4444444444444444,
              "#bd3786"
             ],
             [
              0.5555555555555556,
              "#d8576b"
             ],
             [
              0.6666666666666666,
              "#ed7953"
             ],
             [
              0.7777777777777778,
              "#fb9f3a"
             ],
             [
              0.8888888888888888,
              "#fdca26"
             ],
             [
              1,
              "#f0f921"
             ]
            ],
            "type": "contour"
           }
          ],
          "contourcarpet": [
           {
            "colorbar": {
             "outlinewidth": 0,
             "ticks": ""
            },
            "type": "contourcarpet"
           }
          ],
          "heatmap": [
           {
            "colorbar": {
             "outlinewidth": 0,
             "ticks": ""
            },
            "colorscale": [
             [
              0,
              "#0d0887"
             ],
             [
              0.1111111111111111,
              "#46039f"
             ],
             [
              0.2222222222222222,
              "#7201a8"
             ],
             [
              0.3333333333333333,
              "#9c179e"
             ],
             [
              0.4444444444444444,
              "#bd3786"
             ],
             [
              0.5555555555555556,
              "#d8576b"
             ],
             [
              0.6666666666666666,
              "#ed7953"
             ],
             [
              0.7777777777777778,
              "#fb9f3a"
             ],
             [
              0.8888888888888888,
              "#fdca26"
             ],
             [
              1,
              "#f0f921"
             ]
            ],
            "type": "heatmap"
           }
          ],
          "heatmapgl": [
           {
            "colorbar": {
             "outlinewidth": 0,
             "ticks": ""
            },
            "colorscale": [
             [
              0,
              "#0d0887"
             ],
             [
              0.1111111111111111,
              "#46039f"
             ],
             [
              0.2222222222222222,
              "#7201a8"
             ],
             [
              0.3333333333333333,
              "#9c179e"
             ],
             [
              0.4444444444444444,
              "#bd3786"
             ],
             [
              0.5555555555555556,
              "#d8576b"
             ],
             [
              0.6666666666666666,
              "#ed7953"
             ],
             [
              0.7777777777777778,
              "#fb9f3a"
             ],
             [
              0.8888888888888888,
              "#fdca26"
             ],
             [
              1,
              "#f0f921"
             ]
            ],
            "type": "heatmapgl"
           }
          ],
          "histogram": [
           {
            "marker": {
             "pattern": {
              "fillmode": "overlay",
              "size": 10,
              "solidity": 0.2
             }
            },
            "type": "histogram"
           }
          ],
          "histogram2d": [
           {
            "colorbar": {
             "outlinewidth": 0,
             "ticks": ""
            },
            "colorscale": [
             [
              0,
              "#0d0887"
             ],
             [
              0.1111111111111111,
              "#46039f"
             ],
             [
              0.2222222222222222,
              "#7201a8"
             ],
             [
              0.3333333333333333,
              "#9c179e"
             ],
             [
              0.4444444444444444,
              "#bd3786"
             ],
             [
              0.5555555555555556,
              "#d8576b"
             ],
             [
              0.6666666666666666,
              "#ed7953"
             ],
             [
              0.7777777777777778,
              "#fb9f3a"
             ],
             [
              0.8888888888888888,
              "#fdca26"
             ],
             [
              1,
              "#f0f921"
             ]
            ],
            "type": "histogram2d"
           }
          ],
          "histogram2dcontour": [
           {
            "colorbar": {
             "outlinewidth": 0,
             "ticks": ""
            },
            "colorscale": [
             [
              0,
              "#0d0887"
             ],
             [
              0.1111111111111111,
              "#46039f"
             ],
             [
              0.2222222222222222,
              "#7201a8"
             ],
             [
              0.3333333333333333,
              "#9c179e"
             ],
             [
              0.4444444444444444,
              "#bd3786"
             ],
             [
              0.5555555555555556,
              "#d8576b"
             ],
             [
              0.6666666666666666,
              "#ed7953"
             ],
             [
              0.7777777777777778,
              "#fb9f3a"
             ],
             [
              0.8888888888888888,
              "#fdca26"
             ],
             [
              1,
              "#f0f921"
             ]
            ],
            "type": "histogram2dcontour"
           }
          ],
          "mesh3d": [
           {
            "colorbar": {
             "outlinewidth": 0,
             "ticks": ""
            },
            "type": "mesh3d"
           }
          ],
          "parcoords": [
           {
            "line": {
             "colorbar": {
              "outlinewidth": 0,
              "ticks": ""
             }
            },
            "type": "parcoords"
           }
          ],
          "pie": [
           {
            "automargin": true,
            "type": "pie"
           }
          ],
          "scatter": [
           {
            "fillpattern": {
             "fillmode": "overlay",
             "size": 10,
             "solidity": 0.2
            },
            "type": "scatter"
           }
          ],
          "scatter3d": [
           {
            "line": {
             "colorbar": {
              "outlinewidth": 0,
              "ticks": ""
             }
            },
            "marker": {
             "colorbar": {
              "outlinewidth": 0,
              "ticks": ""
             }
            },
            "type": "scatter3d"
           }
          ],
          "scattercarpet": [
           {
            "marker": {
             "colorbar": {
              "outlinewidth": 0,
              "ticks": ""
             }
            },
            "type": "scattercarpet"
           }
          ],
          "scattergeo": [
           {
            "marker": {
             "colorbar": {
              "outlinewidth": 0,
              "ticks": ""
             }
            },
            "type": "scattergeo"
           }
          ],
          "scattergl": [
           {
            "marker": {
             "colorbar": {
              "outlinewidth": 0,
              "ticks": ""
             }
            },
            "type": "scattergl"
           }
          ],
          "scattermapbox": [
           {
            "marker": {
             "colorbar": {
              "outlinewidth": 0,
              "ticks": ""
             }
            },
            "type": "scattermapbox"
           }
          ],
          "scatterpolar": [
           {
            "marker": {
             "colorbar": {
              "outlinewidth": 0,
              "ticks": ""
             }
            },
            "type": "scatterpolar"
           }
          ],
          "scatterpolargl": [
           {
            "marker": {
             "colorbar": {
              "outlinewidth": 0,
              "ticks": ""
             }
            },
            "type": "scatterpolargl"
           }
          ],
          "scatterternary": [
           {
            "marker": {
             "colorbar": {
              "outlinewidth": 0,
              "ticks": ""
             }
            },
            "type": "scatterternary"
           }
          ],
          "surface": [
           {
            "colorbar": {
             "outlinewidth": 0,
             "ticks": ""
            },
            "colorscale": [
             [
              0,
              "#0d0887"
             ],
             [
              0.1111111111111111,
              "#46039f"
             ],
             [
              0.2222222222222222,
              "#7201a8"
             ],
             [
              0.3333333333333333,
              "#9c179e"
             ],
             [
              0.4444444444444444,
              "#bd3786"
             ],
             [
              0.5555555555555556,
              "#d8576b"
             ],
             [
              0.6666666666666666,
              "#ed7953"
             ],
             [
              0.7777777777777778,
              "#fb9f3a"
             ],
             [
              0.8888888888888888,
              "#fdca26"
             ],
             [
              1,
              "#f0f921"
             ]
            ],
            "type": "surface"
           }
          ],
          "table": [
           {
            "cells": {
             "fill": {
              "color": "#EBF0F8"
             },
             "line": {
              "color": "white"
             }
            },
            "header": {
             "fill": {
              "color": "#C8D4E3"
             },
             "line": {
              "color": "white"
             }
            },
            "type": "table"
           }
          ]
         },
         "layout": {
          "annotationdefaults": {
           "arrowcolor": "#2a3f5f",
           "arrowhead": 0,
           "arrowwidth": 1
          },
          "autotypenumbers": "strict",
          "coloraxis": {
           "colorbar": {
            "outlinewidth": 0,
            "ticks": ""
           }
          },
          "colorscale": {
           "diverging": [
            [
             0,
             "#8e0152"
            ],
            [
             0.1,
             "#c51b7d"
            ],
            [
             0.2,
             "#de77ae"
            ],
            [
             0.3,
             "#f1b6da"
            ],
            [
             0.4,
             "#fde0ef"
            ],
            [
             0.5,
             "#f7f7f7"
            ],
            [
             0.6,
             "#e6f5d0"
            ],
            [
             0.7,
             "#b8e186"
            ],
            [
             0.8,
             "#7fbc41"
            ],
            [
             0.9,
             "#4d9221"
            ],
            [
             1,
             "#276419"
            ]
           ],
           "sequential": [
            [
             0,
             "#0d0887"
            ],
            [
             0.1111111111111111,
             "#46039f"
            ],
            [
             0.2222222222222222,
             "#7201a8"
            ],
            [
             0.3333333333333333,
             "#9c179e"
            ],
            [
             0.4444444444444444,
             "#bd3786"
            ],
            [
             0.5555555555555556,
             "#d8576b"
            ],
            [
             0.6666666666666666,
             "#ed7953"
            ],
            [
             0.7777777777777778,
             "#fb9f3a"
            ],
            [
             0.8888888888888888,
             "#fdca26"
            ],
            [
             1,
             "#f0f921"
            ]
           ],
           "sequentialminus": [
            [
             0,
             "#0d0887"
            ],
            [
             0.1111111111111111,
             "#46039f"
            ],
            [
             0.2222222222222222,
             "#7201a8"
            ],
            [
             0.3333333333333333,
             "#9c179e"
            ],
            [
             0.4444444444444444,
             "#bd3786"
            ],
            [
             0.5555555555555556,
             "#d8576b"
            ],
            [
             0.6666666666666666,
             "#ed7953"
            ],
            [
             0.7777777777777778,
             "#fb9f3a"
            ],
            [
             0.8888888888888888,
             "#fdca26"
            ],
            [
             1,
             "#f0f921"
            ]
           ]
          },
          "colorway": [
           "#636efa",
           "#EF553B",
           "#00cc96",
           "#ab63fa",
           "#FFA15A",
           "#19d3f3",
           "#FF6692",
           "#B6E880",
           "#FF97FF",
           "#FECB52"
          ],
          "font": {
           "color": "#2a3f5f"
          },
          "geo": {
           "bgcolor": "white",
           "lakecolor": "white",
           "landcolor": "#E5ECF6",
           "showlakes": true,
           "showland": true,
           "subunitcolor": "white"
          },
          "hoverlabel": {
           "align": "left"
          },
          "hovermode": "closest",
          "mapbox": {
           "style": "light"
          },
          "paper_bgcolor": "white",
          "plot_bgcolor": "#E5ECF6",
          "polar": {
           "angularaxis": {
            "gridcolor": "white",
            "linecolor": "white",
            "ticks": ""
           },
           "bgcolor": "#E5ECF6",
           "radialaxis": {
            "gridcolor": "white",
            "linecolor": "white",
            "ticks": ""
           }
          },
          "scene": {
           "xaxis": {
            "backgroundcolor": "#E5ECF6",
            "gridcolor": "white",
            "gridwidth": 2,
            "linecolor": "white",
            "showbackground": true,
            "ticks": "",
            "zerolinecolor": "white"
           },
           "yaxis": {
            "backgroundcolor": "#E5ECF6",
            "gridcolor": "white",
            "gridwidth": 2,
            "linecolor": "white",
            "showbackground": true,
            "ticks": "",
            "zerolinecolor": "white"
           },
           "zaxis": {
            "backgroundcolor": "#E5ECF6",
            "gridcolor": "white",
            "gridwidth": 2,
            "linecolor": "white",
            "showbackground": true,
            "ticks": "",
            "zerolinecolor": "white"
           }
          },
          "shapedefaults": {
           "line": {
            "color": "#2a3f5f"
           }
          },
          "ternary": {
           "aaxis": {
            "gridcolor": "white",
            "linecolor": "white",
            "ticks": ""
           },
           "baxis": {
            "gridcolor": "white",
            "linecolor": "white",
            "ticks": ""
           },
           "bgcolor": "#E5ECF6",
           "caxis": {
            "gridcolor": "white",
            "linecolor": "white",
            "ticks": ""
           }
          },
          "title": {
           "x": 0.05
          },
          "xaxis": {
           "automargin": true,
           "gridcolor": "white",
           "linecolor": "white",
           "ticks": "",
           "title": {
            "standoff": 15
           },
           "zerolinecolor": "white",
           "zerolinewidth": 2
          },
          "yaxis": {
           "automargin": true,
           "gridcolor": "white",
           "linecolor": "white",
           "ticks": "",
           "title": {
            "standoff": 15
           },
           "zerolinecolor": "white",
           "zerolinewidth": 2
          }
         }
        },
        "title": {
         "font": {
          "color": "#4D5663"
         }
        },
        "xaxis": {
         "gridcolor": "#E1E5ED",
         "showgrid": true,
         "tickfont": {
          "color": "#4D5663"
         },
         "title": {
          "font": {
           "color": "#4D5663"
          },
          "text": ""
         },
         "zerolinecolor": "#E1E5ED"
        },
        "yaxis": {
         "gridcolor": "#E1E5ED",
         "showgrid": true,
         "tickfont": {
          "color": "#4D5663"
         },
         "title": {
          "font": {
           "color": "#4D5663"
          },
          "text": ""
         },
         "zerolinecolor": "#E1E5ED"
        }
       }
      },
      "text/html": [
       "<div>                            <div id=\"45e912d0-8a70-49d2-978e-b38a6fd6035c\" class=\"plotly-graph-div\" style=\"height:525px; width:100%;\"></div>            <script type=\"text/javascript\">                require([\"plotly\"], function(Plotly) {                    window.PLOTLYENV=window.PLOTLYENV || {};\n",
       "                    window.PLOTLYENV.BASE_URL='https://plot.ly';                                    if (document.getElementById(\"45e912d0-8a70-49d2-978e-b38a6fd6035c\")) {                    Plotly.newPlot(                        \"45e912d0-8a70-49d2-978e-b38a6fd6035c\",                        [{\"line\":{\"color\":\"rgba(255, 153, 51, 1.0)\",\"dash\":\"solid\",\"shape\":\"linear\",\"width\":1.3},\"marker\":{\"size\":12,\"symbol\":\"circle\"},\"mode\":\"markers\",\"name\":\"b\",\"text\":\"\",\"x\":[0.42121627329937006,0.7245419573442572,0.15536120064665615,0.06686550636343613,0.2624871576562833,0.32424884343544325,0.2411893135497446,0.13768360482733633,0.5162653511552181,0.42013200147606267,0.4518770525319127,0.795553130811094,0.0003515528841019355,0.6830678172849305,0.3228079941890707,0.011528520815582644,0.5004028982789152,0.7426565563134057,0.4320270833216011,0.2379686799191324,0.10034601365573637,0.5358009825131521,0.8638858796503842,0.007983535641365225,0.5038125501267138,0.055030007324728736,0.5379582094344201,0.26155926084651715,0.8128809513645404,0.020820512346902742,0.9252500017934385,0.8917802984101614,0.1713279145571588,0.8223447420322637,0.7436525195187459,0.7991714003463427,0.5369925996409672,0.830391951400645,0.4622183202604244,0.29750210835443014,0.7949958680174501,0.0041671837274260826,0.49969740975661003,0.1920771953405941,0.03491737823712815,0.38511265613826307,0.7297014982369133,0.7222420630365339,0.538465425280369,0.6309583669606986,0.26811178840554395,0.5357416856983952,0.19017154616006782,0.8392035815723458,0.9075017914864345,0.1593183979075138,0.024564663606259862,0.9760304793448512,0.14872556040985097,0.7585909920932047,0.30687110516355354,0.9855050864443268,0.16394437319476596,0.8784463023868646,0.8454826655520494,0.40759104849052663,0.06914257767719656,0.057060426841533785,0.1480017748814424,0.19038539781481167,0.3212267481275759,0.7981523738960862,0.6743955201652911,0.09425478708530488,0.1751797300534047,0.2789194485833547,0.3413843714309356,0.04600905336889671,0.4102388331884018,0.9573259407160298,0.5743728481310455,0.42616251327861543,0.7263958032946709,0.48412557782924004,0.7358568358109937,0.2768478744699071,0.3970930437197987,0.9880837479169828,0.9406294787572743,0.47837625986207066,0.15132984104777336,0.49666540586483554,0.27736137348949497,0.8007612827424266,0.27498314332261986,0.6028684860659178,0.5044233664833256,0.7937550736874817,0.6984723210259919,0.25590016756358647,0.5829208765889428,0.6184484042562405,0.9704600973944093,0.8503708486381039,0.053980455343413114,0.8244019525890707,0.5095405592555222,0.05608555803735804,0.82197104558219,0.4368868594894709,0.6786876673975878,0.33973981465073666,0.42084822130633026,0.029497356475978842,0.05269432172206612,0.3331408731218819,0.6992590777160607,0.164932257509944,0.2897621696989824,0.16483500792870864,0.26925179050267023,0.09218078796647122,0.6355385277906846,0.6597773428394924,0.6834033084385186,0.5413741139836828,0.5390691809736452,0.21313286351348926,0.39994045820874224,0.8898486285715802,0.5681905539781319,0.42431383156786584,0.6822758897482306,0.41590872106788324,0.8281082120770169,0.15140933917265953,0.6406640041219318,0.3162033599723034,0.10201287157729522,0.4251896679092909,0.46914449127179847,0.59481681555125,0.6596600272958683,0.6529762600261315,0.5455816115996037,0.31393476075363935,0.6621289026407646,0.42166377177016345,0.7485907379425286,0.4072131717366759,0.566304041586583,0.906277330059646,0.8533269835613996,0.3442159660635876,0.9893877811204922,0.0055311670362298004,0.8805799745151467,0.9448960041193339,0.12425300087851343,0.1708164097510032,0.8564506126228222,0.16705980765370043,0.49927268114642265,0.5458817510601583,0.8330050871847595,0.785291106338764,0.04844496637827245,0.28118915820877666,0.5041438046956245,0.14275249963182568,0.12915059456269118,0.8118727721179944,0.670269985257146,0.21053537583818382,0.9988433483798315,0.4180959602507418,0.09997893642911349,0.5961708491638057,0.577487080054161,0.6690101142370158,0.7488030110998561,0.7071608907990218,0.01960392083234752,0.4346873813309452,0.18087168385575192,0.4727398466329855,0.9154408155678929,0.06469351795780498,0.4824689165402032,0.6182671789876105,0.9121333186792299,0.4720604555882152,0.7356800112535089,0.3443547523966566,0.055298535355247536,0.8570452780878647,0.9948392287194394,0.1410375319712739,0.8749245287765834,0.3558447128434218,0.822794622558294,0.003209836944832567,0.6251729449634488,0.44231390600957865,0.5645705101807883,0.37286027299876956,0.3924191475876174,0.6784480107097609,0.7219381061617793,0.20325256310105477,0.44967683777105216,0.33654859734503983,0.5643148274849311,0.47009181711852743,0.8660654165648543,0.8385150451742506,0.3618644027346192,0.5502785879961303,0.9973774064680258,0.7584747037570401,0.8288870885211556,0.7637087690976282,0.30384037236294115,0.2621689528103497,0.40547737894502356,0.23079757928104927,0.6565603152121313,0.8008239372303043,0.5891494909478747,0.234167829090549,0.6766529726187701,0.7279396179180803,0.442368648262928,0.13025329126719642,0.3313995668472183,0.03007006179850813,0.5354729112262643,0.18520290997171718,0.004446073138945961,0.6404036732711942,0.7392590698332681,0.5035614177751195,0.6890762889769331,0.41077363388901345,0.4269995079454789,0.3678895743155144,0.060955811063890475,0.4638014958097202,0.28134482809938777,0.12911945895337185,0.9317750739974809,0.9221353975830487,0.6714678207344313,0.4564946878116817,0.625751819376491,0.3842164059287636,0.0328110381198764,0.5454371809329455,0.1741973605054522,0.09891044339618149,0.23805732365163013,0.733634859804977,0.934508020612893,0.9532077646882406,0.6180932723943503,0.5538565952491025,0.7975056240651582,0.11944608385245647,0.2798660926351999,0.4414512198043318,0.9068346216927867,0.09924434724134823,0.5629459138927876,0.8927777654772798,0.11496031790396655,0.8622433546089056,0.2855069541952563,0.6198337859468181,0.5126995272882329,0.4240312210511127,0.8373641573965753,0.09330849597576851,0.08530162147611975,0.23729339347243517,0.10950462233836478,0.9816678787529786,0.936961707362646,0.11047428672441728,0.5432874911423741,0.5162303905223605,0.7864383314320358,0.7281591897117122,0.1973653545830486,0.05687362238602345,0.4739751141394757,0.029248024810064055,0.29591701837729445,0.7002161384367424,0.5960101995611436,0.011617393529922526],\"y\":[0.7280362806102908,0.832953496321121,0.44765046142241816,0.343237546541336,0.5221588985434374,0.5762085838485177,0.40515407695791394,0.8745475065349337,0.06962053825328596,0.2624763084578652,0.5210145835818372,0.6050282074982662,0.6210094088874245,0.9951247867058649,0.3210649777988225,0.05878228323893109,0.6389365274728224,0.8253038816808557,0.51540809069414,0.5196816550439172,0.946647889056718,0.39475155431117204,0.8620707600718026,0.43471778367715586,0.5469624709285924,0.1148072992332777,0.3055255868368282,0.5978303146182881,0.8998659891280428,0.6535696650654723,0.17710487686972354,0.3427798228950413,0.876586016130961,0.32001528540013036,0.15515894849378875,0.23516579226477496,0.3110626178405248,0.6925525059800656,0.4575483123982058,0.5735054108667882,0.8986617110117883,0.9334137744093542,0.607045971358165,0.33278465190223094,0.02779405198209095,0.9118913944671009,0.3237665920432773,0.9162893130346489,0.2642238692968787,0.03555234654428152,0.820410049201667,0.9415227559377709,0.9218814192620565,0.35010014362335073,0.7312110703025435,0.42604857278910413,0.16841594598291898,0.42831567410389904,0.5456372503568429,0.9108494820343216,0.2977165934884115,0.8224496492837918,0.07252486933963387,0.216723604768282,0.5420603009828963,0.4519041005920893,0.2696559357681072,0.2037182338527347,0.9736356837047957,0.9969219823962148,0.22362016398494777,0.9214207565315675,0.8424460494670329,0.8459598231799375,0.3506650084712689,0.425711121312662,0.5993908810201609,0.19149601587241372,0.07181550231342526,0.02136366449472682,0.20955866371471654,0.44999248107983014,0.9765440600613207,0.8226108587101658,0.8092214769606129,0.43338883880168555,0.915727297971557,0.6569417962502233,0.18019163031603858,0.15244601852189166,0.040155528310009236,0.12238680571895633,0.32393523217114084,0.7893091093489077,0.5896844233375913,0.43172182999382047,0.0153075075256206,0.2672147033812833,0.8672484623254233,0.9672203124072071,0.9647008446429589,0.7142509821103781,0.5969748017269463,0.3853938138730094,0.6911467190368694,0.3643774931416298,0.8419644384008753,0.663667794277749,0.2534247980724659,0.030271664402281795,0.3164781997393089,0.5482168139022058,0.8188814558309816,0.8135615721326127,0.8281562250908552,0.15800412124471197,0.6653720860839117,0.8100876466993024,0.8076479641473785,0.9761331381570664,0.23859416108806564,0.4172789966745456,0.5713324380958652,0.613104796776425,0.6258591636977687,0.1345164028903234,0.5364848131372253,0.2361442940548002,0.7355223492659902,0.13399891656749585,0.759273039156942,0.2690083478047389,0.6211406852684733,0.14064067473285757,0.0447253516553785,0.9814327520578601,0.23731013407711998,0.7612855449250022,0.979727940824555,0.7450710840290887,0.23159929617861663,0.9964826717611994,0.7211285518333277,0.9005985809204141,0.9897640450644823,0.16077056409095125,0.3279292590942763,0.34267983975701655,0.19135371263308376,0.2565587591161975,0.610671304294213,0.13960066133134186,0.2612809016208628,0.8270621015802572,0.7759332854916229,0.37922832880916946,0.04267801822858097,0.659766305685424,0.8525396508107412,0.22815666744065988,0.3226909415316037,0.016627827762835,0.21483687469332158,0.26158915549532846,0.16649320470048845,0.8810425569118945,0.24074928473815393,0.5646742433059682,0.1897351683450369,0.41304094038127515,0.7437214617197974,0.231188648815304,0.1237914964548541,0.08005042584238653,0.9873898585222595,0.21443508131178746,0.9486872352186672,0.8902514833367846,0.7714512589339986,0.16842630237978085,0.7151142631828858,0.4407850491988361,0.1367751994074069,0.9003677321980902,0.9446407517833434,0.6464489704428157,0.73300349383005,0.8812493742108138,0.6563886165840898,0.9808591484690796,0.1546457401625918,0.7990415681065408,0.019707150363221793,0.6638500386270813,0.6724649949139959,0.2923556056847596,0.2108165750866816,0.15077261273731857,0.8545261507127803,0.09831105243523353,0.7321451317102965,0.04197438988175428,0.922111659809259,0.21687095364997278,0.43370285137943376,0.19337773784634515,0.42308166913280776,0.1501968134874213,0.8740941772208243,0.38694491640817386,0.5224775103458866,0.6836582472937142,0.38162073608276204,0.031946731000244366,0.18896277994744304,0.13115155004285872,0.6214702013552724,0.01144018803542357,0.8122412781990873,0.8224440457049683,0.6309904736238926,0.9584725562951159,0.5516966505125769,0.4923011051912173,0.21745067229188642,0.05152821137650865,0.8333861098744418,0.788313036424906,0.27120445382041736,0.6173393033149108,0.5195089546175985,0.3884173200667047,0.49501262125009693,0.12446179262847956,0.1915986312630511,0.33213730031068067,0.6601059856522459,0.47643049595368214,0.5344827564953569,0.37398406015514385,0.9184843700822447,0.9133349323951138,0.637196011149816,0.4483532974800277,0.3461244856939051,0.528196045395319,0.058247904023234987,0.6845224439601616,0.20529425577095006,0.7744583976171876,0.4742264306977937,0.032208377423835644,0.5127976233056881,0.01608764736936641,0.9125004060330133,0.9443961085563272,0.3232036353650306,0.24219766658339037,0.3358015196970191,0.14862762106399385,0.8580398418424201,0.7219607640539403,0.34627073569329836,0.15495221385374736,0.16731034107806397,0.2120047699351334,0.4066696488109629,0.016259718345525975,0.771674804897317,0.09025559939409555,0.25226104798556703,0.9424871259601847,0.9880384670062461,0.4611483709951655,0.1508222983160552,0.3822126430698197,0.7864910938926715,0.4919099257911109,0.7735464711554907,0.7700216822142629,0.6221519025516056,0.7913681706507943,0.9515142925525176,0.1501776266184246,0.48393779036375273,0.9364992224621935,0.4276446556782272,0.9175980351329021,0.7964537179347291,0.04211064072119641,0.1693418440192802,0.31299924352291975,0.06521787605765117,0.8065675262862932,0.39940231976887364,0.9311178255973086,0.46959144004517683,0.3919274139467085,0.2813303762528232,0.1118181702716643],\"type\":\"scatter\"}],                        {\"legend\":{\"bgcolor\":\"#F5F6F9\",\"font\":{\"color\":\"#4D5663\"}},\"paper_bgcolor\":\"#F5F6F9\",\"plot_bgcolor\":\"#F5F6F9\",\"template\":{\"data\":{\"barpolar\":[{\"marker\":{\"line\":{\"color\":\"#E5ECF6\",\"width\":0.5},\"pattern\":{\"fillmode\":\"overlay\",\"size\":10,\"solidity\":0.2}},\"type\":\"barpolar\"}],\"bar\":[{\"error_x\":{\"color\":\"#2a3f5f\"},\"error_y\":{\"color\":\"#2a3f5f\"},\"marker\":{\"line\":{\"color\":\"#E5ECF6\",\"width\":0.5},\"pattern\":{\"fillmode\":\"overlay\",\"size\":10,\"solidity\":0.2}},\"type\":\"bar\"}],\"carpet\":[{\"aaxis\":{\"endlinecolor\":\"#2a3f5f\",\"gridcolor\":\"white\",\"linecolor\":\"white\",\"minorgridcolor\":\"white\",\"startlinecolor\":\"#2a3f5f\"},\"baxis\":{\"endlinecolor\":\"#2a3f5f\",\"gridcolor\":\"white\",\"linecolor\":\"white\",\"minorgridcolor\":\"white\",\"startlinecolor\":\"#2a3f5f\"},\"type\":\"carpet\"}],\"choropleth\":[{\"colorbar\":{\"outlinewidth\":0,\"ticks\":\"\"},\"type\":\"choropleth\"}],\"contourcarpet\":[{\"colorbar\":{\"outlinewidth\":0,\"ticks\":\"\"},\"type\":\"contourcarpet\"}],\"contour\":[{\"colorbar\":{\"outlinewidth\":0,\"ticks\":\"\"},\"colorscale\":[[0.0,\"#0d0887\"],[0.1111111111111111,\"#46039f\"],[0.2222222222222222,\"#7201a8\"],[0.3333333333333333,\"#9c179e\"],[0.4444444444444444,\"#bd3786\"],[0.5555555555555556,\"#d8576b\"],[0.6666666666666666,\"#ed7953\"],[0.7777777777777778,\"#fb9f3a\"],[0.8888888888888888,\"#fdca26\"],[1.0,\"#f0f921\"]],\"type\":\"contour\"}],\"heatmapgl\":[{\"colorbar\":{\"outlinewidth\":0,\"ticks\":\"\"},\"colorscale\":[[0.0,\"#0d0887\"],[0.1111111111111111,\"#46039f\"],[0.2222222222222222,\"#7201a8\"],[0.3333333333333333,\"#9c179e\"],[0.4444444444444444,\"#bd3786\"],[0.5555555555555556,\"#d8576b\"],[0.6666666666666666,\"#ed7953\"],[0.7777777777777778,\"#fb9f3a\"],[0.8888888888888888,\"#fdca26\"],[1.0,\"#f0f921\"]],\"type\":\"heatmapgl\"}],\"heatmap\":[{\"colorbar\":{\"outlinewidth\":0,\"ticks\":\"\"},\"colorscale\":[[0.0,\"#0d0887\"],[0.1111111111111111,\"#46039f\"],[0.2222222222222222,\"#7201a8\"],[0.3333333333333333,\"#9c179e\"],[0.4444444444444444,\"#bd3786\"],[0.5555555555555556,\"#d8576b\"],[0.6666666666666666,\"#ed7953\"],[0.7777777777777778,\"#fb9f3a\"],[0.8888888888888888,\"#fdca26\"],[1.0,\"#f0f921\"]],\"type\":\"heatmap\"}],\"histogram2dcontour\":[{\"colorbar\":{\"outlinewidth\":0,\"ticks\":\"\"},\"colorscale\":[[0.0,\"#0d0887\"],[0.1111111111111111,\"#46039f\"],[0.2222222222222222,\"#7201a8\"],[0.3333333333333333,\"#9c179e\"],[0.4444444444444444,\"#bd3786\"],[0.5555555555555556,\"#d8576b\"],[0.6666666666666666,\"#ed7953\"],[0.7777777777777778,\"#fb9f3a\"],[0.8888888888888888,\"#fdca26\"],[1.0,\"#f0f921\"]],\"type\":\"histogram2dcontour\"}],\"histogram2d\":[{\"colorbar\":{\"outlinewidth\":0,\"ticks\":\"\"},\"colorscale\":[[0.0,\"#0d0887\"],[0.1111111111111111,\"#46039f\"],[0.2222222222222222,\"#7201a8\"],[0.3333333333333333,\"#9c179e\"],[0.4444444444444444,\"#bd3786\"],[0.5555555555555556,\"#d8576b\"],[0.6666666666666666,\"#ed7953\"],[0.7777777777777778,\"#fb9f3a\"],[0.8888888888888888,\"#fdca26\"],[1.0,\"#f0f921\"]],\"type\":\"histogram2d\"}],\"histogram\":[{\"marker\":{\"pattern\":{\"fillmode\":\"overlay\",\"size\":10,\"solidity\":0.2}},\"type\":\"histogram\"}],\"mesh3d\":[{\"colorbar\":{\"outlinewidth\":0,\"ticks\":\"\"},\"type\":\"mesh3d\"}],\"parcoords\":[{\"line\":{\"colorbar\":{\"outlinewidth\":0,\"ticks\":\"\"}},\"type\":\"parcoords\"}],\"pie\":[{\"automargin\":true,\"type\":\"pie\"}],\"scatter3d\":[{\"line\":{\"colorbar\":{\"outlinewidth\":0,\"ticks\":\"\"}},\"marker\":{\"colorbar\":{\"outlinewidth\":0,\"ticks\":\"\"}},\"type\":\"scatter3d\"}],\"scattercarpet\":[{\"marker\":{\"colorbar\":{\"outlinewidth\":0,\"ticks\":\"\"}},\"type\":\"scattercarpet\"}],\"scattergeo\":[{\"marker\":{\"colorbar\":{\"outlinewidth\":0,\"ticks\":\"\"}},\"type\":\"scattergeo\"}],\"scattergl\":[{\"marker\":{\"colorbar\":{\"outlinewidth\":0,\"ticks\":\"\"}},\"type\":\"scattergl\"}],\"scattermapbox\":[{\"marker\":{\"colorbar\":{\"outlinewidth\":0,\"ticks\":\"\"}},\"type\":\"scattermapbox\"}],\"scatterpolargl\":[{\"marker\":{\"colorbar\":{\"outlinewidth\":0,\"ticks\":\"\"}},\"type\":\"scatterpolargl\"}],\"scatterpolar\":[{\"marker\":{\"colorbar\":{\"outlinewidth\":0,\"ticks\":\"\"}},\"type\":\"scatterpolar\"}],\"scatter\":[{\"fillpattern\":{\"fillmode\":\"overlay\",\"size\":10,\"solidity\":0.2},\"type\":\"scatter\"}],\"scatterternary\":[{\"marker\":{\"colorbar\":{\"outlinewidth\":0,\"ticks\":\"\"}},\"type\":\"scatterternary\"}],\"surface\":[{\"colorbar\":{\"outlinewidth\":0,\"ticks\":\"\"},\"colorscale\":[[0.0,\"#0d0887\"],[0.1111111111111111,\"#46039f\"],[0.2222222222222222,\"#7201a8\"],[0.3333333333333333,\"#9c179e\"],[0.4444444444444444,\"#bd3786\"],[0.5555555555555556,\"#d8576b\"],[0.6666666666666666,\"#ed7953\"],[0.7777777777777778,\"#fb9f3a\"],[0.8888888888888888,\"#fdca26\"],[1.0,\"#f0f921\"]],\"type\":\"surface\"}],\"table\":[{\"cells\":{\"fill\":{\"color\":\"#EBF0F8\"},\"line\":{\"color\":\"white\"}},\"header\":{\"fill\":{\"color\":\"#C8D4E3\"},\"line\":{\"color\":\"white\"}},\"type\":\"table\"}]},\"layout\":{\"annotationdefaults\":{\"arrowcolor\":\"#2a3f5f\",\"arrowhead\":0,\"arrowwidth\":1},\"autotypenumbers\":\"strict\",\"coloraxis\":{\"colorbar\":{\"outlinewidth\":0,\"ticks\":\"\"}},\"colorscale\":{\"diverging\":[[0,\"#8e0152\"],[0.1,\"#c51b7d\"],[0.2,\"#de77ae\"],[0.3,\"#f1b6da\"],[0.4,\"#fde0ef\"],[0.5,\"#f7f7f7\"],[0.6,\"#e6f5d0\"],[0.7,\"#b8e186\"],[0.8,\"#7fbc41\"],[0.9,\"#4d9221\"],[1,\"#276419\"]],\"sequential\":[[0.0,\"#0d0887\"],[0.1111111111111111,\"#46039f\"],[0.2222222222222222,\"#7201a8\"],[0.3333333333333333,\"#9c179e\"],[0.4444444444444444,\"#bd3786\"],[0.5555555555555556,\"#d8576b\"],[0.6666666666666666,\"#ed7953\"],[0.7777777777777778,\"#fb9f3a\"],[0.8888888888888888,\"#fdca26\"],[1.0,\"#f0f921\"]],\"sequentialminus\":[[0.0,\"#0d0887\"],[0.1111111111111111,\"#46039f\"],[0.2222222222222222,\"#7201a8\"],[0.3333333333333333,\"#9c179e\"],[0.4444444444444444,\"#bd3786\"],[0.5555555555555556,\"#d8576b\"],[0.6666666666666666,\"#ed7953\"],[0.7777777777777778,\"#fb9f3a\"],[0.8888888888888888,\"#fdca26\"],[1.0,\"#f0f921\"]]},\"colorway\":[\"#636efa\",\"#EF553B\",\"#00cc96\",\"#ab63fa\",\"#FFA15A\",\"#19d3f3\",\"#FF6692\",\"#B6E880\",\"#FF97FF\",\"#FECB52\"],\"font\":{\"color\":\"#2a3f5f\"},\"geo\":{\"bgcolor\":\"white\",\"lakecolor\":\"white\",\"landcolor\":\"#E5ECF6\",\"showlakes\":true,\"showland\":true,\"subunitcolor\":\"white\"},\"hoverlabel\":{\"align\":\"left\"},\"hovermode\":\"closest\",\"mapbox\":{\"style\":\"light\"},\"paper_bgcolor\":\"white\",\"plot_bgcolor\":\"#E5ECF6\",\"polar\":{\"angularaxis\":{\"gridcolor\":\"white\",\"linecolor\":\"white\",\"ticks\":\"\"},\"bgcolor\":\"#E5ECF6\",\"radialaxis\":{\"gridcolor\":\"white\",\"linecolor\":\"white\",\"ticks\":\"\"}},\"scene\":{\"xaxis\":{\"backgroundcolor\":\"#E5ECF6\",\"gridcolor\":\"white\",\"gridwidth\":2,\"linecolor\":\"white\",\"showbackground\":true,\"ticks\":\"\",\"zerolinecolor\":\"white\"},\"yaxis\":{\"backgroundcolor\":\"#E5ECF6\",\"gridcolor\":\"white\",\"gridwidth\":2,\"linecolor\":\"white\",\"showbackground\":true,\"ticks\":\"\",\"zerolinecolor\":\"white\"},\"zaxis\":{\"backgroundcolor\":\"#E5ECF6\",\"gridcolor\":\"white\",\"gridwidth\":2,\"linecolor\":\"white\",\"showbackground\":true,\"ticks\":\"\",\"zerolinecolor\":\"white\"}},\"shapedefaults\":{\"line\":{\"color\":\"#2a3f5f\"}},\"ternary\":{\"aaxis\":{\"gridcolor\":\"white\",\"linecolor\":\"white\",\"ticks\":\"\"},\"baxis\":{\"gridcolor\":\"white\",\"linecolor\":\"white\",\"ticks\":\"\"},\"bgcolor\":\"#E5ECF6\",\"caxis\":{\"gridcolor\":\"white\",\"linecolor\":\"white\",\"ticks\":\"\"}},\"title\":{\"x\":0.05},\"xaxis\":{\"automargin\":true,\"gridcolor\":\"white\",\"linecolor\":\"white\",\"ticks\":\"\",\"title\":{\"standoff\":15},\"zerolinecolor\":\"white\",\"zerolinewidth\":2},\"yaxis\":{\"automargin\":true,\"gridcolor\":\"white\",\"linecolor\":\"white\",\"ticks\":\"\",\"title\":{\"standoff\":15},\"zerolinecolor\":\"white\",\"zerolinewidth\":2}}},\"title\":{\"font\":{\"color\":\"#4D5663\"}},\"xaxis\":{\"gridcolor\":\"#E1E5ED\",\"showgrid\":true,\"tickfont\":{\"color\":\"#4D5663\"},\"title\":{\"font\":{\"color\":\"#4D5663\"},\"text\":\"\"},\"zerolinecolor\":\"#E1E5ED\"},\"yaxis\":{\"gridcolor\":\"#E1E5ED\",\"showgrid\":true,\"tickfont\":{\"color\":\"#4D5663\"},\"title\":{\"font\":{\"color\":\"#4D5663\"},\"text\":\"\"},\"zerolinecolor\":\"#E1E5ED\"}},                        {\"showLink\": true, \"linkText\": \"Export to plot.ly\", \"plotlyServerURL\": \"https://plot.ly\", \"responsive\": true}                    ).then(function(){\n",
       "                            \n",
       "var gd = document.getElementById('45e912d0-8a70-49d2-978e-b38a6fd6035c');\n",
       "var x = new MutationObserver(function (mutations, observer) {{\n",
       "        var display = window.getComputedStyle(gd).display;\n",
       "        if (!display || display === 'none') {{\n",
       "            console.log([gd, 'removed!']);\n",
       "            Plotly.purge(gd);\n",
       "            observer.disconnect();\n",
       "        }}\n",
       "}});\n",
       "\n",
       "// Listen for the removal of the full notebook cells\n",
       "var notebookContainer = gd.closest('#notebook-container');\n",
       "if (notebookContainer) {{\n",
       "    x.observe(notebookContainer, {childList: true});\n",
       "}}\n",
       "\n",
       "// Listen for the clearing of the current output cell\n",
       "var outputEl = gd.closest('.output');\n",
       "if (outputEl) {{\n",
       "    x.observe(outputEl, {childList: true});\n",
       "}}\n",
       "\n",
       "                        })                };                });            </script>        </div>"
      ]
     },
     "metadata": {},
     "output_type": "display_data"
    }
   ],
   "source": [
    "df.iplot(x = 'a' ,y = 'b',mode = 'markers')"
   ]
  },
  {
   "cell_type": "code",
   "execution_count": 16,
   "id": "3c2b547e",
   "metadata": {},
   "outputs": [
    {
     "data": {
      "application/vnd.plotly.v1+json": {
       "config": {
        "linkText": "Export to plot.ly",
        "plotlyServerURL": "https://plot.ly",
        "showLink": true
       },
       "data": [
        {
         "boxpoints": false,
         "line": {
          "width": 1.3
         },
         "marker": {
          "color": "rgba(255, 153, 51, 1.0)"
         },
         "name": "a",
         "orientation": "v",
         "type": "box",
         "y": [
          0.42121627329937006,
          0.7245419573442572,
          0.15536120064665615,
          0.06686550636343613,
          0.2624871576562833,
          0.32424884343544325,
          0.2411893135497446,
          0.13768360482733633,
          0.5162653511552181,
          0.42013200147606267,
          0.4518770525319127,
          0.795553130811094,
          0.0003515528841019355,
          0.6830678172849305,
          0.3228079941890707,
          0.011528520815582644,
          0.5004028982789152,
          0.7426565563134057,
          0.4320270833216011,
          0.2379686799191324,
          0.10034601365573637,
          0.5358009825131521,
          0.8638858796503842,
          0.007983535641365225,
          0.5038125501267138,
          0.055030007324728736,
          0.5379582094344201,
          0.26155926084651715,
          0.8128809513645404,
          0.020820512346902742,
          0.9252500017934385,
          0.8917802984101614,
          0.1713279145571588,
          0.8223447420322637,
          0.7436525195187459,
          0.7991714003463427,
          0.5369925996409672,
          0.830391951400645,
          0.4622183202604244,
          0.29750210835443014,
          0.7949958680174501,
          0.0041671837274260826,
          0.49969740975661003,
          0.1920771953405941,
          0.03491737823712815,
          0.38511265613826307,
          0.7297014982369133,
          0.7222420630365339,
          0.538465425280369,
          0.6309583669606986,
          0.26811178840554395,
          0.5357416856983952,
          0.19017154616006782,
          0.8392035815723458,
          0.9075017914864345,
          0.1593183979075138,
          0.024564663606259862,
          0.9760304793448512,
          0.14872556040985097,
          0.7585909920932047,
          0.30687110516355354,
          0.9855050864443268,
          0.16394437319476596,
          0.8784463023868646,
          0.8454826655520494,
          0.40759104849052663,
          0.06914257767719656,
          0.057060426841533785,
          0.1480017748814424,
          0.19038539781481167,
          0.3212267481275759,
          0.7981523738960862,
          0.6743955201652911,
          0.09425478708530488,
          0.1751797300534047,
          0.2789194485833547,
          0.3413843714309356,
          0.04600905336889671,
          0.4102388331884018,
          0.9573259407160298,
          0.5743728481310455,
          0.42616251327861543,
          0.7263958032946709,
          0.48412557782924004,
          0.7358568358109937,
          0.2768478744699071,
          0.3970930437197987,
          0.9880837479169828,
          0.9406294787572743,
          0.47837625986207066,
          0.15132984104777336,
          0.49666540586483554,
          0.27736137348949497,
          0.8007612827424266,
          0.27498314332261986,
          0.6028684860659178,
          0.5044233664833256,
          0.7937550736874817,
          0.6984723210259919,
          0.25590016756358647,
          0.5829208765889428,
          0.6184484042562405,
          0.9704600973944093,
          0.8503708486381039,
          0.053980455343413114,
          0.8244019525890707,
          0.5095405592555222,
          0.05608555803735804,
          0.82197104558219,
          0.4368868594894709,
          0.6786876673975878,
          0.33973981465073666,
          0.42084822130633026,
          0.029497356475978842,
          0.05269432172206612,
          0.3331408731218819,
          0.6992590777160607,
          0.164932257509944,
          0.2897621696989824,
          0.16483500792870864,
          0.26925179050267023,
          0.09218078796647122,
          0.6355385277906846,
          0.6597773428394924,
          0.6834033084385186,
          0.5413741139836828,
          0.5390691809736452,
          0.21313286351348926,
          0.39994045820874224,
          0.8898486285715802,
          0.5681905539781319,
          0.42431383156786584,
          0.6822758897482306,
          0.41590872106788324,
          0.8281082120770169,
          0.15140933917265953,
          0.6406640041219318,
          0.3162033599723034,
          0.10201287157729522,
          0.4251896679092909,
          0.46914449127179847,
          0.59481681555125,
          0.6596600272958683,
          0.6529762600261315,
          0.5455816115996037,
          0.31393476075363935,
          0.6621289026407646,
          0.42166377177016345,
          0.7485907379425286,
          0.4072131717366759,
          0.566304041586583,
          0.906277330059646,
          0.8533269835613996,
          0.3442159660635876,
          0.9893877811204922,
          0.0055311670362298004,
          0.8805799745151467,
          0.9448960041193339,
          0.12425300087851343,
          0.1708164097510032,
          0.8564506126228222,
          0.16705980765370043,
          0.49927268114642265,
          0.5458817510601583,
          0.8330050871847595,
          0.785291106338764,
          0.04844496637827245,
          0.28118915820877666,
          0.5041438046956245,
          0.14275249963182568,
          0.12915059456269118,
          0.8118727721179944,
          0.670269985257146,
          0.21053537583818382,
          0.9988433483798315,
          0.4180959602507418,
          0.09997893642911349,
          0.5961708491638057,
          0.577487080054161,
          0.6690101142370158,
          0.7488030110998561,
          0.7071608907990218,
          0.01960392083234752,
          0.4346873813309452,
          0.18087168385575192,
          0.4727398466329855,
          0.9154408155678929,
          0.06469351795780498,
          0.4824689165402032,
          0.6182671789876105,
          0.9121333186792299,
          0.4720604555882152,
          0.7356800112535089,
          0.3443547523966566,
          0.055298535355247536,
          0.8570452780878647,
          0.9948392287194394,
          0.1410375319712739,
          0.8749245287765834,
          0.3558447128434218,
          0.822794622558294,
          0.003209836944832567,
          0.6251729449634488,
          0.44231390600957865,
          0.5645705101807883,
          0.37286027299876956,
          0.3924191475876174,
          0.6784480107097609,
          0.7219381061617793,
          0.20325256310105477,
          0.44967683777105216,
          0.33654859734503983,
          0.5643148274849311,
          0.47009181711852743,
          0.8660654165648543,
          0.8385150451742506,
          0.3618644027346192,
          0.5502785879961303,
          0.9973774064680258,
          0.7584747037570401,
          0.8288870885211556,
          0.7637087690976282,
          0.30384037236294115,
          0.2621689528103497,
          0.40547737894502356,
          0.23079757928104927,
          0.6565603152121313,
          0.8008239372303043,
          0.5891494909478747,
          0.234167829090549,
          0.6766529726187701,
          0.7279396179180803,
          0.442368648262928,
          0.13025329126719642,
          0.3313995668472183,
          0.03007006179850813,
          0.5354729112262643,
          0.18520290997171718,
          0.004446073138945961,
          0.6404036732711942,
          0.7392590698332681,
          0.5035614177751195,
          0.6890762889769331,
          0.41077363388901345,
          0.4269995079454789,
          0.3678895743155144,
          0.060955811063890475,
          0.4638014958097202,
          0.28134482809938777,
          0.12911945895337185,
          0.9317750739974809,
          0.9221353975830487,
          0.6714678207344313,
          0.4564946878116817,
          0.625751819376491,
          0.3842164059287636,
          0.0328110381198764,
          0.5454371809329455,
          0.1741973605054522,
          0.09891044339618149,
          0.23805732365163013,
          0.733634859804977,
          0.934508020612893,
          0.9532077646882406,
          0.6180932723943503,
          0.5538565952491025,
          0.7975056240651582,
          0.11944608385245647,
          0.2798660926351999,
          0.4414512198043318,
          0.9068346216927867,
          0.09924434724134823,
          0.5629459138927876,
          0.8927777654772798,
          0.11496031790396655,
          0.8622433546089056,
          0.2855069541952563,
          0.6198337859468181,
          0.5126995272882329,
          0.4240312210511127,
          0.8373641573965753,
          0.09330849597576851,
          0.08530162147611975,
          0.23729339347243517,
          0.10950462233836478,
          0.9816678787529786,
          0.936961707362646,
          0.11047428672441728,
          0.5432874911423741,
          0.5162303905223605,
          0.7864383314320358,
          0.7281591897117122,
          0.1973653545830486,
          0.05687362238602345,
          0.4739751141394757,
          0.029248024810064055,
          0.29591701837729445,
          0.7002161384367424,
          0.5960101995611436,
          0.011617393529922526
         ]
        },
        {
         "boxpoints": false,
         "line": {
          "width": 1.3
         },
         "marker": {
          "color": "rgba(55, 128, 191, 1.0)"
         },
         "name": "b",
         "orientation": "v",
         "type": "box",
         "y": [
          0.7280362806102908,
          0.832953496321121,
          0.44765046142241816,
          0.343237546541336,
          0.5221588985434374,
          0.5762085838485177,
          0.40515407695791394,
          0.8745475065349337,
          0.06962053825328596,
          0.2624763084578652,
          0.5210145835818372,
          0.6050282074982662,
          0.6210094088874245,
          0.9951247867058649,
          0.3210649777988225,
          0.05878228323893109,
          0.6389365274728224,
          0.8253038816808557,
          0.51540809069414,
          0.5196816550439172,
          0.946647889056718,
          0.39475155431117204,
          0.8620707600718026,
          0.43471778367715586,
          0.5469624709285924,
          0.1148072992332777,
          0.3055255868368282,
          0.5978303146182881,
          0.8998659891280428,
          0.6535696650654723,
          0.17710487686972354,
          0.3427798228950413,
          0.876586016130961,
          0.32001528540013036,
          0.15515894849378875,
          0.23516579226477496,
          0.3110626178405248,
          0.6925525059800656,
          0.4575483123982058,
          0.5735054108667882,
          0.8986617110117883,
          0.9334137744093542,
          0.607045971358165,
          0.33278465190223094,
          0.02779405198209095,
          0.9118913944671009,
          0.3237665920432773,
          0.9162893130346489,
          0.2642238692968787,
          0.03555234654428152,
          0.820410049201667,
          0.9415227559377709,
          0.9218814192620565,
          0.35010014362335073,
          0.7312110703025435,
          0.42604857278910413,
          0.16841594598291898,
          0.42831567410389904,
          0.5456372503568429,
          0.9108494820343216,
          0.2977165934884115,
          0.8224496492837918,
          0.07252486933963387,
          0.216723604768282,
          0.5420603009828963,
          0.4519041005920893,
          0.2696559357681072,
          0.2037182338527347,
          0.9736356837047957,
          0.9969219823962148,
          0.22362016398494777,
          0.9214207565315675,
          0.8424460494670329,
          0.8459598231799375,
          0.3506650084712689,
          0.425711121312662,
          0.5993908810201609,
          0.19149601587241372,
          0.07181550231342526,
          0.02136366449472682,
          0.20955866371471654,
          0.44999248107983014,
          0.9765440600613207,
          0.8226108587101658,
          0.8092214769606129,
          0.43338883880168555,
          0.915727297971557,
          0.6569417962502233,
          0.18019163031603858,
          0.15244601852189166,
          0.040155528310009236,
          0.12238680571895633,
          0.32393523217114084,
          0.7893091093489077,
          0.5896844233375913,
          0.43172182999382047,
          0.0153075075256206,
          0.2672147033812833,
          0.8672484623254233,
          0.9672203124072071,
          0.9647008446429589,
          0.7142509821103781,
          0.5969748017269463,
          0.3853938138730094,
          0.6911467190368694,
          0.3643774931416298,
          0.8419644384008753,
          0.663667794277749,
          0.2534247980724659,
          0.030271664402281795,
          0.3164781997393089,
          0.5482168139022058,
          0.8188814558309816,
          0.8135615721326127,
          0.8281562250908552,
          0.15800412124471197,
          0.6653720860839117,
          0.8100876466993024,
          0.8076479641473785,
          0.9761331381570664,
          0.23859416108806564,
          0.4172789966745456,
          0.5713324380958652,
          0.613104796776425,
          0.6258591636977687,
          0.1345164028903234,
          0.5364848131372253,
          0.2361442940548002,
          0.7355223492659902,
          0.13399891656749585,
          0.759273039156942,
          0.2690083478047389,
          0.6211406852684733,
          0.14064067473285757,
          0.0447253516553785,
          0.9814327520578601,
          0.23731013407711998,
          0.7612855449250022,
          0.979727940824555,
          0.7450710840290887,
          0.23159929617861663,
          0.9964826717611994,
          0.7211285518333277,
          0.9005985809204141,
          0.9897640450644823,
          0.16077056409095125,
          0.3279292590942763,
          0.34267983975701655,
          0.19135371263308376,
          0.2565587591161975,
          0.610671304294213,
          0.13960066133134186,
          0.2612809016208628,
          0.8270621015802572,
          0.7759332854916229,
          0.37922832880916946,
          0.04267801822858097,
          0.659766305685424,
          0.8525396508107412,
          0.22815666744065988,
          0.3226909415316037,
          0.016627827762835,
          0.21483687469332158,
          0.26158915549532846,
          0.16649320470048845,
          0.8810425569118945,
          0.24074928473815393,
          0.5646742433059682,
          0.1897351683450369,
          0.41304094038127515,
          0.7437214617197974,
          0.231188648815304,
          0.1237914964548541,
          0.08005042584238653,
          0.9873898585222595,
          0.21443508131178746,
          0.9486872352186672,
          0.8902514833367846,
          0.7714512589339986,
          0.16842630237978085,
          0.7151142631828858,
          0.4407850491988361,
          0.1367751994074069,
          0.9003677321980902,
          0.9446407517833434,
          0.6464489704428157,
          0.73300349383005,
          0.8812493742108138,
          0.6563886165840898,
          0.9808591484690796,
          0.1546457401625918,
          0.7990415681065408,
          0.019707150363221793,
          0.6638500386270813,
          0.6724649949139959,
          0.2923556056847596,
          0.2108165750866816,
          0.15077261273731857,
          0.8545261507127803,
          0.09831105243523353,
          0.7321451317102965,
          0.04197438988175428,
          0.922111659809259,
          0.21687095364997278,
          0.43370285137943376,
          0.19337773784634515,
          0.42308166913280776,
          0.1501968134874213,
          0.8740941772208243,
          0.38694491640817386,
          0.5224775103458866,
          0.6836582472937142,
          0.38162073608276204,
          0.031946731000244366,
          0.18896277994744304,
          0.13115155004285872,
          0.6214702013552724,
          0.01144018803542357,
          0.8122412781990873,
          0.8224440457049683,
          0.6309904736238926,
          0.9584725562951159,
          0.5516966505125769,
          0.4923011051912173,
          0.21745067229188642,
          0.05152821137650865,
          0.8333861098744418,
          0.788313036424906,
          0.27120445382041736,
          0.6173393033149108,
          0.5195089546175985,
          0.3884173200667047,
          0.49501262125009693,
          0.12446179262847956,
          0.1915986312630511,
          0.33213730031068067,
          0.6601059856522459,
          0.47643049595368214,
          0.5344827564953569,
          0.37398406015514385,
          0.9184843700822447,
          0.9133349323951138,
          0.637196011149816,
          0.4483532974800277,
          0.3461244856939051,
          0.528196045395319,
          0.058247904023234987,
          0.6845224439601616,
          0.20529425577095006,
          0.7744583976171876,
          0.4742264306977937,
          0.032208377423835644,
          0.5127976233056881,
          0.01608764736936641,
          0.9125004060330133,
          0.9443961085563272,
          0.3232036353650306,
          0.24219766658339037,
          0.3358015196970191,
          0.14862762106399385,
          0.8580398418424201,
          0.7219607640539403,
          0.34627073569329836,
          0.15495221385374736,
          0.16731034107806397,
          0.2120047699351334,
          0.4066696488109629,
          0.016259718345525975,
          0.771674804897317,
          0.09025559939409555,
          0.25226104798556703,
          0.9424871259601847,
          0.9880384670062461,
          0.4611483709951655,
          0.1508222983160552,
          0.3822126430698197,
          0.7864910938926715,
          0.4919099257911109,
          0.7735464711554907,
          0.7700216822142629,
          0.6221519025516056,
          0.7913681706507943,
          0.9515142925525176,
          0.1501776266184246,
          0.48393779036375273,
          0.9364992224621935,
          0.4276446556782272,
          0.9175980351329021,
          0.7964537179347291,
          0.04211064072119641,
          0.1693418440192802,
          0.31299924352291975,
          0.06521787605765117,
          0.8065675262862932,
          0.39940231976887364,
          0.9311178255973086,
          0.46959144004517683,
          0.3919274139467085,
          0.2813303762528232,
          0.1118181702716643
         ]
        },
        {
         "boxpoints": false,
         "line": {
          "width": 1.3
         },
         "marker": {
          "color": "rgba(50, 171, 96, 1.0)"
         },
         "name": "c",
         "orientation": "v",
         "type": "box",
         "y": [
          0.23845752331372994,
          0.3281580893203795,
          0.27242141616182824,
          0.15748963317993936,
          0.6271646705525934,
          0.27364176138055396,
          0.27787347134350115,
          0.9254233594171121,
          0.3406350177617027,
          0.31227421732400096,
          0.4987783127291814,
          0.8714700722846839,
          0.6794699608577538,
          0.2487695259133278,
          0.578182964482857,
          0.6828257588938668,
          0.24194403560539668,
          0.43322366776955346,
          0.4305065429552922,
          0.9776632159640539,
          0.804084097207599,
          0.07810476829766866,
          0.5704651028646044,
          0.6177997339903127,
          0.20924336221690631,
          0.8812420780153,
          0.28393369502636123,
          0.42634596463876895,
          0.2901239221743245,
          0.19439504223642778,
          0.8961662652669047,
          0.5370477570401611,
          0.46824866110548213,
          0.2731550004183746,
          0.9188930831735009,
          0.8897718389911895,
          0.7139348352146226,
          0.2570638040141099,
          0.8359441244082537,
          0.6273951284217114,
          0.08398952394739667,
          0.4030103467037537,
          0.6022896553425994,
          0.9265399914827954,
          0.5064362340781022,
          0.3870887809385394,
          0.9501677438248587,
          0.04608063263664097,
          0.9109059760594572,
          0.9684780342213851,
          0.7513572288519,
          0.9619519504718341,
          0.23692474335385716,
          0.26742965573084443,
          0.6270453234143765,
          0.3842277215774389,
          0.3111722918749009,
          0.8031725824446098,
          0.477764372024194,
          0.4712330152574161,
          0.36955124000951256,
          0.0872935724417302,
          0.34205374251580856,
          0.6654844988161188,
          0.9078035793733382,
          0.18332953727140622,
          0.7790493524641535,
          0.6526899747705752,
          0.033724215447455075,
          0.7801894790993468,
          0.9435434508944331,
          0.41800733127496315,
          0.9059654755593279,
          0.7919162336012415,
          0.9251206092936447,
          0.19575032760711097,
          0.7655677240207137,
          0.06150493438172333,
          0.3006319037195,
          0.6379480896876726,
          0.014282793224881463,
          0.3323163638357397,
          0.9949697849290032,
          0.3625674545403502,
          0.6374939453956827,
          0.997211594190311,
          0.6293285807071304,
          0.9007162662361659,
          0.8628849675569291,
          0.6059023572897533,
          0.682296976865852,
          0.02010195036527407,
          0.5996827253076475,
          0.565081508488165,
          0.6457210815329507,
          0.4475389405187429,
          0.72834928882619,
          0.8463224656413294,
          0.2641416745512488,
          0.2279561573314428,
          0.8327193850431176,
          0.6445621588221092,
          0.8438950681451828,
          0.45425807529829454,
          0.016980675119445676,
          0.31548394812455516,
          0.3502873002118243,
          0.8742511555648853,
          0.5382898971573333,
          0.678143944432168,
          0.8852893734861306,
          0.9966684434388722,
          0.44339741901571494,
          0.4164768521420774,
          0.037855658485755894,
          0.02511583031639164,
          0.6052174365147303,
          0.9099579322591439,
          0.07950287986455584,
          0.9243252529926981,
          0.952545933647582,
          0.13124022158895388,
          0.12804010202323624,
          0.033302492397984884,
          0.10533908530114544,
          0.831224900094229,
          0.3110774171205891,
          0.8629041153356085,
          0.6965715356370522,
          0.9565889512439872,
          0.13728627065684973,
          0.2906906003430131,
          0.6265428494996383,
          0.09186959177376708,
          0.6437233491546799,
          0.5722844336283428,
          0.4740200000303111,
          0.07177722251208807,
          0.2644561236175448,
          0.49606121241210555,
          0.46063046331477764,
          0.4208515873329832,
          0.1520552836389798,
          0.9660167529278008,
          0.8300465591714264,
          0.40862341137591673,
          0.34280011274231115,
          0.2903601835666221,
          0.4873981048865029,
          0.5897100081274155,
          0.4179246949589446,
          0.1067782426545083,
          0.2929516433714814,
          0.9342129136268877,
          0.21613142073404656,
          0.4925091709556073,
          0.6860867397654464,
          0.028761041182961078,
          0.042391478752491274,
          0.6409700734478617,
          0.8041575033948447,
          0.4834171175192905,
          0.6374705204802782,
          0.2788391485323015,
          0.4023580980241296,
          0.6814126129758585,
          0.4803672465964949,
          0.9802227341032596,
          0.01263945214403106,
          0.325001269375512,
          0.3430374581803104,
          0.2806070887744123,
          0.43299472435925834,
          0.4417597693896328,
          0.37229289588240067,
          0.42895448946476655,
          0.10156094673293337,
          0.15907296263516058,
          0.9365955813030379,
          0.6294720537519882,
          0.45714006871394264,
          0.5516790869541149,
          0.03672245073882052,
          0.1587357621390333,
          0.4650363902162835,
          0.025510016060898977,
          0.03753925494735311,
          0.03114126014749896,
          0.28404045834240776,
          0.5635790087886443,
          0.9718860679274415,
          0.87575181465294,
          0.24400653928676885,
          0.8928789993873855,
          0.6636648807089234,
          0.5771259013724186,
          0.09157255176135004,
          0.6011087336713753,
          0.48986752668447286,
          0.16989176075936452,
          0.8690979614757399,
          0.28666102986125996,
          0.8187010557150299,
          0.4255355941421758,
          0.9705398483073174,
          0.13151138685799124,
          0.15957937019767288,
          0.5767559962617729,
          0.5760072114821262,
          0.2958055030687472,
          0.43050021765311375,
          0.6500337787649666,
          0.07016406941584652,
          0.928444741461049,
          0.1990047390300591,
          0.8369376640385892,
          0.10578392579311524,
          0.3731195434666643,
          0.007354815534583947,
          0.5478628172553028,
          0.34335291877973984,
          0.0012293969177095132,
          0.048661340824965094,
          0.7547751766990923,
          0.23946703998305496,
          0.7790049753315195,
          0.5980244633320098,
          0.3863223720784602,
          0.6964213565861964,
          0.16563875993318156,
          0.9155238014988045,
          0.8244058012046296,
          0.19679769518905565,
          0.9550365269908515,
          0.6127214356919956,
          0.2853177471212117,
          0.6690576860763924,
          0.7461378289982364,
          0.5745977890655961,
          0.7755405264376345,
          0.813771067055399,
          0.37813029405892806,
          0.8609005489162103,
          0.8567513095784476,
          0.41303274300991044,
          0.17755828450941913,
          0.8651257676427668,
          0.26569100272371393,
          0.29535897443890435,
          0.5402216081892861,
          0.4965357776255893,
          0.25547370568825867,
          0.2073847338396284,
          0.36758684161860933,
          0.1490697037524925,
          0.37957441644430934,
          0.5228957524651277,
          0.8051608989949198,
          0.5639204957557351,
          0.885352075582695,
          0.9064158103002401,
          0.6119280034621573,
          0.531821557863563,
          0.553246615743144,
          0.12912729902088182,
          0.48483676922925145,
          0.16990565360640353,
          0.5414287076734227,
          0.601544083125754,
          0.6290152607991043,
          0.8810798429568291,
          0.9702445632084673,
          0.8199854352286697,
          0.9353347235315111,
          0.33748006880813763,
          0.16895792710127067,
          0.9630721036271195,
          0.8620739760387268,
          0.3774112609771011,
          0.3309983557118893,
          0.9555731990928646,
          0.8060964363934733,
          0.45738817846545543,
          0.6500529672529207,
          0.117519451586797,
          0.5659558500320031,
          0.5131787790947552,
          0.4072627838538515,
          0.8427491510705762,
          0.9860446113435378,
          0.6404009781658083,
          0.8766522510281339,
          0.721636807057829,
          0.6696596310200781,
          0.841704668607741,
          0.6572226116072006,
          0.9137614853077553,
          0.06550362810576327,
          0.786483457136644,
          0.4473885061915649
         ]
        }
       ],
       "layout": {
        "legend": {
         "bgcolor": "#F5F6F9",
         "font": {
          "color": "#4D5663"
         }
        },
        "paper_bgcolor": "#F5F6F9",
        "plot_bgcolor": "#F5F6F9",
        "template": {
         "data": {
          "bar": [
           {
            "error_x": {
             "color": "#2a3f5f"
            },
            "error_y": {
             "color": "#2a3f5f"
            },
            "marker": {
             "line": {
              "color": "#E5ECF6",
              "width": 0.5
             },
             "pattern": {
              "fillmode": "overlay",
              "size": 10,
              "solidity": 0.2
             }
            },
            "type": "bar"
           }
          ],
          "barpolar": [
           {
            "marker": {
             "line": {
              "color": "#E5ECF6",
              "width": 0.5
             },
             "pattern": {
              "fillmode": "overlay",
              "size": 10,
              "solidity": 0.2
             }
            },
            "type": "barpolar"
           }
          ],
          "carpet": [
           {
            "aaxis": {
             "endlinecolor": "#2a3f5f",
             "gridcolor": "white",
             "linecolor": "white",
             "minorgridcolor": "white",
             "startlinecolor": "#2a3f5f"
            },
            "baxis": {
             "endlinecolor": "#2a3f5f",
             "gridcolor": "white",
             "linecolor": "white",
             "minorgridcolor": "white",
             "startlinecolor": "#2a3f5f"
            },
            "type": "carpet"
           }
          ],
          "choropleth": [
           {
            "colorbar": {
             "outlinewidth": 0,
             "ticks": ""
            },
            "type": "choropleth"
           }
          ],
          "contour": [
           {
            "colorbar": {
             "outlinewidth": 0,
             "ticks": ""
            },
            "colorscale": [
             [
              0,
              "#0d0887"
             ],
             [
              0.1111111111111111,
              "#46039f"
             ],
             [
              0.2222222222222222,
              "#7201a8"
             ],
             [
              0.3333333333333333,
              "#9c179e"
             ],
             [
              0.4444444444444444,
              "#bd3786"
             ],
             [
              0.5555555555555556,
              "#d8576b"
             ],
             [
              0.6666666666666666,
              "#ed7953"
             ],
             [
              0.7777777777777778,
              "#fb9f3a"
             ],
             [
              0.8888888888888888,
              "#fdca26"
             ],
             [
              1,
              "#f0f921"
             ]
            ],
            "type": "contour"
           }
          ],
          "contourcarpet": [
           {
            "colorbar": {
             "outlinewidth": 0,
             "ticks": ""
            },
            "type": "contourcarpet"
           }
          ],
          "heatmap": [
           {
            "colorbar": {
             "outlinewidth": 0,
             "ticks": ""
            },
            "colorscale": [
             [
              0,
              "#0d0887"
             ],
             [
              0.1111111111111111,
              "#46039f"
             ],
             [
              0.2222222222222222,
              "#7201a8"
             ],
             [
              0.3333333333333333,
              "#9c179e"
             ],
             [
              0.4444444444444444,
              "#bd3786"
             ],
             [
              0.5555555555555556,
              "#d8576b"
             ],
             [
              0.6666666666666666,
              "#ed7953"
             ],
             [
              0.7777777777777778,
              "#fb9f3a"
             ],
             [
              0.8888888888888888,
              "#fdca26"
             ],
             [
              1,
              "#f0f921"
             ]
            ],
            "type": "heatmap"
           }
          ],
          "heatmapgl": [
           {
            "colorbar": {
             "outlinewidth": 0,
             "ticks": ""
            },
            "colorscale": [
             [
              0,
              "#0d0887"
             ],
             [
              0.1111111111111111,
              "#46039f"
             ],
             [
              0.2222222222222222,
              "#7201a8"
             ],
             [
              0.3333333333333333,
              "#9c179e"
             ],
             [
              0.4444444444444444,
              "#bd3786"
             ],
             [
              0.5555555555555556,
              "#d8576b"
             ],
             [
              0.6666666666666666,
              "#ed7953"
             ],
             [
              0.7777777777777778,
              "#fb9f3a"
             ],
             [
              0.8888888888888888,
              "#fdca26"
             ],
             [
              1,
              "#f0f921"
             ]
            ],
            "type": "heatmapgl"
           }
          ],
          "histogram": [
           {
            "marker": {
             "pattern": {
              "fillmode": "overlay",
              "size": 10,
              "solidity": 0.2
             }
            },
            "type": "histogram"
           }
          ],
          "histogram2d": [
           {
            "colorbar": {
             "outlinewidth": 0,
             "ticks": ""
            },
            "colorscale": [
             [
              0,
              "#0d0887"
             ],
             [
              0.1111111111111111,
              "#46039f"
             ],
             [
              0.2222222222222222,
              "#7201a8"
             ],
             [
              0.3333333333333333,
              "#9c179e"
             ],
             [
              0.4444444444444444,
              "#bd3786"
             ],
             [
              0.5555555555555556,
              "#d8576b"
             ],
             [
              0.6666666666666666,
              "#ed7953"
             ],
             [
              0.7777777777777778,
              "#fb9f3a"
             ],
             [
              0.8888888888888888,
              "#fdca26"
             ],
             [
              1,
              "#f0f921"
             ]
            ],
            "type": "histogram2d"
           }
          ],
          "histogram2dcontour": [
           {
            "colorbar": {
             "outlinewidth": 0,
             "ticks": ""
            },
            "colorscale": [
             [
              0,
              "#0d0887"
             ],
             [
              0.1111111111111111,
              "#46039f"
             ],
             [
              0.2222222222222222,
              "#7201a8"
             ],
             [
              0.3333333333333333,
              "#9c179e"
             ],
             [
              0.4444444444444444,
              "#bd3786"
             ],
             [
              0.5555555555555556,
              "#d8576b"
             ],
             [
              0.6666666666666666,
              "#ed7953"
             ],
             [
              0.7777777777777778,
              "#fb9f3a"
             ],
             [
              0.8888888888888888,
              "#fdca26"
             ],
             [
              1,
              "#f0f921"
             ]
            ],
            "type": "histogram2dcontour"
           }
          ],
          "mesh3d": [
           {
            "colorbar": {
             "outlinewidth": 0,
             "ticks": ""
            },
            "type": "mesh3d"
           }
          ],
          "parcoords": [
           {
            "line": {
             "colorbar": {
              "outlinewidth": 0,
              "ticks": ""
             }
            },
            "type": "parcoords"
           }
          ],
          "pie": [
           {
            "automargin": true,
            "type": "pie"
           }
          ],
          "scatter": [
           {
            "fillpattern": {
             "fillmode": "overlay",
             "size": 10,
             "solidity": 0.2
            },
            "type": "scatter"
           }
          ],
          "scatter3d": [
           {
            "line": {
             "colorbar": {
              "outlinewidth": 0,
              "ticks": ""
             }
            },
            "marker": {
             "colorbar": {
              "outlinewidth": 0,
              "ticks": ""
             }
            },
            "type": "scatter3d"
           }
          ],
          "scattercarpet": [
           {
            "marker": {
             "colorbar": {
              "outlinewidth": 0,
              "ticks": ""
             }
            },
            "type": "scattercarpet"
           }
          ],
          "scattergeo": [
           {
            "marker": {
             "colorbar": {
              "outlinewidth": 0,
              "ticks": ""
             }
            },
            "type": "scattergeo"
           }
          ],
          "scattergl": [
           {
            "marker": {
             "colorbar": {
              "outlinewidth": 0,
              "ticks": ""
             }
            },
            "type": "scattergl"
           }
          ],
          "scattermapbox": [
           {
            "marker": {
             "colorbar": {
              "outlinewidth": 0,
              "ticks": ""
             }
            },
            "type": "scattermapbox"
           }
          ],
          "scatterpolar": [
           {
            "marker": {
             "colorbar": {
              "outlinewidth": 0,
              "ticks": ""
             }
            },
            "type": "scatterpolar"
           }
          ],
          "scatterpolargl": [
           {
            "marker": {
             "colorbar": {
              "outlinewidth": 0,
              "ticks": ""
             }
            },
            "type": "scatterpolargl"
           }
          ],
          "scatterternary": [
           {
            "marker": {
             "colorbar": {
              "outlinewidth": 0,
              "ticks": ""
             }
            },
            "type": "scatterternary"
           }
          ],
          "surface": [
           {
            "colorbar": {
             "outlinewidth": 0,
             "ticks": ""
            },
            "colorscale": [
             [
              0,
              "#0d0887"
             ],
             [
              0.1111111111111111,
              "#46039f"
             ],
             [
              0.2222222222222222,
              "#7201a8"
             ],
             [
              0.3333333333333333,
              "#9c179e"
             ],
             [
              0.4444444444444444,
              "#bd3786"
             ],
             [
              0.5555555555555556,
              "#d8576b"
             ],
             [
              0.6666666666666666,
              "#ed7953"
             ],
             [
              0.7777777777777778,
              "#fb9f3a"
             ],
             [
              0.8888888888888888,
              "#fdca26"
             ],
             [
              1,
              "#f0f921"
             ]
            ],
            "type": "surface"
           }
          ],
          "table": [
           {
            "cells": {
             "fill": {
              "color": "#EBF0F8"
             },
             "line": {
              "color": "white"
             }
            },
            "header": {
             "fill": {
              "color": "#C8D4E3"
             },
             "line": {
              "color": "white"
             }
            },
            "type": "table"
           }
          ]
         },
         "layout": {
          "annotationdefaults": {
           "arrowcolor": "#2a3f5f",
           "arrowhead": 0,
           "arrowwidth": 1
          },
          "autotypenumbers": "strict",
          "coloraxis": {
           "colorbar": {
            "outlinewidth": 0,
            "ticks": ""
           }
          },
          "colorscale": {
           "diverging": [
            [
             0,
             "#8e0152"
            ],
            [
             0.1,
             "#c51b7d"
            ],
            [
             0.2,
             "#de77ae"
            ],
            [
             0.3,
             "#f1b6da"
            ],
            [
             0.4,
             "#fde0ef"
            ],
            [
             0.5,
             "#f7f7f7"
            ],
            [
             0.6,
             "#e6f5d0"
            ],
            [
             0.7,
             "#b8e186"
            ],
            [
             0.8,
             "#7fbc41"
            ],
            [
             0.9,
             "#4d9221"
            ],
            [
             1,
             "#276419"
            ]
           ],
           "sequential": [
            [
             0,
             "#0d0887"
            ],
            [
             0.1111111111111111,
             "#46039f"
            ],
            [
             0.2222222222222222,
             "#7201a8"
            ],
            [
             0.3333333333333333,
             "#9c179e"
            ],
            [
             0.4444444444444444,
             "#bd3786"
            ],
            [
             0.5555555555555556,
             "#d8576b"
            ],
            [
             0.6666666666666666,
             "#ed7953"
            ],
            [
             0.7777777777777778,
             "#fb9f3a"
            ],
            [
             0.8888888888888888,
             "#fdca26"
            ],
            [
             1,
             "#f0f921"
            ]
           ],
           "sequentialminus": [
            [
             0,
             "#0d0887"
            ],
            [
             0.1111111111111111,
             "#46039f"
            ],
            [
             0.2222222222222222,
             "#7201a8"
            ],
            [
             0.3333333333333333,
             "#9c179e"
            ],
            [
             0.4444444444444444,
             "#bd3786"
            ],
            [
             0.5555555555555556,
             "#d8576b"
            ],
            [
             0.6666666666666666,
             "#ed7953"
            ],
            [
             0.7777777777777778,
             "#fb9f3a"
            ],
            [
             0.8888888888888888,
             "#fdca26"
            ],
            [
             1,
             "#f0f921"
            ]
           ]
          },
          "colorway": [
           "#636efa",
           "#EF553B",
           "#00cc96",
           "#ab63fa",
           "#FFA15A",
           "#19d3f3",
           "#FF6692",
           "#B6E880",
           "#FF97FF",
           "#FECB52"
          ],
          "font": {
           "color": "#2a3f5f"
          },
          "geo": {
           "bgcolor": "white",
           "lakecolor": "white",
           "landcolor": "#E5ECF6",
           "showlakes": true,
           "showland": true,
           "subunitcolor": "white"
          },
          "hoverlabel": {
           "align": "left"
          },
          "hovermode": "closest",
          "mapbox": {
           "style": "light"
          },
          "paper_bgcolor": "white",
          "plot_bgcolor": "#E5ECF6",
          "polar": {
           "angularaxis": {
            "gridcolor": "white",
            "linecolor": "white",
            "ticks": ""
           },
           "bgcolor": "#E5ECF6",
           "radialaxis": {
            "gridcolor": "white",
            "linecolor": "white",
            "ticks": ""
           }
          },
          "scene": {
           "xaxis": {
            "backgroundcolor": "#E5ECF6",
            "gridcolor": "white",
            "gridwidth": 2,
            "linecolor": "white",
            "showbackground": true,
            "ticks": "",
            "zerolinecolor": "white"
           },
           "yaxis": {
            "backgroundcolor": "#E5ECF6",
            "gridcolor": "white",
            "gridwidth": 2,
            "linecolor": "white",
            "showbackground": true,
            "ticks": "",
            "zerolinecolor": "white"
           },
           "zaxis": {
            "backgroundcolor": "#E5ECF6",
            "gridcolor": "white",
            "gridwidth": 2,
            "linecolor": "white",
            "showbackground": true,
            "ticks": "",
            "zerolinecolor": "white"
           }
          },
          "shapedefaults": {
           "line": {
            "color": "#2a3f5f"
           }
          },
          "ternary": {
           "aaxis": {
            "gridcolor": "white",
            "linecolor": "white",
            "ticks": ""
           },
           "baxis": {
            "gridcolor": "white",
            "linecolor": "white",
            "ticks": ""
           },
           "bgcolor": "#E5ECF6",
           "caxis": {
            "gridcolor": "white",
            "linecolor": "white",
            "ticks": ""
           }
          },
          "title": {
           "x": 0.05
          },
          "xaxis": {
           "automargin": true,
           "gridcolor": "white",
           "linecolor": "white",
           "ticks": "",
           "title": {
            "standoff": 15
           },
           "zerolinecolor": "white",
           "zerolinewidth": 2
          },
          "yaxis": {
           "automargin": true,
           "gridcolor": "white",
           "linecolor": "white",
           "ticks": "",
           "title": {
            "standoff": 15
           },
           "zerolinecolor": "white",
           "zerolinewidth": 2
          }
         }
        },
        "title": {
         "font": {
          "color": "#4D5663"
         }
        },
        "xaxis": {
         "gridcolor": "#E1E5ED",
         "showgrid": true,
         "tickfont": {
          "color": "#4D5663"
         },
         "title": {
          "font": {
           "color": "#4D5663"
          },
          "text": ""
         },
         "zerolinecolor": "#E1E5ED"
        },
        "yaxis": {
         "gridcolor": "#E1E5ED",
         "showgrid": true,
         "tickfont": {
          "color": "#4D5663"
         },
         "title": {
          "font": {
           "color": "#4D5663"
          },
          "text": ""
         },
         "zerolinecolor": "#E1E5ED"
        }
       }
      },
      "text/html": [
       "<div>                            <div id=\"fdf8a9ab-7555-4cbb-bdd8-a6b4705957e2\" class=\"plotly-graph-div\" style=\"height:525px; width:100%;\"></div>            <script type=\"text/javascript\">                require([\"plotly\"], function(Plotly) {                    window.PLOTLYENV=window.PLOTLYENV || {};\n",
       "                    window.PLOTLYENV.BASE_URL='https://plot.ly';                                    if (document.getElementById(\"fdf8a9ab-7555-4cbb-bdd8-a6b4705957e2\")) {                    Plotly.newPlot(                        \"fdf8a9ab-7555-4cbb-bdd8-a6b4705957e2\",                        [{\"boxpoints\":false,\"line\":{\"width\":1.3},\"marker\":{\"color\":\"rgba(255, 153, 51, 1.0)\"},\"name\":\"a\",\"orientation\":\"v\",\"y\":[0.42121627329937006,0.7245419573442572,0.15536120064665615,0.06686550636343613,0.2624871576562833,0.32424884343544325,0.2411893135497446,0.13768360482733633,0.5162653511552181,0.42013200147606267,0.4518770525319127,0.795553130811094,0.0003515528841019355,0.6830678172849305,0.3228079941890707,0.011528520815582644,0.5004028982789152,0.7426565563134057,0.4320270833216011,0.2379686799191324,0.10034601365573637,0.5358009825131521,0.8638858796503842,0.007983535641365225,0.5038125501267138,0.055030007324728736,0.5379582094344201,0.26155926084651715,0.8128809513645404,0.020820512346902742,0.9252500017934385,0.8917802984101614,0.1713279145571588,0.8223447420322637,0.7436525195187459,0.7991714003463427,0.5369925996409672,0.830391951400645,0.4622183202604244,0.29750210835443014,0.7949958680174501,0.0041671837274260826,0.49969740975661003,0.1920771953405941,0.03491737823712815,0.38511265613826307,0.7297014982369133,0.7222420630365339,0.538465425280369,0.6309583669606986,0.26811178840554395,0.5357416856983952,0.19017154616006782,0.8392035815723458,0.9075017914864345,0.1593183979075138,0.024564663606259862,0.9760304793448512,0.14872556040985097,0.7585909920932047,0.30687110516355354,0.9855050864443268,0.16394437319476596,0.8784463023868646,0.8454826655520494,0.40759104849052663,0.06914257767719656,0.057060426841533785,0.1480017748814424,0.19038539781481167,0.3212267481275759,0.7981523738960862,0.6743955201652911,0.09425478708530488,0.1751797300534047,0.2789194485833547,0.3413843714309356,0.04600905336889671,0.4102388331884018,0.9573259407160298,0.5743728481310455,0.42616251327861543,0.7263958032946709,0.48412557782924004,0.7358568358109937,0.2768478744699071,0.3970930437197987,0.9880837479169828,0.9406294787572743,0.47837625986207066,0.15132984104777336,0.49666540586483554,0.27736137348949497,0.8007612827424266,0.27498314332261986,0.6028684860659178,0.5044233664833256,0.7937550736874817,0.6984723210259919,0.25590016756358647,0.5829208765889428,0.6184484042562405,0.9704600973944093,0.8503708486381039,0.053980455343413114,0.8244019525890707,0.5095405592555222,0.05608555803735804,0.82197104558219,0.4368868594894709,0.6786876673975878,0.33973981465073666,0.42084822130633026,0.029497356475978842,0.05269432172206612,0.3331408731218819,0.6992590777160607,0.164932257509944,0.2897621696989824,0.16483500792870864,0.26925179050267023,0.09218078796647122,0.6355385277906846,0.6597773428394924,0.6834033084385186,0.5413741139836828,0.5390691809736452,0.21313286351348926,0.39994045820874224,0.8898486285715802,0.5681905539781319,0.42431383156786584,0.6822758897482306,0.41590872106788324,0.8281082120770169,0.15140933917265953,0.6406640041219318,0.3162033599723034,0.10201287157729522,0.4251896679092909,0.46914449127179847,0.59481681555125,0.6596600272958683,0.6529762600261315,0.5455816115996037,0.31393476075363935,0.6621289026407646,0.42166377177016345,0.7485907379425286,0.4072131717366759,0.566304041586583,0.906277330059646,0.8533269835613996,0.3442159660635876,0.9893877811204922,0.0055311670362298004,0.8805799745151467,0.9448960041193339,0.12425300087851343,0.1708164097510032,0.8564506126228222,0.16705980765370043,0.49927268114642265,0.5458817510601583,0.8330050871847595,0.785291106338764,0.04844496637827245,0.28118915820877666,0.5041438046956245,0.14275249963182568,0.12915059456269118,0.8118727721179944,0.670269985257146,0.21053537583818382,0.9988433483798315,0.4180959602507418,0.09997893642911349,0.5961708491638057,0.577487080054161,0.6690101142370158,0.7488030110998561,0.7071608907990218,0.01960392083234752,0.4346873813309452,0.18087168385575192,0.4727398466329855,0.9154408155678929,0.06469351795780498,0.4824689165402032,0.6182671789876105,0.9121333186792299,0.4720604555882152,0.7356800112535089,0.3443547523966566,0.055298535355247536,0.8570452780878647,0.9948392287194394,0.1410375319712739,0.8749245287765834,0.3558447128434218,0.822794622558294,0.003209836944832567,0.6251729449634488,0.44231390600957865,0.5645705101807883,0.37286027299876956,0.3924191475876174,0.6784480107097609,0.7219381061617793,0.20325256310105477,0.44967683777105216,0.33654859734503983,0.5643148274849311,0.47009181711852743,0.8660654165648543,0.8385150451742506,0.3618644027346192,0.5502785879961303,0.9973774064680258,0.7584747037570401,0.8288870885211556,0.7637087690976282,0.30384037236294115,0.2621689528103497,0.40547737894502356,0.23079757928104927,0.6565603152121313,0.8008239372303043,0.5891494909478747,0.234167829090549,0.6766529726187701,0.7279396179180803,0.442368648262928,0.13025329126719642,0.3313995668472183,0.03007006179850813,0.5354729112262643,0.18520290997171718,0.004446073138945961,0.6404036732711942,0.7392590698332681,0.5035614177751195,0.6890762889769331,0.41077363388901345,0.4269995079454789,0.3678895743155144,0.060955811063890475,0.4638014958097202,0.28134482809938777,0.12911945895337185,0.9317750739974809,0.9221353975830487,0.6714678207344313,0.4564946878116817,0.625751819376491,0.3842164059287636,0.0328110381198764,0.5454371809329455,0.1741973605054522,0.09891044339618149,0.23805732365163013,0.733634859804977,0.934508020612893,0.9532077646882406,0.6180932723943503,0.5538565952491025,0.7975056240651582,0.11944608385245647,0.2798660926351999,0.4414512198043318,0.9068346216927867,0.09924434724134823,0.5629459138927876,0.8927777654772798,0.11496031790396655,0.8622433546089056,0.2855069541952563,0.6198337859468181,0.5126995272882329,0.4240312210511127,0.8373641573965753,0.09330849597576851,0.08530162147611975,0.23729339347243517,0.10950462233836478,0.9816678787529786,0.936961707362646,0.11047428672441728,0.5432874911423741,0.5162303905223605,0.7864383314320358,0.7281591897117122,0.1973653545830486,0.05687362238602345,0.4739751141394757,0.029248024810064055,0.29591701837729445,0.7002161384367424,0.5960101995611436,0.011617393529922526],\"type\":\"box\"},{\"boxpoints\":false,\"line\":{\"width\":1.3},\"marker\":{\"color\":\"rgba(55, 128, 191, 1.0)\"},\"name\":\"b\",\"orientation\":\"v\",\"y\":[0.7280362806102908,0.832953496321121,0.44765046142241816,0.343237546541336,0.5221588985434374,0.5762085838485177,0.40515407695791394,0.8745475065349337,0.06962053825328596,0.2624763084578652,0.5210145835818372,0.6050282074982662,0.6210094088874245,0.9951247867058649,0.3210649777988225,0.05878228323893109,0.6389365274728224,0.8253038816808557,0.51540809069414,0.5196816550439172,0.946647889056718,0.39475155431117204,0.8620707600718026,0.43471778367715586,0.5469624709285924,0.1148072992332777,0.3055255868368282,0.5978303146182881,0.8998659891280428,0.6535696650654723,0.17710487686972354,0.3427798228950413,0.876586016130961,0.32001528540013036,0.15515894849378875,0.23516579226477496,0.3110626178405248,0.6925525059800656,0.4575483123982058,0.5735054108667882,0.8986617110117883,0.9334137744093542,0.607045971358165,0.33278465190223094,0.02779405198209095,0.9118913944671009,0.3237665920432773,0.9162893130346489,0.2642238692968787,0.03555234654428152,0.820410049201667,0.9415227559377709,0.9218814192620565,0.35010014362335073,0.7312110703025435,0.42604857278910413,0.16841594598291898,0.42831567410389904,0.5456372503568429,0.9108494820343216,0.2977165934884115,0.8224496492837918,0.07252486933963387,0.216723604768282,0.5420603009828963,0.4519041005920893,0.2696559357681072,0.2037182338527347,0.9736356837047957,0.9969219823962148,0.22362016398494777,0.9214207565315675,0.8424460494670329,0.8459598231799375,0.3506650084712689,0.425711121312662,0.5993908810201609,0.19149601587241372,0.07181550231342526,0.02136366449472682,0.20955866371471654,0.44999248107983014,0.9765440600613207,0.8226108587101658,0.8092214769606129,0.43338883880168555,0.915727297971557,0.6569417962502233,0.18019163031603858,0.15244601852189166,0.040155528310009236,0.12238680571895633,0.32393523217114084,0.7893091093489077,0.5896844233375913,0.43172182999382047,0.0153075075256206,0.2672147033812833,0.8672484623254233,0.9672203124072071,0.9647008446429589,0.7142509821103781,0.5969748017269463,0.3853938138730094,0.6911467190368694,0.3643774931416298,0.8419644384008753,0.663667794277749,0.2534247980724659,0.030271664402281795,0.3164781997393089,0.5482168139022058,0.8188814558309816,0.8135615721326127,0.8281562250908552,0.15800412124471197,0.6653720860839117,0.8100876466993024,0.8076479641473785,0.9761331381570664,0.23859416108806564,0.4172789966745456,0.5713324380958652,0.613104796776425,0.6258591636977687,0.1345164028903234,0.5364848131372253,0.2361442940548002,0.7355223492659902,0.13399891656749585,0.759273039156942,0.2690083478047389,0.6211406852684733,0.14064067473285757,0.0447253516553785,0.9814327520578601,0.23731013407711998,0.7612855449250022,0.979727940824555,0.7450710840290887,0.23159929617861663,0.9964826717611994,0.7211285518333277,0.9005985809204141,0.9897640450644823,0.16077056409095125,0.3279292590942763,0.34267983975701655,0.19135371263308376,0.2565587591161975,0.610671304294213,0.13960066133134186,0.2612809016208628,0.8270621015802572,0.7759332854916229,0.37922832880916946,0.04267801822858097,0.659766305685424,0.8525396508107412,0.22815666744065988,0.3226909415316037,0.016627827762835,0.21483687469332158,0.26158915549532846,0.16649320470048845,0.8810425569118945,0.24074928473815393,0.5646742433059682,0.1897351683450369,0.41304094038127515,0.7437214617197974,0.231188648815304,0.1237914964548541,0.08005042584238653,0.9873898585222595,0.21443508131178746,0.9486872352186672,0.8902514833367846,0.7714512589339986,0.16842630237978085,0.7151142631828858,0.4407850491988361,0.1367751994074069,0.9003677321980902,0.9446407517833434,0.6464489704428157,0.73300349383005,0.8812493742108138,0.6563886165840898,0.9808591484690796,0.1546457401625918,0.7990415681065408,0.019707150363221793,0.6638500386270813,0.6724649949139959,0.2923556056847596,0.2108165750866816,0.15077261273731857,0.8545261507127803,0.09831105243523353,0.7321451317102965,0.04197438988175428,0.922111659809259,0.21687095364997278,0.43370285137943376,0.19337773784634515,0.42308166913280776,0.1501968134874213,0.8740941772208243,0.38694491640817386,0.5224775103458866,0.6836582472937142,0.38162073608276204,0.031946731000244366,0.18896277994744304,0.13115155004285872,0.6214702013552724,0.01144018803542357,0.8122412781990873,0.8224440457049683,0.6309904736238926,0.9584725562951159,0.5516966505125769,0.4923011051912173,0.21745067229188642,0.05152821137650865,0.8333861098744418,0.788313036424906,0.27120445382041736,0.6173393033149108,0.5195089546175985,0.3884173200667047,0.49501262125009693,0.12446179262847956,0.1915986312630511,0.33213730031068067,0.6601059856522459,0.47643049595368214,0.5344827564953569,0.37398406015514385,0.9184843700822447,0.9133349323951138,0.637196011149816,0.4483532974800277,0.3461244856939051,0.528196045395319,0.058247904023234987,0.6845224439601616,0.20529425577095006,0.7744583976171876,0.4742264306977937,0.032208377423835644,0.5127976233056881,0.01608764736936641,0.9125004060330133,0.9443961085563272,0.3232036353650306,0.24219766658339037,0.3358015196970191,0.14862762106399385,0.8580398418424201,0.7219607640539403,0.34627073569329836,0.15495221385374736,0.16731034107806397,0.2120047699351334,0.4066696488109629,0.016259718345525975,0.771674804897317,0.09025559939409555,0.25226104798556703,0.9424871259601847,0.9880384670062461,0.4611483709951655,0.1508222983160552,0.3822126430698197,0.7864910938926715,0.4919099257911109,0.7735464711554907,0.7700216822142629,0.6221519025516056,0.7913681706507943,0.9515142925525176,0.1501776266184246,0.48393779036375273,0.9364992224621935,0.4276446556782272,0.9175980351329021,0.7964537179347291,0.04211064072119641,0.1693418440192802,0.31299924352291975,0.06521787605765117,0.8065675262862932,0.39940231976887364,0.9311178255973086,0.46959144004517683,0.3919274139467085,0.2813303762528232,0.1118181702716643],\"type\":\"box\"},{\"boxpoints\":false,\"line\":{\"width\":1.3},\"marker\":{\"color\":\"rgba(50, 171, 96, 1.0)\"},\"name\":\"c\",\"orientation\":\"v\",\"y\":[0.23845752331372994,0.3281580893203795,0.27242141616182824,0.15748963317993936,0.6271646705525934,0.27364176138055396,0.27787347134350115,0.9254233594171121,0.3406350177617027,0.31227421732400096,0.4987783127291814,0.8714700722846839,0.6794699608577538,0.2487695259133278,0.578182964482857,0.6828257588938668,0.24194403560539668,0.43322366776955346,0.4305065429552922,0.9776632159640539,0.804084097207599,0.07810476829766866,0.5704651028646044,0.6177997339903127,0.20924336221690631,0.8812420780153,0.28393369502636123,0.42634596463876895,0.2901239221743245,0.19439504223642778,0.8961662652669047,0.5370477570401611,0.46824866110548213,0.2731550004183746,0.9188930831735009,0.8897718389911895,0.7139348352146226,0.2570638040141099,0.8359441244082537,0.6273951284217114,0.08398952394739667,0.4030103467037537,0.6022896553425994,0.9265399914827954,0.5064362340781022,0.3870887809385394,0.9501677438248587,0.04608063263664097,0.9109059760594572,0.9684780342213851,0.7513572288519,0.9619519504718341,0.23692474335385716,0.26742965573084443,0.6270453234143765,0.3842277215774389,0.3111722918749009,0.8031725824446098,0.477764372024194,0.4712330152574161,0.36955124000951256,0.0872935724417302,0.34205374251580856,0.6654844988161188,0.9078035793733382,0.18332953727140622,0.7790493524641535,0.6526899747705752,0.033724215447455075,0.7801894790993468,0.9435434508944331,0.41800733127496315,0.9059654755593279,0.7919162336012415,0.9251206092936447,0.19575032760711097,0.7655677240207137,0.06150493438172333,0.3006319037195,0.6379480896876726,0.014282793224881463,0.3323163638357397,0.9949697849290032,0.3625674545403502,0.6374939453956827,0.997211594190311,0.6293285807071304,0.9007162662361659,0.8628849675569291,0.6059023572897533,0.682296976865852,0.02010195036527407,0.5996827253076475,0.565081508488165,0.6457210815329507,0.4475389405187429,0.72834928882619,0.8463224656413294,0.2641416745512488,0.2279561573314428,0.8327193850431176,0.6445621588221092,0.8438950681451828,0.45425807529829454,0.016980675119445676,0.31548394812455516,0.3502873002118243,0.8742511555648853,0.5382898971573333,0.678143944432168,0.8852893734861306,0.9966684434388722,0.44339741901571494,0.4164768521420774,0.037855658485755894,0.02511583031639164,0.6052174365147303,0.9099579322591439,0.07950287986455584,0.9243252529926981,0.952545933647582,0.13124022158895388,0.12804010202323624,0.033302492397984884,0.10533908530114544,0.831224900094229,0.3110774171205891,0.8629041153356085,0.6965715356370522,0.9565889512439872,0.13728627065684973,0.2906906003430131,0.6265428494996383,0.09186959177376708,0.6437233491546799,0.5722844336283428,0.4740200000303111,0.07177722251208807,0.2644561236175448,0.49606121241210555,0.46063046331477764,0.4208515873329832,0.1520552836389798,0.9660167529278008,0.8300465591714264,0.40862341137591673,0.34280011274231115,0.2903601835666221,0.4873981048865029,0.5897100081274155,0.4179246949589446,0.1067782426545083,0.2929516433714814,0.9342129136268877,0.21613142073404656,0.4925091709556073,0.6860867397654464,0.028761041182961078,0.042391478752491274,0.6409700734478617,0.8041575033948447,0.4834171175192905,0.6374705204802782,0.2788391485323015,0.4023580980241296,0.6814126129758585,0.4803672465964949,0.9802227341032596,0.01263945214403106,0.325001269375512,0.3430374581803104,0.2806070887744123,0.43299472435925834,0.4417597693896328,0.37229289588240067,0.42895448946476655,0.10156094673293337,0.15907296263516058,0.9365955813030379,0.6294720537519882,0.45714006871394264,0.5516790869541149,0.03672245073882052,0.1587357621390333,0.4650363902162835,0.025510016060898977,0.03753925494735311,0.03114126014749896,0.28404045834240776,0.5635790087886443,0.9718860679274415,0.87575181465294,0.24400653928676885,0.8928789993873855,0.6636648807089234,0.5771259013724186,0.09157255176135004,0.6011087336713753,0.48986752668447286,0.16989176075936452,0.8690979614757399,0.28666102986125996,0.8187010557150299,0.4255355941421758,0.9705398483073174,0.13151138685799124,0.15957937019767288,0.5767559962617729,0.5760072114821262,0.2958055030687472,0.43050021765311375,0.6500337787649666,0.07016406941584652,0.928444741461049,0.1990047390300591,0.8369376640385892,0.10578392579311524,0.3731195434666643,0.007354815534583947,0.5478628172553028,0.34335291877973984,0.0012293969177095132,0.048661340824965094,0.7547751766990923,0.23946703998305496,0.7790049753315195,0.5980244633320098,0.3863223720784602,0.6964213565861964,0.16563875993318156,0.9155238014988045,0.8244058012046296,0.19679769518905565,0.9550365269908515,0.6127214356919956,0.2853177471212117,0.6690576860763924,0.7461378289982364,0.5745977890655961,0.7755405264376345,0.813771067055399,0.37813029405892806,0.8609005489162103,0.8567513095784476,0.41303274300991044,0.17755828450941913,0.8651257676427668,0.26569100272371393,0.29535897443890435,0.5402216081892861,0.4965357776255893,0.25547370568825867,0.2073847338396284,0.36758684161860933,0.1490697037524925,0.37957441644430934,0.5228957524651277,0.8051608989949198,0.5639204957557351,0.885352075582695,0.9064158103002401,0.6119280034621573,0.531821557863563,0.553246615743144,0.12912729902088182,0.48483676922925145,0.16990565360640353,0.5414287076734227,0.601544083125754,0.6290152607991043,0.8810798429568291,0.9702445632084673,0.8199854352286697,0.9353347235315111,0.33748006880813763,0.16895792710127067,0.9630721036271195,0.8620739760387268,0.3774112609771011,0.3309983557118893,0.9555731990928646,0.8060964363934733,0.45738817846545543,0.6500529672529207,0.117519451586797,0.5659558500320031,0.5131787790947552,0.4072627838538515,0.8427491510705762,0.9860446113435378,0.6404009781658083,0.8766522510281339,0.721636807057829,0.6696596310200781,0.841704668607741,0.6572226116072006,0.9137614853077553,0.06550362810576327,0.786483457136644,0.4473885061915649],\"type\":\"box\"}],                        {\"legend\":{\"bgcolor\":\"#F5F6F9\",\"font\":{\"color\":\"#4D5663\"}},\"paper_bgcolor\":\"#F5F6F9\",\"plot_bgcolor\":\"#F5F6F9\",\"template\":{\"data\":{\"barpolar\":[{\"marker\":{\"line\":{\"color\":\"#E5ECF6\",\"width\":0.5},\"pattern\":{\"fillmode\":\"overlay\",\"size\":10,\"solidity\":0.2}},\"type\":\"barpolar\"}],\"bar\":[{\"error_x\":{\"color\":\"#2a3f5f\"},\"error_y\":{\"color\":\"#2a3f5f\"},\"marker\":{\"line\":{\"color\":\"#E5ECF6\",\"width\":0.5},\"pattern\":{\"fillmode\":\"overlay\",\"size\":10,\"solidity\":0.2}},\"type\":\"bar\"}],\"carpet\":[{\"aaxis\":{\"endlinecolor\":\"#2a3f5f\",\"gridcolor\":\"white\",\"linecolor\":\"white\",\"minorgridcolor\":\"white\",\"startlinecolor\":\"#2a3f5f\"},\"baxis\":{\"endlinecolor\":\"#2a3f5f\",\"gridcolor\":\"white\",\"linecolor\":\"white\",\"minorgridcolor\":\"white\",\"startlinecolor\":\"#2a3f5f\"},\"type\":\"carpet\"}],\"choropleth\":[{\"colorbar\":{\"outlinewidth\":0,\"ticks\":\"\"},\"type\":\"choropleth\"}],\"contourcarpet\":[{\"colorbar\":{\"outlinewidth\":0,\"ticks\":\"\"},\"type\":\"contourcarpet\"}],\"contour\":[{\"colorbar\":{\"outlinewidth\":0,\"ticks\":\"\"},\"colorscale\":[[0.0,\"#0d0887\"],[0.1111111111111111,\"#46039f\"],[0.2222222222222222,\"#7201a8\"],[0.3333333333333333,\"#9c179e\"],[0.4444444444444444,\"#bd3786\"],[0.5555555555555556,\"#d8576b\"],[0.6666666666666666,\"#ed7953\"],[0.7777777777777778,\"#fb9f3a\"],[0.8888888888888888,\"#fdca26\"],[1.0,\"#f0f921\"]],\"type\":\"contour\"}],\"heatmapgl\":[{\"colorbar\":{\"outlinewidth\":0,\"ticks\":\"\"},\"colorscale\":[[0.0,\"#0d0887\"],[0.1111111111111111,\"#46039f\"],[0.2222222222222222,\"#7201a8\"],[0.3333333333333333,\"#9c179e\"],[0.4444444444444444,\"#bd3786\"],[0.5555555555555556,\"#d8576b\"],[0.6666666666666666,\"#ed7953\"],[0.7777777777777778,\"#fb9f3a\"],[0.8888888888888888,\"#fdca26\"],[1.0,\"#f0f921\"]],\"type\":\"heatmapgl\"}],\"heatmap\":[{\"colorbar\":{\"outlinewidth\":0,\"ticks\":\"\"},\"colorscale\":[[0.0,\"#0d0887\"],[0.1111111111111111,\"#46039f\"],[0.2222222222222222,\"#7201a8\"],[0.3333333333333333,\"#9c179e\"],[0.4444444444444444,\"#bd3786\"],[0.5555555555555556,\"#d8576b\"],[0.6666666666666666,\"#ed7953\"],[0.7777777777777778,\"#fb9f3a\"],[0.8888888888888888,\"#fdca26\"],[1.0,\"#f0f921\"]],\"type\":\"heatmap\"}],\"histogram2dcontour\":[{\"colorbar\":{\"outlinewidth\":0,\"ticks\":\"\"},\"colorscale\":[[0.0,\"#0d0887\"],[0.1111111111111111,\"#46039f\"],[0.2222222222222222,\"#7201a8\"],[0.3333333333333333,\"#9c179e\"],[0.4444444444444444,\"#bd3786\"],[0.5555555555555556,\"#d8576b\"],[0.6666666666666666,\"#ed7953\"],[0.7777777777777778,\"#fb9f3a\"],[0.8888888888888888,\"#fdca26\"],[1.0,\"#f0f921\"]],\"type\":\"histogram2dcontour\"}],\"histogram2d\":[{\"colorbar\":{\"outlinewidth\":0,\"ticks\":\"\"},\"colorscale\":[[0.0,\"#0d0887\"],[0.1111111111111111,\"#46039f\"],[0.2222222222222222,\"#7201a8\"],[0.3333333333333333,\"#9c179e\"],[0.4444444444444444,\"#bd3786\"],[0.5555555555555556,\"#d8576b\"],[0.6666666666666666,\"#ed7953\"],[0.7777777777777778,\"#fb9f3a\"],[0.8888888888888888,\"#fdca26\"],[1.0,\"#f0f921\"]],\"type\":\"histogram2d\"}],\"histogram\":[{\"marker\":{\"pattern\":{\"fillmode\":\"overlay\",\"size\":10,\"solidity\":0.2}},\"type\":\"histogram\"}],\"mesh3d\":[{\"colorbar\":{\"outlinewidth\":0,\"ticks\":\"\"},\"type\":\"mesh3d\"}],\"parcoords\":[{\"line\":{\"colorbar\":{\"outlinewidth\":0,\"ticks\":\"\"}},\"type\":\"parcoords\"}],\"pie\":[{\"automargin\":true,\"type\":\"pie\"}],\"scatter3d\":[{\"line\":{\"colorbar\":{\"outlinewidth\":0,\"ticks\":\"\"}},\"marker\":{\"colorbar\":{\"outlinewidth\":0,\"ticks\":\"\"}},\"type\":\"scatter3d\"}],\"scattercarpet\":[{\"marker\":{\"colorbar\":{\"outlinewidth\":0,\"ticks\":\"\"}},\"type\":\"scattercarpet\"}],\"scattergeo\":[{\"marker\":{\"colorbar\":{\"outlinewidth\":0,\"ticks\":\"\"}},\"type\":\"scattergeo\"}],\"scattergl\":[{\"marker\":{\"colorbar\":{\"outlinewidth\":0,\"ticks\":\"\"}},\"type\":\"scattergl\"}],\"scattermapbox\":[{\"marker\":{\"colorbar\":{\"outlinewidth\":0,\"ticks\":\"\"}},\"type\":\"scattermapbox\"}],\"scatterpolargl\":[{\"marker\":{\"colorbar\":{\"outlinewidth\":0,\"ticks\":\"\"}},\"type\":\"scatterpolargl\"}],\"scatterpolar\":[{\"marker\":{\"colorbar\":{\"outlinewidth\":0,\"ticks\":\"\"}},\"type\":\"scatterpolar\"}],\"scatter\":[{\"fillpattern\":{\"fillmode\":\"overlay\",\"size\":10,\"solidity\":0.2},\"type\":\"scatter\"}],\"scatterternary\":[{\"marker\":{\"colorbar\":{\"outlinewidth\":0,\"ticks\":\"\"}},\"type\":\"scatterternary\"}],\"surface\":[{\"colorbar\":{\"outlinewidth\":0,\"ticks\":\"\"},\"colorscale\":[[0.0,\"#0d0887\"],[0.1111111111111111,\"#46039f\"],[0.2222222222222222,\"#7201a8\"],[0.3333333333333333,\"#9c179e\"],[0.4444444444444444,\"#bd3786\"],[0.5555555555555556,\"#d8576b\"],[0.6666666666666666,\"#ed7953\"],[0.7777777777777778,\"#fb9f3a\"],[0.8888888888888888,\"#fdca26\"],[1.0,\"#f0f921\"]],\"type\":\"surface\"}],\"table\":[{\"cells\":{\"fill\":{\"color\":\"#EBF0F8\"},\"line\":{\"color\":\"white\"}},\"header\":{\"fill\":{\"color\":\"#C8D4E3\"},\"line\":{\"color\":\"white\"}},\"type\":\"table\"}]},\"layout\":{\"annotationdefaults\":{\"arrowcolor\":\"#2a3f5f\",\"arrowhead\":0,\"arrowwidth\":1},\"autotypenumbers\":\"strict\",\"coloraxis\":{\"colorbar\":{\"outlinewidth\":0,\"ticks\":\"\"}},\"colorscale\":{\"diverging\":[[0,\"#8e0152\"],[0.1,\"#c51b7d\"],[0.2,\"#de77ae\"],[0.3,\"#f1b6da\"],[0.4,\"#fde0ef\"],[0.5,\"#f7f7f7\"],[0.6,\"#e6f5d0\"],[0.7,\"#b8e186\"],[0.8,\"#7fbc41\"],[0.9,\"#4d9221\"],[1,\"#276419\"]],\"sequential\":[[0.0,\"#0d0887\"],[0.1111111111111111,\"#46039f\"],[0.2222222222222222,\"#7201a8\"],[0.3333333333333333,\"#9c179e\"],[0.4444444444444444,\"#bd3786\"],[0.5555555555555556,\"#d8576b\"],[0.6666666666666666,\"#ed7953\"],[0.7777777777777778,\"#fb9f3a\"],[0.8888888888888888,\"#fdca26\"],[1.0,\"#f0f921\"]],\"sequentialminus\":[[0.0,\"#0d0887\"],[0.1111111111111111,\"#46039f\"],[0.2222222222222222,\"#7201a8\"],[0.3333333333333333,\"#9c179e\"],[0.4444444444444444,\"#bd3786\"],[0.5555555555555556,\"#d8576b\"],[0.6666666666666666,\"#ed7953\"],[0.7777777777777778,\"#fb9f3a\"],[0.8888888888888888,\"#fdca26\"],[1.0,\"#f0f921\"]]},\"colorway\":[\"#636efa\",\"#EF553B\",\"#00cc96\",\"#ab63fa\",\"#FFA15A\",\"#19d3f3\",\"#FF6692\",\"#B6E880\",\"#FF97FF\",\"#FECB52\"],\"font\":{\"color\":\"#2a3f5f\"},\"geo\":{\"bgcolor\":\"white\",\"lakecolor\":\"white\",\"landcolor\":\"#E5ECF6\",\"showlakes\":true,\"showland\":true,\"subunitcolor\":\"white\"},\"hoverlabel\":{\"align\":\"left\"},\"hovermode\":\"closest\",\"mapbox\":{\"style\":\"light\"},\"paper_bgcolor\":\"white\",\"plot_bgcolor\":\"#E5ECF6\",\"polar\":{\"angularaxis\":{\"gridcolor\":\"white\",\"linecolor\":\"white\",\"ticks\":\"\"},\"bgcolor\":\"#E5ECF6\",\"radialaxis\":{\"gridcolor\":\"white\",\"linecolor\":\"white\",\"ticks\":\"\"}},\"scene\":{\"xaxis\":{\"backgroundcolor\":\"#E5ECF6\",\"gridcolor\":\"white\",\"gridwidth\":2,\"linecolor\":\"white\",\"showbackground\":true,\"ticks\":\"\",\"zerolinecolor\":\"white\"},\"yaxis\":{\"backgroundcolor\":\"#E5ECF6\",\"gridcolor\":\"white\",\"gridwidth\":2,\"linecolor\":\"white\",\"showbackground\":true,\"ticks\":\"\",\"zerolinecolor\":\"white\"},\"zaxis\":{\"backgroundcolor\":\"#E5ECF6\",\"gridcolor\":\"white\",\"gridwidth\":2,\"linecolor\":\"white\",\"showbackground\":true,\"ticks\":\"\",\"zerolinecolor\":\"white\"}},\"shapedefaults\":{\"line\":{\"color\":\"#2a3f5f\"}},\"ternary\":{\"aaxis\":{\"gridcolor\":\"white\",\"linecolor\":\"white\",\"ticks\":\"\"},\"baxis\":{\"gridcolor\":\"white\",\"linecolor\":\"white\",\"ticks\":\"\"},\"bgcolor\":\"#E5ECF6\",\"caxis\":{\"gridcolor\":\"white\",\"linecolor\":\"white\",\"ticks\":\"\"}},\"title\":{\"x\":0.05},\"xaxis\":{\"automargin\":true,\"gridcolor\":\"white\",\"linecolor\":\"white\",\"ticks\":\"\",\"title\":{\"standoff\":15},\"zerolinecolor\":\"white\",\"zerolinewidth\":2},\"yaxis\":{\"automargin\":true,\"gridcolor\":\"white\",\"linecolor\":\"white\",\"ticks\":\"\",\"title\":{\"standoff\":15},\"zerolinecolor\":\"white\",\"zerolinewidth\":2}}},\"title\":{\"font\":{\"color\":\"#4D5663\"}},\"xaxis\":{\"gridcolor\":\"#E1E5ED\",\"showgrid\":true,\"tickfont\":{\"color\":\"#4D5663\"},\"title\":{\"font\":{\"color\":\"#4D5663\"},\"text\":\"\"},\"zerolinecolor\":\"#E1E5ED\"},\"yaxis\":{\"gridcolor\":\"#E1E5ED\",\"showgrid\":true,\"tickfont\":{\"color\":\"#4D5663\"},\"title\":{\"font\":{\"color\":\"#4D5663\"},\"text\":\"\"},\"zerolinecolor\":\"#E1E5ED\"}},                        {\"showLink\": true, \"linkText\": \"Export to plot.ly\", \"plotlyServerURL\": \"https://plot.ly\", \"responsive\": true}                    ).then(function(){\n",
       "                            \n",
       "var gd = document.getElementById('fdf8a9ab-7555-4cbb-bdd8-a6b4705957e2');\n",
       "var x = new MutationObserver(function (mutations, observer) {{\n",
       "        var display = window.getComputedStyle(gd).display;\n",
       "        if (!display || display === 'none') {{\n",
       "            console.log([gd, 'removed!']);\n",
       "            Plotly.purge(gd);\n",
       "            observer.disconnect();\n",
       "        }}\n",
       "}});\n",
       "\n",
       "// Listen for the removal of the full notebook cells\n",
       "var notebookContainer = gd.closest('#notebook-container');\n",
       "if (notebookContainer) {{\n",
       "    x.observe(notebookContainer, {childList: true});\n",
       "}}\n",
       "\n",
       "// Listen for the clearing of the current output cell\n",
       "var outputEl = gd.closest('.output');\n",
       "if (outputEl) {{\n",
       "    x.observe(outputEl, {childList: true});\n",
       "}}\n",
       "\n",
       "                        })                };                });            </script>        </div>"
      ]
     },
     "metadata": {},
     "output_type": "display_data"
    }
   ],
   "source": [
    "df.iplot(kind = 'box')"
   ]
  },
  {
   "cell_type": "code",
   "execution_count": null,
   "id": "3a13cd11",
   "metadata": {},
   "outputs": [],
   "source": []
  }
 ],
 "metadata": {
  "kernelspec": {
   "display_name": "Python 3 (ipykernel)",
   "language": "python",
   "name": "python3"
  },
  "language_info": {
   "codemirror_mode": {
    "name": "ipython",
    "version": 3
   },
   "file_extension": ".py",
   "mimetype": "text/x-python",
   "name": "python",
   "nbconvert_exporter": "python",
   "pygments_lexer": "ipython3",
   "version": "3.9.10"
  }
 },
 "nbformat": 4,
 "nbformat_minor": 5
}
