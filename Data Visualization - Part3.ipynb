{
 "cells": [
  {
   "cell_type": "code",
   "execution_count": 29,
   "id": "47ff96c1",
   "metadata": {},
   "outputs": [],
   "source": [
    "import pandas as pd \n",
    "import numpy as np \n",
    "import matplotlib.pyplot as plt\n",
    "import seaborn as sns \n",
    "from  plotly.offline import iplot\n",
    "import plotly as py \n",
    "import plotly.tools as tls \n",
    "import cufflinks as cf"
   ]
  },
  {
   "cell_type": "code",
   "execution_count": 30,
   "id": "7066b9bc",
   "metadata": {},
   "outputs": [
    {
     "data": {
      "text/html": [
       "        <script type=\"text/javascript\">\n",
       "        window.PlotlyConfig = {MathJaxConfig: 'local'};\n",
       "        if (window.MathJax && window.MathJax.Hub && window.MathJax.Hub.Config) {window.MathJax.Hub.Config({SVG: {font: \"STIX-Web\"}});}\n",
       "        if (typeof require !== 'undefined') {\n",
       "        require.undef(\"plotly\");\n",
       "        requirejs.config({\n",
       "            paths: {\n",
       "                'plotly': ['https://cdn.plot.ly/plotly-2.12.1.min']\n",
       "            }\n",
       "        });\n",
       "        require(['plotly'], function(Plotly) {\n",
       "            window._Plotly = Plotly;\n",
       "        });\n",
       "        }\n",
       "        </script>\n",
       "        "
      ]
     },
     "metadata": {},
     "output_type": "display_data"
    },
    {
     "data": {
      "text/html": [
       "        <script type=\"text/javascript\">\n",
       "        window.PlotlyConfig = {MathJaxConfig: 'local'};\n",
       "        if (window.MathJax && window.MathJax.Hub && window.MathJax.Hub.Config) {window.MathJax.Hub.Config({SVG: {font: \"STIX-Web\"}});}\n",
       "        if (typeof require !== 'undefined') {\n",
       "        require.undef(\"plotly\");\n",
       "        requirejs.config({\n",
       "            paths: {\n",
       "                'plotly': ['https://cdn.plot.ly/plotly-2.12.1.min']\n",
       "            }\n",
       "        });\n",
       "        require(['plotly'], function(Plotly) {\n",
       "            window._Plotly = Plotly;\n",
       "        });\n",
       "        }\n",
       "        </script>\n",
       "        "
      ]
     },
     "metadata": {},
     "output_type": "display_data"
    }
   ],
   "source": [
    "py.offline.init_notebook_mode(connected=True)\n",
    "cf.go_offline()"
   ]
  },
  {
   "cell_type": "code",
   "execution_count": 31,
   "id": "36aa68c8",
   "metadata": {},
   "outputs": [],
   "source": [
    "df1 = sns.load_dataset(\"iris\")"
   ]
  },
  {
   "cell_type": "code",
   "execution_count": 32,
   "id": "46afd0df",
   "metadata": {},
   "outputs": [
    {
     "data": {
      "text/html": [
       "<div>\n",
       "<style scoped>\n",
       "    .dataframe tbody tr th:only-of-type {\n",
       "        vertical-align: middle;\n",
       "    }\n",
       "\n",
       "    .dataframe tbody tr th {\n",
       "        vertical-align: top;\n",
       "    }\n",
       "\n",
       "    .dataframe thead th {\n",
       "        text-align: right;\n",
       "    }\n",
       "</style>\n",
       "<table border=\"1\" class=\"dataframe\">\n",
       "  <thead>\n",
       "    <tr style=\"text-align: right;\">\n",
       "      <th></th>\n",
       "      <th>sepal_length</th>\n",
       "      <th>sepal_width</th>\n",
       "      <th>petal_length</th>\n",
       "      <th>petal_width</th>\n",
       "      <th>species</th>\n",
       "    </tr>\n",
       "  </thead>\n",
       "  <tbody>\n",
       "    <tr>\n",
       "      <th>0</th>\n",
       "      <td>5.1</td>\n",
       "      <td>3.5</td>\n",
       "      <td>1.4</td>\n",
       "      <td>0.2</td>\n",
       "      <td>setosa</td>\n",
       "    </tr>\n",
       "    <tr>\n",
       "      <th>1</th>\n",
       "      <td>4.9</td>\n",
       "      <td>3.0</td>\n",
       "      <td>1.4</td>\n",
       "      <td>0.2</td>\n",
       "      <td>setosa</td>\n",
       "    </tr>\n",
       "    <tr>\n",
       "      <th>2</th>\n",
       "      <td>4.7</td>\n",
       "      <td>3.2</td>\n",
       "      <td>1.3</td>\n",
       "      <td>0.2</td>\n",
       "      <td>setosa</td>\n",
       "    </tr>\n",
       "    <tr>\n",
       "      <th>3</th>\n",
       "      <td>4.6</td>\n",
       "      <td>3.1</td>\n",
       "      <td>1.5</td>\n",
       "      <td>0.2</td>\n",
       "      <td>setosa</td>\n",
       "    </tr>\n",
       "    <tr>\n",
       "      <th>4</th>\n",
       "      <td>5.0</td>\n",
       "      <td>3.6</td>\n",
       "      <td>1.4</td>\n",
       "      <td>0.2</td>\n",
       "      <td>setosa</td>\n",
       "    </tr>\n",
       "  </tbody>\n",
       "</table>\n",
       "</div>"
      ],
      "text/plain": [
       "   sepal_length  sepal_width  petal_length  petal_width species\n",
       "0           5.1          3.5           1.4          0.2  setosa\n",
       "1           4.9          3.0           1.4          0.2  setosa\n",
       "2           4.7          3.2           1.3          0.2  setosa\n",
       "3           4.6          3.1           1.5          0.2  setosa\n",
       "4           5.0          3.6           1.4          0.2  setosa"
      ]
     },
     "execution_count": 32,
     "metadata": {},
     "output_type": "execute_result"
    }
   ],
   "source": [
    "df1.head()"
   ]
  },
  {
   "cell_type": "code",
   "execution_count": 33,
   "id": "d4fc38f2",
   "metadata": {},
   "outputs": [
    {
     "data": {
      "text/plain": [
       "<AxesSubplot:>"
      ]
     },
     "execution_count": 33,
     "metadata": {},
     "output_type": "execute_result"
    },
    {
     "data": {
      "image/png": "[encoded data removed]",
      "text/plain": [
       "<Figure size 432x288 with 1 Axes>"
      ]
     },
     "metadata": {
      "needs_background": "light"
     },
     "output_type": "display_data"
    }
   ],
   "source": [
    "df1.plot()"
   ]
  },
  {
   "cell_type": "code",
   "execution_count": 34,
   "id": "28d99fd7",
   "metadata": {},
   "outputs": [
    {
     "data": {
      "application/vnd.plotly.v1+json": {
       "config": {
        "linkText": "Export to plot.ly",
        "plotlyServerURL": "https://plot.ly",
        "showLink": true
       },
       "data": [
        {
         "line": {
          "color": "rgba(255, 153, 51, 1.0)",
          "dash": "solid",
          "shape": "linear",
          "width": 1.3
         },
         "mode": "lines",
         "name": "sepal_length",
         "text": "",
         "type": "scatter",
         "x": [
          0,
          1,
          2,
          3,
          4,
          5,
          6,
          7,
          8,
          9,
          10,
          11,
          12,
          13,
          14,
          15,
          16,
          17,
          18,
          19,
          20,
          21,
          22,
          23,
          24,
          25,
          26,
          27,
          28,
          29,
          30,
          31,
          32,
          33,
          34,
          35,
          36,
          37,
          38,
          39,
          40,
          41,
          42,
          43,
          44,
          45,
          46,
          47,
          48,
          49,
          50,
          51,
          52,
          53,
          54,
          55,
          56,
          57,
          58,
          59,
          60,
          61,
          62,
          63,
          64,
          65,
          66,
          67,
          68,
          69,
          70,
          71,
          72,
          73,
          74,
          75,
          76,
          77,
          78,
          79,
          80,
          81,
          82,
          83,
          84,
          85,
          86,
          87,
          88,
          89,
          90,
          91,
          92,
          93,
          94,
          95,
          96,
          97,
          98,
          99,
          100,
          101,
          102,
          103,
          104,
          105,
          106,
          107,
          108,
          109,
          110,
          111,
          112,
          113,
          114,
          115,
          116,
          117,
          118,
          119,
          120,
          121,
          122,
          123,
          124,
          125,
          126,
          127,
          128,
          129,
          130,
          131,
          132,
          133,
          134,
          135,
          136,
          137,
          138,
          139,
          140,
          141,
          142,
          143,
          144,
          145,
          146,
          147,
          148,
          149
         ],
         "y": [
          5.1,
          4.9,
          4.7,
          4.6,
          5,
          5.4,
          4.6,
          5,
          4.4,
          4.9,
          5.4,
          4.8,
          4.8,
          4.3,
          5.8,
          5.7,
          5.4,
          5.1,
          5.7,
          5.1,
          5.4,
          5.1,
          4.6,
          5.1,
          4.8,
          5,
          5,
          5.2,
          5.2,
          4.7,
          4.8,
          5.4,
          5.2,
          5.5,
          4.9,
          5,
          5.5,
          4.9,
          4.4,
          5.1,
          5,
          4.5,
          4.4,
          5,
          5.1,
          4.8,
          5.1,
          4.6,
          5.3,
          5,
          7,
          6.4,
          6.9,
          5.5,
          6.5,
          5.7,
          6.3,
          4.9,
          6.6,
          5.2,
          5,
          5.9,
          6,
          6.1,
          5.6,
          6.7,
          5.6,
          5.8,
          6.2,
          5.6,
          5.9,
          6.1,
          6.3,
          6.1,
          6.4,
          6.6,
          6.8,
          6.7,
          6,
          5.7,
          5.5,
          5.5,
          5.8,
          6,
          5.4,
          6,
          6.7,
          6.3,
          5.6,
          5.5,
          5.5,
          6.1,
          5.8,
          5,
          5.6,
          5.7,
          5.7,
          6.2,
          5.1,
          5.7,
          6.3,
          5.8,
          7.1,
          6.3,
          6.5,
          7.6,
          4.9,
          7.3,
          6.7,
          7.2,
          6.5,
          6.4,
          6.8,
          5.7,
          5.8,
          6.4,
          6.5,
          7.7,
          7.7,
          6,
          6.9,
          5.6,
          7.7,
          6.3,
          6.7,
          7.2,
          6.2,
          6.1,
          6.4,
          7.2,
          7.4,
          7.9,
          6.4,
          6.3,
          6.1,
          7.7,
          6.3,
          6.4,
          6,
          6.9,
          6.7,
          6.9,
          5.8,
          6.8,
          6.7,
          6.7,
          6.3,
          6.5,
          6.2,
          5.9
         ]
        },
        {
         "line": {
          "color": "rgba(55, 128, 191, 1.0)",
          "dash": "solid",
          "shape": "linear",
          "width": 1.3
         },
         "mode": "lines",
         "name": "sepal_width",
         "text": "",
         "type": "scatter",
         "x": [
          0,
          1,
          2,
          3,
          4,
          5,
          6,
          7,
          8,
          9,
          10,
          11,
          12,
          13,
          14,
          15,
          16,
          17,
          18,
          19,
          20,
          21,
          22,
          23,
          24,
          25,
          26,
          27,
          28,
          29,
          30,
          31,
          32,
          33,
          34,
          35,
          36,
          37,
          38,
          39,
          40,
          41,
          42,
          43,
          44,
          45,
          46,
          47,
          48,
          49,
          50,
          51,
          52,
          53,
          54,
          55,
          56,
          57,
          58,
          59,
          60,
          61,
          62,
          63,
          64,
          65,
          66,
          67,
          68,
          69,
          70,
          71,
          72,
          73,
          74,
          75,
          76,
          77,
          78,
          79,
          80,
          81,
          82,
          83,
          84,
          85,
          86,
          87,
          88,
          89,
          90,
          91,
          92,
          93,
          94,
          95,
          96,
          97,
          98,
          99,
          100,
          101,
          102,
          103,
          104,
          105,
          106,
          107,
          108,
          109,
          110,
          111,
          112,
          113,
          114,
          115,
          116,
          117,
          118,
          119,
          120,
          121,
          122,
          123,
          124,
          125,
          126,
          127,
          128,
          129,
          130,
          131,
          132,
          133,
          134,
          135,
          136,
          137,
          138,
          139,
          140,
          141,
          142,
          143,
          144,
          145,
          146,
          147,
          148,
          149
         ],
         "y": [
          3.5,
          3,
          3.2,
          3.1,
          3.6,
          3.9,
          3.4,
          3.4,
          2.9,
          3.1,
          3.7,
          3.4,
          3,
          3,
          4,
          4.4,
          3.9,
          3.5,
          3.8,
          3.8,
          3.4,
          3.7,
          3.6,
          3.3,
          3.4,
          3,
          3.4,
          3.5,
          3.4,
          3.2,
          3.1,
          3.4,
          4.1,
          4.2,
          3.1,
          3.2,
          3.5,
          3.6,
          3,
          3.4,
          3.5,
          2.3,
          3.2,
          3.5,
          3.8,
          3,
          3.8,
          3.2,
          3.7,
          3.3,
          3.2,
          3.2,
          3.1,
          2.3,
          2.8,
          2.8,
          3.3,
          2.4,
          2.9,
          2.7,
          2,
          3,
          2.2,
          2.9,
          2.9,
          3.1,
          3,
          2.7,
          2.2,
          2.5,
          3.2,
          2.8,
          2.5,
          2.8,
          2.9,
          3,
          2.8,
          3,
          2.9,
          2.6,
          2.4,
          2.4,
          2.7,
          2.7,
          3,
          3.4,
          3.1,
          2.3,
          3,
          2.5,
          2.6,
          3,
          2.6,
          2.3,
          2.7,
          3,
          2.9,
          2.9,
          2.5,
          2.8,
          3.3,
          2.7,
          3,
          2.9,
          3,
          3,
          2.5,
          2.9,
          2.5,
          3.6,
          3.2,
          2.7,
          3,
          2.5,
          2.8,
          3.2,
          3,
          3.8,
          2.6,
          2.2,
          3.2,
          2.8,
          2.8,
          2.7,
          3.3,
          3.2,
          2.8,
          3,
          2.8,
          3,
          2.8,
          3.8,
          2.8,
          2.8,
          2.6,
          3,
          3.4,
          3.1,
          3,
          3.1,
          3.1,
          3.1,
          2.7,
          3.2,
          3.3,
          3,
          2.5,
          3,
          3.4,
          3
         ]
        },
        {
         "line": {
          "color": "rgba(50, 171, 96, 1.0)",
          "dash": "solid",
          "shape": "linear",
          "width": 1.3
         },
         "mode": "lines",
         "name": "petal_length",
         "text": "",
         "type": "scatter",
         "x": [
          0,
          1,
          2,
          3,
          4,
          5,
          6,
          7,
          8,
          9,
          10,
          11,
          12,
          13,
          14,
          15,
          16,
          17,
          18,
          19,
          20,
          21,
          22,
          23,
          24,
          25,
          26,
          27,
          28,
          29,
          30,
          31,
          32,
          33,
          34,
          35,
          36,
          37,
          38,
          39,
          40,
          41,
          42,
          43,
          44,
          45,
          46,
          47,
          48,
          49,
          50,
          51,
          52,
          53,
          54,
          55,
          56,
          57,
          58,
          59,
          60,
          61,
          62,
          63,
          64,
          65,
          66,
          67,
          68,
          69,
          70,
          71,
          72,
          73,
          74,
          75,
          76,
          77,
          78,
          79,
          80,
          81,
          82,
          83,
          84,
          85,
          86,
          87,
          88,
          89,
          90,
          91,
          92,
          93,
          94,
          95,
          96,
          97,
          98,
          99,
          100,
          101,
          102,
          103,
          104,
          105,
          106,
          107,
          108,
          109,
          110,
          111,
          112,
          113,
          114,
          115,
          116,
          117,
          118,
          119,
          120,
          121,
          122,
          123,
          124,
          125,
          126,
          127,
          128,
          129,
          130,
          131,
          132,
          133,
          134,
          135,
          136,
          137,
          138,
          139,
          140,
          141,
          142,
          143,
          144,
          145,
          146,
          147,
          148,
          149
         ],
         "y": [
          1.4,
          1.4,
          1.3,
          1.5,
          1.4,
          1.7,
          1.4,
          1.5,
          1.4,
          1.5,
          1.5,
          1.6,
          1.4,
          1.1,
          1.2,
          1.5,
          1.3,
          1.4,
          1.7,
          1.5,
          1.7,
          1.5,
          1,
          1.7,
          1.9,
          1.6,
          1.6,
          1.5,
          1.4,
          1.6,
          1.6,
          1.5,
          1.5,
          1.4,
          1.5,
          1.2,
          1.3,
          1.4,
          1.3,
          1.5,
          1.3,
          1.3,
          1.3,
          1.6,
          1.9,
          1.4,
          1.6,
          1.4,
          1.5,
          1.4,
          4.7,
          4.5,
          4.9,
          4,
          4.6,
          4.5,
          4.7,
          3.3,
          4.6,
          3.9,
          3.5,
          4.2,
          4,
          4.7,
          3.6,
          4.4,
          4.5,
          4.1,
          4.5,
          3.9,
          4.8,
          4,
          4.9,
          4.7,
          4.3,
          4.4,
          4.8,
          5,
          4.5,
          3.5,
          3.8,
          3.7,
          3.9,
          5.1,
          4.5,
          4.5,
          4.7,
          4.4,
          4.1,
          4,
          4.4,
          4.6,
          4,
          3.3,
          4.2,
          4.2,
          4.2,
          4.3,
          3,
          4.1,
          6,
          5.1,
          5.9,
          5.6,
          5.8,
          6.6,
          4.5,
          6.3,
          5.8,
          6.1,
          5.1,
          5.3,
          5.5,
          5,
          5.1,
          5.3,
          5.5,
          6.7,
          6.9,
          5,
          5.7,
          4.9,
          6.7,
          4.9,
          5.7,
          6,
          4.8,
          4.9,
          5.6,
          5.8,
          6.1,
          6.4,
          5.6,
          5.1,
          5.6,
          6.1,
          5.6,
          5.5,
          4.8,
          5.4,
          5.6,
          5.1,
          5.1,
          5.9,
          5.7,
          5.2,
          5,
          5.2,
          5.4,
          5.1
         ]
        },
        {
         "line": {
          "color": "rgba(128, 0, 128, 1.0)",
          "dash": "solid",
          "shape": "linear",
          "width": 1.3
         },
         "mode": "lines",
         "name": "petal_width",
         "text": "",
         "type": "scatter",
         "x": [
          0,
          1,
          2,
          3,
          4,
          5,
          6,
          7,
          8,
          9,
          10,
          11,
          12,
          13,
          14,
          15,
          16,
          17,
          18,
          19,
          20,
          21,
          22,
          23,
          24,
          25,
          26,
          27,
          28,
          29,
          30,
          31,
          32,
          33,
          34,
          35,
          36,
          37,
          38,
          39,
          40,
          41,
          42,
          43,
          44,
          45,
          46,
          47,
          48,
          49,
          50,
          51,
          52,
          53,
          54,
          55,
          56,
          57,
          58,
          59,
          60,
          61,
          62,
          63,
          64,
          65,
          66,
          67,
          68,
          69,
          70,
          71,
          72,
          73,
          74,
          75,
          76,
          77,
          78,
          79,
          80,
          81,
          82,
          83,
          84,
          85,
          86,
          87,
          88,
          89,
          90,
          91,
          92,
          93,
          94,
          95,
          96,
          97,
          98,
          99,
          100,
          101,
          102,
          103,
          104,
          105,
          106,
          107,
          108,
          109,
          110,
          111,
          112,
          113,
          114,
          115,
          116,
          117,
          118,
          119,
          120,
          121,
          122,
          123,
          124,
          125,
          126,
          127,
          128,
          129,
          130,
          131,
          132,
          133,
          134,
          135,
          136,
          137,
          138,
          139,
          140,
          141,
          142,
          143,
          144,
          145,
          146,
          147,
          148,
          149
         ],
         "y": [
          0.2,
          0.2,
          0.2,
          0.2,
          0.2,
          0.4,
          0.3,
          0.2,
          0.2,
          0.1,
          0.2,
          0.2,
          0.1,
          0.1,
          0.2,
          0.4,
          0.4,
          0.3,
          0.3,
          0.3,
          0.2,
          0.4,
          0.2,
          0.5,
          0.2,
          0.2,
          0.4,
          0.2,
          0.2,
          0.2,
          0.2,
          0.4,
          0.1,
          0.2,
          0.2,
          0.2,
          0.2,
          0.1,
          0.2,
          0.2,
          0.3,
          0.3,
          0.2,
          0.6,
          0.4,
          0.3,
          0.2,
          0.2,
          0.2,
          0.2,
          1.4,
          1.5,
          1.5,
          1.3,
          1.5,
          1.3,
          1.6,
          1,
          1.3,
          1.4,
          1,
          1.5,
          1,
          1.4,
          1.3,
          1.4,
          1.5,
          1,
          1.5,
          1.1,
          1.8,
          1.3,
          1.5,
          1.2,
          1.3,
          1.4,
          1.4,
          1.7,
          1.5,
          1,
          1.1,
          1,
          1.2,
          1.6,
          1.5,
          1.6,
          1.5,
          1.3,
          1.3,
          1.3,
          1.2,
          1.4,
          1.2,
          1,
          1.3,
          1.2,
          1.3,
          1.3,
          1.1,
          1.3,
          2.5,
          1.9,
          2.1,
          1.8,
          2.2,
          2.1,
          1.7,
          1.8,
          1.8,
          2.5,
          2,
          1.9,
          2.1,
          2,
          2.4,
          2.3,
          1.8,
          2.2,
          2.3,
          1.5,
          2.3,
          2,
          2,
          1.8,
          2.1,
          1.8,
          1.8,
          1.8,
          2.1,
          1.6,
          1.9,
          2,
          2.2,
          1.5,
          1.4,
          2.3,
          2.4,
          1.8,
          1.8,
          2.1,
          2.4,
          2.3,
          1.9,
          2.3,
          2.5,
          2.3,
          1.9,
          2,
          2.3,
          1.8
         ]
        },
        {
         "line": {
          "color": "rgba(219, 64, 82, 1.0)",
          "dash": "solid",
          "shape": "linear",
          "width": 1.3
         },
         "mode": "lines",
         "name": "species",
         "text": "",
         "type": "scatter",
         "x": [
          0,
          1,
          2,
          3,
          4,
          5,
          6,
          7,
          8,
          9,
          10,
          11,
          12,
          13,
          14,
          15,
          16,
          17,
          18,
          19,
          20,
          21,
          22,
          23,
          24,
          25,
          26,
          27,
          28,
          29,
          30,
          31,
          32,
          33,
          34,
          35,
          36,
          37,
          38,
          39,
          40,
          41,
          42,
          43,
          44,
          45,
          46,
          47,
          48,
          49,
          50,
          51,
          52,
          53,
          54,
          55,
          56,
          57,
          58,
          59,
          60,
          61,
          62,
          63,
          64,
          65,
          66,
          67,
          68,
          69,
          70,
          71,
          72,
          73,
          74,
          75,
          76,
          77,
          78,
          79,
          80,
          81,
          82,
          83,
          84,
          85,
          86,
          87,
          88,
          89,
          90,
          91,
          92,
          93,
          94,
          95,
          96,
          97,
          98,
          99,
          100,
          101,
          102,
          103,
          104,
          105,
          106,
          107,
          108,
          109,
          110,
          111,
          112,
          113,
          114,
          115,
          116,
          117,
          118,
          119,
          120,
          121,
          122,
          123,
          124,
          125,
          126,
          127,
          128,
          129,
          130,
          131,
          132,
          133,
          134,
          135,
          136,
          137,
          138,
          139,
          140,
          141,
          142,
          143,
          144,
          145,
          146,
          147,
          148,
          149
         ],
         "y": [
          "setosa",
          "setosa",
          "setosa",
          "setosa",
          "setosa",
          "setosa",
          "setosa",
          "setosa",
          "setosa",
          "setosa",
          "setosa",
          "setosa",
          "setosa",
          "setosa",
          "setosa",
          "setosa",
          "setosa",
          "setosa",
          "setosa",
          "setosa",
          "setosa",
          "setosa",
          "setosa",
          "setosa",
          "setosa",
          "setosa",
          "setosa",
          "setosa",
          "setosa",
          "setosa",
          "setosa",
          "setosa",
          "setosa",
          "setosa",
          "setosa",
          "setosa",
          "setosa",
          "setosa",
          "setosa",
          "setosa",
          "setosa",
          "setosa",
          "setosa",
          "setosa",
          "setosa",
          "setosa",
          "setosa",
          "setosa",
          "setosa",
          "setosa",
          "versicolor",
          "versicolor",
          "versicolor",
          "versicolor",
          "versicolor",
          "versicolor",
          "versicolor",
          "versicolor",
          "versicolor",
          "versicolor",
          "versicolor",
          "versicolor",
          "versicolor",
          "versicolor",
          "versicolor",
          "versicolor",
          "versicolor",
          "versicolor",
          "versicolor",
          "versicolor",
          "versicolor",
          "versicolor",
          "versicolor",
          "versicolor",
          "versicolor",
          "versicolor",
          "versicolor",
          "versicolor",
          "versicolor",
          "versicolor",
          "versicolor",
          "versicolor",
          "versicolor",
          "versicolor",
          "versicolor",
          "versicolor",
          "versicolor",
          "versicolor",
          "versicolor",
          "versicolor",
          "versicolor",
          "versicolor",
          "versicolor",
          "versicolor",
          "versicolor",
          "versicolor",
          "versicolor",
          "versicolor",
          "versicolor",
          "versicolor",
          "virginica",
          "virginica",
          "virginica",
          "virginica",
          "virginica",
          "virginica",
          "virginica",
          "virginica",
          "virginica",
          "virginica",
          "virginica",
          "virginica",
          "virginica",
          "virginica",
          "virginica",
          "virginica",
          "virginica",
          "virginica",
          "virginica",
          "virginica",
          "virginica",
          "virginica",
          "virginica",
          "virginica",
          "virginica",
          "virginica",
          "virginica",
          "virginica",
          "virginica",
          "virginica",
          "virginica",
          "virginica",
          "virginica",
          "virginica",
          "virginica",
          "virginica",
          "virginica",
          "virginica",
          "virginica",
          "virginica",
          "virginica",
          "virginica",
          "virginica",
          "virginica",
          "virginica",
          "virginica",
          "virginica",
          "virginica",
          "virginica",
          "virginica"
         ]
        }
       ],
       "layout": {
        "legend": {
         "bgcolor": "#F5F6F9",
         "font": {
          "color": "#4D5663"
         }
        },
        "paper_bgcolor": "#F5F6F9",
        "plot_bgcolor": "#F5F6F9",
        "template": {
         "data": {
          "bar": [
           {
            "error_x": {
             "color": "#2a3f5f"
            },
            "error_y": {
             "color": "#2a3f5f"
            },
            "marker": {
             "line": {
              "color": "#E5ECF6",
              "width": 0.5
             },
             "pattern": {
              "fillmode": "overlay",
              "size": 10,
              "solidity": 0.2
             }
            },
            "type": "bar"
           }
          ],
          "barpolar": [
           {
            "marker": {
             "line": {
              "color": "#E5ECF6",
              "width": 0.5
             },
             "pattern": {
              "fillmode": "overlay",
              "size": 10,
              "solidity": 0.2
             }
            },
            "type": "barpolar"
           }
          ],
          "carpet": [
           {
            "aaxis": {
             "endlinecolor": "#2a3f5f",
             "gridcolor": "white",
             "linecolor": "white",
             "minorgridcolor": "white",
             "startlinecolor": "#2a3f5f"
            },
            "baxis": {
             "endlinecolor": "#2a3f5f",
             "gridcolor": "white",
             "linecolor": "white",
             "minorgridcolor": "white",
             "startlinecolor": "#2a3f5f"
            },
            "type": "carpet"
           }
          ],
          "choropleth": [
           {
            "colorbar": {
             "outlinewidth": 0,
             "ticks": ""
            },
            "type": "choropleth"
           }
          ],
          "contour": [
           {
            "colorbar": {
             "outlinewidth": 0,
             "ticks": ""
            },
            "colorscale": [
             [
              0,
              "#0d0887"
             ],
             [
              0.1111111111111111,
              "#46039f"
             ],
             [
              0.2222222222222222,
              "#7201a8"
             ],
             [
              0.3333333333333333,
              "#9c179e"
             ],
             [
              0.4444444444444444,
              "#bd3786"
             ],
             [
              0.5555555555555556,
              "#d8576b"
             ],
             [
              0.6666666666666666,
              "#ed7953"
             ],
             [
              0.7777777777777778,
              "#fb9f3a"
             ],
             [
              0.8888888888888888,
              "#fdca26"
             ],
             [
              1,
              "#f0f921"
             ]
            ],
            "type": "contour"
           }
          ],
          "contourcarpet": [
           {
            "colorbar": {
             "outlinewidth": 0,
             "ticks": ""
            },
            "type": "contourcarpet"
           }
          ],
          "heatmap": [
           {
            "colorbar": {
             "outlinewidth": 0,
             "ticks": ""
            },
            "colorscale": [
             [
              0,
              "#0d0887"
             ],
             [
              0.1111111111111111,
              "#46039f"
             ],
             [
              0.2222222222222222,
              "#7201a8"
             ],
             [
              0.3333333333333333,
              "#9c179e"
             ],
             [
              0.4444444444444444,
              "#bd3786"
             ],
             [
              0.5555555555555556,
              "#d8576b"
             ],
             [
              0.6666666666666666,
              "#ed7953"
             ],
             [
              0.7777777777777778,
              "#fb9f3a"
             ],
             [
              0.8888888888888888,
              "#fdca26"
             ],
             [
              1,
              "#f0f921"
             ]
            ],
            "type": "heatmap"
           }
          ],
          "heatmapgl": [
           {
            "colorbar": {
             "outlinewidth": 0,
             "ticks": ""
            },
            "colorscale": [
             [
              0,
              "#0d0887"
             ],
             [
              0.1111111111111111,
              "#46039f"
             ],
             [
              0.2222222222222222,
              "#7201a8"
             ],
             [
              0.3333333333333333,
              "#9c179e"
             ],
             [
              0.4444444444444444,
              "#bd3786"
             ],
             [
              0.5555555555555556,
              "#d8576b"
             ],
             [
              0.6666666666666666,
              "#ed7953"
             ],
             [
              0.7777777777777778,
              "#fb9f3a"
             ],
             [
              0.8888888888888888,
              "#fdca26"
             ],
             [
              1,
              "#f0f921"
             ]
            ],
            "type": "heatmapgl"
           }
          ],
          "histogram": [
           {
            "marker": {
             "pattern": {
              "fillmode": "overlay",
              "size": 10,
              "solidity": 0.2
             }
            },
            "type": "histogram"
           }
          ],
          "histogram2d": [
           {
            "colorbar": {
             "outlinewidth": 0,
             "ticks": ""
            },
            "colorscale": [
             [
              0,
              "#0d0887"
             ],
             [
              0.1111111111111111,
              "#46039f"
             ],
             [
              0.2222222222222222,
              "#7201a8"
             ],
             [
              0.3333333333333333,
              "#9c179e"
             ],
             [
              0.4444444444444444,
              "#bd3786"
             ],
             [
              0.5555555555555556,
              "#d8576b"
             ],
             [
              0.6666666666666666,
              "#ed7953"
             ],
             [
              0.7777777777777778,
              "#fb9f3a"
             ],
             [
              0.8888888888888888,
              "#fdca26"
             ],
             [
              1,
              "#f0f921"
             ]
            ],
            "type": "histogram2d"
           }
          ],
          "histogram2dcontour": [
           {
            "colorbar": {
             "outlinewidth": 0,
             "ticks": ""
            },
            "colorscale": [
             [
              0,
              "#0d0887"
             ],
             [
              0.1111111111111111,
              "#46039f"
             ],
             [
              0.2222222222222222,
              "#7201a8"
             ],
             [
              0.3333333333333333,
              "#9c179e"
             ],
             [
              0.4444444444444444,
              "#bd3786"
             ],
             [
              0.5555555555555556,
              "#d8576b"
             ],
             [
              0.6666666666666666,
              "#ed7953"
             ],
             [
              0.7777777777777778,
              "#fb9f3a"
             ],
             [
              0.8888888888888888,
              "#fdca26"
             ],
             [
              1,
              "#f0f921"
             ]
            ],
            "type": "histogram2dcontour"
           }
          ],
          "mesh3d": [
           {
            "colorbar": {
             "outlinewidth": 0,
             "ticks": ""
            },
            "type": "mesh3d"
           }
          ],
          "parcoords": [
           {
            "line": {
             "colorbar": {
              "outlinewidth": 0,
              "ticks": ""
             }
            },
            "type": "parcoords"
           }
          ],
          "pie": [
           {
            "automargin": true,
            "type": "pie"
           }
          ],
          "scatter": [
           {
            "fillpattern": {
             "fillmode": "overlay",
             "size": 10,
             "solidity": 0.2
            },
            "type": "scatter"
           }
          ],
          "scatter3d": [
           {
            "line": {
             "colorbar": {
              "outlinewidth": 0,
              "ticks": ""
             }
            },
            "marker": {
             "colorbar": {
              "outlinewidth": 0,
              "ticks": ""
             }
            },
            "type": "scatter3d"
           }
          ],
          "scattercarpet": [
           {
            "marker": {
             "colorbar": {
              "outlinewidth": 0,
              "ticks": ""
             }
            },
            "type": "scattercarpet"
           }
          ],
          "scattergeo": [
           {
            "marker": {
             "colorbar": {
              "outlinewidth": 0,
              "ticks": ""
             }
            },
            "type": "scattergeo"
           }
          ],
          "scattergl": [
           {
            "marker": {
             "colorbar": {
              "outlinewidth": 0,
              "ticks": ""
             }
            },
            "type": "scattergl"
           }
          ],
          "scattermapbox": [
           {
            "marker": {
             "colorbar": {
              "outlinewidth": 0,
              "ticks": ""
             }
            },
            "type": "scattermapbox"
           }
          ],
          "scatterpolar": [
           {
            "marker": {
             "colorbar": {
              "outlinewidth": 0,
              "ticks": ""
             }
            },
            "type": "scatterpolar"
           }
          ],
          "scatterpolargl": [
           {
            "marker": {
             "colorbar": {
              "outlinewidth": 0,
              "ticks": ""
             }
            },
            "type": "scatterpolargl"
           }
          ],
          "scatterternary": [
           {
            "marker": {
             "colorbar": {
              "outlinewidth": 0,
              "ticks": ""
             }
            },
            "type": "scatterternary"
           }
          ],
          "surface": [
           {
            "colorbar": {
             "outlinewidth": 0,
             "ticks": ""
            },
            "colorscale": [
             [
              0,
              "#0d0887"
             ],
             [
              0.1111111111111111,
              "#46039f"
             ],
             [
              0.2222222222222222,
              "#7201a8"
             ],
             [
              0.3333333333333333,
              "#9c179e"
             ],
             [
              0.4444444444444444,
              "#bd3786"
             ],
             [
              0.5555555555555556,
              "#d8576b"
             ],
             [
              0.6666666666666666,
              "#ed7953"
             ],
             [
              0.7777777777777778,
              "#fb9f3a"
             ],
             [
              0.8888888888888888,
              "#fdca26"
             ],
             [
              1,
              "#f0f921"
             ]
            ],
            "type": "surface"
           }
          ],
          "table": [
           {
            "cells": {
             "fill": {
              "color": "#EBF0F8"
             },
             "line": {
              "color": "white"
             }
            },
            "header": {
             "fill": {
              "color": "#C8D4E3"
             },
             "line": {
              "color": "white"
             }
            },
            "type": "table"
           }
          ]
         },
         "layout": {
          "annotationdefaults": {
           "arrowcolor": "#2a3f5f",
           "arrowhead": 0,
           "arrowwidth": 1
          },
          "autotypenumbers": "strict",
          "coloraxis": {
           "colorbar": {
            "outlinewidth": 0,
            "ticks": ""
           }
          },
          "colorscale": {
           "diverging": [
            [
             0,
             "#8e0152"
            ],
            [
             0.1,
             "#c51b7d"
            ],
            [
             0.2,
             "#de77ae"
            ],
            [
             0.3,
             "#f1b6da"
            ],
            [
             0.4,
             "#fde0ef"
            ],
            [
             0.5,
             "#f7f7f7"
            ],
            [
             0.6,
             "#e6f5d0"
            ],
            [
             0.7,
             "#b8e186"
            ],
            [
             0.8,
             "#7fbc41"
            ],
            [
             0.9,
             "#4d9221"
            ],
            [
             1,
             "#276419"
            ]
           ],
           "sequential": [
            [
             0,
             "#0d0887"
            ],
            [
             0.1111111111111111,
             "#46039f"
            ],
            [
             0.2222222222222222,
             "#7201a8"
            ],
            [
             0.3333333333333333,
             "#9c179e"
            ],
            [
             0.4444444444444444,
             "#bd3786"
            ],
            [
             0.5555555555555556,
             "#d8576b"
            ],
            [
             0.6666666666666666,
             "#ed7953"
            ],
            [
             0.7777777777777778,
             "#fb9f3a"
            ],
            [
             0.8888888888888888,
             "#fdca26"
            ],
            [
             1,
             "#f0f921"
            ]
           ],
           "sequentialminus": [
            [
             0,
             "#0d0887"
            ],
            [
             0.1111111111111111,
             "#46039f"
            ],
            [
             0.2222222222222222,
             "#7201a8"
            ],
            [
             0.3333333333333333,
             "#9c179e"
            ],
            [
             0.4444444444444444,
             "#bd3786"
            ],
            [
             0.5555555555555556,
             "#d8576b"
            ],
            [
             0.6666666666666666,
             "#ed7953"
            ],
            [
             0.7777777777777778,
             "#fb9f3a"
            ],
            [
             0.8888888888888888,
             "#fdca26"
            ],
            [
             1,
             "#f0f921"
            ]
           ]
          },
          "colorway": [
           "#636efa",
           "#EF553B",
           "#00cc96",
           "#ab63fa",
           "#FFA15A",
           "#19d3f3",
           "#FF6692",
           "#B6E880",
           "#FF97FF",
           "#FECB52"
          ],
          "font": {
           "color": "#2a3f5f"
          },
          "geo": {
           "bgcolor": "white",
           "lakecolor": "white",
           "landcolor": "#E5ECF6",
           "showlakes": true,
           "showland": true,
           "subunitcolor": "white"
          },
          "hoverlabel": {
           "align": "left"
          },
          "hovermode": "closest",
          "mapbox": {
           "style": "light"
          },
          "paper_bgcolor": "white",
          "plot_bgcolor": "#E5ECF6",
          "polar": {
           "angularaxis": {
            "gridcolor": "white",
            "linecolor": "white",
            "ticks": ""
           },
           "bgcolor": "#E5ECF6",
           "radialaxis": {
            "gridcolor": "white",
            "linecolor": "white",
            "ticks": ""
           }
          },
          "scene": {
           "xaxis": {
            "backgroundcolor": "#E5ECF6",
            "gridcolor": "white",
            "gridwidth": 2,
            "linecolor": "white",
            "showbackground": true,
            "ticks": "",
            "zerolinecolor": "white"
           },
           "yaxis": {
            "backgroundcolor": "#E5ECF6",
            "gridcolor": "white",
            "gridwidth": 2,
            "linecolor": "white",
            "showbackground": true,
            "ticks": "",
            "zerolinecolor": "white"
           },
           "zaxis": {
            "backgroundcolor": "#E5ECF6",
            "gridcolor": "white",
            "gridwidth": 2,
            "linecolor": "white",
            "showbackground": true,
            "ticks": "",
            "zerolinecolor": "white"
           }
          },
          "shapedefaults": {
           "line": {
            "color": "#2a3f5f"
           }
          },
          "ternary": {
           "aaxis": {
            "gridcolor": "white",
            "linecolor": "white",
            "ticks": ""
           },
           "baxis": {
            "gridcolor": "white",
            "linecolor": "white",
            "ticks": ""
           },
           "bgcolor": "#E5ECF6",
           "caxis": {
            "gridcolor": "white",
            "linecolor": "white",
            "ticks": ""
           }
          },
          "title": {
           "x": 0.05
          },
          "xaxis": {
           "automargin": true,
           "gridcolor": "white",
           "linecolor": "white",
           "ticks": "",
           "title": {
            "standoff": 15
           },
           "zerolinecolor": "white",
           "zerolinewidth": 2
          },
          "yaxis": {
           "automargin": true,
           "gridcolor": "white",
           "linecolor": "white",
           "ticks": "",
           "title": {
            "standoff": 15
           },
           "zerolinecolor": "white",
           "zerolinewidth": 2
          }
         }
        },
        "title": {
         "font": {
          "color": "#4D5663"
         }
        },
        "xaxis": {
         "gridcolor": "#E1E5ED",
         "showgrid": true,
         "tickfont": {
          "color": "#4D5663"
         },
         "title": {
          "font": {
           "color": "#4D5663"
          },
          "text": ""
         },
         "zerolinecolor": "#E1E5ED"
        },
        "yaxis": {
         "gridcolor": "#E1E5ED",
         "showgrid": true,
         "tickfont": {
          "color": "#4D5663"
         },
         "title": {
          "font": {
           "color": "#4D5663"
          },
          "text": ""
         },
         "zerolinecolor": "#E1E5ED"
        }
       }
      },
      "text/html": [
       "<div>                            <div id=\"44e5c99e-c102-4b47-8511-13c65123ea4d\" class=\"plotly-graph-div\" style=\"height:525px; width:100%;\"></div>            <script type=\"text/javascript\">                require([\"plotly\"], function(Plotly) {                    window.PLOTLYENV=window.PLOTLYENV || {};\n",
       "                    window.PLOTLYENV.BASE_URL='https://plot.ly';                                    if (document.getElementById(\"44e5c99e-c102-4b47-8511-13c65123ea4d\")) {                    Plotly.newPlot(                        \"44e5c99e-c102-4b47-8511-13c65123ea4d\",                        [{\"line\":{\"color\":\"rgba(255, 153, 51, 1.0)\",\"dash\":\"solid\",\"shape\":\"linear\",\"width\":1.3},\"mode\":\"lines\",\"name\":\"sepal_length\",\"text\":\"\",\"x\":[0,1,2,3,4,5,6,7,8,9,10,11,12,13,14,15,16,17,18,19,20,21,22,23,24,25,26,27,28,29,30,31,32,33,34,35,36,37,38,39,40,41,42,43,44,45,46,47,48,49,50,51,52,53,54,55,56,57,58,59,60,61,62,63,64,65,66,67,68,69,70,71,72,73,74,75,76,77,78,79,80,81,82,83,84,85,86,87,88,89,90,91,92,93,94,95,96,97,98,99,100,101,102,103,104,105,106,107,108,109,110,111,112,113,114,115,116,117,118,119,120,121,122,123,124,125,126,127,128,129,130,131,132,133,134,135,136,137,138,139,140,141,142,143,144,145,146,147,148,149],\"y\":[5.1,4.9,4.7,4.6,5.0,5.4,4.6,5.0,4.4,4.9,5.4,4.8,4.8,4.3,5.8,5.7,5.4,5.1,5.7,5.1,5.4,5.1,4.6,5.1,4.8,5.0,5.0,5.2,5.2,4.7,4.8,5.4,5.2,5.5,4.9,5.0,5.5,4.9,4.4,5.1,5.0,4.5,4.4,5.0,5.1,4.8,5.1,4.6,5.3,5.0,7.0,6.4,6.9,5.5,6.5,5.7,6.3,4.9,6.6,5.2,5.0,5.9,6.0,6.1,5.6,6.7,5.6,5.8,6.2,5.6,5.9,6.1,6.3,6.1,6.4,6.6,6.8,6.7,6.0,5.7,5.5,5.5,5.8,6.0,5.4,6.0,6.7,6.3,5.6,5.5,5.5,6.1,5.8,5.0,5.6,5.7,5.7,6.2,5.1,5.7,6.3,5.8,7.1,6.3,6.5,7.6,4.9,7.3,6.7,7.2,6.5,6.4,6.8,5.7,5.8,6.4,6.5,7.7,7.7,6.0,6.9,5.6,7.7,6.3,6.7,7.2,6.2,6.1,6.4,7.2,7.4,7.9,6.4,6.3,6.1,7.7,6.3,6.4,6.0,6.9,6.7,6.9,5.8,6.8,6.7,6.7,6.3,6.5,6.2,5.9],\"type\":\"scatter\"},{\"line\":{\"color\":\"rgba(55, 128, 191, 1.0)\",\"dash\":\"solid\",\"shape\":\"linear\",\"width\":1.3},\"mode\":\"lines\",\"name\":\"sepal_width\",\"text\":\"\",\"x\":[0,1,2,3,4,5,6,7,8,9,10,11,12,13,14,15,16,17,18,19,20,21,22,23,24,25,26,27,28,29,30,31,32,33,34,35,36,37,38,39,40,41,42,43,44,45,46,47,48,49,50,51,52,53,54,55,56,57,58,59,60,61,62,63,64,65,66,67,68,69,70,71,72,73,74,75,76,77,78,79,80,81,82,83,84,85,86,87,88,89,90,91,92,93,94,95,96,97,98,99,100,101,102,103,104,105,106,107,108,109,110,111,112,113,114,115,116,117,118,119,120,121,122,123,124,125,126,127,128,129,130,131,132,133,134,135,136,137,138,139,140,141,142,143,144,145,146,147,148,149],\"y\":[3.5,3.0,3.2,3.1,3.6,3.9,3.4,3.4,2.9,3.1,3.7,3.4,3.0,3.0,4.0,4.4,3.9,3.5,3.8,3.8,3.4,3.7,3.6,3.3,3.4,3.0,3.4,3.5,3.4,3.2,3.1,3.4,4.1,4.2,3.1,3.2,3.5,3.6,3.0,3.4,3.5,2.3,3.2,3.5,3.8,3.0,3.8,3.2,3.7,3.3,3.2,3.2,3.1,2.3,2.8,2.8,3.3,2.4,2.9,2.7,2.0,3.0,2.2,2.9,2.9,3.1,3.0,2.7,2.2,2.5,3.2,2.8,2.5,2.8,2.9,3.0,2.8,3.0,2.9,2.6,2.4,2.4,2.7,2.7,3.0,3.4,3.1,2.3,3.0,2.5,2.6,3.0,2.6,2.3,2.7,3.0,2.9,2.9,2.5,2.8,3.3,2.7,3.0,2.9,3.0,3.0,2.5,2.9,2.5,3.6,3.2,2.7,3.0,2.5,2.8,3.2,3.0,3.8,2.6,2.2,3.2,2.8,2.8,2.7,3.3,3.2,2.8,3.0,2.8,3.0,2.8,3.8,2.8,2.8,2.6,3.0,3.4,3.1,3.0,3.1,3.1,3.1,2.7,3.2,3.3,3.0,2.5,3.0,3.4,3.0],\"type\":\"scatter\"},{\"line\":{\"color\":\"rgba(50, 171, 96, 1.0)\",\"dash\":\"solid\",\"shape\":\"linear\",\"width\":1.3},\"mode\":\"lines\",\"name\":\"petal_length\",\"text\":\"\",\"x\":[0,1,2,3,4,5,6,7,8,9,10,11,12,13,14,15,16,17,18,19,20,21,22,23,24,25,26,27,28,29,30,31,32,33,34,35,36,37,38,39,40,41,42,43,44,45,46,47,48,49,50,51,52,53,54,55,56,57,58,59,60,61,62,63,64,65,66,67,68,69,70,71,72,73,74,75,76,77,78,79,80,81,82,83,84,85,86,87,88,89,90,91,92,93,94,95,96,97,98,99,100,101,102,103,104,105,106,107,108,109,110,111,112,113,114,115,116,117,118,119,120,121,122,123,124,125,126,127,128,129,130,131,132,133,134,135,136,137,138,139,140,141,142,143,144,145,146,147,148,149],\"y\":[1.4,1.4,1.3,1.5,1.4,1.7,1.4,1.5,1.4,1.5,1.5,1.6,1.4,1.1,1.2,1.5,1.3,1.4,1.7,1.5,1.7,1.5,1.0,1.7,1.9,1.6,1.6,1.5,1.4,1.6,1.6,1.5,1.5,1.4,1.5,1.2,1.3,1.4,1.3,1.5,1.3,1.3,1.3,1.6,1.9,1.4,1.6,1.4,1.5,1.4,4.7,4.5,4.9,4.0,4.6,4.5,4.7,3.3,4.6,3.9,3.5,4.2,4.0,4.7,3.6,4.4,4.5,4.1,4.5,3.9,4.8,4.0,4.9,4.7,4.3,4.4,4.8,5.0,4.5,3.5,3.8,3.7,3.9,5.1,4.5,4.5,4.7,4.4,4.1,4.0,4.4,4.6,4.0,3.3,4.2,4.2,4.2,4.3,3.0,4.1,6.0,5.1,5.9,5.6,5.8,6.6,4.5,6.3,5.8,6.1,5.1,5.3,5.5,5.0,5.1,5.3,5.5,6.7,6.9,5.0,5.7,4.9,6.7,4.9,5.7,6.0,4.8,4.9,5.6,5.8,6.1,6.4,5.6,5.1,5.6,6.1,5.6,5.5,4.8,5.4,5.6,5.1,5.1,5.9,5.7,5.2,5.0,5.2,5.4,5.1],\"type\":\"scatter\"},{\"line\":{\"color\":\"rgba(128, 0, 128, 1.0)\",\"dash\":\"solid\",\"shape\":\"linear\",\"width\":1.3},\"mode\":\"lines\",\"name\":\"petal_width\",\"text\":\"\",\"x\":[0,1,2,3,4,5,6,7,8,9,10,11,12,13,14,15,16,17,18,19,20,21,22,23,24,25,26,27,28,29,30,31,32,33,34,35,36,37,38,39,40,41,42,43,44,45,46,47,48,49,50,51,52,53,54,55,56,57,58,59,60,61,62,63,64,65,66,67,68,69,70,71,72,73,74,75,76,77,78,79,80,81,82,83,84,85,86,87,88,89,90,91,92,93,94,95,96,97,98,99,100,101,102,103,104,105,106,107,108,109,110,111,112,113,114,115,116,117,118,119,120,121,122,123,124,125,126,127,128,129,130,131,132,133,134,135,136,137,138,139,140,141,142,143,144,145,146,147,148,149],\"y\":[0.2,0.2,0.2,0.2,0.2,0.4,0.3,0.2,0.2,0.1,0.2,0.2,0.1,0.1,0.2,0.4,0.4,0.3,0.3,0.3,0.2,0.4,0.2,0.5,0.2,0.2,0.4,0.2,0.2,0.2,0.2,0.4,0.1,0.2,0.2,0.2,0.2,0.1,0.2,0.2,0.3,0.3,0.2,0.6,0.4,0.3,0.2,0.2,0.2,0.2,1.4,1.5,1.5,1.3,1.5,1.3,1.6,1.0,1.3,1.4,1.0,1.5,1.0,1.4,1.3,1.4,1.5,1.0,1.5,1.1,1.8,1.3,1.5,1.2,1.3,1.4,1.4,1.7,1.5,1.0,1.1,1.0,1.2,1.6,1.5,1.6,1.5,1.3,1.3,1.3,1.2,1.4,1.2,1.0,1.3,1.2,1.3,1.3,1.1,1.3,2.5,1.9,2.1,1.8,2.2,2.1,1.7,1.8,1.8,2.5,2.0,1.9,2.1,2.0,2.4,2.3,1.8,2.2,2.3,1.5,2.3,2.0,2.0,1.8,2.1,1.8,1.8,1.8,2.1,1.6,1.9,2.0,2.2,1.5,1.4,2.3,2.4,1.8,1.8,2.1,2.4,2.3,1.9,2.3,2.5,2.3,1.9,2.0,2.3,1.8],\"type\":\"scatter\"},{\"line\":{\"color\":\"rgba(219, 64, 82, 1.0)\",\"dash\":\"solid\",\"shape\":\"linear\",\"width\":1.3},\"mode\":\"lines\",\"name\":\"species\",\"text\":\"\",\"x\":[0,1,2,3,4,5,6,7,8,9,10,11,12,13,14,15,16,17,18,19,20,21,22,23,24,25,26,27,28,29,30,31,32,33,34,35,36,37,38,39,40,41,42,43,44,45,46,47,48,49,50,51,52,53,54,55,56,57,58,59,60,61,62,63,64,65,66,67,68,69,70,71,72,73,74,75,76,77,78,79,80,81,82,83,84,85,86,87,88,89,90,91,92,93,94,95,96,97,98,99,100,101,102,103,104,105,106,107,108,109,110,111,112,113,114,115,116,117,118,119,120,121,122,123,124,125,126,127,128,129,130,131,132,133,134,135,136,137,138,139,140,141,142,143,144,145,146,147,148,149],\"y\":[\"setosa\",\"setosa\",\"setosa\",\"setosa\",\"setosa\",\"setosa\",\"setosa\",\"setosa\",\"setosa\",\"setosa\",\"setosa\",\"setosa\",\"setosa\",\"setosa\",\"setosa\",\"setosa\",\"setosa\",\"setosa\",\"setosa\",\"setosa\",\"setosa\",\"setosa\",\"setosa\",\"setosa\",\"setosa\",\"setosa\",\"setosa\",\"setosa\",\"setosa\",\"setosa\",\"setosa\",\"setosa\",\"setosa\",\"setosa\",\"setosa\",\"setosa\",\"setosa\",\"setosa\",\"setosa\",\"setosa\",\"setosa\",\"setosa\",\"setosa\",\"setosa\",\"setosa\",\"setosa\",\"setosa\",\"setosa\",\"setosa\",\"setosa\",\"versicolor\",\"versicolor\",\"versicolor\",\"versicolor\",\"versicolor\",\"versicolor\",\"versicolor\",\"versicolor\",\"versicolor\",\"versicolor\",\"versicolor\",\"versicolor\",\"versicolor\",\"versicolor\",\"versicolor\",\"versicolor\",\"versicolor\",\"versicolor\",\"versicolor\",\"versicolor\",\"versicolor\",\"versicolor\",\"versicolor\",\"versicolor\",\"versicolor\",\"versicolor\",\"versicolor\",\"versicolor\",\"versicolor\",\"versicolor\",\"versicolor\",\"versicolor\",\"versicolor\",\"versicolor\",\"versicolor\",\"versicolor\",\"versicolor\",\"versicolor\",\"versicolor\",\"versicolor\",\"versicolor\",\"versicolor\",\"versicolor\",\"versicolor\",\"versicolor\",\"versicolor\",\"versicolor\",\"versicolor\",\"versicolor\",\"versicolor\",\"virginica\",\"virginica\",\"virginica\",\"virginica\",\"virginica\",\"virginica\",\"virginica\",\"virginica\",\"virginica\",\"virginica\",\"virginica\",\"virginica\",\"virginica\",\"virginica\",\"virginica\",\"virginica\",\"virginica\",\"virginica\",\"virginica\",\"virginica\",\"virginica\",\"virginica\",\"virginica\",\"virginica\",\"virginica\",\"virginica\",\"virginica\",\"virginica\",\"virginica\",\"virginica\",\"virginica\",\"virginica\",\"virginica\",\"virginica\",\"virginica\",\"virginica\",\"virginica\",\"virginica\",\"virginica\",\"virginica\",\"virginica\",\"virginica\",\"virginica\",\"virginica\",\"virginica\",\"virginica\",\"virginica\",\"virginica\",\"virginica\",\"virginica\"],\"type\":\"scatter\"}],                        {\"legend\":{\"bgcolor\":\"#F5F6F9\",\"font\":{\"color\":\"#4D5663\"}},\"paper_bgcolor\":\"#F5F6F9\",\"plot_bgcolor\":\"#F5F6F9\",\"template\":{\"data\":{\"barpolar\":[{\"marker\":{\"line\":{\"color\":\"#E5ECF6\",\"width\":0.5},\"pattern\":{\"fillmode\":\"overlay\",\"size\":10,\"solidity\":0.2}},\"type\":\"barpolar\"}],\"bar\":[{\"error_x\":{\"color\":\"#2a3f5f\"},\"error_y\":{\"color\":\"#2a3f5f\"},\"marker\":{\"line\":{\"color\":\"#E5ECF6\",\"width\":0.5},\"pattern\":{\"fillmode\":\"overlay\",\"size\":10,\"solidity\":0.2}},\"type\":\"bar\"}],\"carpet\":[{\"aaxis\":{\"endlinecolor\":\"#2a3f5f\",\"gridcolor\":\"white\",\"linecolor\":\"white\",\"minorgridcolor\":\"white\",\"startlinecolor\":\"#2a3f5f\"},\"baxis\":{\"endlinecolor\":\"#2a3f5f\",\"gridcolor\":\"white\",\"linecolor\":\"white\",\"minorgridcolor\":\"white\",\"startlinecolor\":\"#2a3f5f\"},\"type\":\"carpet\"}],\"choropleth\":[{\"colorbar\":{\"outlinewidth\":0,\"ticks\":\"\"},\"type\":\"choropleth\"}],\"contourcarpet\":[{\"colorbar\":{\"outlinewidth\":0,\"ticks\":\"\"},\"type\":\"contourcarpet\"}],\"contour\":[{\"colorbar\":{\"outlinewidth\":0,\"ticks\":\"\"},\"colorscale\":[[0.0,\"#0d0887\"],[0.1111111111111111,\"#46039f\"],[0.2222222222222222,\"#7201a8\"],[0.3333333333333333,\"#9c179e\"],[0.4444444444444444,\"#bd3786\"],[0.5555555555555556,\"#d8576b\"],[0.6666666666666666,\"#ed7953\"],[0.7777777777777778,\"#fb9f3a\"],[0.8888888888888888,\"#fdca26\"],[1.0,\"#f0f921\"]],\"type\":\"contour\"}],\"heatmapgl\":[{\"colorbar\":{\"outlinewidth\":0,\"ticks\":\"\"},\"colorscale\":[[0.0,\"#0d0887\"],[0.1111111111111111,\"#46039f\"],[0.2222222222222222,\"#7201a8\"],[0.3333333333333333,\"#9c179e\"],[0.4444444444444444,\"#bd3786\"],[0.5555555555555556,\"#d8576b\"],[0.6666666666666666,\"#ed7953\"],[0.7777777777777778,\"#fb9f3a\"],[0.8888888888888888,\"#fdca26\"],[1.0,\"#f0f921\"]],\"type\":\"heatmapgl\"}],\"heatmap\":[{\"colorbar\":{\"outlinewidth\":0,\"ticks\":\"\"},\"colorscale\":[[0.0,\"#0d0887\"],[0.1111111111111111,\"#46039f\"],[0.2222222222222222,\"#7201a8\"],[0.3333333333333333,\"#9c179e\"],[0.4444444444444444,\"#bd3786\"],[0.5555555555555556,\"#d8576b\"],[0.6666666666666666,\"#ed7953\"],[0.7777777777777778,\"#fb9f3a\"],[0.8888888888888888,\"#fdca26\"],[1.0,\"#f0f921\"]],\"type\":\"heatmap\"}],\"histogram2dcontour\":[{\"colorbar\":{\"outlinewidth\":0,\"ticks\":\"\"},\"colorscale\":[[0.0,\"#0d0887\"],[0.1111111111111111,\"#46039f\"],[0.2222222222222222,\"#7201a8\"],[0.3333333333333333,\"#9c179e\"],[0.4444444444444444,\"#bd3786\"],[0.5555555555555556,\"#d8576b\"],[0.6666666666666666,\"#ed7953\"],[0.7777777777777778,\"#fb9f3a\"],[0.8888888888888888,\"#fdca26\"],[1.0,\"#f0f921\"]],\"type\":\"histogram2dcontour\"}],\"histogram2d\":[{\"colorbar\":{\"outlinewidth\":0,\"ticks\":\"\"},\"colorscale\":[[0.0,\"#0d0887\"],[0.1111111111111111,\"#46039f\"],[0.2222222222222222,\"#7201a8\"],[0.3333333333333333,\"#9c179e\"],[0.4444444444444444,\"#bd3786\"],[0.5555555555555556,\"#d8576b\"],[0.6666666666666666,\"#ed7953\"],[0.7777777777777778,\"#fb9f3a\"],[0.8888888888888888,\"#fdca26\"],[1.0,\"#f0f921\"]],\"type\":\"histogram2d\"}],\"histogram\":[{\"marker\":{\"pattern\":{\"fillmode\":\"overlay\",\"size\":10,\"solidity\":0.2}},\"type\":\"histogram\"}],\"mesh3d\":[{\"colorbar\":{\"outlinewidth\":0,\"ticks\":\"\"},\"type\":\"mesh3d\"}],\"parcoords\":[{\"line\":{\"colorbar\":{\"outlinewidth\":0,\"ticks\":\"\"}},\"type\":\"parcoords\"}],\"pie\":[{\"automargin\":true,\"type\":\"pie\"}],\"scatter3d\":[{\"line\":{\"colorbar\":{\"outlinewidth\":0,\"ticks\":\"\"}},\"marker\":{\"colorbar\":{\"outlinewidth\":0,\"ticks\":\"\"}},\"type\":\"scatter3d\"}],\"scattercarpet\":[{\"marker\":{\"colorbar\":{\"outlinewidth\":0,\"ticks\":\"\"}},\"type\":\"scattercarpet\"}],\"scattergeo\":[{\"marker\":{\"colorbar\":{\"outlinewidth\":0,\"ticks\":\"\"}},\"type\":\"scattergeo\"}],\"scattergl\":[{\"marker\":{\"colorbar\":{\"outlinewidth\":0,\"ticks\":\"\"}},\"type\":\"scattergl\"}],\"scattermapbox\":[{\"marker\":{\"colorbar\":{\"outlinewidth\":0,\"ticks\":\"\"}},\"type\":\"scattermapbox\"}],\"scatterpolargl\":[{\"marker\":{\"colorbar\":{\"outlinewidth\":0,\"ticks\":\"\"}},\"type\":\"scatterpolargl\"}],\"scatterpolar\":[{\"marker\":{\"colorbar\":{\"outlinewidth\":0,\"ticks\":\"\"}},\"type\":\"scatterpolar\"}],\"scatter\":[{\"fillpattern\":{\"fillmode\":\"overlay\",\"size\":10,\"solidity\":0.2},\"type\":\"scatter\"}],\"scatterternary\":[{\"marker\":{\"colorbar\":{\"outlinewidth\":0,\"ticks\":\"\"}},\"type\":\"scatterternary\"}],\"surface\":[{\"colorbar\":{\"outlinewidth\":0,\"ticks\":\"\"},\"colorscale\":[[0.0,\"#0d0887\"],[0.1111111111111111,\"#46039f\"],[0.2222222222222222,\"#7201a8\"],[0.3333333333333333,\"#9c179e\"],[0.4444444444444444,\"#bd3786\"],[0.5555555555555556,\"#d8576b\"],[0.6666666666666666,\"#ed7953\"],[0.7777777777777778,\"#fb9f3a\"],[0.8888888888888888,\"#fdca26\"],[1.0,\"#f0f921\"]],\"type\":\"surface\"}],\"table\":[{\"cells\":{\"fill\":{\"color\":\"#EBF0F8\"},\"line\":{\"color\":\"white\"}},\"header\":{\"fill\":{\"color\":\"#C8D4E3\"},\"line\":{\"color\":\"white\"}},\"type\":\"table\"}]},\"layout\":{\"annotationdefaults\":{\"arrowcolor\":\"#2a3f5f\",\"arrowhead\":0,\"arrowwidth\":1},\"autotypenumbers\":\"strict\",\"coloraxis\":{\"colorbar\":{\"outlinewidth\":0,\"ticks\":\"\"}},\"colorscale\":{\"diverging\":[[0,\"#8e0152\"],[0.1,\"#c51b7d\"],[0.2,\"#de77ae\"],[0.3,\"#f1b6da\"],[0.4,\"#fde0ef\"],[0.5,\"#f7f7f7\"],[0.6,\"#e6f5d0\"],[0.7,\"#b8e186\"],[0.8,\"#7fbc41\"],[0.9,\"#4d9221\"],[1,\"#276419\"]],\"sequential\":[[0.0,\"#0d0887\"],[0.1111111111111111,\"#46039f\"],[0.2222222222222222,\"#7201a8\"],[0.3333333333333333,\"#9c179e\"],[0.4444444444444444,\"#bd3786\"],[0.5555555555555556,\"#d8576b\"],[0.6666666666666666,\"#ed7953\"],[0.7777777777777778,\"#fb9f3a\"],[0.8888888888888888,\"#fdca26\"],[1.0,\"#f0f921\"]],\"sequentialminus\":[[0.0,\"#0d0887\"],[0.1111111111111111,\"#46039f\"],[0.2222222222222222,\"#7201a8\"],[0.3333333333333333,\"#9c179e\"],[0.4444444444444444,\"#bd3786\"],[0.5555555555555556,\"#d8576b\"],[0.6666666666666666,\"#ed7953\"],[0.7777777777777778,\"#fb9f3a\"],[0.8888888888888888,\"#fdca26\"],[1.0,\"#f0f921\"]]},\"colorway\":[\"#636efa\",\"#EF553B\",\"#00cc96\",\"#ab63fa\",\"#FFA15A\",\"#19d3f3\",\"#FF6692\",\"#B6E880\",\"#FF97FF\",\"#FECB52\"],\"font\":{\"color\":\"#2a3f5f\"},\"geo\":{\"bgcolor\":\"white\",\"lakecolor\":\"white\",\"landcolor\":\"#E5ECF6\",\"showlakes\":true,\"showland\":true,\"subunitcolor\":\"white\"},\"hoverlabel\":{\"align\":\"left\"},\"hovermode\":\"closest\",\"mapbox\":{\"style\":\"light\"},\"paper_bgcolor\":\"white\",\"plot_bgcolor\":\"#E5ECF6\",\"polar\":{\"angularaxis\":{\"gridcolor\":\"white\",\"linecolor\":\"white\",\"ticks\":\"\"},\"bgcolor\":\"#E5ECF6\",\"radialaxis\":{\"gridcolor\":\"white\",\"linecolor\":\"white\",\"ticks\":\"\"}},\"scene\":{\"xaxis\":{\"backgroundcolor\":\"#E5ECF6\",\"gridcolor\":\"white\",\"gridwidth\":2,\"linecolor\":\"white\",\"showbackground\":true,\"ticks\":\"\",\"zerolinecolor\":\"white\"},\"yaxis\":{\"backgroundcolor\":\"#E5ECF6\",\"gridcolor\":\"white\",\"gridwidth\":2,\"linecolor\":\"white\",\"showbackground\":true,\"ticks\":\"\",\"zerolinecolor\":\"white\"},\"zaxis\":{\"backgroundcolor\":\"#E5ECF6\",\"gridcolor\":\"white\",\"gridwidth\":2,\"linecolor\":\"white\",\"showbackground\":true,\"ticks\":\"\",\"zerolinecolor\":\"white\"}},\"shapedefaults\":{\"line\":{\"color\":\"#2a3f5f\"}},\"ternary\":{\"aaxis\":{\"gridcolor\":\"white\",\"linecolor\":\"white\",\"ticks\":\"\"},\"baxis\":{\"gridcolor\":\"white\",\"linecolor\":\"white\",\"ticks\":\"\"},\"bgcolor\":\"#E5ECF6\",\"caxis\":{\"gridcolor\":\"white\",\"linecolor\":\"white\",\"ticks\":\"\"}},\"title\":{\"x\":0.05},\"xaxis\":{\"automargin\":true,\"gridcolor\":\"white\",\"linecolor\":\"white\",\"ticks\":\"\",\"title\":{\"standoff\":15},\"zerolinecolor\":\"white\",\"zerolinewidth\":2},\"yaxis\":{\"automargin\":true,\"gridcolor\":\"white\",\"linecolor\":\"white\",\"ticks\":\"\",\"title\":{\"standoff\":15},\"zerolinecolor\":\"white\",\"zerolinewidth\":2}}},\"title\":{\"font\":{\"color\":\"#4D5663\"}},\"xaxis\":{\"gridcolor\":\"#E1E5ED\",\"showgrid\":true,\"tickfont\":{\"color\":\"#4D5663\"},\"title\":{\"font\":{\"color\":\"#4D5663\"},\"text\":\"\"},\"zerolinecolor\":\"#E1E5ED\"},\"yaxis\":{\"gridcolor\":\"#E1E5ED\",\"showgrid\":true,\"tickfont\":{\"color\":\"#4D5663\"},\"title\":{\"font\":{\"color\":\"#4D5663\"},\"text\":\"\"},\"zerolinecolor\":\"#E1E5ED\"}},                        {\"showLink\": true, \"linkText\": \"Export to plot.ly\", \"plotlyServerURL\": \"https://plot.ly\", \"responsive\": true}                    ).then(function(){\n",
       "                            \n",
       "var gd = document.getElementById('44e5c99e-c102-4b47-8511-13c65123ea4d');\n",
       "var x = new MutationObserver(function (mutations, observer) {{\n",
       "        var display = window.getComputedStyle(gd).display;\n",
       "        if (!display || display === 'none') {{\n",
       "            console.log([gd, 'removed!']);\n",
       "            Plotly.purge(gd);\n",
       "            observer.disconnect();\n",
       "        }}\n",
       "}});\n",
       "\n",
       "// Listen for the removal of the full notebook cells\n",
       "var notebookContainer = gd.closest('#notebook-container');\n",
       "if (notebookContainer) {{\n",
       "    x.observe(notebookContainer, {childList: true});\n",
       "}}\n",
       "\n",
       "// Listen for the clearing of the current output cell\n",
       "var outputEl = gd.closest('.output');\n",
       "if (outputEl) {{\n",
       "    x.observe(outputEl, {childList: true});\n",
       "}}\n",
       "\n",
       "                        })                };                });            </script>        </div>"
      ]
     },
     "metadata": {},
     "output_type": "display_data"
    }
   ],
   "source": [
    "df1.iplot()"
   ]
  },
  {
   "cell_type": "code",
   "execution_count": 35,
   "id": "aa33a346",
   "metadata": {},
   "outputs": [],
   "source": [
    "df=pd.DataFrame(np.random.rand(300,3) ,columns=['a','b','c'])"
   ]
  },
  {
   "cell_type": "code",
   "execution_count": 36,
   "id": "159c069d",
   "metadata": {},
   "outputs": [
    {
     "data": {
      "text/html": [
       "<div>\n",
       "<style scoped>\n",
       "    .dataframe tbody tr th:only-of-type {\n",
       "        vertical-align: middle;\n",
       "    }\n",
       "\n",
       "    .dataframe tbody tr th {\n",
       "        vertical-align: top;\n",
       "    }\n",
       "\n",
       "    .dataframe thead th {\n",
       "        text-align: right;\n",
       "    }\n",
       "</style>\n",
       "<table border=\"1\" class=\"dataframe\">\n",
       "  <thead>\n",
       "    <tr style=\"text-align: right;\">\n",
       "      <th></th>\n",
       "      <th>a</th>\n",
       "      <th>b</th>\n",
       "      <th>c</th>\n",
       "    </tr>\n",
       "  </thead>\n",
       "  <tbody>\n",
       "    <tr>\n",
       "      <th>0</th>\n",
       "      <td>0.474821</td>\n",
       "      <td>0.567470</td>\n",
       "      <td>0.861004</td>\n",
       "    </tr>\n",
       "    <tr>\n",
       "      <th>1</th>\n",
       "      <td>0.022745</td>\n",
       "      <td>0.005711</td>\n",
       "      <td>0.124694</td>\n",
       "    </tr>\n",
       "    <tr>\n",
       "      <th>2</th>\n",
       "      <td>0.349656</td>\n",
       "      <td>0.752678</td>\n",
       "      <td>0.108982</td>\n",
       "    </tr>\n",
       "    <tr>\n",
       "      <th>3</th>\n",
       "      <td>0.050583</td>\n",
       "      <td>0.150049</td>\n",
       "      <td>0.567641</td>\n",
       "    </tr>\n",
       "    <tr>\n",
       "      <th>4</th>\n",
       "      <td>0.732473</td>\n",
       "      <td>0.919272</td>\n",
       "      <td>0.237259</td>\n",
       "    </tr>\n",
       "    <tr>\n",
       "      <th>...</th>\n",
       "      <td>...</td>\n",
       "      <td>...</td>\n",
       "      <td>...</td>\n",
       "    </tr>\n",
       "    <tr>\n",
       "      <th>295</th>\n",
       "      <td>0.327200</td>\n",
       "      <td>0.311357</td>\n",
       "      <td>0.211298</td>\n",
       "    </tr>\n",
       "    <tr>\n",
       "      <th>296</th>\n",
       "      <td>0.818810</td>\n",
       "      <td>0.064742</td>\n",
       "      <td>0.903909</td>\n",
       "    </tr>\n",
       "    <tr>\n",
       "      <th>297</th>\n",
       "      <td>0.948113</td>\n",
       "      <td>0.370535</td>\n",
       "      <td>0.228069</td>\n",
       "    </tr>\n",
       "    <tr>\n",
       "      <th>298</th>\n",
       "      <td>0.945601</td>\n",
       "      <td>0.519236</td>\n",
       "      <td>0.376098</td>\n",
       "    </tr>\n",
       "    <tr>\n",
       "      <th>299</th>\n",
       "      <td>0.105806</td>\n",
       "      <td>0.289333</td>\n",
       "      <td>0.208225</td>\n",
       "    </tr>\n",
       "  </tbody>\n",
       "</table>\n",
       "<p>300 rows × 3 columns</p>\n",
       "</div>"
      ],
      "text/plain": [
       "            a         b         c\n",
       "0    0.474821  0.567470  0.861004\n",
       "1    0.022745  0.005711  0.124694\n",
       "2    0.349656  0.752678  0.108982\n",
       "3    0.050583  0.150049  0.567641\n",
       "4    0.732473  0.919272  0.237259\n",
       "..        ...       ...       ...\n",
       "295  0.327200  0.311357  0.211298\n",
       "296  0.818810  0.064742  0.903909\n",
       "297  0.948113  0.370535  0.228069\n",
       "298  0.945601  0.519236  0.376098\n",
       "299  0.105806  0.289333  0.208225\n",
       "\n",
       "[300 rows x 3 columns]"
      ]
     },
     "execution_count": 36,
     "metadata": {},
     "output_type": "execute_result"
    }
   ],
   "source": [
    "df"
   ]
  },
  {
   "cell_type": "code",
   "execution_count": 37,
   "id": "ab806339",
   "metadata": {},
   "outputs": [
    {
     "data": {
      "application/vnd.plotly.v1+json": {
       "config": {
        "linkText": "Export to plot.ly",
        "plotlyServerURL": "https://plot.ly",
        "showLink": true
       },
       "data": [
        {
         "line": {
          "color": "rgba(255, 153, 51, 1.0)",
          "dash": "solid",
          "shape": "linear",
          "width": 1.3
         },
         "mode": "lines",
         "name": "b",
         "text": "",
         "type": "scatter",
         "x": [
          0.47482107055717093,
          0.022744992998465663,
          0.34965575642374824,
          0.050582705841130005,
          0.7324727447837143,
          0.4736171827792899,
          0.4235797704094907,
          0.6345707915433778,
          0.12568659908177526,
          0.2896321213032911,
          0.17088912300328862,
          0.25935460493710205,
          0.8655022992544924,
          0.47701901826994364,
          0.3934422546095585,
          0.02979142461757256,
          0.002566716161290228,
          0.3166079537294344,
          0.7760784033006114,
          0.47314992909497366,
          0.4665843790892156,
          0.3767476702177014,
          0.9863130592820786,
          0.0838253235183245,
          0.8237859894783512,
          0.6346361768733595,
          0.0017415467035057919,
          0.757988609089601,
          0.2682699633626463,
          0.30396713684719234,
          0.9371908423632099,
          0.48938637624916415,
          0.35691409390546425,
          0.7000876789523454,
          0.15256417970666436,
          0.7370395195613186,
          0.019850588753494547,
          0.07350097022162883,
          0.19382038357495923,
          0.09631222215884361,
          0.9562041071278232,
          0.6184656040760903,
          0.35728682794125277,
          0.6814972974328488,
          0.8171253937569428,
          0.4210882860174837,
          0.5068296269165151,
          0.4907375371592513,
          0.012455274128412963,
          0.7687594906051284,
          0.08857673554970402,
          0.45100693743996423,
          0.481692322718978,
          0.2303177726083251,
          0.6640905388626966,
          0.35652891187045754,
          0.10887052885485382,
          0.9205523141597386,
          0.6288938273401641,
          0.9812390192670004,
          0.05374136899349746,
          0.8536596498675331,
          0.7179502507707786,
          0.7731201410541226,
          0.26177393280827577,
          0.623417562683179,
          0.2054116789949425,
          0.7410747506640553,
          0.4352102841144635,
          0.5669959529092975,
          0.12415239384058807,
          0.6364886556235708,
          0.03136044983076669,
          0.5637094574958503,
          0.1817863622607162,
          0.2648574749532917,
          0.8508539681587134,
          0.2537455176320751,
          0.256164267280347,
          0.9208997071361003,
          0.45902818085933306,
          0.2893649112646679,
          0.8991269366110506,
          0.8212203133765642,
          0.7167872558697288,
          0.9833429803479374,
          0.7312375952677105,
          0.11850064236657676,
          0.7915167650975117,
          0.5557425025361381,
          0.9627821019453204,
          0.5992826270810888,
          0.41629739381202535,
          0.6692938667109307,
          0.12266372210492515,
          0.8760249245234724,
          0.001619039440319603,
          0.959462975500171,
          0.6428067474538932,
          0.14187376374701366,
          0.6141521981751712,
          0.6981406784257553,
          0.30700433335644906,
          0.7107184381051801,
          0.9199571889082038,
          0.34411885024569155,
          0.5367614249513882,
          0.17477853430047285,
          0.7990196015128801,
          0.6641646870319609,
          0.1068338117140668,
          0.772958439263793,
          0.7012431605519106,
          0.493856285911466,
          0.36647569999675444,
          0.6925179999210423,
          0.08529652474022786,
          0.08427131906763319,
          0.6242410376250069,
          0.25974677499776344,
          0.7416703343765733,
          0.6623397101591515,
          0.1773471798131342,
          0.20394506047584737,
          0.9478985248240795,
          0.791839180691597,
          0.4875249277892547,
          0.9711189333628899,
          0.6698065717298204,
          0.29510624195698376,
          0.4752050026423066,
          0.5894251647771837,
          0.2162863875317904,
          0.5528931434964268,
          0.08027043850689741,
          0.9835899756730196,
          0.8424915145833262,
          0.30306061043579313,
          0.19178342651783797,
          0.444471250748657,
          0.3567994645200806,
          0.8054094732594915,
          0.8024997510718613,
          0.8475160058766064,
          0.1833944150074256,
          0.07929465736159447,
          0.5198272826585038,
          0.025442895307380753,
          0.5542962383898646,
          0.7509753275424956,
          0.755888821060355,
          0.2830795992709918,
          0.8772608968744865,
          0.41510467231090964,
          0.9665682870497206,
          0.4000467508349297,
          0.12081580246684087,
          0.7499111966776368,
          0.4681745164699931,
          0.43087531398425083,
          0.02333154789734504,
          0.5188824916039056,
          0.2274201004318882,
          0.9762375568850116,
          0.44923485020098897,
          0.07215689378626367,
          0.09316802728639162,
          0.9007888342397397,
          0.3284321392224844,
          0.008175502003338275,
          0.20550450408612675,
          0.13518995648754295,
          0.6295651352594548,
          0.7981245539235114,
          0.9774582077263095,
          0.44894204797277026,
          0.18671233835680423,
          0.051929925703080526,
          0.23926677547707265,
          0.4381753185856039,
          0.8260184638525279,
          0.6768318135595939,
          0.5216356436505741,
          0.5873704549927811,
          0.1927717004774846,
          0.5469981777021223,
          0.9139876708498363,
          0.6126117967996896,
          0.9554137347970895,
          0.26721213503487307,
          0.9420483546032532,
          0.020145200071438718,
          0.0648086435063221,
          0.8006776959802284,
          0.23733518023114641,
          0.528098684729944,
          0.0052771866034453385,
          0.6281707396813268,
          0.039238014475586946,
          0.2553661164126647,
          0.6906119602186486,
          0.4620622365046072,
          0.23378074584859798,
          0.26214926578090103,
          0.8186467197969274,
          0.5084277824151813,
          0.9214925610264566,
          0.7755266772452707,
          0.7893982957693381,
          0.02183896802737917,
          0.11324817488963013,
          0.2500712798910729,
          0.0768138032193807,
          0.9678346751485682,
          0.8810676919016801,
          0.11018339691939949,
          0.31522963438979235,
          0.9086635040222685,
          0.5910633400059739,
          0.859080556913498,
          0.1705180069750345,
          0.5575806294533568,
          0.18481845732712598,
          0.36845903435141636,
          0.7688502099865797,
          0.0580382325490757,
          0.9342246343121018,
          0.9770536558327949,
          0.1258317317998745,
          0.7345052661899085,
          0.519449919949619,
          0.4328019456226144,
          0.8183965455228954,
          0.7985219311091447,
          0.8938166347881066,
          0.15423492484422885,
          0.922285389163017,
          0.5931162639311209,
          0.47946838618588905,
          0.1321227015335522,
          0.3700624410806327,
          0.8064541393088313,
          0.7780466425201902,
          0.09890945535659779,
          0.1442613658697881,
          0.9580095767327714,
          0.6117372226273942,
          0.816928058598567,
          0.6125227906509008,
          0.05042856162596976,
          0.7469224145549039,
          0.18354781878224047,
          0.2003838186594611,
          0.28127212155053716,
          0.20092426684307474,
          0.4509151958412547,
          0.6079210069358452,
          0.708619994843216,
          0.8259892956860583,
          0.9245172210347146,
          0.6679819175088606,
          0.6965411748141463,
          0.08324983351026072,
          0.04348319525609701,
          0.8956880689053727,
          0.15575117990718523,
          0.9380916809970459,
          0.23963060200878616,
          0.5565096665214418,
          0.46034934555963336,
          0.1985561808599844,
          0.7542836125555591,
          0.3234258508840808,
          0.7313102286076045,
          0.13867738125056184,
          0.3653017246306275,
          0.3390932908429488,
          0.3278179796685985,
          0.18736510994416877,
          0.25542644845041385,
          0.25093255211296517,
          0.3698277538035841,
          0.33771016931667885,
          0.8441206199457392,
          0.45875558114776305,
          0.5264146271521785,
          0.12245175065119229,
          0.522316374109928,
          0.08334787526178444,
          0.5207320484383471,
          0.7925158967661694,
          0.7895400814875833,
          0.436494780316141,
          0.6828435862801495,
          0.3771516713362748,
          0.32720024027863226,
          0.8188096173215992,
          0.9481130538471394,
          0.9456013970315679,
          0.10580629804514319
         ],
         "y": [
          0.5674697018954408,
          0.0057114332930738865,
          0.7526778926633678,
          0.15004940031100844,
          0.9192716655704084,
          0.8500013015367113,
          0.3182675582703668,
          0.20149664978879045,
          0.8026595060572262,
          0.6567443223596013,
          0.6075333616090873,
          0.14871352417516537,
          0.9827737311334794,
          0.2506557335969908,
          0.891208064425043,
          0.3040434436633208,
          0.4680391342895617,
          0.1907494344912093,
          0.6762932065708069,
          0.8898643615775239,
          0.9936223283548352,
          0.21534335662207116,
          0.6821197375778542,
          0.7399962378332154,
          0.806667379379845,
          0.8985070401509258,
          0.3212124735377445,
          0.17903721163144692,
          0.1348015133246412,
          0.22468241059325555,
          0.46365793866588234,
          0.8925623417527347,
          0.5701691394902099,
          0.7799037343826494,
          0.7901041044774665,
          0.0008262355265779009,
          0.1933956219857339,
          0.3630226206459878,
          0.7350741303173864,
          0.15128959462693103,
          0.3558659427108697,
          0.5489406678553447,
          0.633621177591484,
          0.9857206516818054,
          0.596308137810859,
          0.850767380543469,
          0.4831204571496013,
          0.34482045493488245,
          0.6296628800290847,
          0.6205586880226189,
          0.23961633314275144,
          0.2555696972411895,
          0.633920215420085,
          0.017126484868807523,
          0.7043281996574462,
          0.8603392570210264,
          0.3654022493528344,
          0.33868436917770794,
          0.2175293457852674,
          0.4456196321426854,
          0.40019570744793187,
          0.12918949554820236,
          0.37259936025328844,
          0.1390375216859422,
          0.1656032322348472,
          0.9742690152989216,
          0.6604345096778471,
          0.5612810607170051,
          0.9292697734166492,
          0.8986969678606368,
          0.9491860290733568,
          0.5042314727791876,
          0.14053774530468743,
          0.2808621366375136,
          0.6110061189010364,
          0.04341290671729081,
          0.6678050071354795,
          0.7099089558431944,
          0.31208747243033874,
          0.340374314698084,
          0.8909094448752806,
          0.11294021894393458,
          0.4379592035088108,
          0.16157123613470215,
          0.11075555698535988,
          0.5479964948663212,
          0.7335972136922637,
          0.9161569025174251,
          0.5668703601687899,
          0.7276154429380635,
          0.8269840107487858,
          0.4445070172104634,
          0.2818508701869987,
          0.2512845433018248,
          0.8949775621636872,
          0.875192729639007,
          0.8139676551199532,
          0.12313097243273496,
          0.2164268236867949,
          0.74399691849857,
          0.11796310141101429,
          0.15490717746808547,
          0.2902426141599993,
          0.3665753413673726,
          0.5040003981339627,
          0.22303400831592646,
          0.7286369696399495,
          0.2995837077472385,
          0.5789346793139822,
          0.352300808507122,
          0.5264892136216431,
          0.3727744544026924,
          0.6861450156788559,
          0.5321287688552677,
          0.12293358036842317,
          0.3529255196745832,
          0.41842184451840203,
          0.4941476045731341,
          0.3398949996925704,
          0.5078944593750052,
          0.16597782203167533,
          0.05566630527792693,
          0.5681434950235296,
          0.12170893079093703,
          0.5732044291378219,
          0.3897804101963087,
          0.5510280112012982,
          0.4619913038329113,
          0.7394718450229466,
          0.5299864668928008,
          0.8423200625527795,
          0.3824763975294271,
          0.7934517021579565,
          0.7868428369924075,
          0.6310946781100861,
          0.8861373858306665,
          0.877215731690747,
          0.46256294528814446,
          0.4241128069334529,
          0.4753363437164265,
          0.37581613362367816,
          0.08688775860315034,
          0.1638680140264699,
          0.5225014353266271,
          0.3724975617585148,
          0.3767027823704516,
          0.51197720105966,
          0.624367366971622,
          0.36619054722449373,
          0.7822380399148081,
          0.5832127032390656,
          0.9797701538747629,
          0.8234503985878605,
          0.22355681716809606,
          0.7289066417141288,
          0.05349003730968871,
          0.9634301398631686,
          0.9410529025902141,
          0.6236846747632229,
          0.8967030119841978,
          0.526682292133339,
          0.09091490946982417,
          0.639034668391818,
          0.5095143709315338,
          0.4856157115725698,
          0.4479803667915022,
          0.1465943042054354,
          0.1329343916861324,
          0.7261919823712204,
          0.1393994063892514,
          0.26072345597348745,
          0.3599851518727132,
          0.15623801325207232,
          0.5633675856248175,
          0.5261494245070905,
          0.06960137055468063,
          0.9387097566048845,
          0.038127943377681106,
          0.39389791605298563,
          0.11111651471086448,
          0.893236019297892,
          0.3085422377302883,
          0.08011876207809532,
          0.6932850847778467,
          0.40854015575771707,
          0.11235388871652408,
          0.7921349361568808,
          0.4122805914097222,
          0.09041854324960741,
          0.9201573848888718,
          0.37980584741542134,
          0.5081413787497511,
          0.47484774192862444,
          0.039815391551774604,
          0.5085658595205418,
          0.042826505823376104,
          0.7581651255351565,
          0.10762612610696187,
          0.6804180344666642,
          0.40985358277749107,
          0.7817514466203233,
          0.2689769206425392,
          0.24572157014160823,
          0.52641381759772,
          0.4802414749064303,
          0.047552795896346534,
          0.8678002704935425,
          0.7846381474462071,
          0.8676528169054539,
          0.8944959530141426,
          0.7087167711515295,
          0.4229517587991616,
          0.8050461518949977,
          0.6228465427903684,
          0.9310392608563977,
          0.9057189009114642,
          0.183560428145647,
          0.6606789673922473,
          0.16020663078814834,
          0.04056756474385137,
          0.32643812542123296,
          0.21341555746390073,
          0.798517410095639,
          0.9972751455081247,
          0.7603605666606782,
          0.168626339403547,
          0.6824898182370939,
          0.8009715374102602,
          0.8140952448393334,
          0.3278653673141996,
          0.3650959966829186,
          0.6633785759418956,
          0.7320699720639536,
          0.4724836642803131,
          0.16944077911607258,
          0.861175008885987,
          0.6209591997361268,
          0.2419321565505944,
          0.25804207008697166,
          0.4458108921695455,
          0.5081978526141528,
          0.2672888685156142,
          0.24008481632156742,
          0.006041942617098783,
          0.9463544792769367,
          0.5501050268854978,
          0.6139470728403116,
          0.5004416035627288,
          0.09964407198810998,
          0.7144726016977685,
          0.2933227586251691,
          0.4249129006493393,
          0.042488272279686656,
          0.019039304519796962,
          0.34726273991568946,
          0.10991527464236817,
          0.23813976453360397,
          0.9475572208305258,
          0.3249658470556672,
          0.17801012007121553,
          0.22304184862356746,
          0.8168427129673662,
          0.5436727612171519,
          0.8430883425787868,
          0.2440774879512223,
          0.08328778140339943,
          0.603305918281125,
          0.5357450180883058,
          0.4953969938383972,
          0.9136886017249192,
          0.9010471958976729,
          0.24754535531853372,
          0.08227692652297369,
          0.7123810988126739,
          0.6176905130305343,
          0.22588907522195734,
          0.24257949637117804,
          0.04417188237125946,
          0.3125876675925683,
          0.18971723372918392,
          0.2893858257933697,
          0.32120414980372414,
          0.49252311589119735,
          0.9939928430317593,
          0.7438758916343821,
          0.5855022541293459,
          0.2687434770184909,
          0.740257845529142,
          0.7074601718604491,
          0.8547180023208708,
          0.8376646291208019,
          0.2148636642181121,
          0.22992633157911535,
          0.15475382224205259,
          0.11887715903975293,
          0.311356975273699,
          0.06474188440151563,
          0.3705353891172112,
          0.5192360163257088,
          0.28933305063158565
         ]
        }
       ],
       "layout": {
        "legend": {
         "bgcolor": "#F5F6F9",
         "font": {
          "color": "#4D5663"
         }
        },
        "paper_bgcolor": "#F5F6F9",
        "plot_bgcolor": "#F5F6F9",
        "template": {
         "data": {
          "bar": [
           {
            "error_x": {
             "color": "#2a3f5f"
            },
            "error_y": {
             "color": "#2a3f5f"
            },
            "marker": {
             "line": {
              "color": "#E5ECF6",
              "width": 0.5
             },
             "pattern": {
              "fillmode": "overlay",
              "size": 10,
              "solidity": 0.2
             }
            },
            "type": "bar"
           }
          ],
          "barpolar": [
           {
            "marker": {
             "line": {
              "color": "#E5ECF6",
              "width": 0.5
             },
             "pattern": {
              "fillmode": "overlay",
              "size": 10,
              "solidity": 0.2
             }
            },
            "type": "barpolar"
           }
          ],
          "carpet": [
           {
            "aaxis": {
             "endlinecolor": "#2a3f5f",
             "gridcolor": "white",
             "linecolor": "white",
             "minorgridcolor": "white",
             "startlinecolor": "#2a3f5f"
            },
            "baxis": {
             "endlinecolor": "#2a3f5f",
             "gridcolor": "white",
             "linecolor": "white",
             "minorgridcolor": "white",
             "startlinecolor": "#2a3f5f"
            },
            "type": "carpet"
           }
          ],
          "choropleth": [
           {
            "colorbar": {
             "outlinewidth": 0,
             "ticks": ""
            },
            "type": "choropleth"
           }
          ],
          "contour": [
           {
            "colorbar": {
             "outlinewidth": 0,
             "ticks": ""
            },
            "colorscale": [
             [
              0,
              "#0d0887"
             ],
             [
              0.1111111111111111,
              "#46039f"
             ],
             [
              0.2222222222222222,
              "#7201a8"
             ],
             [
              0.3333333333333333,
              "#9c179e"
             ],
             [
              0.4444444444444444,
              "#bd3786"
             ],
             [
              0.5555555555555556,
              "#d8576b"
             ],
             [
              0.6666666666666666,
              "#ed7953"
             ],
             [
              0.7777777777777778,
              "#fb9f3a"
             ],
             [
              0.8888888888888888,
              "#fdca26"
             ],
             [
              1,
              "#f0f921"
             ]
            ],
            "type": "contour"
           }
          ],
          "contourcarpet": [
           {
            "colorbar": {
             "outlinewidth": 0,
             "ticks": ""
            },
            "type": "contourcarpet"
           }
          ],
          "heatmap": [
           {
            "colorbar": {
             "outlinewidth": 0,
             "ticks": ""
            },
            "colorscale": [
             [
              0,
              "#0d0887"
             ],
             [
              0.1111111111111111,
              "#46039f"
             ],
             [
              0.2222222222222222,
              "#7201a8"
             ],
             [
              0.3333333333333333,
              "#9c179e"
             ],
             [
              0.4444444444444444,
              "#bd3786"
             ],
             [
              0.5555555555555556,
              "#d8576b"
             ],
             [
              0.6666666666666666,
              "#ed7953"
             ],
             [
              0.7777777777777778,
              "#fb9f3a"
             ],
             [
              0.8888888888888888,
              "#fdca26"
             ],
             [
              1,
              "#f0f921"
             ]
            ],
            "type": "heatmap"
           }
          ],
          "heatmapgl": [
           {
            "colorbar": {
             "outlinewidth": 0,
             "ticks": ""
            },
            "colorscale": [
             [
              0,
              "#0d0887"
             ],
             [
              0.1111111111111111,
              "#46039f"
             ],
             [
              0.2222222222222222,
              "#7201a8"
             ],
             [
              0.3333333333333333,
              "#9c179e"
             ],
             [
              0.4444444444444444,
              "#bd3786"
             ],
             [
              0.5555555555555556,
              "#d8576b"
             ],
             [
              0.6666666666666666,
              "#ed7953"
             ],
             [
              0.7777777777777778,
              "#fb9f3a"
             ],
             [
              0.8888888888888888,
              "#fdca26"
             ],
             [
              1,
              "#f0f921"
             ]
            ],
            "type": "heatmapgl"
           }
          ],
          "histogram": [
           {
            "marker": {
             "pattern": {
              "fillmode": "overlay",
              "size": 10,
              "solidity": 0.2
             }
            },
            "type": "histogram"
           }
          ],
          "histogram2d": [
           {
            "colorbar": {
             "outlinewidth": 0,
             "ticks": ""
            },
            "colorscale": [
             [
              0,
              "#0d0887"
             ],
             [
              0.1111111111111111,
              "#46039f"
             ],
             [
              0.2222222222222222,
              "#7201a8"
             ],
             [
              0.3333333333333333,
              "#9c179e"
             ],
             [
              0.4444444444444444,
              "#bd3786"
             ],
             [
              0.5555555555555556,
              "#d8576b"
             ],
             [
              0.6666666666666666,
              "#ed7953"
             ],
             [
              0.7777777777777778,
              "#fb9f3a"
             ],
             [
              0.8888888888888888,
              "#fdca26"
             ],
             [
              1,
              "#f0f921"
             ]
            ],
            "type": "histogram2d"
           }
          ],
          "histogram2dcontour": [
           {
            "colorbar": {
             "outlinewidth": 0,
             "ticks": ""
            },
            "colorscale": [
             [
              0,
              "#0d0887"
             ],
             [
              0.1111111111111111,
              "#46039f"
             ],
             [
              0.2222222222222222,
              "#7201a8"
             ],
             [
              0.3333333333333333,
              "#9c179e"
             ],
             [
              0.4444444444444444,
              "#bd3786"
             ],
             [
              0.5555555555555556,
              "#d8576b"
             ],
             [
              0.6666666666666666,
              "#ed7953"
             ],
             [
              0.7777777777777778,
              "#fb9f3a"
             ],
             [
              0.8888888888888888,
              "#fdca26"
             ],
             [
              1,
              "#f0f921"
             ]
            ],
            "type": "histogram2dcontour"
           }
          ],
          "mesh3d": [
           {
            "colorbar": {
             "outlinewidth": 0,
             "ticks": ""
            },
            "type": "mesh3d"
           }
          ],
          "parcoords": [
           {
            "line": {
             "colorbar": {
              "outlinewidth": 0,
              "ticks": ""
             }
            },
            "type": "parcoords"
           }
          ],
          "pie": [
           {
            "automargin": true,
            "type": "pie"
           }
          ],
          "scatter": [
           {
            "fillpattern": {
             "fillmode": "overlay",
             "size": 10,
             "solidity": 0.2
            },
            "type": "scatter"
           }
          ],
          "scatter3d": [
           {
            "line": {
             "colorbar": {
              "outlinewidth": 0,
              "ticks": ""
             }
            },
            "marker": {
             "colorbar": {
              "outlinewidth": 0,
              "ticks": ""
             }
            },
            "type": "scatter3d"
           }
          ],
          "scattercarpet": [
           {
            "marker": {
             "colorbar": {
              "outlinewidth": 0,
              "ticks": ""
             }
            },
            "type": "scattercarpet"
           }
          ],
          "scattergeo": [
           {
            "marker": {
             "colorbar": {
              "outlinewidth": 0,
              "ticks": ""
             }
            },
            "type": "scattergeo"
           }
          ],
          "scattergl": [
           {
            "marker": {
             "colorbar": {
              "outlinewidth": 0,
              "ticks": ""
             }
            },
            "type": "scattergl"
           }
          ],
          "scattermapbox": [
           {
            "marker": {
             "colorbar": {
              "outlinewidth": 0,
              "ticks": ""
             }
            },
            "type": "scattermapbox"
           }
          ],
          "scatterpolar": [
           {
            "marker": {
             "colorbar": {
              "outlinewidth": 0,
              "ticks": ""
             }
            },
            "type": "scatterpolar"
           }
          ],
          "scatterpolargl": [
           {
            "marker": {
             "colorbar": {
              "outlinewidth": 0,
              "ticks": ""
             }
            },
            "type": "scatterpolargl"
           }
          ],
          "scatterternary": [
           {
            "marker": {
             "colorbar": {
              "outlinewidth": 0,
              "ticks": ""
             }
            },
            "type": "scatterternary"
           }
          ],
          "surface": [
           {
            "colorbar": {
             "outlinewidth": 0,
             "ticks": ""
            },
            "colorscale": [
             [
              0,
              "#0d0887"
             ],
             [
              0.1111111111111111,
              "#46039f"
             ],
             [
              0.2222222222222222,
              "#7201a8"
             ],
             [
              0.3333333333333333,
              "#9c179e"
             ],
             [
              0.4444444444444444,
              "#bd3786"
             ],
             [
              0.5555555555555556,
              "#d8576b"
             ],
             [
              0.6666666666666666,
              "#ed7953"
             ],
             [
              0.7777777777777778,
              "#fb9f3a"
             ],
             [
              0.8888888888888888,
              "#fdca26"
             ],
             [
              1,
              "#f0f921"
             ]
            ],
            "type": "surface"
           }
          ],
          "table": [
           {
            "cells": {
             "fill": {
              "color": "#EBF0F8"
             },
             "line": {
              "color": "white"
             }
            },
            "header": {
             "fill": {
              "color": "#C8D4E3"
             },
             "line": {
              "color": "white"
             }
            },
            "type": "table"
           }
          ]
         },
         "layout": {
          "annotationdefaults": {
           "arrowcolor": "#2a3f5f",
           "arrowhead": 0,
           "arrowwidth": 1
          },
          "autotypenumbers": "strict",
          "coloraxis": {
           "colorbar": {
            "outlinewidth": 0,
            "ticks": ""
           }
          },
          "colorscale": {
           "diverging": [
            [
             0,
             "#8e0152"
            ],
            [
             0.1,
             "#c51b7d"
            ],
            [
             0.2,
             "#de77ae"
            ],
            [
             0.3,
             "#f1b6da"
            ],
            [
             0.4,
             "#fde0ef"
            ],
            [
             0.5,
             "#f7f7f7"
            ],
            [
             0.6,
             "#e6f5d0"
            ],
            [
             0.7,
             "#b8e186"
            ],
            [
             0.8,
             "#7fbc41"
            ],
            [
             0.9,
             "#4d9221"
            ],
            [
             1,
             "#276419"
            ]
           ],
           "sequential": [
            [
             0,
             "#0d0887"
            ],
            [
             0.1111111111111111,
             "#46039f"
            ],
            [
             0.2222222222222222,
             "#7201a8"
            ],
            [
             0.3333333333333333,
             "#9c179e"
            ],
            [
             0.4444444444444444,
             "#bd3786"
            ],
            [
             0.5555555555555556,
             "#d8576b"
            ],
            [
             0.6666666666666666,
             "#ed7953"
            ],
            [
             0.7777777777777778,
             "#fb9f3a"
            ],
            [
             0.8888888888888888,
             "#fdca26"
            ],
            [
             1,
             "#f0f921"
            ]
           ],
           "sequentialminus": [
            [
             0,
             "#0d0887"
            ],
            [
             0.1111111111111111,
             "#46039f"
            ],
            [
             0.2222222222222222,
             "#7201a8"
            ],
            [
             0.3333333333333333,
             "#9c179e"
            ],
            [
             0.4444444444444444,
             "#bd3786"
            ],
            [
             0.5555555555555556,
             "#d8576b"
            ],
            [
             0.6666666666666666,
             "#ed7953"
            ],
            [
             0.7777777777777778,
             "#fb9f3a"
            ],
            [
             0.8888888888888888,
             "#fdca26"
            ],
            [
             1,
             "#f0f921"
            ]
           ]
          },
          "colorway": [
           "#636efa",
           "#EF553B",
           "#00cc96",
           "#ab63fa",
           "#FFA15A",
           "#19d3f3",
           "#FF6692",
           "#B6E880",
           "#FF97FF",
           "#FECB52"
          ],
          "font": {
           "color": "#2a3f5f"
          },
          "geo": {
           "bgcolor": "white",
           "lakecolor": "white",
           "landcolor": "#E5ECF6",
           "showlakes": true,
           "showland": true,
           "subunitcolor": "white"
          },
          "hoverlabel": {
           "align": "left"
          },
          "hovermode": "closest",
          "mapbox": {
           "style": "light"
          },
          "paper_bgcolor": "white",
          "plot_bgcolor": "#E5ECF6",
          "polar": {
           "angularaxis": {
            "gridcolor": "white",
            "linecolor": "white",
            "ticks": ""
           },
           "bgcolor": "#E5ECF6",
           "radialaxis": {
            "gridcolor": "white",
            "linecolor": "white",
            "ticks": ""
           }
          },
          "scene": {
           "xaxis": {
            "backgroundcolor": "#E5ECF6",
            "gridcolor": "white",
            "gridwidth": 2,
            "linecolor": "white",
            "showbackground": true,
            "ticks": "",
            "zerolinecolor": "white"
           },
           "yaxis": {
            "backgroundcolor": "#E5ECF6",
            "gridcolor": "white",
            "gridwidth": 2,
            "linecolor": "white",
            "showbackground": true,
            "ticks": "",
            "zerolinecolor": "white"
           },
           "zaxis": {
            "backgroundcolor": "#E5ECF6",
            "gridcolor": "white",
            "gridwidth": 2,
            "linecolor": "white",
            "showbackground": true,
            "ticks": "",
            "zerolinecolor": "white"
           }
          },
          "shapedefaults": {
           "line": {
            "color": "#2a3f5f"
           }
          },
          "ternary": {
           "aaxis": {
            "gridcolor": "white",
            "linecolor": "white",
            "ticks": ""
           },
           "baxis": {
            "gridcolor": "white",
            "linecolor": "white",
            "ticks": ""
           },
           "bgcolor": "#E5ECF6",
           "caxis": {
            "gridcolor": "white",
            "linecolor": "white",
            "ticks": ""
           }
          },
          "title": {
           "x": 0.05
          },
          "xaxis": {
           "automargin": true,
           "gridcolor": "white",
           "linecolor": "white",
           "ticks": "",
           "title": {
            "standoff": 15
           },
           "zerolinecolor": "white",
           "zerolinewidth": 2
          },
          "yaxis": {
           "automargin": true,
           "gridcolor": "white",
           "linecolor": "white",
           "ticks": "",
           "title": {
            "standoff": 15
           },
           "zerolinecolor": "white",
           "zerolinewidth": 2
          }
         }
        },
        "title": {
         "font": {
          "color": "#4D5663"
         }
        },
        "xaxis": {
         "gridcolor": "#E1E5ED",
         "showgrid": true,
         "tickfont": {
          "color": "#4D5663"
         },
         "title": {
          "font": {
           "color": "#4D5663"
          },
          "text": ""
         },
         "zerolinecolor": "#E1E5ED"
        },
        "yaxis": {
         "gridcolor": "#E1E5ED",
         "showgrid": true,
         "tickfont": {
          "color": "#4D5663"
         },
         "title": {
          "font": {
           "color": "#4D5663"
          },
          "text": ""
         },
         "zerolinecolor": "#E1E5ED"
        }
       }
      },
      "text/html": [
       "<div>                            <div id=\"cdf91117-0fe4-4cbc-925d-af00f23422f0\" class=\"plotly-graph-div\" style=\"height:525px; width:100%;\"></div>            <script type=\"text/javascript\">                require([\"plotly\"], function(Plotly) {                    window.PLOTLYENV=window.PLOTLYENV || {};\n",
       "                    window.PLOTLYENV.BASE_URL='https://plot.ly';                                    if (document.getElementById(\"cdf91117-0fe4-4cbc-925d-af00f23422f0\")) {                    Plotly.newPlot(                        \"cdf91117-0fe4-4cbc-925d-af00f23422f0\",                        [{\"line\":{\"color\":\"rgba(255, 153, 51, 1.0)\",\"dash\":\"solid\",\"shape\":\"linear\",\"width\":1.3},\"mode\":\"lines\",\"name\":\"b\",\"text\":\"\",\"x\":[0.47482107055717093,0.022744992998465663,0.34965575642374824,0.050582705841130005,0.7324727447837143,0.4736171827792899,0.4235797704094907,0.6345707915433778,0.12568659908177526,0.2896321213032911,0.17088912300328862,0.25935460493710205,0.8655022992544924,0.47701901826994364,0.3934422546095585,0.02979142461757256,0.002566716161290228,0.3166079537294344,0.7760784033006114,0.47314992909497366,0.4665843790892156,0.3767476702177014,0.9863130592820786,0.0838253235183245,0.8237859894783512,0.6346361768733595,0.0017415467035057919,0.757988609089601,0.2682699633626463,0.30396713684719234,0.9371908423632099,0.48938637624916415,0.35691409390546425,0.7000876789523454,0.15256417970666436,0.7370395195613186,0.019850588753494547,0.07350097022162883,0.19382038357495923,0.09631222215884361,0.9562041071278232,0.6184656040760903,0.35728682794125277,0.6814972974328488,0.8171253937569428,0.4210882860174837,0.5068296269165151,0.4907375371592513,0.012455274128412963,0.7687594906051284,0.08857673554970402,0.45100693743996423,0.481692322718978,0.2303177726083251,0.6640905388626966,0.35652891187045754,0.10887052885485382,0.9205523141597386,0.6288938273401641,0.9812390192670004,0.05374136899349746,0.8536596498675331,0.7179502507707786,0.7731201410541226,0.26177393280827577,0.623417562683179,0.2054116789949425,0.7410747506640553,0.4352102841144635,0.5669959529092975,0.12415239384058807,0.6364886556235708,0.03136044983076669,0.5637094574958503,0.1817863622607162,0.2648574749532917,0.8508539681587134,0.2537455176320751,0.256164267280347,0.9208997071361003,0.45902818085933306,0.2893649112646679,0.8991269366110506,0.8212203133765642,0.7167872558697288,0.9833429803479374,0.7312375952677105,0.11850064236657676,0.7915167650975117,0.5557425025361381,0.9627821019453204,0.5992826270810888,0.41629739381202535,0.6692938667109307,0.12266372210492515,0.8760249245234724,0.001619039440319603,0.959462975500171,0.6428067474538932,0.14187376374701366,0.6141521981751712,0.6981406784257553,0.30700433335644906,0.7107184381051801,0.9199571889082038,0.34411885024569155,0.5367614249513882,0.17477853430047285,0.7990196015128801,0.6641646870319609,0.1068338117140668,0.772958439263793,0.7012431605519106,0.493856285911466,0.36647569999675444,0.6925179999210423,0.08529652474022786,0.08427131906763319,0.6242410376250069,0.25974677499776344,0.7416703343765733,0.6623397101591515,0.1773471798131342,0.20394506047584737,0.9478985248240795,0.791839180691597,0.4875249277892547,0.9711189333628899,0.6698065717298204,0.29510624195698376,0.4752050026423066,0.5894251647771837,0.2162863875317904,0.5528931434964268,0.08027043850689741,0.9835899756730196,0.8424915145833262,0.30306061043579313,0.19178342651783797,0.444471250748657,0.3567994645200806,0.8054094732594915,0.8024997510718613,0.8475160058766064,0.1833944150074256,0.07929465736159447,0.5198272826585038,0.025442895307380753,0.5542962383898646,0.7509753275424956,0.755888821060355,0.2830795992709918,0.8772608968744865,0.41510467231090964,0.9665682870497206,0.4000467508349297,0.12081580246684087,0.7499111966776368,0.4681745164699931,0.43087531398425083,0.02333154789734504,0.5188824916039056,0.2274201004318882,0.9762375568850116,0.44923485020098897,0.07215689378626367,0.09316802728639162,0.9007888342397397,0.3284321392224844,0.008175502003338275,0.20550450408612675,0.13518995648754295,0.6295651352594548,0.7981245539235114,0.9774582077263095,0.44894204797277026,0.18671233835680423,0.051929925703080526,0.23926677547707265,0.4381753185856039,0.8260184638525279,0.6768318135595939,0.5216356436505741,0.5873704549927811,0.1927717004774846,0.5469981777021223,0.9139876708498363,0.6126117967996896,0.9554137347970895,0.26721213503487307,0.9420483546032532,0.020145200071438718,0.0648086435063221,0.8006776959802284,0.23733518023114641,0.528098684729944,0.0052771866034453385,0.6281707396813268,0.039238014475586946,0.2553661164126647,0.6906119602186486,0.4620622365046072,0.23378074584859798,0.26214926578090103,0.8186467197969274,0.5084277824151813,0.9214925610264566,0.7755266772452707,0.7893982957693381,0.02183896802737917,0.11324817488963013,0.2500712798910729,0.0768138032193807,0.9678346751485682,0.8810676919016801,0.11018339691939949,0.31522963438979235,0.9086635040222685,0.5910633400059739,0.859080556913498,0.1705180069750345,0.5575806294533568,0.18481845732712598,0.36845903435141636,0.7688502099865797,0.0580382325490757,0.9342246343121018,0.9770536558327949,0.1258317317998745,0.7345052661899085,0.519449919949619,0.4328019456226144,0.8183965455228954,0.7985219311091447,0.8938166347881066,0.15423492484422885,0.922285389163017,0.5931162639311209,0.47946838618588905,0.1321227015335522,0.3700624410806327,0.8064541393088313,0.7780466425201902,0.09890945535659779,0.1442613658697881,0.9580095767327714,0.6117372226273942,0.816928058598567,0.6125227906509008,0.05042856162596976,0.7469224145549039,0.18354781878224047,0.2003838186594611,0.28127212155053716,0.20092426684307474,0.4509151958412547,0.6079210069358452,0.708619994843216,0.8259892956860583,0.9245172210347146,0.6679819175088606,0.6965411748141463,0.08324983351026072,0.04348319525609701,0.8956880689053727,0.15575117990718523,0.9380916809970459,0.23963060200878616,0.5565096665214418,0.46034934555963336,0.1985561808599844,0.7542836125555591,0.3234258508840808,0.7313102286076045,0.13867738125056184,0.3653017246306275,0.3390932908429488,0.3278179796685985,0.18736510994416877,0.25542644845041385,0.25093255211296517,0.3698277538035841,0.33771016931667885,0.8441206199457392,0.45875558114776305,0.5264146271521785,0.12245175065119229,0.522316374109928,0.08334787526178444,0.5207320484383471,0.7925158967661694,0.7895400814875833,0.436494780316141,0.6828435862801495,0.3771516713362748,0.32720024027863226,0.8188096173215992,0.9481130538471394,0.9456013970315679,0.10580629804514319],\"y\":[0.5674697018954408,0.0057114332930738865,0.7526778926633678,0.15004940031100844,0.9192716655704084,0.8500013015367113,0.3182675582703668,0.20149664978879045,0.8026595060572262,0.6567443223596013,0.6075333616090873,0.14871352417516537,0.9827737311334794,0.2506557335969908,0.891208064425043,0.3040434436633208,0.4680391342895617,0.1907494344912093,0.6762932065708069,0.8898643615775239,0.9936223283548352,0.21534335662207116,0.6821197375778542,0.7399962378332154,0.806667379379845,0.8985070401509258,0.3212124735377445,0.17903721163144692,0.1348015133246412,0.22468241059325555,0.46365793866588234,0.8925623417527347,0.5701691394902099,0.7799037343826494,0.7901041044774665,0.0008262355265779009,0.1933956219857339,0.3630226206459878,0.7350741303173864,0.15128959462693103,0.3558659427108697,0.5489406678553447,0.633621177591484,0.9857206516818054,0.596308137810859,0.850767380543469,0.4831204571496013,0.34482045493488245,0.6296628800290847,0.6205586880226189,0.23961633314275144,0.2555696972411895,0.633920215420085,0.017126484868807523,0.7043281996574462,0.8603392570210264,0.3654022493528344,0.33868436917770794,0.2175293457852674,0.4456196321426854,0.40019570744793187,0.12918949554820236,0.37259936025328844,0.1390375216859422,0.1656032322348472,0.9742690152989216,0.6604345096778471,0.5612810607170051,0.9292697734166492,0.8986969678606368,0.9491860290733568,0.5042314727791876,0.14053774530468743,0.2808621366375136,0.6110061189010364,0.04341290671729081,0.6678050071354795,0.7099089558431944,0.31208747243033874,0.340374314698084,0.8909094448752806,0.11294021894393458,0.4379592035088108,0.16157123613470215,0.11075555698535988,0.5479964948663212,0.7335972136922637,0.9161569025174251,0.5668703601687899,0.7276154429380635,0.8269840107487858,0.4445070172104634,0.2818508701869987,0.2512845433018248,0.8949775621636872,0.875192729639007,0.8139676551199532,0.12313097243273496,0.2164268236867949,0.74399691849857,0.11796310141101429,0.15490717746808547,0.2902426141599993,0.3665753413673726,0.5040003981339627,0.22303400831592646,0.7286369696399495,0.2995837077472385,0.5789346793139822,0.352300808507122,0.5264892136216431,0.3727744544026924,0.6861450156788559,0.5321287688552677,0.12293358036842317,0.3529255196745832,0.41842184451840203,0.4941476045731341,0.3398949996925704,0.5078944593750052,0.16597782203167533,0.05566630527792693,0.5681434950235296,0.12170893079093703,0.5732044291378219,0.3897804101963087,0.5510280112012982,0.4619913038329113,0.7394718450229466,0.5299864668928008,0.8423200625527795,0.3824763975294271,0.7934517021579565,0.7868428369924075,0.6310946781100861,0.8861373858306665,0.877215731690747,0.46256294528814446,0.4241128069334529,0.4753363437164265,0.37581613362367816,0.08688775860315034,0.1638680140264699,0.5225014353266271,0.3724975617585148,0.3767027823704516,0.51197720105966,0.624367366971622,0.36619054722449373,0.7822380399148081,0.5832127032390656,0.9797701538747629,0.8234503985878605,0.22355681716809606,0.7289066417141288,0.05349003730968871,0.9634301398631686,0.9410529025902141,0.6236846747632229,0.8967030119841978,0.526682292133339,0.09091490946982417,0.639034668391818,0.5095143709315338,0.4856157115725698,0.4479803667915022,0.1465943042054354,0.1329343916861324,0.7261919823712204,0.1393994063892514,0.26072345597348745,0.3599851518727132,0.15623801325207232,0.5633675856248175,0.5261494245070905,0.06960137055468063,0.9387097566048845,0.038127943377681106,0.39389791605298563,0.11111651471086448,0.893236019297892,0.3085422377302883,0.08011876207809532,0.6932850847778467,0.40854015575771707,0.11235388871652408,0.7921349361568808,0.4122805914097222,0.09041854324960741,0.9201573848888718,0.37980584741542134,0.5081413787497511,0.47484774192862444,0.039815391551774604,0.5085658595205418,0.042826505823376104,0.7581651255351565,0.10762612610696187,0.6804180344666642,0.40985358277749107,0.7817514466203233,0.2689769206425392,0.24572157014160823,0.52641381759772,0.4802414749064303,0.047552795896346534,0.8678002704935425,0.7846381474462071,0.8676528169054539,0.8944959530141426,0.7087167711515295,0.4229517587991616,0.8050461518949977,0.6228465427903684,0.9310392608563977,0.9057189009114642,0.183560428145647,0.6606789673922473,0.16020663078814834,0.04056756474385137,0.32643812542123296,0.21341555746390073,0.798517410095639,0.9972751455081247,0.7603605666606782,0.168626339403547,0.6824898182370939,0.8009715374102602,0.8140952448393334,0.3278653673141996,0.3650959966829186,0.6633785759418956,0.7320699720639536,0.4724836642803131,0.16944077911607258,0.861175008885987,0.6209591997361268,0.2419321565505944,0.25804207008697166,0.4458108921695455,0.5081978526141528,0.2672888685156142,0.24008481632156742,0.006041942617098783,0.9463544792769367,0.5501050268854978,0.6139470728403116,0.5004416035627288,0.09964407198810998,0.7144726016977685,0.2933227586251691,0.4249129006493393,0.042488272279686656,0.019039304519796962,0.34726273991568946,0.10991527464236817,0.23813976453360397,0.9475572208305258,0.3249658470556672,0.17801012007121553,0.22304184862356746,0.8168427129673662,0.5436727612171519,0.8430883425787868,0.2440774879512223,0.08328778140339943,0.603305918281125,0.5357450180883058,0.4953969938383972,0.9136886017249192,0.9010471958976729,0.24754535531853372,0.08227692652297369,0.7123810988126739,0.6176905130305343,0.22588907522195734,0.24257949637117804,0.04417188237125946,0.3125876675925683,0.18971723372918392,0.2893858257933697,0.32120414980372414,0.49252311589119735,0.9939928430317593,0.7438758916343821,0.5855022541293459,0.2687434770184909,0.740257845529142,0.7074601718604491,0.8547180023208708,0.8376646291208019,0.2148636642181121,0.22992633157911535,0.15475382224205259,0.11887715903975293,0.311356975273699,0.06474188440151563,0.3705353891172112,0.5192360163257088,0.28933305063158565],\"type\":\"scatter\"}],                        {\"legend\":{\"bgcolor\":\"#F5F6F9\",\"font\":{\"color\":\"#4D5663\"}},\"paper_bgcolor\":\"#F5F6F9\",\"plot_bgcolor\":\"#F5F6F9\",\"template\":{\"data\":{\"barpolar\":[{\"marker\":{\"line\":{\"color\":\"#E5ECF6\",\"width\":0.5},\"pattern\":{\"fillmode\":\"overlay\",\"size\":10,\"solidity\":0.2}},\"type\":\"barpolar\"}],\"bar\":[{\"error_x\":{\"color\":\"#2a3f5f\"},\"error_y\":{\"color\":\"#2a3f5f\"},\"marker\":{\"line\":{\"color\":\"#E5ECF6\",\"width\":0.5},\"pattern\":{\"fillmode\":\"overlay\",\"size\":10,\"solidity\":0.2}},\"type\":\"bar\"}],\"carpet\":[{\"aaxis\":{\"endlinecolor\":\"#2a3f5f\",\"gridcolor\":\"white\",\"linecolor\":\"white\",\"minorgridcolor\":\"white\",\"startlinecolor\":\"#2a3f5f\"},\"baxis\":{\"endlinecolor\":\"#2a3f5f\",\"gridcolor\":\"white\",\"linecolor\":\"white\",\"minorgridcolor\":\"white\",\"startlinecolor\":\"#2a3f5f\"},\"type\":\"carpet\"}],\"choropleth\":[{\"colorbar\":{\"outlinewidth\":0,\"ticks\":\"\"},\"type\":\"choropleth\"}],\"contourcarpet\":[{\"colorbar\":{\"outlinewidth\":0,\"ticks\":\"\"},\"type\":\"contourcarpet\"}],\"contour\":[{\"colorbar\":{\"outlinewidth\":0,\"ticks\":\"\"},\"colorscale\":[[0.0,\"#0d0887\"],[0.1111111111111111,\"#46039f\"],[0.2222222222222222,\"#7201a8\"],[0.3333333333333333,\"#9c179e\"],[0.4444444444444444,\"#bd3786\"],[0.5555555555555556,\"#d8576b\"],[0.6666666666666666,\"#ed7953\"],[0.7777777777777778,\"#fb9f3a\"],[0.8888888888888888,\"#fdca26\"],[1.0,\"#f0f921\"]],\"type\":\"contour\"}],\"heatmapgl\":[{\"colorbar\":{\"outlinewidth\":0,\"ticks\":\"\"},\"colorscale\":[[0.0,\"#0d0887\"],[0.1111111111111111,\"#46039f\"],[0.2222222222222222,\"#7201a8\"],[0.3333333333333333,\"#9c179e\"],[0.4444444444444444,\"#bd3786\"],[0.5555555555555556,\"#d8576b\"],[0.6666666666666666,\"#ed7953\"],[0.7777777777777778,\"#fb9f3a\"],[0.8888888888888888,\"#fdca26\"],[1.0,\"#f0f921\"]],\"type\":\"heatmapgl\"}],\"heatmap\":[{\"colorbar\":{\"outlinewidth\":0,\"ticks\":\"\"},\"colorscale\":[[0.0,\"#0d0887\"],[0.1111111111111111,\"#46039f\"],[0.2222222222222222,\"#7201a8\"],[0.3333333333333333,\"#9c179e\"],[0.4444444444444444,\"#bd3786\"],[0.5555555555555556,\"#d8576b\"],[0.6666666666666666,\"#ed7953\"],[0.7777777777777778,\"#fb9f3a\"],[0.8888888888888888,\"#fdca26\"],[1.0,\"#f0f921\"]],\"type\":\"heatmap\"}],\"histogram2dcontour\":[{\"colorbar\":{\"outlinewidth\":0,\"ticks\":\"\"},\"colorscale\":[[0.0,\"#0d0887\"],[0.1111111111111111,\"#46039f\"],[0.2222222222222222,\"#7201a8\"],[0.3333333333333333,\"#9c179e\"],[0.4444444444444444,\"#bd3786\"],[0.5555555555555556,\"#d8576b\"],[0.6666666666666666,\"#ed7953\"],[0.7777777777777778,\"#fb9f3a\"],[0.8888888888888888,\"#fdca26\"],[1.0,\"#f0f921\"]],\"type\":\"histogram2dcontour\"}],\"histogram2d\":[{\"colorbar\":{\"outlinewidth\":0,\"ticks\":\"\"},\"colorscale\":[[0.0,\"#0d0887\"],[0.1111111111111111,\"#46039f\"],[0.2222222222222222,\"#7201a8\"],[0.3333333333333333,\"#9c179e\"],[0.4444444444444444,\"#bd3786\"],[0.5555555555555556,\"#d8576b\"],[0.6666666666666666,\"#ed7953\"],[0.7777777777777778,\"#fb9f3a\"],[0.8888888888888888,\"#fdca26\"],[1.0,\"#f0f921\"]],\"type\":\"histogram2d\"}],\"histogram\":[{\"marker\":{\"pattern\":{\"fillmode\":\"overlay\",\"size\":10,\"solidity\":0.2}},\"type\":\"histogram\"}],\"mesh3d\":[{\"colorbar\":{\"outlinewidth\":0,\"ticks\":\"\"},\"type\":\"mesh3d\"}],\"parcoords\":[{\"line\":{\"colorbar\":{\"outlinewidth\":0,\"ticks\":\"\"}},\"type\":\"parcoords\"}],\"pie\":[{\"automargin\":true,\"type\":\"pie\"}],\"scatter3d\":[{\"line\":{\"colorbar\":{\"outlinewidth\":0,\"ticks\":\"\"}},\"marker\":{\"colorbar\":{\"outlinewidth\":0,\"ticks\":\"\"}},\"type\":\"scatter3d\"}],\"scattercarpet\":[{\"marker\":{\"colorbar\":{\"outlinewidth\":0,\"ticks\":\"\"}},\"type\":\"scattercarpet\"}],\"scattergeo\":[{\"marker\":{\"colorbar\":{\"outlinewidth\":0,\"ticks\":\"\"}},\"type\":\"scattergeo\"}],\"scattergl\":[{\"marker\":{\"colorbar\":{\"outlinewidth\":0,\"ticks\":\"\"}},\"type\":\"scattergl\"}],\"scattermapbox\":[{\"marker\":{\"colorbar\":{\"outlinewidth\":0,\"ticks\":\"\"}},\"type\":\"scattermapbox\"}],\"scatterpolargl\":[{\"marker\":{\"colorbar\":{\"outlinewidth\":0,\"ticks\":\"\"}},\"type\":\"scatterpolargl\"}],\"scatterpolar\":[{\"marker\":{\"colorbar\":{\"outlinewidth\":0,\"ticks\":\"\"}},\"type\":\"scatterpolar\"}],\"scatter\":[{\"fillpattern\":{\"fillmode\":\"overlay\",\"size\":10,\"solidity\":0.2},\"type\":\"scatter\"}],\"scatterternary\":[{\"marker\":{\"colorbar\":{\"outlinewidth\":0,\"ticks\":\"\"}},\"type\":\"scatterternary\"}],\"surface\":[{\"colorbar\":{\"outlinewidth\":0,\"ticks\":\"\"},\"colorscale\":[[0.0,\"#0d0887\"],[0.1111111111111111,\"#46039f\"],[0.2222222222222222,\"#7201a8\"],[0.3333333333333333,\"#9c179e\"],[0.4444444444444444,\"#bd3786\"],[0.5555555555555556,\"#d8576b\"],[0.6666666666666666,\"#ed7953\"],[0.7777777777777778,\"#fb9f3a\"],[0.8888888888888888,\"#fdca26\"],[1.0,\"#f0f921\"]],\"type\":\"surface\"}],\"table\":[{\"cells\":{\"fill\":{\"color\":\"#EBF0F8\"},\"line\":{\"color\":\"white\"}},\"header\":{\"fill\":{\"color\":\"#C8D4E3\"},\"line\":{\"color\":\"white\"}},\"type\":\"table\"}]},\"layout\":{\"annotationdefaults\":{\"arrowcolor\":\"#2a3f5f\",\"arrowhead\":0,\"arrowwidth\":1},\"autotypenumbers\":\"strict\",\"coloraxis\":{\"colorbar\":{\"outlinewidth\":0,\"ticks\":\"\"}},\"colorscale\":{\"diverging\":[[0,\"#8e0152\"],[0.1,\"#c51b7d\"],[0.2,\"#de77ae\"],[0.3,\"#f1b6da\"],[0.4,\"#fde0ef\"],[0.5,\"#f7f7f7\"],[0.6,\"#e6f5d0\"],[0.7,\"#b8e186\"],[0.8,\"#7fbc41\"],[0.9,\"#4d9221\"],[1,\"#276419\"]],\"sequential\":[[0.0,\"#0d0887\"],[0.1111111111111111,\"#46039f\"],[0.2222222222222222,\"#7201a8\"],[0.3333333333333333,\"#9c179e\"],[0.4444444444444444,\"#bd3786\"],[0.5555555555555556,\"#d8576b\"],[0.6666666666666666,\"#ed7953\"],[0.7777777777777778,\"#fb9f3a\"],[0.8888888888888888,\"#fdca26\"],[1.0,\"#f0f921\"]],\"sequentialminus\":[[0.0,\"#0d0887\"],[0.1111111111111111,\"#46039f\"],[0.2222222222222222,\"#7201a8\"],[0.3333333333333333,\"#9c179e\"],[0.4444444444444444,\"#bd3786\"],[0.5555555555555556,\"#d8576b\"],[0.6666666666666666,\"#ed7953\"],[0.7777777777777778,\"#fb9f3a\"],[0.8888888888888888,\"#fdca26\"],[1.0,\"#f0f921\"]]},\"colorway\":[\"#636efa\",\"#EF553B\",\"#00cc96\",\"#ab63fa\",\"#FFA15A\",\"#19d3f3\",\"#FF6692\",\"#B6E880\",\"#FF97FF\",\"#FECB52\"],\"font\":{\"color\":\"#2a3f5f\"},\"geo\":{\"bgcolor\":\"white\",\"lakecolor\":\"white\",\"landcolor\":\"#E5ECF6\",\"showlakes\":true,\"showland\":true,\"subunitcolor\":\"white\"},\"hoverlabel\":{\"align\":\"left\"},\"hovermode\":\"closest\",\"mapbox\":{\"style\":\"light\"},\"paper_bgcolor\":\"white\",\"plot_bgcolor\":\"#E5ECF6\",\"polar\":{\"angularaxis\":{\"gridcolor\":\"white\",\"linecolor\":\"white\",\"ticks\":\"\"},\"bgcolor\":\"#E5ECF6\",\"radialaxis\":{\"gridcolor\":\"white\",\"linecolor\":\"white\",\"ticks\":\"\"}},\"scene\":{\"xaxis\":{\"backgroundcolor\":\"#E5ECF6\",\"gridcolor\":\"white\",\"gridwidth\":2,\"linecolor\":\"white\",\"showbackground\":true,\"ticks\":\"\",\"zerolinecolor\":\"white\"},\"yaxis\":{\"backgroundcolor\":\"#E5ECF6\",\"gridcolor\":\"white\",\"gridwidth\":2,\"linecolor\":\"white\",\"showbackground\":true,\"ticks\":\"\",\"zerolinecolor\":\"white\"},\"zaxis\":{\"backgroundcolor\":\"#E5ECF6\",\"gridcolor\":\"white\",\"gridwidth\":2,\"linecolor\":\"white\",\"showbackground\":true,\"ticks\":\"\",\"zerolinecolor\":\"white\"}},\"shapedefaults\":{\"line\":{\"color\":\"#2a3f5f\"}},\"ternary\":{\"aaxis\":{\"gridcolor\":\"white\",\"linecolor\":\"white\",\"ticks\":\"\"},\"baxis\":{\"gridcolor\":\"white\",\"linecolor\":\"white\",\"ticks\":\"\"},\"bgcolor\":\"#E5ECF6\",\"caxis\":{\"gridcolor\":\"white\",\"linecolor\":\"white\",\"ticks\":\"\"}},\"title\":{\"x\":0.05},\"xaxis\":{\"automargin\":true,\"gridcolor\":\"white\",\"linecolor\":\"white\",\"ticks\":\"\",\"title\":{\"standoff\":15},\"zerolinecolor\":\"white\",\"zerolinewidth\":2},\"yaxis\":{\"automargin\":true,\"gridcolor\":\"white\",\"linecolor\":\"white\",\"ticks\":\"\",\"title\":{\"standoff\":15},\"zerolinecolor\":\"white\",\"zerolinewidth\":2}}},\"title\":{\"font\":{\"color\":\"#4D5663\"}},\"xaxis\":{\"gridcolor\":\"#E1E5ED\",\"showgrid\":true,\"tickfont\":{\"color\":\"#4D5663\"},\"title\":{\"font\":{\"color\":\"#4D5663\"},\"text\":\"\"},\"zerolinecolor\":\"#E1E5ED\"},\"yaxis\":{\"gridcolor\":\"#E1E5ED\",\"showgrid\":true,\"tickfont\":{\"color\":\"#4D5663\"},\"title\":{\"font\":{\"color\":\"#4D5663\"},\"text\":\"\"},\"zerolinecolor\":\"#E1E5ED\"}},                        {\"showLink\": true, \"linkText\": \"Export to plot.ly\", \"plotlyServerURL\": \"https://plot.ly\", \"responsive\": true}                    ).then(function(){\n",
       "                            \n",
       "var gd = document.getElementById('cdf91117-0fe4-4cbc-925d-af00f23422f0');\n",
       "var x = new MutationObserver(function (mutations, observer) {{\n",
       "        var display = window.getComputedStyle(gd).display;\n",
       "        if (!display || display === 'none') {{\n",
       "            console.log([gd, 'removed!']);\n",
       "            Plotly.purge(gd);\n",
       "            observer.disconnect();\n",
       "        }}\n",
       "}});\n",
       "\n",
       "// Listen for the removal of the full notebook cells\n",
       "var notebookContainer = gd.closest('#notebook-container');\n",
       "if (notebookContainer) {{\n",
       "    x.observe(notebookContainer, {childList: true});\n",
       "}}\n",
       "\n",
       "// Listen for the clearing of the current output cell\n",
       "var outputEl = gd.closest('.output');\n",
       "if (outputEl) {{\n",
       "    x.observe(outputEl, {childList: true});\n",
       "}}\n",
       "\n",
       "                        })                };                });            </script>        </div>"
      ]
     },
     "metadata": {},
     "output_type": "display_data"
    }
   ],
   "source": [
    "df.iplot(x='a' ,y='b')"
   ]
  },
  {
   "cell_type": "code",
   "execution_count": 38,
   "id": "85ced6d7",
   "metadata": {},
   "outputs": [
    {
     "data": {
      "application/vnd.plotly.v1+json": {
       "config": {
        "linkText": "Export to plot.ly",
        "plotlyServerURL": "https://plot.ly",
        "showLink": true
       },
       "data": [
        {
         "line": {
          "color": "rgba(255, 153, 51, 1.0)",
          "dash": "solid",
          "shape": "linear",
          "width": 1.3
         },
         "marker": {
          "size": 12,
          "symbol": "circle"
         },
         "mode": "markers",
         "name": "b",
         "text": "",
         "type": "scatter",
         "x": [
          0.47482107055717093,
          0.022744992998465663,
          0.34965575642374824,
          0.050582705841130005,
          0.7324727447837143,
          0.4736171827792899,
          0.4235797704094907,
          0.6345707915433778,
          0.12568659908177526,
          0.2896321213032911,
          0.17088912300328862,
          0.25935460493710205,
          0.8655022992544924,
          0.47701901826994364,
          0.3934422546095585,
          0.02979142461757256,
          0.002566716161290228,
          0.3166079537294344,
          0.7760784033006114,
          0.47314992909497366,
          0.4665843790892156,
          0.3767476702177014,
          0.9863130592820786,
          0.0838253235183245,
          0.8237859894783512,
          0.6346361768733595,
          0.0017415467035057919,
          0.757988609089601,
          0.2682699633626463,
          0.30396713684719234,
          0.9371908423632099,
          0.48938637624916415,
          0.35691409390546425,
          0.7000876789523454,
          0.15256417970666436,
          0.7370395195613186,
          0.019850588753494547,
          0.07350097022162883,
          0.19382038357495923,
          0.09631222215884361,
          0.9562041071278232,
          0.6184656040760903,
          0.35728682794125277,
          0.6814972974328488,
          0.8171253937569428,
          0.4210882860174837,
          0.5068296269165151,
          0.4907375371592513,
          0.012455274128412963,
          0.7687594906051284,
          0.08857673554970402,
          0.45100693743996423,
          0.481692322718978,
          0.2303177726083251,
          0.6640905388626966,
          0.35652891187045754,
          0.10887052885485382,
          0.9205523141597386,
          0.6288938273401641,
          0.9812390192670004,
          0.05374136899349746,
          0.8536596498675331,
          0.7179502507707786,
          0.7731201410541226,
          0.26177393280827577,
          0.623417562683179,
          0.2054116789949425,
          0.7410747506640553,
          0.4352102841144635,
          0.5669959529092975,
          0.12415239384058807,
          0.6364886556235708,
          0.03136044983076669,
          0.5637094574958503,
          0.1817863622607162,
          0.2648574749532917,
          0.8508539681587134,
          0.2537455176320751,
          0.256164267280347,
          0.9208997071361003,
          0.45902818085933306,
          0.2893649112646679,
          0.8991269366110506,
          0.8212203133765642,
          0.7167872558697288,
          0.9833429803479374,
          0.7312375952677105,
          0.11850064236657676,
          0.7915167650975117,
          0.5557425025361381,
          0.9627821019453204,
          0.5992826270810888,
          0.41629739381202535,
          0.6692938667109307,
          0.12266372210492515,
          0.8760249245234724,
          0.001619039440319603,
          0.959462975500171,
          0.6428067474538932,
          0.14187376374701366,
          0.6141521981751712,
          0.6981406784257553,
          0.30700433335644906,
          0.7107184381051801,
          0.9199571889082038,
          0.34411885024569155,
          0.5367614249513882,
          0.17477853430047285,
          0.7990196015128801,
          0.6641646870319609,
          0.1068338117140668,
          0.772958439263793,
          0.7012431605519106,
          0.493856285911466,
          0.36647569999675444,
          0.6925179999210423,
          0.08529652474022786,
          0.08427131906763319,
          0.6242410376250069,
          0.25974677499776344,
          0.7416703343765733,
          0.6623397101591515,
          0.1773471798131342,
          0.20394506047584737,
          0.9478985248240795,
          0.791839180691597,
          0.4875249277892547,
          0.9711189333628899,
          0.6698065717298204,
          0.29510624195698376,
          0.4752050026423066,
          0.5894251647771837,
          0.2162863875317904,
          0.5528931434964268,
          0.08027043850689741,
          0.9835899756730196,
          0.8424915145833262,
          0.30306061043579313,
          0.19178342651783797,
          0.444471250748657,
          0.3567994645200806,
          0.8054094732594915,
          0.8024997510718613,
          0.8475160058766064,
          0.1833944150074256,
          0.07929465736159447,
          0.5198272826585038,
          0.025442895307380753,
          0.5542962383898646,
          0.7509753275424956,
          0.755888821060355,
          0.2830795992709918,
          0.8772608968744865,
          0.41510467231090964,
          0.9665682870497206,
          0.4000467508349297,
          0.12081580246684087,
          0.7499111966776368,
          0.4681745164699931,
          0.43087531398425083,
          0.02333154789734504,
          0.5188824916039056,
          0.2274201004318882,
          0.9762375568850116,
          0.44923485020098897,
          0.07215689378626367,
          0.09316802728639162,
          0.9007888342397397,
          0.3284321392224844,
          0.008175502003338275,
          0.20550450408612675,
          0.13518995648754295,
          0.6295651352594548,
          0.7981245539235114,
          0.9774582077263095,
          0.44894204797277026,
          0.18671233835680423,
          0.051929925703080526,
          0.23926677547707265,
          0.4381753185856039,
          0.8260184638525279,
          0.6768318135595939,
          0.5216356436505741,
          0.5873704549927811,
          0.1927717004774846,
          0.5469981777021223,
          0.9139876708498363,
          0.6126117967996896,
          0.9554137347970895,
          0.26721213503487307,
          0.9420483546032532,
          0.020145200071438718,
          0.0648086435063221,
          0.8006776959802284,
          0.23733518023114641,
          0.528098684729944,
          0.0052771866034453385,
          0.6281707396813268,
          0.039238014475586946,
          0.2553661164126647,
          0.6906119602186486,
          0.4620622365046072,
          0.23378074584859798,
          0.26214926578090103,
          0.8186467197969274,
          0.5084277824151813,
          0.9214925610264566,
          0.7755266772452707,
          0.7893982957693381,
          0.02183896802737917,
          0.11324817488963013,
          0.2500712798910729,
          0.0768138032193807,
          0.9678346751485682,
          0.8810676919016801,
          0.11018339691939949,
          0.31522963438979235,
          0.9086635040222685,
          0.5910633400059739,
          0.859080556913498,
          0.1705180069750345,
          0.5575806294533568,
          0.18481845732712598,
          0.36845903435141636,
          0.7688502099865797,
          0.0580382325490757,
          0.9342246343121018,
          0.9770536558327949,
          0.1258317317998745,
          0.7345052661899085,
          0.519449919949619,
          0.4328019456226144,
          0.8183965455228954,
          0.7985219311091447,
          0.8938166347881066,
          0.15423492484422885,
          0.922285389163017,
          0.5931162639311209,
          0.47946838618588905,
          0.1321227015335522,
          0.3700624410806327,
          0.8064541393088313,
          0.7780466425201902,
          0.09890945535659779,
          0.1442613658697881,
          0.9580095767327714,
          0.6117372226273942,
          0.816928058598567,
          0.6125227906509008,
          0.05042856162596976,
          0.7469224145549039,
          0.18354781878224047,
          0.2003838186594611,
          0.28127212155053716,
          0.20092426684307474,
          0.4509151958412547,
          0.6079210069358452,
          0.708619994843216,
          0.8259892956860583,
          0.9245172210347146,
          0.6679819175088606,
          0.6965411748141463,
          0.08324983351026072,
          0.04348319525609701,
          0.8956880689053727,
          0.15575117990718523,
          0.9380916809970459,
          0.23963060200878616,
          0.5565096665214418,
          0.46034934555963336,
          0.1985561808599844,
          0.7542836125555591,
          0.3234258508840808,
          0.7313102286076045,
          0.13867738125056184,
          0.3653017246306275,
          0.3390932908429488,
          0.3278179796685985,
          0.18736510994416877,
          0.25542644845041385,
          0.25093255211296517,
          0.3698277538035841,
          0.33771016931667885,
          0.8441206199457392,
          0.45875558114776305,
          0.5264146271521785,
          0.12245175065119229,
          0.522316374109928,
          0.08334787526178444,
          0.5207320484383471,
          0.7925158967661694,
          0.7895400814875833,
          0.436494780316141,
          0.6828435862801495,
          0.3771516713362748,
          0.32720024027863226,
          0.8188096173215992,
          0.9481130538471394,
          0.9456013970315679,
          0.10580629804514319
         ],
         "y": [
          0.5674697018954408,
          0.0057114332930738865,
          0.7526778926633678,
          0.15004940031100844,
          0.9192716655704084,
          0.8500013015367113,
          0.3182675582703668,
          0.20149664978879045,
          0.8026595060572262,
          0.6567443223596013,
          0.6075333616090873,
          0.14871352417516537,
          0.9827737311334794,
          0.2506557335969908,
          0.891208064425043,
          0.3040434436633208,
          0.4680391342895617,
          0.1907494344912093,
          0.6762932065708069,
          0.8898643615775239,
          0.9936223283548352,
          0.21534335662207116,
          0.6821197375778542,
          0.7399962378332154,
          0.806667379379845,
          0.8985070401509258,
          0.3212124735377445,
          0.17903721163144692,
          0.1348015133246412,
          0.22468241059325555,
          0.46365793866588234,
          0.8925623417527347,
          0.5701691394902099,
          0.7799037343826494,
          0.7901041044774665,
          0.0008262355265779009,
          0.1933956219857339,
          0.3630226206459878,
          0.7350741303173864,
          0.15128959462693103,
          0.3558659427108697,
          0.5489406678553447,
          0.633621177591484,
          0.9857206516818054,
          0.596308137810859,
          0.850767380543469,
          0.4831204571496013,
          0.34482045493488245,
          0.6296628800290847,
          0.6205586880226189,
          0.23961633314275144,
          0.2555696972411895,
          0.633920215420085,
          0.017126484868807523,
          0.7043281996574462,
          0.8603392570210264,
          0.3654022493528344,
          0.33868436917770794,
          0.2175293457852674,
          0.4456196321426854,
          0.40019570744793187,
          0.12918949554820236,
          0.37259936025328844,
          0.1390375216859422,
          0.1656032322348472,
          0.9742690152989216,
          0.6604345096778471,
          0.5612810607170051,
          0.9292697734166492,
          0.8986969678606368,
          0.9491860290733568,
          0.5042314727791876,
          0.14053774530468743,
          0.2808621366375136,
          0.6110061189010364,
          0.04341290671729081,
          0.6678050071354795,
          0.7099089558431944,
          0.31208747243033874,
          0.340374314698084,
          0.8909094448752806,
          0.11294021894393458,
          0.4379592035088108,
          0.16157123613470215,
          0.11075555698535988,
          0.5479964948663212,
          0.7335972136922637,
          0.9161569025174251,
          0.5668703601687899,
          0.7276154429380635,
          0.8269840107487858,
          0.4445070172104634,
          0.2818508701869987,
          0.2512845433018248,
          0.8949775621636872,
          0.875192729639007,
          0.8139676551199532,
          0.12313097243273496,
          0.2164268236867949,
          0.74399691849857,
          0.11796310141101429,
          0.15490717746808547,
          0.2902426141599993,
          0.3665753413673726,
          0.5040003981339627,
          0.22303400831592646,
          0.7286369696399495,
          0.2995837077472385,
          0.5789346793139822,
          0.352300808507122,
          0.5264892136216431,
          0.3727744544026924,
          0.6861450156788559,
          0.5321287688552677,
          0.12293358036842317,
          0.3529255196745832,
          0.41842184451840203,
          0.4941476045731341,
          0.3398949996925704,
          0.5078944593750052,
          0.16597782203167533,
          0.05566630527792693,
          0.5681434950235296,
          0.12170893079093703,
          0.5732044291378219,
          0.3897804101963087,
          0.5510280112012982,
          0.4619913038329113,
          0.7394718450229466,
          0.5299864668928008,
          0.8423200625527795,
          0.3824763975294271,
          0.7934517021579565,
          0.7868428369924075,
          0.6310946781100861,
          0.8861373858306665,
          0.877215731690747,
          0.46256294528814446,
          0.4241128069334529,
          0.4753363437164265,
          0.37581613362367816,
          0.08688775860315034,
          0.1638680140264699,
          0.5225014353266271,
          0.3724975617585148,
          0.3767027823704516,
          0.51197720105966,
          0.624367366971622,
          0.36619054722449373,
          0.7822380399148081,
          0.5832127032390656,
          0.9797701538747629,
          0.8234503985878605,
          0.22355681716809606,
          0.7289066417141288,
          0.05349003730968871,
          0.9634301398631686,
          0.9410529025902141,
          0.6236846747632229,
          0.8967030119841978,
          0.526682292133339,
          0.09091490946982417,
          0.639034668391818,
          0.5095143709315338,
          0.4856157115725698,
          0.4479803667915022,
          0.1465943042054354,
          0.1329343916861324,
          0.7261919823712204,
          0.1393994063892514,
          0.26072345597348745,
          0.3599851518727132,
          0.15623801325207232,
          0.5633675856248175,
          0.5261494245070905,
          0.06960137055468063,
          0.9387097566048845,
          0.038127943377681106,
          0.39389791605298563,
          0.11111651471086448,
          0.893236019297892,
          0.3085422377302883,
          0.08011876207809532,
          0.6932850847778467,
          0.40854015575771707,
          0.11235388871652408,
          0.7921349361568808,
          0.4122805914097222,
          0.09041854324960741,
          0.9201573848888718,
          0.37980584741542134,
          0.5081413787497511,
          0.47484774192862444,
          0.039815391551774604,
          0.5085658595205418,
          0.042826505823376104,
          0.7581651255351565,
          0.10762612610696187,
          0.6804180344666642,
          0.40985358277749107,
          0.7817514466203233,
          0.2689769206425392,
          0.24572157014160823,
          0.52641381759772,
          0.4802414749064303,
          0.047552795896346534,
          0.8678002704935425,
          0.7846381474462071,
          0.8676528169054539,
          0.8944959530141426,
          0.7087167711515295,
          0.4229517587991616,
          0.8050461518949977,
          0.6228465427903684,
          0.9310392608563977,
          0.9057189009114642,
          0.183560428145647,
          0.6606789673922473,
          0.16020663078814834,
          0.04056756474385137,
          0.32643812542123296,
          0.21341555746390073,
          0.798517410095639,
          0.9972751455081247,
          0.7603605666606782,
          0.168626339403547,
          0.6824898182370939,
          0.8009715374102602,
          0.8140952448393334,
          0.3278653673141996,
          0.3650959966829186,
          0.6633785759418956,
          0.7320699720639536,
          0.4724836642803131,
          0.16944077911607258,
          0.861175008885987,
          0.6209591997361268,
          0.2419321565505944,
          0.25804207008697166,
          0.4458108921695455,
          0.5081978526141528,
          0.2672888685156142,
          0.24008481632156742,
          0.006041942617098783,
          0.9463544792769367,
          0.5501050268854978,
          0.6139470728403116,
          0.5004416035627288,
          0.09964407198810998,
          0.7144726016977685,
          0.2933227586251691,
          0.4249129006493393,
          0.042488272279686656,
          0.019039304519796962,
          0.34726273991568946,
          0.10991527464236817,
          0.23813976453360397,
          0.9475572208305258,
          0.3249658470556672,
          0.17801012007121553,
          0.22304184862356746,
          0.8168427129673662,
          0.5436727612171519,
          0.8430883425787868,
          0.2440774879512223,
          0.08328778140339943,
          0.603305918281125,
          0.5357450180883058,
          0.4953969938383972,
          0.9136886017249192,
          0.9010471958976729,
          0.24754535531853372,
          0.08227692652297369,
          0.7123810988126739,
          0.6176905130305343,
          0.22588907522195734,
          0.24257949637117804,
          0.04417188237125946,
          0.3125876675925683,
          0.18971723372918392,
          0.2893858257933697,
          0.32120414980372414,
          0.49252311589119735,
          0.9939928430317593,
          0.7438758916343821,
          0.5855022541293459,
          0.2687434770184909,
          0.740257845529142,
          0.7074601718604491,
          0.8547180023208708,
          0.8376646291208019,
          0.2148636642181121,
          0.22992633157911535,
          0.15475382224205259,
          0.11887715903975293,
          0.311356975273699,
          0.06474188440151563,
          0.3705353891172112,
          0.5192360163257088,
          0.28933305063158565
         ]
        }
       ],
       "layout": {
        "legend": {
         "bgcolor": "#F5F6F9",
         "font": {
          "color": "#4D5663"
         }
        },
        "paper_bgcolor": "#F5F6F9",
        "plot_bgcolor": "#F5F6F9",
        "template": {
         "data": {
          "bar": [
           {
            "error_x": {
             "color": "#2a3f5f"
            },
            "error_y": {
             "color": "#2a3f5f"
            },
            "marker": {
             "line": {
              "color": "#E5ECF6",
              "width": 0.5
             },
             "pattern": {
              "fillmode": "overlay",
              "size": 10,
              "solidity": 0.2
             }
            },
            "type": "bar"
           }
          ],
          "barpolar": [
           {
            "marker": {
             "line": {
              "color": "#E5ECF6",
              "width": 0.5
             },
             "pattern": {
              "fillmode": "overlay",
              "size": 10,
              "solidity": 0.2
             }
            },
            "type": "barpolar"
           }
          ],
          "carpet": [
           {
            "aaxis": {
             "endlinecolor": "#2a3f5f",
             "gridcolor": "white",
             "linecolor": "white",
             "minorgridcolor": "white",
             "startlinecolor": "#2a3f5f"
            },
            "baxis": {
             "endlinecolor": "#2a3f5f",
             "gridcolor": "white",
             "linecolor": "white",
             "minorgridcolor": "white",
             "startlinecolor": "#2a3f5f"
            },
            "type": "carpet"
           }
          ],
          "choropleth": [
           {
            "colorbar": {
             "outlinewidth": 0,
             "ticks": ""
            },
            "type": "choropleth"
           }
          ],
          "contour": [
           {
            "colorbar": {
             "outlinewidth": 0,
             "ticks": ""
            },
            "colorscale": [
             [
              0,
              "#0d0887"
             ],
             [
              0.1111111111111111,
              "#46039f"
             ],
             [
              0.2222222222222222,
              "#7201a8"
             ],
             [
              0.3333333333333333,
              "#9c179e"
             ],
             [
              0.4444444444444444,
              "#bd3786"
             ],
             [
              0.5555555555555556,
              "#d8576b"
             ],
             [
              0.6666666666666666,
              "#ed7953"
             ],
             [
              0.7777777777777778,
              "#fb9f3a"
             ],
             [
              0.8888888888888888,
              "#fdca26"
             ],
             [
              1,
              "#f0f921"
             ]
            ],
            "type": "contour"
           }
          ],
          "contourcarpet": [
           {
            "colorbar": {
             "outlinewidth": 0,
             "ticks": ""
            },
            "type": "contourcarpet"
           }
          ],
          "heatmap": [
           {
            "colorbar": {
             "outlinewidth": 0,
             "ticks": ""
            },
            "colorscale": [
             [
              0,
              "#0d0887"
             ],
             [
              0.1111111111111111,
              "#46039f"
             ],
             [
              0.2222222222222222,
              "#7201a8"
             ],
             [
              0.3333333333333333,
              "#9c179e"
             ],
             [
              0.4444444444444444,
              "#bd3786"
             ],
             [
              0.5555555555555556,
              "#d8576b"
             ],
             [
              0.6666666666666666,
              "#ed7953"
             ],
             [
              0.7777777777777778,
              "#fb9f3a"
             ],
             [
              0.8888888888888888,
              "#fdca26"
             ],
             [
              1,
              "#f0f921"
             ]
            ],
            "type": "heatmap"
           }
          ],
          "heatmapgl": [
           {
            "colorbar": {
             "outlinewidth": 0,
             "ticks": ""
            },
            "colorscale": [
             [
              0,
              "#0d0887"
             ],
             [
              0.1111111111111111,
              "#46039f"
             ],
             [
              0.2222222222222222,
              "#7201a8"
             ],
             [
              0.3333333333333333,
              "#9c179e"
             ],
             [
              0.4444444444444444,
              "#bd3786"
             ],
             [
              0.5555555555555556,
              "#d8576b"
             ],
             [
              0.6666666666666666,
              "#ed7953"
             ],
             [
              0.7777777777777778,
              "#fb9f3a"
             ],
             [
              0.8888888888888888,
              "#fdca26"
             ],
             [
              1,
              "#f0f921"
             ]
            ],
            "type": "heatmapgl"
           }
          ],
          "histogram": [
           {
            "marker": {
             "pattern": {
              "fillmode": "overlay",
              "size": 10,
              "solidity": 0.2
             }
            },
            "type": "histogram"
           }
          ],
          "histogram2d": [
           {
            "colorbar": {
             "outlinewidth": 0,
             "ticks": ""
            },
            "colorscale": [
             [
              0,
              "#0d0887"
             ],
             [
              0.1111111111111111,
              "#46039f"
             ],
             [
              0.2222222222222222,
              "#7201a8"
             ],
             [
              0.3333333333333333,
              "#9c179e"
             ],
             [
              0.4444444444444444,
              "#bd3786"
             ],
             [
              0.5555555555555556,
              "#d8576b"
             ],
             [
              0.6666666666666666,
              "#ed7953"
             ],
             [
              0.7777777777777778,
              "#fb9f3a"
             ],
             [
              0.8888888888888888,
              "#fdca26"
             ],
             [
              1,
              "#f0f921"
             ]
            ],
            "type": "histogram2d"
           }
          ],
          "histogram2dcontour": [
           {
            "colorbar": {
             "outlinewidth": 0,
             "ticks": ""
            },
            "colorscale": [
             [
              0,
              "#0d0887"
             ],
             [
              0.1111111111111111,
              "#46039f"
             ],
             [
              0.2222222222222222,
              "#7201a8"
             ],
             [
              0.3333333333333333,
              "#9c179e"
             ],
             [
              0.4444444444444444,
              "#bd3786"
             ],
             [
              0.5555555555555556,
              "#d8576b"
             ],
             [
              0.6666666666666666,
              "#ed7953"
             ],
             [
              0.7777777777777778,
              "#fb9f3a"
             ],
             [
              0.8888888888888888,
              "#fdca26"
             ],
             [
              1,
              "#f0f921"
             ]
            ],
            "type": "histogram2dcontour"
           }
          ],
          "mesh3d": [
           {
            "colorbar": {
             "outlinewidth": 0,
             "ticks": ""
            },
            "type": "mesh3d"
           }
          ],
          "parcoords": [
           {
            "line": {
             "colorbar": {
              "outlinewidth": 0,
              "ticks": ""
             }
            },
            "type": "parcoords"
           }
          ],
          "pie": [
           {
            "automargin": true,
            "type": "pie"
           }
          ],
          "scatter": [
           {
            "fillpattern": {
             "fillmode": "overlay",
             "size": 10,
             "solidity": 0.2
            },
            "type": "scatter"
           }
          ],
          "scatter3d": [
           {
            "line": {
             "colorbar": {
              "outlinewidth": 0,
              "ticks": ""
             }
            },
            "marker": {
             "colorbar": {
              "outlinewidth": 0,
              "ticks": ""
             }
            },
            "type": "scatter3d"
           }
          ],
          "scattercarpet": [
           {
            "marker": {
             "colorbar": {
              "outlinewidth": 0,
              "ticks": ""
             }
            },
            "type": "scattercarpet"
           }
          ],
          "scattergeo": [
           {
            "marker": {
             "colorbar": {
              "outlinewidth": 0,
              "ticks": ""
             }
            },
            "type": "scattergeo"
           }
          ],
          "scattergl": [
           {
            "marker": {
             "colorbar": {
              "outlinewidth": 0,
              "ticks": ""
             }
            },
            "type": "scattergl"
           }
          ],
          "scattermapbox": [
           {
            "marker": {
             "colorbar": {
              "outlinewidth": 0,
              "ticks": ""
             }
            },
            "type": "scattermapbox"
           }
          ],
          "scatterpolar": [
           {
            "marker": {
             "colorbar": {
              "outlinewidth": 0,
              "ticks": ""
             }
            },
            "type": "scatterpolar"
           }
          ],
          "scatterpolargl": [
           {
            "marker": {
             "colorbar": {
              "outlinewidth": 0,
              "ticks": ""
             }
            },
            "type": "scatterpolargl"
           }
          ],
          "scatterternary": [
           {
            "marker": {
             "colorbar": {
              "outlinewidth": 0,
              "ticks": ""
             }
            },
            "type": "scatterternary"
           }
          ],
          "surface": [
           {
            "colorbar": {
             "outlinewidth": 0,
             "ticks": ""
            },
            "colorscale": [
             [
              0,
              "#0d0887"
             ],
             [
              0.1111111111111111,
              "#46039f"
             ],
             [
              0.2222222222222222,
              "#7201a8"
             ],
             [
              0.3333333333333333,
              "#9c179e"
             ],
             [
              0.4444444444444444,
              "#bd3786"
             ],
             [
              0.5555555555555556,
              "#d8576b"
             ],
             [
              0.6666666666666666,
              "#ed7953"
             ],
             [
              0.7777777777777778,
              "#fb9f3a"
             ],
             [
              0.8888888888888888,
              "#fdca26"
             ],
             [
              1,
              "#f0f921"
             ]
            ],
            "type": "surface"
           }
          ],
          "table": [
           {
            "cells": {
             "fill": {
              "color": "#EBF0F8"
             },
             "line": {
              "color": "white"
             }
            },
            "header": {
             "fill": {
              "color": "#C8D4E3"
             },
             "line": {
              "color": "white"
             }
            },
            "type": "table"
           }
          ]
         },
         "layout": {
          "annotationdefaults": {
           "arrowcolor": "#2a3f5f",
           "arrowhead": 0,
           "arrowwidth": 1
          },
          "autotypenumbers": "strict",
          "coloraxis": {
           "colorbar": {
            "outlinewidth": 0,
            "ticks": ""
           }
          },
          "colorscale": {
           "diverging": [
            [
             0,
             "#8e0152"
            ],
            [
             0.1,
             "#c51b7d"
            ],
            [
             0.2,
             "#de77ae"
            ],
            [
             0.3,
             "#f1b6da"
            ],
            [
             0.4,
             "#fde0ef"
            ],
            [
             0.5,
             "#f7f7f7"
            ],
            [
             0.6,
             "#e6f5d0"
            ],
            [
             0.7,
             "#b8e186"
            ],
            [
             0.8,
             "#7fbc41"
            ],
            [
             0.9,
             "#4d9221"
            ],
            [
             1,
             "#276419"
            ]
           ],
           "sequential": [
            [
             0,
             "#0d0887"
            ],
            [
             0.1111111111111111,
             "#46039f"
            ],
            [
             0.2222222222222222,
             "#7201a8"
            ],
            [
             0.3333333333333333,
             "#9c179e"
            ],
            [
             0.4444444444444444,
             "#bd3786"
            ],
            [
             0.5555555555555556,
             "#d8576b"
            ],
            [
             0.6666666666666666,
             "#ed7953"
            ],
            [
             0.7777777777777778,
             "#fb9f3a"
            ],
            [
             0.8888888888888888,
             "#fdca26"
            ],
            [
             1,
             "#f0f921"
            ]
           ],
           "sequentialminus": [
            [
             0,
             "#0d0887"
            ],
            [
             0.1111111111111111,
             "#46039f"
            ],
            [
             0.2222222222222222,
             "#7201a8"
            ],
            [
             0.3333333333333333,
             "#9c179e"
            ],
            [
             0.4444444444444444,
             "#bd3786"
            ],
            [
             0.5555555555555556,
             "#d8576b"
            ],
            [
             0.6666666666666666,
             "#ed7953"
            ],
            [
             0.7777777777777778,
             "#fb9f3a"
            ],
            [
             0.8888888888888888,
             "#fdca26"
            ],
            [
             1,
             "#f0f921"
            ]
           ]
          },
          "colorway": [
           "#636efa",
           "#EF553B",
           "#00cc96",
           "#ab63fa",
           "#FFA15A",
           "#19d3f3",
           "#FF6692",
           "#B6E880",
           "#FF97FF",
           "#FECB52"
          ],
          "font": {
           "color": "#2a3f5f"
          },
          "geo": {
           "bgcolor": "white",
           "lakecolor": "white",
           "landcolor": "#E5ECF6",
           "showlakes": true,
           "showland": true,
           "subunitcolor": "white"
          },
          "hoverlabel": {
           "align": "left"
          },
          "hovermode": "closest",
          "mapbox": {
           "style": "light"
          },
          "paper_bgcolor": "white",
          "plot_bgcolor": "#E5ECF6",
          "polar": {
           "angularaxis": {
            "gridcolor": "white",
            "linecolor": "white",
            "ticks": ""
           },
           "bgcolor": "#E5ECF6",
           "radialaxis": {
            "gridcolor": "white",
            "linecolor": "white",
            "ticks": ""
           }
          },
          "scene": {
           "xaxis": {
            "backgroundcolor": "#E5ECF6",
            "gridcolor": "white",
            "gridwidth": 2,
            "linecolor": "white",
            "showbackground": true,
            "ticks": "",
            "zerolinecolor": "white"
           },
           "yaxis": {
            "backgroundcolor": "#E5ECF6",
            "gridcolor": "white",
            "gridwidth": 2,
            "linecolor": "white",
            "showbackground": true,
            "ticks": "",
            "zerolinecolor": "white"
           },
           "zaxis": {
            "backgroundcolor": "#E5ECF6",
            "gridcolor": "white",
            "gridwidth": 2,
            "linecolor": "white",
            "showbackground": true,
            "ticks": "",
            "zerolinecolor": "white"
           }
          },
          "shapedefaults": {
           "line": {
            "color": "#2a3f5f"
           }
          },
          "ternary": {
           "aaxis": {
            "gridcolor": "white",
            "linecolor": "white",
            "ticks": ""
           },
           "baxis": {
            "gridcolor": "white",
            "linecolor": "white",
            "ticks": ""
           },
           "bgcolor": "#E5ECF6",
           "caxis": {
            "gridcolor": "white",
            "linecolor": "white",
            "ticks": ""
           }
          },
          "title": {
           "x": 0.05
          },
          "xaxis": {
           "automargin": true,
           "gridcolor": "white",
           "linecolor": "white",
           "ticks": "",
           "title": {
            "standoff": 15
           },
           "zerolinecolor": "white",
           "zerolinewidth": 2
          },
          "yaxis": {
           "automargin": true,
           "gridcolor": "white",
           "linecolor": "white",
           "ticks": "",
           "title": {
            "standoff": 15
           },
           "zerolinecolor": "white",
           "zerolinewidth": 2
          }
         }
        },
        "title": {
         "font": {
          "color": "#4D5663"
         }
        },
        "xaxis": {
         "gridcolor": "#E1E5ED",
         "showgrid": true,
         "tickfont": {
          "color": "#4D5663"
         },
         "title": {
          "font": {
           "color": "#4D5663"
          },
          "text": ""
         },
         "zerolinecolor": "#E1E5ED"
        },
        "yaxis": {
         "gridcolor": "#E1E5ED",
         "showgrid": true,
         "tickfont": {
          "color": "#4D5663"
         },
         "title": {
          "font": {
           "color": "#4D5663"
          },
          "text": ""
         },
         "zerolinecolor": "#E1E5ED"
        }
       }
      },
      "text/html": [
       "<div>                            <div id=\"bfc99f64-e03a-4403-bf30-0fedf5bd750d\" class=\"plotly-graph-div\" style=\"height:525px; width:100%;\"></div>            <script type=\"text/javascript\">                require([\"plotly\"], function(Plotly) {                    window.PLOTLYENV=window.PLOTLYENV || {};\n",
       "                    window.PLOTLYENV.BASE_URL='https://plot.ly';                                    if (document.getElementById(\"bfc99f64-e03a-4403-bf30-0fedf5bd750d\")) {                    Plotly.newPlot(                        \"bfc99f64-e03a-4403-bf30-0fedf5bd750d\",                        [{\"line\":{\"color\":\"rgba(255, 153, 51, 1.0)\",\"dash\":\"solid\",\"shape\":\"linear\",\"width\":1.3},\"marker\":{\"size\":12,\"symbol\":\"circle\"},\"mode\":\"markers\",\"name\":\"b\",\"text\":\"\",\"x\":[0.47482107055717093,0.022744992998465663,0.34965575642374824,0.050582705841130005,0.7324727447837143,0.4736171827792899,0.4235797704094907,0.6345707915433778,0.12568659908177526,0.2896321213032911,0.17088912300328862,0.25935460493710205,0.8655022992544924,0.47701901826994364,0.3934422546095585,0.02979142461757256,0.002566716161290228,0.3166079537294344,0.7760784033006114,0.47314992909497366,0.4665843790892156,0.3767476702177014,0.9863130592820786,0.0838253235183245,0.8237859894783512,0.6346361768733595,0.0017415467035057919,0.757988609089601,0.2682699633626463,0.30396713684719234,0.9371908423632099,0.48938637624916415,0.35691409390546425,0.7000876789523454,0.15256417970666436,0.7370395195613186,0.019850588753494547,0.07350097022162883,0.19382038357495923,0.09631222215884361,0.9562041071278232,0.6184656040760903,0.35728682794125277,0.6814972974328488,0.8171253937569428,0.4210882860174837,0.5068296269165151,0.4907375371592513,0.012455274128412963,0.7687594906051284,0.08857673554970402,0.45100693743996423,0.481692322718978,0.2303177726083251,0.6640905388626966,0.35652891187045754,0.10887052885485382,0.9205523141597386,0.6288938273401641,0.9812390192670004,0.05374136899349746,0.8536596498675331,0.7179502507707786,0.7731201410541226,0.26177393280827577,0.623417562683179,0.2054116789949425,0.7410747506640553,0.4352102841144635,0.5669959529092975,0.12415239384058807,0.6364886556235708,0.03136044983076669,0.5637094574958503,0.1817863622607162,0.2648574749532917,0.8508539681587134,0.2537455176320751,0.256164267280347,0.9208997071361003,0.45902818085933306,0.2893649112646679,0.8991269366110506,0.8212203133765642,0.7167872558697288,0.9833429803479374,0.7312375952677105,0.11850064236657676,0.7915167650975117,0.5557425025361381,0.9627821019453204,0.5992826270810888,0.41629739381202535,0.6692938667109307,0.12266372210492515,0.8760249245234724,0.001619039440319603,0.959462975500171,0.6428067474538932,0.14187376374701366,0.6141521981751712,0.6981406784257553,0.30700433335644906,0.7107184381051801,0.9199571889082038,0.34411885024569155,0.5367614249513882,0.17477853430047285,0.7990196015128801,0.6641646870319609,0.1068338117140668,0.772958439263793,0.7012431605519106,0.493856285911466,0.36647569999675444,0.6925179999210423,0.08529652474022786,0.08427131906763319,0.6242410376250069,0.25974677499776344,0.7416703343765733,0.6623397101591515,0.1773471798131342,0.20394506047584737,0.9478985248240795,0.791839180691597,0.4875249277892547,0.9711189333628899,0.6698065717298204,0.29510624195698376,0.4752050026423066,0.5894251647771837,0.2162863875317904,0.5528931434964268,0.08027043850689741,0.9835899756730196,0.8424915145833262,0.30306061043579313,0.19178342651783797,0.444471250748657,0.3567994645200806,0.8054094732594915,0.8024997510718613,0.8475160058766064,0.1833944150074256,0.07929465736159447,0.5198272826585038,0.025442895307380753,0.5542962383898646,0.7509753275424956,0.755888821060355,0.2830795992709918,0.8772608968744865,0.41510467231090964,0.9665682870497206,0.4000467508349297,0.12081580246684087,0.7499111966776368,0.4681745164699931,0.43087531398425083,0.02333154789734504,0.5188824916039056,0.2274201004318882,0.9762375568850116,0.44923485020098897,0.07215689378626367,0.09316802728639162,0.9007888342397397,0.3284321392224844,0.008175502003338275,0.20550450408612675,0.13518995648754295,0.6295651352594548,0.7981245539235114,0.9774582077263095,0.44894204797277026,0.18671233835680423,0.051929925703080526,0.23926677547707265,0.4381753185856039,0.8260184638525279,0.6768318135595939,0.5216356436505741,0.5873704549927811,0.1927717004774846,0.5469981777021223,0.9139876708498363,0.6126117967996896,0.9554137347970895,0.26721213503487307,0.9420483546032532,0.020145200071438718,0.0648086435063221,0.8006776959802284,0.23733518023114641,0.528098684729944,0.0052771866034453385,0.6281707396813268,0.039238014475586946,0.2553661164126647,0.6906119602186486,0.4620622365046072,0.23378074584859798,0.26214926578090103,0.8186467197969274,0.5084277824151813,0.9214925610264566,0.7755266772452707,0.7893982957693381,0.02183896802737917,0.11324817488963013,0.2500712798910729,0.0768138032193807,0.9678346751485682,0.8810676919016801,0.11018339691939949,0.31522963438979235,0.9086635040222685,0.5910633400059739,0.859080556913498,0.1705180069750345,0.5575806294533568,0.18481845732712598,0.36845903435141636,0.7688502099865797,0.0580382325490757,0.9342246343121018,0.9770536558327949,0.1258317317998745,0.7345052661899085,0.519449919949619,0.4328019456226144,0.8183965455228954,0.7985219311091447,0.8938166347881066,0.15423492484422885,0.922285389163017,0.5931162639311209,0.47946838618588905,0.1321227015335522,0.3700624410806327,0.8064541393088313,0.7780466425201902,0.09890945535659779,0.1442613658697881,0.9580095767327714,0.6117372226273942,0.816928058598567,0.6125227906509008,0.05042856162596976,0.7469224145549039,0.18354781878224047,0.2003838186594611,0.28127212155053716,0.20092426684307474,0.4509151958412547,0.6079210069358452,0.708619994843216,0.8259892956860583,0.9245172210347146,0.6679819175088606,0.6965411748141463,0.08324983351026072,0.04348319525609701,0.8956880689053727,0.15575117990718523,0.9380916809970459,0.23963060200878616,0.5565096665214418,0.46034934555963336,0.1985561808599844,0.7542836125555591,0.3234258508840808,0.7313102286076045,0.13867738125056184,0.3653017246306275,0.3390932908429488,0.3278179796685985,0.18736510994416877,0.25542644845041385,0.25093255211296517,0.3698277538035841,0.33771016931667885,0.8441206199457392,0.45875558114776305,0.5264146271521785,0.12245175065119229,0.522316374109928,0.08334787526178444,0.5207320484383471,0.7925158967661694,0.7895400814875833,0.436494780316141,0.6828435862801495,0.3771516713362748,0.32720024027863226,0.8188096173215992,0.9481130538471394,0.9456013970315679,0.10580629804514319],\"y\":[0.5674697018954408,0.0057114332930738865,0.7526778926633678,0.15004940031100844,0.9192716655704084,0.8500013015367113,0.3182675582703668,0.20149664978879045,0.8026595060572262,0.6567443223596013,0.6075333616090873,0.14871352417516537,0.9827737311334794,0.2506557335969908,0.891208064425043,0.3040434436633208,0.4680391342895617,0.1907494344912093,0.6762932065708069,0.8898643615775239,0.9936223283548352,0.21534335662207116,0.6821197375778542,0.7399962378332154,0.806667379379845,0.8985070401509258,0.3212124735377445,0.17903721163144692,0.1348015133246412,0.22468241059325555,0.46365793866588234,0.8925623417527347,0.5701691394902099,0.7799037343826494,0.7901041044774665,0.0008262355265779009,0.1933956219857339,0.3630226206459878,0.7350741303173864,0.15128959462693103,0.3558659427108697,0.5489406678553447,0.633621177591484,0.9857206516818054,0.596308137810859,0.850767380543469,0.4831204571496013,0.34482045493488245,0.6296628800290847,0.6205586880226189,0.23961633314275144,0.2555696972411895,0.633920215420085,0.017126484868807523,0.7043281996574462,0.8603392570210264,0.3654022493528344,0.33868436917770794,0.2175293457852674,0.4456196321426854,0.40019570744793187,0.12918949554820236,0.37259936025328844,0.1390375216859422,0.1656032322348472,0.9742690152989216,0.6604345096778471,0.5612810607170051,0.9292697734166492,0.8986969678606368,0.9491860290733568,0.5042314727791876,0.14053774530468743,0.2808621366375136,0.6110061189010364,0.04341290671729081,0.6678050071354795,0.7099089558431944,0.31208747243033874,0.340374314698084,0.8909094448752806,0.11294021894393458,0.4379592035088108,0.16157123613470215,0.11075555698535988,0.5479964948663212,0.7335972136922637,0.9161569025174251,0.5668703601687899,0.7276154429380635,0.8269840107487858,0.4445070172104634,0.2818508701869987,0.2512845433018248,0.8949775621636872,0.875192729639007,0.8139676551199532,0.12313097243273496,0.2164268236867949,0.74399691849857,0.11796310141101429,0.15490717746808547,0.2902426141599993,0.3665753413673726,0.5040003981339627,0.22303400831592646,0.7286369696399495,0.2995837077472385,0.5789346793139822,0.352300808507122,0.5264892136216431,0.3727744544026924,0.6861450156788559,0.5321287688552677,0.12293358036842317,0.3529255196745832,0.41842184451840203,0.4941476045731341,0.3398949996925704,0.5078944593750052,0.16597782203167533,0.05566630527792693,0.5681434950235296,0.12170893079093703,0.5732044291378219,0.3897804101963087,0.5510280112012982,0.4619913038329113,0.7394718450229466,0.5299864668928008,0.8423200625527795,0.3824763975294271,0.7934517021579565,0.7868428369924075,0.6310946781100861,0.8861373858306665,0.877215731690747,0.46256294528814446,0.4241128069334529,0.4753363437164265,0.37581613362367816,0.08688775860315034,0.1638680140264699,0.5225014353266271,0.3724975617585148,0.3767027823704516,0.51197720105966,0.624367366971622,0.36619054722449373,0.7822380399148081,0.5832127032390656,0.9797701538747629,0.8234503985878605,0.22355681716809606,0.7289066417141288,0.05349003730968871,0.9634301398631686,0.9410529025902141,0.6236846747632229,0.8967030119841978,0.526682292133339,0.09091490946982417,0.639034668391818,0.5095143709315338,0.4856157115725698,0.4479803667915022,0.1465943042054354,0.1329343916861324,0.7261919823712204,0.1393994063892514,0.26072345597348745,0.3599851518727132,0.15623801325207232,0.5633675856248175,0.5261494245070905,0.06960137055468063,0.9387097566048845,0.038127943377681106,0.39389791605298563,0.11111651471086448,0.893236019297892,0.3085422377302883,0.08011876207809532,0.6932850847778467,0.40854015575771707,0.11235388871652408,0.7921349361568808,0.4122805914097222,0.09041854324960741,0.9201573848888718,0.37980584741542134,0.5081413787497511,0.47484774192862444,0.039815391551774604,0.5085658595205418,0.042826505823376104,0.7581651255351565,0.10762612610696187,0.6804180344666642,0.40985358277749107,0.7817514466203233,0.2689769206425392,0.24572157014160823,0.52641381759772,0.4802414749064303,0.047552795896346534,0.8678002704935425,0.7846381474462071,0.8676528169054539,0.8944959530141426,0.7087167711515295,0.4229517587991616,0.8050461518949977,0.6228465427903684,0.9310392608563977,0.9057189009114642,0.183560428145647,0.6606789673922473,0.16020663078814834,0.04056756474385137,0.32643812542123296,0.21341555746390073,0.798517410095639,0.9972751455081247,0.7603605666606782,0.168626339403547,0.6824898182370939,0.8009715374102602,0.8140952448393334,0.3278653673141996,0.3650959966829186,0.6633785759418956,0.7320699720639536,0.4724836642803131,0.16944077911607258,0.861175008885987,0.6209591997361268,0.2419321565505944,0.25804207008697166,0.4458108921695455,0.5081978526141528,0.2672888685156142,0.24008481632156742,0.006041942617098783,0.9463544792769367,0.5501050268854978,0.6139470728403116,0.5004416035627288,0.09964407198810998,0.7144726016977685,0.2933227586251691,0.4249129006493393,0.042488272279686656,0.019039304519796962,0.34726273991568946,0.10991527464236817,0.23813976453360397,0.9475572208305258,0.3249658470556672,0.17801012007121553,0.22304184862356746,0.8168427129673662,0.5436727612171519,0.8430883425787868,0.2440774879512223,0.08328778140339943,0.603305918281125,0.5357450180883058,0.4953969938383972,0.9136886017249192,0.9010471958976729,0.24754535531853372,0.08227692652297369,0.7123810988126739,0.6176905130305343,0.22588907522195734,0.24257949637117804,0.04417188237125946,0.3125876675925683,0.18971723372918392,0.2893858257933697,0.32120414980372414,0.49252311589119735,0.9939928430317593,0.7438758916343821,0.5855022541293459,0.2687434770184909,0.740257845529142,0.7074601718604491,0.8547180023208708,0.8376646291208019,0.2148636642181121,0.22992633157911535,0.15475382224205259,0.11887715903975293,0.311356975273699,0.06474188440151563,0.3705353891172112,0.5192360163257088,0.28933305063158565],\"type\":\"scatter\"}],                        {\"legend\":{\"bgcolor\":\"#F5F6F9\",\"font\":{\"color\":\"#4D5663\"}},\"paper_bgcolor\":\"#F5F6F9\",\"plot_bgcolor\":\"#F5F6F9\",\"template\":{\"data\":{\"barpolar\":[{\"marker\":{\"line\":{\"color\":\"#E5ECF6\",\"width\":0.5},\"pattern\":{\"fillmode\":\"overlay\",\"size\":10,\"solidity\":0.2}},\"type\":\"barpolar\"}],\"bar\":[{\"error_x\":{\"color\":\"#2a3f5f\"},\"error_y\":{\"color\":\"#2a3f5f\"},\"marker\":{\"line\":{\"color\":\"#E5ECF6\",\"width\":0.5},\"pattern\":{\"fillmode\":\"overlay\",\"size\":10,\"solidity\":0.2}},\"type\":\"bar\"}],\"carpet\":[{\"aaxis\":{\"endlinecolor\":\"#2a3f5f\",\"gridcolor\":\"white\",\"linecolor\":\"white\",\"minorgridcolor\":\"white\",\"startlinecolor\":\"#2a3f5f\"},\"baxis\":{\"endlinecolor\":\"#2a3f5f\",\"gridcolor\":\"white\",\"linecolor\":\"white\",\"minorgridcolor\":\"white\",\"startlinecolor\":\"#2a3f5f\"},\"type\":\"carpet\"}],\"choropleth\":[{\"colorbar\":{\"outlinewidth\":0,\"ticks\":\"\"},\"type\":\"choropleth\"}],\"contourcarpet\":[{\"colorbar\":{\"outlinewidth\":0,\"ticks\":\"\"},\"type\":\"contourcarpet\"}],\"contour\":[{\"colorbar\":{\"outlinewidth\":0,\"ticks\":\"\"},\"colorscale\":[[0.0,\"#0d0887\"],[0.1111111111111111,\"#46039f\"],[0.2222222222222222,\"#7201a8\"],[0.3333333333333333,\"#9c179e\"],[0.4444444444444444,\"#bd3786\"],[0.5555555555555556,\"#d8576b\"],[0.6666666666666666,\"#ed7953\"],[0.7777777777777778,\"#fb9f3a\"],[0.8888888888888888,\"#fdca26\"],[1.0,\"#f0f921\"]],\"type\":\"contour\"}],\"heatmapgl\":[{\"colorbar\":{\"outlinewidth\":0,\"ticks\":\"\"},\"colorscale\":[[0.0,\"#0d0887\"],[0.1111111111111111,\"#46039f\"],[0.2222222222222222,\"#7201a8\"],[0.3333333333333333,\"#9c179e\"],[0.4444444444444444,\"#bd3786\"],[0.5555555555555556,\"#d8576b\"],[0.6666666666666666,\"#ed7953\"],[0.7777777777777778,\"#fb9f3a\"],[0.8888888888888888,\"#fdca26\"],[1.0,\"#f0f921\"]],\"type\":\"heatmapgl\"}],\"heatmap\":[{\"colorbar\":{\"outlinewidth\":0,\"ticks\":\"\"},\"colorscale\":[[0.0,\"#0d0887\"],[0.1111111111111111,\"#46039f\"],[0.2222222222222222,\"#7201a8\"],[0.3333333333333333,\"#9c179e\"],[0.4444444444444444,\"#bd3786\"],[0.5555555555555556,\"#d8576b\"],[0.6666666666666666,\"#ed7953\"],[0.7777777777777778,\"#fb9f3a\"],[0.8888888888888888,\"#fdca26\"],[1.0,\"#f0f921\"]],\"type\":\"heatmap\"}],\"histogram2dcontour\":[{\"colorbar\":{\"outlinewidth\":0,\"ticks\":\"\"},\"colorscale\":[[0.0,\"#0d0887\"],[0.1111111111111111,\"#46039f\"],[0.2222222222222222,\"#7201a8\"],[0.3333333333333333,\"#9c179e\"],[0.4444444444444444,\"#bd3786\"],[0.5555555555555556,\"#d8576b\"],[0.6666666666666666,\"#ed7953\"],[0.7777777777777778,\"#fb9f3a\"],[0.8888888888888888,\"#fdca26\"],[1.0,\"#f0f921\"]],\"type\":\"histogram2dcontour\"}],\"histogram2d\":[{\"colorbar\":{\"outlinewidth\":0,\"ticks\":\"\"},\"colorscale\":[[0.0,\"#0d0887\"],[0.1111111111111111,\"#46039f\"],[0.2222222222222222,\"#7201a8\"],[0.3333333333333333,\"#9c179e\"],[0.4444444444444444,\"#bd3786\"],[0.5555555555555556,\"#d8576b\"],[0.6666666666666666,\"#ed7953\"],[0.7777777777777778,\"#fb9f3a\"],[0.8888888888888888,\"#fdca26\"],[1.0,\"#f0f921\"]],\"type\":\"histogram2d\"}],\"histogram\":[{\"marker\":{\"pattern\":{\"fillmode\":\"overlay\",\"size\":10,\"solidity\":0.2}},\"type\":\"histogram\"}],\"mesh3d\":[{\"colorbar\":{\"outlinewidth\":0,\"ticks\":\"\"},\"type\":\"mesh3d\"}],\"parcoords\":[{\"line\":{\"colorbar\":{\"outlinewidth\":0,\"ticks\":\"\"}},\"type\":\"parcoords\"}],\"pie\":[{\"automargin\":true,\"type\":\"pie\"}],\"scatter3d\":[{\"line\":{\"colorbar\":{\"outlinewidth\":0,\"ticks\":\"\"}},\"marker\":{\"colorbar\":{\"outlinewidth\":0,\"ticks\":\"\"}},\"type\":\"scatter3d\"}],\"scattercarpet\":[{\"marker\":{\"colorbar\":{\"outlinewidth\":0,\"ticks\":\"\"}},\"type\":\"scattercarpet\"}],\"scattergeo\":[{\"marker\":{\"colorbar\":{\"outlinewidth\":0,\"ticks\":\"\"}},\"type\":\"scattergeo\"}],\"scattergl\":[{\"marker\":{\"colorbar\":{\"outlinewidth\":0,\"ticks\":\"\"}},\"type\":\"scattergl\"}],\"scattermapbox\":[{\"marker\":{\"colorbar\":{\"outlinewidth\":0,\"ticks\":\"\"}},\"type\":\"scattermapbox\"}],\"scatterpolargl\":[{\"marker\":{\"colorbar\":{\"outlinewidth\":0,\"ticks\":\"\"}},\"type\":\"scatterpolargl\"}],\"scatterpolar\":[{\"marker\":{\"colorbar\":{\"outlinewidth\":0,\"ticks\":\"\"}},\"type\":\"scatterpolar\"}],\"scatter\":[{\"fillpattern\":{\"fillmode\":\"overlay\",\"size\":10,\"solidity\":0.2},\"type\":\"scatter\"}],\"scatterternary\":[{\"marker\":{\"colorbar\":{\"outlinewidth\":0,\"ticks\":\"\"}},\"type\":\"scatterternary\"}],\"surface\":[{\"colorbar\":{\"outlinewidth\":0,\"ticks\":\"\"},\"colorscale\":[[0.0,\"#0d0887\"],[0.1111111111111111,\"#46039f\"],[0.2222222222222222,\"#7201a8\"],[0.3333333333333333,\"#9c179e\"],[0.4444444444444444,\"#bd3786\"],[0.5555555555555556,\"#d8576b\"],[0.6666666666666666,\"#ed7953\"],[0.7777777777777778,\"#fb9f3a\"],[0.8888888888888888,\"#fdca26\"],[1.0,\"#f0f921\"]],\"type\":\"surface\"}],\"table\":[{\"cells\":{\"fill\":{\"color\":\"#EBF0F8\"},\"line\":{\"color\":\"white\"}},\"header\":{\"fill\":{\"color\":\"#C8D4E3\"},\"line\":{\"color\":\"white\"}},\"type\":\"table\"}]},\"layout\":{\"annotationdefaults\":{\"arrowcolor\":\"#2a3f5f\",\"arrowhead\":0,\"arrowwidth\":1},\"autotypenumbers\":\"strict\",\"coloraxis\":{\"colorbar\":{\"outlinewidth\":0,\"ticks\":\"\"}},\"colorscale\":{\"diverging\":[[0,\"#8e0152\"],[0.1,\"#c51b7d\"],[0.2,\"#de77ae\"],[0.3,\"#f1b6da\"],[0.4,\"#fde0ef\"],[0.5,\"#f7f7f7\"],[0.6,\"#e6f5d0\"],[0.7,\"#b8e186\"],[0.8,\"#7fbc41\"],[0.9,\"#4d9221\"],[1,\"#276419\"]],\"sequential\":[[0.0,\"#0d0887\"],[0.1111111111111111,\"#46039f\"],[0.2222222222222222,\"#7201a8\"],[0.3333333333333333,\"#9c179e\"],[0.4444444444444444,\"#bd3786\"],[0.5555555555555556,\"#d8576b\"],[0.6666666666666666,\"#ed7953\"],[0.7777777777777778,\"#fb9f3a\"],[0.8888888888888888,\"#fdca26\"],[1.0,\"#f0f921\"]],\"sequentialminus\":[[0.0,\"#0d0887\"],[0.1111111111111111,\"#46039f\"],[0.2222222222222222,\"#7201a8\"],[0.3333333333333333,\"#9c179e\"],[0.4444444444444444,\"#bd3786\"],[0.5555555555555556,\"#d8576b\"],[0.6666666666666666,\"#ed7953\"],[0.7777777777777778,\"#fb9f3a\"],[0.8888888888888888,\"#fdca26\"],[1.0,\"#f0f921\"]]},\"colorway\":[\"#636efa\",\"#EF553B\",\"#00cc96\",\"#ab63fa\",\"#FFA15A\",\"#19d3f3\",\"#FF6692\",\"#B6E880\",\"#FF97FF\",\"#FECB52\"],\"font\":{\"color\":\"#2a3f5f\"},\"geo\":{\"bgcolor\":\"white\",\"lakecolor\":\"white\",\"landcolor\":\"#E5ECF6\",\"showlakes\":true,\"showland\":true,\"subunitcolor\":\"white\"},\"hoverlabel\":{\"align\":\"left\"},\"hovermode\":\"closest\",\"mapbox\":{\"style\":\"light\"},\"paper_bgcolor\":\"white\",\"plot_bgcolor\":\"#E5ECF6\",\"polar\":{\"angularaxis\":{\"gridcolor\":\"white\",\"linecolor\":\"white\",\"ticks\":\"\"},\"bgcolor\":\"#E5ECF6\",\"radialaxis\":{\"gridcolor\":\"white\",\"linecolor\":\"white\",\"ticks\":\"\"}},\"scene\":{\"xaxis\":{\"backgroundcolor\":\"#E5ECF6\",\"gridcolor\":\"white\",\"gridwidth\":2,\"linecolor\":\"white\",\"showbackground\":true,\"ticks\":\"\",\"zerolinecolor\":\"white\"},\"yaxis\":{\"backgroundcolor\":\"#E5ECF6\",\"gridcolor\":\"white\",\"gridwidth\":2,\"linecolor\":\"white\",\"showbackground\":true,\"ticks\":\"\",\"zerolinecolor\":\"white\"},\"zaxis\":{\"backgroundcolor\":\"#E5ECF6\",\"gridcolor\":\"white\",\"gridwidth\":2,\"linecolor\":\"white\",\"showbackground\":true,\"ticks\":\"\",\"zerolinecolor\":\"white\"}},\"shapedefaults\":{\"line\":{\"color\":\"#2a3f5f\"}},\"ternary\":{\"aaxis\":{\"gridcolor\":\"white\",\"linecolor\":\"white\",\"ticks\":\"\"},\"baxis\":{\"gridcolor\":\"white\",\"linecolor\":\"white\",\"ticks\":\"\"},\"bgcolor\":\"#E5ECF6\",\"caxis\":{\"gridcolor\":\"white\",\"linecolor\":\"white\",\"ticks\":\"\"}},\"title\":{\"x\":0.05},\"xaxis\":{\"automargin\":true,\"gridcolor\":\"white\",\"linecolor\":\"white\",\"ticks\":\"\",\"title\":{\"standoff\":15},\"zerolinecolor\":\"white\",\"zerolinewidth\":2},\"yaxis\":{\"automargin\":true,\"gridcolor\":\"white\",\"linecolor\":\"white\",\"ticks\":\"\",\"title\":{\"standoff\":15},\"zerolinecolor\":\"white\",\"zerolinewidth\":2}}},\"title\":{\"font\":{\"color\":\"#4D5663\"}},\"xaxis\":{\"gridcolor\":\"#E1E5ED\",\"showgrid\":true,\"tickfont\":{\"color\":\"#4D5663\"},\"title\":{\"font\":{\"color\":\"#4D5663\"},\"text\":\"\"},\"zerolinecolor\":\"#E1E5ED\"},\"yaxis\":{\"gridcolor\":\"#E1E5ED\",\"showgrid\":true,\"tickfont\":{\"color\":\"#4D5663\"},\"title\":{\"font\":{\"color\":\"#4D5663\"},\"text\":\"\"},\"zerolinecolor\":\"#E1E5ED\"}},                        {\"showLink\": true, \"linkText\": \"Export to plot.ly\", \"plotlyServerURL\": \"https://plot.ly\", \"responsive\": true}                    ).then(function(){\n",
       "                            \n",
       "var gd = document.getElementById('bfc99f64-e03a-4403-bf30-0fedf5bd750d');\n",
       "var x = new MutationObserver(function (mutations, observer) {{\n",
       "        var display = window.getComputedStyle(gd).display;\n",
       "        if (!display || display === 'none') {{\n",
       "            console.log([gd, 'removed!']);\n",
       "            Plotly.purge(gd);\n",
       "            observer.disconnect();\n",
       "        }}\n",
       "}});\n",
       "\n",
       "// Listen for the removal of the full notebook cells\n",
       "var notebookContainer = gd.closest('#notebook-container');\n",
       "if (notebookContainer) {{\n",
       "    x.observe(notebookContainer, {childList: true});\n",
       "}}\n",
       "\n",
       "// Listen for the clearing of the current output cell\n",
       "var outputEl = gd.closest('.output');\n",
       "if (outputEl) {{\n",
       "    x.observe(outputEl, {childList: true});\n",
       "}}\n",
       "\n",
       "                        })                };                });            </script>        </div>"
      ]
     },
     "metadata": {},
     "output_type": "display_data"
    }
   ],
   "source": [
    "df.iplot(x = 'a' ,y = 'b',mode = 'markers')"
   ]
  },
  {
   "cell_type": "code",
   "execution_count": 39,
   "id": "3c2b547e",
   "metadata": {},
   "outputs": [
    {
     "data": {
      "application/vnd.plotly.v1+json": {
       "config": {
        "linkText": "Export to plot.ly",
        "plotlyServerURL": "https://plot.ly",
        "showLink": true
       },
       "data": [
        {
         "boxpoints": false,
         "line": {
          "width": 1.3
         },
         "marker": {
          "color": "rgba(255, 153, 51, 1.0)"
         },
         "name": "a",
         "orientation": "v",
         "type": "box",
         "y": [
          0.47482107055717093,
          0.022744992998465663,
          0.34965575642374824,
          0.050582705841130005,
          0.7324727447837143,
          0.4736171827792899,
          0.4235797704094907,
          0.6345707915433778,
          0.12568659908177526,
          0.2896321213032911,
          0.17088912300328862,
          0.25935460493710205,
          0.8655022992544924,
          0.47701901826994364,
          0.3934422546095585,
          0.02979142461757256,
          0.002566716161290228,
          0.3166079537294344,
          0.7760784033006114,
          0.47314992909497366,
          0.4665843790892156,
          0.3767476702177014,
          0.9863130592820786,
          0.0838253235183245,
          0.8237859894783512,
          0.6346361768733595,
          0.0017415467035057919,
          0.757988609089601,
          0.2682699633626463,
          0.30396713684719234,
          0.9371908423632099,
          0.48938637624916415,
          0.35691409390546425,
          0.7000876789523454,
          0.15256417970666436,
          0.7370395195613186,
          0.019850588753494547,
          0.07350097022162883,
          0.19382038357495923,
          0.09631222215884361,
          0.9562041071278232,
          0.6184656040760903,
          0.35728682794125277,
          0.6814972974328488,
          0.8171253937569428,
          0.4210882860174837,
          0.5068296269165151,
          0.4907375371592513,
          0.012455274128412963,
          0.7687594906051284,
          0.08857673554970402,
          0.45100693743996423,
          0.481692322718978,
          0.2303177726083251,
          0.6640905388626966,
          0.35652891187045754,
          0.10887052885485382,
          0.9205523141597386,
          0.6288938273401641,
          0.9812390192670004,
          0.05374136899349746,
          0.8536596498675331,
          0.7179502507707786,
          0.7731201410541226,
          0.26177393280827577,
          0.623417562683179,
          0.2054116789949425,
          0.7410747506640553,
          0.4352102841144635,
          0.5669959529092975,
          0.12415239384058807,
          0.6364886556235708,
          0.03136044983076669,
          0.5637094574958503,
          0.1817863622607162,
          0.2648574749532917,
          0.8508539681587134,
          0.2537455176320751,
          0.256164267280347,
          0.9208997071361003,
          0.45902818085933306,
          0.2893649112646679,
          0.8991269366110506,
          0.8212203133765642,
          0.7167872558697288,
          0.9833429803479374,
          0.7312375952677105,
          0.11850064236657676,
          0.7915167650975117,
          0.5557425025361381,
          0.9627821019453204,
          0.5992826270810888,
          0.41629739381202535,
          0.6692938667109307,
          0.12266372210492515,
          0.8760249245234724,
          0.001619039440319603,
          0.959462975500171,
          0.6428067474538932,
          0.14187376374701366,
          0.6141521981751712,
          0.6981406784257553,
          0.30700433335644906,
          0.7107184381051801,
          0.9199571889082038,
          0.34411885024569155,
          0.5367614249513882,
          0.17477853430047285,
          0.7990196015128801,
          0.6641646870319609,
          0.1068338117140668,
          0.772958439263793,
          0.7012431605519106,
          0.493856285911466,
          0.36647569999675444,
          0.6925179999210423,
          0.08529652474022786,
          0.08427131906763319,
          0.6242410376250069,
          0.25974677499776344,
          0.7416703343765733,
          0.6623397101591515,
          0.1773471798131342,
          0.20394506047584737,
          0.9478985248240795,
          0.791839180691597,
          0.4875249277892547,
          0.9711189333628899,
          0.6698065717298204,
          0.29510624195698376,
          0.4752050026423066,
          0.5894251647771837,
          0.2162863875317904,
          0.5528931434964268,
          0.08027043850689741,
          0.9835899756730196,
          0.8424915145833262,
          0.30306061043579313,
          0.19178342651783797,
          0.444471250748657,
          0.3567994645200806,
          0.8054094732594915,
          0.8024997510718613,
          0.8475160058766064,
          0.1833944150074256,
          0.07929465736159447,
          0.5198272826585038,
          0.025442895307380753,
          0.5542962383898646,
          0.7509753275424956,
          0.755888821060355,
          0.2830795992709918,
          0.8772608968744865,
          0.41510467231090964,
          0.9665682870497206,
          0.4000467508349297,
          0.12081580246684087,
          0.7499111966776368,
          0.4681745164699931,
          0.43087531398425083,
          0.02333154789734504,
          0.5188824916039056,
          0.2274201004318882,
          0.9762375568850116,
          0.44923485020098897,
          0.07215689378626367,
          0.09316802728639162,
          0.9007888342397397,
          0.3284321392224844,
          0.008175502003338275,
          0.20550450408612675,
          0.13518995648754295,
          0.6295651352594548,
          0.7981245539235114,
          0.9774582077263095,
          0.44894204797277026,
          0.18671233835680423,
          0.051929925703080526,
          0.23926677547707265,
          0.4381753185856039,
          0.8260184638525279,
          0.6768318135595939,
          0.5216356436505741,
          0.5873704549927811,
          0.1927717004774846,
          0.5469981777021223,
          0.9139876708498363,
          0.6126117967996896,
          0.9554137347970895,
          0.26721213503487307,
          0.9420483546032532,
          0.020145200071438718,
          0.0648086435063221,
          0.8006776959802284,
          0.23733518023114641,
          0.528098684729944,
          0.0052771866034453385,
          0.6281707396813268,
          0.039238014475586946,
          0.2553661164126647,
          0.6906119602186486,
          0.4620622365046072,
          0.23378074584859798,
          0.26214926578090103,
          0.8186467197969274,
          0.5084277824151813,
          0.9214925610264566,
          0.7755266772452707,
          0.7893982957693381,
          0.02183896802737917,
          0.11324817488963013,
          0.2500712798910729,
          0.0768138032193807,
          0.9678346751485682,
          0.8810676919016801,
          0.11018339691939949,
          0.31522963438979235,
          0.9086635040222685,
          0.5910633400059739,
          0.859080556913498,
          0.1705180069750345,
          0.5575806294533568,
          0.18481845732712598,
          0.36845903435141636,
          0.7688502099865797,
          0.0580382325490757,
          0.9342246343121018,
          0.9770536558327949,
          0.1258317317998745,
          0.7345052661899085,
          0.519449919949619,
          0.4328019456226144,
          0.8183965455228954,
          0.7985219311091447,
          0.8938166347881066,
          0.15423492484422885,
          0.922285389163017,
          0.5931162639311209,
          0.47946838618588905,
          0.1321227015335522,
          0.3700624410806327,
          0.8064541393088313,
          0.7780466425201902,
          0.09890945535659779,
          0.1442613658697881,
          0.9580095767327714,
          0.6117372226273942,
          0.816928058598567,
          0.6125227906509008,
          0.05042856162596976,
          0.7469224145549039,
          0.18354781878224047,
          0.2003838186594611,
          0.28127212155053716,
          0.20092426684307474,
          0.4509151958412547,
          0.6079210069358452,
          0.708619994843216,
          0.8259892956860583,
          0.9245172210347146,
          0.6679819175088606,
          0.6965411748141463,
          0.08324983351026072,
          0.04348319525609701,
          0.8956880689053727,
          0.15575117990718523,
          0.9380916809970459,
          0.23963060200878616,
          0.5565096665214418,
          0.46034934555963336,
          0.1985561808599844,
          0.7542836125555591,
          0.3234258508840808,
          0.7313102286076045,
          0.13867738125056184,
          0.3653017246306275,
          0.3390932908429488,
          0.3278179796685985,
          0.18736510994416877,
          0.25542644845041385,
          0.25093255211296517,
          0.3698277538035841,
          0.33771016931667885,
          0.8441206199457392,
          0.45875558114776305,
          0.5264146271521785,
          0.12245175065119229,
          0.522316374109928,
          0.08334787526178444,
          0.5207320484383471,
          0.7925158967661694,
          0.7895400814875833,
          0.436494780316141,
          0.6828435862801495,
          0.3771516713362748,
          0.32720024027863226,
          0.8188096173215992,
          0.9481130538471394,
          0.9456013970315679,
          0.10580629804514319
         ]
        },
        {
         "boxpoints": false,
         "line": {
          "width": 1.3
         },
         "marker": {
          "color": "rgba(55, 128, 191, 1.0)"
         },
         "name": "b",
         "orientation": "v",
         "type": "box",
         "y": [
          0.5674697018954408,
          0.0057114332930738865,
          0.7526778926633678,
          0.15004940031100844,
          0.9192716655704084,
          0.8500013015367113,
          0.3182675582703668,
          0.20149664978879045,
          0.8026595060572262,
          0.6567443223596013,
          0.6075333616090873,
          0.14871352417516537,
          0.9827737311334794,
          0.2506557335969908,
          0.891208064425043,
          0.3040434436633208,
          0.4680391342895617,
          0.1907494344912093,
          0.6762932065708069,
          0.8898643615775239,
          0.9936223283548352,
          0.21534335662207116,
          0.6821197375778542,
          0.7399962378332154,
          0.806667379379845,
          0.8985070401509258,
          0.3212124735377445,
          0.17903721163144692,
          0.1348015133246412,
          0.22468241059325555,
          0.46365793866588234,
          0.8925623417527347,
          0.5701691394902099,
          0.7799037343826494,
          0.7901041044774665,
          0.0008262355265779009,
          0.1933956219857339,
          0.3630226206459878,
          0.7350741303173864,
          0.15128959462693103,
          0.3558659427108697,
          0.5489406678553447,
          0.633621177591484,
          0.9857206516818054,
          0.596308137810859,
          0.850767380543469,
          0.4831204571496013,
          0.34482045493488245,
          0.6296628800290847,
          0.6205586880226189,
          0.23961633314275144,
          0.2555696972411895,
          0.633920215420085,
          0.017126484868807523,
          0.7043281996574462,
          0.8603392570210264,
          0.3654022493528344,
          0.33868436917770794,
          0.2175293457852674,
          0.4456196321426854,
          0.40019570744793187,
          0.12918949554820236,
          0.37259936025328844,
          0.1390375216859422,
          0.1656032322348472,
          0.9742690152989216,
          0.6604345096778471,
          0.5612810607170051,
          0.9292697734166492,
          0.8986969678606368,
          0.9491860290733568,
          0.5042314727791876,
          0.14053774530468743,
          0.2808621366375136,
          0.6110061189010364,
          0.04341290671729081,
          0.6678050071354795,
          0.7099089558431944,
          0.31208747243033874,
          0.340374314698084,
          0.8909094448752806,
          0.11294021894393458,
          0.4379592035088108,
          0.16157123613470215,
          0.11075555698535988,
          0.5479964948663212,
          0.7335972136922637,
          0.9161569025174251,
          0.5668703601687899,
          0.7276154429380635,
          0.8269840107487858,
          0.4445070172104634,
          0.2818508701869987,
          0.2512845433018248,
          0.8949775621636872,
          0.875192729639007,
          0.8139676551199532,
          0.12313097243273496,
          0.2164268236867949,
          0.74399691849857,
          0.11796310141101429,
          0.15490717746808547,
          0.2902426141599993,
          0.3665753413673726,
          0.5040003981339627,
          0.22303400831592646,
          0.7286369696399495,
          0.2995837077472385,
          0.5789346793139822,
          0.352300808507122,
          0.5264892136216431,
          0.3727744544026924,
          0.6861450156788559,
          0.5321287688552677,
          0.12293358036842317,
          0.3529255196745832,
          0.41842184451840203,
          0.4941476045731341,
          0.3398949996925704,
          0.5078944593750052,
          0.16597782203167533,
          0.05566630527792693,
          0.5681434950235296,
          0.12170893079093703,
          0.5732044291378219,
          0.3897804101963087,
          0.5510280112012982,
          0.4619913038329113,
          0.7394718450229466,
          0.5299864668928008,
          0.8423200625527795,
          0.3824763975294271,
          0.7934517021579565,
          0.7868428369924075,
          0.6310946781100861,
          0.8861373858306665,
          0.877215731690747,
          0.46256294528814446,
          0.4241128069334529,
          0.4753363437164265,
          0.37581613362367816,
          0.08688775860315034,
          0.1638680140264699,
          0.5225014353266271,
          0.3724975617585148,
          0.3767027823704516,
          0.51197720105966,
          0.624367366971622,
          0.36619054722449373,
          0.7822380399148081,
          0.5832127032390656,
          0.9797701538747629,
          0.8234503985878605,
          0.22355681716809606,
          0.7289066417141288,
          0.05349003730968871,
          0.9634301398631686,
          0.9410529025902141,
          0.6236846747632229,
          0.8967030119841978,
          0.526682292133339,
          0.09091490946982417,
          0.639034668391818,
          0.5095143709315338,
          0.4856157115725698,
          0.4479803667915022,
          0.1465943042054354,
          0.1329343916861324,
          0.7261919823712204,
          0.1393994063892514,
          0.26072345597348745,
          0.3599851518727132,
          0.15623801325207232,
          0.5633675856248175,
          0.5261494245070905,
          0.06960137055468063,
          0.9387097566048845,
          0.038127943377681106,
          0.39389791605298563,
          0.11111651471086448,
          0.893236019297892,
          0.3085422377302883,
          0.08011876207809532,
          0.6932850847778467,
          0.40854015575771707,
          0.11235388871652408,
          0.7921349361568808,
          0.4122805914097222,
          0.09041854324960741,
          0.9201573848888718,
          0.37980584741542134,
          0.5081413787497511,
          0.47484774192862444,
          0.039815391551774604,
          0.5085658595205418,
          0.042826505823376104,
          0.7581651255351565,
          0.10762612610696187,
          0.6804180344666642,
          0.40985358277749107,
          0.7817514466203233,
          0.2689769206425392,
          0.24572157014160823,
          0.52641381759772,
          0.4802414749064303,
          0.047552795896346534,
          0.8678002704935425,
          0.7846381474462071,
          0.8676528169054539,
          0.8944959530141426,
          0.7087167711515295,
          0.4229517587991616,
          0.8050461518949977,
          0.6228465427903684,
          0.9310392608563977,
          0.9057189009114642,
          0.183560428145647,
          0.6606789673922473,
          0.16020663078814834,
          0.04056756474385137,
          0.32643812542123296,
          0.21341555746390073,
          0.798517410095639,
          0.9972751455081247,
          0.7603605666606782,
          0.168626339403547,
          0.6824898182370939,
          0.8009715374102602,
          0.8140952448393334,
          0.3278653673141996,
          0.3650959966829186,
          0.6633785759418956,
          0.7320699720639536,
          0.4724836642803131,
          0.16944077911607258,
          0.861175008885987,
          0.6209591997361268,
          0.2419321565505944,
          0.25804207008697166,
          0.4458108921695455,
          0.5081978526141528,
          0.2672888685156142,
          0.24008481632156742,
          0.006041942617098783,
          0.9463544792769367,
          0.5501050268854978,
          0.6139470728403116,
          0.5004416035627288,
          0.09964407198810998,
          0.7144726016977685,
          0.2933227586251691,
          0.4249129006493393,
          0.042488272279686656,
          0.019039304519796962,
          0.34726273991568946,
          0.10991527464236817,
          0.23813976453360397,
          0.9475572208305258,
          0.3249658470556672,
          0.17801012007121553,
          0.22304184862356746,
          0.8168427129673662,
          0.5436727612171519,
          0.8430883425787868,
          0.2440774879512223,
          0.08328778140339943,
          0.603305918281125,
          0.5357450180883058,
          0.4953969938383972,
          0.9136886017249192,
          0.9010471958976729,
          0.24754535531853372,
          0.08227692652297369,
          0.7123810988126739,
          0.6176905130305343,
          0.22588907522195734,
          0.24257949637117804,
          0.04417188237125946,
          0.3125876675925683,
          0.18971723372918392,
          0.2893858257933697,
          0.32120414980372414,
          0.49252311589119735,
          0.9939928430317593,
          0.7438758916343821,
          0.5855022541293459,
          0.2687434770184909,
          0.740257845529142,
          0.7074601718604491,
          0.8547180023208708,
          0.8376646291208019,
          0.2148636642181121,
          0.22992633157911535,
          0.15475382224205259,
          0.11887715903975293,
          0.311356975273699,
          0.06474188440151563,
          0.3705353891172112,
          0.5192360163257088,
          0.28933305063158565
         ]
        },
        {
         "boxpoints": false,
         "line": {
          "width": 1.3
         },
         "marker": {
          "color": "rgba(50, 171, 96, 1.0)"
         },
         "name": "c",
         "orientation": "v",
         "type": "box",
         "y": [
          0.8610039534368809,
          0.12469354446849534,
          0.10898150741065793,
          0.5676411639085307,
          0.2372590614374156,
          0.7365369034877873,
          0.30304299265792545,
          0.8776588235837074,
          0.6979815602904451,
          0.6952138054835753,
          0.7881935887352837,
          0.7693077963958879,
          0.1547082312074609,
          0.6876829202231112,
          0.8414119099534403,
          0.934346872764777,
          0.2732269595538468,
          0.9561920707800599,
          0.18438853535283506,
          0.11319756107269796,
          0.7297682521898844,
          0.46917970520529295,
          0.9343452636570991,
          0.2358738507347803,
          0.005407212091053326,
          0.9915597846273728,
          0.44795166153365473,
          0.20632463307869753,
          0.3167575009826694,
          0.37185020755362685,
          0.909118403540496,
          0.7984945190296149,
          0.19031808378442538,
          0.5563833522736927,
          0.6738723529022967,
          0.748212439591208,
          0.05930345276927329,
          0.07647155381301152,
          0.24569446470166134,
          0.8727671593336832,
          0.40903495824956226,
          0.06220590732240183,
          0.32249860541214115,
          0.5388702063107571,
          0.48524557646120114,
          0.4457365309358977,
          0.3622303880443819,
          0.673116535759715,
          0.8282412170423921,
          0.6075653434398458,
          0.7560071744373507,
          0.5487739370815385,
          0.1269208519930256,
          0.49537378763038287,
          0.8561641498313668,
          0.8592784307922876,
          0.3571122304904242,
          0.6056154834128022,
          0.6352627781121296,
          0.8741820715063144,
          0.053153158457917016,
          0.4308449188087161,
          0.7863937404896342,
          0.39012008322083747,
          0.1083008561183264,
          0.9720995041515333,
          0.5481376086657871,
          0.5436176679788596,
          0.6069268109506166,
          0.4290624915228016,
          0.018691788258968445,
          0.7535855703666412,
          0.37463153441997654,
          0.18745817546577892,
          0.36406334577325017,
          0.5790885607839579,
          0.07415765440948374,
          0.28634702667192447,
          0.45152383205960867,
          0.0999648484909682,
          0.06536456359099174,
          0.9044334248491033,
          0.041537630758654354,
          0.6465351960171949,
          0.4436818719963881,
          0.31807077992892496,
          0.4439139474682843,
          0.8020539063438638,
          0.11103656139214757,
          0.08685330976869443,
          0.5203690492550339,
          0.735036423414055,
          0.7621222457154161,
          0.6725690485026959,
          0.9980526474746125,
          0.10882982350242298,
          0.9816740881549294,
          0.8412483031961915,
          0.3493042669118941,
          0.7488451587951191,
          0.7388050187357392,
          0.1301800644721598,
          0.7460232680805727,
          0.8255316678997419,
          0.9696405291714005,
          0.13683771685381552,
          0.6453337063230049,
          0.7027695414621621,
          0.7210573512419305,
          0.388523805415133,
          0.6162220045093373,
          0.5172974225974376,
          0.6804101396498916,
          0.31214884866625703,
          0.8998706610065156,
          0.19919808518546733,
          0.7253230455925868,
          0.757215638631078,
          0.2497508894638325,
          0.8419621130077345,
          0.06455953995829977,
          0.06558725654176656,
          0.068007274017576,
          0.6898422505340498,
          0.8492584592129234,
          0.2429569638149297,
          0.8099330549345118,
          0.9398606850694081,
          0.29664477692411206,
          0.00659891026536874,
          0.22194240628290884,
          0.18060619708345682,
          0.18817348885434415,
          0.23115508238786797,
          0.10084564078192115,
          0.16376855851589112,
          0.19071504314346288,
          0.45010055534888804,
          0.38888024076166006,
          0.2820332687433196,
          0.8741688572397798,
          0.4586608316124614,
          0.15609892217004806,
          0.11867398397006312,
          0.19063269165250496,
          0.9757761651289049,
          0.6564882396394075,
          0.3185053251589415,
          0.22989067628769455,
          0.9653355512912546,
          0.8822998386064076,
          0.42885849772205575,
          0.6898386761522296,
          0.11823473377701299,
          0.02974568157988211,
          0.5495527881735442,
          0.2959038282123603,
          0.8062240169986349,
          0.7263594902465774,
          0.7747285907041904,
          0.6354819265839765,
          0.06204837762603843,
          0.34789577576011654,
          0.8203779474637466,
          0.30698869107085314,
          0.7038188979149899,
          0.6130178340114883,
          0.04215344206997418,
          0.30851844811118956,
          0.015860122524486764,
          0.9521649093598932,
          0.40512741200041813,
          0.7647096294349047,
          0.5289536870564797,
          0.7948856076475965,
          0.5539535239526774,
          0.49696372730726646,
          0.23525508606202072,
          0.09783845179687078,
          0.5618632049599442,
          0.5561434969287198,
          0.3502295985843581,
          0.3530812484401843,
          0.6008863757829893,
          0.6159136133351211,
          0.9629123980618831,
          0.03274824076348404,
          0.8939594162935508,
          0.17613090952201393,
          0.5717251978252611,
          0.8028476938243237,
          0.06913619921031722,
          0.49607134440006306,
          0.28465149554554636,
          0.7628687649184308,
          0.32157945934114074,
          0.919942205272734,
          0.08712417059469235,
          0.4751050823151066,
          0.3223717515175907,
          0.16824371344715816,
          0.8927065219212921,
          0.9463614986824992,
          0.6871655899523271,
          0.21684749356276256,
          0.3819716876462982,
          0.813492724858367,
          0.7099649474605577,
          0.06296415779105191,
          0.588487863926771,
          0.6821783916043104,
          0.5606362597477899,
          0.2810753806681485,
          0.4128741116041147,
          0.05588574123927792,
          0.839834695547922,
          0.09437825861382343,
          0.8540353594408645,
          0.3276388294197392,
          0.2543992517348337,
          0.0003070093726064149,
          0.40802620268925605,
          0.12805091059478335,
          0.15125199913111553,
          0.5435484180439142,
          0.552218898423984,
          0.25185971315142075,
          0.8645273892266647,
          0.1348489802505991,
          0.4691961061239165,
          0.5594008447510018,
          0.8923510386645441,
          0.6306817114547021,
          0.2247097375559729,
          0.8091944367955959,
          0.10797203400419564,
          0.19855441005844765,
          0.1474391477014544,
          0.17284115288854585,
          0.3587522311148189,
          0.37248168699504025,
          0.9705494198577924,
          0.4507487364512338,
          0.6867239591397175,
          0.11496611216741603,
          0.562466801600347,
          0.6587457302841753,
          0.5873266553432547,
          0.259791439274189,
          0.5646925960714965,
          0.7079556079639844,
          0.31972406641664763,
          0.8011927662238711,
          0.629257709475475,
          0.47582908573932625,
          0.4379053818013747,
          0.8067909865284881,
          0.34147213338587157,
          0.229854900989652,
          0.8030705921433867,
          0.3784478338514162,
          0.8687773671911388,
          0.008983915365178397,
          0.06778916992603867,
          0.8022531015943136,
          0.752419375874719,
          0.399718945345763,
          0.7207998194454485,
          0.030308676505328758,
          0.47877587834127844,
          0.6002222252395233,
          0.8323029914809585,
          0.6126291055110312,
          0.8122835654641265,
          0.22199226617569434,
          0.15269357844634912,
          0.39416148211883173,
          0.38058135573209395,
          0.9314138820383796,
          0.7419251016818772,
          0.5207408143274366,
          0.9133541847529004,
          0.3598581172770202,
          0.3950851136159851,
          0.5174724955662197,
          0.8951587125498586,
          0.9791769578359371,
          0.03533036383532584,
          0.7783279183747276,
          0.7005711682079513,
          0.545311924207201,
          0.9043280085166198,
          0.05574982187386002,
          0.8473927730172551,
          0.7349034669575281,
          0.21129803650812262,
          0.9039090511694207,
          0.22806915503711978,
          0.37609812007738086,
          0.20822495348281567
         ]
        }
       ],
       "layout": {
        "legend": {
         "bgcolor": "#F5F6F9",
         "font": {
          "color": "#4D5663"
         }
        },
        "paper_bgcolor": "#F5F6F9",
        "plot_bgcolor": "#F5F6F9",
        "template": {
         "data": {
          "bar": [
           {
            "error_x": {
             "color": "#2a3f5f"
            },
            "error_y": {
             "color": "#2a3f5f"
            },
            "marker": {
             "line": {
              "color": "#E5ECF6",
              "width": 0.5
             },
             "pattern": {
              "fillmode": "overlay",
              "size": 10,
              "solidity": 0.2
             }
            },
            "type": "bar"
           }
          ],
          "barpolar": [
           {
            "marker": {
             "line": {
              "color": "#E5ECF6",
              "width": 0.5
             },
             "pattern": {
              "fillmode": "overlay",
              "size": 10,
              "solidity": 0.2
             }
            },
            "type": "barpolar"
           }
          ],
          "carpet": [
           {
            "aaxis": {
             "endlinecolor": "#2a3f5f",
             "gridcolor": "white",
             "linecolor": "white",
             "minorgridcolor": "white",
             "startlinecolor": "#2a3f5f"
            },
            "baxis": {
             "endlinecolor": "#2a3f5f",
             "gridcolor": "white",
             "linecolor": "white",
             "minorgridcolor": "white",
             "startlinecolor": "#2a3f5f"
            },
            "type": "carpet"
           }
          ],
          "choropleth": [
           {
            "colorbar": {
             "outlinewidth": 0,
             "ticks": ""
            },
            "type": "choropleth"
           }
          ],
          "contour": [
           {
            "colorbar": {
             "outlinewidth": 0,
             "ticks": ""
            },
            "colorscale": [
             [
              0,
              "#0d0887"
             ],
             [
              0.1111111111111111,
              "#46039f"
             ],
             [
              0.2222222222222222,
              "#7201a8"
             ],
             [
              0.3333333333333333,
              "#9c179e"
             ],
             [
              0.4444444444444444,
              "#bd3786"
             ],
             [
              0.5555555555555556,
              "#d8576b"
             ],
             [
              0.6666666666666666,
              "#ed7953"
             ],
             [
              0.7777777777777778,
              "#fb9f3a"
             ],
             [
              0.8888888888888888,
              "#fdca26"
             ],
             [
              1,
              "#f0f921"
             ]
            ],
            "type": "contour"
           }
          ],
          "contourcarpet": [
           {
            "colorbar": {
             "outlinewidth": 0,
             "ticks": ""
            },
            "type": "contourcarpet"
           }
          ],
          "heatmap": [
           {
            "colorbar": {
             "outlinewidth": 0,
             "ticks": ""
            },
            "colorscale": [
             [
              0,
              "#0d0887"
             ],
             [
              0.1111111111111111,
              "#46039f"
             ],
             [
              0.2222222222222222,
              "#7201a8"
             ],
             [
              0.3333333333333333,
              "#9c179e"
             ],
             [
              0.4444444444444444,
              "#bd3786"
             ],
             [
              0.5555555555555556,
              "#d8576b"
             ],
             [
              0.6666666666666666,
              "#ed7953"
             ],
             [
              0.7777777777777778,
              "#fb9f3a"
             ],
             [
              0.8888888888888888,
              "#fdca26"
             ],
             [
              1,
              "#f0f921"
             ]
            ],
            "type": "heatmap"
           }
          ],
          "heatmapgl": [
           {
            "colorbar": {
             "outlinewidth": 0,
             "ticks": ""
            },
            "colorscale": [
             [
              0,
              "#0d0887"
             ],
             [
              0.1111111111111111,
              "#46039f"
             ],
             [
              0.2222222222222222,
              "#7201a8"
             ],
             [
              0.3333333333333333,
              "#9c179e"
             ],
             [
              0.4444444444444444,
              "#bd3786"
             ],
             [
              0.5555555555555556,
              "#d8576b"
             ],
             [
              0.6666666666666666,
              "#ed7953"
             ],
             [
              0.7777777777777778,
              "#fb9f3a"
             ],
             [
              0.8888888888888888,
              "#fdca26"
             ],
             [
              1,
              "#f0f921"
             ]
            ],
            "type": "heatmapgl"
           }
          ],
          "histogram": [
           {
            "marker": {
             "pattern": {
              "fillmode": "overlay",
              "size": 10,
              "solidity": 0.2
             }
            },
            "type": "histogram"
           }
          ],
          "histogram2d": [
           {
            "colorbar": {
             "outlinewidth": 0,
             "ticks": ""
            },
            "colorscale": [
             [
              0,
              "#0d0887"
             ],
             [
              0.1111111111111111,
              "#46039f"
             ],
             [
              0.2222222222222222,
              "#7201a8"
             ],
             [
              0.3333333333333333,
              "#9c179e"
             ],
             [
              0.4444444444444444,
              "#bd3786"
             ],
             [
              0.5555555555555556,
              "#d8576b"
             ],
             [
              0.6666666666666666,
              "#ed7953"
             ],
             [
              0.7777777777777778,
              "#fb9f3a"
             ],
             [
              0.8888888888888888,
              "#fdca26"
             ],
             [
              1,
              "#f0f921"
             ]
            ],
            "type": "histogram2d"
           }
          ],
          "histogram2dcontour": [
           {
            "colorbar": {
             "outlinewidth": 0,
             "ticks": ""
            },
            "colorscale": [
             [
              0,
              "#0d0887"
             ],
             [
              0.1111111111111111,
              "#46039f"
             ],
             [
              0.2222222222222222,
              "#7201a8"
             ],
             [
              0.3333333333333333,
              "#9c179e"
             ],
             [
              0.4444444444444444,
              "#bd3786"
             ],
             [
              0.5555555555555556,
              "#d8576b"
             ],
             [
              0.6666666666666666,
              "#ed7953"
             ],
             [
              0.7777777777777778,
              "#fb9f3a"
             ],
             [
              0.8888888888888888,
              "#fdca26"
             ],
             [
              1,
              "#f0f921"
             ]
            ],
            "type": "histogram2dcontour"
           }
          ],
          "mesh3d": [
           {
            "colorbar": {
             "outlinewidth": 0,
             "ticks": ""
            },
            "type": "mesh3d"
           }
          ],
          "parcoords": [
           {
            "line": {
             "colorbar": {
              "outlinewidth": 0,
              "ticks": ""
             }
            },
            "type": "parcoords"
           }
          ],
          "pie": [
           {
            "automargin": true,
            "type": "pie"
           }
          ],
          "scatter": [
           {
            "fillpattern": {
             "fillmode": "overlay",
             "size": 10,
             "solidity": 0.2
            },
            "type": "scatter"
           }
          ],
          "scatter3d": [
           {
            "line": {
             "colorbar": {
              "outlinewidth": 0,
              "ticks": ""
             }
            },
            "marker": {
             "colorbar": {
              "outlinewidth": 0,
              "ticks": ""
             }
            },
            "type": "scatter3d"
           }
          ],
          "scattercarpet": [
           {
            "marker": {
             "colorbar": {
              "outlinewidth": 0,
              "ticks": ""
             }
            },
            "type": "scattercarpet"
           }
          ],
          "scattergeo": [
           {
            "marker": {
             "colorbar": {
              "outlinewidth": 0,
              "ticks": ""
             }
            },
            "type": "scattergeo"
           }
          ],
          "scattergl": [
           {
            "marker": {
             "colorbar": {
              "outlinewidth": 0,
              "ticks": ""
             }
            },
            "type": "scattergl"
           }
          ],
          "scattermapbox": [
           {
            "marker": {
             "colorbar": {
              "outlinewidth": 0,
              "ticks": ""
             }
            },
            "type": "scattermapbox"
           }
          ],
          "scatterpolar": [
           {
            "marker": {
             "colorbar": {
              "outlinewidth": 0,
              "ticks": ""
             }
            },
            "type": "scatterpolar"
           }
          ],
          "scatterpolargl": [
           {
            "marker": {
             "colorbar": {
              "outlinewidth": 0,
              "ticks": ""
             }
            },
            "type": "scatterpolargl"
           }
          ],
          "scatterternary": [
           {
            "marker": {
             "colorbar": {
              "outlinewidth": 0,
              "ticks": ""
             }
            },
            "type": "scatterternary"
           }
          ],
          "surface": [
           {
            "colorbar": {
             "outlinewidth": 0,
             "ticks": ""
            },
            "colorscale": [
             [
              0,
              "#0d0887"
             ],
             [
              0.1111111111111111,
              "#46039f"
             ],
             [
              0.2222222222222222,
              "#7201a8"
             ],
             [
              0.3333333333333333,
              "#9c179e"
             ],
             [
              0.4444444444444444,
              "#bd3786"
             ],
             [
              0.5555555555555556,
              "#d8576b"
             ],
             [
              0.6666666666666666,
              "#ed7953"
             ],
             [
              0.7777777777777778,
              "#fb9f3a"
             ],
             [
              0.8888888888888888,
              "#fdca26"
             ],
             [
              1,
              "#f0f921"
             ]
            ],
            "type": "surface"
           }
          ],
          "table": [
           {
            "cells": {
             "fill": {
              "color": "#EBF0F8"
             },
             "line": {
              "color": "white"
             }
            },
            "header": {
             "fill": {
              "color": "#C8D4E3"
             },
             "line": {
              "color": "white"
             }
            },
            "type": "table"
           }
          ]
         },
         "layout": {
          "annotationdefaults": {
           "arrowcolor": "#2a3f5f",
           "arrowhead": 0,
           "arrowwidth": 1
          },
          "autotypenumbers": "strict",
          "coloraxis": {
           "colorbar": {
            "outlinewidth": 0,
            "ticks": ""
           }
          },
          "colorscale": {
           "diverging": [
            [
             0,
             "#8e0152"
            ],
            [
             0.1,
             "#c51b7d"
            ],
            [
             0.2,
             "#de77ae"
            ],
            [
             0.3,
             "#f1b6da"
            ],
            [
             0.4,
             "#fde0ef"
            ],
            [
             0.5,
             "#f7f7f7"
            ],
            [
             0.6,
             "#e6f5d0"
            ],
            [
             0.7,
             "#b8e186"
            ],
            [
             0.8,
             "#7fbc41"
            ],
            [
             0.9,
             "#4d9221"
            ],
            [
             1,
             "#276419"
            ]
           ],
           "sequential": [
            [
             0,
             "#0d0887"
            ],
            [
             0.1111111111111111,
             "#46039f"
            ],
            [
             0.2222222222222222,
             "#7201a8"
            ],
            [
             0.3333333333333333,
             "#9c179e"
            ],
            [
             0.4444444444444444,
             "#bd3786"
            ],
            [
             0.5555555555555556,
             "#d8576b"
            ],
            [
             0.6666666666666666,
             "#ed7953"
            ],
            [
             0.7777777777777778,
             "#fb9f3a"
            ],
            [
             0.8888888888888888,
             "#fdca26"
            ],
            [
             1,
             "#f0f921"
            ]
           ],
           "sequentialminus": [
            [
             0,
             "#0d0887"
            ],
            [
             0.1111111111111111,
             "#46039f"
            ],
            [
             0.2222222222222222,
             "#7201a8"
            ],
            [
             0.3333333333333333,
             "#9c179e"
            ],
            [
             0.4444444444444444,
             "#bd3786"
            ],
            [
             0.5555555555555556,
             "#d8576b"
            ],
            [
             0.6666666666666666,
             "#ed7953"
            ],
            [
             0.7777777777777778,
             "#fb9f3a"
            ],
            [
             0.8888888888888888,
             "#fdca26"
            ],
            [
             1,
             "#f0f921"
            ]
           ]
          },
          "colorway": [
           "#636efa",
           "#EF553B",
           "#00cc96",
           "#ab63fa",
           "#FFA15A",
           "#19d3f3",
           "#FF6692",
           "#B6E880",
           "#FF97FF",
           "#FECB52"
          ],
          "font": {
           "color": "#2a3f5f"
          },
          "geo": {
           "bgcolor": "white",
           "lakecolor": "white",
           "landcolor": "#E5ECF6",
           "showlakes": true,
           "showland": true,
           "subunitcolor": "white"
          },
          "hoverlabel": {
           "align": "left"
          },
          "hovermode": "closest",
          "mapbox": {
           "style": "light"
          },
          "paper_bgcolor": "white",
          "plot_bgcolor": "#E5ECF6",
          "polar": {
           "angularaxis": {
            "gridcolor": "white",
            "linecolor": "white",
            "ticks": ""
           },
           "bgcolor": "#E5ECF6",
           "radialaxis": {
            "gridcolor": "white",
            "linecolor": "white",
            "ticks": ""
           }
          },
          "scene": {
           "xaxis": {
            "backgroundcolor": "#E5ECF6",
            "gridcolor": "white",
            "gridwidth": 2,
            "linecolor": "white",
            "showbackground": true,
            "ticks": "",
            "zerolinecolor": "white"
           },
           "yaxis": {
            "backgroundcolor": "#E5ECF6",
            "gridcolor": "white",
            "gridwidth": 2,
            "linecolor": "white",
            "showbackground": true,
            "ticks": "",
            "zerolinecolor": "white"
           },
           "zaxis": {
            "backgroundcolor": "#E5ECF6",
            "gridcolor": "white",
            "gridwidth": 2,
            "linecolor": "white",
            "showbackground": true,
            "ticks": "",
            "zerolinecolor": "white"
           }
          },
          "shapedefaults": {
           "line": {
            "color": "#2a3f5f"
           }
          },
          "ternary": {
           "aaxis": {
            "gridcolor": "white",
            "linecolor": "white",
            "ticks": ""
           },
           "baxis": {
            "gridcolor": "white",
            "linecolor": "white",
            "ticks": ""
           },
           "bgcolor": "#E5ECF6",
           "caxis": {
            "gridcolor": "white",
            "linecolor": "white",
            "ticks": ""
           }
          },
          "title": {
           "x": 0.05
          },
          "xaxis": {
           "automargin": true,
           "gridcolor": "white",
           "linecolor": "white",
           "ticks": "",
           "title": {
            "standoff": 15
           },
           "zerolinecolor": "white",
           "zerolinewidth": 2
          },
          "yaxis": {
           "automargin": true,
           "gridcolor": "white",
           "linecolor": "white",
           "ticks": "",
           "title": {
            "standoff": 15
           },
           "zerolinecolor": "white",
           "zerolinewidth": 2
          }
         }
        },
        "title": {
         "font": {
          "color": "#4D5663"
         }
        },
        "xaxis": {
         "gridcolor": "#E1E5ED",
         "showgrid": true,
         "tickfont": {
          "color": "#4D5663"
         },
         "title": {
          "font": {
           "color": "#4D5663"
          },
          "text": ""
         },
         "zerolinecolor": "#E1E5ED"
        },
        "yaxis": {
         "gridcolor": "#E1E5ED",
         "showgrid": true,
         "tickfont": {
          "color": "#4D5663"
         },
         "title": {
          "font": {
           "color": "#4D5663"
          },
          "text": ""
         },
         "zerolinecolor": "#E1E5ED"
        }
       }
      },
      "text/html": [
       "<div>                            <div id=\"4d657d23-2b1c-4833-a5f4-a62818fd8617\" class=\"plotly-graph-div\" style=\"height:525px; width:100%;\"></div>            <script type=\"text/javascript\">                require([\"plotly\"], function(Plotly) {                    window.PLOTLYENV=window.PLOTLYENV || {};\n",
       "                    window.PLOTLYENV.BASE_URL='https://plot.ly';                                    if (document.getElementById(\"4d657d23-2b1c-4833-a5f4-a62818fd8617\")) {                    Plotly.newPlot(                        \"4d657d23-2b1c-4833-a5f4-a62818fd8617\",                        [{\"boxpoints\":false,\"line\":{\"width\":1.3},\"marker\":{\"color\":\"rgba(255, 153, 51, 1.0)\"},\"name\":\"a\",\"orientation\":\"v\",\"y\":[0.47482107055717093,0.022744992998465663,0.34965575642374824,0.050582705841130005,0.7324727447837143,0.4736171827792899,0.4235797704094907,0.6345707915433778,0.12568659908177526,0.2896321213032911,0.17088912300328862,0.25935460493710205,0.8655022992544924,0.47701901826994364,0.3934422546095585,0.02979142461757256,0.002566716161290228,0.3166079537294344,0.7760784033006114,0.47314992909497366,0.4665843790892156,0.3767476702177014,0.9863130592820786,0.0838253235183245,0.8237859894783512,0.6346361768733595,0.0017415467035057919,0.757988609089601,0.2682699633626463,0.30396713684719234,0.9371908423632099,0.48938637624916415,0.35691409390546425,0.7000876789523454,0.15256417970666436,0.7370395195613186,0.019850588753494547,0.07350097022162883,0.19382038357495923,0.09631222215884361,0.9562041071278232,0.6184656040760903,0.35728682794125277,0.6814972974328488,0.8171253937569428,0.4210882860174837,0.5068296269165151,0.4907375371592513,0.012455274128412963,0.7687594906051284,0.08857673554970402,0.45100693743996423,0.481692322718978,0.2303177726083251,0.6640905388626966,0.35652891187045754,0.10887052885485382,0.9205523141597386,0.6288938273401641,0.9812390192670004,0.05374136899349746,0.8536596498675331,0.7179502507707786,0.7731201410541226,0.26177393280827577,0.623417562683179,0.2054116789949425,0.7410747506640553,0.4352102841144635,0.5669959529092975,0.12415239384058807,0.6364886556235708,0.03136044983076669,0.5637094574958503,0.1817863622607162,0.2648574749532917,0.8508539681587134,0.2537455176320751,0.256164267280347,0.9208997071361003,0.45902818085933306,0.2893649112646679,0.8991269366110506,0.8212203133765642,0.7167872558697288,0.9833429803479374,0.7312375952677105,0.11850064236657676,0.7915167650975117,0.5557425025361381,0.9627821019453204,0.5992826270810888,0.41629739381202535,0.6692938667109307,0.12266372210492515,0.8760249245234724,0.001619039440319603,0.959462975500171,0.6428067474538932,0.14187376374701366,0.6141521981751712,0.6981406784257553,0.30700433335644906,0.7107184381051801,0.9199571889082038,0.34411885024569155,0.5367614249513882,0.17477853430047285,0.7990196015128801,0.6641646870319609,0.1068338117140668,0.772958439263793,0.7012431605519106,0.493856285911466,0.36647569999675444,0.6925179999210423,0.08529652474022786,0.08427131906763319,0.6242410376250069,0.25974677499776344,0.7416703343765733,0.6623397101591515,0.1773471798131342,0.20394506047584737,0.9478985248240795,0.791839180691597,0.4875249277892547,0.9711189333628899,0.6698065717298204,0.29510624195698376,0.4752050026423066,0.5894251647771837,0.2162863875317904,0.5528931434964268,0.08027043850689741,0.9835899756730196,0.8424915145833262,0.30306061043579313,0.19178342651783797,0.444471250748657,0.3567994645200806,0.8054094732594915,0.8024997510718613,0.8475160058766064,0.1833944150074256,0.07929465736159447,0.5198272826585038,0.025442895307380753,0.5542962383898646,0.7509753275424956,0.755888821060355,0.2830795992709918,0.8772608968744865,0.41510467231090964,0.9665682870497206,0.4000467508349297,0.12081580246684087,0.7499111966776368,0.4681745164699931,0.43087531398425083,0.02333154789734504,0.5188824916039056,0.2274201004318882,0.9762375568850116,0.44923485020098897,0.07215689378626367,0.09316802728639162,0.9007888342397397,0.3284321392224844,0.008175502003338275,0.20550450408612675,0.13518995648754295,0.6295651352594548,0.7981245539235114,0.9774582077263095,0.44894204797277026,0.18671233835680423,0.051929925703080526,0.23926677547707265,0.4381753185856039,0.8260184638525279,0.6768318135595939,0.5216356436505741,0.5873704549927811,0.1927717004774846,0.5469981777021223,0.9139876708498363,0.6126117967996896,0.9554137347970895,0.26721213503487307,0.9420483546032532,0.020145200071438718,0.0648086435063221,0.8006776959802284,0.23733518023114641,0.528098684729944,0.0052771866034453385,0.6281707396813268,0.039238014475586946,0.2553661164126647,0.6906119602186486,0.4620622365046072,0.23378074584859798,0.26214926578090103,0.8186467197969274,0.5084277824151813,0.9214925610264566,0.7755266772452707,0.7893982957693381,0.02183896802737917,0.11324817488963013,0.2500712798910729,0.0768138032193807,0.9678346751485682,0.8810676919016801,0.11018339691939949,0.31522963438979235,0.9086635040222685,0.5910633400059739,0.859080556913498,0.1705180069750345,0.5575806294533568,0.18481845732712598,0.36845903435141636,0.7688502099865797,0.0580382325490757,0.9342246343121018,0.9770536558327949,0.1258317317998745,0.7345052661899085,0.519449919949619,0.4328019456226144,0.8183965455228954,0.7985219311091447,0.8938166347881066,0.15423492484422885,0.922285389163017,0.5931162639311209,0.47946838618588905,0.1321227015335522,0.3700624410806327,0.8064541393088313,0.7780466425201902,0.09890945535659779,0.1442613658697881,0.9580095767327714,0.6117372226273942,0.816928058598567,0.6125227906509008,0.05042856162596976,0.7469224145549039,0.18354781878224047,0.2003838186594611,0.28127212155053716,0.20092426684307474,0.4509151958412547,0.6079210069358452,0.708619994843216,0.8259892956860583,0.9245172210347146,0.6679819175088606,0.6965411748141463,0.08324983351026072,0.04348319525609701,0.8956880689053727,0.15575117990718523,0.9380916809970459,0.23963060200878616,0.5565096665214418,0.46034934555963336,0.1985561808599844,0.7542836125555591,0.3234258508840808,0.7313102286076045,0.13867738125056184,0.3653017246306275,0.3390932908429488,0.3278179796685985,0.18736510994416877,0.25542644845041385,0.25093255211296517,0.3698277538035841,0.33771016931667885,0.8441206199457392,0.45875558114776305,0.5264146271521785,0.12245175065119229,0.522316374109928,0.08334787526178444,0.5207320484383471,0.7925158967661694,0.7895400814875833,0.436494780316141,0.6828435862801495,0.3771516713362748,0.32720024027863226,0.8188096173215992,0.9481130538471394,0.9456013970315679,0.10580629804514319],\"type\":\"box\"},{\"boxpoints\":false,\"line\":{\"width\":1.3},\"marker\":{\"color\":\"rgba(55, 128, 191, 1.0)\"},\"name\":\"b\",\"orientation\":\"v\",\"y\":[0.5674697018954408,0.0057114332930738865,0.7526778926633678,0.15004940031100844,0.9192716655704084,0.8500013015367113,0.3182675582703668,0.20149664978879045,0.8026595060572262,0.6567443223596013,0.6075333616090873,0.14871352417516537,0.9827737311334794,0.2506557335969908,0.891208064425043,0.3040434436633208,0.4680391342895617,0.1907494344912093,0.6762932065708069,0.8898643615775239,0.9936223283548352,0.21534335662207116,0.6821197375778542,0.7399962378332154,0.806667379379845,0.8985070401509258,0.3212124735377445,0.17903721163144692,0.1348015133246412,0.22468241059325555,0.46365793866588234,0.8925623417527347,0.5701691394902099,0.7799037343826494,0.7901041044774665,0.0008262355265779009,0.1933956219857339,0.3630226206459878,0.7350741303173864,0.15128959462693103,0.3558659427108697,0.5489406678553447,0.633621177591484,0.9857206516818054,0.596308137810859,0.850767380543469,0.4831204571496013,0.34482045493488245,0.6296628800290847,0.6205586880226189,0.23961633314275144,0.2555696972411895,0.633920215420085,0.017126484868807523,0.7043281996574462,0.8603392570210264,0.3654022493528344,0.33868436917770794,0.2175293457852674,0.4456196321426854,0.40019570744793187,0.12918949554820236,0.37259936025328844,0.1390375216859422,0.1656032322348472,0.9742690152989216,0.6604345096778471,0.5612810607170051,0.9292697734166492,0.8986969678606368,0.9491860290733568,0.5042314727791876,0.14053774530468743,0.2808621366375136,0.6110061189010364,0.04341290671729081,0.6678050071354795,0.7099089558431944,0.31208747243033874,0.340374314698084,0.8909094448752806,0.11294021894393458,0.4379592035088108,0.16157123613470215,0.11075555698535988,0.5479964948663212,0.7335972136922637,0.9161569025174251,0.5668703601687899,0.7276154429380635,0.8269840107487858,0.4445070172104634,0.2818508701869987,0.2512845433018248,0.8949775621636872,0.875192729639007,0.8139676551199532,0.12313097243273496,0.2164268236867949,0.74399691849857,0.11796310141101429,0.15490717746808547,0.2902426141599993,0.3665753413673726,0.5040003981339627,0.22303400831592646,0.7286369696399495,0.2995837077472385,0.5789346793139822,0.352300808507122,0.5264892136216431,0.3727744544026924,0.6861450156788559,0.5321287688552677,0.12293358036842317,0.3529255196745832,0.41842184451840203,0.4941476045731341,0.3398949996925704,0.5078944593750052,0.16597782203167533,0.05566630527792693,0.5681434950235296,0.12170893079093703,0.5732044291378219,0.3897804101963087,0.5510280112012982,0.4619913038329113,0.7394718450229466,0.5299864668928008,0.8423200625527795,0.3824763975294271,0.7934517021579565,0.7868428369924075,0.6310946781100861,0.8861373858306665,0.877215731690747,0.46256294528814446,0.4241128069334529,0.4753363437164265,0.37581613362367816,0.08688775860315034,0.1638680140264699,0.5225014353266271,0.3724975617585148,0.3767027823704516,0.51197720105966,0.624367366971622,0.36619054722449373,0.7822380399148081,0.5832127032390656,0.9797701538747629,0.8234503985878605,0.22355681716809606,0.7289066417141288,0.05349003730968871,0.9634301398631686,0.9410529025902141,0.6236846747632229,0.8967030119841978,0.526682292133339,0.09091490946982417,0.639034668391818,0.5095143709315338,0.4856157115725698,0.4479803667915022,0.1465943042054354,0.1329343916861324,0.7261919823712204,0.1393994063892514,0.26072345597348745,0.3599851518727132,0.15623801325207232,0.5633675856248175,0.5261494245070905,0.06960137055468063,0.9387097566048845,0.038127943377681106,0.39389791605298563,0.11111651471086448,0.893236019297892,0.3085422377302883,0.08011876207809532,0.6932850847778467,0.40854015575771707,0.11235388871652408,0.7921349361568808,0.4122805914097222,0.09041854324960741,0.9201573848888718,0.37980584741542134,0.5081413787497511,0.47484774192862444,0.039815391551774604,0.5085658595205418,0.042826505823376104,0.7581651255351565,0.10762612610696187,0.6804180344666642,0.40985358277749107,0.7817514466203233,0.2689769206425392,0.24572157014160823,0.52641381759772,0.4802414749064303,0.047552795896346534,0.8678002704935425,0.7846381474462071,0.8676528169054539,0.8944959530141426,0.7087167711515295,0.4229517587991616,0.8050461518949977,0.6228465427903684,0.9310392608563977,0.9057189009114642,0.183560428145647,0.6606789673922473,0.16020663078814834,0.04056756474385137,0.32643812542123296,0.21341555746390073,0.798517410095639,0.9972751455081247,0.7603605666606782,0.168626339403547,0.6824898182370939,0.8009715374102602,0.8140952448393334,0.3278653673141996,0.3650959966829186,0.6633785759418956,0.7320699720639536,0.4724836642803131,0.16944077911607258,0.861175008885987,0.6209591997361268,0.2419321565505944,0.25804207008697166,0.4458108921695455,0.5081978526141528,0.2672888685156142,0.24008481632156742,0.006041942617098783,0.9463544792769367,0.5501050268854978,0.6139470728403116,0.5004416035627288,0.09964407198810998,0.7144726016977685,0.2933227586251691,0.4249129006493393,0.042488272279686656,0.019039304519796962,0.34726273991568946,0.10991527464236817,0.23813976453360397,0.9475572208305258,0.3249658470556672,0.17801012007121553,0.22304184862356746,0.8168427129673662,0.5436727612171519,0.8430883425787868,0.2440774879512223,0.08328778140339943,0.603305918281125,0.5357450180883058,0.4953969938383972,0.9136886017249192,0.9010471958976729,0.24754535531853372,0.08227692652297369,0.7123810988126739,0.6176905130305343,0.22588907522195734,0.24257949637117804,0.04417188237125946,0.3125876675925683,0.18971723372918392,0.2893858257933697,0.32120414980372414,0.49252311589119735,0.9939928430317593,0.7438758916343821,0.5855022541293459,0.2687434770184909,0.740257845529142,0.7074601718604491,0.8547180023208708,0.8376646291208019,0.2148636642181121,0.22992633157911535,0.15475382224205259,0.11887715903975293,0.311356975273699,0.06474188440151563,0.3705353891172112,0.5192360163257088,0.28933305063158565],\"type\":\"box\"},{\"boxpoints\":false,\"line\":{\"width\":1.3},\"marker\":{\"color\":\"rgba(50, 171, 96, 1.0)\"},\"name\":\"c\",\"orientation\":\"v\",\"y\":[0.8610039534368809,0.12469354446849534,0.10898150741065793,0.5676411639085307,0.2372590614374156,0.7365369034877873,0.30304299265792545,0.8776588235837074,0.6979815602904451,0.6952138054835753,0.7881935887352837,0.7693077963958879,0.1547082312074609,0.6876829202231112,0.8414119099534403,0.934346872764777,0.2732269595538468,0.9561920707800599,0.18438853535283506,0.11319756107269796,0.7297682521898844,0.46917970520529295,0.9343452636570991,0.2358738507347803,0.005407212091053326,0.9915597846273728,0.44795166153365473,0.20632463307869753,0.3167575009826694,0.37185020755362685,0.909118403540496,0.7984945190296149,0.19031808378442538,0.5563833522736927,0.6738723529022967,0.748212439591208,0.05930345276927329,0.07647155381301152,0.24569446470166134,0.8727671593336832,0.40903495824956226,0.06220590732240183,0.32249860541214115,0.5388702063107571,0.48524557646120114,0.4457365309358977,0.3622303880443819,0.673116535759715,0.8282412170423921,0.6075653434398458,0.7560071744373507,0.5487739370815385,0.1269208519930256,0.49537378763038287,0.8561641498313668,0.8592784307922876,0.3571122304904242,0.6056154834128022,0.6352627781121296,0.8741820715063144,0.053153158457917016,0.4308449188087161,0.7863937404896342,0.39012008322083747,0.1083008561183264,0.9720995041515333,0.5481376086657871,0.5436176679788596,0.6069268109506166,0.4290624915228016,0.018691788258968445,0.7535855703666412,0.37463153441997654,0.18745817546577892,0.36406334577325017,0.5790885607839579,0.07415765440948374,0.28634702667192447,0.45152383205960867,0.0999648484909682,0.06536456359099174,0.9044334248491033,0.041537630758654354,0.6465351960171949,0.4436818719963881,0.31807077992892496,0.4439139474682843,0.8020539063438638,0.11103656139214757,0.08685330976869443,0.5203690492550339,0.735036423414055,0.7621222457154161,0.6725690485026959,0.9980526474746125,0.10882982350242298,0.9816740881549294,0.8412483031961915,0.3493042669118941,0.7488451587951191,0.7388050187357392,0.1301800644721598,0.7460232680805727,0.8255316678997419,0.9696405291714005,0.13683771685381552,0.6453337063230049,0.7027695414621621,0.7210573512419305,0.388523805415133,0.6162220045093373,0.5172974225974376,0.6804101396498916,0.31214884866625703,0.8998706610065156,0.19919808518546733,0.7253230455925868,0.757215638631078,0.2497508894638325,0.8419621130077345,0.06455953995829977,0.06558725654176656,0.068007274017576,0.6898422505340498,0.8492584592129234,0.2429569638149297,0.8099330549345118,0.9398606850694081,0.29664477692411206,0.00659891026536874,0.22194240628290884,0.18060619708345682,0.18817348885434415,0.23115508238786797,0.10084564078192115,0.16376855851589112,0.19071504314346288,0.45010055534888804,0.38888024076166006,0.2820332687433196,0.8741688572397798,0.4586608316124614,0.15609892217004806,0.11867398397006312,0.19063269165250496,0.9757761651289049,0.6564882396394075,0.3185053251589415,0.22989067628769455,0.9653355512912546,0.8822998386064076,0.42885849772205575,0.6898386761522296,0.11823473377701299,0.02974568157988211,0.5495527881735442,0.2959038282123603,0.8062240169986349,0.7263594902465774,0.7747285907041904,0.6354819265839765,0.06204837762603843,0.34789577576011654,0.8203779474637466,0.30698869107085314,0.7038188979149899,0.6130178340114883,0.04215344206997418,0.30851844811118956,0.015860122524486764,0.9521649093598932,0.40512741200041813,0.7647096294349047,0.5289536870564797,0.7948856076475965,0.5539535239526774,0.49696372730726646,0.23525508606202072,0.09783845179687078,0.5618632049599442,0.5561434969287198,0.3502295985843581,0.3530812484401843,0.6008863757829893,0.6159136133351211,0.9629123980618831,0.03274824076348404,0.8939594162935508,0.17613090952201393,0.5717251978252611,0.8028476938243237,0.06913619921031722,0.49607134440006306,0.28465149554554636,0.7628687649184308,0.32157945934114074,0.919942205272734,0.08712417059469235,0.4751050823151066,0.3223717515175907,0.16824371344715816,0.8927065219212921,0.9463614986824992,0.6871655899523271,0.21684749356276256,0.3819716876462982,0.813492724858367,0.7099649474605577,0.06296415779105191,0.588487863926771,0.6821783916043104,0.5606362597477899,0.2810753806681485,0.4128741116041147,0.05588574123927792,0.839834695547922,0.09437825861382343,0.8540353594408645,0.3276388294197392,0.2543992517348337,0.0003070093726064149,0.40802620268925605,0.12805091059478335,0.15125199913111553,0.5435484180439142,0.552218898423984,0.25185971315142075,0.8645273892266647,0.1348489802505991,0.4691961061239165,0.5594008447510018,0.8923510386645441,0.6306817114547021,0.2247097375559729,0.8091944367955959,0.10797203400419564,0.19855441005844765,0.1474391477014544,0.17284115288854585,0.3587522311148189,0.37248168699504025,0.9705494198577924,0.4507487364512338,0.6867239591397175,0.11496611216741603,0.562466801600347,0.6587457302841753,0.5873266553432547,0.259791439274189,0.5646925960714965,0.7079556079639844,0.31972406641664763,0.8011927662238711,0.629257709475475,0.47582908573932625,0.4379053818013747,0.8067909865284881,0.34147213338587157,0.229854900989652,0.8030705921433867,0.3784478338514162,0.8687773671911388,0.008983915365178397,0.06778916992603867,0.8022531015943136,0.752419375874719,0.399718945345763,0.7207998194454485,0.030308676505328758,0.47877587834127844,0.6002222252395233,0.8323029914809585,0.6126291055110312,0.8122835654641265,0.22199226617569434,0.15269357844634912,0.39416148211883173,0.38058135573209395,0.9314138820383796,0.7419251016818772,0.5207408143274366,0.9133541847529004,0.3598581172770202,0.3950851136159851,0.5174724955662197,0.8951587125498586,0.9791769578359371,0.03533036383532584,0.7783279183747276,0.7005711682079513,0.545311924207201,0.9043280085166198,0.05574982187386002,0.8473927730172551,0.7349034669575281,0.21129803650812262,0.9039090511694207,0.22806915503711978,0.37609812007738086,0.20822495348281567],\"type\":\"box\"}],                        {\"legend\":{\"bgcolor\":\"#F5F6F9\",\"font\":{\"color\":\"#4D5663\"}},\"paper_bgcolor\":\"#F5F6F9\",\"plot_bgcolor\":\"#F5F6F9\",\"template\":{\"data\":{\"barpolar\":[{\"marker\":{\"line\":{\"color\":\"#E5ECF6\",\"width\":0.5},\"pattern\":{\"fillmode\":\"overlay\",\"size\":10,\"solidity\":0.2}},\"type\":\"barpolar\"}],\"bar\":[{\"error_x\":{\"color\":\"#2a3f5f\"},\"error_y\":{\"color\":\"#2a3f5f\"},\"marker\":{\"line\":{\"color\":\"#E5ECF6\",\"width\":0.5},\"pattern\":{\"fillmode\":\"overlay\",\"size\":10,\"solidity\":0.2}},\"type\":\"bar\"}],\"carpet\":[{\"aaxis\":{\"endlinecolor\":\"#2a3f5f\",\"gridcolor\":\"white\",\"linecolor\":\"white\",\"minorgridcolor\":\"white\",\"startlinecolor\":\"#2a3f5f\"},\"baxis\":{\"endlinecolor\":\"#2a3f5f\",\"gridcolor\":\"white\",\"linecolor\":\"white\",\"minorgridcolor\":\"white\",\"startlinecolor\":\"#2a3f5f\"},\"type\":\"carpet\"}],\"choropleth\":[{\"colorbar\":{\"outlinewidth\":0,\"ticks\":\"\"},\"type\":\"choropleth\"}],\"contourcarpet\":[{\"colorbar\":{\"outlinewidth\":0,\"ticks\":\"\"},\"type\":\"contourcarpet\"}],\"contour\":[{\"colorbar\":{\"outlinewidth\":0,\"ticks\":\"\"},\"colorscale\":[[0.0,\"#0d0887\"],[0.1111111111111111,\"#46039f\"],[0.2222222222222222,\"#7201a8\"],[0.3333333333333333,\"#9c179e\"],[0.4444444444444444,\"#bd3786\"],[0.5555555555555556,\"#d8576b\"],[0.6666666666666666,\"#ed7953\"],[0.7777777777777778,\"#fb9f3a\"],[0.8888888888888888,\"#fdca26\"],[1.0,\"#f0f921\"]],\"type\":\"contour\"}],\"heatmapgl\":[{\"colorbar\":{\"outlinewidth\":0,\"ticks\":\"\"},\"colorscale\":[[0.0,\"#0d0887\"],[0.1111111111111111,\"#46039f\"],[0.2222222222222222,\"#7201a8\"],[0.3333333333333333,\"#9c179e\"],[0.4444444444444444,\"#bd3786\"],[0.5555555555555556,\"#d8576b\"],[0.6666666666666666,\"#ed7953\"],[0.7777777777777778,\"#fb9f3a\"],[0.8888888888888888,\"#fdca26\"],[1.0,\"#f0f921\"]],\"type\":\"heatmapgl\"}],\"heatmap\":[{\"colorbar\":{\"outlinewidth\":0,\"ticks\":\"\"},\"colorscale\":[[0.0,\"#0d0887\"],[0.1111111111111111,\"#46039f\"],[0.2222222222222222,\"#7201a8\"],[0.3333333333333333,\"#9c179e\"],[0.4444444444444444,\"#bd3786\"],[0.5555555555555556,\"#d8576b\"],[0.6666666666666666,\"#ed7953\"],[0.7777777777777778,\"#fb9f3a\"],[0.8888888888888888,\"#fdca26\"],[1.0,\"#f0f921\"]],\"type\":\"heatmap\"}],\"histogram2dcontour\":[{\"colorbar\":{\"outlinewidth\":0,\"ticks\":\"\"},\"colorscale\":[[0.0,\"#0d0887\"],[0.1111111111111111,\"#46039f\"],[0.2222222222222222,\"#7201a8\"],[0.3333333333333333,\"#9c179e\"],[0.4444444444444444,\"#bd3786\"],[0.5555555555555556,\"#d8576b\"],[0.6666666666666666,\"#ed7953\"],[0.7777777777777778,\"#fb9f3a\"],[0.8888888888888888,\"#fdca26\"],[1.0,\"#f0f921\"]],\"type\":\"histogram2dcontour\"}],\"histogram2d\":[{\"colorbar\":{\"outlinewidth\":0,\"ticks\":\"\"},\"colorscale\":[[0.0,\"#0d0887\"],[0.1111111111111111,\"#46039f\"],[0.2222222222222222,\"#7201a8\"],[0.3333333333333333,\"#9c179e\"],[0.4444444444444444,\"#bd3786\"],[0.5555555555555556,\"#d8576b\"],[0.6666666666666666,\"#ed7953\"],[0.7777777777777778,\"#fb9f3a\"],[0.8888888888888888,\"#fdca26\"],[1.0,\"#f0f921\"]],\"type\":\"histogram2d\"}],\"histogram\":[{\"marker\":{\"pattern\":{\"fillmode\":\"overlay\",\"size\":10,\"solidity\":0.2}},\"type\":\"histogram\"}],\"mesh3d\":[{\"colorbar\":{\"outlinewidth\":0,\"ticks\":\"\"},\"type\":\"mesh3d\"}],\"parcoords\":[{\"line\":{\"colorbar\":{\"outlinewidth\":0,\"ticks\":\"\"}},\"type\":\"parcoords\"}],\"pie\":[{\"automargin\":true,\"type\":\"pie\"}],\"scatter3d\":[{\"line\":{\"colorbar\":{\"outlinewidth\":0,\"ticks\":\"\"}},\"marker\":{\"colorbar\":{\"outlinewidth\":0,\"ticks\":\"\"}},\"type\":\"scatter3d\"}],\"scattercarpet\":[{\"marker\":{\"colorbar\":{\"outlinewidth\":0,\"ticks\":\"\"}},\"type\":\"scattercarpet\"}],\"scattergeo\":[{\"marker\":{\"colorbar\":{\"outlinewidth\":0,\"ticks\":\"\"}},\"type\":\"scattergeo\"}],\"scattergl\":[{\"marker\":{\"colorbar\":{\"outlinewidth\":0,\"ticks\":\"\"}},\"type\":\"scattergl\"}],\"scattermapbox\":[{\"marker\":{\"colorbar\":{\"outlinewidth\":0,\"ticks\":\"\"}},\"type\":\"scattermapbox\"}],\"scatterpolargl\":[{\"marker\":{\"colorbar\":{\"outlinewidth\":0,\"ticks\":\"\"}},\"type\":\"scatterpolargl\"}],\"scatterpolar\":[{\"marker\":{\"colorbar\":{\"outlinewidth\":0,\"ticks\":\"\"}},\"type\":\"scatterpolar\"}],\"scatter\":[{\"fillpattern\":{\"fillmode\":\"overlay\",\"size\":10,\"solidity\":0.2},\"type\":\"scatter\"}],\"scatterternary\":[{\"marker\":{\"colorbar\":{\"outlinewidth\":0,\"ticks\":\"\"}},\"type\":\"scatterternary\"}],\"surface\":[{\"colorbar\":{\"outlinewidth\":0,\"ticks\":\"\"},\"colorscale\":[[0.0,\"#0d0887\"],[0.1111111111111111,\"#46039f\"],[0.2222222222222222,\"#7201a8\"],[0.3333333333333333,\"#9c179e\"],[0.4444444444444444,\"#bd3786\"],[0.5555555555555556,\"#d8576b\"],[0.6666666666666666,\"#ed7953\"],[0.7777777777777778,\"#fb9f3a\"],[0.8888888888888888,\"#fdca26\"],[1.0,\"#f0f921\"]],\"type\":\"surface\"}],\"table\":[{\"cells\":{\"fill\":{\"color\":\"#EBF0F8\"},\"line\":{\"color\":\"white\"}},\"header\":{\"fill\":{\"color\":\"#C8D4E3\"},\"line\":{\"color\":\"white\"}},\"type\":\"table\"}]},\"layout\":{\"annotationdefaults\":{\"arrowcolor\":\"#2a3f5f\",\"arrowhead\":0,\"arrowwidth\":1},\"autotypenumbers\":\"strict\",\"coloraxis\":{\"colorbar\":{\"outlinewidth\":0,\"ticks\":\"\"}},\"colorscale\":{\"diverging\":[[0,\"#8e0152\"],[0.1,\"#c51b7d\"],[0.2,\"#de77ae\"],[0.3,\"#f1b6da\"],[0.4,\"#fde0ef\"],[0.5,\"#f7f7f7\"],[0.6,\"#e6f5d0\"],[0.7,\"#b8e186\"],[0.8,\"#7fbc41\"],[0.9,\"#4d9221\"],[1,\"#276419\"]],\"sequential\":[[0.0,\"#0d0887\"],[0.1111111111111111,\"#46039f\"],[0.2222222222222222,\"#7201a8\"],[0.3333333333333333,\"#9c179e\"],[0.4444444444444444,\"#bd3786\"],[0.5555555555555556,\"#d8576b\"],[0.6666666666666666,\"#ed7953\"],[0.7777777777777778,\"#fb9f3a\"],[0.8888888888888888,\"#fdca26\"],[1.0,\"#f0f921\"]],\"sequentialminus\":[[0.0,\"#0d0887\"],[0.1111111111111111,\"#46039f\"],[0.2222222222222222,\"#7201a8\"],[0.3333333333333333,\"#9c179e\"],[0.4444444444444444,\"#bd3786\"],[0.5555555555555556,\"#d8576b\"],[0.6666666666666666,\"#ed7953\"],[0.7777777777777778,\"#fb9f3a\"],[0.8888888888888888,\"#fdca26\"],[1.0,\"#f0f921\"]]},\"colorway\":[\"#636efa\",\"#EF553B\",\"#00cc96\",\"#ab63fa\",\"#FFA15A\",\"#19d3f3\",\"#FF6692\",\"#B6E880\",\"#FF97FF\",\"#FECB52\"],\"font\":{\"color\":\"#2a3f5f\"},\"geo\":{\"bgcolor\":\"white\",\"lakecolor\":\"white\",\"landcolor\":\"#E5ECF6\",\"showlakes\":true,\"showland\":true,\"subunitcolor\":\"white\"},\"hoverlabel\":{\"align\":\"left\"},\"hovermode\":\"closest\",\"mapbox\":{\"style\":\"light\"},\"paper_bgcolor\":\"white\",\"plot_bgcolor\":\"#E5ECF6\",\"polar\":{\"angularaxis\":{\"gridcolor\":\"white\",\"linecolor\":\"white\",\"ticks\":\"\"},\"bgcolor\":\"#E5ECF6\",\"radialaxis\":{\"gridcolor\":\"white\",\"linecolor\":\"white\",\"ticks\":\"\"}},\"scene\":{\"xaxis\":{\"backgroundcolor\":\"#E5ECF6\",\"gridcolor\":\"white\",\"gridwidth\":2,\"linecolor\":\"white\",\"showbackground\":true,\"ticks\":\"\",\"zerolinecolor\":\"white\"},\"yaxis\":{\"backgroundcolor\":\"#E5ECF6\",\"gridcolor\":\"white\",\"gridwidth\":2,\"linecolor\":\"white\",\"showbackground\":true,\"ticks\":\"\",\"zerolinecolor\":\"white\"},\"zaxis\":{\"backgroundcolor\":\"#E5ECF6\",\"gridcolor\":\"white\",\"gridwidth\":2,\"linecolor\":\"white\",\"showbackground\":true,\"ticks\":\"\",\"zerolinecolor\":\"white\"}},\"shapedefaults\":{\"line\":{\"color\":\"#2a3f5f\"}},\"ternary\":{\"aaxis\":{\"gridcolor\":\"white\",\"linecolor\":\"white\",\"ticks\":\"\"},\"baxis\":{\"gridcolor\":\"white\",\"linecolor\":\"white\",\"ticks\":\"\"},\"bgcolor\":\"#E5ECF6\",\"caxis\":{\"gridcolor\":\"white\",\"linecolor\":\"white\",\"ticks\":\"\"}},\"title\":{\"x\":0.05},\"xaxis\":{\"automargin\":true,\"gridcolor\":\"white\",\"linecolor\":\"white\",\"ticks\":\"\",\"title\":{\"standoff\":15},\"zerolinecolor\":\"white\",\"zerolinewidth\":2},\"yaxis\":{\"automargin\":true,\"gridcolor\":\"white\",\"linecolor\":\"white\",\"ticks\":\"\",\"title\":{\"standoff\":15},\"zerolinecolor\":\"white\",\"zerolinewidth\":2}}},\"title\":{\"font\":{\"color\":\"#4D5663\"}},\"xaxis\":{\"gridcolor\":\"#E1E5ED\",\"showgrid\":true,\"tickfont\":{\"color\":\"#4D5663\"},\"title\":{\"font\":{\"color\":\"#4D5663\"},\"text\":\"\"},\"zerolinecolor\":\"#E1E5ED\"},\"yaxis\":{\"gridcolor\":\"#E1E5ED\",\"showgrid\":true,\"tickfont\":{\"color\":\"#4D5663\"},\"title\":{\"font\":{\"color\":\"#4D5663\"},\"text\":\"\"},\"zerolinecolor\":\"#E1E5ED\"}},                        {\"showLink\": true, \"linkText\": \"Export to plot.ly\", \"plotlyServerURL\": \"https://plot.ly\", \"responsive\": true}                    ).then(function(){\n",
       "                            \n",
       "var gd = document.getElementById('4d657d23-2b1c-4833-a5f4-a62818fd8617');\n",
       "var x = new MutationObserver(function (mutations, observer) {{\n",
       "        var display = window.getComputedStyle(gd).display;\n",
       "        if (!display || display === 'none') {{\n",
       "            console.log([gd, 'removed!']);\n",
       "            Plotly.purge(gd);\n",
       "            observer.disconnect();\n",
       "        }}\n",
       "}});\n",
       "\n",
       "// Listen for the removal of the full notebook cells\n",
       "var notebookContainer = gd.closest('#notebook-container');\n",
       "if (notebookContainer) {{\n",
       "    x.observe(notebookContainer, {childList: true});\n",
       "}}\n",
       "\n",
       "// Listen for the clearing of the current output cell\n",
       "var outputEl = gd.closest('.output');\n",
       "if (outputEl) {{\n",
       "    x.observe(outputEl, {childList: true});\n",
       "}}\n",
       "\n",
       "                        })                };                });            </script>        </div>"
      ]
     },
     "metadata": {},
     "output_type": "display_data"
    }
   ],
   "source": [
    "df.iplot(kind = 'box')"
   ]
  },
  {
   "cell_type": "code",
   "execution_count": 40,
   "id": "3a13cd11",
   "metadata": {},
   "outputs": [
    {
     "data": {
      "application/vnd.plotly.v1+json": {
       "config": {
        "linkText": "Export to plot.ly",
        "plotlyServerURL": "https://plot.ly",
        "showLink": true
       },
       "data": [
        {
         "marker": {
          "color": [
           "rgba(255, 153, 51, 1.0)",
           "rgba(55, 128, 191, 1.0)",
           "rgba(50, 171, 96, 1.0)",
           "rgba(128, 0, 128, 1.0)",
           "rgba(219, 64, 82, 1.0)",
           "rgba(0, 128, 128, 1.0)",
           "rgba(255, 255, 51, 1.0)",
           "rgba(128, 128, 0, 1.0)",
           "rgba(251, 128, 114, 1.0)",
           "rgba(128, 177, 211, 1.0)",
           "rgba(128, 177, 211, 0.9733333333333334)",
           "rgba(255, 153, 51, 0.9733333333333334)",
           "rgba(55, 128, 191, 0.9733333333333334)",
           "rgba(50, 171, 96, 0.9733333333333334)",
           "rgba(128, 0, 128, 0.9733333333333334)",
           "rgba(219, 64, 82, 0.9733333333333334)",
           "rgba(0, 128, 128, 0.9733333333333334)",
           "rgba(255, 255, 51, 0.9733333333333334)",
           "rgba(128, 128, 0, 0.9733333333333334)",
           "rgba(251, 128, 114, 0.9733333333333334)",
           "rgba(251, 128, 114, 0.9466666666666665)",
           "rgba(128, 177, 211, 0.9466666666666665)",
           "rgba(255, 153, 51, 0.9466666666666665)",
           "rgba(55, 128, 191, 0.9466666666666665)",
           "rgba(50, 171, 96, 0.9466666666666665)",
           "rgba(128, 0, 128, 0.9466666666666665)",
           "rgba(219, 64, 82, 0.9466666666666665)",
           "rgba(0, 128, 128, 0.9466666666666665)",
           "rgba(255, 255, 51, 0.9466666666666665)",
           "rgba(128, 128, 0, 0.9466666666666665)",
           "rgba(128, 128, 0, 0.9199999999999999)",
           "rgba(251, 128, 114, 0.9199999999999999)",
           "rgba(128, 177, 211, 0.9199999999999999)",
           "rgba(255, 153, 51, 0.9199999999999999)",
           "rgba(55, 128, 191, 0.9199999999999999)",
           "rgba(50, 171, 96, 0.9199999999999999)",
           "rgba(128, 0, 128, 0.9199999999999999)",
           "rgba(219, 64, 82, 0.9199999999999999)",
           "rgba(0, 128, 128, 0.9199999999999999)",
           "rgba(255, 255, 51, 0.9199999999999999)",
           "rgba(255, 255, 51, 0.8933333333333333)",
           "rgba(128, 128, 0, 0.8933333333333333)",
           "rgba(251, 128, 114, 0.8933333333333333)",
           "rgba(128, 177, 211, 0.8933333333333333)",
           "rgba(255, 153, 51, 0.8933333333333333)",
           "rgba(55, 128, 191, 0.8933333333333333)",
           "rgba(50, 171, 96, 0.8933333333333333)",
           "rgba(128, 0, 128, 0.8933333333333333)",
           "rgba(219, 64, 82, 0.8933333333333333)",
           "rgba(0, 128, 128, 0.8933333333333333)",
           "rgba(0, 128, 128, 0.8666666666666667)",
           "rgba(255, 255, 51, 0.8666666666666667)",
           "rgba(128, 128, 0, 0.8666666666666667)",
           "rgba(251, 128, 114, 0.8666666666666667)",
           "rgba(128, 177, 211, 0.8666666666666667)",
           "rgba(255, 153, 51, 0.8666666666666667)",
           "rgba(55, 128, 191, 0.8666666666666667)",
           "rgba(50, 171, 96, 0.8666666666666667)",
           "rgba(128, 0, 128, 0.8666666666666667)",
           "rgba(219, 64, 82, 0.8666666666666667)",
           "rgba(219, 64, 82, 0.8399999999999999)",
           "rgba(0, 128, 128, 0.8399999999999999)",
           "rgba(255, 255, 51, 0.8399999999999999)",
           "rgba(128, 128, 0, 0.8399999999999999)",
           "rgba(251, 128, 114, 0.8399999999999999)",
           "rgba(128, 177, 211, 0.8399999999999999)",
           "rgba(255, 153, 51, 0.8399999999999999)",
           "rgba(55, 128, 191, 0.8399999999999999)",
           "rgba(50, 171, 96, 0.8399999999999999)",
           "rgba(128, 0, 128, 0.8399999999999999)",
           "rgba(128, 0, 128, 0.8133333333333332)",
           "rgba(219, 64, 82, 0.8133333333333332)",
           "rgba(0, 128, 128, 0.8133333333333332)",
           "rgba(255, 255, 51, 0.8133333333333332)",
           "rgba(128, 128, 0, 0.8133333333333332)",
           "rgba(251, 128, 114, 0.8133333333333332)",
           "rgba(128, 177, 211, 0.8133333333333332)",
           "rgba(255, 153, 51, 0.8133333333333332)",
           "rgba(55, 128, 191, 0.8133333333333332)",
           "rgba(50, 171, 96, 0.8133333333333332)",
           "rgba(50, 171, 96, 0.7866666666666666)",
           "rgba(128, 0, 128, 0.7866666666666666)",
           "rgba(219, 64, 82, 0.7866666666666666)",
           "rgba(0, 128, 128, 0.7866666666666666)",
           "rgba(255, 255, 51, 0.7866666666666666)",
           "rgba(128, 128, 0, 0.7866666666666666)",
           "rgba(251, 128, 114, 0.7866666666666666)",
           "rgba(128, 177, 211, 0.7866666666666666)",
           "rgba(255, 153, 51, 0.7866666666666666)",
           "rgba(55, 128, 191, 0.7866666666666666)",
           "rgba(55, 128, 191, 0.76)",
           "rgba(50, 171, 96, 0.76)",
           "rgba(128, 0, 128, 0.76)",
           "rgba(219, 64, 82, 0.76)",
           "rgba(0, 128, 128, 0.76)",
           "rgba(255, 255, 51, 0.76)",
           "rgba(128, 128, 0, 0.76)",
           "rgba(251, 128, 114, 0.76)",
           "rgba(128, 177, 211, 0.76)",
           "rgba(255, 153, 51, 0.76)",
           "rgba(255, 153, 51, 0.7333333333333332)",
           "rgba(55, 128, 191, 0.7333333333333332)",
           "rgba(50, 171, 96, 0.7333333333333332)",
           "rgba(128, 0, 128, 0.7333333333333332)",
           "rgba(219, 64, 82, 0.7333333333333332)",
           "rgba(0, 128, 128, 0.7333333333333332)",
           "rgba(255, 255, 51, 0.7333333333333332)",
           "rgba(128, 128, 0, 0.7333333333333332)",
           "rgba(251, 128, 114, 0.7333333333333332)",
           "rgba(128, 177, 211, 0.7333333333333332)",
           "rgba(128, 177, 211, 0.7066666666666666)",
           "rgba(255, 153, 51, 0.7066666666666666)",
           "rgba(55, 128, 191, 0.7066666666666666)",
           "rgba(50, 171, 96, 0.7066666666666666)",
           "rgba(128, 0, 128, 0.7066666666666666)",
           "rgba(219, 64, 82, 0.7066666666666666)",
           "rgba(0, 128, 128, 0.7066666666666666)",
           "rgba(255, 255, 51, 0.7066666666666666)",
           "rgba(128, 128, 0, 0.7066666666666666)",
           "rgba(251, 128, 114, 0.7066666666666666)",
           "rgba(251, 128, 114, 0.6799999999999999)",
           "rgba(128, 177, 211, 0.6799999999999999)",
           "rgba(255, 153, 51, 0.6799999999999999)",
           "rgba(55, 128, 191, 0.6799999999999999)",
           "rgba(50, 171, 96, 0.6799999999999999)",
           "rgba(128, 0, 128, 0.6799999999999999)",
           "rgba(219, 64, 82, 0.6799999999999999)",
           "rgba(0, 128, 128, 0.6799999999999999)",
           "rgba(255, 255, 51, 0.6799999999999999)",
           "rgba(128, 128, 0, 0.6799999999999999)",
           "rgba(128, 128, 0, 0.6533333333333333)",
           "rgba(251, 128, 114, 0.6533333333333333)",
           "rgba(128, 177, 211, 0.6533333333333333)",
           "rgba(255, 153, 51, 0.6533333333333333)",
           "rgba(55, 128, 191, 0.6533333333333333)",
           "rgba(50, 171, 96, 0.6533333333333333)",
           "rgba(128, 0, 128, 0.6533333333333333)",
           "rgba(219, 64, 82, 0.6533333333333333)",
           "rgba(0, 128, 128, 0.6533333333333333)",
           "rgba(255, 255, 51, 0.6533333333333333)",
           "rgba(255, 255, 51, 0.6266666666666665)",
           "rgba(128, 128, 0, 0.6266666666666665)",
           "rgba(251, 128, 114, 0.6266666666666665)",
           "rgba(128, 177, 211, 0.6266666666666665)",
           "rgba(255, 153, 51, 0.6266666666666665)",
           "rgba(55, 128, 191, 0.6266666666666665)",
           "rgba(50, 171, 96, 0.6266666666666665)",
           "rgba(128, 0, 128, 0.6266666666666665)",
           "rgba(219, 64, 82, 0.6266666666666665)",
           "rgba(0, 128, 128, 0.6266666666666665)",
           "rgba(0, 128, 128, 0.5999999999999999)",
           "rgba(255, 255, 51, 0.5999999999999999)",
           "rgba(128, 128, 0, 0.5999999999999999)",
           "rgba(251, 128, 114, 0.5999999999999999)",
           "rgba(128, 177, 211, 0.5999999999999999)",
           "rgba(255, 153, 51, 0.5999999999999999)",
           "rgba(55, 128, 191, 0.5999999999999999)",
           "rgba(50, 171, 96, 0.5999999999999999)",
           "rgba(128, 0, 128, 0.5999999999999999)",
           "rgba(219, 64, 82, 0.5999999999999999)",
           "rgba(219, 64, 82, 0.5733333333333333)",
           "rgba(0, 128, 128, 0.5733333333333333)",
           "rgba(255, 255, 51, 0.5733333333333333)",
           "rgba(128, 128, 0, 0.5733333333333333)",
           "rgba(251, 128, 114, 0.5733333333333333)",
           "rgba(128, 177, 211, 0.5733333333333333)",
           "rgba(255, 153, 51, 0.5733333333333333)",
           "rgba(55, 128, 191, 0.5733333333333333)",
           "rgba(50, 171, 96, 0.5733333333333333)",
           "rgba(128, 0, 128, 0.5733333333333333)",
           "rgba(128, 0, 128, 0.5466666666666666)",
           "rgba(219, 64, 82, 0.5466666666666666)",
           "rgba(0, 128, 128, 0.5466666666666666)",
           "rgba(255, 255, 51, 0.5466666666666666)",
           "rgba(128, 128, 0, 0.5466666666666666)",
           "rgba(251, 128, 114, 0.5466666666666666)",
           "rgba(128, 177, 211, 0.5466666666666666)",
           "rgba(255, 153, 51, 0.5466666666666666)",
           "rgba(55, 128, 191, 0.5466666666666666)",
           "rgba(50, 171, 96, 0.5466666666666666)",
           "rgba(50, 171, 96, 0.5199999999999998)",
           "rgba(128, 0, 128, 0.5199999999999998)",
           "rgba(219, 64, 82, 0.5199999999999998)",
           "rgba(0, 128, 128, 0.5199999999999998)",
           "rgba(255, 255, 51, 0.5199999999999998)",
           "rgba(128, 128, 0, 0.5199999999999998)",
           "rgba(251, 128, 114, 0.5199999999999998)",
           "rgba(128, 177, 211, 0.5199999999999998)",
           "rgba(255, 153, 51, 0.5199999999999998)",
           "rgba(55, 128, 191, 0.5199999999999998)",
           "rgba(55, 128, 191, 0.49333333333333323)",
           "rgba(50, 171, 96, 0.49333333333333323)",
           "rgba(128, 0, 128, 0.49333333333333323)",
           "rgba(219, 64, 82, 0.49333333333333323)",
           "rgba(0, 128, 128, 0.49333333333333323)",
           "rgba(255, 255, 51, 0.49333333333333323)",
           "rgba(128, 128, 0, 0.49333333333333323)",
           "rgba(251, 128, 114, 0.49333333333333323)",
           "rgba(128, 177, 211, 0.49333333333333323)",
           "rgba(255, 153, 51, 0.49333333333333323)",
           "rgba(255, 153, 51, 0.4666666666666666)",
           "rgba(55, 128, 191, 0.4666666666666666)",
           "rgba(50, 171, 96, 0.4666666666666666)",
           "rgba(128, 0, 128, 0.4666666666666666)",
           "rgba(219, 64, 82, 0.4666666666666666)",
           "rgba(0, 128, 128, 0.4666666666666666)",
           "rgba(255, 255, 51, 0.4666666666666666)",
           "rgba(128, 128, 0, 0.4666666666666666)",
           "rgba(251, 128, 114, 0.4666666666666666)",
           "rgba(128, 177, 211, 0.4666666666666666)",
           "rgba(128, 177, 211, 0.44)",
           "rgba(255, 153, 51, 0.44)",
           "rgba(55, 128, 191, 0.44)",
           "rgba(50, 171, 96, 0.44)",
           "rgba(128, 0, 128, 0.44)",
           "rgba(219, 64, 82, 0.44)",
           "rgba(0, 128, 128, 0.44)",
           "rgba(255, 255, 51, 0.44)",
           "rgba(128, 128, 0, 0.44)",
           "rgba(251, 128, 114, 0.44)",
           "rgba(251, 128, 114, 0.41333333333333316)",
           "rgba(128, 177, 211, 0.41333333333333316)",
           "rgba(255, 153, 51, 0.41333333333333316)",
           "rgba(55, 128, 191, 0.41333333333333316)",
           "rgba(50, 171, 96, 0.41333333333333316)",
           "rgba(128, 0, 128, 0.41333333333333316)",
           "rgba(219, 64, 82, 0.41333333333333316)",
           "rgba(0, 128, 128, 0.41333333333333316)",
           "rgba(255, 255, 51, 0.41333333333333316)",
           "rgba(128, 128, 0, 0.41333333333333316)",
           "rgba(128, 128, 0, 0.38666666666666655)",
           "rgba(251, 128, 114, 0.38666666666666655)",
           "rgba(128, 177, 211, 0.38666666666666655)",
           "rgba(255, 153, 51, 0.38666666666666655)",
           "rgba(55, 128, 191, 0.38666666666666655)",
           "rgba(50, 171, 96, 0.38666666666666655)",
           "rgba(128, 0, 128, 0.38666666666666655)",
           "rgba(219, 64, 82, 0.38666666666666655)",
           "rgba(0, 128, 128, 0.38666666666666655)",
           "rgba(255, 255, 51, 0.38666666666666655)",
           "rgba(255, 255, 51, 0.35999999999999993)",
           "rgba(128, 128, 0, 0.35999999999999993)",
           "rgba(251, 128, 114, 0.35999999999999993)",
           "rgba(128, 177, 211, 0.35999999999999993)",
           "rgba(255, 153, 51, 0.35999999999999993)",
           "rgba(55, 128, 191, 0.35999999999999993)",
           "rgba(50, 171, 96, 0.35999999999999993)",
           "rgba(128, 0, 128, 0.35999999999999993)",
           "rgba(219, 64, 82, 0.35999999999999993)",
           "rgba(0, 128, 128, 0.35999999999999993)",
           "rgba(0, 128, 128, 0.3333333333333333)",
           "rgba(255, 255, 51, 0.3333333333333333)",
           "rgba(128, 128, 0, 0.3333333333333333)",
           "rgba(251, 128, 114, 0.3333333333333333)",
           "rgba(128, 177, 211, 0.3333333333333333)",
           "rgba(255, 153, 51, 0.3333333333333333)",
           "rgba(55, 128, 191, 0.3333333333333333)",
           "rgba(50, 171, 96, 0.3333333333333333)",
           "rgba(128, 0, 128, 0.3333333333333333)",
           "rgba(219, 64, 82, 0.3333333333333333)",
           "rgba(219, 64, 82, 0.3066666666666665)",
           "rgba(0, 128, 128, 0.3066666666666665)",
           "rgba(255, 255, 51, 0.3066666666666665)",
           "rgba(128, 128, 0, 0.3066666666666665)",
           "rgba(251, 128, 114, 0.3066666666666665)",
           "rgba(128, 177, 211, 0.3066666666666665)",
           "rgba(255, 153, 51, 0.3066666666666665)",
           "rgba(55, 128, 191, 0.3066666666666665)",
           "rgba(50, 171, 96, 0.3066666666666665)",
           "rgba(128, 0, 128, 0.3066666666666665)",
           "rgba(128, 0, 128, 0.27999999999999986)",
           "rgba(219, 64, 82, 0.27999999999999986)",
           "rgba(0, 128, 128, 0.27999999999999986)",
           "rgba(255, 255, 51, 0.27999999999999986)",
           "rgba(128, 128, 0, 0.27999999999999986)",
           "rgba(251, 128, 114, 0.27999999999999986)",
           "rgba(128, 177, 211, 0.27999999999999986)",
           "rgba(255, 153, 51, 0.27999999999999986)",
           "rgba(55, 128, 191, 0.27999999999999986)",
           "rgba(50, 171, 96, 0.27999999999999986)",
           "rgba(50, 171, 96, 0.25333333333333324)",
           "rgba(128, 0, 128, 0.25333333333333324)",
           "rgba(219, 64, 82, 0.25333333333333324)",
           "rgba(0, 128, 128, 0.25333333333333324)",
           "rgba(255, 255, 51, 0.25333333333333324)",
           "rgba(128, 128, 0, 0.25333333333333324)",
           "rgba(251, 128, 114, 0.25333333333333324)",
           "rgba(128, 177, 211, 0.25333333333333324)",
           "rgba(255, 153, 51, 0.25333333333333324)",
           "rgba(55, 128, 191, 0.25333333333333324)",
           "rgba(55, 128, 191, 0.22666666666666663)",
           "rgba(50, 171, 96, 0.22666666666666663)",
           "rgba(128, 0, 128, 0.22666666666666663)",
           "rgba(219, 64, 82, 0.22666666666666663)",
           "rgba(0, 128, 128, 0.22666666666666663)",
           "rgba(255, 255, 51, 0.22666666666666663)",
           "rgba(128, 128, 0, 0.22666666666666663)",
           "rgba(251, 128, 114, 0.22666666666666663)",
           "rgba(128, 177, 211, 0.22666666666666663)",
           "rgba(255, 153, 51, 0.22666666666666663)"
          ],
          "opacity": 0.8,
          "size": [
           12,
           12,
           12,
           12,
           12,
           12,
           12,
           12,
           12,
           12,
           12,
           12,
           12,
           12,
           12,
           12,
           12,
           12,
           12,
           12,
           12,
           12,
           12,
           12,
           12,
           12,
           12,
           12,
           12,
           12,
           12,
           12,
           12,
           12,
           12,
           12,
           12,
           12,
           12,
           12,
           12,
           12,
           12,
           12,
           12,
           12,
           12,
           12,
           12,
           12,
           12,
           12,
           12,
           12,
           12,
           12,
           12,
           12,
           12,
           12,
           12,
           12,
           12,
           12,
           12,
           12,
           12,
           12,
           12,
           12,
           12,
           12,
           12,
           12,
           12,
           12,
           12,
           12,
           12,
           12,
           12,
           12,
           12,
           12,
           12,
           12,
           12,
           12,
           12,
           12,
           12,
           12,
           12,
           12,
           12,
           12,
           12,
           12,
           12,
           12,
           12,
           12,
           12,
           12,
           12,
           12,
           12,
           12,
           12,
           12,
           12,
           12,
           12,
           12,
           12,
           12,
           12,
           12,
           12,
           12,
           12,
           12,
           12,
           12,
           12,
           12,
           12,
           12,
           12,
           12,
           12,
           12,
           12,
           12,
           12,
           12,
           12,
           12,
           12,
           12,
           12,
           12,
           12,
           12,
           12,
           12,
           12,
           12,
           12,
           12,
           12,
           12,
           12,
           12,
           12,
           12,
           12,
           12,
           12,
           12,
           12,
           12,
           12,
           12,
           12,
           12,
           12,
           12,
           12,
           12,
           12,
           12,
           12,
           12,
           12,
           12,
           12,
           12,
           12,
           12,
           12,
           12,
           12,
           12,
           12,
           12,
           12,
           12,
           12,
           12,
           12,
           12,
           12,
           12,
           12,
           12,
           12,
           12,
           12,
           12,
           12,
           12,
           12,
           12,
           12,
           12,
           12,
           12,
           12,
           12,
           12,
           12,
           12,
           12,
           12,
           12,
           12,
           12,
           12,
           12,
           12,
           12,
           12,
           12,
           12,
           12,
           12,
           12,
           12,
           12,
           12,
           12,
           12,
           12,
           12,
           12,
           12,
           12,
           12,
           12,
           12,
           12,
           12,
           12,
           12,
           12,
           12,
           12,
           12,
           12,
           12,
           12,
           12,
           12,
           12,
           12,
           12,
           12,
           12,
           12,
           12,
           12,
           12,
           12,
           12,
           12,
           12,
           12,
           12,
           12,
           12,
           12,
           12,
           12,
           12,
           12,
           12,
           12,
           12,
           12,
           12,
           12,
           12,
           12,
           12,
           12,
           12,
           12,
           12,
           12,
           12,
           12,
           12,
           12,
           12,
           12,
           12,
           12,
           12,
           12
          ],
          "symbol": "circle"
         },
         "mode": "markers",
         "text": [
          "0",
          "1",
          "2",
          "3",
          "4",
          "5",
          "6",
          "7",
          "8",
          "9",
          "10",
          "11",
          "12",
          "13",
          "14",
          "15",
          "16",
          "17",
          "18",
          "19",
          "20",
          "21",
          "22",
          "23",
          "24",
          "25",
          "26",
          "27",
          "28",
          "29",
          "30",
          "31",
          "32",
          "33",
          "34",
          "35",
          "36",
          "37",
          "38",
          "39",
          "40",
          "41",
          "42",
          "43",
          "44",
          "45",
          "46",
          "47",
          "48",
          "49",
          "50",
          "51",
          "52",
          "53",
          "54",
          "55",
          "56",
          "57",
          "58",
          "59",
          "60",
          "61",
          "62",
          "63",
          "64",
          "65",
          "66",
          "67",
          "68",
          "69",
          "70",
          "71",
          "72",
          "73",
          "74",
          "75",
          "76",
          "77",
          "78",
          "79",
          "80",
          "81",
          "82",
          "83",
          "84",
          "85",
          "86",
          "87",
          "88",
          "89",
          "90",
          "91",
          "92",
          "93",
          "94",
          "95",
          "96",
          "97",
          "98",
          "99",
          "100",
          "101",
          "102",
          "103",
          "104",
          "105",
          "106",
          "107",
          "108",
          "109",
          "110",
          "111",
          "112",
          "113",
          "114",
          "115",
          "116",
          "117",
          "118",
          "119",
          "120",
          "121",
          "122",
          "123",
          "124",
          "125",
          "126",
          "127",
          "128",
          "129",
          "130",
          "131",
          "132",
          "133",
          "134",
          "135",
          "136",
          "137",
          "138",
          "139",
          "140",
          "141",
          "142",
          "143",
          "144",
          "145",
          "146",
          "147",
          "148",
          "149",
          "150",
          "151",
          "152",
          "153",
          "154",
          "155",
          "156",
          "157",
          "158",
          "159",
          "160",
          "161",
          "162",
          "163",
          "164",
          "165",
          "166",
          "167",
          "168",
          "169",
          "170",
          "171",
          "172",
          "173",
          "174",
          "175",
          "176",
          "177",
          "178",
          "179",
          "180",
          "181",
          "182",
          "183",
          "184",
          "185",
          "186",
          "187",
          "188",
          "189",
          "190",
          "191",
          "192",
          "193",
          "194",
          "195",
          "196",
          "197",
          "198",
          "199",
          "200",
          "201",
          "202",
          "203",
          "204",
          "205",
          "206",
          "207",
          "208",
          "209",
          "210",
          "211",
          "212",
          "213",
          "214",
          "215",
          "216",
          "217",
          "218",
          "219",
          "220",
          "221",
          "222",
          "223",
          "224",
          "225",
          "226",
          "227",
          "228",
          "229",
          "230",
          "231",
          "232",
          "233",
          "234",
          "235",
          "236",
          "237",
          "238",
          "239",
          "240",
          "241",
          "242",
          "243",
          "244",
          "245",
          "246",
          "247",
          "248",
          "249",
          "250",
          "251",
          "252",
          "253",
          "254",
          "255",
          "256",
          "257",
          "258",
          "259",
          "260",
          "261",
          "262",
          "263",
          "264",
          "265",
          "266",
          "267",
          "268",
          "269",
          "270",
          "271",
          "272",
          "273",
          "274",
          "275",
          "276",
          "277",
          "278",
          "279",
          "280",
          "281",
          "282",
          "283",
          "284",
          "285",
          "286",
          "287",
          "288",
          "289",
          "290",
          "291",
          "292",
          "293",
          "294",
          "295",
          "296",
          "297",
          "298",
          "299"
         ],
         "type": "scatter3d",
         "x": [
          0.47482107055717093,
          0.022744992998465663,
          0.34965575642374824,
          0.050582705841130005,
          0.7324727447837143,
          0.4736171827792899,
          0.4235797704094907,
          0.6345707915433778,
          0.12568659908177526,
          0.2896321213032911,
          0.17088912300328862,
          0.25935460493710205,
          0.8655022992544924,
          0.47701901826994364,
          0.3934422546095585,
          0.02979142461757256,
          0.002566716161290228,
          0.3166079537294344,
          0.7760784033006114,
          0.47314992909497366,
          0.4665843790892156,
          0.3767476702177014,
          0.9863130592820786,
          0.0838253235183245,
          0.8237859894783512,
          0.6346361768733595,
          0.0017415467035057919,
          0.757988609089601,
          0.2682699633626463,
          0.30396713684719234,
          0.9371908423632099,
          0.48938637624916415,
          0.35691409390546425,
          0.7000876789523454,
          0.15256417970666436,
          0.7370395195613186,
          0.019850588753494547,
          0.07350097022162883,
          0.19382038357495923,
          0.09631222215884361,
          0.9562041071278232,
          0.6184656040760903,
          0.35728682794125277,
          0.6814972974328488,
          0.8171253937569428,
          0.4210882860174837,
          0.5068296269165151,
          0.4907375371592513,
          0.012455274128412963,
          0.7687594906051284,
          0.08857673554970402,
          0.45100693743996423,
          0.481692322718978,
          0.2303177726083251,
          0.6640905388626966,
          0.35652891187045754,
          0.10887052885485382,
          0.9205523141597386,
          0.6288938273401641,
          0.9812390192670004,
          0.05374136899349746,
          0.8536596498675331,
          0.7179502507707786,
          0.7731201410541226,
          0.26177393280827577,
          0.623417562683179,
          0.2054116789949425,
          0.7410747506640553,
          0.4352102841144635,
          0.5669959529092975,
          0.12415239384058807,
          0.6364886556235708,
          0.03136044983076669,
          0.5637094574958503,
          0.1817863622607162,
          0.2648574749532917,
          0.8508539681587134,
          0.2537455176320751,
          0.256164267280347,
          0.9208997071361003,
          0.45902818085933306,
          0.2893649112646679,
          0.8991269366110506,
          0.8212203133765642,
          0.7167872558697288,
          0.9833429803479374,
          0.7312375952677105,
          0.11850064236657676,
          0.7915167650975117,
          0.5557425025361381,
          0.9627821019453204,
          0.5992826270810888,
          0.41629739381202535,
          0.6692938667109307,
          0.12266372210492515,
          0.8760249245234724,
          0.001619039440319603,
          0.959462975500171,
          0.6428067474538932,
          0.14187376374701366,
          0.6141521981751712,
          0.6981406784257553,
          0.30700433335644906,
          0.7107184381051801,
          0.9199571889082038,
          0.34411885024569155,
          0.5367614249513882,
          0.17477853430047285,
          0.7990196015128801,
          0.6641646870319609,
          0.1068338117140668,
          0.772958439263793,
          0.7012431605519106,
          0.493856285911466,
          0.36647569999675444,
          0.6925179999210423,
          0.08529652474022786,
          0.08427131906763319,
          0.6242410376250069,
          0.25974677499776344,
          0.7416703343765733,
          0.6623397101591515,
          0.1773471798131342,
          0.20394506047584737,
          0.9478985248240795,
          0.791839180691597,
          0.4875249277892547,
          0.9711189333628899,
          0.6698065717298204,
          0.29510624195698376,
          0.4752050026423066,
          0.5894251647771837,
          0.2162863875317904,
          0.5528931434964268,
          0.08027043850689741,
          0.9835899756730196,
          0.8424915145833262,
          0.30306061043579313,
          0.19178342651783797,
          0.444471250748657,
          0.3567994645200806,
          0.8054094732594915,
          0.8024997510718613,
          0.8475160058766064,
          0.1833944150074256,
          0.07929465736159447,
          0.5198272826585038,
          0.025442895307380753,
          0.5542962383898646,
          0.7509753275424956,
          0.755888821060355,
          0.2830795992709918,
          0.8772608968744865,
          0.41510467231090964,
          0.9665682870497206,
          0.4000467508349297,
          0.12081580246684087,
          0.7499111966776368,
          0.4681745164699931,
          0.43087531398425083,
          0.02333154789734504,
          0.5188824916039056,
          0.2274201004318882,
          0.9762375568850116,
          0.44923485020098897,
          0.07215689378626367,
          0.09316802728639162,
          0.9007888342397397,
          0.3284321392224844,
          0.008175502003338275,
          0.20550450408612675,
          0.13518995648754295,
          0.6295651352594548,
          0.7981245539235114,
          0.9774582077263095,
          0.44894204797277026,
          0.18671233835680423,
          0.051929925703080526,
          0.23926677547707265,
          0.4381753185856039,
          0.8260184638525279,
          0.6768318135595939,
          0.5216356436505741,
          0.5873704549927811,
          0.1927717004774846,
          0.5469981777021223,
          0.9139876708498363,
          0.6126117967996896,
          0.9554137347970895,
          0.26721213503487307,
          0.9420483546032532,
          0.020145200071438718,
          0.0648086435063221,
          0.8006776959802284,
          0.23733518023114641,
          0.528098684729944,
          0.0052771866034453385,
          0.6281707396813268,
          0.039238014475586946,
          0.2553661164126647,
          0.6906119602186486,
          0.4620622365046072,
          0.23378074584859798,
          0.26214926578090103,
          0.8186467197969274,
          0.5084277824151813,
          0.9214925610264566,
          0.7755266772452707,
          0.7893982957693381,
          0.02183896802737917,
          0.11324817488963013,
          0.2500712798910729,
          0.0768138032193807,
          0.9678346751485682,
          0.8810676919016801,
          0.11018339691939949,
          0.31522963438979235,
          0.9086635040222685,
          0.5910633400059739,
          0.859080556913498,
          0.1705180069750345,
          0.5575806294533568,
          0.18481845732712598,
          0.36845903435141636,
          0.7688502099865797,
          0.0580382325490757,
          0.9342246343121018,
          0.9770536558327949,
          0.1258317317998745,
          0.7345052661899085,
          0.519449919949619,
          0.4328019456226144,
          0.8183965455228954,
          0.7985219311091447,
          0.8938166347881066,
          0.15423492484422885,
          0.922285389163017,
          0.5931162639311209,
          0.47946838618588905,
          0.1321227015335522,
          0.3700624410806327,
          0.8064541393088313,
          0.7780466425201902,
          0.09890945535659779,
          0.1442613658697881,
          0.9580095767327714,
          0.6117372226273942,
          0.816928058598567,
          0.6125227906509008,
          0.05042856162596976,
          0.7469224145549039,
          0.18354781878224047,
          0.2003838186594611,
          0.28127212155053716,
          0.20092426684307474,
          0.4509151958412547,
          0.6079210069358452,
          0.708619994843216,
          0.8259892956860583,
          0.9245172210347146,
          0.6679819175088606,
          0.6965411748141463,
          0.08324983351026072,
          0.04348319525609701,
          0.8956880689053727,
          0.15575117990718523,
          0.9380916809970459,
          0.23963060200878616,
          0.5565096665214418,
          0.46034934555963336,
          0.1985561808599844,
          0.7542836125555591,
          0.3234258508840808,
          0.7313102286076045,
          0.13867738125056184,
          0.3653017246306275,
          0.3390932908429488,
          0.3278179796685985,
          0.18736510994416877,
          0.25542644845041385,
          0.25093255211296517,
          0.3698277538035841,
          0.33771016931667885,
          0.8441206199457392,
          0.45875558114776305,
          0.5264146271521785,
          0.12245175065119229,
          0.522316374109928,
          0.08334787526178444,
          0.5207320484383471,
          0.7925158967661694,
          0.7895400814875833,
          0.436494780316141,
          0.6828435862801495,
          0.3771516713362748,
          0.32720024027863226,
          0.8188096173215992,
          0.9481130538471394,
          0.9456013970315679,
          0.10580629804514319
         ],
         "y": [
          0.5674697018954408,
          0.0057114332930738865,
          0.7526778926633678,
          0.15004940031100844,
          0.9192716655704084,
          0.8500013015367113,
          0.3182675582703668,
          0.20149664978879045,
          0.8026595060572262,
          0.6567443223596013,
          0.6075333616090873,
          0.14871352417516537,
          0.9827737311334794,
          0.2506557335969908,
          0.891208064425043,
          0.3040434436633208,
          0.4680391342895617,
          0.1907494344912093,
          0.6762932065708069,
          0.8898643615775239,
          0.9936223283548352,
          0.21534335662207116,
          0.6821197375778542,
          0.7399962378332154,
          0.806667379379845,
          0.8985070401509258,
          0.3212124735377445,
          0.17903721163144692,
          0.1348015133246412,
          0.22468241059325555,
          0.46365793866588234,
          0.8925623417527347,
          0.5701691394902099,
          0.7799037343826494,
          0.7901041044774665,
          0.0008262355265779009,
          0.1933956219857339,
          0.3630226206459878,
          0.7350741303173864,
          0.15128959462693103,
          0.3558659427108697,
          0.5489406678553447,
          0.633621177591484,
          0.9857206516818054,
          0.596308137810859,
          0.850767380543469,
          0.4831204571496013,
          0.34482045493488245,
          0.6296628800290847,
          0.6205586880226189,
          0.23961633314275144,
          0.2555696972411895,
          0.633920215420085,
          0.017126484868807523,
          0.7043281996574462,
          0.8603392570210264,
          0.3654022493528344,
          0.33868436917770794,
          0.2175293457852674,
          0.4456196321426854,
          0.40019570744793187,
          0.12918949554820236,
          0.37259936025328844,
          0.1390375216859422,
          0.1656032322348472,
          0.9742690152989216,
          0.6604345096778471,
          0.5612810607170051,
          0.9292697734166492,
          0.8986969678606368,
          0.9491860290733568,
          0.5042314727791876,
          0.14053774530468743,
          0.2808621366375136,
          0.6110061189010364,
          0.04341290671729081,
          0.6678050071354795,
          0.7099089558431944,
          0.31208747243033874,
          0.340374314698084,
          0.8909094448752806,
          0.11294021894393458,
          0.4379592035088108,
          0.16157123613470215,
          0.11075555698535988,
          0.5479964948663212,
          0.7335972136922637,
          0.9161569025174251,
          0.5668703601687899,
          0.7276154429380635,
          0.8269840107487858,
          0.4445070172104634,
          0.2818508701869987,
          0.2512845433018248,
          0.8949775621636872,
          0.875192729639007,
          0.8139676551199532,
          0.12313097243273496,
          0.2164268236867949,
          0.74399691849857,
          0.11796310141101429,
          0.15490717746808547,
          0.2902426141599993,
          0.3665753413673726,
          0.5040003981339627,
          0.22303400831592646,
          0.7286369696399495,
          0.2995837077472385,
          0.5789346793139822,
          0.352300808507122,
          0.5264892136216431,
          0.3727744544026924,
          0.6861450156788559,
          0.5321287688552677,
          0.12293358036842317,
          0.3529255196745832,
          0.41842184451840203,
          0.4941476045731341,
          0.3398949996925704,
          0.5078944593750052,
          0.16597782203167533,
          0.05566630527792693,
          0.5681434950235296,
          0.12170893079093703,
          0.5732044291378219,
          0.3897804101963087,
          0.5510280112012982,
          0.4619913038329113,
          0.7394718450229466,
          0.5299864668928008,
          0.8423200625527795,
          0.3824763975294271,
          0.7934517021579565,
          0.7868428369924075,
          0.6310946781100861,
          0.8861373858306665,
          0.877215731690747,
          0.46256294528814446,
          0.4241128069334529,
          0.4753363437164265,
          0.37581613362367816,
          0.08688775860315034,
          0.1638680140264699,
          0.5225014353266271,
          0.3724975617585148,
          0.3767027823704516,
          0.51197720105966,
          0.624367366971622,
          0.36619054722449373,
          0.7822380399148081,
          0.5832127032390656,
          0.9797701538747629,
          0.8234503985878605,
          0.22355681716809606,
          0.7289066417141288,
          0.05349003730968871,
          0.9634301398631686,
          0.9410529025902141,
          0.6236846747632229,
          0.8967030119841978,
          0.526682292133339,
          0.09091490946982417,
          0.639034668391818,
          0.5095143709315338,
          0.4856157115725698,
          0.4479803667915022,
          0.1465943042054354,
          0.1329343916861324,
          0.7261919823712204,
          0.1393994063892514,
          0.26072345597348745,
          0.3599851518727132,
          0.15623801325207232,
          0.5633675856248175,
          0.5261494245070905,
          0.06960137055468063,
          0.9387097566048845,
          0.038127943377681106,
          0.39389791605298563,
          0.11111651471086448,
          0.893236019297892,
          0.3085422377302883,
          0.08011876207809532,
          0.6932850847778467,
          0.40854015575771707,
          0.11235388871652408,
          0.7921349361568808,
          0.4122805914097222,
          0.09041854324960741,
          0.9201573848888718,
          0.37980584741542134,
          0.5081413787497511,
          0.47484774192862444,
          0.039815391551774604,
          0.5085658595205418,
          0.042826505823376104,
          0.7581651255351565,
          0.10762612610696187,
          0.6804180344666642,
          0.40985358277749107,
          0.7817514466203233,
          0.2689769206425392,
          0.24572157014160823,
          0.52641381759772,
          0.4802414749064303,
          0.047552795896346534,
          0.8678002704935425,
          0.7846381474462071,
          0.8676528169054539,
          0.8944959530141426,
          0.7087167711515295,
          0.4229517587991616,
          0.8050461518949977,
          0.6228465427903684,
          0.9310392608563977,
          0.9057189009114642,
          0.183560428145647,
          0.6606789673922473,
          0.16020663078814834,
          0.04056756474385137,
          0.32643812542123296,
          0.21341555746390073,
          0.798517410095639,
          0.9972751455081247,
          0.7603605666606782,
          0.168626339403547,
          0.6824898182370939,
          0.8009715374102602,
          0.8140952448393334,
          0.3278653673141996,
          0.3650959966829186,
          0.6633785759418956,
          0.7320699720639536,
          0.4724836642803131,
          0.16944077911607258,
          0.861175008885987,
          0.6209591997361268,
          0.2419321565505944,
          0.25804207008697166,
          0.4458108921695455,
          0.5081978526141528,
          0.2672888685156142,
          0.24008481632156742,
          0.006041942617098783,
          0.9463544792769367,
          0.5501050268854978,
          0.6139470728403116,
          0.5004416035627288,
          0.09964407198810998,
          0.7144726016977685,
          0.2933227586251691,
          0.4249129006493393,
          0.042488272279686656,
          0.019039304519796962,
          0.34726273991568946,
          0.10991527464236817,
          0.23813976453360397,
          0.9475572208305258,
          0.3249658470556672,
          0.17801012007121553,
          0.22304184862356746,
          0.8168427129673662,
          0.5436727612171519,
          0.8430883425787868,
          0.2440774879512223,
          0.08328778140339943,
          0.603305918281125,
          0.5357450180883058,
          0.4953969938383972,
          0.9136886017249192,
          0.9010471958976729,
          0.24754535531853372,
          0.08227692652297369,
          0.7123810988126739,
          0.6176905130305343,
          0.22588907522195734,
          0.24257949637117804,
          0.04417188237125946,
          0.3125876675925683,
          0.18971723372918392,
          0.2893858257933697,
          0.32120414980372414,
          0.49252311589119735,
          0.9939928430317593,
          0.7438758916343821,
          0.5855022541293459,
          0.2687434770184909,
          0.740257845529142,
          0.7074601718604491,
          0.8547180023208708,
          0.8376646291208019,
          0.2148636642181121,
          0.22992633157911535,
          0.15475382224205259,
          0.11887715903975293,
          0.311356975273699,
          0.06474188440151563,
          0.3705353891172112,
          0.5192360163257088,
          0.28933305063158565
         ],
         "z": [
          0.8610039534368809,
          0.12469354446849534,
          0.10898150741065793,
          0.5676411639085307,
          0.2372590614374156,
          0.7365369034877873,
          0.30304299265792545,
          0.8776588235837074,
          0.6979815602904451,
          0.6952138054835753,
          0.7881935887352837,
          0.7693077963958879,
          0.1547082312074609,
          0.6876829202231112,
          0.8414119099534403,
          0.934346872764777,
          0.2732269595538468,
          0.9561920707800599,
          0.18438853535283506,
          0.11319756107269796,
          0.7297682521898844,
          0.46917970520529295,
          0.9343452636570991,
          0.2358738507347803,
          0.005407212091053326,
          0.9915597846273728,
          0.44795166153365473,
          0.20632463307869753,
          0.3167575009826694,
          0.37185020755362685,
          0.909118403540496,
          0.7984945190296149,
          0.19031808378442538,
          0.5563833522736927,
          0.6738723529022967,
          0.748212439591208,
          0.05930345276927329,
          0.07647155381301152,
          0.24569446470166134,
          0.8727671593336832,
          0.40903495824956226,
          0.06220590732240183,
          0.32249860541214115,
          0.5388702063107571,
          0.48524557646120114,
          0.4457365309358977,
          0.3622303880443819,
          0.673116535759715,
          0.8282412170423921,
          0.6075653434398458,
          0.7560071744373507,
          0.5487739370815385,
          0.1269208519930256,
          0.49537378763038287,
          0.8561641498313668,
          0.8592784307922876,
          0.3571122304904242,
          0.6056154834128022,
          0.6352627781121296,
          0.8741820715063144,
          0.053153158457917016,
          0.4308449188087161,
          0.7863937404896342,
          0.39012008322083747,
          0.1083008561183264,
          0.9720995041515333,
          0.5481376086657871,
          0.5436176679788596,
          0.6069268109506166,
          0.4290624915228016,
          0.018691788258968445,
          0.7535855703666412,
          0.37463153441997654,
          0.18745817546577892,
          0.36406334577325017,
          0.5790885607839579,
          0.07415765440948374,
          0.28634702667192447,
          0.45152383205960867,
          0.0999648484909682,
          0.06536456359099174,
          0.9044334248491033,
          0.041537630758654354,
          0.6465351960171949,
          0.4436818719963881,
          0.31807077992892496,
          0.4439139474682843,
          0.8020539063438638,
          0.11103656139214757,
          0.08685330976869443,
          0.5203690492550339,
          0.735036423414055,
          0.7621222457154161,
          0.6725690485026959,
          0.9980526474746125,
          0.10882982350242298,
          0.9816740881549294,
          0.8412483031961915,
          0.3493042669118941,
          0.7488451587951191,
          0.7388050187357392,
          0.1301800644721598,
          0.7460232680805727,
          0.8255316678997419,
          0.9696405291714005,
          0.13683771685381552,
          0.6453337063230049,
          0.7027695414621621,
          0.7210573512419305,
          0.388523805415133,
          0.6162220045093373,
          0.5172974225974376,
          0.6804101396498916,
          0.31214884866625703,
          0.8998706610065156,
          0.19919808518546733,
          0.7253230455925868,
          0.757215638631078,
          0.2497508894638325,
          0.8419621130077345,
          0.06455953995829977,
          0.06558725654176656,
          0.068007274017576,
          0.6898422505340498,
          0.8492584592129234,
          0.2429569638149297,
          0.8099330549345118,
          0.9398606850694081,
          0.29664477692411206,
          0.00659891026536874,
          0.22194240628290884,
          0.18060619708345682,
          0.18817348885434415,
          0.23115508238786797,
          0.10084564078192115,
          0.16376855851589112,
          0.19071504314346288,
          0.45010055534888804,
          0.38888024076166006,
          0.2820332687433196,
          0.8741688572397798,
          0.4586608316124614,
          0.15609892217004806,
          0.11867398397006312,
          0.19063269165250496,
          0.9757761651289049,
          0.6564882396394075,
          0.3185053251589415,
          0.22989067628769455,
          0.9653355512912546,
          0.8822998386064076,
          0.42885849772205575,
          0.6898386761522296,
          0.11823473377701299,
          0.02974568157988211,
          0.5495527881735442,
          0.2959038282123603,
          0.8062240169986349,
          0.7263594902465774,
          0.7747285907041904,
          0.6354819265839765,
          0.06204837762603843,
          0.34789577576011654,
          0.8203779474637466,
          0.30698869107085314,
          0.7038188979149899,
          0.6130178340114883,
          0.04215344206997418,
          0.30851844811118956,
          0.015860122524486764,
          0.9521649093598932,
          0.40512741200041813,
          0.7647096294349047,
          0.5289536870564797,
          0.7948856076475965,
          0.5539535239526774,
          0.49696372730726646,
          0.23525508606202072,
          0.09783845179687078,
          0.5618632049599442,
          0.5561434969287198,
          0.3502295985843581,
          0.3530812484401843,
          0.6008863757829893,
          0.6159136133351211,
          0.9629123980618831,
          0.03274824076348404,
          0.8939594162935508,
          0.17613090952201393,
          0.5717251978252611,
          0.8028476938243237,
          0.06913619921031722,
          0.49607134440006306,
          0.28465149554554636,
          0.7628687649184308,
          0.32157945934114074,
          0.919942205272734,
          0.08712417059469235,
          0.4751050823151066,
          0.3223717515175907,
          0.16824371344715816,
          0.8927065219212921,
          0.9463614986824992,
          0.6871655899523271,
          0.21684749356276256,
          0.3819716876462982,
          0.813492724858367,
          0.7099649474605577,
          0.06296415779105191,
          0.588487863926771,
          0.6821783916043104,
          0.5606362597477899,
          0.2810753806681485,
          0.4128741116041147,
          0.05588574123927792,
          0.839834695547922,
          0.09437825861382343,
          0.8540353594408645,
          0.3276388294197392,
          0.2543992517348337,
          0.0003070093726064149,
          0.40802620268925605,
          0.12805091059478335,
          0.15125199913111553,
          0.5435484180439142,
          0.552218898423984,
          0.25185971315142075,
          0.8645273892266647,
          0.1348489802505991,
          0.4691961061239165,
          0.5594008447510018,
          0.8923510386645441,
          0.6306817114547021,
          0.2247097375559729,
          0.8091944367955959,
          0.10797203400419564,
          0.19855441005844765,
          0.1474391477014544,
          0.17284115288854585,
          0.3587522311148189,
          0.37248168699504025,
          0.9705494198577924,
          0.4507487364512338,
          0.6867239591397175,
          0.11496611216741603,
          0.562466801600347,
          0.6587457302841753,
          0.5873266553432547,
          0.259791439274189,
          0.5646925960714965,
          0.7079556079639844,
          0.31972406641664763,
          0.8011927662238711,
          0.629257709475475,
          0.47582908573932625,
          0.4379053818013747,
          0.8067909865284881,
          0.34147213338587157,
          0.229854900989652,
          0.8030705921433867,
          0.3784478338514162,
          0.8687773671911388,
          0.008983915365178397,
          0.06778916992603867,
          0.8022531015943136,
          0.752419375874719,
          0.399718945345763,
          0.7207998194454485,
          0.030308676505328758,
          0.47877587834127844,
          0.6002222252395233,
          0.8323029914809585,
          0.6126291055110312,
          0.8122835654641265,
          0.22199226617569434,
          0.15269357844634912,
          0.39416148211883173,
          0.38058135573209395,
          0.9314138820383796,
          0.7419251016818772,
          0.5207408143274366,
          0.9133541847529004,
          0.3598581172770202,
          0.3950851136159851,
          0.5174724955662197,
          0.8951587125498586,
          0.9791769578359371,
          0.03533036383532584,
          0.7783279183747276,
          0.7005711682079513,
          0.545311924207201,
          0.9043280085166198,
          0.05574982187386002,
          0.8473927730172551,
          0.7349034669575281,
          0.21129803650812262,
          0.9039090511694207,
          0.22806915503711978,
          0.37609812007738086,
          0.20822495348281567
         ]
        }
       ],
       "layout": {
        "legend": {
         "bgcolor": "#F5F6F9",
         "font": {
          "color": "#4D5663"
         }
        },
        "paper_bgcolor": "#F5F6F9",
        "plot_bgcolor": "#F5F6F9",
        "scene": {
         "xaxis": {
          "gridcolor": "#9499A3",
          "showgrid": true,
          "tickfont": {
           "color": "#4D5663"
          },
          "title": {
           "font": {
            "color": "#4D5663"
           },
           "text": ""
          },
          "zerolinecolor": "#9499A3"
         },
         "yaxis": {
          "gridcolor": "#9499A3",
          "showgrid": true,
          "tickfont": {
           "color": "#4D5663"
          },
          "title": {
           "font": {
            "color": "#4D5663"
           },
           "text": ""
          },
          "zerolinecolor": "#9499A3"
         },
         "zaxis": {
          "gridcolor": "#9499A3",
          "showgrid": true,
          "tickfont": {
           "color": "#4D5663"
          },
          "title": {
           "font": {
            "color": "#4D5663"
           },
           "text": ""
          },
          "zerolinecolor": "#9499A3"
         }
        },
        "template": {
         "data": {
          "bar": [
           {
            "error_x": {
             "color": "#2a3f5f"
            },
            "error_y": {
             "color": "#2a3f5f"
            },
            "marker": {
             "line": {
              "color": "#E5ECF6",
              "width": 0.5
             },
             "pattern": {
              "fillmode": "overlay",
              "size": 10,
              "solidity": 0.2
             }
            },
            "type": "bar"
           }
          ],
          "barpolar": [
           {
            "marker": {
             "line": {
              "color": "#E5ECF6",
              "width": 0.5
             },
             "pattern": {
              "fillmode": "overlay",
              "size": 10,
              "solidity": 0.2
             }
            },
            "type": "barpolar"
           }
          ],
          "carpet": [
           {
            "aaxis": {
             "endlinecolor": "#2a3f5f",
             "gridcolor": "white",
             "linecolor": "white",
             "minorgridcolor": "white",
             "startlinecolor": "#2a3f5f"
            },
            "baxis": {
             "endlinecolor": "#2a3f5f",
             "gridcolor": "white",
             "linecolor": "white",
             "minorgridcolor": "white",
             "startlinecolor": "#2a3f5f"
            },
            "type": "carpet"
           }
          ],
          "choropleth": [
           {
            "colorbar": {
             "outlinewidth": 0,
             "ticks": ""
            },
            "type": "choropleth"
           }
          ],
          "contour": [
           {
            "colorbar": {
             "outlinewidth": 0,
             "ticks": ""
            },
            "colorscale": [
             [
              0,
              "#0d0887"
             ],
             [
              0.1111111111111111,
              "#46039f"
             ],
             [
              0.2222222222222222,
              "#7201a8"
             ],
             [
              0.3333333333333333,
              "#9c179e"
             ],
             [
              0.4444444444444444,
              "#bd3786"
             ],
             [
              0.5555555555555556,
              "#d8576b"
             ],
             [
              0.6666666666666666,
              "#ed7953"
             ],
             [
              0.7777777777777778,
              "#fb9f3a"
             ],
             [
              0.8888888888888888,
              "#fdca26"
             ],
             [
              1,
              "#f0f921"
             ]
            ],
            "type": "contour"
           }
          ],
          "contourcarpet": [
           {
            "colorbar": {
             "outlinewidth": 0,
             "ticks": ""
            },
            "type": "contourcarpet"
           }
          ],
          "heatmap": [
           {
            "colorbar": {
             "outlinewidth": 0,
             "ticks": ""
            },
            "colorscale": [
             [
              0,
              "#0d0887"
             ],
             [
              0.1111111111111111,
              "#46039f"
             ],
             [
              0.2222222222222222,
              "#7201a8"
             ],
             [
              0.3333333333333333,
              "#9c179e"
             ],
             [
              0.4444444444444444,
              "#bd3786"
             ],
             [
              0.5555555555555556,
              "#d8576b"
             ],
             [
              0.6666666666666666,
              "#ed7953"
             ],
             [
              0.7777777777777778,
              "#fb9f3a"
             ],
             [
              0.8888888888888888,
              "#fdca26"
             ],
             [
              1,
              "#f0f921"
             ]
            ],
            "type": "heatmap"
           }
          ],
          "heatmapgl": [
           {
            "colorbar": {
             "outlinewidth": 0,
             "ticks": ""
            },
            "colorscale": [
             [
              0,
              "#0d0887"
             ],
             [
              0.1111111111111111,
              "#46039f"
             ],
             [
              0.2222222222222222,
              "#7201a8"
             ],
             [
              0.3333333333333333,
              "#9c179e"
             ],
             [
              0.4444444444444444,
              "#bd3786"
             ],
             [
              0.5555555555555556,
              "#d8576b"
             ],
             [
              0.6666666666666666,
              "#ed7953"
             ],
             [
              0.7777777777777778,
              "#fb9f3a"
             ],
             [
              0.8888888888888888,
              "#fdca26"
             ],
             [
              1,
              "#f0f921"
             ]
            ],
            "type": "heatmapgl"
           }
          ],
          "histogram": [
           {
            "marker": {
             "pattern": {
              "fillmode": "overlay",
              "size": 10,
              "solidity": 0.2
             }
            },
            "type": "histogram"
           }
          ],
          "histogram2d": [
           {
            "colorbar": {
             "outlinewidth": 0,
             "ticks": ""
            },
            "colorscale": [
             [
              0,
              "#0d0887"
             ],
             [
              0.1111111111111111,
              "#46039f"
             ],
             [
              0.2222222222222222,
              "#7201a8"
             ],
             [
              0.3333333333333333,
              "#9c179e"
             ],
             [
              0.4444444444444444,
              "#bd3786"
             ],
             [
              0.5555555555555556,
              "#d8576b"
             ],
             [
              0.6666666666666666,
              "#ed7953"
             ],
             [
              0.7777777777777778,
              "#fb9f3a"
             ],
             [
              0.8888888888888888,
              "#fdca26"
             ],
             [
              1,
              "#f0f921"
             ]
            ],
            "type": "histogram2d"
           }
          ],
          "histogram2dcontour": [
           {
            "colorbar": {
             "outlinewidth": 0,
             "ticks": ""
            },
            "colorscale": [
             [
              0,
              "#0d0887"
             ],
             [
              0.1111111111111111,
              "#46039f"
             ],
             [
              0.2222222222222222,
              "#7201a8"
             ],
             [
              0.3333333333333333,
              "#9c179e"
             ],
             [
              0.4444444444444444,
              "#bd3786"
             ],
             [
              0.5555555555555556,
              "#d8576b"
             ],
             [
              0.6666666666666666,
              "#ed7953"
             ],
             [
              0.7777777777777778,
              "#fb9f3a"
             ],
             [
              0.8888888888888888,
              "#fdca26"
             ],
             [
              1,
              "#f0f921"
             ]
            ],
            "type": "histogram2dcontour"
           }
          ],
          "mesh3d": [
           {
            "colorbar": {
             "outlinewidth": 0,
             "ticks": ""
            },
            "type": "mesh3d"
           }
          ],
          "parcoords": [
           {
            "line": {
             "colorbar": {
              "outlinewidth": 0,
              "ticks": ""
             }
            },
            "type": "parcoords"
           }
          ],
          "pie": [
           {
            "automargin": true,
            "type": "pie"
           }
          ],
          "scatter": [
           {
            "fillpattern": {
             "fillmode": "overlay",
             "size": 10,
             "solidity": 0.2
            },
            "type": "scatter"
           }
          ],
          "scatter3d": [
           {
            "line": {
             "colorbar": {
              "outlinewidth": 0,
              "ticks": ""
             }
            },
            "marker": {
             "colorbar": {
              "outlinewidth": 0,
              "ticks": ""
             }
            },
            "type": "scatter3d"
           }
          ],
          "scattercarpet": [
           {
            "marker": {
             "colorbar": {
              "outlinewidth": 0,
              "ticks": ""
             }
            },
            "type": "scattercarpet"
           }
          ],
          "scattergeo": [
           {
            "marker": {
             "colorbar": {
              "outlinewidth": 0,
              "ticks": ""
             }
            },
            "type": "scattergeo"
           }
          ],
          "scattergl": [
           {
            "marker": {
             "colorbar": {
              "outlinewidth": 0,
              "ticks": ""
             }
            },
            "type": "scattergl"
           }
          ],
          "scattermapbox": [
           {
            "marker": {
             "colorbar": {
              "outlinewidth": 0,
              "ticks": ""
             }
            },
            "type": "scattermapbox"
           }
          ],
          "scatterpolar": [
           {
            "marker": {
             "colorbar": {
              "outlinewidth": 0,
              "ticks": ""
             }
            },
            "type": "scatterpolar"
           }
          ],
          "scatterpolargl": [
           {
            "marker": {
             "colorbar": {
              "outlinewidth": 0,
              "ticks": ""
             }
            },
            "type": "scatterpolargl"
           }
          ],
          "scatterternary": [
           {
            "marker": {
             "colorbar": {
              "outlinewidth": 0,
              "ticks": ""
             }
            },
            "type": "scatterternary"
           }
          ],
          "surface": [
           {
            "colorbar": {
             "outlinewidth": 0,
             "ticks": ""
            },
            "colorscale": [
             [
              0,
              "#0d0887"
             ],
             [
              0.1111111111111111,
              "#46039f"
             ],
             [
              0.2222222222222222,
              "#7201a8"
             ],
             [
              0.3333333333333333,
              "#9c179e"
             ],
             [
              0.4444444444444444,
              "#bd3786"
             ],
             [
              0.5555555555555556,
              "#d8576b"
             ],
             [
              0.6666666666666666,
              "#ed7953"
             ],
             [
              0.7777777777777778,
              "#fb9f3a"
             ],
             [
              0.8888888888888888,
              "#fdca26"
             ],
             [
              1,
              "#f0f921"
             ]
            ],
            "type": "surface"
           }
          ],
          "table": [
           {
            "cells": {
             "fill": {
              "color": "#EBF0F8"
             },
             "line": {
              "color": "white"
             }
            },
            "header": {
             "fill": {
              "color": "#C8D4E3"
             },
             "line": {
              "color": "white"
             }
            },
            "type": "table"
           }
          ]
         },
         "layout": {
          "annotationdefaults": {
           "arrowcolor": "#2a3f5f",
           "arrowhead": 0,
           "arrowwidth": 1
          },
          "autotypenumbers": "strict",
          "coloraxis": {
           "colorbar": {
            "outlinewidth": 0,
            "ticks": ""
           }
          },
          "colorscale": {
           "diverging": [
            [
             0,
             "#8e0152"
            ],
            [
             0.1,
             "#c51b7d"
            ],
            [
             0.2,
             "#de77ae"
            ],
            [
             0.3,
             "#f1b6da"
            ],
            [
             0.4,
             "#fde0ef"
            ],
            [
             0.5,
             "#f7f7f7"
            ],
            [
             0.6,
             "#e6f5d0"
            ],
            [
             0.7,
             "#b8e186"
            ],
            [
             0.8,
             "#7fbc41"
            ],
            [
             0.9,
             "#4d9221"
            ],
            [
             1,
             "#276419"
            ]
           ],
           "sequential": [
            [
             0,
             "#0d0887"
            ],
            [
             0.1111111111111111,
             "#46039f"
            ],
            [
             0.2222222222222222,
             "#7201a8"
            ],
            [
             0.3333333333333333,
             "#9c179e"
            ],
            [
             0.4444444444444444,
             "#bd3786"
            ],
            [
             0.5555555555555556,
             "#d8576b"
            ],
            [
             0.6666666666666666,
             "#ed7953"
            ],
            [
             0.7777777777777778,
             "#fb9f3a"
            ],
            [
             0.8888888888888888,
             "#fdca26"
            ],
            [
             1,
             "#f0f921"
            ]
           ],
           "sequentialminus": [
            [
             0,
             "#0d0887"
            ],
            [
             0.1111111111111111,
             "#46039f"
            ],
            [
             0.2222222222222222,
             "#7201a8"
            ],
            [
             0.3333333333333333,
             "#9c179e"
            ],
            [
             0.4444444444444444,
             "#bd3786"
            ],
            [
             0.5555555555555556,
             "#d8576b"
            ],
            [
             0.6666666666666666,
             "#ed7953"
            ],
            [
             0.7777777777777778,
             "#fb9f3a"
            ],
            [
             0.8888888888888888,
             "#fdca26"
            ],
            [
             1,
             "#f0f921"
            ]
           ]
          },
          "colorway": [
           "#636efa",
           "#EF553B",
           "#00cc96",
           "#ab63fa",
           "#FFA15A",
           "#19d3f3",
           "#FF6692",
           "#B6E880",
           "#FF97FF",
           "#FECB52"
          ],
          "font": {
           "color": "#2a3f5f"
          },
          "geo": {
           "bgcolor": "white",
           "lakecolor": "white",
           "landcolor": "#E5ECF6",
           "showlakes": true,
           "showland": true,
           "subunitcolor": "white"
          },
          "hoverlabel": {
           "align": "left"
          },
          "hovermode": "closest",
          "mapbox": {
           "style": "light"
          },
          "paper_bgcolor": "white",
          "plot_bgcolor": "#E5ECF6",
          "polar": {
           "angularaxis": {
            "gridcolor": "white",
            "linecolor": "white",
            "ticks": ""
           },
           "bgcolor": "#E5ECF6",
           "radialaxis": {
            "gridcolor": "white",
            "linecolor": "white",
            "ticks": ""
           }
          },
          "scene": {
           "xaxis": {
            "backgroundcolor": "#E5ECF6",
            "gridcolor": "white",
            "gridwidth": 2,
            "linecolor": "white",
            "showbackground": true,
            "ticks": "",
            "zerolinecolor": "white"
           },
           "yaxis": {
            "backgroundcolor": "#E5ECF6",
            "gridcolor": "white",
            "gridwidth": 2,
            "linecolor": "white",
            "showbackground": true,
            "ticks": "",
            "zerolinecolor": "white"
           },
           "zaxis": {
            "backgroundcolor": "#E5ECF6",
            "gridcolor": "white",
            "gridwidth": 2,
            "linecolor": "white",
            "showbackground": true,
            "ticks": "",
            "zerolinecolor": "white"
           }
          },
          "shapedefaults": {
           "line": {
            "color": "#2a3f5f"
           }
          },
          "ternary": {
           "aaxis": {
            "gridcolor": "white",
            "linecolor": "white",
            "ticks": ""
           },
           "baxis": {
            "gridcolor": "white",
            "linecolor": "white",
            "ticks": ""
           },
           "bgcolor": "#E5ECF6",
           "caxis": {
            "gridcolor": "white",
            "linecolor": "white",
            "ticks": ""
           }
          },
          "title": {
           "x": 0.05
          },
          "xaxis": {
           "automargin": true,
           "gridcolor": "white",
           "linecolor": "white",
           "ticks": "",
           "title": {
            "standoff": 15
           },
           "zerolinecolor": "white",
           "zerolinewidth": 2
          },
          "yaxis": {
           "automargin": true,
           "gridcolor": "white",
           "linecolor": "white",
           "ticks": "",
           "title": {
            "standoff": 15
           },
           "zerolinecolor": "white",
           "zerolinewidth": 2
          }
         }
        },
        "title": {
         "font": {
          "color": "#4D5663"
         }
        }
       }
      },
      "text/html": [
       "<div>                            <div id=\"e9a3e460-a25d-4f7f-8d94-22244d6538c7\" class=\"plotly-graph-div\" style=\"height:525px; width:100%;\"></div>            <script type=\"text/javascript\">                require([\"plotly\"], function(Plotly) {                    window.PLOTLYENV=window.PLOTLYENV || {};\n",
       "                    window.PLOTLYENV.BASE_URL='https://plot.ly';                                    if (document.getElementById(\"e9a3e460-a25d-4f7f-8d94-22244d6538c7\")) {                    Plotly.newPlot(                        \"e9a3e460-a25d-4f7f-8d94-22244d6538c7\",                        [{\"marker\":{\"color\":[\"rgba(255, 153, 51, 1.0)\",\"rgba(55, 128, 191, 1.0)\",\"rgba(50, 171, 96, 1.0)\",\"rgba(128, 0, 128, 1.0)\",\"rgba(219, 64, 82, 1.0)\",\"rgba(0, 128, 128, 1.0)\",\"rgba(255, 255, 51, 1.0)\",\"rgba(128, 128, 0, 1.0)\",\"rgba(251, 128, 114, 1.0)\",\"rgba(128, 177, 211, 1.0)\",\"rgba(128, 177, 211, 0.9733333333333334)\",\"rgba(255, 153, 51, 0.9733333333333334)\",\"rgba(55, 128, 191, 0.9733333333333334)\",\"rgba(50, 171, 96, 0.9733333333333334)\",\"rgba(128, 0, 128, 0.9733333333333334)\",\"rgba(219, 64, 82, 0.9733333333333334)\",\"rgba(0, 128, 128, 0.9733333333333334)\",\"rgba(255, 255, 51, 0.9733333333333334)\",\"rgba(128, 128, 0, 0.9733333333333334)\",\"rgba(251, 128, 114, 0.9733333333333334)\",\"rgba(251, 128, 114, 0.9466666666666665)\",\"rgba(128, 177, 211, 0.9466666666666665)\",\"rgba(255, 153, 51, 0.9466666666666665)\",\"rgba(55, 128, 191, 0.9466666666666665)\",\"rgba(50, 171, 96, 0.9466666666666665)\",\"rgba(128, 0, 128, 0.9466666666666665)\",\"rgba(219, 64, 82, 0.9466666666666665)\",\"rgba(0, 128, 128, 0.9466666666666665)\",\"rgba(255, 255, 51, 0.9466666666666665)\",\"rgba(128, 128, 0, 0.9466666666666665)\",\"rgba(128, 128, 0, 0.9199999999999999)\",\"rgba(251, 128, 114, 0.9199999999999999)\",\"rgba(128, 177, 211, 0.9199999999999999)\",\"rgba(255, 153, 51, 0.9199999999999999)\",\"rgba(55, 128, 191, 0.9199999999999999)\",\"rgba(50, 171, 96, 0.9199999999999999)\",\"rgba(128, 0, 128, 0.9199999999999999)\",\"rgba(219, 64, 82, 0.9199999999999999)\",\"rgba(0, 128, 128, 0.9199999999999999)\",\"rgba(255, 255, 51, 0.9199999999999999)\",\"rgba(255, 255, 51, 0.8933333333333333)\",\"rgba(128, 128, 0, 0.8933333333333333)\",\"rgba(251, 128, 114, 0.8933333333333333)\",\"rgba(128, 177, 211, 0.8933333333333333)\",\"rgba(255, 153, 51, 0.8933333333333333)\",\"rgba(55, 128, 191, 0.8933333333333333)\",\"rgba(50, 171, 96, 0.8933333333333333)\",\"rgba(128, 0, 128, 0.8933333333333333)\",\"rgba(219, 64, 82, 0.8933333333333333)\",\"rgba(0, 128, 128, 0.8933333333333333)\",\"rgba(0, 128, 128, 0.8666666666666667)\",\"rgba(255, 255, 51, 0.8666666666666667)\",\"rgba(128, 128, 0, 0.8666666666666667)\",\"rgba(251, 128, 114, 0.8666666666666667)\",\"rgba(128, 177, 211, 0.8666666666666667)\",\"rgba(255, 153, 51, 0.8666666666666667)\",\"rgba(55, 128, 191, 0.8666666666666667)\",\"rgba(50, 171, 96, 0.8666666666666667)\",\"rgba(128, 0, 128, 0.8666666666666667)\",\"rgba(219, 64, 82, 0.8666666666666667)\",\"rgba(219, 64, 82, 0.8399999999999999)\",\"rgba(0, 128, 128, 0.8399999999999999)\",\"rgba(255, 255, 51, 0.8399999999999999)\",\"rgba(128, 128, 0, 0.8399999999999999)\",\"rgba(251, 128, 114, 0.8399999999999999)\",\"rgba(128, 177, 211, 0.8399999999999999)\",\"rgba(255, 153, 51, 0.8399999999999999)\",\"rgba(55, 128, 191, 0.8399999999999999)\",\"rgba(50, 171, 96, 0.8399999999999999)\",\"rgba(128, 0, 128, 0.8399999999999999)\",\"rgba(128, 0, 128, 0.8133333333333332)\",\"rgba(219, 64, 82, 0.8133333333333332)\",\"rgba(0, 128, 128, 0.8133333333333332)\",\"rgba(255, 255, 51, 0.8133333333333332)\",\"rgba(128, 128, 0, 0.8133333333333332)\",\"rgba(251, 128, 114, 0.8133333333333332)\",\"rgba(128, 177, 211, 0.8133333333333332)\",\"rgba(255, 153, 51, 0.8133333333333332)\",\"rgba(55, 128, 191, 0.8133333333333332)\",\"rgba(50, 171, 96, 0.8133333333333332)\",\"rgba(50, 171, 96, 0.7866666666666666)\",\"rgba(128, 0, 128, 0.7866666666666666)\",\"rgba(219, 64, 82, 0.7866666666666666)\",\"rgba(0, 128, 128, 0.7866666666666666)\",\"rgba(255, 255, 51, 0.7866666666666666)\",\"rgba(128, 128, 0, 0.7866666666666666)\",\"rgba(251, 128, 114, 0.7866666666666666)\",\"rgba(128, 177, 211, 0.7866666666666666)\",\"rgba(255, 153, 51, 0.7866666666666666)\",\"rgba(55, 128, 191, 0.7866666666666666)\",\"rgba(55, 128, 191, 0.76)\",\"rgba(50, 171, 96, 0.76)\",\"rgba(128, 0, 128, 0.76)\",\"rgba(219, 64, 82, 0.76)\",\"rgba(0, 128, 128, 0.76)\",\"rgba(255, 255, 51, 0.76)\",\"rgba(128, 128, 0, 0.76)\",\"rgba(251, 128, 114, 0.76)\",\"rgba(128, 177, 211, 0.76)\",\"rgba(255, 153, 51, 0.76)\",\"rgba(255, 153, 51, 0.7333333333333332)\",\"rgba(55, 128, 191, 0.7333333333333332)\",\"rgba(50, 171, 96, 0.7333333333333332)\",\"rgba(128, 0, 128, 0.7333333333333332)\",\"rgba(219, 64, 82, 0.7333333333333332)\",\"rgba(0, 128, 128, 0.7333333333333332)\",\"rgba(255, 255, 51, 0.7333333333333332)\",\"rgba(128, 128, 0, 0.7333333333333332)\",\"rgba(251, 128, 114, 0.7333333333333332)\",\"rgba(128, 177, 211, 0.7333333333333332)\",\"rgba(128, 177, 211, 0.7066666666666666)\",\"rgba(255, 153, 51, 0.7066666666666666)\",\"rgba(55, 128, 191, 0.7066666666666666)\",\"rgba(50, 171, 96, 0.7066666666666666)\",\"rgba(128, 0, 128, 0.7066666666666666)\",\"rgba(219, 64, 82, 0.7066666666666666)\",\"rgba(0, 128, 128, 0.7066666666666666)\",\"rgba(255, 255, 51, 0.7066666666666666)\",\"rgba(128, 128, 0, 0.7066666666666666)\",\"rgba(251, 128, 114, 0.7066666666666666)\",\"rgba(251, 128, 114, 0.6799999999999999)\",\"rgba(128, 177, 211, 0.6799999999999999)\",\"rgba(255, 153, 51, 0.6799999999999999)\",\"rgba(55, 128, 191, 0.6799999999999999)\",\"rgba(50, 171, 96, 0.6799999999999999)\",\"rgba(128, 0, 128, 0.6799999999999999)\",\"rgba(219, 64, 82, 0.6799999999999999)\",\"rgba(0, 128, 128, 0.6799999999999999)\",\"rgba(255, 255, 51, 0.6799999999999999)\",\"rgba(128, 128, 0, 0.6799999999999999)\",\"rgba(128, 128, 0, 0.6533333333333333)\",\"rgba(251, 128, 114, 0.6533333333333333)\",\"rgba(128, 177, 211, 0.6533333333333333)\",\"rgba(255, 153, 51, 0.6533333333333333)\",\"rgba(55, 128, 191, 0.6533333333333333)\",\"rgba(50, 171, 96, 0.6533333333333333)\",\"rgba(128, 0, 128, 0.6533333333333333)\",\"rgba(219, 64, 82, 0.6533333333333333)\",\"rgba(0, 128, 128, 0.6533333333333333)\",\"rgba(255, 255, 51, 0.6533333333333333)\",\"rgba(255, 255, 51, 0.6266666666666665)\",\"rgba(128, 128, 0, 0.6266666666666665)\",\"rgba(251, 128, 114, 0.6266666666666665)\",\"rgba(128, 177, 211, 0.6266666666666665)\",\"rgba(255, 153, 51, 0.6266666666666665)\",\"rgba(55, 128, 191, 0.6266666666666665)\",\"rgba(50, 171, 96, 0.6266666666666665)\",\"rgba(128, 0, 128, 0.6266666666666665)\",\"rgba(219, 64, 82, 0.6266666666666665)\",\"rgba(0, 128, 128, 0.6266666666666665)\",\"rgba(0, 128, 128, 0.5999999999999999)\",\"rgba(255, 255, 51, 0.5999999999999999)\",\"rgba(128, 128, 0, 0.5999999999999999)\",\"rgba(251, 128, 114, 0.5999999999999999)\",\"rgba(128, 177, 211, 0.5999999999999999)\",\"rgba(255, 153, 51, 0.5999999999999999)\",\"rgba(55, 128, 191, 0.5999999999999999)\",\"rgba(50, 171, 96, 0.5999999999999999)\",\"rgba(128, 0, 128, 0.5999999999999999)\",\"rgba(219, 64, 82, 0.5999999999999999)\",\"rgba(219, 64, 82, 0.5733333333333333)\",\"rgba(0, 128, 128, 0.5733333333333333)\",\"rgba(255, 255, 51, 0.5733333333333333)\",\"rgba(128, 128, 0, 0.5733333333333333)\",\"rgba(251, 128, 114, 0.5733333333333333)\",\"rgba(128, 177, 211, 0.5733333333333333)\",\"rgba(255, 153, 51, 0.5733333333333333)\",\"rgba(55, 128, 191, 0.5733333333333333)\",\"rgba(50, 171, 96, 0.5733333333333333)\",\"rgba(128, 0, 128, 0.5733333333333333)\",\"rgba(128, 0, 128, 0.5466666666666666)\",\"rgba(219, 64, 82, 0.5466666666666666)\",\"rgba(0, 128, 128, 0.5466666666666666)\",\"rgba(255, 255, 51, 0.5466666666666666)\",\"rgba(128, 128, 0, 0.5466666666666666)\",\"rgba(251, 128, 114, 0.5466666666666666)\",\"rgba(128, 177, 211, 0.5466666666666666)\",\"rgba(255, 153, 51, 0.5466666666666666)\",\"rgba(55, 128, 191, 0.5466666666666666)\",\"rgba(50, 171, 96, 0.5466666666666666)\",\"rgba(50, 171, 96, 0.5199999999999998)\",\"rgba(128, 0, 128, 0.5199999999999998)\",\"rgba(219, 64, 82, 0.5199999999999998)\",\"rgba(0, 128, 128, 0.5199999999999998)\",\"rgba(255, 255, 51, 0.5199999999999998)\",\"rgba(128, 128, 0, 0.5199999999999998)\",\"rgba(251, 128, 114, 0.5199999999999998)\",\"rgba(128, 177, 211, 0.5199999999999998)\",\"rgba(255, 153, 51, 0.5199999999999998)\",\"rgba(55, 128, 191, 0.5199999999999998)\",\"rgba(55, 128, 191, 0.49333333333333323)\",\"rgba(50, 171, 96, 0.49333333333333323)\",\"rgba(128, 0, 128, 0.49333333333333323)\",\"rgba(219, 64, 82, 0.49333333333333323)\",\"rgba(0, 128, 128, 0.49333333333333323)\",\"rgba(255, 255, 51, 0.49333333333333323)\",\"rgba(128, 128, 0, 0.49333333333333323)\",\"rgba(251, 128, 114, 0.49333333333333323)\",\"rgba(128, 177, 211, 0.49333333333333323)\",\"rgba(255, 153, 51, 0.49333333333333323)\",\"rgba(255, 153, 51, 0.4666666666666666)\",\"rgba(55, 128, 191, 0.4666666666666666)\",\"rgba(50, 171, 96, 0.4666666666666666)\",\"rgba(128, 0, 128, 0.4666666666666666)\",\"rgba(219, 64, 82, 0.4666666666666666)\",\"rgba(0, 128, 128, 0.4666666666666666)\",\"rgba(255, 255, 51, 0.4666666666666666)\",\"rgba(128, 128, 0, 0.4666666666666666)\",\"rgba(251, 128, 114, 0.4666666666666666)\",\"rgba(128, 177, 211, 0.4666666666666666)\",\"rgba(128, 177, 211, 0.44)\",\"rgba(255, 153, 51, 0.44)\",\"rgba(55, 128, 191, 0.44)\",\"rgba(50, 171, 96, 0.44)\",\"rgba(128, 0, 128, 0.44)\",\"rgba(219, 64, 82, 0.44)\",\"rgba(0, 128, 128, 0.44)\",\"rgba(255, 255, 51, 0.44)\",\"rgba(128, 128, 0, 0.44)\",\"rgba(251, 128, 114, 0.44)\",\"rgba(251, 128, 114, 0.41333333333333316)\",\"rgba(128, 177, 211, 0.41333333333333316)\",\"rgba(255, 153, 51, 0.41333333333333316)\",\"rgba(55, 128, 191, 0.41333333333333316)\",\"rgba(50, 171, 96, 0.41333333333333316)\",\"rgba(128, 0, 128, 0.41333333333333316)\",\"rgba(219, 64, 82, 0.41333333333333316)\",\"rgba(0, 128, 128, 0.41333333333333316)\",\"rgba(255, 255, 51, 0.41333333333333316)\",\"rgba(128, 128, 0, 0.41333333333333316)\",\"rgba(128, 128, 0, 0.38666666666666655)\",\"rgba(251, 128, 114, 0.38666666666666655)\",\"rgba(128, 177, 211, 0.38666666666666655)\",\"rgba(255, 153, 51, 0.38666666666666655)\",\"rgba(55, 128, 191, 0.38666666666666655)\",\"rgba(50, 171, 96, 0.38666666666666655)\",\"rgba(128, 0, 128, 0.38666666666666655)\",\"rgba(219, 64, 82, 0.38666666666666655)\",\"rgba(0, 128, 128, 0.38666666666666655)\",\"rgba(255, 255, 51, 0.38666666666666655)\",\"rgba(255, 255, 51, 0.35999999999999993)\",\"rgba(128, 128, 0, 0.35999999999999993)\",\"rgba(251, 128, 114, 0.35999999999999993)\",\"rgba(128, 177, 211, 0.35999999999999993)\",\"rgba(255, 153, 51, 0.35999999999999993)\",\"rgba(55, 128, 191, 0.35999999999999993)\",\"rgba(50, 171, 96, 0.35999999999999993)\",\"rgba(128, 0, 128, 0.35999999999999993)\",\"rgba(219, 64, 82, 0.35999999999999993)\",\"rgba(0, 128, 128, 0.35999999999999993)\",\"rgba(0, 128, 128, 0.3333333333333333)\",\"rgba(255, 255, 51, 0.3333333333333333)\",\"rgba(128, 128, 0, 0.3333333333333333)\",\"rgba(251, 128, 114, 0.3333333333333333)\",\"rgba(128, 177, 211, 0.3333333333333333)\",\"rgba(255, 153, 51, 0.3333333333333333)\",\"rgba(55, 128, 191, 0.3333333333333333)\",\"rgba(50, 171, 96, 0.3333333333333333)\",\"rgba(128, 0, 128, 0.3333333333333333)\",\"rgba(219, 64, 82, 0.3333333333333333)\",\"rgba(219, 64, 82, 0.3066666666666665)\",\"rgba(0, 128, 128, 0.3066666666666665)\",\"rgba(255, 255, 51, 0.3066666666666665)\",\"rgba(128, 128, 0, 0.3066666666666665)\",\"rgba(251, 128, 114, 0.3066666666666665)\",\"rgba(128, 177, 211, 0.3066666666666665)\",\"rgba(255, 153, 51, 0.3066666666666665)\",\"rgba(55, 128, 191, 0.3066666666666665)\",\"rgba(50, 171, 96, 0.3066666666666665)\",\"rgba(128, 0, 128, 0.3066666666666665)\",\"rgba(128, 0, 128, 0.27999999999999986)\",\"rgba(219, 64, 82, 0.27999999999999986)\",\"rgba(0, 128, 128, 0.27999999999999986)\",\"rgba(255, 255, 51, 0.27999999999999986)\",\"rgba(128, 128, 0, 0.27999999999999986)\",\"rgba(251, 128, 114, 0.27999999999999986)\",\"rgba(128, 177, 211, 0.27999999999999986)\",\"rgba(255, 153, 51, 0.27999999999999986)\",\"rgba(55, 128, 191, 0.27999999999999986)\",\"rgba(50, 171, 96, 0.27999999999999986)\",\"rgba(50, 171, 96, 0.25333333333333324)\",\"rgba(128, 0, 128, 0.25333333333333324)\",\"rgba(219, 64, 82, 0.25333333333333324)\",\"rgba(0, 128, 128, 0.25333333333333324)\",\"rgba(255, 255, 51, 0.25333333333333324)\",\"rgba(128, 128, 0, 0.25333333333333324)\",\"rgba(251, 128, 114, 0.25333333333333324)\",\"rgba(128, 177, 211, 0.25333333333333324)\",\"rgba(255, 153, 51, 0.25333333333333324)\",\"rgba(55, 128, 191, 0.25333333333333324)\",\"rgba(55, 128, 191, 0.22666666666666663)\",\"rgba(50, 171, 96, 0.22666666666666663)\",\"rgba(128, 0, 128, 0.22666666666666663)\",\"rgba(219, 64, 82, 0.22666666666666663)\",\"rgba(0, 128, 128, 0.22666666666666663)\",\"rgba(255, 255, 51, 0.22666666666666663)\",\"rgba(128, 128, 0, 0.22666666666666663)\",\"rgba(251, 128, 114, 0.22666666666666663)\",\"rgba(128, 177, 211, 0.22666666666666663)\",\"rgba(255, 153, 51, 0.22666666666666663)\"],\"opacity\":0.8,\"size\":[12,12,12,12,12,12,12,12,12,12,12,12,12,12,12,12,12,12,12,12,12,12,12,12,12,12,12,12,12,12,12,12,12,12,12,12,12,12,12,12,12,12,12,12,12,12,12,12,12,12,12,12,12,12,12,12,12,12,12,12,12,12,12,12,12,12,12,12,12,12,12,12,12,12,12,12,12,12,12,12,12,12,12,12,12,12,12,12,12,12,12,12,12,12,12,12,12,12,12,12,12,12,12,12,12,12,12,12,12,12,12,12,12,12,12,12,12,12,12,12,12,12,12,12,12,12,12,12,12,12,12,12,12,12,12,12,12,12,12,12,12,12,12,12,12,12,12,12,12,12,12,12,12,12,12,12,12,12,12,12,12,12,12,12,12,12,12,12,12,12,12,12,12,12,12,12,12,12,12,12,12,12,12,12,12,12,12,12,12,12,12,12,12,12,12,12,12,12,12,12,12,12,12,12,12,12,12,12,12,12,12,12,12,12,12,12,12,12,12,12,12,12,12,12,12,12,12,12,12,12,12,12,12,12,12,12,12,12,12,12,12,12,12,12,12,12,12,12,12,12,12,12,12,12,12,12,12,12,12,12,12,12,12,12,12,12,12,12,12,12,12,12,12,12,12,12,12,12,12,12,12,12,12,12,12,12,12,12,12,12,12,12,12,12,12,12,12,12,12,12],\"symbol\":\"circle\"},\"mode\":\"markers\",\"text\":[\"0\",\"1\",\"2\",\"3\",\"4\",\"5\",\"6\",\"7\",\"8\",\"9\",\"10\",\"11\",\"12\",\"13\",\"14\",\"15\",\"16\",\"17\",\"18\",\"19\",\"20\",\"21\",\"22\",\"23\",\"24\",\"25\",\"26\",\"27\",\"28\",\"29\",\"30\",\"31\",\"32\",\"33\",\"34\",\"35\",\"36\",\"37\",\"38\",\"39\",\"40\",\"41\",\"42\",\"43\",\"44\",\"45\",\"46\",\"47\",\"48\",\"49\",\"50\",\"51\",\"52\",\"53\",\"54\",\"55\",\"56\",\"57\",\"58\",\"59\",\"60\",\"61\",\"62\",\"63\",\"64\",\"65\",\"66\",\"67\",\"68\",\"69\",\"70\",\"71\",\"72\",\"73\",\"74\",\"75\",\"76\",\"77\",\"78\",\"79\",\"80\",\"81\",\"82\",\"83\",\"84\",\"85\",\"86\",\"87\",\"88\",\"89\",\"90\",\"91\",\"92\",\"93\",\"94\",\"95\",\"96\",\"97\",\"98\",\"99\",\"100\",\"101\",\"102\",\"103\",\"104\",\"105\",\"106\",\"107\",\"108\",\"109\",\"110\",\"111\",\"112\",\"113\",\"114\",\"115\",\"116\",\"117\",\"118\",\"119\",\"120\",\"121\",\"122\",\"123\",\"124\",\"125\",\"126\",\"127\",\"128\",\"129\",\"130\",\"131\",\"132\",\"133\",\"134\",\"135\",\"136\",\"137\",\"138\",\"139\",\"140\",\"141\",\"142\",\"143\",\"144\",\"145\",\"146\",\"147\",\"148\",\"149\",\"150\",\"151\",\"152\",\"153\",\"154\",\"155\",\"156\",\"157\",\"158\",\"159\",\"160\",\"161\",\"162\",\"163\",\"164\",\"165\",\"166\",\"167\",\"168\",\"169\",\"170\",\"171\",\"172\",\"173\",\"174\",\"175\",\"176\",\"177\",\"178\",\"179\",\"180\",\"181\",\"182\",\"183\",\"184\",\"185\",\"186\",\"187\",\"188\",\"189\",\"190\",\"191\",\"192\",\"193\",\"194\",\"195\",\"196\",\"197\",\"198\",\"199\",\"200\",\"201\",\"202\",\"203\",\"204\",\"205\",\"206\",\"207\",\"208\",\"209\",\"210\",\"211\",\"212\",\"213\",\"214\",\"215\",\"216\",\"217\",\"218\",\"219\",\"220\",\"221\",\"222\",\"223\",\"224\",\"225\",\"226\",\"227\",\"228\",\"229\",\"230\",\"231\",\"232\",\"233\",\"234\",\"235\",\"236\",\"237\",\"238\",\"239\",\"240\",\"241\",\"242\",\"243\",\"244\",\"245\",\"246\",\"247\",\"248\",\"249\",\"250\",\"251\",\"252\",\"253\",\"254\",\"255\",\"256\",\"257\",\"258\",\"259\",\"260\",\"261\",\"262\",\"263\",\"264\",\"265\",\"266\",\"267\",\"268\",\"269\",\"270\",\"271\",\"272\",\"273\",\"274\",\"275\",\"276\",\"277\",\"278\",\"279\",\"280\",\"281\",\"282\",\"283\",\"284\",\"285\",\"286\",\"287\",\"288\",\"289\",\"290\",\"291\",\"292\",\"293\",\"294\",\"295\",\"296\",\"297\",\"298\",\"299\"],\"x\":[0.47482107055717093,0.022744992998465663,0.34965575642374824,0.050582705841130005,0.7324727447837143,0.4736171827792899,0.4235797704094907,0.6345707915433778,0.12568659908177526,0.2896321213032911,0.17088912300328862,0.25935460493710205,0.8655022992544924,0.47701901826994364,0.3934422546095585,0.02979142461757256,0.002566716161290228,0.3166079537294344,0.7760784033006114,0.47314992909497366,0.4665843790892156,0.3767476702177014,0.9863130592820786,0.0838253235183245,0.8237859894783512,0.6346361768733595,0.0017415467035057919,0.757988609089601,0.2682699633626463,0.30396713684719234,0.9371908423632099,0.48938637624916415,0.35691409390546425,0.7000876789523454,0.15256417970666436,0.7370395195613186,0.019850588753494547,0.07350097022162883,0.19382038357495923,0.09631222215884361,0.9562041071278232,0.6184656040760903,0.35728682794125277,0.6814972974328488,0.8171253937569428,0.4210882860174837,0.5068296269165151,0.4907375371592513,0.012455274128412963,0.7687594906051284,0.08857673554970402,0.45100693743996423,0.481692322718978,0.2303177726083251,0.6640905388626966,0.35652891187045754,0.10887052885485382,0.9205523141597386,0.6288938273401641,0.9812390192670004,0.05374136899349746,0.8536596498675331,0.7179502507707786,0.7731201410541226,0.26177393280827577,0.623417562683179,0.2054116789949425,0.7410747506640553,0.4352102841144635,0.5669959529092975,0.12415239384058807,0.6364886556235708,0.03136044983076669,0.5637094574958503,0.1817863622607162,0.2648574749532917,0.8508539681587134,0.2537455176320751,0.256164267280347,0.9208997071361003,0.45902818085933306,0.2893649112646679,0.8991269366110506,0.8212203133765642,0.7167872558697288,0.9833429803479374,0.7312375952677105,0.11850064236657676,0.7915167650975117,0.5557425025361381,0.9627821019453204,0.5992826270810888,0.41629739381202535,0.6692938667109307,0.12266372210492515,0.8760249245234724,0.001619039440319603,0.959462975500171,0.6428067474538932,0.14187376374701366,0.6141521981751712,0.6981406784257553,0.30700433335644906,0.7107184381051801,0.9199571889082038,0.34411885024569155,0.5367614249513882,0.17477853430047285,0.7990196015128801,0.6641646870319609,0.1068338117140668,0.772958439263793,0.7012431605519106,0.493856285911466,0.36647569999675444,0.6925179999210423,0.08529652474022786,0.08427131906763319,0.6242410376250069,0.25974677499776344,0.7416703343765733,0.6623397101591515,0.1773471798131342,0.20394506047584737,0.9478985248240795,0.791839180691597,0.4875249277892547,0.9711189333628899,0.6698065717298204,0.29510624195698376,0.4752050026423066,0.5894251647771837,0.2162863875317904,0.5528931434964268,0.08027043850689741,0.9835899756730196,0.8424915145833262,0.30306061043579313,0.19178342651783797,0.444471250748657,0.3567994645200806,0.8054094732594915,0.8024997510718613,0.8475160058766064,0.1833944150074256,0.07929465736159447,0.5198272826585038,0.025442895307380753,0.5542962383898646,0.7509753275424956,0.755888821060355,0.2830795992709918,0.8772608968744865,0.41510467231090964,0.9665682870497206,0.4000467508349297,0.12081580246684087,0.7499111966776368,0.4681745164699931,0.43087531398425083,0.02333154789734504,0.5188824916039056,0.2274201004318882,0.9762375568850116,0.44923485020098897,0.07215689378626367,0.09316802728639162,0.9007888342397397,0.3284321392224844,0.008175502003338275,0.20550450408612675,0.13518995648754295,0.6295651352594548,0.7981245539235114,0.9774582077263095,0.44894204797277026,0.18671233835680423,0.051929925703080526,0.23926677547707265,0.4381753185856039,0.8260184638525279,0.6768318135595939,0.5216356436505741,0.5873704549927811,0.1927717004774846,0.5469981777021223,0.9139876708498363,0.6126117967996896,0.9554137347970895,0.26721213503487307,0.9420483546032532,0.020145200071438718,0.0648086435063221,0.8006776959802284,0.23733518023114641,0.528098684729944,0.0052771866034453385,0.6281707396813268,0.039238014475586946,0.2553661164126647,0.6906119602186486,0.4620622365046072,0.23378074584859798,0.26214926578090103,0.8186467197969274,0.5084277824151813,0.9214925610264566,0.7755266772452707,0.7893982957693381,0.02183896802737917,0.11324817488963013,0.2500712798910729,0.0768138032193807,0.9678346751485682,0.8810676919016801,0.11018339691939949,0.31522963438979235,0.9086635040222685,0.5910633400059739,0.859080556913498,0.1705180069750345,0.5575806294533568,0.18481845732712598,0.36845903435141636,0.7688502099865797,0.0580382325490757,0.9342246343121018,0.9770536558327949,0.1258317317998745,0.7345052661899085,0.519449919949619,0.4328019456226144,0.8183965455228954,0.7985219311091447,0.8938166347881066,0.15423492484422885,0.922285389163017,0.5931162639311209,0.47946838618588905,0.1321227015335522,0.3700624410806327,0.8064541393088313,0.7780466425201902,0.09890945535659779,0.1442613658697881,0.9580095767327714,0.6117372226273942,0.816928058598567,0.6125227906509008,0.05042856162596976,0.7469224145549039,0.18354781878224047,0.2003838186594611,0.28127212155053716,0.20092426684307474,0.4509151958412547,0.6079210069358452,0.708619994843216,0.8259892956860583,0.9245172210347146,0.6679819175088606,0.6965411748141463,0.08324983351026072,0.04348319525609701,0.8956880689053727,0.15575117990718523,0.9380916809970459,0.23963060200878616,0.5565096665214418,0.46034934555963336,0.1985561808599844,0.7542836125555591,0.3234258508840808,0.7313102286076045,0.13867738125056184,0.3653017246306275,0.3390932908429488,0.3278179796685985,0.18736510994416877,0.25542644845041385,0.25093255211296517,0.3698277538035841,0.33771016931667885,0.8441206199457392,0.45875558114776305,0.5264146271521785,0.12245175065119229,0.522316374109928,0.08334787526178444,0.5207320484383471,0.7925158967661694,0.7895400814875833,0.436494780316141,0.6828435862801495,0.3771516713362748,0.32720024027863226,0.8188096173215992,0.9481130538471394,0.9456013970315679,0.10580629804514319],\"y\":[0.5674697018954408,0.0057114332930738865,0.7526778926633678,0.15004940031100844,0.9192716655704084,0.8500013015367113,0.3182675582703668,0.20149664978879045,0.8026595060572262,0.6567443223596013,0.6075333616090873,0.14871352417516537,0.9827737311334794,0.2506557335969908,0.891208064425043,0.3040434436633208,0.4680391342895617,0.1907494344912093,0.6762932065708069,0.8898643615775239,0.9936223283548352,0.21534335662207116,0.6821197375778542,0.7399962378332154,0.806667379379845,0.8985070401509258,0.3212124735377445,0.17903721163144692,0.1348015133246412,0.22468241059325555,0.46365793866588234,0.8925623417527347,0.5701691394902099,0.7799037343826494,0.7901041044774665,0.0008262355265779009,0.1933956219857339,0.3630226206459878,0.7350741303173864,0.15128959462693103,0.3558659427108697,0.5489406678553447,0.633621177591484,0.9857206516818054,0.596308137810859,0.850767380543469,0.4831204571496013,0.34482045493488245,0.6296628800290847,0.6205586880226189,0.23961633314275144,0.2555696972411895,0.633920215420085,0.017126484868807523,0.7043281996574462,0.8603392570210264,0.3654022493528344,0.33868436917770794,0.2175293457852674,0.4456196321426854,0.40019570744793187,0.12918949554820236,0.37259936025328844,0.1390375216859422,0.1656032322348472,0.9742690152989216,0.6604345096778471,0.5612810607170051,0.9292697734166492,0.8986969678606368,0.9491860290733568,0.5042314727791876,0.14053774530468743,0.2808621366375136,0.6110061189010364,0.04341290671729081,0.6678050071354795,0.7099089558431944,0.31208747243033874,0.340374314698084,0.8909094448752806,0.11294021894393458,0.4379592035088108,0.16157123613470215,0.11075555698535988,0.5479964948663212,0.7335972136922637,0.9161569025174251,0.5668703601687899,0.7276154429380635,0.8269840107487858,0.4445070172104634,0.2818508701869987,0.2512845433018248,0.8949775621636872,0.875192729639007,0.8139676551199532,0.12313097243273496,0.2164268236867949,0.74399691849857,0.11796310141101429,0.15490717746808547,0.2902426141599993,0.3665753413673726,0.5040003981339627,0.22303400831592646,0.7286369696399495,0.2995837077472385,0.5789346793139822,0.352300808507122,0.5264892136216431,0.3727744544026924,0.6861450156788559,0.5321287688552677,0.12293358036842317,0.3529255196745832,0.41842184451840203,0.4941476045731341,0.3398949996925704,0.5078944593750052,0.16597782203167533,0.05566630527792693,0.5681434950235296,0.12170893079093703,0.5732044291378219,0.3897804101963087,0.5510280112012982,0.4619913038329113,0.7394718450229466,0.5299864668928008,0.8423200625527795,0.3824763975294271,0.7934517021579565,0.7868428369924075,0.6310946781100861,0.8861373858306665,0.877215731690747,0.46256294528814446,0.4241128069334529,0.4753363437164265,0.37581613362367816,0.08688775860315034,0.1638680140264699,0.5225014353266271,0.3724975617585148,0.3767027823704516,0.51197720105966,0.624367366971622,0.36619054722449373,0.7822380399148081,0.5832127032390656,0.9797701538747629,0.8234503985878605,0.22355681716809606,0.7289066417141288,0.05349003730968871,0.9634301398631686,0.9410529025902141,0.6236846747632229,0.8967030119841978,0.526682292133339,0.09091490946982417,0.639034668391818,0.5095143709315338,0.4856157115725698,0.4479803667915022,0.1465943042054354,0.1329343916861324,0.7261919823712204,0.1393994063892514,0.26072345597348745,0.3599851518727132,0.15623801325207232,0.5633675856248175,0.5261494245070905,0.06960137055468063,0.9387097566048845,0.038127943377681106,0.39389791605298563,0.11111651471086448,0.893236019297892,0.3085422377302883,0.08011876207809532,0.6932850847778467,0.40854015575771707,0.11235388871652408,0.7921349361568808,0.4122805914097222,0.09041854324960741,0.9201573848888718,0.37980584741542134,0.5081413787497511,0.47484774192862444,0.039815391551774604,0.5085658595205418,0.042826505823376104,0.7581651255351565,0.10762612610696187,0.6804180344666642,0.40985358277749107,0.7817514466203233,0.2689769206425392,0.24572157014160823,0.52641381759772,0.4802414749064303,0.047552795896346534,0.8678002704935425,0.7846381474462071,0.8676528169054539,0.8944959530141426,0.7087167711515295,0.4229517587991616,0.8050461518949977,0.6228465427903684,0.9310392608563977,0.9057189009114642,0.183560428145647,0.6606789673922473,0.16020663078814834,0.04056756474385137,0.32643812542123296,0.21341555746390073,0.798517410095639,0.9972751455081247,0.7603605666606782,0.168626339403547,0.6824898182370939,0.8009715374102602,0.8140952448393334,0.3278653673141996,0.3650959966829186,0.6633785759418956,0.7320699720639536,0.4724836642803131,0.16944077911607258,0.861175008885987,0.6209591997361268,0.2419321565505944,0.25804207008697166,0.4458108921695455,0.5081978526141528,0.2672888685156142,0.24008481632156742,0.006041942617098783,0.9463544792769367,0.5501050268854978,0.6139470728403116,0.5004416035627288,0.09964407198810998,0.7144726016977685,0.2933227586251691,0.4249129006493393,0.042488272279686656,0.019039304519796962,0.34726273991568946,0.10991527464236817,0.23813976453360397,0.9475572208305258,0.3249658470556672,0.17801012007121553,0.22304184862356746,0.8168427129673662,0.5436727612171519,0.8430883425787868,0.2440774879512223,0.08328778140339943,0.603305918281125,0.5357450180883058,0.4953969938383972,0.9136886017249192,0.9010471958976729,0.24754535531853372,0.08227692652297369,0.7123810988126739,0.6176905130305343,0.22588907522195734,0.24257949637117804,0.04417188237125946,0.3125876675925683,0.18971723372918392,0.2893858257933697,0.32120414980372414,0.49252311589119735,0.9939928430317593,0.7438758916343821,0.5855022541293459,0.2687434770184909,0.740257845529142,0.7074601718604491,0.8547180023208708,0.8376646291208019,0.2148636642181121,0.22992633157911535,0.15475382224205259,0.11887715903975293,0.311356975273699,0.06474188440151563,0.3705353891172112,0.5192360163257088,0.28933305063158565],\"z\":[0.8610039534368809,0.12469354446849534,0.10898150741065793,0.5676411639085307,0.2372590614374156,0.7365369034877873,0.30304299265792545,0.8776588235837074,0.6979815602904451,0.6952138054835753,0.7881935887352837,0.7693077963958879,0.1547082312074609,0.6876829202231112,0.8414119099534403,0.934346872764777,0.2732269595538468,0.9561920707800599,0.18438853535283506,0.11319756107269796,0.7297682521898844,0.46917970520529295,0.9343452636570991,0.2358738507347803,0.005407212091053326,0.9915597846273728,0.44795166153365473,0.20632463307869753,0.3167575009826694,0.37185020755362685,0.909118403540496,0.7984945190296149,0.19031808378442538,0.5563833522736927,0.6738723529022967,0.748212439591208,0.05930345276927329,0.07647155381301152,0.24569446470166134,0.8727671593336832,0.40903495824956226,0.06220590732240183,0.32249860541214115,0.5388702063107571,0.48524557646120114,0.4457365309358977,0.3622303880443819,0.673116535759715,0.8282412170423921,0.6075653434398458,0.7560071744373507,0.5487739370815385,0.1269208519930256,0.49537378763038287,0.8561641498313668,0.8592784307922876,0.3571122304904242,0.6056154834128022,0.6352627781121296,0.8741820715063144,0.053153158457917016,0.4308449188087161,0.7863937404896342,0.39012008322083747,0.1083008561183264,0.9720995041515333,0.5481376086657871,0.5436176679788596,0.6069268109506166,0.4290624915228016,0.018691788258968445,0.7535855703666412,0.37463153441997654,0.18745817546577892,0.36406334577325017,0.5790885607839579,0.07415765440948374,0.28634702667192447,0.45152383205960867,0.0999648484909682,0.06536456359099174,0.9044334248491033,0.041537630758654354,0.6465351960171949,0.4436818719963881,0.31807077992892496,0.4439139474682843,0.8020539063438638,0.11103656139214757,0.08685330976869443,0.5203690492550339,0.735036423414055,0.7621222457154161,0.6725690485026959,0.9980526474746125,0.10882982350242298,0.9816740881549294,0.8412483031961915,0.3493042669118941,0.7488451587951191,0.7388050187357392,0.1301800644721598,0.7460232680805727,0.8255316678997419,0.9696405291714005,0.13683771685381552,0.6453337063230049,0.7027695414621621,0.7210573512419305,0.388523805415133,0.6162220045093373,0.5172974225974376,0.6804101396498916,0.31214884866625703,0.8998706610065156,0.19919808518546733,0.7253230455925868,0.757215638631078,0.2497508894638325,0.8419621130077345,0.06455953995829977,0.06558725654176656,0.068007274017576,0.6898422505340498,0.8492584592129234,0.2429569638149297,0.8099330549345118,0.9398606850694081,0.29664477692411206,0.00659891026536874,0.22194240628290884,0.18060619708345682,0.18817348885434415,0.23115508238786797,0.10084564078192115,0.16376855851589112,0.19071504314346288,0.45010055534888804,0.38888024076166006,0.2820332687433196,0.8741688572397798,0.4586608316124614,0.15609892217004806,0.11867398397006312,0.19063269165250496,0.9757761651289049,0.6564882396394075,0.3185053251589415,0.22989067628769455,0.9653355512912546,0.8822998386064076,0.42885849772205575,0.6898386761522296,0.11823473377701299,0.02974568157988211,0.5495527881735442,0.2959038282123603,0.8062240169986349,0.7263594902465774,0.7747285907041904,0.6354819265839765,0.06204837762603843,0.34789577576011654,0.8203779474637466,0.30698869107085314,0.7038188979149899,0.6130178340114883,0.04215344206997418,0.30851844811118956,0.015860122524486764,0.9521649093598932,0.40512741200041813,0.7647096294349047,0.5289536870564797,0.7948856076475965,0.5539535239526774,0.49696372730726646,0.23525508606202072,0.09783845179687078,0.5618632049599442,0.5561434969287198,0.3502295985843581,0.3530812484401843,0.6008863757829893,0.6159136133351211,0.9629123980618831,0.03274824076348404,0.8939594162935508,0.17613090952201393,0.5717251978252611,0.8028476938243237,0.06913619921031722,0.49607134440006306,0.28465149554554636,0.7628687649184308,0.32157945934114074,0.919942205272734,0.08712417059469235,0.4751050823151066,0.3223717515175907,0.16824371344715816,0.8927065219212921,0.9463614986824992,0.6871655899523271,0.21684749356276256,0.3819716876462982,0.813492724858367,0.7099649474605577,0.06296415779105191,0.588487863926771,0.6821783916043104,0.5606362597477899,0.2810753806681485,0.4128741116041147,0.05588574123927792,0.839834695547922,0.09437825861382343,0.8540353594408645,0.3276388294197392,0.2543992517348337,0.0003070093726064149,0.40802620268925605,0.12805091059478335,0.15125199913111553,0.5435484180439142,0.552218898423984,0.25185971315142075,0.8645273892266647,0.1348489802505991,0.4691961061239165,0.5594008447510018,0.8923510386645441,0.6306817114547021,0.2247097375559729,0.8091944367955959,0.10797203400419564,0.19855441005844765,0.1474391477014544,0.17284115288854585,0.3587522311148189,0.37248168699504025,0.9705494198577924,0.4507487364512338,0.6867239591397175,0.11496611216741603,0.562466801600347,0.6587457302841753,0.5873266553432547,0.259791439274189,0.5646925960714965,0.7079556079639844,0.31972406641664763,0.8011927662238711,0.629257709475475,0.47582908573932625,0.4379053818013747,0.8067909865284881,0.34147213338587157,0.229854900989652,0.8030705921433867,0.3784478338514162,0.8687773671911388,0.008983915365178397,0.06778916992603867,0.8022531015943136,0.752419375874719,0.399718945345763,0.7207998194454485,0.030308676505328758,0.47877587834127844,0.6002222252395233,0.8323029914809585,0.6126291055110312,0.8122835654641265,0.22199226617569434,0.15269357844634912,0.39416148211883173,0.38058135573209395,0.9314138820383796,0.7419251016818772,0.5207408143274366,0.9133541847529004,0.3598581172770202,0.3950851136159851,0.5174724955662197,0.8951587125498586,0.9791769578359371,0.03533036383532584,0.7783279183747276,0.7005711682079513,0.545311924207201,0.9043280085166198,0.05574982187386002,0.8473927730172551,0.7349034669575281,0.21129803650812262,0.9039090511694207,0.22806915503711978,0.37609812007738086,0.20822495348281567],\"type\":\"scatter3d\"}],                        {\"legend\":{\"bgcolor\":\"#F5F6F9\",\"font\":{\"color\":\"#4D5663\"}},\"paper_bgcolor\":\"#F5F6F9\",\"plot_bgcolor\":\"#F5F6F9\",\"scene\":{\"xaxis\":{\"gridcolor\":\"#9499A3\",\"showgrid\":true,\"tickfont\":{\"color\":\"#4D5663\"},\"title\":{\"font\":{\"color\":\"#4D5663\"},\"text\":\"\"},\"zerolinecolor\":\"#9499A3\"},\"yaxis\":{\"gridcolor\":\"#9499A3\",\"showgrid\":true,\"tickfont\":{\"color\":\"#4D5663\"},\"title\":{\"font\":{\"color\":\"#4D5663\"},\"text\":\"\"},\"zerolinecolor\":\"#9499A3\"},\"zaxis\":{\"gridcolor\":\"#9499A3\",\"showgrid\":true,\"tickfont\":{\"color\":\"#4D5663\"},\"title\":{\"font\":{\"color\":\"#4D5663\"},\"text\":\"\"},\"zerolinecolor\":\"#9499A3\"}},\"template\":{\"data\":{\"barpolar\":[{\"marker\":{\"line\":{\"color\":\"#E5ECF6\",\"width\":0.5},\"pattern\":{\"fillmode\":\"overlay\",\"size\":10,\"solidity\":0.2}},\"type\":\"barpolar\"}],\"bar\":[{\"error_x\":{\"color\":\"#2a3f5f\"},\"error_y\":{\"color\":\"#2a3f5f\"},\"marker\":{\"line\":{\"color\":\"#E5ECF6\",\"width\":0.5},\"pattern\":{\"fillmode\":\"overlay\",\"size\":10,\"solidity\":0.2}},\"type\":\"bar\"}],\"carpet\":[{\"aaxis\":{\"endlinecolor\":\"#2a3f5f\",\"gridcolor\":\"white\",\"linecolor\":\"white\",\"minorgridcolor\":\"white\",\"startlinecolor\":\"#2a3f5f\"},\"baxis\":{\"endlinecolor\":\"#2a3f5f\",\"gridcolor\":\"white\",\"linecolor\":\"white\",\"minorgridcolor\":\"white\",\"startlinecolor\":\"#2a3f5f\"},\"type\":\"carpet\"}],\"choropleth\":[{\"colorbar\":{\"outlinewidth\":0,\"ticks\":\"\"},\"type\":\"choropleth\"}],\"contourcarpet\":[{\"colorbar\":{\"outlinewidth\":0,\"ticks\":\"\"},\"type\":\"contourcarpet\"}],\"contour\":[{\"colorbar\":{\"outlinewidth\":0,\"ticks\":\"\"},\"colorscale\":[[0.0,\"#0d0887\"],[0.1111111111111111,\"#46039f\"],[0.2222222222222222,\"#7201a8\"],[0.3333333333333333,\"#9c179e\"],[0.4444444444444444,\"#bd3786\"],[0.5555555555555556,\"#d8576b\"],[0.6666666666666666,\"#ed7953\"],[0.7777777777777778,\"#fb9f3a\"],[0.8888888888888888,\"#fdca26\"],[1.0,\"#f0f921\"]],\"type\":\"contour\"}],\"heatmapgl\":[{\"colorbar\":{\"outlinewidth\":0,\"ticks\":\"\"},\"colorscale\":[[0.0,\"#0d0887\"],[0.1111111111111111,\"#46039f\"],[0.2222222222222222,\"#7201a8\"],[0.3333333333333333,\"#9c179e\"],[0.4444444444444444,\"#bd3786\"],[0.5555555555555556,\"#d8576b\"],[0.6666666666666666,\"#ed7953\"],[0.7777777777777778,\"#fb9f3a\"],[0.8888888888888888,\"#fdca26\"],[1.0,\"#f0f921\"]],\"type\":\"heatmapgl\"}],\"heatmap\":[{\"colorbar\":{\"outlinewidth\":0,\"ticks\":\"\"},\"colorscale\":[[0.0,\"#0d0887\"],[0.1111111111111111,\"#46039f\"],[0.2222222222222222,\"#7201a8\"],[0.3333333333333333,\"#9c179e\"],[0.4444444444444444,\"#bd3786\"],[0.5555555555555556,\"#d8576b\"],[0.6666666666666666,\"#ed7953\"],[0.7777777777777778,\"#fb9f3a\"],[0.8888888888888888,\"#fdca26\"],[1.0,\"#f0f921\"]],\"type\":\"heatmap\"}],\"histogram2dcontour\":[{\"colorbar\":{\"outlinewidth\":0,\"ticks\":\"\"},\"colorscale\":[[0.0,\"#0d0887\"],[0.1111111111111111,\"#46039f\"],[0.2222222222222222,\"#7201a8\"],[0.3333333333333333,\"#9c179e\"],[0.4444444444444444,\"#bd3786\"],[0.5555555555555556,\"#d8576b\"],[0.6666666666666666,\"#ed7953\"],[0.7777777777777778,\"#fb9f3a\"],[0.8888888888888888,\"#fdca26\"],[1.0,\"#f0f921\"]],\"type\":\"histogram2dcontour\"}],\"histogram2d\":[{\"colorbar\":{\"outlinewidth\":0,\"ticks\":\"\"},\"colorscale\":[[0.0,\"#0d0887\"],[0.1111111111111111,\"#46039f\"],[0.2222222222222222,\"#7201a8\"],[0.3333333333333333,\"#9c179e\"],[0.4444444444444444,\"#bd3786\"],[0.5555555555555556,\"#d8576b\"],[0.6666666666666666,\"#ed7953\"],[0.7777777777777778,\"#fb9f3a\"],[0.8888888888888888,\"#fdca26\"],[1.0,\"#f0f921\"]],\"type\":\"histogram2d\"}],\"histogram\":[{\"marker\":{\"pattern\":{\"fillmode\":\"overlay\",\"size\":10,\"solidity\":0.2}},\"type\":\"histogram\"}],\"mesh3d\":[{\"colorbar\":{\"outlinewidth\":0,\"ticks\":\"\"},\"type\":\"mesh3d\"}],\"parcoords\":[{\"line\":{\"colorbar\":{\"outlinewidth\":0,\"ticks\":\"\"}},\"type\":\"parcoords\"}],\"pie\":[{\"automargin\":true,\"type\":\"pie\"}],\"scatter3d\":[{\"line\":{\"colorbar\":{\"outlinewidth\":0,\"ticks\":\"\"}},\"marker\":{\"colorbar\":{\"outlinewidth\":0,\"ticks\":\"\"}},\"type\":\"scatter3d\"}],\"scattercarpet\":[{\"marker\":{\"colorbar\":{\"outlinewidth\":0,\"ticks\":\"\"}},\"type\":\"scattercarpet\"}],\"scattergeo\":[{\"marker\":{\"colorbar\":{\"outlinewidth\":0,\"ticks\":\"\"}},\"type\":\"scattergeo\"}],\"scattergl\":[{\"marker\":{\"colorbar\":{\"outlinewidth\":0,\"ticks\":\"\"}},\"type\":\"scattergl\"}],\"scattermapbox\":[{\"marker\":{\"colorbar\":{\"outlinewidth\":0,\"ticks\":\"\"}},\"type\":\"scattermapbox\"}],\"scatterpolargl\":[{\"marker\":{\"colorbar\":{\"outlinewidth\":0,\"ticks\":\"\"}},\"type\":\"scatterpolargl\"}],\"scatterpolar\":[{\"marker\":{\"colorbar\":{\"outlinewidth\":0,\"ticks\":\"\"}},\"type\":\"scatterpolar\"}],\"scatter\":[{\"fillpattern\":{\"fillmode\":\"overlay\",\"size\":10,\"solidity\":0.2},\"type\":\"scatter\"}],\"scatterternary\":[{\"marker\":{\"colorbar\":{\"outlinewidth\":0,\"ticks\":\"\"}},\"type\":\"scatterternary\"}],\"surface\":[{\"colorbar\":{\"outlinewidth\":0,\"ticks\":\"\"},\"colorscale\":[[0.0,\"#0d0887\"],[0.1111111111111111,\"#46039f\"],[0.2222222222222222,\"#7201a8\"],[0.3333333333333333,\"#9c179e\"],[0.4444444444444444,\"#bd3786\"],[0.5555555555555556,\"#d8576b\"],[0.6666666666666666,\"#ed7953\"],[0.7777777777777778,\"#fb9f3a\"],[0.8888888888888888,\"#fdca26\"],[1.0,\"#f0f921\"]],\"type\":\"surface\"}],\"table\":[{\"cells\":{\"fill\":{\"color\":\"#EBF0F8\"},\"line\":{\"color\":\"white\"}},\"header\":{\"fill\":{\"color\":\"#C8D4E3\"},\"line\":{\"color\":\"white\"}},\"type\":\"table\"}]},\"layout\":{\"annotationdefaults\":{\"arrowcolor\":\"#2a3f5f\",\"arrowhead\":0,\"arrowwidth\":1},\"autotypenumbers\":\"strict\",\"coloraxis\":{\"colorbar\":{\"outlinewidth\":0,\"ticks\":\"\"}},\"colorscale\":{\"diverging\":[[0,\"#8e0152\"],[0.1,\"#c51b7d\"],[0.2,\"#de77ae\"],[0.3,\"#f1b6da\"],[0.4,\"#fde0ef\"],[0.5,\"#f7f7f7\"],[0.6,\"#e6f5d0\"],[0.7,\"#b8e186\"],[0.8,\"#7fbc41\"],[0.9,\"#4d9221\"],[1,\"#276419\"]],\"sequential\":[[0.0,\"#0d0887\"],[0.1111111111111111,\"#46039f\"],[0.2222222222222222,\"#7201a8\"],[0.3333333333333333,\"#9c179e\"],[0.4444444444444444,\"#bd3786\"],[0.5555555555555556,\"#d8576b\"],[0.6666666666666666,\"#ed7953\"],[0.7777777777777778,\"#fb9f3a\"],[0.8888888888888888,\"#fdca26\"],[1.0,\"#f0f921\"]],\"sequentialminus\":[[0.0,\"#0d0887\"],[0.1111111111111111,\"#46039f\"],[0.2222222222222222,\"#7201a8\"],[0.3333333333333333,\"#9c179e\"],[0.4444444444444444,\"#bd3786\"],[0.5555555555555556,\"#d8576b\"],[0.6666666666666666,\"#ed7953\"],[0.7777777777777778,\"#fb9f3a\"],[0.8888888888888888,\"#fdca26\"],[1.0,\"#f0f921\"]]},\"colorway\":[\"#636efa\",\"#EF553B\",\"#00cc96\",\"#ab63fa\",\"#FFA15A\",\"#19d3f3\",\"#FF6692\",\"#B6E880\",\"#FF97FF\",\"#FECB52\"],\"font\":{\"color\":\"#2a3f5f\"},\"geo\":{\"bgcolor\":\"white\",\"lakecolor\":\"white\",\"landcolor\":\"#E5ECF6\",\"showlakes\":true,\"showland\":true,\"subunitcolor\":\"white\"},\"hoverlabel\":{\"align\":\"left\"},\"hovermode\":\"closest\",\"mapbox\":{\"style\":\"light\"},\"paper_bgcolor\":\"white\",\"plot_bgcolor\":\"#E5ECF6\",\"polar\":{\"angularaxis\":{\"gridcolor\":\"white\",\"linecolor\":\"white\",\"ticks\":\"\"},\"bgcolor\":\"#E5ECF6\",\"radialaxis\":{\"gridcolor\":\"white\",\"linecolor\":\"white\",\"ticks\":\"\"}},\"scene\":{\"xaxis\":{\"backgroundcolor\":\"#E5ECF6\",\"gridcolor\":\"white\",\"gridwidth\":2,\"linecolor\":\"white\",\"showbackground\":true,\"ticks\":\"\",\"zerolinecolor\":\"white\"},\"yaxis\":{\"backgroundcolor\":\"#E5ECF6\",\"gridcolor\":\"white\",\"gridwidth\":2,\"linecolor\":\"white\",\"showbackground\":true,\"ticks\":\"\",\"zerolinecolor\":\"white\"},\"zaxis\":{\"backgroundcolor\":\"#E5ECF6\",\"gridcolor\":\"white\",\"gridwidth\":2,\"linecolor\":\"white\",\"showbackground\":true,\"ticks\":\"\",\"zerolinecolor\":\"white\"}},\"shapedefaults\":{\"line\":{\"color\":\"#2a3f5f\"}},\"ternary\":{\"aaxis\":{\"gridcolor\":\"white\",\"linecolor\":\"white\",\"ticks\":\"\"},\"baxis\":{\"gridcolor\":\"white\",\"linecolor\":\"white\",\"ticks\":\"\"},\"bgcolor\":\"#E5ECF6\",\"caxis\":{\"gridcolor\":\"white\",\"linecolor\":\"white\",\"ticks\":\"\"}},\"title\":{\"x\":0.05},\"xaxis\":{\"automargin\":true,\"gridcolor\":\"white\",\"linecolor\":\"white\",\"ticks\":\"\",\"title\":{\"standoff\":15},\"zerolinecolor\":\"white\",\"zerolinewidth\":2},\"yaxis\":{\"automargin\":true,\"gridcolor\":\"white\",\"linecolor\":\"white\",\"ticks\":\"\",\"title\":{\"standoff\":15},\"zerolinecolor\":\"white\",\"zerolinewidth\":2}}},\"title\":{\"font\":{\"color\":\"#4D5663\"}}},                        {\"showLink\": true, \"linkText\": \"Export to plot.ly\", \"plotlyServerURL\": \"https://plot.ly\", \"responsive\": true}                    ).then(function(){\n",
       "                            \n",
       "var gd = document.getElementById('e9a3e460-a25d-4f7f-8d94-22244d6538c7');\n",
       "var x = new MutationObserver(function (mutations, observer) {{\n",
       "        var display = window.getComputedStyle(gd).display;\n",
       "        if (!display || display === 'none') {{\n",
       "            console.log([gd, 'removed!']);\n",
       "            Plotly.purge(gd);\n",
       "            observer.disconnect();\n",
       "        }}\n",
       "}});\n",
       "\n",
       "// Listen for the removal of the full notebook cells\n",
       "var notebookContainer = gd.closest('#notebook-container');\n",
       "if (notebookContainer) {{\n",
       "    x.observe(notebookContainer, {childList: true});\n",
       "}}\n",
       "\n",
       "// Listen for the clearing of the current output cell\n",
       "var outputEl = gd.closest('.output');\n",
       "if (outputEl) {{\n",
       "    x.observe(outputEl, {childList: true});\n",
       "}}\n",
       "\n",
       "                        })                };                });            </script>        </div>"
      ]
     },
     "metadata": {},
     "output_type": "display_data"
    }
   ],
   "source": [
    "df.iplot(x = 'a' ,y = 'b',z='c' ,kind='scatter3d')"
   ]
  },
  {
   "cell_type": "code",
   "execution_count": null,
   "id": "181ae440",
   "metadata": {},
   "outputs": [],
   "source": []
  }
 ],
 "metadata": {
  "kernelspec": {
   "display_name": "Python 3 (ipykernel)",
   "language": "python",
   "name": "python3"
  },
  "language_info": {
   "codemirror_mode": {
    "name": "ipython",
    "version": 3
   },
   "file_extension": ".py",
   "mimetype": "text/x-python",
   "name": "python",
   "nbconvert_exporter": "python",
   "pygments_lexer": "ipython3",
   "version": "3.9.10"
  }
 },
 "nbformat": 4,
 "nbformat_minor": 5
}
